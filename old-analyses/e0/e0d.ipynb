{
 "cells": [
  {
   "cell_type": "markdown",
   "metadata": {},
   "source": [
    "# Experiment 0-D\n",
    "\n",
    "This experiment used 483 texts scraped from JSTOR, which have 280 files with text matches. In an effort to make the corpus more diachronic, some of these texts were scraped from decade-based searches, i.e. a search for the keyword \"Middlemarch\" in articles from 1930 to 1939. This experiment was conducted with text-matcher 0.1.4, which fixes the issue with matches cutting off too early. It also uses a threshold of 6 words, in an attempt to avoid false positives. "
   ]
  },
  {
   "cell_type": "code",
   "execution_count": 1,
   "metadata": {
    "collapsed": true
   },
   "outputs": [],
   "source": [
    "import pandas as pd\n",
    "%matplotlib inline\n",
    "from ast import literal_eval\n",
    "import numpy as np\n",
    "import re\n",
    "from matplotlib import pyplot as plt\n",
    "plt.rcParams[\"figure.figsize\"] = [16, 6]"
   ]
  },
  {
   "cell_type": "code",
   "execution_count": 2,
   "metadata": {
    "collapsed": false
   },
   "outputs": [],
   "source": [
    "# Read in the experiment results from the text-matcher log file. \n",
    "df = pd.read_csv('e0d/log.txt')"
   ]
  },
  {
   "cell_type": "code",
   "execution_count": 3,
   "metadata": {
    "collapsed": false
   },
   "outputs": [],
   "source": [
    "def getDate(filename): \n",
    "    \"\"\"\n",
    "    Extract dates from filenames. \n",
    "    \"\"\"\n",
    "    m = re.search('_(\\d{4})_', filename)\n",
    "    if m is not None: \n",
    "        return int(m.group(1))\n",
    "    else:\n",
    "        return None\n",
    "\n",
    "df['Date'] = df['Text B'].apply(getDate)\n",
    "df['Decade'] = df['Date'] - (df['Date'] % 10)"
   ]
  },
  {
   "cell_type": "code",
   "execution_count": 4,
   "metadata": {
    "collapsed": false
   },
   "outputs": [
    {
     "data": {
      "text/html": [
       "<div>\n",
       "<table border=\"1\" class=\"dataframe\">\n",
       "  <thead>\n",
       "    <tr style=\"text-align: right;\">\n",
       "      <th></th>\n",
       "      <th>Text A</th>\n",
       "      <th>Text B</th>\n",
       "      <th>Threshold</th>\n",
       "      <th>N-Grams</th>\n",
       "      <th>Num Matches</th>\n",
       "      <th>Text A Length</th>\n",
       "      <th>Text B Length</th>\n",
       "      <th>Locations in A</th>\n",
       "      <th>Locations in B</th>\n",
       "      <th>Date</th>\n",
       "      <th>Decade</th>\n",
       "    </tr>\n",
       "  </thead>\n",
       "  <tbody>\n",
       "    <tr>\n",
       "      <th>0</th>\n",
       "      <td>middlemarch.txt</td>\n",
       "      <td>e0b/e0b-txt/WOLFE_2002_IRIS MURDOCH APPLIED TO...</td>\n",
       "      <td>6</td>\n",
       "      <td>3</td>\n",
       "      <td>17</td>\n",
       "      <td>1793446</td>\n",
       "      <td>43119</td>\n",
       "      <td>[(539109, 539353), (539391, 539432), (539504, ...</td>\n",
       "      <td>[(26234, 26478), (26481, 26521), (26567, 26802...</td>\n",
       "      <td>2002.0</td>\n",
       "      <td>2000.0</td>\n",
       "    </tr>\n",
       "    <tr>\n",
       "      <th>1</th>\n",
       "      <td>middlemarch.txt</td>\n",
       "      <td>e0b/e0b-txt/Hardy_1954_The Moment of Disenchan...</td>\n",
       "      <td>6</td>\n",
       "      <td>3</td>\n",
       "      <td>3</td>\n",
       "      <td>1793446</td>\n",
       "      <td>20226</td>\n",
       "      <td>[(580711, 580936), (580948, 581020), (1691325,...</td>\n",
       "      <td>[(9662, 9886), (9897, 9969), (19879, 20002)]</td>\n",
       "      <td>1954.0</td>\n",
       "      <td>1950.0</td>\n",
       "    </tr>\n",
       "    <tr>\n",
       "      <th>2</th>\n",
       "      <td>middlemarch.txt</td>\n",
       "      <td>e0b/e0b-txt/MORRIS_1990_THE DIALOGIC UNIVERSE ...</td>\n",
       "      <td>6</td>\n",
       "      <td>3</td>\n",
       "      <td>21</td>\n",
       "      <td>1793446</td>\n",
       "      <td>47530</td>\n",
       "      <td>[(1615, 1964), (29948, 30025), (40132, 40256),...</td>\n",
       "      <td>[(4254, 4605), (5612, 5690), (6239, 6364), (75...</td>\n",
       "      <td>1990.0</td>\n",
       "      <td>1990.0</td>\n",
       "    </tr>\n",
       "    <tr>\n",
       "      <th>3</th>\n",
       "      <td>middlemarch.txt</td>\n",
       "      <td>e0b/e0b-txt/Guth_1999_George Eliot and Schille...</td>\n",
       "      <td>6</td>\n",
       "      <td>3</td>\n",
       "      <td>5</td>\n",
       "      <td>1793446</td>\n",
       "      <td>46745</td>\n",
       "      <td>[(8798, 8850), (8870, 8930), (83611, 83687), (...</td>\n",
       "      <td>[(18049, 18101), (18127, 18188), (19244, 19319...</td>\n",
       "      <td>1999.0</td>\n",
       "      <td>1990.0</td>\n",
       "    </tr>\n",
       "    <tr>\n",
       "      <th>4</th>\n",
       "      <td>middlemarch.txt</td>\n",
       "      <td>e0b/e0b-txt/Payne_1999_The Serialist Vanishes.txt</td>\n",
       "      <td>6</td>\n",
       "      <td>3</td>\n",
       "      <td>4</td>\n",
       "      <td>1793446</td>\n",
       "      <td>60072</td>\n",
       "      <td>[(345200, 345488), (1608886, 1609417), (161169...</td>\n",
       "      <td>[(4009, 4298), (25511, 26041), (26698, 26767),...</td>\n",
       "      <td>1999.0</td>\n",
       "      <td>1990.0</td>\n",
       "    </tr>\n",
       "  </tbody>\n",
       "</table>\n",
       "</div>"
      ],
      "text/plain": [
       "            Text A                                             Text B  \\\n",
       "0  middlemarch.txt  e0b/e0b-txt/WOLFE_2002_IRIS MURDOCH APPLIED TO...   \n",
       "1  middlemarch.txt  e0b/e0b-txt/Hardy_1954_The Moment of Disenchan...   \n",
       "2  middlemarch.txt  e0b/e0b-txt/MORRIS_1990_THE DIALOGIC UNIVERSE ...   \n",
       "3  middlemarch.txt  e0b/e0b-txt/Guth_1999_George Eliot and Schille...   \n",
       "4  middlemarch.txt  e0b/e0b-txt/Payne_1999_The Serialist Vanishes.txt   \n",
       "\n",
       "   Threshold  N-Grams  Num Matches  Text A Length  Text B Length  \\\n",
       "0          6        3           17        1793446          43119   \n",
       "1          6        3            3        1793446          20226   \n",
       "2          6        3           21        1793446          47530   \n",
       "3          6        3            5        1793446          46745   \n",
       "4          6        3            4        1793446          60072   \n",
       "\n",
       "                                      Locations in A  \\\n",
       "0  [(539109, 539353), (539391, 539432), (539504, ...   \n",
       "1  [(580711, 580936), (580948, 581020), (1691325,...   \n",
       "2  [(1615, 1964), (29948, 30025), (40132, 40256),...   \n",
       "3  [(8798, 8850), (8870, 8930), (83611, 83687), (...   \n",
       "4  [(345200, 345488), (1608886, 1609417), (161169...   \n",
       "\n",
       "                                      Locations in B    Date  Decade  \n",
       "0  [(26234, 26478), (26481, 26521), (26567, 26802...  2002.0  2000.0  \n",
       "1       [(9662, 9886), (9897, 9969), (19879, 20002)]  1954.0  1950.0  \n",
       "2  [(4254, 4605), (5612, 5690), (6239, 6364), (75...  1990.0  1990.0  \n",
       "3  [(18049, 18101), (18127, 18188), (19244, 19319...  1999.0  1990.0  \n",
       "4  [(4009, 4298), (25511, 26041), (26698, 26767),...  1999.0  1990.0  "
      ]
     },
     "execution_count": 4,
     "metadata": {},
     "output_type": "execute_result"
    }
   ],
   "source": [
    "df.head()"
   ]
  },
  {
   "cell_type": "code",
   "execution_count": 5,
   "metadata": {
    "collapsed": false
   },
   "outputs": [
    {
     "data": {
      "text/plain": [
       "<matplotlib.axes._subplots.AxesSubplot at 0x7fb92813dda0>"
      ]
     },
     "execution_count": 5,
     "metadata": {},
     "output_type": "execute_result"
    },
    {
     "data": {
      "image/png": "[encoded data removed]",
      "text/plain": [
       "<matplotlib.figure.Figure at 0x7fb92816ed68>"
      ]
     },
     "metadata": {},
     "output_type": "display_data"
    }
   ],
   "source": [
    "df['Date'].hist()"
   ]
  },
  {
   "cell_type": "code",
   "execution_count": 6,
   "metadata": {
    "collapsed": false
   },
   "outputs": [
    {
     "data": {
      "text/plain": [
       "1793446"
      ]
     },
     "execution_count": 6,
     "metadata": {},
     "output_type": "execute_result"
    }
   ],
   "source": [
    "textALength = df['Text A Length'][0]\n",
    "textALength"
   ]
  },
  {
   "cell_type": "code",
   "execution_count": 7,
   "metadata": {
    "collapsed": false
   },
   "outputs": [],
   "source": [
    "decades = np.arange(1950, 2020, 10)"
   ]
  },
  {
   "cell_type": "code",
   "execution_count": 8,
   "metadata": {
    "collapsed": false,
    "scrolled": true
   },
   "outputs": [],
   "source": [
    "# Make a dictionary of decades. \n",
    "# Values are a list of locations.  \n",
    "decadeDict = {}\n",
    "for i, row in df.iterrows():\n",
    "    decade = row['Decade']\n",
    "    locations = literal_eval(row['Locations in A'])\n",
    "    if decade not in decadeDict: \n",
    "        decadeDict[decade] = locations\n",
    "    else: \n",
    "        decadeDict[decade] += locations "
   ]
  },
  {
   "cell_type": "code",
   "execution_count": 9,
   "metadata": {
    "collapsed": false,
    "scrolled": true
   },
   "outputs": [],
   "source": [
    "# Grab the beginnings of quotes. \n",
    "decadeStarts = {decade: [item[0] for item in loc] for decade, loc in decadeDict.items()}"
   ]
  },
  {
   "cell_type": "code",
   "execution_count": 10,
   "metadata": {
    "collapsed": false
   },
   "outputs": [],
   "source": [
    "decadesBinned = {decade: \n",
    "                 np.histogram(locations, bins=50, range=(0, textALength))[0]\n",
    "                 for decade, locations in decadeStarts.items() if decade in decades}"
   ]
  },
  {
   "cell_type": "code",
   "execution_count": 11,
   "metadata": {
    "collapsed": false,
    "scrolled": true
   },
   "outputs": [],
   "source": [
    "decadesDF = pd.DataFrame(decadesBinned).T"
   ]
  },
  {
   "cell_type": "code",
   "execution_count": 12,
   "metadata": {
    "collapsed": false
   },
   "outputs": [
    {
     "data": {
      "text/html": [
       "<div>\n",
       "<table border=\"1\" class=\"dataframe\">\n",
       "  <thead>\n",
       "    <tr style=\"text-align: right;\">\n",
       "      <th></th>\n",
       "      <th>0</th>\n",
       "      <th>1</th>\n",
       "      <th>2</th>\n",
       "      <th>3</th>\n",
       "      <th>4</th>\n",
       "      <th>5</th>\n",
       "      <th>6</th>\n",
       "      <th>7</th>\n",
       "      <th>8</th>\n",
       "      <th>9</th>\n",
       "      <th>...</th>\n",
       "      <th>40</th>\n",
       "      <th>41</th>\n",
       "      <th>42</th>\n",
       "      <th>43</th>\n",
       "      <th>44</th>\n",
       "      <th>45</th>\n",
       "      <th>46</th>\n",
       "      <th>47</th>\n",
       "      <th>48</th>\n",
       "      <th>49</th>\n",
       "    </tr>\n",
       "  </thead>\n",
       "  <tbody>\n",
       "    <tr>\n",
       "      <th>1950.0</th>\n",
       "      <td>5</td>\n",
       "      <td>5</td>\n",
       "      <td>0</td>\n",
       "      <td>1</td>\n",
       "      <td>0</td>\n",
       "      <td>2</td>\n",
       "      <td>0</td>\n",
       "      <td>0</td>\n",
       "      <td>0</td>\n",
       "      <td>0</td>\n",
       "      <td>...</td>\n",
       "      <td>0</td>\n",
       "      <td>0</td>\n",
       "      <td>4</td>\n",
       "      <td>6</td>\n",
       "      <td>3</td>\n",
       "      <td>1</td>\n",
       "      <td>0</td>\n",
       "      <td>44</td>\n",
       "      <td>5</td>\n",
       "      <td>4</td>\n",
       "    </tr>\n",
       "    <tr>\n",
       "      <th>1960.0</th>\n",
       "      <td>6</td>\n",
       "      <td>3</td>\n",
       "      <td>1</td>\n",
       "      <td>5</td>\n",
       "      <td>2</td>\n",
       "      <td>4</td>\n",
       "      <td>0</td>\n",
       "      <td>0</td>\n",
       "      <td>12</td>\n",
       "      <td>4</td>\n",
       "      <td>...</td>\n",
       "      <td>2</td>\n",
       "      <td>0</td>\n",
       "      <td>0</td>\n",
       "      <td>5</td>\n",
       "      <td>0</td>\n",
       "      <td>8</td>\n",
       "      <td>3</td>\n",
       "      <td>17</td>\n",
       "      <td>3</td>\n",
       "      <td>11</td>\n",
       "    </tr>\n",
       "    <tr>\n",
       "      <th>1970.0</th>\n",
       "      <td>40</td>\n",
       "      <td>19</td>\n",
       "      <td>3</td>\n",
       "      <td>22</td>\n",
       "      <td>6</td>\n",
       "      <td>5</td>\n",
       "      <td>3</td>\n",
       "      <td>0</td>\n",
       "      <td>10</td>\n",
       "      <td>15</td>\n",
       "      <td>...</td>\n",
       "      <td>0</td>\n",
       "      <td>2</td>\n",
       "      <td>0</td>\n",
       "      <td>2</td>\n",
       "      <td>9</td>\n",
       "      <td>1</td>\n",
       "      <td>1</td>\n",
       "      <td>18</td>\n",
       "      <td>2</td>\n",
       "      <td>17</td>\n",
       "    </tr>\n",
       "    <tr>\n",
       "      <th>1980.0</th>\n",
       "      <td>31</td>\n",
       "      <td>13</td>\n",
       "      <td>5</td>\n",
       "      <td>6</td>\n",
       "      <td>3</td>\n",
       "      <td>6</td>\n",
       "      <td>6</td>\n",
       "      <td>7</td>\n",
       "      <td>38</td>\n",
       "      <td>7</td>\n",
       "      <td>...</td>\n",
       "      <td>0</td>\n",
       "      <td>0</td>\n",
       "      <td>1</td>\n",
       "      <td>11</td>\n",
       "      <td>10</td>\n",
       "      <td>13</td>\n",
       "      <td>1</td>\n",
       "      <td>15</td>\n",
       "      <td>0</td>\n",
       "      <td>26</td>\n",
       "    </tr>\n",
       "    <tr>\n",
       "      <th>1990.0</th>\n",
       "      <td>35</td>\n",
       "      <td>13</td>\n",
       "      <td>12</td>\n",
       "      <td>4</td>\n",
       "      <td>3</td>\n",
       "      <td>12</td>\n",
       "      <td>2</td>\n",
       "      <td>12</td>\n",
       "      <td>51</td>\n",
       "      <td>16</td>\n",
       "      <td>...</td>\n",
       "      <td>0</td>\n",
       "      <td>2</td>\n",
       "      <td>8</td>\n",
       "      <td>1</td>\n",
       "      <td>9</td>\n",
       "      <td>2</td>\n",
       "      <td>15</td>\n",
       "      <td>32</td>\n",
       "      <td>8</td>\n",
       "      <td>19</td>\n",
       "    </tr>\n",
       "    <tr>\n",
       "      <th>2000.0</th>\n",
       "      <td>45</td>\n",
       "      <td>10</td>\n",
       "      <td>10</td>\n",
       "      <td>1</td>\n",
       "      <td>19</td>\n",
       "      <td>10</td>\n",
       "      <td>2</td>\n",
       "      <td>6</td>\n",
       "      <td>11</td>\n",
       "      <td>6</td>\n",
       "      <td>...</td>\n",
       "      <td>0</td>\n",
       "      <td>5</td>\n",
       "      <td>7</td>\n",
       "      <td>2</td>\n",
       "      <td>4</td>\n",
       "      <td>3</td>\n",
       "      <td>6</td>\n",
       "      <td>7</td>\n",
       "      <td>6</td>\n",
       "      <td>8</td>\n",
       "    </tr>\n",
       "    <tr>\n",
       "      <th>2010.0</th>\n",
       "      <td>47</td>\n",
       "      <td>3</td>\n",
       "      <td>5</td>\n",
       "      <td>2</td>\n",
       "      <td>10</td>\n",
       "      <td>0</td>\n",
       "      <td>2</td>\n",
       "      <td>1</td>\n",
       "      <td>9</td>\n",
       "      <td>5</td>\n",
       "      <td>...</td>\n",
       "      <td>2</td>\n",
       "      <td>0</td>\n",
       "      <td>1</td>\n",
       "      <td>4</td>\n",
       "      <td>7</td>\n",
       "      <td>3</td>\n",
       "      <td>7</td>\n",
       "      <td>6</td>\n",
       "      <td>1</td>\n",
       "      <td>21</td>\n",
       "    </tr>\n",
       "  </tbody>\n",
       "</table>\n",
       "<p>7 rows × 50 columns</p>\n",
       "</div>"
      ],
      "text/plain": [
       "        0   1   2   3   4   5   6   7   8   9  ...  40  41  42  43  44  45  \\\n",
       "1950.0   5   5   0   1   0   2   0   0   0   0 ...   0   0   4   6   3   1   \n",
       "1960.0   6   3   1   5   2   4   0   0  12   4 ...   2   0   0   5   0   8   \n",
       "1970.0  40  19   3  22   6   5   3   0  10  15 ...   0   2   0   2   9   1   \n",
       "1980.0  31  13   5   6   3   6   6   7  38   7 ...   0   0   1  11  10  13   \n",
       "1990.0  35  13  12   4   3  12   2  12  51  16 ...   0   2   8   1   9   2   \n",
       "2000.0  45  10  10   1  19  10   2   6  11   6 ...   0   5   7   2   4   3   \n",
       "2010.0  47   3   5   2  10   0   2   1   9   5 ...   2   0   1   4   7   3   \n",
       "\n",
       "        46  47  48  49  \n",
       "1950.0   0  44   5   4  \n",
       "1960.0   3  17   3  11  \n",
       "1970.0   1  18   2  17  \n",
       "1980.0   1  15   0  26  \n",
       "1990.0  15  32   8  19  \n",
       "2000.0   6   7   6   8  \n",
       "2010.0   7   6   1  21  \n",
       "\n",
       "[7 rows x 50 columns]"
      ]
     },
     "execution_count": 12,
     "metadata": {},
     "output_type": "execute_result"
    }
   ],
   "source": [
    "decadesDF"
   ]
  },
  {
   "cell_type": "code",
   "execution_count": 13,
   "metadata": {
    "collapsed": false
   },
   "outputs": [],
   "source": [
    "#Normalize\n",
    "decadesDF = decadesDF.div(decadesDF.max(axis=1), axis=0)"
   ]
  },
  {
   "cell_type": "code",
   "execution_count": 14,
   "metadata": {
    "collapsed": false
   },
   "outputs": [],
   "source": [
    "ylabels = [str(int(decade)) for decade in decadesDF.index] + ['2020']"
   ]
  },
  {
   "cell_type": "code",
   "execution_count": 15,
   "metadata": {
    "collapsed": false
   },
   "outputs": [
    {
     "data": {
      "image/png": "[encoded data removed]",
      "text/plain": [
       "<matplotlib.figure.Figure at 0x7fb922d106a0>"
      ]
     },
     "metadata": {},
     "output_type": "display_data"
    }
   ],
   "source": [
    "plt.pcolor(decadesDF)\n",
    "plt.yticks(np.arange(len(decadesDF.index)+1), ylabels)\n",
    "plt.gca().invert_yaxis()\n",
    "plt.ylabel('Decade')\n",
    "plt.xlabel('Quotes Per Novel Segment')\n",
    "plt.title(\"Number of Critical Quotations from George Eliot's Middlemarch, By Decade\")\n",
    "#plt.xticks(np.arange(len(decadesDF.columns)), decadesDF.columns)\n",
    "plt.show()"
   ]
  },
  {
   "cell_type": "code",
   "execution_count": 16,
   "metadata": {
    "collapsed": false,
    "scrolled": false
   },
   "outputs": [
    {
     "data": {
      "text/plain": [
       "<matplotlib.axes._subplots.AxesSubplot at 0x7fb922c83358>"
      ]
     },
     "execution_count": 16,
     "metadata": {},
     "output_type": "execute_result"
    },
    {
     "data": {
      "image/png": "[encoded data removed]",
      "text/plain": [
       "<matplotlib.figure.Figure at 0x7fb922d10ef0>"
      ]
     },
     "metadata": {},
     "output_type": "display_data"
    }
   ],
   "source": [
    "decadesDF.sum().plot(kind='bar')"
   ]
  },
  {
   "cell_type": "code",
   "execution_count": null,
   "metadata": {
    "collapsed": true
   },
   "outputs": [],
   "source": []
  }
 ],
 "metadata": {
  "kernelspec": {
   "display_name": "Python 3",
   "language": "python",
   "name": "python3"
  },
  "language_info": {
   "codemirror_mode": {
    "name": "ipython",
    "version": 3
   },
   "file_extension": ".py",
   "mimetype": "text/x-python",
   "name": "python",
   "nbconvert_exporter": "python",
   "pygments_lexer": "ipython3",
   "version": "3.5.2"
  }
 },
 "nbformat": 4,
 "nbformat_minor": 0
}
