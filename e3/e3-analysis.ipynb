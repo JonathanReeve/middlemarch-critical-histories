{
 "cells": [
  {
   "cell_type": "markdown",
   "metadata": {},
   "source": [
    "# Experiment 3\n",
    "\n",
    "This is a rewrite of earlier experiments, using wordcounts instead of raw quote counts. Like Experiment 2, it uses data from the rewritten text matcher. "
   ]
  },
  {
   "cell_type": "code",
   "execution_count": 1,
   "metadata": {
    "collapsed": false
   },
   "outputs": [],
   "source": [
    "import spacy\n",
    "import pandas as pd\n",
    "%matplotlib inline\n",
    "from ast import literal_eval\n",
    "import numpy as np\n",
    "import re\n",
    "import json\n",
    "from nltk.corpus import names\n",
    "from collections import Counter\n",
    "from matplotlib import pyplot as plt\n",
    "plt.rcParams[\"figure.figsize\"] = [16, 6]\n",
    "plt.style.use('ggplot')"
   ]
  },
  {
   "cell_type": "code",
   "execution_count": 2,
   "metadata": {
    "collapsed": false
   },
   "outputs": [],
   "source": [
    "nlp = spacy.load('en')"
   ]
  },
  {
   "cell_type": "code",
   "execution_count": 3,
   "metadata": {
    "collapsed": true
   },
   "outputs": [],
   "source": [
    "with open('../middlemarch.txt') as f: \n",
    "    mm = f.read()"
   ]
  },
  {
   "cell_type": "code",
   "execution_count": 4,
   "metadata": {
    "collapsed": false
   },
   "outputs": [],
   "source": [
    "textALength = len(mm) "
   ]
  },
  {
   "cell_type": "code",
   "execution_count": 5,
   "metadata": {
    "collapsed": false
   },
   "outputs": [
    {
     "data": {
      "text/plain": [
       "89"
      ]
     },
     "execution_count": 5,
     "metadata": {},
     "output_type": "execute_result"
    }
   ],
   "source": [
    "# Get chapter locations\n",
    "chapterMatches = re.finditer('PRELUDE|CHAPTER|FINALE', mm)\n",
    "chapterLocations = [match.start() for match in chapterMatches]\n",
    "chapterLocations.append(textALength) # Add one to account for last chunk. \n",
    "len(chapterLocations)"
   ]
  },
  {
   "cell_type": "code",
   "execution_count": 6,
   "metadata": {
    "collapsed": false
   },
   "outputs": [],
   "source": [
    "with open('../txt/e2a.json') as f: \n",
    "    rawData = f.read()"
   ]
  },
  {
   "cell_type": "code",
   "execution_count": 7,
   "metadata": {
    "collapsed": false
   },
   "outputs": [],
   "source": [
    "df = pd.read_json(rawData)"
   ]
  },
  {
   "cell_type": "code",
   "execution_count": 11,
   "metadata": {
    "collapsed": false
   },
   "outputs": [],
   "source": [
    "df['Decade'] = df['year'] - (df['year'] % 10)\n",
    "# df['Locations in A'] = df['matches'].apply(lambda x: x[1])\n",
    "# df['NumMatches'] = df['matches'].apply(lambda x: x[0])"
   ]
  },
  {
   "cell_type": "code",
   "execution_count": 12,
   "metadata": {
    "collapsed": false
   },
   "outputs": [
    {
     "data": {
      "text/plain": [
       "1794"
      ]
     },
     "execution_count": 12,
     "metadata": {},
     "output_type": "execute_result"
    }
   ],
   "source": [
    "sum([len(item) for item in df['Locations in A'].values])"
   ]
  },
  {
   "cell_type": "code",
   "execution_count": 73,
   "metadata": {
    "collapsed": false
   },
   "outputs": [],
   "source": [
    "df['Quoted Words'] = df['Locations in A'].apply(totalWords)"
   ]
  },
  {
   "cell_type": "code",
   "execution_count": 78,
   "metadata": {
    "collapsed": true
   },
   "outputs": [],
   "source": [
    "df['Locations in A with Wordcounts'] = df['Locations in A'].apply(countsPerSet)"
   ]
  },
  {
   "cell_type": "code",
   "execution_count": 129,
   "metadata": {
    "collapsed": false
   },
   "outputs": [],
   "source": [
    "def diachronicAnalysis(df, decades=(1950, 2020), bins=50): \n",
    "    decades = np.arange(decades[0], decades[1], 10)\n",
    "    # Make a dictionary of decades. \n",
    "    # Values are a list of locations.  \n",
    "    decadeDict = {}\n",
    "    for i, row in df.iterrows():\n",
    "        decade = row['Decade']\n",
    "        locationsAndWordcounts = row['Locations in A with Wordcounts']\n",
    "        if decade not in decadeDict: \n",
    "            decadeDict[decade] = locationsAndWordcounts\n",
    "        else: \n",
    "            decadeDict[decade] += locationsAndWordcounts\n",
    "    # Grab the beginnings of quotes. \n",
    "    decadeStartsWeights = {decade: [(item[0][0], item[1]) \n",
    "                                    for item in loc] \n",
    "                    for decade, loc in decadeDict.items()}\n",
    "    decadesBinned = {decade: \n",
    "                 np.histogram([loc[0] for loc in locations], \n",
    "                              bins=bins,\n",
    "                              weights=[loc[1] for loc in locations],\n",
    "                              range=(0, textALength))[0]\n",
    "                 for decade, locations in decadeStartsWeights.items() \n",
    "                     if decade in decades}\n",
    "    decadesDF = pd.DataFrame(decadesBinned).T\n",
    "    #Normalize\n",
    "    decadesDF = decadesDF.div(decadesDF.max(axis=1), axis=0)\n",
    "    return decadesDF\n",
    "\n",
    "def countWords(locRange): \n",
    "    \"\"\" Counts words in middlemarch, given character ranges. \"\"\"\n",
    "    doc = nlp(mm[locRange[0]:locRange[1]], tag=False, parse=False, entity=False)\n",
    "    return len(doc)\n",
    "\n",
    "def totalWords(locRangeSet): \n",
    "    \"\"\" Counts total words in a list of location ranges. \"\"\"\n",
    "    return sum([countWords(locRange) for locRange in locRangeSet])    \n",
    "    \n",
    "def countsPerSet(locRangeSet): \n",
    "    \"\"\" Returns an augmented location range set that includes word counts. \"\"\"\n",
    "    return [(locRange, countWords(locRange))\n",
    "             for locRange in locRangeSet]\n",
    "    \n",
    "def synchronicAnalysis(df, bins=50): \n",
    "    locs = df['Locations in A'].values\n",
    "    locCounts = [(loc, countWords(loc)) for locSet in locs\n",
    "              for loc in locSet]\n",
    "    starts = [loc[0][0] for loc in locCounts]\n",
    "    counts = [loc[1] for loc in locCounts]\n",
    "    binned = np.histogram(starts, bins=bins, \n",
    "                          weights=counts, range=(0, textALength))\n",
    "    binnedDF = pd.Series(binned[0])\n",
    "    return binnedDF\n",
    "\n",
    "def plotDiachronicAnalysis(df): \n",
    "    ylabels = [str(int(decade)) for decade in df.index] + ['2020']\n",
    "    plt.pcolor(df, cmap='gnuplot')\n",
    "    plt.yticks(np.arange(len(df.index)+1), ylabels)\n",
    "    plt.gca().invert_yaxis()\n",
    "    plt.ylabel('Decade')\n",
    "    plt.xlabel('Chapter')\n",
    "#     plt.title(\"Frequency of Quotations from George Eliot's Middlemarch in Criticism, By Decade\")\n",
    "    plt.gca().set_xlim((0, len(df.T)))\n",
    "    plt.colorbar(ticks=[])\n",
    "    plt.show()\n",
    "    \n",
    "def plotSynchronicAnalysis(s): \n",
    "    ax = s.plot(kind='bar')\n",
    "    ax.set_xlabel('Chapter')\n",
    "    ax.set_ylabel('Number of Words Quoted')"
   ]
  },
  {
   "cell_type": "code",
   "execution_count": 130,
   "metadata": {
    "collapsed": false
   },
   "outputs": [
    {
     "data": {
      "image/png": "[encoded data removed]",
      "text/plain": [
       "<matplotlib.figure.Figure at 0x7fd1420b1208>"
      ]
     },
     "metadata": {},
     "output_type": "display_data"
    }
   ],
   "source": [
    "plotSynchronicAnalysis(synchronicAnalysis(df, bins=4))"
   ]
  },
  {
   "cell_type": "code",
   "execution_count": 131,
   "metadata": {
    "collapsed": false
   },
   "outputs": [
    {
     "data": {
      "image/png": "[encoded data removed]",
      "text/plain": [
       "<matplotlib.figure.Figure at 0x7fd141f27b38>"
      ]
     },
     "metadata": {},
     "output_type": "display_data"
    }
   ],
   "source": [
    "plotDiachronicAnalysis(diachronicAnalysis(df, decades=(1950, 2020), bins=chapterLocations))"
   ]
  },
  {
   "cell_type": "markdown",
   "metadata": {},
   "source": [
    "# By (Guessed) Gender of Author"
   ]
  },
  {
   "cell_type": "code",
   "execution_count": 106,
   "metadata": {
    "collapsed": false
   },
   "outputs": [],
   "source": [
    "maleNames, femaleNames = names.words('male.txt'), names.words('female.txt')\n",
    "maleNames = [name.lower() for name in maleNames]\n",
    "femaleNames = [name.lower() for name in femaleNames]"
   ]
  },
  {
   "cell_type": "code",
   "execution_count": 107,
   "metadata": {
    "collapsed": false
   },
   "outputs": [],
   "source": [
    "def guessGender(name): \n",
    "    name = name.split()[0].lower() # Grab the first name. \n",
    "    if name in maleNames and name in femaleNames: \n",
    "        return 'A' #Ambiguous\n",
    "    elif name in maleNames: \n",
    "        return 'M'\n",
    "    elif name in femaleNames: \n",
    "        return 'F'\n",
    "    else: \n",
    "        return 'U'\n",
    "\n",
    "def averageGender(names): \n",
    "    if type(names) != list: \n",
    "        return 'U'\n",
    "    genderGuesses = [guessGender(name) for name in names]\n",
    "    stats = Counter(genderGuesses).most_common()\n",
    "    if len(stats) == 1: \n",
    "        # Only one author. We can just use that's author's gender guess. \n",
    "        return stats[0][0]\n",
    "    elif stats[0][1] == stats[1][1]: # There's a tie. \n",
    "        return 'A' # Ambiguous. \n",
    "    else: \n",
    "        return stats[0][0] # Return the most common gender. \n",
    "        "
   ]
  },
  {
   "cell_type": "code",
   "execution_count": 108,
   "metadata": {
    "collapsed": false,
    "scrolled": true
   },
   "outputs": [],
   "source": [
    "df['gender'] = df['author'].apply(averageGender)\n",
    "dfF = df.loc[df['gender'] == 'F']\n",
    "dfM = df.loc[df['gender'] == 'M']"
   ]
  },
  {
   "cell_type": "code",
   "execution_count": 109,
   "metadata": {
    "collapsed": false
   },
   "outputs": [
    {
     "data": {
      "image/png": "[encoded data removed]",
      "text/plain": [
       "<matplotlib.figure.Figure at 0x7fd1be662080>"
      ]
     },
     "metadata": {},
     "output_type": "display_data"
    }
   ],
   "source": [
    "# Differences in citations between genders. \n",
    "plotSynchronicAnalysis(synchronicAnalysis(dfM) - synchronicAnalysis(dfF))"
   ]
  },
  {
   "cell_type": "markdown",
   "metadata": {},
   "source": [
    "# By (Guessed) Country of Publication"
   ]
  },
  {
   "cell_type": "code",
   "execution_count": 110,
   "metadata": {
    "collapsed": false
   },
   "outputs": [],
   "source": [
    "def getFirst(row): \n",
    "    if type(row) == list: \n",
    "        return row[0]\n",
    "    else: \n",
    "        return row\n",
    "\n",
    "topPublishers = df['publisher_name'].apply(getFirst).value_counts()"
   ]
  },
  {
   "cell_type": "code",
   "execution_count": 111,
   "metadata": {
    "collapsed": false
   },
   "outputs": [],
   "source": [
    "publishers = topPublishers[:80].index"
   ]
  },
  {
   "cell_type": "code",
   "execution_count": 112,
   "metadata": {
    "collapsed": false
   },
   "outputs": [],
   "source": [
    "publishers = publishers.tolist()"
   ]
  },
  {
   "cell_type": "code",
   "execution_count": 113,
   "metadata": {
    "collapsed": false
   },
   "outputs": [],
   "source": [
    "def getCountry(publisher): \n",
    "    brits = ['Oxford University Press', 'Cambridge University Press', 'Modern Humanities Research Association', \\\n",
    "             'BMJ', 'Taylor & Francis, Ltd.', 'Edinburgh University Press', \\\n",
    "             'Royal Society for the Encouragement of Arts, Manufactures and Commerce']\n",
    "    canadians = ['Victorian Studies Association of Western Canada'] \n",
    "    if type(publisher) != list: \n",
    "        return 'Unknown'\n",
    "    publisher = publisher[0]\n",
    "    if publisher in brits: \n",
    "        return 'Britain' \n",
    "    elif publisher in canadians or 'Canada' in publisher: \n",
    "        return 'Canada' \n",
    "    elif 'GmbH' in publisher: \n",
    "        return 'Germany'\n",
    "    elif 'estudios' in publisher: \n",
    "        return 'Spain'\n",
    "    elif 'France' in publisher: \n",
    "        return 'France' \n",
    "    elif 'Ireland' in publisher: \n",
    "        return 'Ireland'\n",
    "    else: \n",
    "        return 'US'"
   ]
  },
  {
   "cell_type": "code",
   "execution_count": 114,
   "metadata": {
    "collapsed": false,
    "scrolled": true
   },
   "outputs": [],
   "source": [
    "df['country'] = df['publisher_name'].apply(getCountry)"
   ]
  },
  {
   "cell_type": "code",
   "execution_count": 115,
   "metadata": {
    "collapsed": false
   },
   "outputs": [
    {
     "data": {
      "text/plain": [
       "US         3901\n",
       "Unknown    1247\n",
       "Britain     825\n",
       "Canada       59\n",
       "Germany      15\n",
       "Spain         8\n",
       "Ireland       8\n",
       "France        6\n",
       "Name: country, dtype: int64"
      ]
     },
     "execution_count": 115,
     "metadata": {},
     "output_type": "execute_result"
    }
   ],
   "source": [
    "df['country'].value_counts()"
   ]
  },
  {
   "cell_type": "code",
   "execution_count": 116,
   "metadata": {
    "collapsed": false
   },
   "outputs": [],
   "source": [
    "dfBrits = df.loc[df['country'] == 'Britain']\n",
    "dfYanks = df.loc[df['country'] == 'US']\n",
    "dfCanadians = df.loc[df['country'] == 'Canada']"
   ]
  },
  {
   "cell_type": "code",
   "execution_count": 117,
   "metadata": {
    "collapsed": false
   },
   "outputs": [],
   "source": [
    "# Since British authors are greatly outnumbered in this corpus, we should normalize the data. \n",
    "britsHist = synchronicAnalysis(dfBrits) \n",
    "normBrits = britsHist.div(britsHist.max())\n",
    "yanksHist = synchronicAnalysis(dfYanks)\n",
    "normYanks = yanksHist.div(yanksHist.max())"
   ]
  },
  {
   "cell_type": "code",
   "execution_count": 118,
   "metadata": {
    "collapsed": false
   },
   "outputs": [
    {
     "data": {
      "image/png": "[encoded data removed]",
      "text/plain": [
       "<matplotlib.figure.Figure at 0x7fd1420c8d68>"
      ]
     },
     "metadata": {},
     "output_type": "display_data"
    }
   ],
   "source": [
    "plotSynchronicAnalysis(normYanks - normBrits)"
   ]
  },
  {
   "cell_type": "markdown",
   "metadata": {},
   "source": [
    "# By Journal"
   ]
  },
  {
   "cell_type": "code",
   "execution_count": 119,
   "metadata": {
    "collapsed": false
   },
   "outputs": [
    {
     "data": {
      "text/plain": [
       "Victorian Studies                            424\n",
       "George Eliot - George Henry Lewes Studies    206\n",
       "Nineteenth-Century Fiction                   192\n",
       "The Modern Language Review                   188\n",
       "The Review of English Studies                185\n",
       "Nineteenth-Century Literature                126\n",
       "NOVEL: A Forum on Fiction                    126\n",
       "Studies in the Novel                         120\n",
       "Studies in English Literature, 1500-1900      85\n",
       "ELH                                           77\n",
       "Name: journal, dtype: int64"
      ]
     },
     "execution_count": 119,
     "metadata": {},
     "output_type": "execute_result"
    }
   ],
   "source": [
    "# Look at the top journals. \n",
    "df['journal'].value_counts()[:10]"
   ]
  },
  {
   "cell_type": "markdown",
   "metadata": {},
   "source": [
    "Compare the specialist journal, \"George Eliot - George Henry Lewes Studies,\" with all other journals. "
   ]
  },
  {
   "cell_type": "code",
   "execution_count": 120,
   "metadata": {
    "collapsed": false
   },
   "outputs": [],
   "source": [
    "geJournals = df.loc[df['journal'] == 'George Eliot - George Henry Lewes Studies']\n",
    "otherJournals = df.loc[df['journal'] != 'George Eliot - George Henry Lewes Studies']"
   ]
  },
  {
   "cell_type": "code",
   "execution_count": 121,
   "metadata": {
    "collapsed": true
   },
   "outputs": [],
   "source": [
    "# Normalize\n",
    "geDF = synchronicAnalysis(geJournals)\n",
    "otherDF = synchronicAnalysis(otherJournals)\n",
    "normGE = geDF.div(geDF.max())\n",
    "normOther = otherDF.div(otherDF.max())"
   ]
  },
  {
   "cell_type": "code",
   "execution_count": 122,
   "metadata": {
    "collapsed": false
   },
   "outputs": [
    {
     "data": {
      "text/plain": [
       "<matplotlib.text.Text at 0x7fd1420a91d0>"
      ]
     },
     "execution_count": 122,
     "metadata": {},
     "output_type": "execute_result"
    },
    {
     "data": {
      "image/png": "[encoded data removed]",
      "text/plain": [
       "<matplotlib.figure.Figure at 0x7fd141f93c50>"
      ]
     },
     "metadata": {},
     "output_type": "display_data"
    }
   ],
   "source": [
    "ax = (normGE - normOther).plot(kind='bar')\n",
    "ax.set_xlabel('Chapter')\n",
    "ax.set_ylabel('Specialization Index')"
   ]
  },
  {
   "cell_type": "markdown",
   "metadata": {},
   "source": [
    "# Detour: Ch. 15"
   ]
  },
  {
   "cell_type": "code",
   "execution_count": 123,
   "metadata": {
    "collapsed": false
   },
   "outputs": [],
   "source": [
    "# Try to find out why Ch. 15 was so big in the 80s and 90s. \n",
    "chap15s = []\n",
    "ids = []\n",
    "for i, row in df.iterrows(): \n",
    "    locations = row['Locations in A']\n",
    "    starts = [item[0] for item in locations]\n",
    "    if row['Decade'] in [1980, 1990]: \n",
    "        for start in starts: \n",
    "            if start > 290371 and start < 322051: # Does it cite Chapter XV? \n",
    "                if row.id not in ids: \n",
    "                    chap15s.append(row)\n",
    "                    ids.append(row.id)"
   ]
  },
  {
   "cell_type": "code",
   "execution_count": 124,
   "metadata": {
    "collapsed": false,
    "scrolled": true
   },
   "outputs": [
    {
     "data": {
      "text/plain": [
       "[['Illuminating the Vision of Ordinary Life: A Tribute to \"Middlemarch\"'],\n",
       " ['\"Middlemarch\" and George Eliot\\'s Female (Re) Vision of Shakespeare'],\n",
       " ['Heroism and Organicism in the Case of Lydgate'],\n",
       " ['THE DIALOGIC UNIVERSE OF \"MIDDLEMARCH\"'],\n",
       " ['Middlemarch, Realism and the Birth of the Clinic'],\n",
       " ['Microscopy and Semiotic in Middlemarch'],\n",
       " [\"George Eliot's Reflexive Text: Three Tonalities in the Narrative Voice of Middlemarch\"],\n",
       " [\"The Victorian Discourse of Gambling: Speculations on Middlemarch and the Duke's Children\"],\n",
       " ['George Eliot\\'s Scrupulous Research: The Facts behind Eliot\\'s Use of the \"Keepsake in Middlemarch\"'],\n",
       " ['The Union of \"Miss Brooke\" and \"Middlemarch\": A Study of the Manuscript'],\n",
       " [\"The Turn of George Eliot's Realism\"],\n",
       " ['Transformation of Rage',\n",
       "  \"Mourning and Creativity in George Eliot's Fiction\",\n",
       "  'The Vast Wreck of Ambitious Ideals in Middlemarch'],\n",
       " ['SILENCE, GESTURE, AND MEANING IN \"MIDDLEMARCH\"'],\n",
       " ['Heroic Commitment in Richardson, Eliot, and James',\n",
       "  'POWER AS PARTIALITY IN MIDDLEMARCH'],\n",
       " ['AN END TO CONVERTING PATIENTS\\' STOMACHS INTO DRUG-SHOPS: LYDGATE\\'S NEW METHOD OF CHARGING HIS PATIENTS IN \"MIDDLEMARCH\"'],\n",
       " ['Dangerous Crossings: Dickens, Digression, and Montage'],\n",
       " ['Vital Signs',\n",
       "  'Medical Realism in Nineteenth-Century Fiction',\n",
       "  '“A NEW ORGAN OF KNOWLEDGE”:',\n",
       "  'MEDICAL ORGANICISM AND THE LIMITS OF REALISM IN MIDDLEMARCH'],\n",
       " ['The Language of Discovery: William Whewell and George Eliot'],\n",
       " ['Lamarque and Olsen on Literature and Truth'],\n",
       " ['The Strange Case of Monomania: Patriarchy in Literature, Murder in Middlemarch, Drowning in Daniel Deronda'],\n",
       " ['George Eliot and the Eighteenth-Century Novel'],\n",
       " ['Metaphors of Mind in Fiction and Psychology',\n",
       "  'TOWARD THE LIFE OF THE MIND:',\n",
       "  'JAMES AND ELIOT DISCOVER SENTIENCE'],\n",
       " ['\"Wrinkled Deep in Time\": The Alexandria Quartet as Many-Layered Palimpsest'],\n",
       " ['ERZÄHLERISCHE OBJEKTIVITÄT, ,AUTHORIAL INTRUSIONS‘ UND ENGLISCHER REALISMUS'],\n",
       " ['Steamboat Surfacing: Scott and the English Novelists'],\n",
       " ['Professional Judgment and the Rationing of Medical Care'],\n",
       " ['NARRATIVE VOICE AND THE \"FEMININE\" NOVELIST: DINAH MULOCK AND GEORGE ELIOT'],\n",
       " ['Versions of Narrative: Overt and Covert Narrators in Nineteenth Century Historiography']]"
      ]
     },
     "execution_count": 124,
     "metadata": {},
     "output_type": "execute_result"
    }
   ],
   "source": [
    "# Get the titles of those articles. \n",
    "[item.title for item in chap15s]"
   ]
  },
  {
   "cell_type": "code",
   "execution_count": 125,
   "metadata": {
    "collapsed": false,
    "scrolled": false
   },
   "outputs": [
    {
     "data": {
      "text/plain": [
       "[('Vocation', 8),\n",
       " ('Love', 8),\n",
       " ('Pity', 8),\n",
       " ('Novelists', 8),\n",
       " ('Gossip', 6),\n",
       " ('Sympathy', 6),\n",
       " ('Irony', 6),\n",
       " ('Narratology', 5),\n",
       " ('Novels', 5),\n",
       " ('Humor', 4),\n",
       " ('Heroism', 4),\n",
       " ('Vanity', 4),\n",
       " ('Marriage ceremonies', 4),\n",
       " ('Melodrama', 4),\n",
       " ('Gambling', 4),\n",
       " ('Antitheses', 4),\n",
       " ('Pathos', 4),\n",
       " ('Objectivity', 3),\n",
       " ('Compassion', 3),\n",
       " ('Armchairs', 3)]"
      ]
     },
     "execution_count": 125,
     "metadata": {},
     "output_type": "execute_result"
    }
   ],
   "source": [
    "ch15Topics =  [item.topics for item in chap15s]\n",
    "chap15TopicsFlat = [item for sublist in ch15Topics for item in sublist]\n",
    "Counter(chap15TopicsFlat).most_common(20)"
   ]
  },
  {
   "cell_type": "code",
   "execution_count": null,
   "metadata": {
    "collapsed": true
   },
   "outputs": [],
   "source": []
  }
 ],
 "metadata": {
  "kernelspec": {
   "display_name": "Python 3",
   "language": "python",
   "name": "python3"
  },
  "language_info": {
   "codemirror_mode": {
    "name": "ipython",
    "version": 3
   },
   "file_extension": ".py",
   "mimetype": "text/x-python",
   "name": "python",
   "nbconvert_exporter": "python",
   "pygments_lexer": "ipython3",
   "version": "3.6.0"
  }
 },
 "nbformat": 4,
 "nbformat_minor": 0
}
