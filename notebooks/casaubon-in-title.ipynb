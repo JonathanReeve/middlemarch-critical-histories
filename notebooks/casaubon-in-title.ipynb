{
 "cells": [
  {
   "cell_type": "code",
   "execution_count": 1,
   "metadata": {
    "collapsed": true
   },
   "outputs": [],
   "source": [
    "import pandas as pd"
   ]
  },
  {
   "cell_type": "code",
   "execution_count": 2,
   "metadata": {
    "collapsed": false
   },
   "outputs": [],
   "source": [
    "df = pd.read_json('../txt/e2a.json')"
   ]
  },
  {
   "cell_type": "code",
   "execution_count": 3,
   "metadata": {
    "collapsed": false
   },
   "outputs": [],
   "source": [
    "specialistTitles = list(df.loc[df['journal'] == 'George Eliot - George Henry Lewes Studies']['title'])"
   ]
  },
  {
   "cell_type": "code",
   "execution_count": 8,
   "metadata": {
    "collapsed": true
   },
   "outputs": [],
   "source": [
    "# Props to http://stackoverflow.com/a/5409395/584121\n",
    "flatten = lambda *n: (e for a in n\n",
    "    for e in (flatten(*a) if isinstance(a, (tuple, list)) else (a,)))"
   ]
  },
  {
   "cell_type": "code",
   "execution_count": 7,
   "metadata": {
    "collapsed": false
   },
   "outputs": [],
   "source": [
    "flatTitles = list(flatten(specialistTitles))"
   ]
  },
  {
   "cell_type": "code",
   "execution_count": 10,
   "metadata": {
    "collapsed": false
   },
   "outputs": [],
   "source": [
    "lowerTitles = [title.lower() for title in flatTitles if type(title) == str]"
   ]
  },
  {
   "cell_type": "code",
   "execution_count": 12,
   "metadata": {
    "collapsed": false
   },
   "outputs": [
    {
     "data": {
      "text/plain": [
       "[\"eliot's spanish connection: casaubon, the avatar of quixote\"]"
      ]
     },
     "execution_count": 12,
     "metadata": {},
     "output_type": "execute_result"
    }
   ],
   "source": [
    "[title for title in lowerTitles if 'casaubon' in title]"
   ]
  },
  {
   "cell_type": "code",
   "execution_count": 13,
   "metadata": {
    "collapsed": false
   },
   "outputs": [
    {
     "data": {
      "text/plain": [
       "[\"george eliot's boudoir experiment: dorothea as embodied learner\",\n",
       " \"dorothea brooke and henry james's isabel archer\",\n",
       " \"'but why always dorothea?' marian evans' sisters, cousins and aunts\"]"
      ]
     },
     "execution_count": 13,
     "metadata": {},
     "output_type": "execute_result"
    }
   ],
   "source": [
    "[title for title in lowerTitles if 'dorothea' in title]"
   ]
  },
  {
   "cell_type": "code",
   "execution_count": 18,
   "metadata": {
    "collapsed": false
   },
   "outputs": [
    {
     "ename": "ValueError",
     "evalue": "where requires an ndarray like object for its condition",
     "output_type": "error",
     "traceback": [
      "\u001b[0;31m---------------------------------------------------------------------------\u001b[0m",
      "\u001b[0;31mValueError\u001b[0m                                Traceback (most recent call last)",
      "\u001b[0;32m<ipython-input-18-927fb4302240>\u001b[0m in \u001b[0;36m<module>\u001b[0;34m()\u001b[0m\n\u001b[0;32m----> 1\u001b[0;31m \u001b[0mdf\u001b[0m\u001b[0;34m[\u001b[0m\u001b[0;34m'title'\u001b[0m\u001b[0;34m]\u001b[0m\u001b[0;34m.\u001b[0m\u001b[0mwhere\u001b[0m\u001b[0;34m(\u001b[0m\u001b[0;34m'Spanish'\u001b[0m \u001b[0;32min\u001b[0m \u001b[0ms\u001b[0m\u001b[0;34m[\u001b[0m\u001b[0;36m0\u001b[0m\u001b[0;34m]\u001b[0m\u001b[0;34m)\u001b[0m\u001b[0;34m\u001b[0m\u001b[0m\n\u001b[0m",
      "\u001b[0;32m/usr/lib/python3.6/site-packages/pandas/core/generic.py\u001b[0m in \u001b[0;36mwhere\u001b[0;34m(self, cond, other, inplace, axis, level, try_cast, raise_on_error)\u001b[0m\n\u001b[1;32m   4811\u001b[0m         \u001b[0mother\u001b[0m \u001b[0;34m=\u001b[0m \u001b[0mcom\u001b[0m\u001b[0;34m.\u001b[0m\u001b[0m_apply_if_callable\u001b[0m\u001b[0;34m(\u001b[0m\u001b[0mother\u001b[0m\u001b[0;34m,\u001b[0m \u001b[0mself\u001b[0m\u001b[0;34m)\u001b[0m\u001b[0;34m\u001b[0m\u001b[0m\n\u001b[1;32m   4812\u001b[0m         return self._where(cond, other, inplace, axis, level, try_cast,\n\u001b[0;32m-> 4813\u001b[0;31m                            raise_on_error)\n\u001b[0m\u001b[1;32m   4814\u001b[0m \u001b[0;34m\u001b[0m\u001b[0m\n\u001b[1;32m   4815\u001b[0m     @Appender(_shared_docs['where'] % dict(_shared_doc_kwargs, cond=\"False\",\n",
      "\u001b[0;32m/usr/lib/python3.6/site-packages/pandas/core/generic.py\u001b[0m in \u001b[0;36m_where\u001b[0;34m(self, cond, other, inplace, axis, level, try_cast, raise_on_error)\u001b[0m\n\u001b[1;32m   4558\u001b[0m         \u001b[0;32melse\u001b[0m\u001b[0;34m:\u001b[0m\u001b[0;34m\u001b[0m\u001b[0m\n\u001b[1;32m   4559\u001b[0m             \u001b[0;32mif\u001b[0m \u001b[0;32mnot\u001b[0m \u001b[0mhasattr\u001b[0m\u001b[0;34m(\u001b[0m\u001b[0mcond\u001b[0m\u001b[0;34m,\u001b[0m \u001b[0;34m'shape'\u001b[0m\u001b[0;34m)\u001b[0m\u001b[0;34m:\u001b[0m\u001b[0;34m\u001b[0m\u001b[0m\n\u001b[0;32m-> 4560\u001b[0;31m                 raise ValueError('where requires an ndarray like object for '\n\u001b[0m\u001b[1;32m   4561\u001b[0m                                  'its condition')\n\u001b[1;32m   4562\u001b[0m             \u001b[0;32mif\u001b[0m \u001b[0mcond\u001b[0m\u001b[0;34m.\u001b[0m\u001b[0mshape\u001b[0m \u001b[0;34m!=\u001b[0m \u001b[0mself\u001b[0m\u001b[0;34m.\u001b[0m\u001b[0mshape\u001b[0m\u001b[0;34m:\u001b[0m\u001b[0;34m\u001b[0m\u001b[0m\n",
      "\u001b[0;31mValueError\u001b[0m: where requires an ndarray like object for its condition"
     ]
    }
   ],
   "source": [
    "df['title'].where('Spanish' in s[0])"
   ]
  },
  {
   "cell_type": "code",
   "execution_count": 17,
   "metadata": {
    "collapsed": false
   },
   "outputs": [
    {
     "data": {
      "text/plain": [
       "<bound method Series.all of 0             [Dorothea and \"Miss Brooke\" in Middlemarch]\n",
       "1                                                     NaN\n",
       "2       [Biennial Reproduction with a Fourteen-Month P...\n",
       "3                            [Middlemarch: Touching Down]\n",
       "4        [The Reader as Part of the Fiction: Middlemarch]\n",
       "5                                                     NaN\n",
       "6                                                     NaN\n",
       "7                                                [Review]\n",
       "8                               [Middlemarch and History]\n",
       "9       [Intermental Thought in the Novel: The Middlem...\n",
       "10      [Intermental Thought in the Novel: The Middlem...\n",
       "11                                 [Revising Middlemarch]\n",
       "12      [\"Neutral Physiognomy\": The Unreadable Faces o...\n",
       "13                          [Is Middlemarch Ahistorical?]\n",
       "14                       [MIDDLEMARCH ON TV--A SYMPOSIUM]\n",
       "15                 [CONSERVATIVE REFORM IN 'MIDDLEMARCH']\n",
       "16                                                    NaN\n",
       "17      [Attributive adjectives, infinitival relatives...\n",
       "18      [Vertical Context in Middlemarch: George Eliot...\n",
       "19         [The Metaphorical Imagination of George Eliot]\n",
       "20                 [\"The One Poor Word\" in \"Middlemarch\"]\n",
       "21                                                    NaN\n",
       "22      [GEORGE ELIOT: MARY ANN EVANS'S SUBVERSIVE TOO...\n",
       "23                           [A Preface to \"Middlemarch\"]\n",
       "24      [Tolstoy and the English Novel: A Note on Midd...\n",
       "25         [An Objective Aural-Relative in \"Middlemarch\"]\n",
       "26               [Middlemarch: Realism and Symbolic Form]\n",
       "27                   [Middlemarch and the Woman Question]\n",
       "28              [The Germ and the Picture in Middlemarch]\n",
       "29      [From Jane Austen to Joseph Conrad, MIDDLEMARC...\n",
       "                              ...                        \n",
       "6039                                   [Forty Year Index]\n",
       "6040                     [Program of the 2008 Convention]\n",
       "6041                     [Program of the 2009 Convention]\n",
       "6042                         [1954 American Bibliography]\n",
       "6043    [Current Bibliography of the History of Scienc...\n",
       "6044                                 [Individual Writers]\n",
       "6045              [Literature of the Renaissance in 1963]\n",
       "6046    [Program of the 1986 Convention of the Modern ...\n",
       "6047    [Little Women Abroad, The Alcott Sisters' Lett...\n",
       "6048    [Current Bibliography of the History of Scienc...\n",
       "6049                           [1957 Annual Bibliography]\n",
       "6050    [Ninety-Ninth Critical Bibliography of the His...\n",
       "6051    [Ninety-Sixth Critical Bibliography of the His...\n",
       "6052    [One Hundred First Critical Bibliography of th...\n",
       "6053    [1949 Research in Progress in the Modern Langu...\n",
       "6054                                 [Individual Writers]\n",
       "6055    [The Princeton Encyclopedia of Poetry and Poet...\n",
       "6056    [1968 MLA International Bibliography of Books ...\n",
       "6057    [1964 MLA International Bibliography of Books ...\n",
       "6058    [1965 MLA International Bibliography of Books ...\n",
       "6059    [Current Bibliography of the History of Scienc...\n",
       "6060    [Current Bibliography of the History of Scienc...\n",
       "6061    [One Hundred Twelfth Critical Bibliography of ...\n",
       "6062    [Current Bibliography of the History of Scienc...\n",
       "6063                           [1961 Annual Bibliography]\n",
       "6064                           [1956 Annual Bibliography]\n",
       "6065                           [1959 Annual Bibliography]\n",
       "6066                           [1958 Annual Bibliography]\n",
       "6067    [Index to the Collected Works of Northrop Frye...\n",
       "6068                                       [Front Matter]\n",
       "Name: title, dtype: object>"
      ]
     },
     "execution_count": 17,
     "metadata": {},
     "output_type": "execute_result"
    }
   ],
   "source": [
    "s."
   ]
  },
  {
   "cell_type": "code",
   "execution_count": null,
   "metadata": {
    "collapsed": true
   },
   "outputs": [],
   "source": []
  }
 ],
 "metadata": {
  "kernelspec": {
   "display_name": "Python 3",
   "language": "python",
   "name": "python3"
  },
  "language_info": {
   "codemirror_mode": {
    "name": "ipython",
    "version": 3
   },
   "file_extension": ".py",
   "mimetype": "text/x-python",
   "name": "python",
   "nbconvert_exporter": "python",
   "pygments_lexer": "ipython3",
   "version": "3.7.3"
  }
 },
 "nbformat": 4,
 "nbformat_minor": 2
}
