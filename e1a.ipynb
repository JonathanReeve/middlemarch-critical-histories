{
 "cells": [
  {
   "cell_type": "code",
   "execution_count": 1,
   "metadata": {
    "collapsed": false
   },
   "outputs": [],
   "source": [
    "import json\n",
    "from collections import Counter\n",
    "import pandas as pd\n",
    "from nltk.corpus import names\n",
    "import nltk\n",
    "import re \n",
    "import os\n",
    "import difflib \n",
    "import logging\n",
    "import itertools\n",
    "from nltk.util import ngrams \n",
    "from difflib import SequenceMatcher\n",
    "from string import punctuation\n",
    "from termcolor import colored\n",
    "from IPython.display import clear_output\n",
    "%matplotlib inline"
   ]
  },
  {
   "cell_type": "code",
   "execution_count": 5,
   "metadata": {
    "collapsed": false
   },
   "outputs": [],
   "source": [
    "# Load the data. \n",
    "with open('txt/middlemarch.json') as f: \n",
    "    rawCriticism = f.readlines()\n",
    "\n",
    "# Parse the data. \n",
    "data = [json.loads(line) for line in rawCriticism]\n",
    "\n",
    "# Load Middlemarch\n",
    "with open('middlemarch.txt') as f: \n",
    "    rawMM = f.read()"
   ]
  },
  {
   "cell_type": "code",
   "execution_count": 6,
   "metadata": {
    "collapsed": false
   },
   "outputs": [],
   "source": [
    "class Text: \n",
    "    def __init__(self, raw_text, label, removeStopwords=True): \n",
    "        if type(raw_text) == list: \n",
    "            # JSTOR critical works come in lists, where each item represents a page. \n",
    "            self.text = ' \\n '.join(raw_text)\n",
    "        else: \n",
    "            self.text = raw_text\n",
    "        self.label = label\n",
    "        self.tokens = self.getTokens(removeStopwords)\n",
    "        self.trigrams = self.ngrams(3)\n",
    "        \n",
    "    def getTokens(self, removeStopwords=True): \n",
    "        \"\"\" Tokenizes the text, breaking it up into words, removing punctuation. \"\"\"\n",
    "        tokenizer = nltk.RegexpTokenizer('[a-zA-Z]\\w+\\'?\\w*') # A custom regex tokenizer. \n",
    "        #tokenizer = nltk.RegexpTokenizer('\\w+|\\$[\\d\\.]+|\\S+') # A custom regex tokenizer. \n",
    "        spans = list(tokenizer.span_tokenize(self.text))\n",
    "        # Take note of how many spans there are in the text\n",
    "        #print(spans)\n",
    "        self.length = spans[-1][-1] \n",
    "        tokens = tokenizer.tokenize(self.text)\n",
    "        tokens = [ token.lower() for token in tokens ] # make them lowercase\n",
    "        if not removeStopwords: \n",
    "            self.spans = spans\n",
    "            return tokens\n",
    "        tokenSpans = list(zip(tokens, spans)) # zip it up\n",
    "        stopwords = nltk.corpus.stopwords.words('english') # get stopwords\n",
    "        tokenSpans = [ token for token in tokenSpans if token[0] not in stopwords ] # remove stopwords from zip\n",
    "        self.spans = [ x[1] for x in tokenSpans ] # unzip; get spans\n",
    "        return [ x[0] for x in tokenSpans ] # unzip; get tokens\n",
    "    \n",
    "    def ngrams(self, n): \n",
    "        \"\"\" Returns ngrams for the text.\"\"\"\n",
    "        return list(ngrams(self.tokens, n))\n",
    "\n",
    "class Matcher: \n",
    "    def __init__(self, textObjA, textObjB, threshold=5, ngramSize=3, removeStopwords=True):\n",
    "        \"\"\"\n",
    "        Takes as input two Text() objects, and matches between them.\n",
    "        \"\"\"\n",
    "        self.threshold = threshold\n",
    "        self.ngramSize = ngramSize\n",
    "        \n",
    "        #self.textA, self.textB = Text(fileA, removeStopwords=removeStopwords), \\\n",
    "        #        Text(fileB, removeStopwords=removeStopwords)\n",
    "        self.textA = textObjA\n",
    "        self.textB = textObjB \n",
    "        \n",
    "        self.textAgrams = self.textA.ngrams(ngramSize)\n",
    "        self.textBgrams = self.textB.ngrams(ngramSize)\n",
    "\n",
    "        self.locationsA = []\n",
    "        self.locationsB = []\n",
    "\n",
    "    def getContext(self, text, start, length, context): \n",
    "        match = self.getTokensText(text, start, length)\n",
    "        before = self.getTokensText(text, start-context, context)\n",
    "        after = self.getTokensText(text, start+length, context)\n",
    "        match = colored(match, 'red')\n",
    "        out = \" \".join([before, match, after])\n",
    "        out = out.replace('\\n', ' ') # Replace newlines with spaces. \n",
    "        out = re.sub('\\s+', ' ', out)\n",
    "        return out\n",
    "\n",
    "    def getTokensText(self, text, start, length):  \n",
    "        \"\"\" Looks up the passage in the original text, using its spans. \"\"\"\n",
    "        matchTokens = text.tokens[start:start+length]\n",
    "        spans = text.spans[start:start+length]\n",
    "        if len(spans) == 0: \n",
    "            # Don't try to get text or context beyond the end of a text. \n",
    "            passage = \"\"\n",
    "        else: \n",
    "            passage = text.text[spans[0][0]:spans[-1][-1]]\n",
    "        return passage \n",
    "\n",
    "    def getLocations(self, text, start, length, asPercentages=False): \n",
    "        \"\"\" Gets the numeric locations of the match. \"\"\"\n",
    "        spans = text.spans[start:start+length]\n",
    "        if asPercentages: \n",
    "            locations = (spans[0][0]/text.length, spans[-1][-1]/text.length)\n",
    "        else: \n",
    "            locations = (spans[0][0], spans[-1][-1])\n",
    "        return locations\n",
    "\n",
    "    def getMatch(self, match, textA, textB, context): \n",
    "        length = match.size + self.ngramSize - 1 # offset according to nGram size \n",
    "        wordsA = self.getContext(textA, match.a, length, context)\n",
    "        wordsB = self.getContext(textB, match.b, length, context)\n",
    "        spansA = self.getLocations(textA, match.a, length)\n",
    "        spansB = self.getLocations(textB, match.b, length)\n",
    "        self.locationsA.append(spansA)\n",
    "        self.locationsB.append(spansB)\n",
    "        line1 = ('%s: %s %s' % (colored(textA.label, 'green'), spansA, wordsA) )\n",
    "        line2 = ('%s: %s %s' % (colored(textB.label, 'green'), spansB, wordsB) )\n",
    "        return line1 + '\\n' + line2\n",
    "\n",
    "    def match(self): \n",
    "        \"\"\"\n",
    "        This does the main work of finding matching n-gram sequences between\n",
    "        the texts.\n",
    "        \"\"\"\n",
    "        sequence = SequenceMatcher(None,self.textAgrams,self.textBgrams)\n",
    "        matchingBlocks = sequence.get_matching_blocks()\n",
    "\n",
    "        # Only return the matching sequences that are higher than the \n",
    "        # threshold given by the user. \n",
    "        highMatchingBlocks = [match for match in matchingBlocks if match.size > self.threshold]\n",
    "    \n",
    "        numBlocks = len(highMatchingBlocks)\n",
    "        self.numMatches = numBlocks\n",
    "        \n",
    "        if numBlocks > 0: \n",
    "            logging.info('%s total matches found.' % numBlocks, flush=True)\n",
    "\n",
    "        for num, match in enumerate(highMatchingBlocks): \n",
    "            logging.info('match: ', match)\n",
    "            out = self.getMatch(match, self.textA, self.textB, 5)\n",
    "            logging.info('\\n')\n",
    "            logging.info('match %s:' % (num+1), flush=True)\n",
    "            logging.info(out, flush=True)\n",
    "\n",
    "        return self.numMatches, self.locationsA, self.locationsB"
   ]
  },
  {
   "cell_type": "code",
   "execution_count": 7,
   "metadata": {
    "collapsed": false
   },
   "outputs": [],
   "source": [
    "mm = Text(rawMM, 'Middlemarch')"
   ]
  },
  {
   "cell_type": "code",
   "execution_count": 8,
   "metadata": {
    "collapsed": false
   },
   "outputs": [
    {
     "data": {
      "text/plain": [
       "1793449"
      ]
     },
     "execution_count": 8,
     "metadata": {},
     "output_type": "execute_result"
    }
   ],
   "source": [
    "len(mm.text)"
   ]
  },
  {
   "cell_type": "code",
   "execution_count": 9,
   "metadata": {
    "collapsed": false
   },
   "outputs": [
    {
     "name": "stdout",
     "output_type": "stream",
     "text": [
      " Matching article 6068 of 6069"
     ]
    }
   ],
   "source": [
    "for i, article in enumerate(data): \n",
    "    #clear_output()\n",
    "    print('\\r', 'Matching article %s of %s' % (i, len(data)), end='')\n",
    "    if 'numMatches' not in article: \n",
    "        articleText = Text(article['ocr'], article['id'])\n",
    "        article['numMatches'], article['Locations in A'], article['Locations in B'] = \\\n",
    "        Matcher(mm, articleText).match()"
   ]
  },
  {
   "cell_type": "code",
   "execution_count": 11,
   "metadata": {
    "collapsed": true
   },
   "outputs": [],
   "source": [
    "# Write output somewhere. \n",
    "with open('../txt/e1a.json', 'w') as outfile: \n",
    "    json.dump(data, outfile)"
   ]
  },
  {
   "cell_type": "code",
   "execution_count": 9,
   "metadata": {
    "collapsed": false
   },
   "outputs": [
    {
     "data": {
      "text/plain": [
       "<matplotlib.axes._subplots.AxesSubplot at 0x7f3bd7dcc160>"
      ]
     },
     "execution_count": 9,
     "metadata": {},
     "output_type": "execute_result"
    },
    {
     "data": {
      "image/png": "[encoded data removed]",
      "text/plain": [
       "<matplotlib.figure.Figure at 0x7f3bd4f3ec88>"
      ]
     },
     "metadata": {},
     "output_type": "display_data"
    }
   ],
   "source": [
    "pd.Series([article['matches'][0] for article in data if 'matches' in article and article['matches'][0] > 0]).hist()"
   ]
  },
  {
   "cell_type": "code",
   "execution_count": 14,
   "metadata": {
    "collapsed": false
   },
   "outputs": [
    {
     "data": {
      "text/plain": [
       "891"
      ]
     },
     "execution_count": 14,
     "metadata": {},
     "output_type": "execute_result"
    }
   ],
   "source": [
    "# Number of articles with matches.\n",
    "len([article for article in data if article['matches'][0] > 0])"
   ]
  },
  {
   "cell_type": "code",
   "execution_count": null,
   "metadata": {
    "collapsed": true
   },
   "outputs": [],
   "source": []
  }
 ],
 "metadata": {
  "kernelspec": {
   "display_name": "Python 3",
   "language": "python",
   "name": "python3"
  },
  "language_info": {
   "codemirror_mode": {
    "name": "ipython",
    "version": 3
   },
   "file_extension": ".py",
   "mimetype": "text/x-python",
   "name": "python",
   "nbconvert_exporter": "python",
   "pygments_lexer": "ipython3",
   "version": "3.5.2"
  }
 },
 "nbformat": 4,
 "nbformat_minor": 1
}
