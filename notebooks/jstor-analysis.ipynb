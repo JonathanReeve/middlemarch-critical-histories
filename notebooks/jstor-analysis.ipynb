{
 "cells": [
  {
   "cell_type": "markdown",
   "metadata": {},
   "source": [
    "# Analysis of Text Matching Data Generated from JSTOR Dataset "
   ]
  },
  {
   "cell_type": "code",
   "execution_count": 1,
   "metadata": {},
   "outputs": [
    {
     "ename": "ModuleNotFoundError",
     "evalue": "No module named 'altair'",
     "output_type": "error",
     "traceback": [
      "\u001b[0;31m---------------------------------------------------------------------------\u001b[0m",
      "\u001b[0;31mModuleNotFoundError\u001b[0m                       Traceback (most recent call last)",
      "\u001b[0;32m<ipython-input-1-3f1a51beabfb>\u001b[0m in \u001b[0;36m<module>\u001b[0;34m()\u001b[0m\n\u001b[1;32m      4\u001b[0m \u001b[0;32mimport\u001b[0m \u001b[0mre\u001b[0m\u001b[0;34m\u001b[0m\u001b[0m\n\u001b[1;32m      5\u001b[0m \u001b[0;32mimport\u001b[0m \u001b[0mjson\u001b[0m\u001b[0;34m\u001b[0m\u001b[0m\n\u001b[0;32m----> 6\u001b[0;31m \u001b[0;32mimport\u001b[0m \u001b[0maltair\u001b[0m \u001b[0;32mas\u001b[0m \u001b[0malt\u001b[0m\u001b[0;34m\u001b[0m\u001b[0m\n\u001b[0m\u001b[1;32m      7\u001b[0m \u001b[0;31m#from nltk.corpus import names\u001b[0m\u001b[0;34m\u001b[0m\u001b[0;34m\u001b[0m\u001b[0m\n\u001b[1;32m      8\u001b[0m \u001b[0;32mfrom\u001b[0m \u001b[0mcollections\u001b[0m \u001b[0;32mimport\u001b[0m \u001b[0mCounter\u001b[0m\u001b[0;34m\u001b[0m\u001b[0m\n",
      "\u001b[0;31mModuleNotFoundError\u001b[0m: No module named 'altair'"
     ]
    }
   ],
   "source": [
    "import pandas as pd\n",
    "import numpy as np\n",
    "#import spacy\n",
    "import re\n",
    "import json\n",
    "import altair as alt\n",
    "#from nltk.corpus import names\n",
    "from collections import Counter\n",
    "from matplotlib import pyplot as plt\n",
    "%matplotlib inline\n",
    "plt.rcParams[\"figure.figsize\"] = [16, 6]\n",
    "plt.style.use('ggplot')"
   ]
  },
  {
   "cell_type": "code",
   "execution_count": 2,
   "metadata": {},
   "outputs": [],
   "source": [
    "with open('../middlemarch.txt') as f: \n",
    "    mm = f.read()"
   ]
  },
  {
   "cell_type": "code",
   "execution_count": 3,
   "metadata": {},
   "outputs": [],
   "source": [
    "textALength = len(mm) "
   ]
  },
  {
   "cell_type": "code",
   "execution_count": 4,
   "metadata": {},
   "outputs": [
    {
     "data": {
      "text/plain": [
       "89"
      ]
     },
     "execution_count": 4,
     "metadata": {},
     "output_type": "execute_result"
    }
   ],
   "source": [
    "# Get chapter locations\n",
    "chapterMatches = re.finditer('PRELUDE|CHAPTER|FINALE', mm)\n",
    "chapterLocations = [match.start() for match in chapterMatches]\n",
    "chapterLocations.append(textALength) # Add one to account for last chunk. \n",
    "len(chapterLocations)"
   ]
  },
  {
   "cell_type": "code",
   "execution_count": 5,
   "metadata": {},
   "outputs": [
    {
     "data": {
      "text/plain": [
       "[0, 3054, 250307, 481579, 681858, 915901, 1138247, 1364956, 1571148, 1793449]"
      ]
     },
     "execution_count": 5,
     "metadata": {},
     "output_type": "execute_result"
    }
   ],
   "source": [
    "# Get book locations\n",
    "bookLocations = [match.start() for match in re.finditer('\\nBOOK', mm)]\n",
    "bookLocations = [0] + bookLocations + [textALength] # Add one to account for last chunk.\n",
    "bookLocations"
   ]
  },
  {
   "cell_type": "code",
   "execution_count": 6,
   "metadata": {},
   "outputs": [],
   "source": [
    "def getChapters(text): \n",
    "    chapters = []\n",
    "    for i, loc in enumerate(chapterLocations): \n",
    "        if i != len(chapterLocations)-1: \n",
    "            chapter = mm[loc:chapterLocations[i+1]]\n",
    "            chapters.append(chapter)\n",
    "    return chapters"
   ]
  },
  {
   "cell_type": "code",
   "execution_count": 7,
   "metadata": {},
   "outputs": [
    {
     "ename": "ModuleNotFoundError",
     "evalue": "No module named 'matplotlib'",
     "output_type": "error",
     "traceback": [
      "\u001b[0;31m---------------------------------------------------------------------------\u001b[0m",
      "\u001b[0;31mModuleNotFoundError\u001b[0m                       Traceback (most recent call last)",
      "\u001b[0;32m<ipython-input-7-560a218e09a9>\u001b[0m in \u001b[0;36m<module>\u001b[0;34m()\u001b[0m\n\u001b[1;32m      2\u001b[0m \u001b[0mchapterLengths\u001b[0m \u001b[0;34m=\u001b[0m \u001b[0;34m[\u001b[0m\u001b[0mlen\u001b[0m\u001b[0;34m(\u001b[0m\u001b[0mchapter\u001b[0m\u001b[0;34m.\u001b[0m\u001b[0msplit\u001b[0m\u001b[0;34m(\u001b[0m\u001b[0;34m)\u001b[0m\u001b[0;34m)\u001b[0m \u001b[0;32mfor\u001b[0m \u001b[0mchapter\u001b[0m \u001b[0;32min\u001b[0m \u001b[0mchapters\u001b[0m\u001b[0;34m]\u001b[0m\u001b[0;34m\u001b[0m\u001b[0m\n\u001b[1;32m      3\u001b[0m \u001b[0mchapterLengthsSeries\u001b[0m \u001b[0;34m=\u001b[0m \u001b[0mpd\u001b[0m\u001b[0;34m.\u001b[0m\u001b[0mSeries\u001b[0m\u001b[0;34m(\u001b[0m\u001b[0mchapterLengths\u001b[0m\u001b[0;34m)\u001b[0m\u001b[0;34m\u001b[0m\u001b[0m\n\u001b[0;32m----> 4\u001b[0;31m \u001b[0mchapterLengthsSeries\u001b[0m\u001b[0;34m.\u001b[0m\u001b[0mplot\u001b[0m\u001b[0;34m(\u001b[0m\u001b[0mkind\u001b[0m\u001b[0;34m=\u001b[0m\u001b[0;34m'bar'\u001b[0m\u001b[0;34m,\u001b[0m \u001b[0mtitle\u001b[0m\u001b[0;34m=\u001b[0m\u001b[0;34m'Chapter Lengths'\u001b[0m\u001b[0;34m)\u001b[0m\u001b[0;34m\u001b[0m\u001b[0m\n\u001b[0m",
      "\u001b[0;32m/usr/local/lib/python3.7/site-packages/pandas/plotting/_core.py\u001b[0m in \u001b[0;36m__call__\u001b[0;34m(self, kind, ax, figsize, use_index, title, grid, legend, style, logx, logy, loglog, xticks, yticks, xlim, ylim, rot, fontsize, colormap, table, yerr, xerr, label, secondary_y, **kwds)\u001b[0m\n\u001b[1;32m   2739\u001b[0m                            \u001b[0mcolormap\u001b[0m\u001b[0;34m=\u001b[0m\u001b[0mcolormap\u001b[0m\u001b[0;34m,\u001b[0m \u001b[0mtable\u001b[0m\u001b[0;34m=\u001b[0m\u001b[0mtable\u001b[0m\u001b[0;34m,\u001b[0m \u001b[0myerr\u001b[0m\u001b[0;34m=\u001b[0m\u001b[0myerr\u001b[0m\u001b[0;34m,\u001b[0m\u001b[0;34m\u001b[0m\u001b[0m\n\u001b[1;32m   2740\u001b[0m                            \u001b[0mxerr\u001b[0m\u001b[0;34m=\u001b[0m\u001b[0mxerr\u001b[0m\u001b[0;34m,\u001b[0m \u001b[0mlabel\u001b[0m\u001b[0;34m=\u001b[0m\u001b[0mlabel\u001b[0m\u001b[0;34m,\u001b[0m \u001b[0msecondary_y\u001b[0m\u001b[0;34m=\u001b[0m\u001b[0msecondary_y\u001b[0m\u001b[0;34m,\u001b[0m\u001b[0;34m\u001b[0m\u001b[0m\n\u001b[0;32m-> 2741\u001b[0;31m                            **kwds)\n\u001b[0m\u001b[1;32m   2742\u001b[0m     \u001b[0m__call__\u001b[0m\u001b[0;34m.\u001b[0m\u001b[0m__doc__\u001b[0m \u001b[0;34m=\u001b[0m \u001b[0mplot_series\u001b[0m\u001b[0;34m.\u001b[0m\u001b[0m__doc__\u001b[0m\u001b[0;34m\u001b[0m\u001b[0m\n\u001b[1;32m   2743\u001b[0m \u001b[0;34m\u001b[0m\u001b[0m\n",
      "\u001b[0;32m/usr/local/lib/python3.7/site-packages/pandas/plotting/_core.py\u001b[0m in \u001b[0;36mplot_series\u001b[0;34m(data, kind, ax, figsize, use_index, title, grid, legend, style, logx, logy, loglog, xticks, yticks, xlim, ylim, rot, fontsize, colormap, table, yerr, xerr, label, secondary_y, **kwds)\u001b[0m\n\u001b[1;32m   1988\u001b[0m                 **kwds):\n\u001b[1;32m   1989\u001b[0m \u001b[0;34m\u001b[0m\u001b[0m\n\u001b[0;32m-> 1990\u001b[0;31m     \u001b[0;32mimport\u001b[0m \u001b[0mmatplotlib\u001b[0m\u001b[0;34m.\u001b[0m\u001b[0mpyplot\u001b[0m \u001b[0;32mas\u001b[0m \u001b[0mplt\u001b[0m\u001b[0;34m\u001b[0m\u001b[0m\n\u001b[0m\u001b[1;32m   1991\u001b[0m     \u001b[0;32mif\u001b[0m \u001b[0max\u001b[0m \u001b[0;32mis\u001b[0m \u001b[0;32mNone\u001b[0m \u001b[0;32mand\u001b[0m \u001b[0mlen\u001b[0m\u001b[0;34m(\u001b[0m\u001b[0mplt\u001b[0m\u001b[0;34m.\u001b[0m\u001b[0mget_fignums\u001b[0m\u001b[0;34m(\u001b[0m\u001b[0;34m)\u001b[0m\u001b[0;34m)\u001b[0m \u001b[0;34m>\u001b[0m \u001b[0;36m0\u001b[0m\u001b[0;34m:\u001b[0m\u001b[0;34m\u001b[0m\u001b[0m\n\u001b[1;32m   1992\u001b[0m         \u001b[0max\u001b[0m \u001b[0;34m=\u001b[0m \u001b[0m_gca\u001b[0m\u001b[0;34m(\u001b[0m\u001b[0;34m)\u001b[0m\u001b[0;34m\u001b[0m\u001b[0m\n",
      "\u001b[0;31mModuleNotFoundError\u001b[0m: No module named 'matplotlib'"
     ]
    }
   ],
   "source": [
    "chapters = getChapters(mm)\n",
    "chapterLengths = [len(chapter.split()) for chapter in chapters]\n",
    "chapterLengthsSeries = pd.Series(chapterLengths)\n",
    "chapterLengthsSeries.plot(kind='bar', title='Chapter Lengths')"
   ]
  },
  {
   "cell_type": "code",
   "execution_count": 8,
   "metadata": {},
   "outputs": [],
   "source": [
    "df = pd.read_json('../data/e3.json')"
   ]
  },
  {
   "cell_type": "code",
   "execution_count": 9,
   "metadata": {},
   "outputs": [],
   "source": [
    "df['Decade'] = df['year'] - (df['year'] % 10)\n",
    "# df['Locations in A'] = df['matches'].apply(lambda x: x[1])\n",
    "# df['NumMatches'] = df['matches'].apply(lambda x: x[0])"
   ]
  },
  {
   "cell_type": "code",
   "execution_count": 10,
   "metadata": {},
   "outputs": [
    {
     "data": {
      "text/plain": [
       "1794"
      ]
     },
     "execution_count": 10,
     "metadata": {},
     "output_type": "execute_result"
    }
   ],
   "source": [
    "sum([len(item) for item in df['Locations in A'].values])"
   ]
  },
  {
   "cell_type": "markdown",
   "metadata": {},
   "source": [
    "# How many articles do we have? "
   ]
  },
  {
   "cell_type": "code",
   "execution_count": 11,
   "metadata": {},
   "outputs": [
    {
     "data": {
      "text/plain": [
       "6069"
      ]
     },
     "execution_count": 11,
     "metadata": {},
     "output_type": "execute_result"
    }
   ],
   "source": [
    "len(df) # Total articles with \"Middlemarch\" mentioned somewhere"
   ]
  },
  {
   "cell_type": "markdown",
   "metadata": {},
   "source": [
    "Find only those with non-trivial quotations from Middlemarch: "
   ]
  },
  {
   "cell_type": "code",
   "execution_count": 12,
   "metadata": {},
   "outputs": [
    {
     "data": {
      "text/plain": [
       "count     489.000000\n",
       "mean     1991.871166\n",
       "std        18.477106\n",
       "min      1873.000000\n",
       "25%      1980.000000\n",
       "50%      1995.000000\n",
       "75%      2007.000000\n",
       "max      2016.000000\n",
       "Name: year, dtype: float64"
      ]
     },
     "execution_count": 12,
     "metadata": {},
     "output_type": "execute_result"
    }
   ],
   "source": [
    "articlesWithMatches = df[df['Locations in A'].apply(lambda x: len(x) > 0)]\n",
    "articlesWithMatches.year.describe()"
   ]
  },
  {
   "cell_type": "code",
   "execution_count": 13,
   "metadata": {},
   "outputs": [
    {
     "data": {
      "text/plain": [
       "0       17\n",
       "10      12\n",
       "100      3\n",
       "1000     2\n",
       "1008     2\n",
       "Name: Wordcounts, dtype: int64"
      ]
     },
     "execution_count": 13,
     "metadata": {},
     "output_type": "execute_result"
    }
   ],
   "source": [
    "articlesWithMatches.Wordcounts.apply(len).head()"
   ]
  },
  {
   "cell_type": "code",
   "execution_count": 14,
   "metadata": {},
   "outputs": [],
   "source": [
    "# articlesWithMatches.to_json('../data/cleaned-matches.json')"
   ]
  },
  {
   "cell_type": "markdown",
   "metadata": {},
   "source": [
    "## How many articles do we have published in each year? "
   ]
  },
  {
   "cell_type": "code",
   "execution_count": 15,
   "metadata": {},
   "outputs": [
    {
     "ename": "NameError",
     "evalue": "name 'alt' is not defined",
     "output_type": "error",
     "traceback": [
      "\u001b[0;31m---------------------------------------------------------------------------\u001b[0m",
      "\u001b[0;31mNameError\u001b[0m                                 Traceback (most recent call last)",
      "\u001b[0;32m<ipython-input-15-9c65a1333e48>\u001b[0m in \u001b[0;36m<module>\u001b[0;34m()\u001b[0m\n\u001b[0;32m----> 1\u001b[0;31m \u001b[0malt\u001b[0m\u001b[0;34m.\u001b[0m\u001b[0mChart\u001b[0m\u001b[0;34m(\u001b[0m\u001b[0marticlesWithMatches\u001b[0m\u001b[0;34m)\u001b[0m\u001b[0;34m.\u001b[0m\u001b[0mmark_bar\u001b[0m\u001b[0;34m(\u001b[0m\u001b[0;34m)\u001b[0m\u001b[0;34m.\u001b[0m\u001b[0mencode\u001b[0m\u001b[0;34m(\u001b[0m\u001b[0mx\u001b[0m\u001b[0;34m=\u001b[0m\u001b[0;34m'year:O'\u001b[0m\u001b[0;34m,\u001b[0m \u001b[0my\u001b[0m\u001b[0;34m=\u001b[0m\u001b[0;34m'count()'\u001b[0m\u001b[0;34m)\u001b[0m\u001b[0;34m.\u001b[0m\u001b[0mproperties\u001b[0m\u001b[0;34m(\u001b[0m\u001b[0mwidth\u001b[0m\u001b[0;34m=\u001b[0m\u001b[0;36m1000\u001b[0m\u001b[0;34m)\u001b[0m\u001b[0;34m\u001b[0m\u001b[0m\n\u001b[0m",
      "\u001b[0;31mNameError\u001b[0m: name 'alt' is not defined"
     ]
    }
   ],
   "source": [
    "alt.Chart(articlesWithMatches).mark_bar().encode(x='year:O', y='count()').properties(width=1000)"
   ]
  },
  {
   "cell_type": "code",
   "execution_count": 16,
   "metadata": {},
   "outputs": [
    {
     "data": {
      "text/plain": [
       "Index(['Locations in A', 'Locations in B', 'author', 'coverdate', 'disc_name',\n",
       "       'doi', 'id', 'jcode', 'journal', 'la', 'no', 'numMatches', 'pages',\n",
       "       'publisher_name', 'sp', 'srcHtml', 'title', 'topics', 'ty', 'vo',\n",
       "       'year', 'Decade', 'Quoted Words', 'Locations in A with Wordcounts',\n",
       "       'Wordcounts'],\n",
       "      dtype='object')"
      ]
     },
     "execution_count": 16,
     "metadata": {},
     "output_type": "execute_result"
    }
   ],
   "source": [
    "df.columns"
   ]
  },
  {
   "cell_type": "code",
   "execution_count": 17,
   "metadata": {},
   "outputs": [
    {
     "data": {
      "text/plain": [
       "[Language & Literature, Humanities]                                                     201\n",
       "[Language & Literature]                                                                  72\n",
       "[Humanities, Language & Literature]                                                      59\n",
       "[Language & Literature, History, British Studies, History, Area Studies, Humanities]     15\n",
       "[Area Studies, British Studies, Humanities, Language & Literature]                        9\n",
       "Name: disc_name, dtype: int64"
      ]
     },
     "execution_count": 17,
     "metadata": {},
     "output_type": "execute_result"
    }
   ],
   "source": [
    "df[df['Quoted Words'] > 0]['disc_name'].value_counts().head()"
   ]
  },
  {
   "cell_type": "markdown",
   "metadata": {},
   "source": [
    "## Find Number of Garbage Articles\n",
    "I.e., articles that just contain front matter, contents, etc. "
   ]
  },
  {
   "cell_type": "code",
   "execution_count": 18,
   "metadata": {},
   "outputs": [],
   "source": [
    "def isGarbage(itemTitle): \n",
    "    badTitles = ['front matter', 'back matter', 'table of contents', 'cover']\n",
    "    if itemTitle == None: \n",
    "        return False\n",
    "    for title in itemTitle: \n",
    "        for badTitle in badTitles: \n",
    "            if badTitle in title.lower(): \n",
    "                return True\n",
    "    return False"
   ]
  },
  {
   "cell_type": "code",
   "execution_count": 19,
   "metadata": {},
   "outputs": [
    {
     "data": {
      "text/plain": [
       "457"
      ]
     },
     "execution_count": 19,
     "metadata": {},
     "output_type": "execute_result"
    }
   ],
   "source": [
    "len(df[df.title.apply(isGarbage)]) # How many garbage items? "
   ]
  },
  {
   "cell_type": "markdown",
   "metadata": {},
   "source": [
    "# Average Numbers of Quoted Words Per Item"
   ]
  },
  {
   "cell_type": "code",
   "execution_count": 20,
   "metadata": {},
   "outputs": [
    {
     "data": {
      "text/plain": [
       "count    6069.000000\n",
       "mean       19.240896\n",
       "std       105.153455\n",
       "min         0.000000\n",
       "25%         0.000000\n",
       "50%         0.000000\n",
       "75%         0.000000\n",
       "max      2498.000000\n",
       "Name: Quoted Words, dtype: float64"
      ]
     },
     "execution_count": 20,
     "metadata": {},
     "output_type": "execute_result"
    }
   ],
   "source": [
    "df['Quoted Words'].describe()"
   ]
  },
  {
   "cell_type": "code",
   "execution_count": 21,
   "metadata": {},
   "outputs": [
    {
     "data": {
      "text/plain": [
       "count     489.000000\n",
       "mean      238.799591\n",
       "std       291.466263\n",
       "min        13.000000\n",
       "25%        68.000000\n",
       "50%       141.000000\n",
       "75%       281.000000\n",
       "max      2498.000000\n",
       "Name: Quoted Words, dtype: float64"
      ]
     },
     "execution_count": 21,
     "metadata": {},
     "output_type": "execute_result"
    }
   ],
   "source": [
    "articlesWithMatches['Quoted Words'].describe()"
   ]
  },
  {
   "cell_type": "code",
   "execution_count": 22,
   "metadata": {},
   "outputs": [
    {
     "data": {
      "text/plain": [
       "489"
      ]
     },
     "execution_count": 22,
     "metadata": {},
     "output_type": "execute_result"
    }
   ],
   "source": [
    "len(df[df['Quoted Words'] > 0])"
   ]
  },
  {
   "cell_type": "code",
   "execution_count": 23,
   "metadata": {},
   "outputs": [
    {
     "ename": "ModuleNotFoundError",
     "evalue": "No module named 'matplotlib'",
     "output_type": "error",
     "traceback": [
      "\u001b[0;31m---------------------------------------------------------------------------\u001b[0m",
      "\u001b[0;31mModuleNotFoundError\u001b[0m                       Traceback (most recent call last)",
      "\u001b[0;32m<ipython-input-23-606aed2e52f7>\u001b[0m in \u001b[0;36m<module>\u001b[0;34m()\u001b[0m\n\u001b[0;32m----> 1\u001b[0;31m \u001b[0marticlesWithMatches\u001b[0m\u001b[0;34m[\u001b[0m\u001b[0;34m'Quoted Words'\u001b[0m\u001b[0;34m]\u001b[0m\u001b[0;34m.\u001b[0m\u001b[0mhist\u001b[0m\u001b[0;34m(\u001b[0m\u001b[0;34m)\u001b[0m\u001b[0;34m\u001b[0m\u001b[0m\n\u001b[0m",
      "\u001b[0;32m/usr/local/lib/python3.7/site-packages/pandas/plotting/_core.py\u001b[0m in \u001b[0;36mhist_series\u001b[0;34m(self, by, ax, grid, xlabelsize, xrot, ylabelsize, yrot, figsize, bins, **kwds)\u001b[0m\n\u001b[1;32m   2461\u001b[0m \u001b[0;34m\u001b[0m\u001b[0m\n\u001b[1;32m   2462\u001b[0m     \"\"\"\n\u001b[0;32m-> 2463\u001b[0;31m     \u001b[0;32mimport\u001b[0m \u001b[0mmatplotlib\u001b[0m\u001b[0;34m.\u001b[0m\u001b[0mpyplot\u001b[0m \u001b[0;32mas\u001b[0m \u001b[0mplt\u001b[0m\u001b[0;34m\u001b[0m\u001b[0m\n\u001b[0m\u001b[1;32m   2464\u001b[0m \u001b[0;34m\u001b[0m\u001b[0m\n\u001b[1;32m   2465\u001b[0m     \u001b[0;32mif\u001b[0m \u001b[0mby\u001b[0m \u001b[0;32mis\u001b[0m \u001b[0;32mNone\u001b[0m\u001b[0;34m:\u001b[0m\u001b[0;34m\u001b[0m\u001b[0m\n",
      "\u001b[0;31mModuleNotFoundError\u001b[0m: No module named 'matplotlib'"
     ]
    }
   ],
   "source": [
    "articlesWithMatches['Quoted Words'].hist()"
   ]
  },
  {
   "cell_type": "markdown",
   "metadata": {},
   "source": [
    "## Stats about Wordcounts\n",
    "\n",
    "Average number of words per match, per item: "
   ]
  },
  {
   "cell_type": "code",
   "execution_count": 24,
   "metadata": {},
   "outputs": [
    {
     "data": {
      "text/plain": [
       "0        67.235294\n",
       "10       62.416667\n",
       "100      34.666667\n",
       "1000     97.500000\n",
       "1008    113.500000\n",
       "Name: Wordcounts, dtype: float64"
      ]
     },
     "execution_count": 24,
     "metadata": {},
     "output_type": "execute_result"
    }
   ],
   "source": [
    "articlesWithMatches['Wordcounts'].apply(np.mean).head()"
   ]
  },
  {
   "cell_type": "code",
   "execution_count": 25,
   "metadata": {},
   "outputs": [
    {
     "data": {
      "text/plain": [
       "count    489.000000\n",
       "mean      69.712270\n",
       "std       50.153803\n",
       "min       13.000000\n",
       "25%       37.000000\n",
       "50%       58.500000\n",
       "75%       86.000000\n",
       "max      435.333333\n",
       "Name: Wordcounts, dtype: float64"
      ]
     },
     "execution_count": 25,
     "metadata": {},
     "output_type": "execute_result"
    }
   ],
   "source": [
    "articlesWithMatches['Wordcounts'].apply(np.mean).describe()"
   ]
  },
  {
   "cell_type": "code",
   "execution_count": 26,
   "metadata": {},
   "outputs": [],
   "source": [
    "def diachronicAnalysis(df, decades=(1950, 2020), bins=chapterLocations, useWordcounts=True, normalize=True):\n",
    "    \"\"\" Turning on useWordcounts makes it so that it's weighted by wordcount. \n",
    "    Turning it off uses raw numbers of quotations. \"\"\"\n",
    "    decades = np.arange(decades[0], decades[1], 10)\n",
    "    # Make a dictionary of decades. \n",
    "    # Values are a list of locations.  \n",
    "    decadeDict = {}\n",
    "    for i, row in df.iterrows():\n",
    "        decade = row['Decade']\n",
    "        locationsAndWordcounts = row['Locations in A with Wordcounts']\n",
    "        if decade not in decadeDict: \n",
    "            decadeDict[decade] = locationsAndWordcounts.copy()\n",
    "        else: \n",
    "            decadeDict[decade] += locationsAndWordcounts.copy()\n",
    "    # Grab the beginnings of quotes. \n",
    "    decadeStartsWeights = {decade: [(item[0][0], item[1]) \n",
    "                                    for item in loc] \n",
    "                    for decade, loc in decadeDict.items()}\n",
    "    if useWordcounts: \n",
    "        decadesBinned = {decade: \n",
    "                     np.histogram([loc[0] for loc in locations], \n",
    "                                  bins=bins,\n",
    "                                  weights=[loc[1] for loc in locations],\n",
    "                                  range=(0, textALength))[0]\n",
    "                     for decade, locations in decadeStartsWeights.items() \n",
    "                         if decade in decades}\n",
    "    else: \n",
    "        decadesBinned = {decade: \n",
    "                     np.histogram([loc[0] for loc in locations], \n",
    "                                  bins=bins,\n",
    "                                  range=(0, textALength))[0]\n",
    "                     for decade, locations in decadeStartsWeights.items() \n",
    "                         if decade in decades}\n",
    "    decadesDF = pd.DataFrame(decadesBinned).T\n",
    "    #Normalize\n",
    "    if normalize: \n",
    "        decadesDF = decadesDF.div(decadesDF.max(axis=1), axis=0)\n",
    "    return decadesDF\n",
    "\n",
    "def countWords(locRange): \n",
    "    \"\"\" Counts words in middlemarch, given character ranges. \"\"\"\n",
    "    chunk = mm[locRange[0]:locRange[1]]\n",
    "    return len(chunk.split())\n",
    "\n",
    "def totalWords(locRangeSet): \n",
    "    \"\"\" Counts total words in a list of location ranges. \"\"\"\n",
    "    return sum([countWords(locRange) for locRange in locRangeSet])    \n",
    "    \n",
    "def countsPerSet(locRangeSet): \n",
    "    \"\"\" Returns an augmented location range set that includes word counts. \"\"\"\n",
    "    return [(locRange, countWords(locRange))\n",
    "             for locRange in locRangeSet]\n",
    "    \n",
    "def extractWordcounts(locsAndWordcounts): \n",
    "    \"\"\" \n",
    "    Takes pairs of location ranges and wordcounts, \n",
    "    and returns just the wordcounts. \n",
    "    \"\"\"\n",
    "    return [item[1] for item in locsAndWordcounts \n",
    "            if len(locsAndWordcounts) > 0]\n",
    "\n",
    "def synchronicAnalysis(df, bins=chapterLocations, useWordcounts=True): \n",
    "    locs = df['Locations in A'].values\n",
    "    locCounts = [(loc, countWords(loc)) for locSet in locs\n",
    "              for loc in locSet]\n",
    "    starts = [loc[0][0] for loc in locCounts]\n",
    "    counts = [loc[1] for loc in locCounts]\n",
    "    if useWordcounts: \n",
    "        binned = np.histogram(starts, bins=bins, \n",
    "                              weights=counts, range=(0, textALength))\n",
    "    else: \n",
    "        binned = np.histogram(starts, bins=bins, \n",
    "                              range=(0, textALength))\n",
    "    binnedDF = pd.Series(binned[0])\n",
    "    return binnedDF\n",
    "\n",
    "def plotDiachronicAnalysis(df, save=False, reverse=False): \n",
    "    ylabels = [str(int(decade)) for decade in df.index] + ['2020']\n",
    "    plt.pcolor(df, cmap='gnuplot')\n",
    "    plt.yticks(np.arange(len(df.index)+1), ylabels)\n",
    "    plt.gca().invert_yaxis()\n",
    "    plt.ylabel('Decade')\n",
    "    plt.xlabel('Chapter')\n",
    "    plt.gca().set_xlim((0, len(df.T)))\n",
    "    plt.colorbar(ticks=[])\n",
    "    if save: \n",
    "        plt.savefig('diachronic.png', bboxinches='tight', dpi=300, transparent=True)\n",
    "    plt.show()\n",
    "    \n",
    "def plotSynchronicAnalysis(s, useWordcounts=True): \n",
    "    ax = s.plot(kind='bar')\n",
    "    ax.set_xlabel('Chapter')\n",
    "    if useWordcounts: \n",
    "        ax.set_ylabel('Number of Words Quoted')\n",
    "    else: \n",
    "        ax.set_ylabel('Number of Quotations')"
   ]
  },
  {
   "cell_type": "code",
   "execution_count": 27,
   "metadata": {},
   "outputs": [],
   "source": [
    "df['Quoted Words'] = df['Locations in A'].apply(totalWords)"
   ]
  },
  {
   "cell_type": "code",
   "execution_count": 28,
   "metadata": {},
   "outputs": [],
   "source": [
    "df['Locations in A with Wordcounts'] = df['Locations in A'].apply(countsPerSet)"
   ]
  },
  {
   "cell_type": "code",
   "execution_count": 29,
   "metadata": {},
   "outputs": [
    {
     "data": {
      "text/plain": [
       "95120.0"
      ]
     },
     "execution_count": 29,
     "metadata": {},
     "output_type": "execute_result"
    }
   ],
   "source": [
    "# Verify that the diachronic wordcounts are the same as the synchronic wordcounts\n",
    "decadeSums = diachronicAnalysis(df, decades=(1700, 2020), useWordcounts=True, normalize=False).sum(axis=1)\n",
    "decadeSums.sum()"
   ]
  },
  {
   "cell_type": "code",
   "execution_count": 30,
   "metadata": {},
   "outputs": [
    {
     "data": {
      "text/plain": [
       "95120"
      ]
     },
     "execution_count": 30,
     "metadata": {},
     "output_type": "execute_result"
    }
   ],
   "source": [
    "chapterSums = synchronicAnalysis(df)\n",
    "chapterSums.sum()"
   ]
  },
  {
   "cell_type": "markdown",
   "metadata": {},
   "source": [
    "# Quotation Length Statistics"
   ]
  },
  {
   "cell_type": "code",
   "execution_count": 36,
   "metadata": {},
   "outputs": [],
   "source": [
    "df['Wordcounts'] = df['Locations in A with Wordcounts'].apply(extractWordcounts)"
   ]
  },
  {
   "cell_type": "code",
   "execution_count": 37,
   "metadata": {},
   "outputs": [],
   "source": [
    "wordcounts = []\n",
    "for countSet in df['Wordcounts'].values: \n",
    "    for count in countSet: \n",
    "        wordcounts.append(count)"
   ]
  },
  {
   "cell_type": "code",
   "execution_count": 38,
   "metadata": {},
   "outputs": [
    {
     "ename": "ModuleNotFoundError",
     "evalue": "No module named 'matplotlib'",
     "output_type": "error",
     "traceback": [
      "\u001b[0;31m---------------------------------------------------------------------------\u001b[0m",
      "\u001b[0;31mModuleNotFoundError\u001b[0m                       Traceback (most recent call last)",
      "\u001b[0;32m<ipython-input-38-7a6ad7870e6b>\u001b[0m in \u001b[0;36m<module>\u001b[0;34m()\u001b[0m\n\u001b[0;32m----> 1\u001b[0;31m \u001b[0mpd\u001b[0m\u001b[0;34m.\u001b[0m\u001b[0mSeries\u001b[0m\u001b[0;34m(\u001b[0m\u001b[0mwordcounts\u001b[0m\u001b[0;34m)\u001b[0m\u001b[0;34m.\u001b[0m\u001b[0mhist\u001b[0m\u001b[0;34m(\u001b[0m\u001b[0;34m)\u001b[0m\u001b[0;34m\u001b[0m\u001b[0m\n\u001b[0m",
      "\u001b[0;32m/usr/local/lib/python3.7/site-packages/pandas/plotting/_core.py\u001b[0m in \u001b[0;36mhist_series\u001b[0;34m(self, by, ax, grid, xlabelsize, xrot, ylabelsize, yrot, figsize, bins, **kwds)\u001b[0m\n\u001b[1;32m   2461\u001b[0m \u001b[0;34m\u001b[0m\u001b[0m\n\u001b[1;32m   2462\u001b[0m     \"\"\"\n\u001b[0;32m-> 2463\u001b[0;31m     \u001b[0;32mimport\u001b[0m \u001b[0mmatplotlib\u001b[0m\u001b[0;34m.\u001b[0m\u001b[0mpyplot\u001b[0m \u001b[0;32mas\u001b[0m \u001b[0mplt\u001b[0m\u001b[0;34m\u001b[0m\u001b[0m\n\u001b[0m\u001b[1;32m   2464\u001b[0m \u001b[0;34m\u001b[0m\u001b[0m\n\u001b[1;32m   2465\u001b[0m     \u001b[0;32mif\u001b[0m \u001b[0mby\u001b[0m \u001b[0;32mis\u001b[0m \u001b[0;32mNone\u001b[0m\u001b[0;34m:\u001b[0m\u001b[0;34m\u001b[0m\u001b[0m\n",
      "\u001b[0;31mModuleNotFoundError\u001b[0m: No module named 'matplotlib'"
     ]
    }
   ],
   "source": [
    "pd.Series(wordcounts).hist()"
   ]
  },
  {
   "cell_type": "markdown",
   "metadata": {},
   "source": [
    "# Number of Quotes (and words Quoted) by Chapter"
   ]
  },
  {
   "cell_type": "code",
   "execution_count": 39,
   "metadata": {},
   "outputs": [
    {
     "ename": "ModuleNotFoundError",
     "evalue": "No module named 'matplotlib'",
     "output_type": "error",
     "traceback": [
      "\u001b[0;31m---------------------------------------------------------------------------\u001b[0m",
      "\u001b[0;31mModuleNotFoundError\u001b[0m                       Traceback (most recent call last)",
      "\u001b[0;32m<ipython-input-39-58641f9ee6d2>\u001b[0m in \u001b[0;36m<module>\u001b[0;34m()\u001b[0m\n\u001b[0;32m----> 1\u001b[0;31m \u001b[0mplotSynchronicAnalysis\u001b[0m\u001b[0;34m(\u001b[0m\u001b[0msynchronicAnalysis\u001b[0m\u001b[0;34m(\u001b[0m\u001b[0mdf\u001b[0m\u001b[0;34m)\u001b[0m\u001b[0;34m)\u001b[0m\u001b[0;34m\u001b[0m\u001b[0m\n\u001b[0m",
      "\u001b[0;32m<ipython-input-31-a3c2130ae7cd>\u001b[0m in \u001b[0;36mplotSynchronicAnalysis\u001b[0;34m(s, useWordcounts)\u001b[0m\n\u001b[1;32m     89\u001b[0m \u001b[0;34m\u001b[0m\u001b[0m\n\u001b[1;32m     90\u001b[0m \u001b[0;32mdef\u001b[0m \u001b[0mplotSynchronicAnalysis\u001b[0m\u001b[0;34m(\u001b[0m\u001b[0ms\u001b[0m\u001b[0;34m,\u001b[0m \u001b[0museWordcounts\u001b[0m\u001b[0;34m=\u001b[0m\u001b[0;32mTrue\u001b[0m\u001b[0;34m)\u001b[0m\u001b[0;34m:\u001b[0m\u001b[0;34m\u001b[0m\u001b[0m\n\u001b[0;32m---> 91\u001b[0;31m     \u001b[0max\u001b[0m \u001b[0;34m=\u001b[0m \u001b[0ms\u001b[0m\u001b[0;34m.\u001b[0m\u001b[0mplot\u001b[0m\u001b[0;34m(\u001b[0m\u001b[0mkind\u001b[0m\u001b[0;34m=\u001b[0m\u001b[0;34m'bar'\u001b[0m\u001b[0;34m)\u001b[0m\u001b[0;34m\u001b[0m\u001b[0m\n\u001b[0m\u001b[1;32m     92\u001b[0m     \u001b[0max\u001b[0m\u001b[0;34m.\u001b[0m\u001b[0mset_xlabel\u001b[0m\u001b[0;34m(\u001b[0m\u001b[0;34m'Chapter'\u001b[0m\u001b[0;34m)\u001b[0m\u001b[0;34m\u001b[0m\u001b[0m\n\u001b[1;32m     93\u001b[0m     \u001b[0;32mif\u001b[0m \u001b[0museWordcounts\u001b[0m\u001b[0;34m:\u001b[0m\u001b[0;34m\u001b[0m\u001b[0m\n",
      "\u001b[0;32m/usr/local/lib/python3.7/site-packages/pandas/plotting/_core.py\u001b[0m in \u001b[0;36m__call__\u001b[0;34m(self, kind, ax, figsize, use_index, title, grid, legend, style, logx, logy, loglog, xticks, yticks, xlim, ylim, rot, fontsize, colormap, table, yerr, xerr, label, secondary_y, **kwds)\u001b[0m\n\u001b[1;32m   2739\u001b[0m                            \u001b[0mcolormap\u001b[0m\u001b[0;34m=\u001b[0m\u001b[0mcolormap\u001b[0m\u001b[0;34m,\u001b[0m \u001b[0mtable\u001b[0m\u001b[0;34m=\u001b[0m\u001b[0mtable\u001b[0m\u001b[0;34m,\u001b[0m \u001b[0myerr\u001b[0m\u001b[0;34m=\u001b[0m\u001b[0myerr\u001b[0m\u001b[0;34m,\u001b[0m\u001b[0;34m\u001b[0m\u001b[0m\n\u001b[1;32m   2740\u001b[0m                            \u001b[0mxerr\u001b[0m\u001b[0;34m=\u001b[0m\u001b[0mxerr\u001b[0m\u001b[0;34m,\u001b[0m \u001b[0mlabel\u001b[0m\u001b[0;34m=\u001b[0m\u001b[0mlabel\u001b[0m\u001b[0;34m,\u001b[0m \u001b[0msecondary_y\u001b[0m\u001b[0;34m=\u001b[0m\u001b[0msecondary_y\u001b[0m\u001b[0;34m,\u001b[0m\u001b[0;34m\u001b[0m\u001b[0m\n\u001b[0;32m-> 2741\u001b[0;31m                            **kwds)\n\u001b[0m\u001b[1;32m   2742\u001b[0m     \u001b[0m__call__\u001b[0m\u001b[0;34m.\u001b[0m\u001b[0m__doc__\u001b[0m \u001b[0;34m=\u001b[0m \u001b[0mplot_series\u001b[0m\u001b[0;34m.\u001b[0m\u001b[0m__doc__\u001b[0m\u001b[0;34m\u001b[0m\u001b[0m\n\u001b[1;32m   2743\u001b[0m \u001b[0;34m\u001b[0m\u001b[0m\n",
      "\u001b[0;32m/usr/local/lib/python3.7/site-packages/pandas/plotting/_core.py\u001b[0m in \u001b[0;36mplot_series\u001b[0;34m(data, kind, ax, figsize, use_index, title, grid, legend, style, logx, logy, loglog, xticks, yticks, xlim, ylim, rot, fontsize, colormap, table, yerr, xerr, label, secondary_y, **kwds)\u001b[0m\n\u001b[1;32m   1988\u001b[0m                 **kwds):\n\u001b[1;32m   1989\u001b[0m \u001b[0;34m\u001b[0m\u001b[0m\n\u001b[0;32m-> 1990\u001b[0;31m     \u001b[0;32mimport\u001b[0m \u001b[0mmatplotlib\u001b[0m\u001b[0;34m.\u001b[0m\u001b[0mpyplot\u001b[0m \u001b[0;32mas\u001b[0m \u001b[0mplt\u001b[0m\u001b[0;34m\u001b[0m\u001b[0m\n\u001b[0m\u001b[1;32m   1991\u001b[0m     \u001b[0;32mif\u001b[0m \u001b[0max\u001b[0m \u001b[0;32mis\u001b[0m \u001b[0;32mNone\u001b[0m \u001b[0;32mand\u001b[0m \u001b[0mlen\u001b[0m\u001b[0;34m(\u001b[0m\u001b[0mplt\u001b[0m\u001b[0;34m.\u001b[0m\u001b[0mget_fignums\u001b[0m\u001b[0;34m(\u001b[0m\u001b[0;34m)\u001b[0m\u001b[0;34m)\u001b[0m \u001b[0;34m>\u001b[0m \u001b[0;36m0\u001b[0m\u001b[0;34m:\u001b[0m\u001b[0;34m\u001b[0m\u001b[0m\n\u001b[1;32m   1992\u001b[0m         \u001b[0max\u001b[0m \u001b[0;34m=\u001b[0m \u001b[0m_gca\u001b[0m\u001b[0;34m(\u001b[0m\u001b[0;34m)\u001b[0m\u001b[0;34m\u001b[0m\u001b[0m\n",
      "\u001b[0;31mModuleNotFoundError\u001b[0m: No module named 'matplotlib'"
     ]
    }
   ],
   "source": [
    "plotSynchronicAnalysis(synchronicAnalysis(df))"
   ]
  },
  {
   "cell_type": "code",
   "execution_count": 40,
   "metadata": {},
   "outputs": [],
   "source": [
    "synchronicAnalysis(df, useWordcounts=True).to_csv('../papers/spring2017-middlemarch-paper/data/num-words-quoted-per-chapter.csv')"
   ]
  },
  {
   "cell_type": "code",
   "execution_count": 41,
   "metadata": {},
   "outputs": [],
   "source": [
    "allMatches = []\n",
    "for group in df['Locations in A'].values: \n",
    "    for pair in group: \n",
    "        allMatches.append(pair)"
   ]
  },
  {
   "cell_type": "code",
   "execution_count": 42,
   "metadata": {},
   "outputs": [
    {
     "data": {
      "text/plain": [
       "1794"
      ]
     },
     "execution_count": 42,
     "metadata": {},
     "output_type": "execute_result"
    }
   ],
   "source": [
    "len(allMatches)"
   ]
  },
  {
   "cell_type": "code",
   "execution_count": 43,
   "metadata": {},
   "outputs": [
    {
     "ename": "ModuleNotFoundError",
     "evalue": "No module named 'matplotlib'",
     "output_type": "error",
     "traceback": [
      "\u001b[0;31m---------------------------------------------------------------------------\u001b[0m",
      "\u001b[0;31mModuleNotFoundError\u001b[0m                       Traceback (most recent call last)",
      "\u001b[0;32m<ipython-input-43-862f46ad7453>\u001b[0m in \u001b[0;36m<module>\u001b[0;34m()\u001b[0m\n\u001b[0;32m----> 1\u001b[0;31m \u001b[0mplotSynchronicAnalysis\u001b[0m\u001b[0;34m(\u001b[0m\u001b[0msynchronicAnalysis\u001b[0m\u001b[0;34m(\u001b[0m\u001b[0mdf\u001b[0m\u001b[0;34m,\u001b[0m \u001b[0museWordcounts\u001b[0m\u001b[0;34m=\u001b[0m\u001b[0;32mFalse\u001b[0m\u001b[0;34m)\u001b[0m\u001b[0;34m,\u001b[0m \u001b[0museWordcounts\u001b[0m\u001b[0;34m=\u001b[0m\u001b[0;32mFalse\u001b[0m\u001b[0;34m)\u001b[0m\u001b[0;34m\u001b[0m\u001b[0m\n\u001b[0m",
      "\u001b[0;32m<ipython-input-31-a3c2130ae7cd>\u001b[0m in \u001b[0;36mplotSynchronicAnalysis\u001b[0;34m(s, useWordcounts)\u001b[0m\n\u001b[1;32m     89\u001b[0m \u001b[0;34m\u001b[0m\u001b[0m\n\u001b[1;32m     90\u001b[0m \u001b[0;32mdef\u001b[0m \u001b[0mplotSynchronicAnalysis\u001b[0m\u001b[0;34m(\u001b[0m\u001b[0ms\u001b[0m\u001b[0;34m,\u001b[0m \u001b[0museWordcounts\u001b[0m\u001b[0;34m=\u001b[0m\u001b[0;32mTrue\u001b[0m\u001b[0;34m)\u001b[0m\u001b[0;34m:\u001b[0m\u001b[0;34m\u001b[0m\u001b[0m\n\u001b[0;32m---> 91\u001b[0;31m     \u001b[0max\u001b[0m \u001b[0;34m=\u001b[0m \u001b[0ms\u001b[0m\u001b[0;34m.\u001b[0m\u001b[0mplot\u001b[0m\u001b[0;34m(\u001b[0m\u001b[0mkind\u001b[0m\u001b[0;34m=\u001b[0m\u001b[0;34m'bar'\u001b[0m\u001b[0;34m)\u001b[0m\u001b[0;34m\u001b[0m\u001b[0m\n\u001b[0m\u001b[1;32m     92\u001b[0m     \u001b[0max\u001b[0m\u001b[0;34m.\u001b[0m\u001b[0mset_xlabel\u001b[0m\u001b[0;34m(\u001b[0m\u001b[0;34m'Chapter'\u001b[0m\u001b[0;34m)\u001b[0m\u001b[0;34m\u001b[0m\u001b[0m\n\u001b[1;32m     93\u001b[0m     \u001b[0;32mif\u001b[0m \u001b[0museWordcounts\u001b[0m\u001b[0;34m:\u001b[0m\u001b[0;34m\u001b[0m\u001b[0m\n",
      "\u001b[0;32m/usr/local/lib/python3.7/site-packages/pandas/plotting/_core.py\u001b[0m in \u001b[0;36m__call__\u001b[0;34m(self, kind, ax, figsize, use_index, title, grid, legend, style, logx, logy, loglog, xticks, yticks, xlim, ylim, rot, fontsize, colormap, table, yerr, xerr, label, secondary_y, **kwds)\u001b[0m\n\u001b[1;32m   2739\u001b[0m                            \u001b[0mcolormap\u001b[0m\u001b[0;34m=\u001b[0m\u001b[0mcolormap\u001b[0m\u001b[0;34m,\u001b[0m \u001b[0mtable\u001b[0m\u001b[0;34m=\u001b[0m\u001b[0mtable\u001b[0m\u001b[0;34m,\u001b[0m \u001b[0myerr\u001b[0m\u001b[0;34m=\u001b[0m\u001b[0myerr\u001b[0m\u001b[0;34m,\u001b[0m\u001b[0;34m\u001b[0m\u001b[0m\n\u001b[1;32m   2740\u001b[0m                            \u001b[0mxerr\u001b[0m\u001b[0;34m=\u001b[0m\u001b[0mxerr\u001b[0m\u001b[0;34m,\u001b[0m \u001b[0mlabel\u001b[0m\u001b[0;34m=\u001b[0m\u001b[0mlabel\u001b[0m\u001b[0;34m,\u001b[0m \u001b[0msecondary_y\u001b[0m\u001b[0;34m=\u001b[0m\u001b[0msecondary_y\u001b[0m\u001b[0;34m,\u001b[0m\u001b[0;34m\u001b[0m\u001b[0m\n\u001b[0;32m-> 2741\u001b[0;31m                            **kwds)\n\u001b[0m\u001b[1;32m   2742\u001b[0m     \u001b[0m__call__\u001b[0m\u001b[0;34m.\u001b[0m\u001b[0m__doc__\u001b[0m \u001b[0;34m=\u001b[0m \u001b[0mplot_series\u001b[0m\u001b[0;34m.\u001b[0m\u001b[0m__doc__\u001b[0m\u001b[0;34m\u001b[0m\u001b[0m\n\u001b[1;32m   2743\u001b[0m \u001b[0;34m\u001b[0m\u001b[0m\n",
      "\u001b[0;32m/usr/local/lib/python3.7/site-packages/pandas/plotting/_core.py\u001b[0m in \u001b[0;36mplot_series\u001b[0;34m(data, kind, ax, figsize, use_index, title, grid, legend, style, logx, logy, loglog, xticks, yticks, xlim, ylim, rot, fontsize, colormap, table, yerr, xerr, label, secondary_y, **kwds)\u001b[0m\n\u001b[1;32m   1988\u001b[0m                 **kwds):\n\u001b[1;32m   1989\u001b[0m \u001b[0;34m\u001b[0m\u001b[0m\n\u001b[0;32m-> 1990\u001b[0;31m     \u001b[0;32mimport\u001b[0m \u001b[0mmatplotlib\u001b[0m\u001b[0;34m.\u001b[0m\u001b[0mpyplot\u001b[0m \u001b[0;32mas\u001b[0m \u001b[0mplt\u001b[0m\u001b[0;34m\u001b[0m\u001b[0m\n\u001b[0m\u001b[1;32m   1991\u001b[0m     \u001b[0;32mif\u001b[0m \u001b[0max\u001b[0m \u001b[0;32mis\u001b[0m \u001b[0;32mNone\u001b[0m \u001b[0;32mand\u001b[0m \u001b[0mlen\u001b[0m\u001b[0;34m(\u001b[0m\u001b[0mplt\u001b[0m\u001b[0;34m.\u001b[0m\u001b[0mget_fignums\u001b[0m\u001b[0;34m(\u001b[0m\u001b[0;34m)\u001b[0m\u001b[0;34m)\u001b[0m \u001b[0;34m>\u001b[0m \u001b[0;36m0\u001b[0m\u001b[0;34m:\u001b[0m\u001b[0;34m\u001b[0m\u001b[0m\n\u001b[1;32m   1992\u001b[0m         \u001b[0max\u001b[0m \u001b[0;34m=\u001b[0m \u001b[0m_gca\u001b[0m\u001b[0;34m(\u001b[0m\u001b[0;34m)\u001b[0m\u001b[0;34m\u001b[0m\u001b[0m\n",
      "\u001b[0;31mModuleNotFoundError\u001b[0m: No module named 'matplotlib'"
     ]
    }
   ],
   "source": [
    "plotSynchronicAnalysis(synchronicAnalysis(df, useWordcounts=False), useWordcounts=False)"
   ]
  },
  {
   "cell_type": "markdown",
   "metadata": {},
   "source": [
    "## Quotations Per Book"
   ]
  },
  {
   "cell_type": "code",
   "execution_count": 44,
   "metadata": {},
   "outputs": [
    {
     "data": {
      "text/plain": [
       "0     70\n",
       "1    405\n",
       "2    460\n",
       "3    164\n",
       "4    171\n",
       "5    111\n",
       "6    104\n",
       "7     49\n",
       "8    260\n",
       "dtype: int64"
      ]
     },
     "execution_count": 44,
     "metadata": {},
     "output_type": "execute_result"
    }
   ],
   "source": [
    "quotationsPerBook = synchronicAnalysis(df, bins=bookLocations, useWordcounts=False)\n",
    "quotationsPerBook"
   ]
  },
  {
   "cell_type": "code",
   "execution_count": 45,
   "metadata": {},
   "outputs": [
    {
     "data": {
      "text/html": [
       "<div>\n",
       "<style scoped>\n",
       "    .dataframe tbody tr th:only-of-type {\n",
       "        vertical-align: middle;\n",
       "    }\n",
       "\n",
       "    .dataframe tbody tr th {\n",
       "        vertical-align: top;\n",
       "    }\n",
       "\n",
       "    .dataframe thead th {\n",
       "        text-align: right;\n",
       "    }\n",
       "</style>\n",
       "<table border=\"1\" class=\"dataframe\">\n",
       "  <thead>\n",
       "    <tr style=\"text-align: right;\">\n",
       "      <th></th>\n",
       "      <th># Quotations</th>\n",
       "      <th>Book</th>\n",
       "    </tr>\n",
       "  </thead>\n",
       "  <tbody>\n",
       "    <tr>\n",
       "      <th>0</th>\n",
       "      <td>70</td>\n",
       "      <td>0</td>\n",
       "    </tr>\n",
       "    <tr>\n",
       "      <th>1</th>\n",
       "      <td>405</td>\n",
       "      <td>1</td>\n",
       "    </tr>\n",
       "    <tr>\n",
       "      <th>2</th>\n",
       "      <td>460</td>\n",
       "      <td>2</td>\n",
       "    </tr>\n",
       "    <tr>\n",
       "      <th>3</th>\n",
       "      <td>164</td>\n",
       "      <td>3</td>\n",
       "    </tr>\n",
       "    <tr>\n",
       "      <th>4</th>\n",
       "      <td>171</td>\n",
       "      <td>4</td>\n",
       "    </tr>\n",
       "    <tr>\n",
       "      <th>5</th>\n",
       "      <td>111</td>\n",
       "      <td>5</td>\n",
       "    </tr>\n",
       "    <tr>\n",
       "      <th>6</th>\n",
       "      <td>104</td>\n",
       "      <td>6</td>\n",
       "    </tr>\n",
       "    <tr>\n",
       "      <th>7</th>\n",
       "      <td>49</td>\n",
       "      <td>7</td>\n",
       "    </tr>\n",
       "    <tr>\n",
       "      <th>8</th>\n",
       "      <td>260</td>\n",
       "      <td>8</td>\n",
       "    </tr>\n",
       "  </tbody>\n",
       "</table>\n",
       "</div>"
      ],
      "text/plain": [
       "   # Quotations  Book\n",
       "0            70     0\n",
       "1           405     1\n",
       "2           460     2\n",
       "3           164     3\n",
       "4           171     4\n",
       "5           111     5\n",
       "6           104     6\n",
       "7            49     7\n",
       "8           260     8"
      ]
     },
     "execution_count": 45,
     "metadata": {},
     "output_type": "execute_result"
    }
   ],
   "source": [
    "quotationsPerBook = pd.DataFrame(quotationsPerBook, index=range(0,9), columns=['# Quotations'])\n",
    "quotationsPerBook['Book'] = range(0, 9)\n",
    "quotationsPerBook"
   ]
  },
  {
   "cell_type": "code",
   "execution_count": 46,
   "metadata": {},
   "outputs": [
    {
     "ename": "NameError",
     "evalue": "name 'alt' is not defined",
     "output_type": "error",
     "traceback": [
      "\u001b[0;31m---------------------------------------------------------------------------\u001b[0m",
      "\u001b[0;31mNameError\u001b[0m                                 Traceback (most recent call last)",
      "\u001b[0;32m<ipython-input-46-23422e7f7d7d>\u001b[0m in \u001b[0;36m<module>\u001b[0;34m()\u001b[0m\n\u001b[0;32m----> 1\u001b[0;31m \u001b[0malt\u001b[0m\u001b[0;34m.\u001b[0m\u001b[0mChart\u001b[0m\u001b[0;34m(\u001b[0m\u001b[0mquotationsPerBook\u001b[0m\u001b[0;34m)\u001b[0m\u001b[0;34m.\u001b[0m\u001b[0mmark_bar\u001b[0m\u001b[0;34m(\u001b[0m\u001b[0;34m)\u001b[0m\u001b[0;34m.\u001b[0m\u001b[0mencode\u001b[0m\u001b[0;34m(\u001b[0m\u001b[0mx\u001b[0m\u001b[0;34m=\u001b[0m\u001b[0;34m'Book:O'\u001b[0m\u001b[0;34m,\u001b[0m \u001b[0my\u001b[0m\u001b[0;34m=\u001b[0m\u001b[0;34m'# Quotations:Q'\u001b[0m\u001b[0;34m)\u001b[0m\u001b[0;34m.\u001b[0m\u001b[0mproperties\u001b[0m\u001b[0;34m(\u001b[0m\u001b[0mwidth\u001b[0m\u001b[0;34m=\u001b[0m\u001b[0;36m500\u001b[0m\u001b[0;34m)\u001b[0m\u001b[0;34m\u001b[0m\u001b[0m\n\u001b[0m",
      "\u001b[0;31mNameError\u001b[0m: name 'alt' is not defined"
     ]
    }
   ],
   "source": [
    "alt.Chart(quotationsPerBook).mark_bar().encode(x='Book:O', y='# Quotations:Q').properties(width=500)"
   ]
  },
  {
   "cell_type": "markdown",
   "metadata": {},
   "source": [
    "## Raw Number of Quotations Per Chapter"
   ]
  },
  {
   "cell_type": "code",
   "execution_count": 114,
   "metadata": {},
   "outputs": [],
   "source": [
    "# Get the raw number of quotations per chapter\n",
    "# synchronicAnalysis(df, useWordcounts=False).to_csv('../papers/spring2017-middlemarch-paper/data/num-quotations-per-chapter.csv')"
   ]
  },
  {
   "cell_type": "code",
   "execution_count": 113,
   "metadata": {},
   "outputs": [
    {
     "data": {
      "text/plain": [
       "Text(0, 0.5, 'Words Quoted, Normalized')"
      ]
     },
     "execution_count": 113,
     "metadata": {},
     "output_type": "execute_result"
    },
    {
     "data": {
      "image/png": "[encoded data removed]",
      "text/plain": [
       "<Figure size 1152x432 with 1 Axes>"
      ]
     },
     "metadata": {},
     "output_type": "display_data"
    }
   ],
   "source": [
    "# Adjusted for the number of words in each chapter\n",
    "ax = (synchronicAnalysis(df) / chapterLengthsSeries).plot(kind='bar')\n",
    "ax.set_xlabel('Chapter')\n",
    "ax.set_ylabel('Words Quoted, Normalized')"
   ]
  },
  {
   "cell_type": "code",
   "execution_count": 107,
   "metadata": {},
   "outputs": [
    {
     "data": {
      "image/png": "[encoded data removed]",
      "text/plain": [
       "<Figure size 1152x432 with 2 Axes>"
      ]
     },
     "metadata": {},
     "output_type": "display_data"
    }
   ],
   "source": [
    "plotDiachronicAnalysis(diachronicAnalysis(df, decades=(1950, 2020), bins=chapterLocations).sort_index())"
   ]
  },
  {
   "cell_type": "code",
   "execution_count": 115,
   "metadata": {},
   "outputs": [
    {
     "data": {
      "image/png": "[encoded data removed]",
      "text/plain": [
       "<Figure size 1152x432 with 2 Axes>"
      ]
     },
     "metadata": {},
     "output_type": "display_data"
    }
   ],
   "source": [
    "plotDiachronicAnalysis(diachronicAnalysis(df, decades=(1960, 2020), bins=chapterLocations).sort_index())"
   ]
  },
  {
   "cell_type": "code",
   "execution_count": 148,
   "metadata": {},
   "outputs": [],
   "source": [
    "diaDF = diachronicAnalysis(df, decades=(1960, 2020), bins=chapterLocations).sort_index()"
   ]
  },
  {
   "cell_type": "markdown",
   "metadata": {},
   "source": [
    "## Redo chart in Altair"
   ]
  },
  {
   "cell_type": "code",
   "execution_count": 149,
   "metadata": {},
   "outputs": [],
   "source": [
    "diaDF.columns.name = 'chapter'\n",
    "diaDF.index.name = 'decade'"
   ]
  },
  {
   "cell_type": "code",
   "execution_count": 156,
   "metadata": {},
   "outputs": [
    {
     "data": {
      "text/html": [
       "<div>\n",
       "<style scoped>\n",
       "    .dataframe tbody tr th:only-of-type {\n",
       "        vertical-align: middle;\n",
       "    }\n",
       "\n",
       "    .dataframe tbody tr th {\n",
       "        vertical-align: top;\n",
       "    }\n",
       "\n",
       "    .dataframe thead th {\n",
       "        text-align: right;\n",
       "    }\n",
       "</style>\n",
       "<table border=\"1\" class=\"dataframe\">\n",
       "  <thead>\n",
       "    <tr style=\"text-align: right;\">\n",
       "      <th>chapter</th>\n",
       "      <th>0</th>\n",
       "      <th>1</th>\n",
       "      <th>2</th>\n",
       "      <th>3</th>\n",
       "      <th>4</th>\n",
       "      <th>5</th>\n",
       "      <th>6</th>\n",
       "      <th>7</th>\n",
       "      <th>8</th>\n",
       "      <th>9</th>\n",
       "      <th>...</th>\n",
       "      <th>78</th>\n",
       "      <th>79</th>\n",
       "      <th>80</th>\n",
       "      <th>81</th>\n",
       "      <th>82</th>\n",
       "      <th>83</th>\n",
       "      <th>84</th>\n",
       "      <th>85</th>\n",
       "      <th>86</th>\n",
       "      <th>87</th>\n",
       "    </tr>\n",
       "    <tr>\n",
       "      <th>decade</th>\n",
       "      <th></th>\n",
       "      <th></th>\n",
       "      <th></th>\n",
       "      <th></th>\n",
       "      <th></th>\n",
       "      <th></th>\n",
       "      <th></th>\n",
       "      <th></th>\n",
       "      <th></th>\n",
       "      <th></th>\n",
       "      <th></th>\n",
       "      <th></th>\n",
       "      <th></th>\n",
       "      <th></th>\n",
       "      <th></th>\n",
       "      <th></th>\n",
       "      <th></th>\n",
       "      <th></th>\n",
       "      <th></th>\n",
       "      <th></th>\n",
       "      <th></th>\n",
       "    </tr>\n",
       "  </thead>\n",
       "  <tbody>\n",
       "    <tr>\n",
       "      <th>1960</th>\n",
       "      <td>0.054234</td>\n",
       "      <td>0.098953</td>\n",
       "      <td>0.197907</td>\n",
       "      <td>0.064700</td>\n",
       "      <td>0.000000</td>\n",
       "      <td>0.000000</td>\n",
       "      <td>0.000000</td>\n",
       "      <td>0.081827</td>\n",
       "      <td>0.000000</td>\n",
       "      <td>0.254995</td>\n",
       "      <td>...</td>\n",
       "      <td>0.142721</td>\n",
       "      <td>0.039962</td>\n",
       "      <td>0.166508</td>\n",
       "      <td>0.134158</td>\n",
       "      <td>0.000000</td>\n",
       "      <td>0.000000</td>\n",
       "      <td>0.0</td>\n",
       "      <td>0.0</td>\n",
       "      <td>0.000000</td>\n",
       "      <td>0.093245</td>\n",
       "    </tr>\n",
       "    <tr>\n",
       "      <th>1970</th>\n",
       "      <td>0.138408</td>\n",
       "      <td>0.346021</td>\n",
       "      <td>0.611592</td>\n",
       "      <td>0.252595</td>\n",
       "      <td>0.096886</td>\n",
       "      <td>0.074394</td>\n",
       "      <td>0.417820</td>\n",
       "      <td>0.085640</td>\n",
       "      <td>0.137543</td>\n",
       "      <td>0.080450</td>\n",
       "      <td>...</td>\n",
       "      <td>0.000000</td>\n",
       "      <td>0.000000</td>\n",
       "      <td>0.312284</td>\n",
       "      <td>0.087370</td>\n",
       "      <td>0.000000</td>\n",
       "      <td>0.026817</td>\n",
       "      <td>0.0</td>\n",
       "      <td>0.0</td>\n",
       "      <td>0.000000</td>\n",
       "      <td>0.071799</td>\n",
       "    </tr>\n",
       "    <tr>\n",
       "      <th>1980</th>\n",
       "      <td>0.368069</td>\n",
       "      <td>0.884321</td>\n",
       "      <td>0.121415</td>\n",
       "      <td>0.503824</td>\n",
       "      <td>0.038241</td>\n",
       "      <td>0.334608</td>\n",
       "      <td>0.219885</td>\n",
       "      <td>0.212237</td>\n",
       "      <td>0.000000</td>\n",
       "      <td>0.051625</td>\n",
       "      <td>...</td>\n",
       "      <td>0.000000</td>\n",
       "      <td>0.000000</td>\n",
       "      <td>0.531549</td>\n",
       "      <td>0.176864</td>\n",
       "      <td>0.021989</td>\n",
       "      <td>0.014340</td>\n",
       "      <td>0.0</td>\n",
       "      <td>1.0</td>\n",
       "      <td>0.000000</td>\n",
       "      <td>0.403442</td>\n",
       "    </tr>\n",
       "    <tr>\n",
       "      <th>1990</th>\n",
       "      <td>0.513269</td>\n",
       "      <td>0.335404</td>\n",
       "      <td>0.099379</td>\n",
       "      <td>0.197064</td>\n",
       "      <td>0.013552</td>\n",
       "      <td>0.169396</td>\n",
       "      <td>0.219085</td>\n",
       "      <td>0.051948</td>\n",
       "      <td>0.013552</td>\n",
       "      <td>0.040655</td>\n",
       "      <td>...</td>\n",
       "      <td>0.188594</td>\n",
       "      <td>0.058159</td>\n",
       "      <td>0.364201</td>\n",
       "      <td>0.214003</td>\n",
       "      <td>0.000000</td>\n",
       "      <td>0.236589</td>\n",
       "      <td>0.0</td>\n",
       "      <td>0.0</td>\n",
       "      <td>0.000000</td>\n",
       "      <td>0.253529</td>\n",
       "    </tr>\n",
       "    <tr>\n",
       "      <th>2000</th>\n",
       "      <td>0.316197</td>\n",
       "      <td>0.733849</td>\n",
       "      <td>0.103276</td>\n",
       "      <td>0.340764</td>\n",
       "      <td>0.004550</td>\n",
       "      <td>0.195177</td>\n",
       "      <td>0.106460</td>\n",
       "      <td>0.016379</td>\n",
       "      <td>0.000000</td>\n",
       "      <td>0.182439</td>\n",
       "      <td>...</td>\n",
       "      <td>0.008189</td>\n",
       "      <td>0.000000</td>\n",
       "      <td>0.266606</td>\n",
       "      <td>0.082803</td>\n",
       "      <td>0.000000</td>\n",
       "      <td>0.179709</td>\n",
       "      <td>0.0</td>\n",
       "      <td>0.0</td>\n",
       "      <td>0.018198</td>\n",
       "      <td>0.237489</td>\n",
       "    </tr>\n",
       "    <tr>\n",
       "      <th>2010</th>\n",
       "      <td>0.131466</td>\n",
       "      <td>1.000000</td>\n",
       "      <td>0.196839</td>\n",
       "      <td>0.046695</td>\n",
       "      <td>0.008621</td>\n",
       "      <td>0.173132</td>\n",
       "      <td>0.000000</td>\n",
       "      <td>0.909483</td>\n",
       "      <td>0.000000</td>\n",
       "      <td>0.044540</td>\n",
       "      <td>...</td>\n",
       "      <td>0.010776</td>\n",
       "      <td>0.000000</td>\n",
       "      <td>0.554598</td>\n",
       "      <td>0.054598</td>\n",
       "      <td>0.043103</td>\n",
       "      <td>0.100575</td>\n",
       "      <td>0.0</td>\n",
       "      <td>0.0</td>\n",
       "      <td>0.000000</td>\n",
       "      <td>0.754310</td>\n",
       "    </tr>\n",
       "  </tbody>\n",
       "</table>\n",
       "<p>6 rows × 88 columns</p>\n",
       "</div>"
      ],
      "text/plain": [
       "chapter        0         1         2         3         4         5         6   \\\n",
       "decade                                                                          \n",
       "1960     0.054234  0.098953  0.197907  0.064700  0.000000  0.000000  0.000000   \n",
       "1970     0.138408  0.346021  0.611592  0.252595  0.096886  0.074394  0.417820   \n",
       "1980     0.368069  0.884321  0.121415  0.503824  0.038241  0.334608  0.219885   \n",
       "1990     0.513269  0.335404  0.099379  0.197064  0.013552  0.169396  0.219085   \n",
       "2000     0.316197  0.733849  0.103276  0.340764  0.004550  0.195177  0.106460   \n",
       "2010     0.131466  1.000000  0.196839  0.046695  0.008621  0.173132  0.000000   \n",
       "\n",
       "chapter        7         8         9   ...        78        79        80  \\\n",
       "decade                                 ...                                 \n",
       "1960     0.081827  0.000000  0.254995  ...  0.142721  0.039962  0.166508   \n",
       "1970     0.085640  0.137543  0.080450  ...  0.000000  0.000000  0.312284   \n",
       "1980     0.212237  0.000000  0.051625  ...  0.000000  0.000000  0.531549   \n",
       "1990     0.051948  0.013552  0.040655  ...  0.188594  0.058159  0.364201   \n",
       "2000     0.016379  0.000000  0.182439  ...  0.008189  0.000000  0.266606   \n",
       "2010     0.909483  0.000000  0.044540  ...  0.010776  0.000000  0.554598   \n",
       "\n",
       "chapter        81        82        83   84   85        86        87  \n",
       "decade                                                               \n",
       "1960     0.134158  0.000000  0.000000  0.0  0.0  0.000000  0.093245  \n",
       "1970     0.087370  0.000000  0.026817  0.0  0.0  0.000000  0.071799  \n",
       "1980     0.176864  0.021989  0.014340  0.0  1.0  0.000000  0.403442  \n",
       "1990     0.214003  0.000000  0.236589  0.0  0.0  0.000000  0.253529  \n",
       "2000     0.082803  0.000000  0.179709  0.0  0.0  0.018198  0.237489  \n",
       "2010     0.054598  0.043103  0.100575  0.0  0.0  0.000000  0.754310  \n",
       "\n",
       "[6 rows x 88 columns]"
      ]
     },
     "execution_count": 156,
     "metadata": {},
     "output_type": "execute_result"
    }
   ],
   "source": [
    "diaDF"
   ]
  },
  {
   "cell_type": "code",
   "execution_count": 163,
   "metadata": {},
   "outputs": [
    {
     "data": {
      "text/plain": [
       "RangeIndex(start=0, stop=88, step=1, name='chapter')"
      ]
     },
     "execution_count": 163,
     "metadata": {},
     "output_type": "execute_result"
    }
   ],
   "source": [
    "diaDF.columns"
   ]
  },
  {
   "cell_type": "code",
   "execution_count": 190,
   "metadata": {},
   "outputs": [],
   "source": [
    "diaDF['decade'] = diaDF.index"
   ]
  },
  {
   "cell_type": "code",
   "execution_count": 193,
   "metadata": {},
   "outputs": [],
   "source": [
    "diaMelted = diaDF.melt(id_vars='decade')"
   ]
  },
  {
   "cell_type": "code",
   "execution_count": 200,
   "metadata": {},
   "outputs": [
    {
     "data": {
      "application/vnd.vegalite.v2+json": {
       "$schema": "https://vega.github.io/schema/vega-lite/v2.6.0.json",
       "config": {
        "view": {
         "height": 300,
         "width": 400
        }
       },
       "data": {
        "name": "data-44eb5f36cecea844c8c52cbe31cff713"
       },
       "datasets": {
        "data-44eb5f36cecea844c8c52cbe31cff713": [
         {
          "chapter": 0,
          "decade": 1960,
          "value": 0.05423406279733587
         },
         {
          "chapter": 0,
          "decade": 1970,
          "value": 0.1384083044982699
         },
         {
          "chapter": 0,
          "decade": 1980,
          "value": 0.36806883365200765
         },
         {
          "chapter": 0,
          "decade": 1990,
          "value": 0.5132693393562959
         },
         {
          "chapter": 0,
          "decade": 2000,
          "value": 0.316196542311192
         },
         {
          "chapter": 0,
          "decade": 2010,
          "value": 0.1314655172413793
         },
         {
          "chapter": 1,
          "decade": 1960,
          "value": 0.09895337773549001
         },
         {
          "chapter": 1,
          "decade": 1970,
          "value": 0.3460207612456747
         },
         {
          "chapter": 1,
          "decade": 1980,
          "value": 0.884321223709369
         },
         {
          "chapter": 1,
          "decade": 1990,
          "value": 0.33540372670807456
         },
         {
          "chapter": 1,
          "decade": 2000,
          "value": 0.7338489535941766
         },
         {
          "chapter": 1,
          "decade": 2010,
          "value": 1
         },
         {
          "chapter": 2,
          "decade": 1960,
          "value": 0.19790675547098002
         },
         {
          "chapter": 2,
          "decade": 1970,
          "value": 0.6115916955017301
         },
         {
          "chapter": 2,
          "decade": 1980,
          "value": 0.121414913957935
         },
         {
          "chapter": 2,
          "decade": 1990,
          "value": 0.09937888198757763
         },
         {
          "chapter": 2,
          "decade": 2000,
          "value": 0.10327570518653321
         },
         {
          "chapter": 2,
          "decade": 2010,
          "value": 0.1968390804597701
         },
         {
          "chapter": 3,
          "decade": 1960,
          "value": 0.06470028544243578
         },
         {
          "chapter": 3,
          "decade": 1970,
          "value": 0.25259515570934254
         },
         {
          "chapter": 3,
          "decade": 1980,
          "value": 0.5038240917782026
         },
         {
          "chapter": 3,
          "decade": 1990,
          "value": 0.19706380575945792
         },
         {
          "chapter": 3,
          "decade": 2000,
          "value": 0.34076433121019106
         },
         {
          "chapter": 3,
          "decade": 2010,
          "value": 0.04669540229885057
         },
         {
          "chapter": 4,
          "decade": 1960,
          "value": 0
         },
         {
          "chapter": 4,
          "decade": 1970,
          "value": 0.09688581314878893
         },
         {
          "chapter": 4,
          "decade": 1980,
          "value": 0.03824091778202677
         },
         {
          "chapter": 4,
          "decade": 1990,
          "value": 0.01355166572557877
         },
         {
          "chapter": 4,
          "decade": 2000,
          "value": 0.004549590536851683
         },
         {
          "chapter": 4,
          "decade": 2010,
          "value": 0.008620689655172414
         },
         {
          "chapter": 5,
          "decade": 1960,
          "value": 0
         },
         {
          "chapter": 5,
          "decade": 1970,
          "value": 0.07439446366782007
         },
         {
          "chapter": 5,
          "decade": 1980,
          "value": 0.33460803059273425
         },
         {
          "chapter": 5,
          "decade": 1990,
          "value": 0.16939582156973462
         },
         {
          "chapter": 5,
          "decade": 2000,
          "value": 0.1951774340309372
         },
         {
          "chapter": 5,
          "decade": 2010,
          "value": 0.17313218390804597
         },
         {
          "chapter": 6,
          "decade": 1960,
          "value": 0
         },
         {
          "chapter": 6,
          "decade": 1970,
          "value": 0.41782006920415227
         },
         {
          "chapter": 6,
          "decade": 1980,
          "value": 0.2198852772466539
         },
         {
          "chapter": 6,
          "decade": 1990,
          "value": 0.21908526256352343
         },
         {
          "chapter": 6,
          "decade": 2000,
          "value": 0.10646041856232939
         },
         {
          "chapter": 6,
          "decade": 2010,
          "value": 0
         },
         {
          "chapter": 7,
          "decade": 1960,
          "value": 0.0818268315889629
         },
         {
          "chapter": 7,
          "decade": 1970,
          "value": 0.08564013840830449
         },
         {
          "chapter": 7,
          "decade": 1980,
          "value": 0.21223709369024857
         },
         {
          "chapter": 7,
          "decade": 1990,
          "value": 0.05194805194805195
         },
         {
          "chapter": 7,
          "decade": 2000,
          "value": 0.01637852593266606
         },
         {
          "chapter": 7,
          "decade": 2010,
          "value": 0.9094827586206896
         },
         {
          "chapter": 8,
          "decade": 1960,
          "value": 0
         },
         {
          "chapter": 8,
          "decade": 1970,
          "value": 0.1375432525951557
         },
         {
          "chapter": 8,
          "decade": 1980,
          "value": 0
         },
         {
          "chapter": 8,
          "decade": 1990,
          "value": 0.01355166572557877
         },
         {
          "chapter": 8,
          "decade": 2000,
          "value": 0
         },
         {
          "chapter": 8,
          "decade": 2010,
          "value": 0
         },
         {
          "chapter": 9,
          "decade": 1960,
          "value": 0.25499524262607043
         },
         {
          "chapter": 9,
          "decade": 1970,
          "value": 0.08044982698961937
         },
         {
          "chapter": 9,
          "decade": 1980,
          "value": 0.05162523900573614
         },
         {
          "chapter": 9,
          "decade": 1990,
          "value": 0.040654997176736304
         },
         {
          "chapter": 9,
          "decade": 2000,
          "value": 0.1824385805277525
         },
         {
          "chapter": 9,
          "decade": 2010,
          "value": 0.04454022988505747
         },
         {
          "chapter": 10,
          "decade": 1960,
          "value": 0.23786869647954328
         },
         {
          "chapter": 10,
          "decade": 1970,
          "value": 0.026816608996539794
         },
         {
          "chapter": 10,
          "decade": 1980,
          "value": 0.13479923518164436
         },
         {
          "chapter": 10,
          "decade": 1990,
          "value": 0.22077922077922077
         },
         {
          "chapter": 10,
          "decade": 2000,
          "value": 0.25659690627843496
         },
         {
          "chapter": 10,
          "decade": 2010,
          "value": 0.2629310344827586
         },
         {
          "chapter": 11,
          "decade": 1960,
          "value": 0.03235014272121789
         },
         {
          "chapter": 11,
          "decade": 1970,
          "value": 0.2664359861591695
         },
         {
          "chapter": 11,
          "decade": 1980,
          "value": 0.12906309751434034
         },
         {
          "chapter": 11,
          "decade": 1990,
          "value": 0.2868435911914173
         },
         {
          "chapter": 11,
          "decade": 2000,
          "value": 0.19335759781619655
         },
         {
          "chapter": 11,
          "decade": 2010,
          "value": 0.24568965517241378
         },
         {
          "chapter": 12,
          "decade": 1960,
          "value": 0.07611798287345385
         },
         {
          "chapter": 12,
          "decade": 1970,
          "value": 0.08044982698961937
         },
         {
          "chapter": 12,
          "decade": 1980,
          "value": 0.07170172084130019
         },
         {
          "chapter": 12,
          "decade": 1990,
          "value": 0.2478825522303783
         },
         {
          "chapter": 12,
          "decade": 2000,
          "value": 0.025477707006369428
         },
         {
          "chapter": 12,
          "decade": 2010,
          "value": 0.027298850574712645
         },
         {
          "chapter": 13,
          "decade": 1960,
          "value": 0
         },
         {
          "chapter": 13,
          "decade": 1970,
          "value": 0
         },
         {
          "chapter": 13,
          "decade": 1980,
          "value": 0.03824091778202677
         },
         {
          "chapter": 13,
          "decade": 1990,
          "value": 0.08074534161490683
         },
         {
          "chapter": 13,
          "decade": 2000,
          "value": 0
         },
         {
          "chapter": 13,
          "decade": 2010,
          "value": 0.008620689655172414
         },
         {
          "chapter": 14,
          "decade": 1960,
          "value": 0
         },
         {
          "chapter": 14,
          "decade": 1970,
          "value": 0
         },
         {
          "chapter": 14,
          "decade": 1980,
          "value": 0.04684512428298279
         },
         {
          "chapter": 14,
          "decade": 1990,
          "value": 0.04178430265386787
         },
         {
          "chapter": 14,
          "decade": 2000,
          "value": 0
         },
         {
          "chapter": 14,
          "decade": 2010,
          "value": 0
         },
         {
          "chapter": 15,
          "decade": 1960,
          "value": 0.6184586108468125
         },
         {
          "chapter": 15,
          "decade": 1970,
          "value": 0.5389273356401384
         },
         {
          "chapter": 15,
          "decade": 1980,
          "value": 0.9282982791586998
         },
         {
          "chapter": 15,
          "decade": 1990,
          "value": 1
         },
         {
          "chapter": 15,
          "decade": 2000,
          "value": 0.21383075523202913
         },
         {
          "chapter": 15,
          "decade": 2010,
          "value": 0.8326149425287356
         },
         {
          "chapter": 16,
          "decade": 1960,
          "value": 0.27783063748810655
         },
         {
          "chapter": 16,
          "decade": 1970,
          "value": 0.3209342560553633
         },
         {
          "chapter": 16,
          "decade": 1980,
          "value": 0.5334608030592735
         },
         {
          "chapter": 16,
          "decade": 1990,
          "value": 0.20666290231507622
         },
         {
          "chapter": 16,
          "decade": 2000,
          "value": 0.18198362147406733
         },
         {
          "chapter": 16,
          "decade": 2010,
          "value": 0.15660919540229884
         },
         {
          "chapter": 17,
          "decade": 1960,
          "value": 0
         },
         {
          "chapter": 17,
          "decade": 1970,
          "value": 0
         },
         {
          "chapter": 17,
          "decade": 1980,
          "value": 0.043021032504780114
         },
         {
          "chapter": 17,
          "decade": 1990,
          "value": 0.11857707509881422
         },
         {
          "chapter": 17,
          "decade": 2000,
          "value": 0
         },
         {
          "chapter": 17,
          "decade": 2010,
          "value": 0
         },
         {
          "chapter": 18,
          "decade": 1960,
          "value": 0
         },
         {
          "chapter": 18,
          "decade": 1970,
          "value": 0
         },
         {
          "chapter": 18,
          "decade": 1980,
          "value": 0.12619502868068833
         },
         {
          "chapter": 18,
          "decade": 1990,
          "value": 0.12140033879164314
         },
         {
          "chapter": 18,
          "decade": 2000,
          "value": 0.1091901728844404
         },
         {
          "chapter": 18,
          "decade": 2010,
          "value": 0
         },
         {
          "chapter": 19,
          "decade": 1960,
          "value": 0
         },
         {
          "chapter": 19,
          "decade": 1970,
          "value": 0.23529411764705882
         },
         {
          "chapter": 19,
          "decade": 1980,
          "value": 0.3986615678776291
         },
         {
          "chapter": 19,
          "decade": 1990,
          "value": 0.4522868435911914
         },
         {
          "chapter": 19,
          "decade": 2000,
          "value": 0.44767970882620567
         },
         {
          "chapter": 19,
          "decade": 2010,
          "value": 0.21767241379310345
         },
         {
          "chapter": 20,
          "decade": 1960,
          "value": 1
         },
         {
          "chapter": 20,
          "decade": 1970,
          "value": 1
         },
         {
          "chapter": 20,
          "decade": 1980,
          "value": 0.8671128107074569
         },
         {
          "chapter": 20,
          "decade": 1990,
          "value": 0.6945228684359119
         },
         {
          "chapter": 20,
          "decade": 2000,
          "value": 1
         },
         {
          "chapter": 20,
          "decade": 2010,
          "value": 0.7449712643678161
         },
         {
          "chapter": 21,
          "decade": 1960,
          "value": 0.3301617507136061
         },
         {
          "chapter": 21,
          "decade": 1970,
          "value": 0.14013840830449828
         },
         {
          "chapter": 21,
          "decade": 1980,
          "value": 0.37476099426386233
         },
         {
          "chapter": 21,
          "decade": 1990,
          "value": 0.31394692264257484
         },
         {
          "chapter": 21,
          "decade": 2000,
          "value": 0.062329390354868064
         },
         {
          "chapter": 21,
          "decade": 2010,
          "value": 0.28304597701149425
         },
         {
          "chapter": 22,
          "decade": 1960,
          "value": 0.04186489058039962
         },
         {
          "chapter": 22,
          "decade": 1970,
          "value": 0.07698961937716263
         },
         {
          "chapter": 22,
          "decade": 1980,
          "value": 0.22179732313575526
         },
         {
          "chapter": 22,
          "decade": 1990,
          "value": 0.03557312252964427
         },
         {
          "chapter": 22,
          "decade": 2000,
          "value": 0.41173794358507737
         },
         {
          "chapter": 22,
          "decade": 2010,
          "value": 0.23922413793103448
         },
         {
          "chapter": 23,
          "decade": 1960,
          "value": 0
         },
         {
          "chapter": 23,
          "decade": 1970,
          "value": 0
         },
         {
          "chapter": 23,
          "decade": 1980,
          "value": 0.24760994263862332
         },
         {
          "chapter": 23,
          "decade": 1990,
          "value": 0
         },
         {
          "chapter": 23,
          "decade": 2000,
          "value": 0.16196542311191992
         },
         {
          "chapter": 23,
          "decade": 2010,
          "value": 0.06896551724137931
         },
         {
          "chapter": 24,
          "decade": 1960,
          "value": 0.013320647002854425
         },
         {
          "chapter": 24,
          "decade": 1970,
          "value": 0.061418685121107264
         },
         {
          "chapter": 24,
          "decade": 1980,
          "value": 0
         },
         {
          "chapter": 24,
          "decade": 1990,
          "value": 0.08752117447769622
         },
         {
          "chapter": 24,
          "decade": 2000,
          "value": 0.18562329390354868
         },
         {
          "chapter": 24,
          "decade": 2010,
          "value": 0.673132183908046
         },
         {
          "chapter": 25,
          "decade": 1960,
          "value": 0
         },
         {
          "chapter": 25,
          "decade": 1970,
          "value": 0
         },
         {
          "chapter": 25,
          "decade": 1980,
          "value": 0
         },
         {
          "chapter": 25,
          "decade": 1990,
          "value": 0.07679277244494635
         },
         {
          "chapter": 25,
          "decade": 2000,
          "value": 0.08826205641492266
         },
         {
          "chapter": 25,
          "decade": 2010,
          "value": 0.05459770114942529
         },
         {
          "chapter": 26,
          "decade": 1960,
          "value": 0
         },
         {
          "chapter": 26,
          "decade": 1970,
          "value": 0
         },
         {
          "chapter": 26,
          "decade": 1980,
          "value": 0
         },
         {
          "chapter": 26,
          "decade": 1990,
          "value": 0.06662902315076229
         },
         {
          "chapter": 26,
          "decade": 2000,
          "value": 0
         },
         {
          "chapter": 26,
          "decade": 2010,
          "value": 0
         },
         {
          "chapter": 27,
          "decade": 1960,
          "value": 0
         },
         {
          "chapter": 27,
          "decade": 1970,
          "value": 0.5501730103806228
         },
         {
          "chapter": 27,
          "decade": 1980,
          "value": 0.17782026768642448
         },
         {
          "chapter": 27,
          "decade": 1990,
          "value": 0.19649915302089216
         },
         {
          "chapter": 27,
          "decade": 2000,
          "value": 0.11010009099181074
         },
         {
          "chapter": 27,
          "decade": 2010,
          "value": 0.2995689655172414
         },
         {
          "chapter": 28,
          "decade": 1960,
          "value": 0.192197906755471
         },
         {
          "chapter": 28,
          "decade": 1970,
          "value": 0.24048442906574394
         },
         {
          "chapter": 28,
          "decade": 1980,
          "value": 0.10133843212237094
         },
         {
          "chapter": 28,
          "decade": 1990,
          "value": 0.1507622811970638
         },
         {
          "chapter": 28,
          "decade": 2000,
          "value": 0.21428571428571427
         },
         {
          "chapter": 28,
          "decade": 2010,
          "value": 0.06609195402298851
         },
         {
          "chapter": 29,
          "decade": 1960,
          "value": 0
         },
         {
          "chapter": 29,
          "decade": 1970,
          "value": 0.09775086505190311
         },
         {
          "chapter": 29,
          "decade": 1980,
          "value": 0.3326959847036329
         },
         {
          "chapter": 29,
          "decade": 1990,
          "value": 0.03500846979107849
         },
         {
          "chapter": 29,
          "decade": 2000,
          "value": 0.2911737943585077
         },
         {
          "chapter": 29,
          "decade": 2010,
          "value": 0.41163793103448276
         },
         {
          "chapter": 30,
          "decade": 1960,
          "value": 0.21408182683158897
         },
         {
          "chapter": 30,
          "decade": 1970,
          "value": 0
         },
         {
          "chapter": 30,
          "decade": 1980,
          "value": 0.05066921606118547
         },
         {
          "chapter": 30,
          "decade": 1990,
          "value": 0
         },
         {
          "chapter": 30,
          "decade": 2000,
          "value": 0.04367606915377616
         },
         {
          "chapter": 30,
          "decade": 2010,
          "value": 0
         },
         {
          "chapter": 31,
          "decade": 1960,
          "value": 0
         },
         {
          "chapter": 31,
          "decade": 1970,
          "value": 0.05536332179930796
         },
         {
          "chapter": 31,
          "decade": 1980,
          "value": 0.009560229445506692
         },
         {
          "chapter": 31,
          "decade": 1990,
          "value": 0.02710333145115754
         },
         {
          "chapter": 31,
          "decade": 2000,
          "value": 0.14422202001819837
         },
         {
          "chapter": 31,
          "decade": 2010,
          "value": 0.14798850574712644
         },
         {
          "chapter": 32,
          "decade": 1960,
          "value": 0
         },
         {
          "chapter": 32,
          "decade": 1970,
          "value": 0
         },
         {
          "chapter": 32,
          "decade": 1980,
          "value": 0
         },
         {
          "chapter": 32,
          "decade": 1990,
          "value": 0
         },
         {
          "chapter": 32,
          "decade": 2000,
          "value": 0.07006369426751592
         },
         {
          "chapter": 32,
          "decade": 2010,
          "value": 0
         },
         {
          "chapter": 33,
          "decade": 1960,
          "value": 0
         },
         {
          "chapter": 33,
          "decade": 1970,
          "value": 0
         },
         {
          "chapter": 33,
          "decade": 1980,
          "value": 0
         },
         {
          "chapter": 33,
          "decade": 1990,
          "value": 0.03670242800677583
         },
         {
          "chapter": 33,
          "decade": 2000,
          "value": 0.3616924476797088
         },
         {
          "chapter": 33,
          "decade": 2010,
          "value": 0
         },
         {
          "chapter": 34,
          "decade": 1960,
          "value": 0
         },
         {
          "chapter": 34,
          "decade": 1970,
          "value": 0.0328719723183391
         },
         {
          "chapter": 34,
          "decade": 1980,
          "value": 0.06596558317399617
         },
         {
          "chapter": 34,
          "decade": 1990,
          "value": 0.251270468661773
         },
         {
          "chapter": 34,
          "decade": 2000,
          "value": 0.055505004549590536
         },
         {
          "chapter": 34,
          "decade": 2010,
          "value": 0.035919540229885055
         },
         {
          "chapter": 35,
          "decade": 1960,
          "value": 0.09990485252140818
         },
         {
          "chapter": 35,
          "decade": 1970,
          "value": 0
         },
         {
          "chapter": 35,
          "decade": 1980,
          "value": 0
         },
         {
          "chapter": 35,
          "decade": 1990,
          "value": 0.30039525691699603
         },
         {
          "chapter": 35,
          "decade": 2000,
          "value": 0.015013648771610554
         },
         {
          "chapter": 35,
          "decade": 2010,
          "value": 0.12140804597701149
         },
         {
          "chapter": 36,
          "decade": 1960,
          "value": 0.046622264509990484
         },
         {
          "chapter": 36,
          "decade": 1970,
          "value": 0.0726643598615917
         },
         {
          "chapter": 36,
          "decade": 1980,
          "value": 0
         },
         {
          "chapter": 36,
          "decade": 1990,
          "value": 0.18012422360248448
         },
         {
          "chapter": 36,
          "decade": 2000,
          "value": 0.004549590536851683
         },
         {
          "chapter": 36,
          "decade": 2010,
          "value": 0.0653735632183908
         },
         {
          "chapter": 37,
          "decade": 1960,
          "value": 0.15413891531874405
         },
         {
          "chapter": 37,
          "decade": 1970,
          "value": 0.2050173010380623
         },
         {
          "chapter": 37,
          "decade": 1980,
          "value": 0.34608030592734224
         },
         {
          "chapter": 37,
          "decade": 1990,
          "value": 0.16939582156973462
         },
         {
          "chapter": 37,
          "decade": 2000,
          "value": 0.2083712465878071
         },
         {
          "chapter": 37,
          "decade": 2010,
          "value": 0.11135057471264367
         },
         {
          "chapter": 38,
          "decade": 1960,
          "value": 0
         },
         {
          "chapter": 38,
          "decade": 1970,
          "value": 0
         },
         {
          "chapter": 38,
          "decade": 1980,
          "value": 0
         },
         {
          "chapter": 38,
          "decade": 1990,
          "value": 0
         },
         {
          "chapter": 38,
          "decade": 2000,
          "value": 0.013193812556869881
         },
         {
          "chapter": 38,
          "decade": 2010,
          "value": 0.03089080459770115
         },
         {
          "chapter": 39,
          "decade": 1960,
          "value": 0
         },
         {
          "chapter": 39,
          "decade": 1970,
          "value": 0
         },
         {
          "chapter": 39,
          "decade": 1980,
          "value": 0.4397705544933078
         },
         {
          "chapter": 39,
          "decade": 1990,
          "value": 0.07284020327498589
         },
         {
          "chapter": 39,
          "decade": 2000,
          "value": 0.10828025477707007
         },
         {
          "chapter": 39,
          "decade": 2010,
          "value": 0.1961206896551724
         },
         {
          "chapter": 40,
          "decade": 1960,
          "value": 0.019980970504281638
         },
         {
          "chapter": 40,
          "decade": 1970,
          "value": 0
         },
         {
          "chapter": 40,
          "decade": 1980,
          "value": 0
         },
         {
          "chapter": 40,
          "decade": 1990,
          "value": 0
         },
         {
          "chapter": 40,
          "decade": 2000,
          "value": 0.10737033666969972
         },
         {
          "chapter": 40,
          "decade": 2010,
          "value": 0.027298850574712645
         },
         {
          "chapter": 41,
          "decade": 1960,
          "value": 0.25689819219790677
         },
         {
          "chapter": 41,
          "decade": 1970,
          "value": 0.04930795847750865
         },
         {
          "chapter": 41,
          "decade": 1980,
          "value": 0
         },
         {
          "chapter": 41,
          "decade": 1990,
          "value": 0.33258046301524563
         },
         {
          "chapter": 41,
          "decade": 2000,
          "value": 0.10327570518653321
         },
         {
          "chapter": 41,
          "decade": 2010,
          "value": 0.21551724137931033
         },
         {
          "chapter": 42,
          "decade": 1960,
          "value": 0.12559467174119887
         },
         {
          "chapter": 42,
          "decade": 1970,
          "value": 0.5181660899653979
         },
         {
          "chapter": 42,
          "decade": 1980,
          "value": 0.16730401529636713
         },
         {
          "chapter": 42,
          "decade": 1990,
          "value": 0.3190287972896669
         },
         {
          "chapter": 42,
          "decade": 2000,
          "value": 0.22975432211101002
         },
         {
          "chapter": 42,
          "decade": 2010,
          "value": 0.12284482758620689
         },
         {
          "chapter": 43,
          "decade": 1960,
          "value": 0
         },
         {
          "chapter": 43,
          "decade": 1970,
          "value": 0.21366782006920415
         },
         {
          "chapter": 43,
          "decade": 1980,
          "value": 0.02581261950286807
         },
         {
          "chapter": 43,
          "decade": 1990,
          "value": 0.009599096555618294
         },
         {
          "chapter": 43,
          "decade": 2000,
          "value": 0.2070063694267516
         },
         {
          "chapter": 43,
          "decade": 2010,
          "value": 0
         },
         {
          "chapter": 44,
          "decade": 1960,
          "value": 0
         },
         {
          "chapter": 44,
          "decade": 1970,
          "value": 0
         },
         {
          "chapter": 44,
          "decade": 1980,
          "value": 0
         },
         {
          "chapter": 44,
          "decade": 1990,
          "value": 0
         },
         {
          "chapter": 44,
          "decade": 2000,
          "value": 0
         },
         {
          "chapter": 44,
          "decade": 2010,
          "value": 0
         },
         {
          "chapter": 45,
          "decade": 1960,
          "value": 0
         },
         {
          "chapter": 45,
          "decade": 1970,
          "value": 0.02249134948096886
         },
         {
          "chapter": 45,
          "decade": 1980,
          "value": 0
         },
         {
          "chapter": 45,
          "decade": 1990,
          "value": 0.09486166007905138
         },
         {
          "chapter": 45,
          "decade": 2000,
          "value": 0.08007279344858963
         },
         {
          "chapter": 45,
          "decade": 2010,
          "value": 0.05387931034482758
         },
         {
          "chapter": 46,
          "decade": 1960,
          "value": 0.3120837297811608
         },
         {
          "chapter": 46,
          "decade": 1970,
          "value": 0.07698961937716263
         },
         {
          "chapter": 46,
          "decade": 1980,
          "value": 0
         },
         {
          "chapter": 46,
          "decade": 1990,
          "value": 0
         },
         {
          "chapter": 46,
          "decade": 2000,
          "value": 0.023657870791628753
         },
         {
          "chapter": 46,
          "decade": 2010,
          "value": 0.041666666666666664
         },
         {
          "chapter": 47,
          "decade": 1960,
          "value": 0.03615604186489058
         },
         {
          "chapter": 47,
          "decade": 1970,
          "value": 0.01643598615916955
         },
         {
          "chapter": 47,
          "decade": 1980,
          "value": 0.045889101338432124
         },
         {
          "chapter": 47,
          "decade": 1990,
          "value": 0.01129305477131564
         },
         {
          "chapter": 47,
          "decade": 2000,
          "value": 0
         },
         {
          "chapter": 47,
          "decade": 2010,
          "value": 0
         },
         {
          "chapter": 48,
          "decade": 1960,
          "value": 0.02664129400570885
         },
         {
          "chapter": 48,
          "decade": 1970,
          "value": 0.06314878892733564
         },
         {
          "chapter": 48,
          "decade": 1980,
          "value": 0
         },
         {
          "chapter": 48,
          "decade": 1990,
          "value": 0.10728402032749859
         },
         {
          "chapter": 48,
          "decade": 2000,
          "value": 0.1637852593266606
         },
         {
          "chapter": 48,
          "decade": 2010,
          "value": 0.04310344827586207
         },
         {
          "chapter": 49,
          "decade": 1960,
          "value": 0
         },
         {
          "chapter": 49,
          "decade": 1970,
          "value": 0
         },
         {
          "chapter": 49,
          "decade": 1980,
          "value": 0
         },
         {
          "chapter": 49,
          "decade": 1990,
          "value": 0
         },
         {
          "chapter": 49,
          "decade": 2000,
          "value": 0.03867151956323931
         },
         {
          "chapter": 49,
          "decade": 2010,
          "value": 0
         },
         {
          "chapter": 50,
          "decade": 1960,
          "value": 0.47954329210275926
         },
         {
          "chapter": 50,
          "decade": 1970,
          "value": 0.01903114186851211
         },
         {
          "chapter": 50,
          "decade": 1980,
          "value": 0.1338432122370937
         },
         {
          "chapter": 50,
          "decade": 1990,
          "value": 0.12365894974590627
         },
         {
          "chapter": 50,
          "decade": 2000,
          "value": 0.07688808007279345
         },
         {
          "chapter": 50,
          "decade": 2010,
          "value": 0.42887931034482757
         },
         {
          "chapter": 51,
          "decade": 1960,
          "value": 0
         },
         {
          "chapter": 51,
          "decade": 1970,
          "value": 0
         },
         {
          "chapter": 51,
          "decade": 1980,
          "value": 0.10133843212237094
         },
         {
          "chapter": 51,
          "decade": 1990,
          "value": 0
         },
         {
          "chapter": 51,
          "decade": 2000,
          "value": 0
         },
         {
          "chapter": 51,
          "decade": 2010,
          "value": 0.08620689655172414
         },
         {
          "chapter": 52,
          "decade": 1960,
          "value": 0.05423406279733587
         },
         {
          "chapter": 52,
          "decade": 1970,
          "value": 0
         },
         {
          "chapter": 52,
          "decade": 1980,
          "value": 0
         },
         {
          "chapter": 52,
          "decade": 1990,
          "value": 0
         },
         {
          "chapter": 52,
          "decade": 2000,
          "value": 0.054140127388535034
         },
         {
          "chapter": 52,
          "decade": 2010,
          "value": 0
         },
         {
          "chapter": 53,
          "decade": 1960,
          "value": 0.2844909609895338
         },
         {
          "chapter": 53,
          "decade": 1970,
          "value": 0
         },
         {
          "chapter": 53,
          "decade": 1980,
          "value": 0
         },
         {
          "chapter": 53,
          "decade": 1990,
          "value": 0.01355166572557877
         },
         {
          "chapter": 53,
          "decade": 2000,
          "value": 0.3293903548680619
         },
         {
          "chapter": 53,
          "decade": 2010,
          "value": 0.031609195402298854
         },
         {
          "chapter": 54,
          "decade": 1960,
          "value": 0
         },
         {
          "chapter": 54,
          "decade": 1970,
          "value": 0.10640138408304499
         },
         {
          "chapter": 54,
          "decade": 1980,
          "value": 0.1615678776290631
         },
         {
          "chapter": 54,
          "decade": 1990,
          "value": 0.023715415019762844
         },
         {
          "chapter": 54,
          "decade": 2000,
          "value": 0.12602365787079162
         },
         {
          "chapter": 54,
          "decade": 2010,
          "value": 0.04669540229885057
         },
         {
          "chapter": 55,
          "decade": 1960,
          "value": 0
         },
         {
          "chapter": 55,
          "decade": 1970,
          "value": 0.07093425605536333
         },
         {
          "chapter": 55,
          "decade": 1980,
          "value": 0.16921606118546845
         },
         {
          "chapter": 55,
          "decade": 1990,
          "value": 0.018633540372670808
         },
         {
          "chapter": 55,
          "decade": 2000,
          "value": 0.14695177434030937
         },
         {
          "chapter": 55,
          "decade": 2010,
          "value": 0.14367816091954022
         },
         {
          "chapter": 56,
          "decade": 1960,
          "value": 0.09039010466222645
         },
         {
          "chapter": 56,
          "decade": 1970,
          "value": 0.07612456747404844
         },
         {
          "chapter": 56,
          "decade": 1980,
          "value": 0.11854684512428298
         },
         {
          "chapter": 56,
          "decade": 1990,
          "value": 0
         },
         {
          "chapter": 56,
          "decade": 2000,
          "value": 0.1078252957233849
         },
         {
          "chapter": 56,
          "decade": 2010,
          "value": 0.014367816091954023
         },
         {
          "chapter": 57,
          "decade": 1960,
          "value": 0
         },
         {
          "chapter": 57,
          "decade": 1970,
          "value": 0.09083044982698962
         },
         {
          "chapter": 57,
          "decade": 1980,
          "value": 0
         },
         {
          "chapter": 57,
          "decade": 1990,
          "value": 0
         },
         {
          "chapter": 57,
          "decade": 2000,
          "value": 0.05232029117379436
         },
         {
          "chapter": 57,
          "decade": 2010,
          "value": 0
         },
         {
          "chapter": 58,
          "decade": 1960,
          "value": 0
         },
         {
          "chapter": 58,
          "decade": 1970,
          "value": 0.10034602076124567
         },
         {
          "chapter": 58,
          "decade": 1980,
          "value": 0.25908221797323133
         },
         {
          "chapter": 58,
          "decade": 1990,
          "value": 0.08526256352343309
         },
         {
          "chapter": 58,
          "decade": 2000,
          "value": 0.05959963603275705
         },
         {
          "chapter": 58,
          "decade": 2010,
          "value": 0.11350574712643678
         },
         {
          "chapter": 59,
          "decade": 1960,
          "value": 0
         },
         {
          "chapter": 59,
          "decade": 1970,
          "value": 0
         },
         {
          "chapter": 59,
          "decade": 1980,
          "value": 0
         },
         {
          "chapter": 59,
          "decade": 1990,
          "value": 0
         },
         {
          "chapter": 59,
          "decade": 2000,
          "value": 0.01364877161055505
         },
         {
          "chapter": 59,
          "decade": 2010,
          "value": 0
         },
         {
          "chapter": 60,
          "decade": 1960,
          "value": 0
         },
         {
          "chapter": 60,
          "decade": 1970,
          "value": 0
         },
         {
          "chapter": 60,
          "decade": 1980,
          "value": 0
         },
         {
          "chapter": 60,
          "decade": 1990,
          "value": 0.028232636928289104
         },
         {
          "chapter": 60,
          "decade": 2000,
          "value": 0
         },
         {
          "chapter": 60,
          "decade": 2010,
          "value": 0.0668103448275862
         },
         {
          "chapter": 61,
          "decade": 1960,
          "value": 0.010466222645099905
         },
         {
          "chapter": 61,
          "decade": 1970,
          "value": 0.06833910034602077
         },
         {
          "chapter": 61,
          "decade": 1980,
          "value": 0.39579349904397704
         },
         {
          "chapter": 61,
          "decade": 1990,
          "value": 0.08639186900056466
         },
         {
          "chapter": 61,
          "decade": 2000,
          "value": 0.3562329390354868
         },
         {
          "chapter": 61,
          "decade": 2010,
          "value": 0.014367816091954023
         },
         {
          "chapter": 62,
          "decade": 1960,
          "value": 0
         },
         {
          "chapter": 62,
          "decade": 1970,
          "value": 0
         },
         {
          "chapter": 62,
          "decade": 1980,
          "value": 0
         },
         {
          "chapter": 62,
          "decade": 1990,
          "value": 0.009599096555618294
         },
         {
          "chapter": 62,
          "decade": 2000,
          "value": 0.07006369426751592
         },
         {
          "chapter": 62,
          "decade": 2010,
          "value": 0.05747126436781609
         },
         {
          "chapter": 63,
          "decade": 1960,
          "value": 0.02093244529019981
         },
         {
          "chapter": 63,
          "decade": 1970,
          "value": 0.01124567474048443
         },
         {
          "chapter": 63,
          "decade": 1980,
          "value": 0
         },
         {
          "chapter": 63,
          "decade": 1990,
          "value": 0
         },
         {
          "chapter": 63,
          "decade": 2000,
          "value": 0.014558689717925387
         },
         {
          "chapter": 63,
          "decade": 2010,
          "value": 0.11637931034482758
         },
         {
          "chapter": 64,
          "decade": 1960,
          "value": 0.01807802093244529
         },
         {
          "chapter": 64,
          "decade": 1970,
          "value": 0
         },
         {
          "chapter": 64,
          "decade": 1980,
          "value": 0.03537284894837476
         },
         {
          "chapter": 64,
          "decade": 1990,
          "value": 0
         },
         {
          "chapter": 64,
          "decade": 2000,
          "value": 0
         },
         {
          "chapter": 64,
          "decade": 2010,
          "value": 0.11997126436781609
         },
         {
          "chapter": 65,
          "decade": 1960,
          "value": 0
         },
         {
          "chapter": 65,
          "decade": 1970,
          "value": 0
         },
         {
          "chapter": 65,
          "decade": 1980,
          "value": 0.02198852772466539
         },
         {
          "chapter": 65,
          "decade": 1990,
          "value": 0.029361942405420668
         },
         {
          "chapter": 65,
          "decade": 2000,
          "value": 0
         },
         {
          "chapter": 65,
          "decade": 2010,
          "value": 0
         },
         {
          "chapter": 66,
          "decade": 1960,
          "value": 0.071360608943863
         },
         {
          "chapter": 66,
          "decade": 1970,
          "value": 0
         },
         {
          "chapter": 66,
          "decade": 1980,
          "value": 0
         },
         {
          "chapter": 66,
          "decade": 1990,
          "value": 0
         },
         {
          "chapter": 66,
          "decade": 2000,
          "value": 0
         },
         {
          "chapter": 66,
          "decade": 2010,
          "value": 0.007183908045977011
         },
         {
          "chapter": 67,
          "decade": 1960,
          "value": 0
         },
         {
          "chapter": 67,
          "decade": 1970,
          "value": 0
         },
         {
          "chapter": 67,
          "decade": 1980,
          "value": 0
         },
         {
          "chapter": 67,
          "decade": 1990,
          "value": 0
         },
         {
          "chapter": 67,
          "decade": 2000,
          "value": 0
         },
         {
          "chapter": 67,
          "decade": 2010,
          "value": 0.020833333333333332
         },
         {
          "chapter": 68,
          "decade": 1960,
          "value": 0
         },
         {
          "chapter": 68,
          "decade": 1970,
          "value": 0
         },
         {
          "chapter": 68,
          "decade": 1980,
          "value": 0
         },
         {
          "chapter": 68,
          "decade": 1990,
          "value": 0
         },
         {
          "chapter": 68,
          "decade": 2000,
          "value": 0.05141037306642402
         },
         {
          "chapter": 68,
          "decade": 2010,
          "value": 0.017959770114942528
         },
         {
          "chapter": 69,
          "decade": 1960,
          "value": 0
         },
         {
          "chapter": 69,
          "decade": 1970,
          "value": 0
         },
         {
          "chapter": 69,
          "decade": 1980,
          "value": 0
         },
         {
          "chapter": 69,
          "decade": 1990,
          "value": 0
         },
         {
          "chapter": 69,
          "decade": 2000,
          "value": 0.026387625113739762
         },
         {
          "chapter": 69,
          "decade": 2010,
          "value": 0
         },
         {
          "chapter": 70,
          "decade": 1960,
          "value": 0
         },
         {
          "chapter": 70,
          "decade": 1970,
          "value": 0.012110726643598616
         },
         {
          "chapter": 70,
          "decade": 1980,
          "value": 0.08795411089866156
         },
         {
          "chapter": 70,
          "decade": 1990,
          "value": 0.10954263128176171
         },
         {
          "chapter": 70,
          "decade": 2000,
          "value": 0.030937215650591446
         },
         {
          "chapter": 70,
          "decade": 2010,
          "value": 0.017959770114942528
         },
         {
          "chapter": 71,
          "decade": 1960,
          "value": 0.16841103710751665
         },
         {
          "chapter": 71,
          "decade": 1970,
          "value": 0.012975778546712802
         },
         {
          "chapter": 71,
          "decade": 1980,
          "value": 0.18546845124282982
         },
         {
          "chapter": 71,
          "decade": 1990,
          "value": 0.07396950875211744
         },
         {
          "chapter": 71,
          "decade": 2000,
          "value": 0.01910828025477707
         },
         {
          "chapter": 71,
          "decade": 2010,
          "value": 0.04310344827586207
         },
         {
          "chapter": 72,
          "decade": 1960,
          "value": 0
         },
         {
          "chapter": 72,
          "decade": 1970,
          "value": 0
         },
         {
          "chapter": 72,
          "decade": 1980,
          "value": 0.13288718929254303
         },
         {
          "chapter": 72,
          "decade": 1990,
          "value": 0.059853190287972896
         },
         {
          "chapter": 72,
          "decade": 2000,
          "value": 0.011373976342129208
         },
         {
          "chapter": 72,
          "decade": 2010,
          "value": 0.014367816091954023
         },
         {
          "chapter": 73,
          "decade": 1960,
          "value": 0.2987630827783064
         },
         {
          "chapter": 73,
          "decade": 1970,
          "value": 0
         },
         {
          "chapter": 73,
          "decade": 1980,
          "value": 0.3489483747609943
         },
         {
          "chapter": 73,
          "decade": 1990,
          "value": 0
         },
         {
          "chapter": 73,
          "decade": 2000,
          "value": 0
         },
         {
          "chapter": 73,
          "decade": 2010,
          "value": 0.034482758620689655
         },
         {
          "chapter": 74,
          "decade": 1960,
          "value": 0
         },
         {
          "chapter": 74,
          "decade": 1970,
          "value": 0.5778546712802768
         },
         {
          "chapter": 74,
          "decade": 1980,
          "value": 0.0372848948374761
         },
         {
          "chapter": 74,
          "decade": 1990,
          "value": 0.01693958215697346
         },
         {
          "chapter": 74,
          "decade": 2000,
          "value": 0
         },
         {
          "chapter": 74,
          "decade": 2010,
          "value": 0.3311781609195402
         },
         {
          "chapter": 75,
          "decade": 1960,
          "value": 0
         },
         {
          "chapter": 75,
          "decade": 1970,
          "value": 0
         },
         {
          "chapter": 75,
          "decade": 1980,
          "value": 0
         },
         {
          "chapter": 75,
          "decade": 1990,
          "value": 0.08243929983060418
         },
         {
          "chapter": 75,
          "decade": 2000,
          "value": 0.02183803457688808
         },
         {
          "chapter": 75,
          "decade": 2010,
          "value": 0
         },
         {
          "chapter": 76,
          "decade": 1960,
          "value": 0.3139866793529971
         },
         {
          "chapter": 76,
          "decade": 1970,
          "value": 0.12629757785467127
         },
         {
          "chapter": 76,
          "decade": 1980,
          "value": 0.3154875717017208
         },
         {
          "chapter": 76,
          "decade": 1990,
          "value": 0.1287408243929983
         },
         {
          "chapter": 76,
          "decade": 2000,
          "value": 0.26478616924476794
         },
         {
          "chapter": 76,
          "decade": 2010,
          "value": 0.11709770114942529
         },
         {
          "chapter": 77,
          "decade": 1960,
          "value": 0
         },
         {
          "chapter": 77,
          "decade": 1970,
          "value": 0.04411764705882353
         },
         {
          "chapter": 77,
          "decade": 1980,
          "value": 0.12045889101338432
         },
         {
          "chapter": 77,
          "decade": 1990,
          "value": 0.04743083003952569
         },
         {
          "chapter": 77,
          "decade": 2000,
          "value": 0.033212010919017286
         },
         {
          "chapter": 77,
          "decade": 2010,
          "value": 0.04741379310344827
         },
         {
          "chapter": 78,
          "decade": 1960,
          "value": 0.142721217887726
         },
         {
          "chapter": 78,
          "decade": 1970,
          "value": 0
         },
         {
          "chapter": 78,
          "decade": 1980,
          "value": 0
         },
         {
          "chapter": 78,
          "decade": 1990,
          "value": 0.1885940146809712
         },
         {
          "chapter": 78,
          "decade": 2000,
          "value": 0.00818926296633303
         },
         {
          "chapter": 78,
          "decade": 2010,
          "value": 0.010775862068965518
         },
         {
          "chapter": 79,
          "decade": 1960,
          "value": 0.039961941008563276
         },
         {
          "chapter": 79,
          "decade": 1970,
          "value": 0
         },
         {
          "chapter": 79,
          "decade": 1980,
          "value": 0
         },
         {
          "chapter": 79,
          "decade": 1990,
          "value": 0.05815923207227555
         },
         {
          "chapter": 79,
          "decade": 2000,
          "value": 0
         },
         {
          "chapter": 79,
          "decade": 2010,
          "value": 0
         },
         {
          "chapter": 80,
          "decade": 1960,
          "value": 0.1665080875356803
         },
         {
          "chapter": 80,
          "decade": 1970,
          "value": 0.31228373702422146
         },
         {
          "chapter": 80,
          "decade": 1980,
          "value": 0.5315487571701721
         },
         {
          "chapter": 80,
          "decade": 1990,
          "value": 0.3642010163749294
         },
         {
          "chapter": 80,
          "decade": 2000,
          "value": 0.26660600545950863
         },
         {
          "chapter": 80,
          "decade": 2010,
          "value": 0.5545977011494253
         },
         {
          "chapter": 81,
          "decade": 1960,
          "value": 0.13415794481446242
         },
         {
          "chapter": 81,
          "decade": 1970,
          "value": 0.08737024221453288
         },
         {
          "chapter": 81,
          "decade": 1980,
          "value": 0.17686424474187382
         },
         {
          "chapter": 81,
          "decade": 1990,
          "value": 0.2140033879164314
         },
         {
          "chapter": 81,
          "decade": 2000,
          "value": 0.08280254777070063
         },
         {
          "chapter": 81,
          "decade": 2010,
          "value": 0.05459770114942529
         },
         {
          "chapter": 82,
          "decade": 1960,
          "value": 0
         },
         {
          "chapter": 82,
          "decade": 1970,
          "value": 0
         },
         {
          "chapter": 82,
          "decade": 1980,
          "value": 0.02198852772466539
         },
         {
          "chapter": 82,
          "decade": 1990,
          "value": 0
         },
         {
          "chapter": 82,
          "decade": 2000,
          "value": 0
         },
         {
          "chapter": 82,
          "decade": 2010,
          "value": 0.04310344827586207
         },
         {
          "chapter": 83,
          "decade": 1960,
          "value": 0
         },
         {
          "chapter": 83,
          "decade": 1970,
          "value": 0.026816608996539794
         },
         {
          "chapter": 83,
          "decade": 1980,
          "value": 0.014340344168260038
         },
         {
          "chapter": 83,
          "decade": 1990,
          "value": 0.2365894974590627
         },
         {
          "chapter": 83,
          "decade": 2000,
          "value": 0.1797088262056415
         },
         {
          "chapter": 83,
          "decade": 2010,
          "value": 0.10057471264367816
         },
         {
          "chapter": 84,
          "decade": 1960,
          "value": 0
         },
         {
          "chapter": 84,
          "decade": 1970,
          "value": 0
         },
         {
          "chapter": 84,
          "decade": 1980,
          "value": 0
         },
         {
          "chapter": 84,
          "decade": 1990,
          "value": 0
         },
         {
          "chapter": 84,
          "decade": 2000,
          "value": 0
         },
         {
          "chapter": 84,
          "decade": 2010,
          "value": 0
         },
         {
          "chapter": 85,
          "decade": 1960,
          "value": 0
         },
         {
          "chapter": 85,
          "decade": 1970,
          "value": 0
         },
         {
          "chapter": 85,
          "decade": 1980,
          "value": 1
         },
         {
          "chapter": 85,
          "decade": 1990,
          "value": 0
         },
         {
          "chapter": 85,
          "decade": 2000,
          "value": 0
         },
         {
          "chapter": 85,
          "decade": 2010,
          "value": 0
         },
         {
          "chapter": 86,
          "decade": 1960,
          "value": 0
         },
         {
          "chapter": 86,
          "decade": 1970,
          "value": 0
         },
         {
          "chapter": 86,
          "decade": 1980,
          "value": 0
         },
         {
          "chapter": 86,
          "decade": 1990,
          "value": 0
         },
         {
          "chapter": 86,
          "decade": 2000,
          "value": 0.018198362147406732
         },
         {
          "chapter": 86,
          "decade": 2010,
          "value": 0
         },
         {
          "chapter": 87,
          "decade": 1960,
          "value": 0.09324452901998097
         },
         {
          "chapter": 87,
          "decade": 1970,
          "value": 0.07179930795847751
         },
         {
          "chapter": 87,
          "decade": 1980,
          "value": 0.40344168260038243
         },
         {
          "chapter": 87,
          "decade": 1990,
          "value": 0.25352907961603616
         },
         {
          "chapter": 87,
          "decade": 2000,
          "value": 0.23748862602365786
         },
         {
          "chapter": 87,
          "decade": 2010,
          "value": 0.7543103448275862
         }
        ]
       },
       "encoding": {
        "color": {
         "field": "value",
         "type": "quantitative"
        },
        "x": {
         "field": "chapter",
         "type": "ordinal"
        },
        "y": {
         "field": "decade",
         "type": "ordinal"
        }
       },
       "height": 300,
       "mark": "rect",
       "width": 1000
      },
      "image/png": "[encoded data removed]",
      "text/plain": [
       "<VegaLite 2 object>\n",
       "\n",
       "If you see this message, it means the renderer has not been properly enabled\n",
       "for the frontend that you are using. For more information, see\n",
       "https://altair-viz.github.io/user_guide/troubleshooting.html\n"
      ]
     },
     "execution_count": 200,
     "metadata": {},
     "output_type": "execute_result"
    }
   ],
   "source": [
    "alt.Chart(diaMelted).mark_rect().encode(x='chapter:O', y='decade:O', color='value').properties(width=1000, height=300)"
   ]
  },
  {
   "cell_type": "code",
   "execution_count": 202,
   "metadata": {},
   "outputs": [
    {
     "data": {
      "text/html": [
       "<div>\n",
       "<style scoped>\n",
       "    .dataframe tbody tr th:only-of-type {\n",
       "        vertical-align: middle;\n",
       "    }\n",
       "\n",
       "    .dataframe tbody tr th {\n",
       "        vertical-align: top;\n",
       "    }\n",
       "\n",
       "    .dataframe thead th {\n",
       "        text-align: right;\n",
       "    }\n",
       "</style>\n",
       "<table border=\"1\" class=\"dataframe\">\n",
       "  <thead>\n",
       "    <tr style=\"text-align: right;\">\n",
       "      <th></th>\n",
       "      <th>0</th>\n",
       "      <th>1</th>\n",
       "      <th>2</th>\n",
       "      <th>3</th>\n",
       "      <th>4</th>\n",
       "      <th>5</th>\n",
       "      <th>6</th>\n",
       "      <th>7</th>\n",
       "      <th>8</th>\n",
       "    </tr>\n",
       "  </thead>\n",
       "  <tbody>\n",
       "    <tr>\n",
       "      <th>1960</th>\n",
       "      <td>0.023909</td>\n",
       "      <td>0.460570</td>\n",
       "      <td>1.000000</td>\n",
       "      <td>0.184983</td>\n",
       "      <td>0.309983</td>\n",
       "      <td>0.526007</td>\n",
       "      <td>0.044463</td>\n",
       "      <td>0.122903</td>\n",
       "      <td>0.524329</td>\n",
       "    </tr>\n",
       "    <tr>\n",
       "      <th>1970</th>\n",
       "      <td>0.055885</td>\n",
       "      <td>1.000000</td>\n",
       "      <td>0.933636</td>\n",
       "      <td>0.405868</td>\n",
       "      <td>0.354523</td>\n",
       "      <td>0.166259</td>\n",
       "      <td>0.207125</td>\n",
       "      <td>0.014670</td>\n",
       "      <td>0.503318</td>\n",
       "    </tr>\n",
       "    <tr>\n",
       "      <th>1980</th>\n",
       "      <td>0.102859</td>\n",
       "      <td>0.755009</td>\n",
       "      <td>1.000000</td>\n",
       "      <td>0.257013</td>\n",
       "      <td>0.284798</td>\n",
       "      <td>0.085760</td>\n",
       "      <td>0.308576</td>\n",
       "      <td>0.092439</td>\n",
       "      <td>0.867219</td>\n",
       "    </tr>\n",
       "    <tr>\n",
       "      <th>1990</th>\n",
       "      <td>0.167434</td>\n",
       "      <td>0.618346</td>\n",
       "      <td>1.000000</td>\n",
       "      <td>0.220851</td>\n",
       "      <td>0.530300</td>\n",
       "      <td>0.117517</td>\n",
       "      <td>0.082151</td>\n",
       "      <td>0.069442</td>\n",
       "      <td>0.538405</td>\n",
       "    </tr>\n",
       "    <tr>\n",
       "      <th>2000</th>\n",
       "      <td>0.130296</td>\n",
       "      <td>0.889389</td>\n",
       "      <td>1.000000</td>\n",
       "      <td>0.688601</td>\n",
       "      <td>0.348331</td>\n",
       "      <td>0.401200</td>\n",
       "      <td>0.384327</td>\n",
       "      <td>0.058680</td>\n",
       "      <td>0.463255</td>\n",
       "    </tr>\n",
       "    <tr>\n",
       "      <th>2010</th>\n",
       "      <td>0.045096</td>\n",
       "      <td>1.000000</td>\n",
       "      <td>0.851651</td>\n",
       "      <td>0.590685</td>\n",
       "      <td>0.317891</td>\n",
       "      <td>0.235091</td>\n",
       "      <td>0.156727</td>\n",
       "      <td>0.117792</td>\n",
       "      <td>0.707491</td>\n",
       "    </tr>\n",
       "  </tbody>\n",
       "</table>\n",
       "</div>"
      ],
      "text/plain": [
       "             0         1         2         3         4         5         6  \\\n",
       "1960  0.023909  0.460570  1.000000  0.184983  0.309983  0.526007  0.044463   \n",
       "1970  0.055885  1.000000  0.933636  0.405868  0.354523  0.166259  0.207125   \n",
       "1980  0.102859  0.755009  1.000000  0.257013  0.284798  0.085760  0.308576   \n",
       "1990  0.167434  0.618346  1.000000  0.220851  0.530300  0.117517  0.082151   \n",
       "2000  0.130296  0.889389  1.000000  0.688601  0.348331  0.401200  0.384327   \n",
       "2010  0.045096  1.000000  0.851651  0.590685  0.317891  0.235091  0.156727   \n",
       "\n",
       "             7         8  \n",
       "1960  0.122903  0.524329  \n",
       "1970  0.014670  0.503318  \n",
       "1980  0.092439  0.867219  \n",
       "1990  0.069442  0.538405  \n",
       "2000  0.058680  0.463255  \n",
       "2010  0.117792  0.707491  "
      ]
     },
     "execution_count": 202,
     "metadata": {},
     "output_type": "execute_result"
    }
   ],
   "source": [
    "booksDiaDF = diachronicAnalysis(df, decades=(1960, 2020), bins=bookLocations).sort_index()\n",
    "booksDiaDF"
   ]
  },
  {
   "cell_type": "code",
   "execution_count": 204,
   "metadata": {},
   "outputs": [],
   "source": [
    "booksDiaDF['decade'] = booksDiaDF.index"
   ]
  },
  {
   "cell_type": "code",
   "execution_count": 211,
   "metadata": {},
   "outputs": [],
   "source": [
    "booksMelted = booksDiaDF.melt(id_vars='decade', var_name='book')"
   ]
  },
  {
   "cell_type": "code",
   "execution_count": 212,
   "metadata": {},
   "outputs": [
    {
     "data": {
      "text/html": [
       "<div>\n",
       "<style scoped>\n",
       "    .dataframe tbody tr th:only-of-type {\n",
       "        vertical-align: middle;\n",
       "    }\n",
       "\n",
       "    .dataframe tbody tr th {\n",
       "        vertical-align: top;\n",
       "    }\n",
       "\n",
       "    .dataframe thead th {\n",
       "        text-align: right;\n",
       "    }\n",
       "</style>\n",
       "<table border=\"1\" class=\"dataframe\">\n",
       "  <thead>\n",
       "    <tr style=\"text-align: right;\">\n",
       "      <th></th>\n",
       "      <th>decade</th>\n",
       "      <th>book</th>\n",
       "      <th>value</th>\n",
       "    </tr>\n",
       "  </thead>\n",
       "  <tbody>\n",
       "    <tr>\n",
       "      <th>0</th>\n",
       "      <td>1960</td>\n",
       "      <td>0</td>\n",
       "      <td>0.023909</td>\n",
       "    </tr>\n",
       "    <tr>\n",
       "      <th>1</th>\n",
       "      <td>1970</td>\n",
       "      <td>0</td>\n",
       "      <td>0.055885</td>\n",
       "    </tr>\n",
       "    <tr>\n",
       "      <th>2</th>\n",
       "      <td>1980</td>\n",
       "      <td>0</td>\n",
       "      <td>0.102859</td>\n",
       "    </tr>\n",
       "    <tr>\n",
       "      <th>3</th>\n",
       "      <td>1990</td>\n",
       "      <td>0</td>\n",
       "      <td>0.167434</td>\n",
       "    </tr>\n",
       "    <tr>\n",
       "      <th>4</th>\n",
       "      <td>2000</td>\n",
       "      <td>0</td>\n",
       "      <td>0.130296</td>\n",
       "    </tr>\n",
       "  </tbody>\n",
       "</table>\n",
       "</div>"
      ],
      "text/plain": [
       "   decade book     value\n",
       "0    1960    0  0.023909\n",
       "1    1970    0  0.055885\n",
       "2    1980    0  0.102859\n",
       "3    1990    0  0.167434\n",
       "4    2000    0  0.130296"
      ]
     },
     "execution_count": 212,
     "metadata": {},
     "output_type": "execute_result"
    }
   ],
   "source": [
    "booksMelted.head()"
   ]
  },
  {
   "cell_type": "code",
   "execution_count": 218,
   "metadata": {},
   "outputs": [
    {
     "data": {
      "application/vnd.vegalite.v2+json": {
       "$schema": "https://vega.github.io/schema/vega-lite/v2.6.0.json",
       "config": {
        "view": {
         "height": 300,
         "width": 400
        }
       },
       "data": {
        "name": "data-83caf4fd0b9ad2bc09d6e4dfee1f1c50"
       },
       "datasets": {
        "data-83caf4fd0b9ad2bc09d6e4dfee1f1c50": [
         {
          "book": 0,
          "decade": 1960,
          "value": 0.023909395973154363
         },
         {
          "book": 0,
          "decade": 1970,
          "value": 0.055885434858539994
         },
         {
          "book": 0,
          "decade": 1980,
          "value": 0.10285866951643068
         },
         {
          "book": 0,
          "decade": 1990,
          "value": 0.1674341499355314
         },
         {
          "book": 0,
          "decade": 2000,
          "value": 0.13029621297337832
         },
         {
          "book": 0,
          "decade": 2010,
          "value": 0.045096106456382457
         },
         {
          "book": 1,
          "decade": 1960,
          "value": 0.46057046979865773
         },
         {
          "book": 1,
          "decade": 1970,
          "value": 1
         },
         {
          "book": 1,
          "decade": 1980,
          "value": 0.7550093507881379
         },
         {
          "book": 1,
          "decade": 1990,
          "value": 0.6183459200589427
         },
         {
          "book": 1,
          "decade": 2000,
          "value": 0.8893888263967004
         },
         {
          "book": 1,
          "decade": 2010,
          "value": 1
         },
         {
          "book": 2,
          "decade": 1960,
          "value": 1
         },
         {
          "book": 2,
          "decade": 1970,
          "value": 0.9336360461054838
         },
         {
          "book": 2,
          "decade": 1980,
          "value": 1
         },
         {
          "book": 2,
          "decade": 1990,
          "value": 1
         },
         {
          "book": 2,
          "decade": 2000,
          "value": 1
         },
         {
          "book": 2,
          "decade": 2010,
          "value": 0.8516510596352883
         },
         {
          "book": 3,
          "decade": 1960,
          "value": 0.18498322147651006
         },
         {
          "book": 3,
          "decade": 1970,
          "value": 0.4058679706601467
         },
         {
          "book": 3,
          "decade": 1980,
          "value": 0.257013091103393
         },
         {
          "book": 3,
          "decade": 1990,
          "value": 0.22085098544851722
         },
         {
          "book": 3,
          "decade": 2000,
          "value": 0.6886014248218972
         },
         {
          "book": 3,
          "decade": 2010,
          "value": 0.590685066535239
         },
         {
          "book": 4,
          "decade": 1960,
          "value": 0.3099832214765101
         },
         {
          "book": 4,
          "decade": 1970,
          "value": 0.3545232273838631
         },
         {
          "book": 4,
          "decade": 1980,
          "value": 0.28479829014159763
         },
         {
          "book": 4,
          "decade": 1990,
          "value": 0.5303002394547799
         },
         {
          "book": 4,
          "decade": 2000,
          "value": 0.34833145856767905
         },
         {
          "book": 4,
          "decade": 2010,
          "value": 0.31789058649581076
         },
         {
          "book": 5,
          "decade": 1960,
          "value": 0.5260067114093959
         },
         {
          "book": 5,
          "decade": 1970,
          "value": 0.16625916870415647
         },
         {
          "book": 5,
          "decade": 1980,
          "value": 0.08576008549292012
         },
         {
          "book": 5,
          "decade": 1990,
          "value": 0.1175170381285688
         },
         {
          "book": 5,
          "decade": 2000,
          "value": 0.40119985001874764
         },
         {
          "book": 5,
          "decade": 2010,
          "value": 0.2350911779201577
         },
         {
          "book": 6,
          "decade": 1960,
          "value": 0.044463087248322146
         },
         {
          "book": 6,
          "decade": 1970,
          "value": 0.20712539294446386
         },
         {
          "book": 6,
          "decade": 1980,
          "value": 0.308576008549292
         },
         {
          "book": 6,
          "decade": 1990,
          "value": 0.08215140909928163
         },
         {
          "book": 6,
          "decade": 2000,
          "value": 0.3843269591301087
         },
         {
          "book": 6,
          "decade": 2010,
          "value": 0.15672745194677182
         },
         {
          "book": 7,
          "decade": 1960,
          "value": 0.12290268456375839
         },
         {
          "book": 7,
          "decade": 1970,
          "value": 0.014669926650366748
         },
         {
          "book": 7,
          "decade": 1980,
          "value": 0.09243921987710393
         },
         {
          "book": 7,
          "decade": 1990,
          "value": 0.06944188616688156
         },
         {
          "book": 7,
          "decade": 2000,
          "value": 0.05868016497937758
         },
         {
          "book": 7,
          "decade": 2010,
          "value": 0.11779201577131591
         },
         {
          "book": 8,
          "decade": 1960,
          "value": 0.5243288590604027
         },
         {
          "book": 8,
          "decade": 1970,
          "value": 0.5033181976947259
         },
         {
          "book": 8,
          "decade": 1980,
          "value": 0.8672188084424258
         },
         {
          "book": 8,
          "decade": 1990,
          "value": 0.5384048627739916
         },
         {
          "book": 8,
          "decade": 2000,
          "value": 0.463254593175853
         },
         {
          "book": 8,
          "decade": 2010,
          "value": 0.7074913750616068
         }
        ]
       },
       "encoding": {
        "color": {
         "field": "value",
         "type": "quantitative"
        },
        "x": {
         "field": "book",
         "type": "ordinal"
        },
        "y": {
         "field": "decade",
         "type": "ordinal"
        }
       },
       "height": 300,
       "mark": "rect",
       "width": 500
      },
      "image/png": "[encoded data removed]",
      "text/plain": [
       "<VegaLite 2 object>\n",
       "\n",
       "If you see this message, it means the renderer has not been properly enabled\n",
       "for the frontend that you are using. For more information, see\n",
       "https://altair-viz.github.io/user_guide/troubleshooting.html\n"
      ]
     },
     "execution_count": 218,
     "metadata": {},
     "output_type": "execute_result"
    }
   ],
   "source": [
    "alt.Chart(booksMelted).mark_rect().encode(x='book:O', y='decade:O', color='value').properties(width=500, height=300)"
   ]
  },
  {
   "cell_type": "code",
   "execution_count": 112,
   "metadata": {},
   "outputs": [
    {
     "data": {
      "image/png": "[encoded data removed]",
      "text/plain": [
       "<Figure size 1152x432 with 2 Axes>"
      ]
     },
     "metadata": {},
     "output_type": "display_data"
    }
   ],
   "source": [
    "def plotDiachronicAnalysisBooks(df, save=False, reverse=False): \n",
    "    ylabels = [str(int(decade)) for decade in df.index] + ['2020']\n",
    "    plt.pcolor(df, cmap='gnuplot')\n",
    "    plt.yticks(np.arange(len(df.index)+1), ylabels)\n",
    "    plt.gca().invert_yaxis()\n",
    "    plt.ylabel('Decade')\n",
    "    plt.xlabel('Book')\n",
    "    plt.gca().set_xlim((0, len(df.T)))\n",
    "    plt.colorbar(ticks=[])\n",
    "    if save: \n",
    "        plt.savefig('diachronic.png', bboxinches='tight', dpi=300, transparent=True)\n",
    "    plt.show()\n",
    "\n",
    "plotDiachronicAnalysisBooks(diachronicAnalysis(df, decades=(1950, 2020), bins=bookLocations).sort_index())"
   ]
  },
  {
   "cell_type": "code",
   "execution_count": 44,
   "metadata": {
    "collapsed": true
   },
   "outputs": [],
   "source": [
    "# Export image for publication\n",
    "# plotDiachronicAnalysis(diachronicAnalysis(df, decades=(1950, 2020), bins=chapterLocations), save=True)"
   ]
  },
  {
   "cell_type": "code",
   "execution_count": 45,
   "metadata": {},
   "outputs": [
    {
     "data": {
      "text/plain": [
       "0.736392742796158"
      ]
     },
     "execution_count": 45,
     "metadata": {},
     "output_type": "execute_result"
    }
   ],
   "source": [
    "# Get the normalized proportion of, say, Chapter 20 in 1950: \n",
    "diachronicAnalysis(df)[20][1950]"
   ]
  },
  {
   "cell_type": "markdown",
   "metadata": {},
   "source": [
    "# By (Guessed) Gender of Author"
   ]
  },
  {
   "cell_type": "code",
   "execution_count": 46,
   "metadata": {
    "collapsed": true
   },
   "outputs": [
    {
     "ename": "NameError",
     "evalue": "name 'names' is not defined",
     "output_type": "error",
     "traceback": [
      "\u001b[0;31m---------------------------------------------------------------------------\u001b[0m",
      "\u001b[0;31mNameError\u001b[0m                                 Traceback (most recent call last)",
      "\u001b[0;32m<ipython-input-46-e29df6d60f8d>\u001b[0m in \u001b[0;36m<module>\u001b[0;34m\u001b[0m\n\u001b[0;32m----> 1\u001b[0;31m \u001b[0mmaleNames\u001b[0m\u001b[0;34m,\u001b[0m \u001b[0mfemaleNames\u001b[0m \u001b[0;34m=\u001b[0m \u001b[0mnames\u001b[0m\u001b[0;34m.\u001b[0m\u001b[0mwords\u001b[0m\u001b[0;34m(\u001b[0m\u001b[0;34m'male.txt'\u001b[0m\u001b[0;34m)\u001b[0m\u001b[0;34m,\u001b[0m \u001b[0mnames\u001b[0m\u001b[0;34m.\u001b[0m\u001b[0mwords\u001b[0m\u001b[0;34m(\u001b[0m\u001b[0;34m'female.txt'\u001b[0m\u001b[0;34m)\u001b[0m\u001b[0;34m\u001b[0m\u001b[0;34m\u001b[0m\u001b[0m\n\u001b[0m\u001b[1;32m      2\u001b[0m \u001b[0mmaleNames\u001b[0m \u001b[0;34m=\u001b[0m \u001b[0;34m[\u001b[0m\u001b[0mname\u001b[0m\u001b[0;34m.\u001b[0m\u001b[0mlower\u001b[0m\u001b[0;34m(\u001b[0m\u001b[0;34m)\u001b[0m \u001b[0;32mfor\u001b[0m \u001b[0mname\u001b[0m \u001b[0;32min\u001b[0m \u001b[0mmaleNames\u001b[0m\u001b[0;34m]\u001b[0m\u001b[0;34m\u001b[0m\u001b[0;34m\u001b[0m\u001b[0m\n\u001b[1;32m      3\u001b[0m \u001b[0mfemaleNames\u001b[0m \u001b[0;34m=\u001b[0m \u001b[0;34m[\u001b[0m\u001b[0mname\u001b[0m\u001b[0;34m.\u001b[0m\u001b[0mlower\u001b[0m\u001b[0;34m(\u001b[0m\u001b[0;34m)\u001b[0m \u001b[0;32mfor\u001b[0m \u001b[0mname\u001b[0m \u001b[0;32min\u001b[0m \u001b[0mfemaleNames\u001b[0m\u001b[0;34m]\u001b[0m\u001b[0;34m\u001b[0m\u001b[0;34m\u001b[0m\u001b[0m\n",
      "\u001b[0;31mNameError\u001b[0m: name 'names' is not defined"
     ]
    }
   ],
   "source": [
    "maleNames, femaleNames = names.words('male.txt'), names.words('female.txt')\n",
    "maleNames = [name.lower() for name in maleNames]\n",
    "femaleNames = [name.lower() for name in femaleNames]"
   ]
  },
  {
   "cell_type": "code",
   "execution_count": 55,
   "metadata": {},
   "outputs": [],
   "source": [
    "def guessGender(name): \n",
    "    name = name.split()[0].lower() # Grab the first name. \n",
    "    if name in maleNames and name in femaleNames: \n",
    "        return 'A' #Ambiguous\n",
    "    elif name in maleNames: \n",
    "        return 'M'\n",
    "    elif name in femaleNames: \n",
    "        return 'F'\n",
    "    else: \n",
    "        return 'U'\n",
    "\n",
    "def averageGender(names): \n",
    "    if type(names) != list: \n",
    "        return 'U'\n",
    "    genderGuesses = [guessGender(name) for name in names]\n",
    "    stats = Counter(genderGuesses).most_common()\n",
    "    if len(stats) == 1: \n",
    "        # Only one author. We can just use that's author's gender guess. \n",
    "        return stats[0][0]\n",
    "    elif stats[0][1] == stats[1][1]: # There's a tie. \n",
    "        return 'A' # Ambiguous. \n",
    "    else: \n",
    "        return stats[0][0] # Return the most common gender. \n",
    "        "
   ]
  },
  {
   "cell_type": "code",
   "execution_count": 56,
   "metadata": {
    "scrolled": true
   },
   "outputs": [
    {
     "ename": "NameError",
     "evalue": "name 'maleNames' is not defined",
     "output_type": "error",
     "traceback": [
      "\u001b[0;31m---------------------------------------------------------------------------\u001b[0m",
      "\u001b[0;31mNameError\u001b[0m                                 Traceback (most recent call last)",
      "\u001b[0;32m<ipython-input-56-31ef052ab8a3>\u001b[0m in \u001b[0;36m<module>\u001b[0;34m()\u001b[0m\n\u001b[0;32m----> 1\u001b[0;31m \u001b[0mdf\u001b[0m\u001b[0;34m[\u001b[0m\u001b[0;34m'gender'\u001b[0m\u001b[0;34m]\u001b[0m \u001b[0;34m=\u001b[0m \u001b[0mdf\u001b[0m\u001b[0;34m[\u001b[0m\u001b[0;34m'author'\u001b[0m\u001b[0;34m]\u001b[0m\u001b[0;34m.\u001b[0m\u001b[0mapply\u001b[0m\u001b[0;34m(\u001b[0m\u001b[0maverageGender\u001b[0m\u001b[0;34m)\u001b[0m\u001b[0;34m\u001b[0m\u001b[0m\n\u001b[0m\u001b[1;32m      2\u001b[0m \u001b[0mdfF\u001b[0m \u001b[0;34m=\u001b[0m \u001b[0mdf\u001b[0m\u001b[0;34m.\u001b[0m\u001b[0mloc\u001b[0m\u001b[0;34m[\u001b[0m\u001b[0mdf\u001b[0m\u001b[0;34m[\u001b[0m\u001b[0;34m'gender'\u001b[0m\u001b[0;34m]\u001b[0m \u001b[0;34m==\u001b[0m \u001b[0;34m'F'\u001b[0m\u001b[0;34m]\u001b[0m\u001b[0;34m\u001b[0m\u001b[0m\n\u001b[1;32m      3\u001b[0m \u001b[0mdfM\u001b[0m \u001b[0;34m=\u001b[0m \u001b[0mdf\u001b[0m\u001b[0;34m.\u001b[0m\u001b[0mloc\u001b[0m\u001b[0;34m[\u001b[0m\u001b[0mdf\u001b[0m\u001b[0;34m[\u001b[0m\u001b[0;34m'gender'\u001b[0m\u001b[0;34m]\u001b[0m \u001b[0;34m==\u001b[0m \u001b[0;34m'M'\u001b[0m\u001b[0;34m]\u001b[0m\u001b[0;34m\u001b[0m\u001b[0m\n",
      "\u001b[0;32m/usr/local/lib/python3.7/site-packages/pandas/core/series.py\u001b[0m in \u001b[0;36mapply\u001b[0;34m(self, func, convert_dtype, args, **kwds)\u001b[0m\n\u001b[1;32m   3192\u001b[0m             \u001b[0;32melse\u001b[0m\u001b[0;34m:\u001b[0m\u001b[0;34m\u001b[0m\u001b[0m\n\u001b[1;32m   3193\u001b[0m                 \u001b[0mvalues\u001b[0m \u001b[0;34m=\u001b[0m \u001b[0mself\u001b[0m\u001b[0;34m.\u001b[0m\u001b[0mastype\u001b[0m\u001b[0;34m(\u001b[0m\u001b[0mobject\u001b[0m\u001b[0;34m)\u001b[0m\u001b[0;34m.\u001b[0m\u001b[0mvalues\u001b[0m\u001b[0;34m\u001b[0m\u001b[0m\n\u001b[0;32m-> 3194\u001b[0;31m                 \u001b[0mmapped\u001b[0m \u001b[0;34m=\u001b[0m \u001b[0mlib\u001b[0m\u001b[0;34m.\u001b[0m\u001b[0mmap_infer\u001b[0m\u001b[0;34m(\u001b[0m\u001b[0mvalues\u001b[0m\u001b[0;34m,\u001b[0m \u001b[0mf\u001b[0m\u001b[0;34m,\u001b[0m \u001b[0mconvert\u001b[0m\u001b[0;34m=\u001b[0m\u001b[0mconvert_dtype\u001b[0m\u001b[0;34m)\u001b[0m\u001b[0;34m\u001b[0m\u001b[0m\n\u001b[0m\u001b[1;32m   3195\u001b[0m \u001b[0;34m\u001b[0m\u001b[0m\n\u001b[1;32m   3196\u001b[0m         \u001b[0;32mif\u001b[0m \u001b[0mlen\u001b[0m\u001b[0;34m(\u001b[0m\u001b[0mmapped\u001b[0m\u001b[0;34m)\u001b[0m \u001b[0;32mand\u001b[0m \u001b[0misinstance\u001b[0m\u001b[0;34m(\u001b[0m\u001b[0mmapped\u001b[0m\u001b[0;34m[\u001b[0m\u001b[0;36m0\u001b[0m\u001b[0;34m]\u001b[0m\u001b[0;34m,\u001b[0m \u001b[0mSeries\u001b[0m\u001b[0;34m)\u001b[0m\u001b[0;34m:\u001b[0m\u001b[0;34m\u001b[0m\u001b[0m\n",
      "\u001b[0;32mpandas/_libs/src/inference.pyx\u001b[0m in \u001b[0;36mpandas._libs.lib.map_infer\u001b[0;34m()\u001b[0m\n",
      "\u001b[0;32m<ipython-input-55-0dc0c39b77c1>\u001b[0m in \u001b[0;36maverageGender\u001b[0;34m(names)\u001b[0m\n\u001b[1;32m     13\u001b[0m     \u001b[0;32mif\u001b[0m \u001b[0mtype\u001b[0m\u001b[0;34m(\u001b[0m\u001b[0mnames\u001b[0m\u001b[0;34m)\u001b[0m \u001b[0;34m!=\u001b[0m \u001b[0mlist\u001b[0m\u001b[0;34m:\u001b[0m\u001b[0;34m\u001b[0m\u001b[0m\n\u001b[1;32m     14\u001b[0m         \u001b[0;32mreturn\u001b[0m \u001b[0;34m'U'\u001b[0m\u001b[0;34m\u001b[0m\u001b[0m\n\u001b[0;32m---> 15\u001b[0;31m     \u001b[0mgenderGuesses\u001b[0m \u001b[0;34m=\u001b[0m \u001b[0;34m[\u001b[0m\u001b[0mguessGender\u001b[0m\u001b[0;34m(\u001b[0m\u001b[0mname\u001b[0m\u001b[0;34m)\u001b[0m \u001b[0;32mfor\u001b[0m \u001b[0mname\u001b[0m \u001b[0;32min\u001b[0m \u001b[0mnames\u001b[0m\u001b[0;34m]\u001b[0m\u001b[0;34m\u001b[0m\u001b[0m\n\u001b[0m\u001b[1;32m     16\u001b[0m     \u001b[0mstats\u001b[0m \u001b[0;34m=\u001b[0m \u001b[0mCounter\u001b[0m\u001b[0;34m(\u001b[0m\u001b[0mgenderGuesses\u001b[0m\u001b[0;34m)\u001b[0m\u001b[0;34m.\u001b[0m\u001b[0mmost_common\u001b[0m\u001b[0;34m(\u001b[0m\u001b[0;34m)\u001b[0m\u001b[0;34m\u001b[0m\u001b[0m\n\u001b[1;32m     17\u001b[0m     \u001b[0;32mif\u001b[0m \u001b[0mlen\u001b[0m\u001b[0;34m(\u001b[0m\u001b[0mstats\u001b[0m\u001b[0;34m)\u001b[0m \u001b[0;34m==\u001b[0m \u001b[0;36m1\u001b[0m\u001b[0;34m:\u001b[0m\u001b[0;34m\u001b[0m\u001b[0m\n",
      "\u001b[0;32m<ipython-input-55-0dc0c39b77c1>\u001b[0m in \u001b[0;36m<listcomp>\u001b[0;34m(.0)\u001b[0m\n\u001b[1;32m     13\u001b[0m     \u001b[0;32mif\u001b[0m \u001b[0mtype\u001b[0m\u001b[0;34m(\u001b[0m\u001b[0mnames\u001b[0m\u001b[0;34m)\u001b[0m \u001b[0;34m!=\u001b[0m \u001b[0mlist\u001b[0m\u001b[0;34m:\u001b[0m\u001b[0;34m\u001b[0m\u001b[0m\n\u001b[1;32m     14\u001b[0m         \u001b[0;32mreturn\u001b[0m \u001b[0;34m'U'\u001b[0m\u001b[0;34m\u001b[0m\u001b[0m\n\u001b[0;32m---> 15\u001b[0;31m     \u001b[0mgenderGuesses\u001b[0m \u001b[0;34m=\u001b[0m \u001b[0;34m[\u001b[0m\u001b[0mguessGender\u001b[0m\u001b[0;34m(\u001b[0m\u001b[0mname\u001b[0m\u001b[0;34m)\u001b[0m \u001b[0;32mfor\u001b[0m \u001b[0mname\u001b[0m \u001b[0;32min\u001b[0m \u001b[0mnames\u001b[0m\u001b[0;34m]\u001b[0m\u001b[0;34m\u001b[0m\u001b[0m\n\u001b[0m\u001b[1;32m     16\u001b[0m     \u001b[0mstats\u001b[0m \u001b[0;34m=\u001b[0m \u001b[0mCounter\u001b[0m\u001b[0;34m(\u001b[0m\u001b[0mgenderGuesses\u001b[0m\u001b[0;34m)\u001b[0m\u001b[0;34m.\u001b[0m\u001b[0mmost_common\u001b[0m\u001b[0;34m(\u001b[0m\u001b[0;34m)\u001b[0m\u001b[0;34m\u001b[0m\u001b[0m\n\u001b[1;32m     17\u001b[0m     \u001b[0;32mif\u001b[0m \u001b[0mlen\u001b[0m\u001b[0;34m(\u001b[0m\u001b[0mstats\u001b[0m\u001b[0;34m)\u001b[0m \u001b[0;34m==\u001b[0m \u001b[0;36m1\u001b[0m\u001b[0;34m:\u001b[0m\u001b[0;34m\u001b[0m\u001b[0m\n",
      "\u001b[0;32m<ipython-input-55-0dc0c39b77c1>\u001b[0m in \u001b[0;36mguessGender\u001b[0;34m(name)\u001b[0m\n\u001b[1;32m      1\u001b[0m \u001b[0;32mdef\u001b[0m \u001b[0mguessGender\u001b[0m\u001b[0;34m(\u001b[0m\u001b[0mname\u001b[0m\u001b[0;34m)\u001b[0m\u001b[0;34m:\u001b[0m\u001b[0;34m\u001b[0m\u001b[0m\n\u001b[1;32m      2\u001b[0m     \u001b[0mname\u001b[0m \u001b[0;34m=\u001b[0m \u001b[0mname\u001b[0m\u001b[0;34m.\u001b[0m\u001b[0msplit\u001b[0m\u001b[0;34m(\u001b[0m\u001b[0;34m)\u001b[0m\u001b[0;34m[\u001b[0m\u001b[0;36m0\u001b[0m\u001b[0;34m]\u001b[0m\u001b[0;34m.\u001b[0m\u001b[0mlower\u001b[0m\u001b[0;34m(\u001b[0m\u001b[0;34m)\u001b[0m \u001b[0;31m# Grab the first name.\u001b[0m\u001b[0;34m\u001b[0m\u001b[0m\n\u001b[0;32m----> 3\u001b[0;31m     \u001b[0;32mif\u001b[0m \u001b[0mname\u001b[0m \u001b[0;32min\u001b[0m \u001b[0mmaleNames\u001b[0m \u001b[0;32mand\u001b[0m \u001b[0mname\u001b[0m \u001b[0;32min\u001b[0m \u001b[0mfemaleNames\u001b[0m\u001b[0;34m:\u001b[0m\u001b[0;34m\u001b[0m\u001b[0m\n\u001b[0m\u001b[1;32m      4\u001b[0m         \u001b[0;32mreturn\u001b[0m \u001b[0;34m'A'\u001b[0m \u001b[0;31m#Ambiguous\u001b[0m\u001b[0;34m\u001b[0m\u001b[0m\n\u001b[1;32m      5\u001b[0m     \u001b[0;32melif\u001b[0m \u001b[0mname\u001b[0m \u001b[0;32min\u001b[0m \u001b[0mmaleNames\u001b[0m\u001b[0;34m:\u001b[0m\u001b[0;34m\u001b[0m\u001b[0m\n",
      "\u001b[0;31mNameError\u001b[0m: name 'maleNames' is not defined"
     ]
    }
   ],
   "source": [
    "df['gender'] = df['author'].apply(averageGender)\n",
    "dfF = df.loc[df['gender'] == 'F']\n",
    "dfM = df.loc[df['gender'] == 'M']"
   ]
  },
  {
   "cell_type": "code",
   "execution_count": 49,
   "metadata": {},
   "outputs": [
    {
     "ename": "NameError",
     "evalue": "name 'dfM' is not defined",
     "output_type": "error",
     "traceback": [
      "\u001b[0;31m---------------------------------------------------------------------------\u001b[0m",
      "\u001b[0;31mNameError\u001b[0m                                 Traceback (most recent call last)",
      "\u001b[0;32m<ipython-input-49-96c2a130d76b>\u001b[0m in \u001b[0;36m<module>\u001b[0;34m\u001b[0m\n\u001b[1;32m      1\u001b[0m \u001b[0;31m# Differences in citations between genders.\u001b[0m\u001b[0;34m\u001b[0m\u001b[0;34m\u001b[0m\u001b[0;34m\u001b[0m\u001b[0m\n\u001b[0;32m----> 2\u001b[0;31m \u001b[0mplotSynchronicAnalysis\u001b[0m\u001b[0;34m(\u001b[0m\u001b[0msynchronicAnalysis\u001b[0m\u001b[0;34m(\u001b[0m\u001b[0mdfM\u001b[0m\u001b[0;34m)\u001b[0m \u001b[0;34m-\u001b[0m \u001b[0msynchronicAnalysis\u001b[0m\u001b[0;34m(\u001b[0m\u001b[0mdfF\u001b[0m\u001b[0;34m)\u001b[0m\u001b[0;34m)\u001b[0m\u001b[0;34m\u001b[0m\u001b[0;34m\u001b[0m\u001b[0m\n\u001b[0m",
      "\u001b[0;31mNameError\u001b[0m: name 'dfM' is not defined"
     ]
    }
   ],
   "source": [
    "# Differences in citations between genders. \n",
    "plotSynchronicAnalysis(synchronicAnalysis(dfM) - synchronicAnalysis(dfF))"
   ]
  },
  {
   "cell_type": "markdown",
   "metadata": {},
   "source": [
    "# By (Guessed) Country of Publication"
   ]
  },
  {
   "cell_type": "code",
   "execution_count": 35,
   "metadata": {
    "collapsed": true
   },
   "outputs": [],
   "source": [
    "def getFirst(row): \n",
    "    if type(row) == list: \n",
    "        return row[0]\n",
    "    else: \n",
    "        return row\n",
    "\n",
    "topPublishers = df['publisher_name'].apply(getFirst).value_counts()"
   ]
  },
  {
   "cell_type": "code",
   "execution_count": 36,
   "metadata": {
    "collapsed": true
   },
   "outputs": [],
   "source": [
    "publishers = topPublishers[:80].index"
   ]
  },
  {
   "cell_type": "code",
   "execution_count": 37,
   "metadata": {
    "collapsed": true
   },
   "outputs": [],
   "source": [
    "publishers = publishers.tolist()"
   ]
  },
  {
   "cell_type": "code",
   "execution_count": 38,
   "metadata": {
    "collapsed": true
   },
   "outputs": [],
   "source": [
    "def getCountry(publisher): \n",
    "    brits = ['Oxford University Press', 'Cambridge University Press', 'Modern Humanities Research Association', \\\n",
    "             'BMJ', 'Taylor & Francis, Ltd.', 'Edinburgh University Press', \\\n",
    "             'Royal Society for the Encouragement of Arts, Manufactures and Commerce']\n",
    "    canadians = ['Victorian Studies Association of Western Canada'] \n",
    "    if type(publisher) != list: \n",
    "        return 'Unknown'\n",
    "    publisher = publisher[0]\n",
    "    if publisher in brits: \n",
    "        return 'Britain' \n",
    "    elif publisher in canadians or 'Canada' in publisher: \n",
    "        return 'Canada' \n",
    "    elif 'GmbH' in publisher: \n",
    "        return 'Germany'\n",
    "    elif 'estudios' in publisher: \n",
    "        return 'Spain'\n",
    "    elif 'France' in publisher: \n",
    "        return 'France' \n",
    "    elif 'Ireland' in publisher: \n",
    "        return 'Ireland'\n",
    "    else: \n",
    "        return 'US'"
   ]
  },
  {
   "cell_type": "code",
   "execution_count": 39,
   "metadata": {
    "collapsed": true,
    "scrolled": true
   },
   "outputs": [],
   "source": [
    "df['country'] = df['publisher_name'].apply(getCountry)"
   ]
  },
  {
   "cell_type": "code",
   "execution_count": 40,
   "metadata": {},
   "outputs": [
    {
     "data": {
      "text/plain": [
       "US         3901\n",
       "Unknown    1247\n",
       "Britain     825\n",
       "Canada       59\n",
       "Germany      15\n",
       "Spain         8\n",
       "Ireland       8\n",
       "France        6\n",
       "Name: country, dtype: int64"
      ]
     },
     "execution_count": 40,
     "metadata": {},
     "output_type": "execute_result"
    }
   ],
   "source": [
    "df['country'].value_counts()"
   ]
  },
  {
   "cell_type": "code",
   "execution_count": 41,
   "metadata": {
    "collapsed": true
   },
   "outputs": [],
   "source": [
    "dfBrits = df.loc[df['country'] == 'Britain']\n",
    "dfYanks = df.loc[df['country'] == 'US']\n",
    "dfCanadians = df.loc[df['country'] == 'Canada']"
   ]
  },
  {
   "cell_type": "code",
   "execution_count": 42,
   "metadata": {
    "collapsed": true
   },
   "outputs": [],
   "source": [
    "# Since British authors are greatly outnumbered in this corpus, we should normalize the data. \n",
    "britsHist = synchronicAnalysis(dfBrits) \n",
    "normBrits = britsHist.div(britsHist.max())\n",
    "yanksHist = synchronicAnalysis(dfYanks)\n",
    "normYanks = yanksHist.div(yanksHist.max())"
   ]
  },
  {
   "cell_type": "code",
   "execution_count": 43,
   "metadata": {},
   "outputs": [
    {
     "data": {
      "image/png": "[encoded data removed]",
      "text/plain": [
       "<matplotlib.figure.Figure at 0x7f077cc9e2b0>"
      ]
     },
     "metadata": {},
     "output_type": "display_data"
    }
   ],
   "source": [
    "plotSynchronicAnalysis(normYanks - normBrits)"
   ]
  },
  {
   "cell_type": "markdown",
   "metadata": {},
   "source": [
    "# By Journal"
   ]
  },
  {
   "cell_type": "code",
   "execution_count": 44,
   "metadata": {},
   "outputs": [
    {
     "data": {
      "text/plain": [
       "Victorian Studies                            424\n",
       "George Eliot - George Henry Lewes Studies    206\n",
       "Nineteenth-Century Fiction                   192\n",
       "The Modern Language Review                   188\n",
       "The Review of English Studies                185\n",
       "NOVEL: A Forum on Fiction                    126\n",
       "Nineteenth-Century Literature                126\n",
       "Studies in the Novel                         120\n",
       "Studies in English Literature, 1500-1900      85\n",
       "ELH                                           77\n",
       "Name: journal, dtype: int64"
      ]
     },
     "execution_count": 44,
     "metadata": {},
     "output_type": "execute_result"
    }
   ],
   "source": [
    "# Look at the top journals. \n",
    "journalStats = df['journal'].value_counts()\n",
    "journalStats[:10]"
   ]
  },
  {
   "cell_type": "code",
   "execution_count": 45,
   "metadata": {
    "collapsed": true
   },
   "outputs": [],
   "source": [
    "journalList = journalStats.index"
   ]
  },
  {
   "cell_type": "markdown",
   "metadata": {},
   "source": [
    "Compare the specialist journal, \"George Eliot - George Henry Lewes Studies,\" with all other journals. "
   ]
  },
  {
   "cell_type": "code",
   "execution_count": 46,
   "metadata": {
    "collapsed": true
   },
   "outputs": [],
   "source": [
    "geJournals = df.loc[df['journal'] == 'George Eliot - George Henry Lewes Studies']\n",
    "otherJournals = df.loc[df['journal'] != 'George Eliot - George Henry Lewes Studies']"
   ]
  },
  {
   "cell_type": "code",
   "execution_count": 47,
   "metadata": {
    "collapsed": true
   },
   "outputs": [],
   "source": [
    "# Normalize\n",
    "geDF = synchronicAnalysis(geJournals)\n",
    "otherDF = synchronicAnalysis(otherJournals)\n",
    "normGE = geDF.div(geDF.max())\n",
    "normOther = otherDF.div(otherDF.max())"
   ]
  },
  {
   "cell_type": "code",
   "execution_count": 64,
   "metadata": {},
   "outputs": [
    {
     "data": {
      "image/png": "[encoded data removed]",
      "text/plain": [
       "<matplotlib.figure.Figure at 0x7f077a47a780>"
      ]
     },
     "metadata": {},
     "output_type": "display_data"
    }
   ],
   "source": [
    "fig = plt.figure()\n",
    "ax = (normGE - normOther).plot(kind='bar')\n",
    "fig.add_subplot(ax)\n",
    "ax.set_xlabel('Chapter')\n",
    "ax.set_ylabel('Specialization Index')\n",
    "# Save a big version for publication. \n",
    "fig.savefig('specialization.png', bboxinches='tight', dpi=300)"
   ]
  },
  {
   "cell_type": "code",
   "execution_count": 56,
   "metadata": {
    "collapsed": true
   },
   "outputs": [],
   "source": [
    "journals = pd.DataFrame({title: synchronicAnalysis(df.loc[df['journal'] == title]) for title in journalList }).T"
   ]
  },
  {
   "cell_type": "code",
   "execution_count": 57,
   "metadata": {},
   "outputs": [
    {
     "name": "stderr",
     "output_type": "stream",
     "text": [
      "/home/jon/.local/lib/python3.6/site-packages/ipykernel_launcher.py:4: SettingWithCopyWarning: \n",
      "A value is trying to be set on a copy of a slice from a DataFrame\n",
      "\n",
      "See the caveats in the documentation: http://pandas.pydata.org/pandas-docs/stable/indexing.html#indexing-view-versus-copy\n",
      "  after removing the cwd from sys.path.\n"
     ]
    }
   ],
   "source": [
    "cutoff = 1500\n",
    "topJournals = journals.loc[journals.sum(axis=1) > cutoff]\n",
    "otherJournals = journals.loc[journals.sum(axis=1) < cutoff]\n",
    "topJournals.loc['Other'] = otherJournals.sum()"
   ]
  },
  {
   "cell_type": "code",
   "execution_count": 58,
   "metadata": {},
   "outputs": [
    {
     "data": {
      "text/plain": [
       "<matplotlib.axes._subplots.AxesSubplot at 0x7f077d2b1630>"
      ]
     },
     "execution_count": 58,
     "metadata": {},
     "output_type": "execute_result"
    },
    {
     "data": {
      "image/png": "[encoded data removed]",
      "text/plain": [
       "<matplotlib.figure.Figure at 0x7f077f068908>"
      ]
     },
     "metadata": {},
     "output_type": "display_data"
    }
   ],
   "source": [
    "topJournals.T.plot(kind='bar', stacked=True, colormap='nipy_spectral')"
   ]
  },
  {
   "cell_type": "code",
   "execution_count": 63,
   "metadata": {},
   "outputs": [
    {
     "data": {
      "image/png": "[encoded data removed]",
      "text/plain": [
       "<matplotlib.figure.Figure at 0x7f077783b588>"
      ]
     },
     "metadata": {},
     "output_type": "display_data"
    }
   ],
   "source": [
    "ax = topJournals.T.plot(kind='bar', stacked=True, colormap='nipy_spectral')\n",
    "fig = ax.get_figure()\n",
    "fig.savefig('synchronic-journals.png', bboxinches='tight', dpi=300)"
   ]
  },
  {
   "cell_type": "markdown",
   "metadata": {},
   "source": [
    "# Detour: Ch. 15"
   ]
  },
  {
   "cell_type": "code",
   "execution_count": 31,
   "metadata": {},
   "outputs": [],
   "source": [
    "# Try to find out why Ch. 15 was so big in the 80s and 90s. \n",
    "chap15s = []\n",
    "ids = []\n",
    "for i, row in df.iterrows(): \n",
    "    locations = row['Locations in A']\n",
    "    starts = [item[0] for item in locations]\n",
    "    if row['Decade'] in [2000]: \n",
    "        for start in starts: \n",
    "            if start > 290371 and start < 322052: # Does it cite Chapter XV? \n",
    "                if row.id not in ids: \n",
    "                    chap15s.append(row)\n",
    "                    ids.append(row.id)"
   ]
  },
  {
   "cell_type": "code",
   "execution_count": 32,
   "metadata": {
    "scrolled": true
   },
   "outputs": [
    {
     "data": {
      "text/plain": [
       "[['THE MEDICAL GAZE AND THE FEMALE CORPSE: LOOKING AT BODIES IN MARY SHELLEY\\'S \"FRANKENSTEIN\"'],\n",
       " ['Is Middlemarch Ahistorical?'],\n",
       " ['A CHANGE IN THE UNITS: \"MIDDLEMARCH\", G. H. LEWES, AND RUDOLF VIRCHOW'],\n",
       " ['LANGUAGES OF \"MATTER\": ELIOT, LEWES, HUXLEY, AND THE MIND/BODY RELATIONSHIP'],\n",
       " ['Sympathy and Telepathy: The Problem of Ethics in George Eliot\\'s \"The Lifted Veil\"'],\n",
       " ['Fiction as Vivisection: G. H. Lewes and George Eliot'],\n",
       " ['Sympathy Time: Adam Smith, George Eliot, and the Realist Novel']]"
      ]
     },
     "execution_count": 32,
     "metadata": {},
     "output_type": "execute_result"
    }
   ],
   "source": [
    "# Get the titles of those articles. \n",
    "[item.title for item in chap15s]"
   ]
  },
  {
   "cell_type": "code",
   "execution_count": 33,
   "metadata": {
    "scrolled": false
   },
   "outputs": [
    {
     "ename": "NameError",
     "evalue": "name 'Counter' is not defined",
     "output_type": "error",
     "traceback": [
      "\u001b[0;31m---------------------------------------------------------------------------\u001b[0m",
      "\u001b[0;31mNameError\u001b[0m                                 Traceback (most recent call last)",
      "\u001b[0;32m<ipython-input-33-69c5d53d5140>\u001b[0m in \u001b[0;36m<module>\u001b[0;34m()\u001b[0m\n\u001b[1;32m      1\u001b[0m \u001b[0mch15Topics\u001b[0m \u001b[0;34m=\u001b[0m  \u001b[0;34m[\u001b[0m\u001b[0mitem\u001b[0m\u001b[0;34m.\u001b[0m\u001b[0mtopics\u001b[0m \u001b[0;32mfor\u001b[0m \u001b[0mitem\u001b[0m \u001b[0;32min\u001b[0m \u001b[0mchap15s\u001b[0m\u001b[0;34m]\u001b[0m\u001b[0;34m\u001b[0m\u001b[0m\n\u001b[1;32m      2\u001b[0m \u001b[0mchap15TopicsFlat\u001b[0m \u001b[0;34m=\u001b[0m \u001b[0;34m[\u001b[0m\u001b[0mitem\u001b[0m \u001b[0;32mfor\u001b[0m \u001b[0msublist\u001b[0m \u001b[0;32min\u001b[0m \u001b[0mch15Topics\u001b[0m \u001b[0;32mfor\u001b[0m \u001b[0mitem\u001b[0m \u001b[0;32min\u001b[0m \u001b[0msublist\u001b[0m\u001b[0;34m]\u001b[0m\u001b[0;34m\u001b[0m\u001b[0m\n\u001b[0;32m----> 3\u001b[0;31m \u001b[0mCounter\u001b[0m\u001b[0;34m(\u001b[0m\u001b[0mchap15TopicsFlat\u001b[0m\u001b[0;34m)\u001b[0m\u001b[0;34m.\u001b[0m\u001b[0mmost_common\u001b[0m\u001b[0;34m(\u001b[0m\u001b[0;36m20\u001b[0m\u001b[0;34m)\u001b[0m\u001b[0;34m\u001b[0m\u001b[0m\n\u001b[0m",
      "\u001b[0;31mNameError\u001b[0m: name 'Counter' is not defined"
     ]
    }
   ],
   "source": [
    "ch15Topics =  [item.topics for item in chap15s]\n",
    "chap15TopicsFlat = [item for sublist in ch15Topics for item in sublist]\n",
    "Counter(chap15TopicsFlat).most_common(20)"
   ]
  },
  {
   "cell_type": "markdown",
   "metadata": {},
   "source": [
    "# Chapter 20"
   ]
  },
  {
   "cell_type": "code",
   "execution_count": 34,
   "metadata": {},
   "outputs": [
    {
     "ename": "SyntaxError",
     "evalue": "invalid syntax (<ipython-input-34-63d115d42065>, line 1)",
     "output_type": "error",
     "traceback": [
      "\u001b[0;36m  File \u001b[0;32m\"<ipython-input-34-63d115d42065>\"\u001b[0;36m, line \u001b[0;32m1\u001b[0m\n\u001b[0;31m    Chapter 20 Detour\u001b[0m\n\u001b[0m             ^\u001b[0m\n\u001b[0;31mSyntaxError\u001b[0m\u001b[0;31m:\u001b[0m invalid syntax\n"
     ]
    }
   ],
   "source": [
    "Chapter 20 Detour\n"
   ]
  },
  {
   "cell_type": "code",
   "execution_count": 35,
   "metadata": {},
   "outputs": [],
   "source": [
    "# Try to find out what articles cited chapter 20 \n",
    "chap20s = []\n",
    "ids = []\n",
    "for i, row in df.iterrows(): \n",
    "    locations = row['Locations in A']\n",
    "    starts = [item[0] for item in locations]\n",
    "    if row['Decade'] in [1870, 1900, 1910, 1920, 1930, 1940, 1950, 1960, 1970, 1980, 1990, 2000, 2010]: \n",
    "        for start in starts: \n",
    "            if start > 406324 and start < 432778: # Does it cite Chapter XX? \n",
    "                if row.id not in ids: \n",
    "                    chap20s.append(row)\n",
    "                    ids.append(row.id)\n"
   ]
  },
  {
   "cell_type": "code",
   "execution_count": 36,
   "metadata": {},
   "outputs": [
    {
     "data": {
      "text/plain": [
       "[['Dorothea and \"Miss Brooke\" in Middlemarch'],\n",
       " ['\"Myriad-Headed, Myriad-Handed\": Labor in \"Middlemarch\"'],\n",
       " [\"The Squirrel's Heartbeat: Some Thoughts on the Later Style of Henry James\"],\n",
       " ['This Side of Silence',\n",
       "  'Human Rights, Torture, and the Recognition of Cruelty',\n",
       "  'Front Matter'],\n",
       " ['DOROTHEA BROOKE UND EROTISCHE KUNST IN GEORGE ELIOTS \"MIDDLEMARCH\"'],\n",
       " ['Social Figures',\n",
       "  'George Eliot, Social History, and Literary Representation',\n",
       "  'Imperfection and Compensation'],\n",
       " ['George Eliot and Greek Tragedy'],\n",
       " ['Marriage in Literature'],\n",
       " ['Women and the Art of Fiction'],\n",
       " ['Little Dorrit and Dorothea Brooke: Interpreting the Heroines of History'],\n",
       " ['Women, Energy, and \"Middlemarch\"'],\n",
       " ['Inherited Emotions: George Eliot and the Politics of Heirlooms'],\n",
       " ['Transformation of Rage',\n",
       "  \"Mourning and Creativity in George Eliot's Fiction\",\n",
       "  'The Vast Wreck of Ambitious Ideals in Middlemarch'],\n",
       " ['Error and the Academic Self',\n",
       "  'The Scholarly Imagination, Medieval to Modern',\n",
       "  'MY CASAUBON:',\n",
       "  'THE NOVEL OF SCHOLARSHIP AND VICTORIAN PHILOLOGY'],\n",
       " [\"Dorothea's 'Resartus' and the Palingenetic Impulse of Middlemarch\"],\n",
       " ['THE ECONOMIC PROBLEM OF SYMPATHY: PARABASIS, INTEREST, AND REALIST FORM IN \"MIDDLEMARCH\"'],\n",
       " ['Isabel, Gwendolen, and Dorothea'],\n",
       " ['Beside the Reclining Statue: Ekphrasis, Narrative, and Desire in Middlemarch'],\n",
       " ['The Metaphorical Imagination of George Eliot'],\n",
       " [\"'The Sensitive Author': George Eliot\"],\n",
       " ['George Eliot and Herbert Spencer',\n",
       "  'Feminism, Evolutionism, and the Reconstruction of Gender',\n",
       "  'Theories of Origin and Knowledge:',\n",
       "  'Middlemarch and The Study of Sociology'],\n",
       " ['Why Read George Eliot? Her novels are just modern enough—and just old-fashioned enough, too'],\n",
       " ['Reading Style',\n",
       "  'A Life in Sentences',\n",
       "  'Lord Leighton, Liberace and the Advantages of Bad Writing:',\n",
       "  'Helen DeWitt, Harry Stephen Keeler, Lionel Shriver, George Eliot'],\n",
       " ['Violette Nozière', 'A Story of Murder in 1930s Paris', 'Introduction'],\n",
       " ['The Greeks, the Germans, and George Eliot'],\n",
       " [\"MARY SOMERVILLE'S INFLUENCE ON GEORGE ELIOT\"],\n",
       " ['Why Ekphrasis?'],\n",
       " [\"Isabel Archer's disease, and Henry James's\"],\n",
       " ['Women, Love, and Power',\n",
       "  'Literary and Psychoanalytic Perspectives',\n",
       "  'The Feminine Bildungsroman:',\n",
       "  'Education through Marriage'],\n",
       " ['Narrative and History'],\n",
       " ['An Image of Disenchantment in the Novels of George Eliot'],\n",
       " ['The Licensed Trespasser: The Omniscient Narrator in \"Middlemarch\"'],\n",
       " ['The Germ and the Picture in Middlemarch'],\n",
       " ['\"Middlemarch,\" Obligation, and Dorothea\\'s Duplicity'],\n",
       " ['Stupendous, Miserable City', 'Pasolini’s Rome', 'Notes'],\n",
       " ['Protocols of Reading', 'Criticism:', 'Rhetoric and Ethics'],\n",
       " [\"Tolstoj's Reading of George Eliot: Visions and Revisions\"],\n",
       " ['An Erotics of Detachment: \"Middlemarch\" and Novel-Reading as Critical Practice'],\n",
       " ['A Note on Literary Indebtedness: Dickens, George Eliot, Henry James'],\n",
       " ['Night Passages', 'Philosophy, Literature, and Film', 'GEORGE ELIOT’S DAWN'],\n",
       " ['The Language of Silence: A Citation'],\n",
       " ['Middlemarch: Narrative Unity in the Story of Dorothea Brooke'],\n",
       " [\"Imagery in George Eliot's Last Novels\"],\n",
       " ['Development and the Learning Organisation: An Introduction'],\n",
       " [\"Eco's Echoes: Ironizing the (Post) Modern\"],\n",
       " ['Torpedoes, tapirs and tortoises: scientific discourse in \"Middlemarch\"'],\n",
       " ['On Eloquence', 'Like Something Almost Being Said'],\n",
       " ['Moving Images',\n",
       "  'Nineteenth-Century Reading and Screen Practices',\n",
       "  'Introduction:',\n",
       "  'Moving Images: Nineteenth-Century Reading and Screen Practices'],\n",
       " ['Acting in the Night',\n",
       "  'Macbeth and the Places of the Civil War',\n",
       "  'Sound and Fury:',\n",
       "  'Nature in Virginia'],\n",
       " ['Metaphor', 'Not Quite against Metaphor'],\n",
       " ['Adventures among Ants',\n",
       "  'A Global Safari with a Cast of Trillions',\n",
       "  'conclusion:',\n",
       "  'four ways of looking at an ant'],\n",
       " ['“The Continuity of Married Companionship”'],\n",
       " ['Victorianized Romans: Images of Rome in Victorian Painting'],\n",
       " ['Religious Humanism and the Victorian Novel: George Eliot, Walter Pater and Samuel Butler',\n",
       "  'Middlemarch:',\n",
       "  'The Balance of Progress'],\n",
       " ['A History of the Lights and Shadows: The Secret Motion of \"Middlemarch\"'],\n",
       " ['The Not-Quite Said'],\n",
       " ['Cutting and the Pedagogy of SelfDisclosure',\n",
       "  'EPILOGUE',\n",
       "  '“I Was Committing a Crime against My Body, against Women”'],\n",
       " ['The Novel as Ethical Paradigm?'],\n",
       " [\"ELIOT'S SPANISH CONNECTION: CASAUBON, THE AVATAR OF QUIXOTE\"],\n",
       " ['Literature as Conduct: Speech Acts in Henry James',\n",
       "  'The Story of a Kiss:',\n",
       "  'Isabel’s Decisions in The Portrait of a Lady'],\n",
       " ['Economic Woman',\n",
       "  'Demand, Gender, and Narrative Closure in Eliot and Hardy',\n",
       "  'Notes'],\n",
       " [\"Under Conrad's Eyes\",\n",
       "  'The Novel as Criticism',\n",
       "  'The Trouble with Sympathy in Middlemarch and Nostromo'],\n",
       " ['\"MIDDLEMARCH\": ELIOT\\'S TENDER SUBVERSION'],\n",
       " ['Dying in Character',\n",
       "  'Memoirs on the End of Life',\n",
       "  '“I Never Saw or Heard the Car Coming”',\n",
       "  'My Close Call with Death'],\n",
       " ['Deep History',\n",
       "  'The Architecture of Past and Present',\n",
       "  'Energy and Ecosystems'],\n",
       " ['Narrative in the Moral Theology of Tom Shaffer'],\n",
       " [\"George Eliot's Vagueness\"],\n",
       " ['Samuel Johnson and the Tragic Sense', 'Johnson’s Tragic Sense of Life'],\n",
       " ['THE REDEMPTIVE PAST IN THE NEO-VICTORIAN NOVEL'],\n",
       " ['Love, Amy',\n",
       "  'The Selected Letters of Amy Clampitt',\n",
       "  'The Letters of Amy Clampitt'],\n",
       " ['Middlemarch, Realism and the Birth of the Clinic'],\n",
       " ['Views from above and below: George Eliot and Fakir Mohan Senapati'],\n",
       " ['Sounds of Modern History',\n",
       "  'Auditory Cultures in 19th- and 20th-Century Europe',\n",
       "  'English Beat:',\n",
       "  'The Stethoscopic Era’s Sonic Traces'],\n",
       " ['ROME IN \"MIDDLEMARCH\": A NEED FOR FOREIGNNESS'],\n",
       " [\"LE IMMAGINI DELL'ACQUA NEL LINGUAGGIO DI GEORGE ELIOT\"],\n",
       " ['George Eliot and the Eighteenth-Century Novel'],\n",
       " ['\"Be Ye Lukewarm!\": The Nineteenth-Century Novel and Social Action'],\n",
       " ['A Note on Middlemarch'],\n",
       " ['The Prison of Womanhood'],\n",
       " ['Victorian Honeymoons: Sexual Reorientations and the \"Sights\" of Europe'],\n",
       " ['When Narrative Fails'],\n",
       " ['Victorian Interpretation', 'George Eliot’s Hermeneutics of Sympathy']]"
      ]
     },
     "execution_count": 36,
     "metadata": {},
     "output_type": "execute_result"
    }
   ],
   "source": [
    "# Get the titles of those articles. \n",
    "[item.title for item in chap20s]"
   ]
  },
  {
   "cell_type": "code",
   "execution_count": 37,
   "metadata": {},
   "outputs": [
    {
     "ename": "NameError",
     "evalue": "name 'articlesWithoutMatches' is not defined",
     "output_type": "error",
     "traceback": [
      "\u001b[0;31m---------------------------------------------------------------------------\u001b[0m",
      "\u001b[0;31mNameError\u001b[0m                                 Traceback (most recent call last)",
      "\u001b[0;32m<ipython-input-37-c17263e6efbd>\u001b[0m in \u001b[0;36m<module>\u001b[0;34m()\u001b[0m\n\u001b[0;32m----> 1\u001b[0;31m \u001b[0marticlesWithoutMatches\u001b[0m\u001b[0;34m.\u001b[0m\u001b[0mtitle\u001b[0m \u001b[0;31m#Print the titles of articles without matches\u001b[0m\u001b[0;34m\u001b[0m\u001b[0m\n\u001b[0m",
      "\u001b[0;31mNameError\u001b[0m: name 'articlesWithoutMatches' is not defined"
     ]
    }
   ],
   "source": [
    "articlesWithoutMatches.title #Print the titles of articles without matches\n"
   ]
  },
  {
   "cell_type": "code",
   "execution_count": 38,
   "metadata": {},
   "outputs": [
    {
     "data": {
      "text/plain": [
       "82"
      ]
     },
     "execution_count": 38,
     "metadata": {},
     "output_type": "execute_result"
    }
   ],
   "source": [
    "len(chap20s)"
   ]
  },
  {
   "cell_type": "code",
   "execution_count": 39,
   "metadata": {},
   "outputs": [],
   "source": [
    "# Try to find out what articles cite paragraph 6 in Chapter 20\n",
    "chap20par6s = []\n",
    "ids = []\n",
    "for i, row in df.iterrows(): \n",
    "    locations = row['Locations in A']\n",
    "    starts = [item[0] for item in locations]\n",
    "    if row['Decade'] in [1870, 1900, 1910, 1920, 1930, 1940, 1950, 1960, 1970, 1980, 1990, 2000, 2010]: \n",
    "        for start in starts: \n",
    "            if start > 411152 and start < 412177: # Does it cite Chapter XX? \n",
    "                if row.id not in ids: \n",
    "                    chap20par6s.append(row)\n",
    "                    ids.append(row.id)\n"
   ]
  },
  {
   "cell_type": "code",
   "execution_count": 40,
   "metadata": {},
   "outputs": [
    {
     "data": {
      "text/plain": [
       "[['Dorothea and \"Miss Brooke\" in Middlemarch'],\n",
       " ['\"Myriad-Headed, Myriad-Handed\": Labor in \"Middlemarch\"'],\n",
       " [\"The Squirrel's Heartbeat: Some Thoughts on the Later Style of Henry James\"],\n",
       " ['This Side of Silence',\n",
       "  'Human Rights, Torture, and the Recognition of Cruelty',\n",
       "  'Front Matter'],\n",
       " ['Social Figures',\n",
       "  'George Eliot, Social History, and Literary Representation',\n",
       "  'Imperfection and Compensation'],\n",
       " ['George Eliot and Greek Tragedy'],\n",
       " ['THE ECONOMIC PROBLEM OF SYMPATHY: PARABASIS, INTEREST, AND REALIST FORM IN \"MIDDLEMARCH\"'],\n",
       " ['Why Read George Eliot? Her novels are just modern enough—and just old-fashioned enough, too'],\n",
       " ['Violette Nozière', 'A Story of Murder in 1930s Paris', 'Introduction'],\n",
       " [\"Tolstoj's Reading of George Eliot: Visions and Revisions\"],\n",
       " ['The Language of Silence: A Citation'],\n",
       " ['Development and the Learning Organisation: An Introduction'],\n",
       " ['Torpedoes, tapirs and tortoises: scientific discourse in \"Middlemarch\"'],\n",
       " ['On Eloquence', 'Like Something Almost Being Said'],\n",
       " ['Acting in the Night',\n",
       "  'Macbeth and the Places of the Civil War',\n",
       "  'Sound and Fury:',\n",
       "  'Nature in Virginia'],\n",
       " ['Metaphor', 'Not Quite against Metaphor'],\n",
       " ['Adventures among Ants',\n",
       "  'A Global Safari with a Cast of Trillions',\n",
       "  'conclusion:',\n",
       "  'four ways of looking at an ant'],\n",
       " ['“The Continuity of Married Companionship”'],\n",
       " ['The Not-Quite Said'],\n",
       " ['Cutting and the Pedagogy of SelfDisclosure',\n",
       "  'EPILOGUE',\n",
       "  '“I Was Committing a Crime against My Body, against Women”'],\n",
       " ['Economic Woman',\n",
       "  'Demand, Gender, and Narrative Closure in Eliot and Hardy',\n",
       "  'Notes'],\n",
       " [\"Under Conrad's Eyes\",\n",
       "  'The Novel as Criticism',\n",
       "  'The Trouble with Sympathy in Middlemarch and Nostromo'],\n",
       " ['Dying in Character',\n",
       "  'Memoirs on the End of Life',\n",
       "  '“I Never Saw or Heard the Car Coming”',\n",
       "  'My Close Call with Death'],\n",
       " ['Deep History',\n",
       "  'The Architecture of Past and Present',\n",
       "  'Energy and Ecosystems'],\n",
       " ['Samuel Johnson and the Tragic Sense', 'Johnson’s Tragic Sense of Life'],\n",
       " ['Love, Amy',\n",
       "  'The Selected Letters of Amy Clampitt',\n",
       "  'The Letters of Amy Clampitt'],\n",
       " ['Views from above and below: George Eliot and Fakir Mohan Senapati'],\n",
       " ['Sounds of Modern History',\n",
       "  'Auditory Cultures in 19th- and 20th-Century Europe',\n",
       "  'English Beat:',\n",
       "  'The Stethoscopic Era’s Sonic Traces'],\n",
       " ['\"Be Ye Lukewarm!\": The Nineteenth-Century Novel and Social Action'],\n",
       " ['A Note on Middlemarch']]"
      ]
     },
     "execution_count": 40,
     "metadata": {},
     "output_type": "execute_result"
    }
   ],
   "source": [
    "# Get the titles of those articles.\n",
    "[item.title for item in chap20par6s]"
   ]
  },
  {
   "cell_type": "code",
   "execution_count": 41,
   "metadata": {},
   "outputs": [
    {
     "data": {
      "text/plain": [
       "30"
      ]
     },
     "execution_count": 41,
     "metadata": {},
     "output_type": "execute_result"
    }
   ],
   "source": [
    "len(chap20par6s) # The number of items citing paragraph 6 in chapter 20"
   ]
  },
  {
   "cell_type": "code",
   "execution_count": 42,
   "metadata": {},
   "outputs": [],
   "source": [
    "xxStart, xxEnd = chapterLocations[20:22] # Chapter 20 Boundaries"
   ]
  },
  {
   "cell_type": "code",
   "execution_count": 43,
   "metadata": {},
   "outputs": [
    {
     "name": "stdout",
     "output_type": "stream",
     "text": [
      "CHAPTER XX.\n",
      "\n",
      "    \"A child forsaken, waking suddenly,\n",
      "     Whose gaze afeard on all things round doth rove,\n",
      "     And seeth only that it cannot see\n",
      "     The meeting eyes of love.\"\n",
      "\n",
      "\n",
      "Two hours later, Dorothea was seated in an inner room or boudoir of a\n",
      "handsome apartment in the Via Sistina.\n",
      "\n",
      "I am sorry to add that she was sobbing bitterly, with such abandonment\n",
      "to this relief of an oppressed heart as a woman habitually controlled\n",
      "by pride on her own account and thoughtfulness for others will\n",
      "sometimes allow herself when she feels securely alone.  And Mr.\n",
      "Casaubon was certain to remain away for some time at the Vatican.\n",
      "\n",
      "Yet Dorothea had no distinctly shapen grievance that she could state\n",
      "even to herself; and in the midst of her confused thought and passion,\n",
      "the mental act that was struggling forth into clearness was a\n",
      "self-accusing cry that her feeling of desolation was the fault of her\n",
      "own spiritual poverty.  She had married the man of her choice, and with\n",
      "the advantage over most girls t\n"
     ]
    }
   ],
   "source": [
    "print(mm[xxStart:xxStart+1000]) # Verify we have Ch. 20"
   ]
  },
  {
   "cell_type": "code",
   "execution_count": 44,
   "metadata": {},
   "outputs": [],
   "source": [
    "xx = mm[xxStart:xxEnd]"
   ]
  },
  {
   "cell_type": "code",
   "execution_count": 45,
   "metadata": {},
   "outputs": [],
   "source": [
    "xxParaLocations = [match.start() for match in re.finditer('\\n\\n+', mm)]\n",
    "xxParaLocations = [x for x in xxParaLocations if (x > xxStart) and (x < xxEnd)] "
   ]
  },
  {
   "cell_type": "code",
   "execution_count": 46,
   "metadata": {},
   "outputs": [
    {
     "data": {
      "text/plain": [
       "'\\n\\nBut this stupendous fragmentariness heightened the dreamlike\\nstrangeness of her bridal life.  Dorothea had now been five weeks in\\nRome, and in the kindly mornings when autumn and winter seemed to go\\nhand in hand like a happy aged couple one of whom would presently\\nsurvive in chiller loneliness, she had driven about at first with Mr.\\nCasaubon, but of late chiefly with Tantripp and their experienced\\ncourier.  She had been led through the best galleries, had been taken\\nto the chief points of view, had been shown the grandest ruins and the\\nmost glorious churches, and she had ended by oftenest choosing to drive\\nout to the Campagna where she could feel alone with the earth and sky,\\naway-from the oppressive masquerade of ages, in which her own life too\\nseemed to become a masque with enigmatical costumes.'"
      ]
     },
     "execution_count": 46,
     "metadata": {},
     "output_type": "execute_result"
    }
   ],
   "source": [
    "mm[xxParaLocations[4]:xxParaLocations[5]]"
   ]
  },
  {
   "cell_type": "code",
   "execution_count": 47,
   "metadata": {},
   "outputs": [
    {
     "data": {
      "text/plain": [
       "[[5809, 6218],\n",
       " [8751, 9046],\n",
       " [57013, 57100],\n",
       " [83868, 83999],\n",
       " [116900, 117594],\n",
       " [192301, 192441],\n",
       " [195148, 195661],\n",
       " [402604, 402726],\n",
       " [411725, 412177],\n",
       " [449403, 450049],\n",
       " [450145, 450244],\n",
       " [1575265, 1575374],\n",
       " [1576340, 1576437],\n",
       " [1648982, 1649704],\n",
       " [1688955, 1689089],\n",
       " [1689907, 1690307],\n",
       " [1708999, 1709342]]"
      ]
     },
     "execution_count": 47,
     "metadata": {},
     "output_type": "execute_result"
    }
   ],
   "source": [
    "articlesWithMatches['Locations in A'].loc[0]"
   ]
  },
  {
   "cell_type": "code",
   "execution_count": 48,
   "metadata": {},
   "outputs": [],
   "source": [
    "def inXX(matches): \n",
    "    \"\"\" Determine if the article has a match in Ch. 20\"\"\"\n",
    "    for match in matches: \n",
    "        if match[0] > xxStart and match[0] < xxEnd:\n",
    "            return True\n",
    "    return False"
   ]
  },
  {
   "cell_type": "code",
   "execution_count": 49,
   "metadata": {},
   "outputs": [
    {
     "data": {
      "text/plain": [
       "0        True\n",
       "10      False\n",
       "100     False\n",
       "1000    False\n",
       "1008    False\n",
       "Name: Locations in A, dtype: bool"
      ]
     },
     "execution_count": 49,
     "metadata": {},
     "output_type": "execute_result"
    }
   ],
   "source": [
    "articlesWithMatches['Locations in A'].apply(inXX).head()"
   ]
  },
  {
   "cell_type": "code",
   "execution_count": 50,
   "metadata": {},
   "outputs": [],
   "source": [
    "def paraIndicesIn20(matches, paraLocations=xxParaLocations): \n",
    "    \"\"\" Determine paragraph number (index) for match in Ch. 20. \"\"\"\n",
    "    paraIndices = []\n",
    "    if inXX(matches): \n",
    "        paraBoundaries = list(zip(paraLocations, paraLocations[1:]))\n",
    "        for match in matches: \n",
    "            for i, paraBoundary in enumerate(paraBoundaries): \n",
    "                if set(range(match[0], match[1])) & set(range(paraBoundary[0], paraBoundary[1])): # find the set intersection of the ranges of pairs\n",
    "                    paraIndices.append(i)\n",
    "                else: \n",
    "                    paraIndices.append(None)\n",
    "    return paraIndices\n",
    "                    \n",
    "                "
   ]
  },
  {
   "cell_type": "code",
   "execution_count": 51,
   "metadata": {},
   "outputs": [
    {
     "data": {
      "text/plain": [
       "1"
      ]
     },
     "execution_count": 51,
     "metadata": {},
     "output_type": "execute_result"
    }
   ],
   "source": [
    "len(set(range(8, 10)) & set(range(1, 9)))"
   ]
  },
  {
   "cell_type": "code",
   "execution_count": 52,
   "metadata": {},
   "outputs": [
    {
     "name": "stderr",
     "output_type": "stream",
     "text": [
      "/usr/local/Cellar/ipython/6.4.0_1/libexec/vendor/lib/python3.7/site-packages/ipykernel_launcher.py:1: SettingWithCopyWarning: \n",
      "A value is trying to be set on a copy of a slice from a DataFrame.\n",
      "Try using .loc[row_indexer,col_indexer] = value instead\n",
      "\n",
      "See the caveats in the documentation: http://pandas.pydata.org/pandas-docs/stable/indexing.html#indexing-view-versus-copy\n",
      "  \"\"\"Entry point for launching an IPython kernel.\n"
     ]
    }
   ],
   "source": [
    "articlesWithMatches['paraIndicesIn20'] = articlesWithMatches['Locations in A'].apply(paraIndicesIn20)"
   ]
  },
  {
   "cell_type": "code",
   "execution_count": 53,
   "metadata": {},
   "outputs": [
    {
     "ename": "NameError",
     "evalue": "name 'Counter' is not defined",
     "output_type": "error",
     "traceback": [
      "\u001b[0;31m---------------------------------------------------------------------------\u001b[0m",
      "\u001b[0;31mNameError\u001b[0m                                 Traceback (most recent call last)",
      "\u001b[0;32m<ipython-input-53-ff2769fcd715>\u001b[0m in \u001b[0;36m<module>\u001b[0;34m()\u001b[0m\n\u001b[0;32m----> 1\u001b[0;31m \u001b[0mcounters\u001b[0m \u001b[0;34m=\u001b[0m \u001b[0mlist\u001b[0m\u001b[0;34m(\u001b[0m\u001b[0marticlesWithMatches\u001b[0m\u001b[0;34m[\u001b[0m\u001b[0;34m'paraIndicesIn20'\u001b[0m\u001b[0;34m]\u001b[0m\u001b[0;34m.\u001b[0m\u001b[0mapply\u001b[0m\u001b[0;34m(\u001b[0m\u001b[0mCounter\u001b[0m\u001b[0;34m)\u001b[0m\u001b[0;34m)\u001b[0m\u001b[0;34m\u001b[0m\u001b[0m\n\u001b[0m",
      "\u001b[0;31mNameError\u001b[0m: name 'Counter' is not defined"
     ]
    }
   ],
   "source": [
    "counters = list(articlesWithMatches['paraIndicesIn20'].apply(Counter))"
   ]
  },
  {
   "cell_type": "code",
   "execution_count": null,
   "metadata": {},
   "outputs": [],
   "source": [
    "grandTally = Counter()"
   ]
  },
  {
   "cell_type": "code",
   "execution_count": 54,
   "metadata": {},
   "outputs": [
    {
     "ename": "NameError",
     "evalue": "name 'counters' is not defined",
     "output_type": "error",
     "traceback": [
      "\u001b[0;31m---------------------------------------------------------------------------\u001b[0m",
      "\u001b[0;31mNameError\u001b[0m                                 Traceback (most recent call last)",
      "\u001b[0;32m<ipython-input-54-178f780dff02>\u001b[0m in \u001b[0;36m<module>\u001b[0;34m()\u001b[0m\n\u001b[0;32m----> 1\u001b[0;31m \u001b[0;32mfor\u001b[0m \u001b[0mcounter\u001b[0m \u001b[0;32min\u001b[0m \u001b[0mcounters\u001b[0m\u001b[0;34m:\u001b[0m\u001b[0;34m\u001b[0m\u001b[0m\n\u001b[0m\u001b[1;32m      2\u001b[0m     \u001b[0mgrandTally\u001b[0m \u001b[0;34m+=\u001b[0m \u001b[0mcounter\u001b[0m\u001b[0;34m\u001b[0m\u001b[0m\n",
      "\u001b[0;31mNameError\u001b[0m: name 'counters' is not defined"
     ]
    }
   ],
   "source": [
    "for counter in counters: \n",
    "    grandTally += counter"
   ]
  },
  {
   "cell_type": "code",
   "execution_count": 55,
   "metadata": {},
   "outputs": [
    {
     "ename": "NameError",
     "evalue": "name 'grandTally' is not defined",
     "output_type": "error",
     "traceback": [
      "\u001b[0;31m---------------------------------------------------------------------------\u001b[0m",
      "\u001b[0;31mNameError\u001b[0m                                 Traceback (most recent call last)",
      "\u001b[0;32m<ipython-input-55-f8b96fd8950d>\u001b[0m in \u001b[0;36m<module>\u001b[0;34m()\u001b[0m\n\u001b[0;32m----> 1\u001b[0;31m \u001b[0;32mdel\u001b[0m \u001b[0mgrandTally\u001b[0m\u001b[0;34m[\u001b[0m\u001b[0;32mNone\u001b[0m\u001b[0;34m]\u001b[0m\u001b[0;34m\u001b[0m\u001b[0m\n\u001b[0m",
      "\u001b[0;31mNameError\u001b[0m: name 'grandTally' is not defined"
     ]
    }
   ],
   "source": [
    "del grandTally[None]"
   ]
  },
  {
   "cell_type": "code",
   "execution_count": 100,
   "metadata": {},
   "outputs": [
    {
     "data": {
      "text/plain": [
       "{6: 32,\n",
       " 5: 34,\n",
       " 11: 6,\n",
       " 25: 1,\n",
       " 7: 6,\n",
       " 17: 4,\n",
       " 10: 17,\n",
       " 16: 9,\n",
       " 26: 5,\n",
       " 33: 5,\n",
       " 14: 1,\n",
       " 18: 3,\n",
       " 12: 1,\n",
       " 15: 1,\n",
       " 3: 3,\n",
       " 4: 4,\n",
       " 29: 2,\n",
       " 9: 1,\n",
       " 2: 1}"
      ]
     },
     "execution_count": 100,
     "metadata": {},
     "output_type": "execute_result"
    }
   ],
   "source": [
    "dict(grandTally)"
   ]
  },
  {
   "cell_type": "code",
   "execution_count": 103,
   "metadata": {},
   "outputs": [
    {
     "data": {
      "text/plain": [
       "<matplotlib.axes._subplots.AxesSubplot at 0x7f3b1a290a20>"
      ]
     },
     "execution_count": 103,
     "metadata": {},
     "output_type": "execute_result"
    },
    {
     "data": {
      "image/png": "[encoded data removed]",
      "text/plain": [
       "<Figure size 1152x432 with 1 Axes>"
      ]
     },
     "metadata": {},
     "output_type": "display_data"
    }
   ],
   "source": [
    "pd.Series(dict(grandTally)).sort_index().plot(kind='bar')"
   ]
  },
  {
   "cell_type": "code",
   "execution_count": 56,
   "metadata": {},
   "outputs": [
    {
     "name": "stdout",
     "output_type": "stream",
     "text": [
      "\n",
      "\n",
      "To those who have looked at Rome with the quickening power of a\n",
      "knowledge which breathes a growing soul into all historic shapes, and\n",
      "traces out the suppressed transitions which unite all contrasts, Rome\n",
      "may still be the spiritual centre and interpreter of the world.  But\n",
      "let them conceive one more historical contrast: the gigantic broken\n",
      "revelations of that Imperial and Papal city thrust abruptly on the\n",
      "notions of a girl who had been brought up in English and Swiss\n",
      "Puritanism, fed on meagre Protestant histories and on art chiefly of\n",
      "the hand-screen sort; a girl whose ardent nature turned all her small\n",
      "allowance of knowledge into principles, fusing her actions into their\n",
      "mould, and whose quick emotions gave the most abstract things the\n",
      "quality of a pleasure or a pain; a girl who had lately become a wife,\n",
      "and from the enthusiastic acceptance of untried duty found herself\n",
      "plunged in tumultuous preoccupation with her personal lot.  The weight\n",
      "of unintelligible Rome might lie easily on bright nymphs to whom it\n",
      "formed a background for the brilliant picnic of Anglo-foreign society;\n",
      "but Dorothea had no such defence against deep impressions.  Ruins and\n",
      "basilicas, palaces and colossi, set in the midst of a sordid present,\n",
      "where all that was living and warm-blooded seemed sunk in the deep\n",
      "degeneracy of a superstition divorced from reverence; the dimmer but\n",
      "yet eager Titanic life gazing and struggling on walls and ceilings; the\n",
      "long vistas of white forms whose marble eyes seemed to hold the\n",
      "monotonous light of an alien world: all this vast wreck of ambitious\n",
      "ideals, sensuous and spiritual, mixed confusedly with the signs of\n",
      "breathing forgetfulness and degradation, at first jarred her as with an\n",
      "electric shock, and then urged themselves on her with that ache\n",
      "belonging to a glut of confused ideas which check the flow of emotion.\n",
      "Forms both pale and glowing took possession of her young sense, and\n",
      "fixed themselves in her memory even when she was not thinking of them,\n",
      "preparing strange associations which remained through her after-years.\n",
      "Our moods are apt to bring with them images which succeed each other\n",
      "like the magic-lantern pictures of a doze; and in certain states of\n",
      "dull forlornness Dorothea all her life continued to see the vastness of\n",
      "St. Peter's, the huge bronze canopy, the excited intention in the\n",
      "attitudes and garments of the prophets and evangelists in the mosaics\n",
      "above, and the red drapery which was being hung for Christmas spreading\n",
      "itself everywhere like a disease of the retina.\n",
      "\n",
      "Not that this inward amazement of Dorothea's was anything very\n",
      "exceptional: many souls in their young nudity are tumbled out among\n",
      "incongruities and left to \"find their feet\" among them, while their\n",
      "elders go about their business.  Nor can I suppose that when Mrs.\n",
      "Casaubon is discovered in a fit of weeping six weeks after her wedding,\n",
      "the situation will be regarded as tragic.  Some discouragement, some\n",
      "faintness of heart at the new real future which replaces the imaginary,\n",
      "is not unusual, and we do not expect people to be deeply moved by what\n",
      "is not unusual.  That element of tragedy which lies in the very fact of\n",
      "frequency, has not yet wrought itself into the coarse emotion of\n",
      "mankind; and perhaps our frames could hardly bear much of it.  If we\n",
      "had a keen vision and feeling of all ordinary human life, it would be\n",
      "like hearing the grass grow and the squirrel's heart beat, and we\n",
      "should die of that roar which lies on the other side of silence.  As it\n",
      "is, the quickest of us walk about well wadded with stupidity.\n"
     ]
    }
   ],
   "source": [
    "print(mm[xxParaLocations[5]:xxParaLocations[7]]) # What are paragraphs #5 and #6? "
   ]
  },
  {
   "cell_type": "markdown",
   "metadata": {},
   "source": [
    "# Nonmatches"
   ]
  },
  {
   "cell_type": "code",
   "execution_count": 60,
   "metadata": {},
   "outputs": [
    {
     "data": {
      "text/html": [
       "<div>\n",
       "<style scoped>\n",
       "    .dataframe tbody tr th:only-of-type {\n",
       "        vertical-align: middle;\n",
       "    }\n",
       "\n",
       "    .dataframe tbody tr th {\n",
       "        vertical-align: top;\n",
       "    }\n",
       "\n",
       "    .dataframe thead th {\n",
       "        text-align: right;\n",
       "    }\n",
       "</style>\n",
       "<table border=\"1\" class=\"dataframe\">\n",
       "  <thead>\n",
       "    <tr style=\"text-align: right;\">\n",
       "      <th></th>\n",
       "      <th>Locations in A</th>\n",
       "      <th>Locations in B</th>\n",
       "      <th>author</th>\n",
       "      <th>coverdate</th>\n",
       "      <th>disc_name</th>\n",
       "      <th>doi</th>\n",
       "      <th>id</th>\n",
       "      <th>jcode</th>\n",
       "      <th>journal</th>\n",
       "      <th>la</th>\n",
       "      <th>...</th>\n",
       "      <th>srcHtml</th>\n",
       "      <th>title</th>\n",
       "      <th>topics</th>\n",
       "      <th>ty</th>\n",
       "      <th>vo</th>\n",
       "      <th>year</th>\n",
       "      <th>Decade</th>\n",
       "      <th>Quoted Words</th>\n",
       "      <th>Locations in A with Wordcounts</th>\n",
       "      <th>Wordcounts</th>\n",
       "    </tr>\n",
       "  </thead>\n",
       "  <tbody>\n",
       "    <tr>\n",
       "      <th>0</th>\n",
       "      <td>[[5809, 6218], [8751, 9046], [57013, 57100], [...</td>\n",
       "      <td>[[10456, 10865], [10994, 11737], [12404, 12491...</td>\n",
       "      <td>[Harriet Farwell Adams]</td>\n",
       "      <td>[19840601]</td>\n",
       "      <td>[Language &amp; Literature, Humanities]</td>\n",
       "      <td>10.2307/3044822</td>\n",
       "      <td>c6e6ce20-79c4-3c59-af91-b06c3208b37b</td>\n",
       "      <td>[ninecentfict]</td>\n",
       "      <td>Nineteenth-Century Fiction</td>\n",
       "      <td>[eng]</td>\n",
       "      <td>...</td>\n",
       "      <td>&lt;cite&gt;Nineteenth-Century Fiction&lt;/cite&gt;, Vol. ...</td>\n",
       "      <td>[Dorothea and \"Miss Brooke\" in Middlemarch]</td>\n",
       "      <td>[Sentiment, Fear, Martyrdom, Envy, Vocation, G...</td>\n",
       "      <td>fla</td>\n",
       "      <td>[39]</td>\n",
       "      <td>1984</td>\n",
       "      <td>1980</td>\n",
       "      <td>964</td>\n",
       "      <td>[([5809, 6218], 71), ([8751, 9046], 56), ([570...</td>\n",
       "      <td>[83, 64, 18, 29, 139, 27, 101, 21, 102, 140, 1...</td>\n",
       "    </tr>\n",
       "    <tr>\n",
       "      <th>1</th>\n",
       "      <td>[]</td>\n",
       "      <td>[]</td>\n",
       "      <td>[HUGH WITEMEYER]</td>\n",
       "      <td>[19910901]</td>\n",
       "      <td>[Language &amp; Literature, Humanities]</td>\n",
       "      <td>10.2307/43470798</td>\n",
       "      <td>0d7eb58a-e4c1-326b-a195-012da1a4eb11</td>\n",
       "      <td>[georelioghlnews]</td>\n",
       "      <td>The George Eliot, George Henry Lewes Newsletter</td>\n",
       "      <td>[eng]</td>\n",
       "      <td>...</td>\n",
       "      <td>&lt;cite&gt;The George Eliot, George Henry Lewes New...</td>\n",
       "      <td>None</td>\n",
       "      <td>[Lecture methods, Feminism, Pedagogy, Novelist...</td>\n",
       "      <td>brv</td>\n",
       "      <td>None</td>\n",
       "      <td>1991</td>\n",
       "      <td>1990</td>\n",
       "      <td>0</td>\n",
       "      <td>[]</td>\n",
       "      <td>[]</td>\n",
       "    </tr>\n",
       "    <tr>\n",
       "      <th>10</th>\n",
       "      <td>[[3790, 4078], [4098, 4481], [4703, 4850], [48...</td>\n",
       "      <td>[[13743, 14039], [14059, 14446], [14454, 14606...</td>\n",
       "      <td>[Alan Palmer]</td>\n",
       "      <td>[20051201]</td>\n",
       "      <td>[Language &amp; Literature, Humanities]</td>\n",
       "      <td>10.5555/preflight/10.5325/style.39.4.427</td>\n",
       "      <td>db849df0-b417-374a-9c15-f6598a29af5a</td>\n",
       "      <td>[style]</td>\n",
       "      <td>Style</td>\n",
       "      <td>[en]</td>\n",
       "      <td>...</td>\n",
       "      <td>&lt;cite&gt;Style&lt;/cite&gt;, Vol. 39, No. 4, General Is...</td>\n",
       "      <td>[Intermental Thought in the Novel: The Middlem...</td>\n",
       "      <td>[Narratology, Flower gardens, Skepticism, Exte...</td>\n",
       "      <td>fla</td>\n",
       "      <td>[39]</td>\n",
       "      <td>2005</td>\n",
       "      <td>2000</td>\n",
       "      <td>599</td>\n",
       "      <td>[([3790, 4078], 47), ([4098, 4481], 60), ([470...</td>\n",
       "      <td>[60, 82, 30, 40, 33, 40, 101, 58, 60, 105, 36,...</td>\n",
       "    </tr>\n",
       "    <tr>\n",
       "      <th>100</th>\n",
       "      <td>[[196544, 196618], [723896, 724025], [1192663,...</td>\n",
       "      <td>[[5478, 5552], [12393, 12522], [13904, 14104]]</td>\n",
       "      <td>[Richard S. Lyons]</td>\n",
       "      <td>[19660601]</td>\n",
       "      <td>[Language &amp; Literature, Humanities]</td>\n",
       "      <td>10.2307/2932697</td>\n",
       "      <td>bc9047a4-dc2a-32a4-ae60-decd1534f45c</td>\n",
       "      <td>[ninecentfict]</td>\n",
       "      <td>Nineteenth-Century Fiction</td>\n",
       "      <td>[eng]</td>\n",
       "      <td>...</td>\n",
       "      <td>&lt;cite&gt;Nineteenth-Century Fiction&lt;/cite&gt;, Vol. ...</td>\n",
       "      <td>[The Method of Middlemarch]</td>\n",
       "      <td>[Sympathy, Irony, Hope, Faith, Tenants, Egoism...</td>\n",
       "      <td>fla</td>\n",
       "      <td>[21]</td>\n",
       "      <td>1966</td>\n",
       "      <td>1960</td>\n",
       "      <td>78</td>\n",
       "      <td>[([196544, 196618], 11), ([723896, 724025], 25...</td>\n",
       "      <td>[12, 27, 65]</td>\n",
       "    </tr>\n",
       "    <tr>\n",
       "      <th>1000</th>\n",
       "      <td>[[889570, 889643], [913852, 914721]]</td>\n",
       "      <td>[[19202, 19271], [19411, 20275]]</td>\n",
       "      <td>[Carol Christ]</td>\n",
       "      <td>[19760101]</td>\n",
       "      <td>[Language &amp; Literature, Humanities]</td>\n",
       "      <td>10.2307/1345369</td>\n",
       "      <td>a7933616-fe8e-3847-8c8d-f00878f6f724</td>\n",
       "      <td>[noveforufict]</td>\n",
       "      <td>NOVEL: A Forum on Fiction</td>\n",
       "      <td>[eng]</td>\n",
       "      <td>...</td>\n",
       "      <td>&lt;cite&gt;NOVEL: A Forum on Fiction&lt;/cite&gt;, Vol. 9...</td>\n",
       "      <td>[Aggression and Providential Death in George E...</td>\n",
       "      <td>[Pity, Anger, Forgiveness, Villains, Fear, Gui...</td>\n",
       "      <td>fla</td>\n",
       "      <td>[9]</td>\n",
       "      <td>1976</td>\n",
       "      <td>1970</td>\n",
       "      <td>163</td>\n",
       "      <td>[([889570, 889643], 13), ([913852, 914721], 150)]</td>\n",
       "      <td>[16, 179]</td>\n",
       "    </tr>\n",
       "    <tr>\n",
       "      <th>1001</th>\n",
       "      <td>[]</td>\n",
       "      <td>[]</td>\n",
       "      <td>[Anthony Haynes, Samantha Nicholls, Lisa Sulli...</td>\n",
       "      <td>[19931201]</td>\n",
       "      <td>[Education, Social Sciences]</td>\n",
       "      <td>10.2307/40172817</td>\n",
       "      <td>b3dd0df1-f576-37e8-935d-6dafec4461d8</td>\n",
       "      <td>[englishedu]</td>\n",
       "      <td>None</td>\n",
       "      <td>[eng]</td>\n",
       "      <td>...</td>\n",
       "      <td>&lt;cite&gt;English Education&lt;/cite&gt;, Vol. 25, No. 4...</td>\n",
       "      <td>[The Next George Eliot]</td>\n",
       "      <td>[Writing, Novelists, Biographers, Course descr...</td>\n",
       "      <td>fla</td>\n",
       "      <td>[25]</td>\n",
       "      <td>1993</td>\n",
       "      <td>1990</td>\n",
       "      <td>0</td>\n",
       "      <td>[]</td>\n",
       "      <td>[]</td>\n",
       "    </tr>\n",
       "    <tr>\n",
       "      <th>1002</th>\n",
       "      <td>[]</td>\n",
       "      <td>[]</td>\n",
       "      <td>[Gary K. Wolfe]</td>\n",
       "      <td>[20020101]</td>\n",
       "      <td>[Language &amp; Literature, Humanities]</td>\n",
       "      <td>10.2307/24516169</td>\n",
       "      <td>3b1879f0-a014-3bf0-a2a6-a395e8a60add</td>\n",
       "      <td>[conjunctions]</td>\n",
       "      <td>Conjunctions</td>\n",
       "      <td>[eng]</td>\n",
       "      <td>...</td>\n",
       "      <td>&lt;cite&gt;Conjunctions&lt;/cite&gt;, No. 39, THE NEW WAV...</td>\n",
       "      <td>[Malebolge, Or the Ordnance of Genre]</td>\n",
       "      <td>[Anthologies, Fantasy fiction, Science fiction...</td>\n",
       "      <td>fla</td>\n",
       "      <td>None</td>\n",
       "      <td>2002</td>\n",
       "      <td>2000</td>\n",
       "      <td>0</td>\n",
       "      <td>[]</td>\n",
       "      <td>[]</td>\n",
       "    </tr>\n",
       "    <tr>\n",
       "      <th>1003</th>\n",
       "      <td>[]</td>\n",
       "      <td>[]</td>\n",
       "      <td>[Susan Walsh]</td>\n",
       "      <td>[19980101]</td>\n",
       "      <td>[Area Studies, British Studies, Humanities, La...</td>\n",
       "      <td>10.2307/25058409</td>\n",
       "      <td>61bb4a9f-273b-38ad-aeb1-6642de3b45b6</td>\n",
       "      <td>[victlitcult]</td>\n",
       "      <td>None</td>\n",
       "      <td>[eng]</td>\n",
       "      <td>...</td>\n",
       "      <td>&lt;cite&gt;Victorian Literature and Culture&lt;/cite&gt;,...</td>\n",
       "      <td>[Speaking of Illness: Nerves, Narratives, and ...</td>\n",
       "      <td>[Mental disorders, Spectacle, Quack doctors, M...</td>\n",
       "      <td>brv</td>\n",
       "      <td>[26]</td>\n",
       "      <td>1998</td>\n",
       "      <td>1990</td>\n",
       "      <td>0</td>\n",
       "      <td>[]</td>\n",
       "      <td>[]</td>\n",
       "    </tr>\n",
       "    <tr>\n",
       "      <th>1004</th>\n",
       "      <td>[]</td>\n",
       "      <td>[]</td>\n",
       "      <td>[Leona Toker]</td>\n",
       "      <td>[20040101]</td>\n",
       "      <td>[Area Studies, British Studies, Humanities, La...</td>\n",
       "      <td>10.2307/25058686</td>\n",
       "      <td>393a8431-7f54-3a83-84d2-c93ab6adad0b</td>\n",
       "      <td>[victlitcult]</td>\n",
       "      <td>None</td>\n",
       "      <td>[eng]</td>\n",
       "      <td>...</td>\n",
       "      <td>&lt;cite&gt;Victorian Literature and Culture&lt;/cite&gt;,...</td>\n",
       "      <td>[Vocation and Sympathy in \"Daniel Deronda\": Th...</td>\n",
       "      <td>[Carnivals, Sympathy, Supererogation, Self def...</td>\n",
       "      <td>fla</td>\n",
       "      <td>[32]</td>\n",
       "      <td>2004</td>\n",
       "      <td>2000</td>\n",
       "      <td>0</td>\n",
       "      <td>[]</td>\n",
       "      <td>[]</td>\n",
       "    </tr>\n",
       "    <tr>\n",
       "      <th>1005</th>\n",
       "      <td>[]</td>\n",
       "      <td>[]</td>\n",
       "      <td>[Geoffrey Tillotson]</td>\n",
       "      <td>[19561001, 19561001]</td>\n",
       "      <td>[Language &amp; Literature, Humanities]</td>\n",
       "      <td>10.2307/27538588</td>\n",
       "      <td>eb7283d5-b614-3570-89f1-504cacc92638</td>\n",
       "      <td>[sewaneerev]</td>\n",
       "      <td>The Sewanee Review</td>\n",
       "      <td>[eng]</td>\n",
       "      <td>...</td>\n",
       "      <td>&lt;cite&gt;The Sewanee Review&lt;/cite&gt;, Vol. 64, No. ...</td>\n",
       "      <td>[Victorian Novelists and Near-Novelists]</td>\n",
       "      <td>[Poetry, Biographers, Novelists, Paradigm case...</td>\n",
       "      <td>brv</td>\n",
       "      <td>[64]</td>\n",
       "      <td>1956</td>\n",
       "      <td>1950</td>\n",
       "      <td>0</td>\n",
       "      <td>[]</td>\n",
       "      <td>[]</td>\n",
       "    </tr>\n",
       "    <tr>\n",
       "      <th>1006</th>\n",
       "      <td>[]</td>\n",
       "      <td>[]</td>\n",
       "      <td>[Stephen J. Burn]</td>\n",
       "      <td>[20080701]</td>\n",
       "      <td>[Language &amp; Literature, Humanities]</td>\n",
       "      <td>10.2307/27563789</td>\n",
       "      <td>3ec77992-28ee-3156-9584-45a9727776c1</td>\n",
       "      <td>[contlite]</td>\n",
       "      <td>Contemporary Literature</td>\n",
       "      <td>[eng]</td>\n",
       "      <td>...</td>\n",
       "      <td>&lt;cite&gt;Contemporary Literature&lt;/cite&gt;, Vol. 49,...</td>\n",
       "      <td>[An Interview with Richard Powers]</td>\n",
       "      <td>[Narratology, Connectionism, Perspectivism, No...</td>\n",
       "      <td>fla</td>\n",
       "      <td>[49]</td>\n",
       "      <td>2008</td>\n",
       "      <td>2000</td>\n",
       "      <td>0</td>\n",
       "      <td>[]</td>\n",
       "      <td>[]</td>\n",
       "    </tr>\n",
       "    <tr>\n",
       "      <th>1007</th>\n",
       "      <td>[]</td>\n",
       "      <td>[]</td>\n",
       "      <td>[Elizabeth Ermarth]</td>\n",
       "      <td>[19741201]</td>\n",
       "      <td>[Language &amp; Literature, Humanities]</td>\n",
       "      <td>10.2307/2933170</td>\n",
       "      <td>c5b9c6df-4671-3836-acd8-b57125b4bd22</td>\n",
       "      <td>[ninecentfict]</td>\n",
       "      <td>Nineteenth-Century Fiction</td>\n",
       "      <td>[eng]</td>\n",
       "      <td>...</td>\n",
       "      <td>&lt;cite&gt;Nineteenth-Century Fiction&lt;/cite&gt;, Vol. ...</td>\n",
       "      <td>[Incarnations: George Eliot's Conception of \"U...</td>\n",
       "      <td>[Beneficence, Fate, Teleology, Facticity, Magi...</td>\n",
       "      <td>fla</td>\n",
       "      <td>[29]</td>\n",
       "      <td>1974</td>\n",
       "      <td>1970</td>\n",
       "      <td>0</td>\n",
       "      <td>[]</td>\n",
       "      <td>[]</td>\n",
       "    </tr>\n",
       "    <tr>\n",
       "      <th>1008</th>\n",
       "      <td>[[8450, 8912], [8932, 9540]]</td>\n",
       "      <td>[[17523, 17992], [18036, 18653]]</td>\n",
       "      <td>[Wendell V. Harris]</td>\n",
       "      <td>[19900701]</td>\n",
       "      <td>[Language &amp; Literature, Humanities]</td>\n",
       "      <td>10.2307/2873079</td>\n",
       "      <td>260e180d-e932-3291-b7f0-ca9ba8a26bf6</td>\n",
       "      <td>[elh]</td>\n",
       "      <td>ELH</td>\n",
       "      <td>[eng]</td>\n",
       "      <td>...</td>\n",
       "      <td>&lt;cite&gt;ELH&lt;/cite&gt;, Vol. 57, No. 2 (Summer, 1990...</td>\n",
       "      <td>[Bakhtinian Double Voicing in Dickens and Eliot]</td>\n",
       "      <td>[Dialogism, Narratology, Irony, Polyphony, Inq...</td>\n",
       "      <td>fla</td>\n",
       "      <td>[57]</td>\n",
       "      <td>1990</td>\n",
       "      <td>1990</td>\n",
       "      <td>190</td>\n",
       "      <td>[([8450, 8912], 85), ([8932, 9540], 105)]</td>\n",
       "      <td>[98, 129]</td>\n",
       "    </tr>\n",
       "    <tr>\n",
       "      <th>1009</th>\n",
       "      <td>[]</td>\n",
       "      <td>[]</td>\n",
       "      <td>[ELIZABETH LANGLAND]</td>\n",
       "      <td>[19871001]</td>\n",
       "      <td>[Language &amp; Literature, Humanities]</td>\n",
       "      <td>10.2307/29532516</td>\n",
       "      <td>27628733-c47f-3574-bd98-648d19d38871</td>\n",
       "      <td>[studiesnovel]</td>\n",
       "      <td>Studies in the Novel</td>\n",
       "      <td>[eng]</td>\n",
       "      <td>...</td>\n",
       "      <td>&lt;cite&gt;Studies in the Novel&lt;/cite&gt;, Vol. 19, No...</td>\n",
       "      <td>[PATRIARCHAL IDEOLOGY AND MARGINAL MOTHERHOOD ...</td>\n",
       "      <td>[Women, Obedience, Dialogism, Pity, Heirs, Pat...</td>\n",
       "      <td>fla</td>\n",
       "      <td>[19]</td>\n",
       "      <td>1987</td>\n",
       "      <td>1980</td>\n",
       "      <td>0</td>\n",
       "      <td>[]</td>\n",
       "      <td>[]</td>\n",
       "    </tr>\n",
       "    <tr>\n",
       "      <th>101</th>\n",
       "      <td>[[398100, 398621], [453721, 453952]]</td>\n",
       "      <td>[[10683, 11202], [20465, 20696]]</td>\n",
       "      <td>[Hugh Witemeyer]</td>\n",
       "      <td>[19741201]</td>\n",
       "      <td>[Language &amp; Literature, History, British Studi...</td>\n",
       "      <td>10.2307/3826361</td>\n",
       "      <td>d742556e-759f-33ce-bed3-786d5f19263d</td>\n",
       "      <td>[victorianstudies]</td>\n",
       "      <td>Victorian Studies</td>\n",
       "      <td>[eng]</td>\n",
       "      <td>...</td>\n",
       "      <td>&lt;cite&gt;Victorian Studies&lt;/cite&gt;, Vol. 18, No. 2...</td>\n",
       "      <td>[George Eliot, Naumann, and the Nazarenes]</td>\n",
       "      <td>[Paints, Symbolism, Mythology, Sympathy, Fresc...</td>\n",
       "      <td>fla</td>\n",
       "      <td>[18]</td>\n",
       "      <td>1974</td>\n",
       "      <td>1970</td>\n",
       "      <td>123</td>\n",
       "      <td>[([398100, 398621], 84), ([453721, 453952], 39)]</td>\n",
       "      <td>[104, 44]</td>\n",
       "    </tr>\n",
       "    <tr>\n",
       "      <th>1010</th>\n",
       "      <td>[]</td>\n",
       "      <td>[]</td>\n",
       "      <td>[HUGH WITEMEYER]</td>\n",
       "      <td>[19830401]</td>\n",
       "      <td>[Language &amp; Literature, Humanities]</td>\n",
       "      <td>10.2307/29532204</td>\n",
       "      <td>31086ed2-0665-3c05-b995-c88bba5f34a4</td>\n",
       "      <td>[studiesnovel]</td>\n",
       "      <td>Studies in the Novel</td>\n",
       "      <td>[eng]</td>\n",
       "      <td>...</td>\n",
       "      <td>&lt;cite&gt;Studies in the Novel&lt;/cite&gt;, Vol. 15, No...</td>\n",
       "      <td>[GEORGE ELIOT'S \"ROMOLA\" AND BULWER LYTTON'S \"...</td>\n",
       "      <td>[Novels, Busts, Unwritten law, Martyrdom, Pseu...</td>\n",
       "      <td>fla</td>\n",
       "      <td>[15]</td>\n",
       "      <td>1983</td>\n",
       "      <td>1980</td>\n",
       "      <td>0</td>\n",
       "      <td>[]</td>\n",
       "      <td>[]</td>\n",
       "    </tr>\n",
       "    <tr>\n",
       "      <th>1011</th>\n",
       "      <td>[]</td>\n",
       "      <td>[]</td>\n",
       "      <td>[Judith L. Fisher]</td>\n",
       "      <td>[19980101]</td>\n",
       "      <td>[Language &amp; Literature, Bibliography, Humanities]</td>\n",
       "      <td>10.2307/30227745</td>\n",
       "      <td>40051158-7a90-384d-9a48-71d37994e0c6</td>\n",
       "      <td>[text]</td>\n",
       "      <td>Text</td>\n",
       "      <td>[eng]</td>\n",
       "      <td>...</td>\n",
       "      <td>&lt;cite&gt;Text&lt;/cite&gt;, Vol. 11 (1998), pp. 365-377</td>\n",
       "      <td>[Authorial Process and Textual Stability]</td>\n",
       "      <td>[Text editing, Punctuation, Trusteeship, Handw...</td>\n",
       "      <td>brv</td>\n",
       "      <td>[11]</td>\n",
       "      <td>1998</td>\n",
       "      <td>1990</td>\n",
       "      <td>0</td>\n",
       "      <td>[]</td>\n",
       "      <td>[]</td>\n",
       "    </tr>\n",
       "    <tr>\n",
       "      <th>1012</th>\n",
       "      <td>[[87217, 87450], [125587, 125846], [126848, 12...</td>\n",
       "      <td>[[7516, 7752], [20714, 20973], [20993, 21197],...</td>\n",
       "      <td>[R. Fowler]</td>\n",
       "      <td>[19830401, 19830401]</td>\n",
       "      <td>[Classical Studies, Humanities]</td>\n",
       "      <td>10.2307/3296774</td>\n",
       "      <td>47050086-b512-3c85-945c-a87251e73d5f</td>\n",
       "      <td>[classicalj]</td>\n",
       "      <td>None</td>\n",
       "      <td>[eng]</td>\n",
       "      <td>...</td>\n",
       "      <td>&lt;cite&gt;The Classical Journal&lt;/cite&gt;, Vol. 78, N...</td>\n",
       "      <td>[\"On Not Knowing Greek:\" The Classics and the ...</td>\n",
       "      <td>[Waiters, Gossip, Aunts, Pity, Odes, Classical...</td>\n",
       "      <td>fla</td>\n",
       "      <td>[78]</td>\n",
       "      <td>1983</td>\n",
       "      <td>1980</td>\n",
       "      <td>171</td>\n",
       "      <td>[([87217, 87450], 41), ([125587, 125846], 47),...</td>\n",
       "      <td>[58, 59, 42, 54]</td>\n",
       "    </tr>\n",
       "    <tr>\n",
       "      <th>1013</th>\n",
       "      <td>[]</td>\n",
       "      <td>[]</td>\n",
       "      <td>[Roger Sale]</td>\n",
       "      <td>[19731201, 19731201]</td>\n",
       "      <td>[Language &amp; Literature, Humanities]</td>\n",
       "      <td>10.2307/3850694</td>\n",
       "      <td>558baab9-0eb7-394d-88bc-057652c6929f</td>\n",
       "      <td>[hudsonreview]</td>\n",
       "      <td>The Hudson Review</td>\n",
       "      <td>[eng]</td>\n",
       "      <td>...</td>\n",
       "      <td>&lt;cite&gt;The Hudson Review&lt;/cite&gt;, Vol. 26, No. 4...</td>\n",
       "      <td>[The States of Criticism]</td>\n",
       "      <td>[Poetic meter, Pity, Stanzas, Resentment, Moor...</td>\n",
       "      <td>brv</td>\n",
       "      <td>[26]</td>\n",
       "      <td>1973</td>\n",
       "      <td>1970</td>\n",
       "      <td>0</td>\n",
       "      <td>[]</td>\n",
       "      <td>[]</td>\n",
       "    </tr>\n",
       "    <tr>\n",
       "      <th>1014</th>\n",
       "      <td>[]</td>\n",
       "      <td>[]</td>\n",
       "      <td>[DARREL MANSELL, &lt;suffix&gt;JR.&lt;/suffix&gt;]</td>\n",
       "      <td>[19650701]</td>\n",
       "      <td>[Humanities, Language &amp; Literature]</td>\n",
       "      <td>10.2307/41938400</td>\n",
       "      <td>26db3ac5-10c2-3cde-bcb7-7ad68ff99f5e</td>\n",
       "      <td>[criticism]</td>\n",
       "      <td>None</td>\n",
       "      <td>[eng]</td>\n",
       "      <td>...</td>\n",
       "      <td>&lt;cite&gt;Criticism&lt;/cite&gt;, Vol. 7, No. 3 (Summer ...</td>\n",
       "      <td>[Ruskin and George Eliot's \"Realism\"]</td>\n",
       "      <td>[Beauty, Novelists, Music criticism, Artistic ...</td>\n",
       "      <td>fla</td>\n",
       "      <td>[7]</td>\n",
       "      <td>1965</td>\n",
       "      <td>1960</td>\n",
       "      <td>0</td>\n",
       "      <td>[]</td>\n",
       "      <td>[]</td>\n",
       "    </tr>\n",
       "    <tr>\n",
       "      <th>1015</th>\n",
       "      <td>[]</td>\n",
       "      <td>[]</td>\n",
       "      <td>[M. MELISSA ELSTON]</td>\n",
       "      <td>[20120901]</td>\n",
       "      <td>[Language &amp; Literature, Humanities]</td>\n",
       "      <td>10.2307/42827901</td>\n",
       "      <td>d624b4b1-0b45-3ac7-a930-6dc1ca0b895a</td>\n",
       "      <td>[georelioghlstud]</td>\n",
       "      <td>George Eliot - George Henry Lewes Studies</td>\n",
       "      <td>[eng]</td>\n",
       "      <td>...</td>\n",
       "      <td>&lt;cite&gt;George Eliot - George Henry Lewes Studie...</td>\n",
       "      <td>['A WORLD OUTSIDE': GEORGE ELIOT'S EKPHRASTIC ...</td>\n",
       "      <td>[Femininity, Picturesque beauty, Viewers, Aest...</td>\n",
       "      <td>fla</td>\n",
       "      <td>None</td>\n",
       "      <td>2012</td>\n",
       "      <td>2010</td>\n",
       "      <td>0</td>\n",
       "      <td>[]</td>\n",
       "      <td>[]</td>\n",
       "    </tr>\n",
       "    <tr>\n",
       "      <th>1016</th>\n",
       "      <td>[[129117, 129300], [131047, 131215], [212301, ...</td>\n",
       "      <td>[[11906, 12086], [15681, 15849], [18255, 18368...</td>\n",
       "      <td>[D. J. Smith]</td>\n",
       "      <td>[19630701]</td>\n",
       "      <td>[Humanities, Language &amp; Literature]</td>\n",
       "      <td>10.2307/4334358</td>\n",
       "      <td>a663d519-d0c6-315e-8918-c16a60e1737a</td>\n",
       "      <td>[kenyrevi]</td>\n",
       "      <td>None</td>\n",
       "      <td>[eng]</td>\n",
       "      <td>...</td>\n",
       "      <td>&lt;cite&gt;The Kenyon Review&lt;/cite&gt;, Vol. 25, No. 3...</td>\n",
       "      <td>[Music in the Victorian Novel]</td>\n",
       "      <td>[Keyboard music, Choirs, Russian music, Pity, ...</td>\n",
       "      <td>fla</td>\n",
       "      <td>[25]</td>\n",
       "      <td>1963</td>\n",
       "      <td>1960</td>\n",
       "      <td>142</td>\n",
       "      <td>[([129117, 129300], 33), ([131047, 131215], 33...</td>\n",
       "      <td>[45, 42, 28, 61]</td>\n",
       "    </tr>\n",
       "    <tr>\n",
       "      <th>1017</th>\n",
       "      <td>[]</td>\n",
       "      <td>[]</td>\n",
       "      <td>[Hannelore Schlaffer]</td>\n",
       "      <td>[20050101]</td>\n",
       "      <td>[Language &amp; Literature, Humanities]</td>\n",
       "      <td>10.2307/43028392</td>\n",
       "      <td>908d7180-042f-3415-a05b-985f5a3c4c51</td>\n",
       "      <td>[poetica]</td>\n",
       "      <td>Poetica</td>\n",
       "      <td>[ger]</td>\n",
       "      <td>...</td>\n",
       "      <td>&lt;cite&gt;Poetica&lt;/cite&gt;, Vol. 37, No. 3/4 (2005),...</td>\n",
       "      <td>[EHESTIFTUNG, EHEBRUCH UND SEXUELLE REVOLUTION...</td>\n",
       "      <td>[Krises, Mathematical notation, Pseudoreligion...</td>\n",
       "      <td>fla</td>\n",
       "      <td>[37]</td>\n",
       "      <td>2005</td>\n",
       "      <td>2000</td>\n",
       "      <td>0</td>\n",
       "      <td>[]</td>\n",
       "      <td>[]</td>\n",
       "    </tr>\n",
       "    <tr>\n",
       "      <th>1018</th>\n",
       "      <td>[[299392, 299515]]</td>\n",
       "      <td>[[18090, 18212]]</td>\n",
       "      <td>[Carol Peirce]</td>\n",
       "      <td>[19871201]</td>\n",
       "      <td>[Language &amp; Literature, Humanities]</td>\n",
       "      <td>10.2307/441162</td>\n",
       "      <td>a38cce39-641b-3cb8-a0bb-f883086948c8</td>\n",
       "      <td>[twencentlite]</td>\n",
       "      <td>Twentieth Century Literature</td>\n",
       "      <td>[eng]</td>\n",
       "      <td>...</td>\n",
       "      <td>&lt;cite&gt;Twentieth Century Literature&lt;/cite&gt;, Vol...</td>\n",
       "      <td>[\"Wrinkled Deep in Time\": The Alexandria Quart...</td>\n",
       "      <td>[Incantations, Demiurge, Asceticism, Occultism...</td>\n",
       "      <td>fla</td>\n",
       "      <td>[33]</td>\n",
       "      <td>1987</td>\n",
       "      <td>1980</td>\n",
       "      <td>24</td>\n",
       "      <td>[([299392, 299515], 24)]</td>\n",
       "      <td>[28]</td>\n",
       "    </tr>\n",
       "    <tr>\n",
       "      <th>1019</th>\n",
       "      <td>[[1327580, 1327704], [1689907, 1690043]]</td>\n",
       "      <td>[[33153, 33277], [33782, 33918]]</td>\n",
       "      <td>[T. R. Wright]</td>\n",
       "      <td>[19820201]</td>\n",
       "      <td>[Language &amp; Literature, Humanities]</td>\n",
       "      <td>10.2307/513914</td>\n",
       "      <td>38e21b37-d2bb-3b1e-9813-b0e510820a41</td>\n",
       "      <td>[revienglstud]</td>\n",
       "      <td>The Review of English Studies</td>\n",
       "      <td>[eng]</td>\n",
       "      <td>...</td>\n",
       "      <td>&lt;cite&gt;The Review of English Studies&lt;/cite&gt;, Ne...</td>\n",
       "      <td>[From Bumps to Morals: The Phrenological Backg...</td>\n",
       "      <td>[Sympathy, Affection, Passion, Pity, Phrenolog...</td>\n",
       "      <td>fla</td>\n",
       "      <td>[33]</td>\n",
       "      <td>1982</td>\n",
       "      <td>1980</td>\n",
       "      <td>45</td>\n",
       "      <td>[([1327580, 1327704], 22), ([1689907, 1690043]...</td>\n",
       "      <td>[25, 27]</td>\n",
       "    </tr>\n",
       "    <tr>\n",
       "      <th>102</th>\n",
       "      <td>[[880, 1123], [2834, 3048], [84024, 84113], [1...</td>\n",
       "      <td>[[37436, 37679], [38421, 38636], [40147, 40235...</td>\n",
       "      <td>[Michael Tondre]</td>\n",
       "      <td>[20120901]</td>\n",
       "      <td>[Language &amp; Literature, Humanities]</td>\n",
       "      <td>10.1525/ncl.2012.67.2.204</td>\n",
       "      <td>9835cc43-fbb0-3f29-8296-5d38675ba9cb</td>\n",
       "      <td>[ninecentlite]</td>\n",
       "      <td>Nineteenth-Century Literature</td>\n",
       "      <td>[eng]</td>\n",
       "      <td>...</td>\n",
       "      <td>&lt;cite&gt;Nineteenth-Century Literature&lt;/cite&gt;, Vo...</td>\n",
       "      <td>[George Eliot's “Fine Excess”: &lt;em&gt;Middlemarch...</td>\n",
       "      <td>[Sympathy, Fear, Frame narratives, Formalist a...</td>\n",
       "      <td>fla</td>\n",
       "      <td>[67]</td>\n",
       "      <td>2012</td>\n",
       "      <td>2010</td>\n",
       "      <td>553</td>\n",
       "      <td>[([880, 1123], 35), ([2834, 3048], 32), ([8402...</td>\n",
       "      <td>[45, 42, 17, 21, 42, 78, 43, 52, 14, 51, 11, 3...</td>\n",
       "    </tr>\n",
       "    <tr>\n",
       "      <th>1020</th>\n",
       "      <td>[]</td>\n",
       "      <td>[]</td>\n",
       "      <td>[Edgar W. Hirshberg]</td>\n",
       "      <td>[19670901]</td>\n",
       "      <td>[Education, Humanities, Language &amp; Literature,...</td>\n",
       "      <td>10.2307/812444</td>\n",
       "      <td>1555f9aa-551f-3e5e-9382-c664600bfbdb</td>\n",
       "      <td>[englishj]</td>\n",
       "      <td>None</td>\n",
       "      <td>[eng]</td>\n",
       "      <td>...</td>\n",
       "      <td>&lt;cite&gt;The English Journal&lt;/cite&gt;, Vol. 56, No....</td>\n",
       "      <td>[George Eliot and Her Husband]</td>\n",
       "      <td>[Literary criticism, Novelists, Reminiscences,...</td>\n",
       "      <td>fla</td>\n",
       "      <td>[56]</td>\n",
       "      <td>1967</td>\n",
       "      <td>1960</td>\n",
       "      <td>0</td>\n",
       "      <td>[]</td>\n",
       "      <td>[]</td>\n",
       "    </tr>\n",
       "    <tr>\n",
       "      <th>1021</th>\n",
       "      <td>[[908844, 909620]]</td>\n",
       "      <td>[[26283, 27058]]</td>\n",
       "      <td>[KARL KROEBER]</td>\n",
       "      <td>[19710101, 19710101]</td>\n",
       "      <td>[Language &amp; Literature]</td>\n",
       "      <td>10.2307/j.ctt13x19c2.14</td>\n",
       "      <td>61acebba-787d-3ad9-afe8-51d02598347e</td>\n",
       "      <td>None</td>\n",
       "      <td>None</td>\n",
       "      <td>[eng]</td>\n",
       "      <td>...</td>\n",
       "      <td>None</td>\n",
       "      <td>[Styles in Fictional Structure: Studies in the...</td>\n",
       "      <td>[Narrators, Similes, Modesty, Perfection, Adje...</td>\n",
       "      <td>mis</td>\n",
       "      <td>None</td>\n",
       "      <td>1971</td>\n",
       "      <td>1970</td>\n",
       "      <td>134</td>\n",
       "      <td>[([908844, 909620], 134)]</td>\n",
       "      <td>[164]</td>\n",
       "    </tr>\n",
       "    <tr>\n",
       "      <th>1022</th>\n",
       "      <td>[]</td>\n",
       "      <td>[]</td>\n",
       "      <td>[Susanna De Schepper]</td>\n",
       "      <td>[20090101, 20090101]</td>\n",
       "      <td>[Language &amp; Literature]</td>\n",
       "      <td>10.2307/j.ctt9qf1td.8</td>\n",
       "      <td>28fbde9e-0697-3c89-911e-613a2993caf4</td>\n",
       "      <td>None</td>\n",
       "      <td>None</td>\n",
       "      <td>[eng]</td>\n",
       "      <td>...</td>\n",
       "      <td>None</td>\n",
       "      <td>[Crossing Cultures, Nineteenth-Century Angloph...</td>\n",
       "      <td>[Publishing industry, Engraving, Lithography, ...</td>\n",
       "      <td>mis</td>\n",
       "      <td>None</td>\n",
       "      <td>2009</td>\n",
       "      <td>2000</td>\n",
       "      <td>0</td>\n",
       "      <td>[]</td>\n",
       "      <td>[]</td>\n",
       "    </tr>\n",
       "    <tr>\n",
       "      <th>1023</th>\n",
       "      <td>[]</td>\n",
       "      <td>[]</td>\n",
       "      <td>[Royce Mahawatte]</td>\n",
       "      <td>[20130101, 20130101]</td>\n",
       "      <td>[Language &amp; Literature]</td>\n",
       "      <td>10.2307/j.ctt9qhbnv.16</td>\n",
       "      <td>c4a8f86d-30ad-3b5d-9b65-404cb5c6e626</td>\n",
       "      <td>None</td>\n",
       "      <td>None</td>\n",
       "      <td>[eng]</td>\n",
       "      <td>...</td>\n",
       "      <td>None</td>\n",
       "      <td>[George Eliot and the Gothic Novel, Genres, Ge...</td>\n",
       "      <td>[Victorians, Autobiographies, Soap operas, Cla...</td>\n",
       "      <td>mis</td>\n",
       "      <td>None</td>\n",
       "      <td>2013</td>\n",
       "      <td>2010</td>\n",
       "      <td>0</td>\n",
       "      <td>[]</td>\n",
       "      <td>[]</td>\n",
       "    </tr>\n",
       "    <tr>\n",
       "      <th>...</th>\n",
       "      <td>...</td>\n",
       "      <td>...</td>\n",
       "      <td>...</td>\n",
       "      <td>...</td>\n",
       "      <td>...</td>\n",
       "      <td>...</td>\n",
       "      <td>...</td>\n",
       "      <td>...</td>\n",
       "      <td>...</td>\n",
       "      <td>...</td>\n",
       "      <td>...</td>\n",
       "      <td>...</td>\n",
       "      <td>...</td>\n",
       "      <td>...</td>\n",
       "      <td>...</td>\n",
       "      <td>...</td>\n",
       "      <td>...</td>\n",
       "      <td>...</td>\n",
       "      <td>...</td>\n",
       "      <td>...</td>\n",
       "      <td>...</td>\n",
       "    </tr>\n",
       "    <tr>\n",
       "      <th>972</th>\n",
       "      <td>[]</td>\n",
       "      <td>[]</td>\n",
       "      <td>[SIMON CALDER]</td>\n",
       "      <td>[20120101, 20120101]</td>\n",
       "      <td>[Philosophy]</td>\n",
       "      <td>10.3366/j.ctt3fgqs6.15</td>\n",
       "      <td>e5f25660-7fb2-301f-a544-c3bac9065b37</td>\n",
       "      <td>None</td>\n",
       "      <td>None</td>\n",
       "      <td>[eng]</td>\n",
       "      <td>...</td>\n",
       "      <td>None</td>\n",
       "      <td>[Spinoza Beyond Philosophy, George Eliot, Spin...</td>\n",
       "      <td>[Passion, Envy, Perfection, Lust, Pity, Novell...</td>\n",
       "      <td>mis</td>\n",
       "      <td>None</td>\n",
       "      <td>2012</td>\n",
       "      <td>2010</td>\n",
       "      <td>0</td>\n",
       "      <td>[]</td>\n",
       "      <td>[]</td>\n",
       "    </tr>\n",
       "    <tr>\n",
       "      <th>973</th>\n",
       "      <td>[[485698, 485803]]</td>\n",
       "      <td>[[9291, 9396]]</td>\n",
       "      <td>[Daniel Cottom]</td>\n",
       "      <td>[19870101, 19870101]</td>\n",
       "      <td>[Language &amp; Literature]</td>\n",
       "      <td>10.5749/j.ctttt3h8.9</td>\n",
       "      <td>ea5f9e47-c1a5-39c4-abe5-cc167124c7f3</td>\n",
       "      <td>None</td>\n",
       "      <td>None</td>\n",
       "      <td>[eng]</td>\n",
       "      <td>...</td>\n",
       "      <td>None</td>\n",
       "      <td>[Social Figures, George Eliot, Social History,...</td>\n",
       "      <td>[Transfiguration, Workhouses, Innocence, Arist...</td>\n",
       "      <td>mis</td>\n",
       "      <td>[44]</td>\n",
       "      <td>1987</td>\n",
       "      <td>1980</td>\n",
       "      <td>16</td>\n",
       "      <td>[([485698, 485803], 16)]</td>\n",
       "      <td>[18]</td>\n",
       "    </tr>\n",
       "    <tr>\n",
       "      <th>974</th>\n",
       "      <td>[[591198, 591288], [593775, 593957], [596318, ...</td>\n",
       "      <td>[[13195, 13284], [16232, 16414], [17399, 17848...</td>\n",
       "      <td>[W. DAVID SHAW]</td>\n",
       "      <td>[20090101, 20090101]</td>\n",
       "      <td>[Language &amp; Literature]</td>\n",
       "      <td>10.3138/9781442685307.17</td>\n",
       "      <td>22818d55-e380-3640-b912-ff530a8ce72d</td>\n",
       "      <td>None</td>\n",
       "      <td>None</td>\n",
       "      <td>[eng]</td>\n",
       "      <td>...</td>\n",
       "      <td>None</td>\n",
       "      <td>[Secrets of the Oracle, A History of Wisdom fr...</td>\n",
       "      <td>[Pity, Marriage ceremonies, Satire, Aphorisms,...</td>\n",
       "      <td>mis</td>\n",
       "      <td>None</td>\n",
       "      <td>2009</td>\n",
       "      <td>2000</td>\n",
       "      <td>210</td>\n",
       "      <td>[([591198, 591288], 16), ([593775, 593957], 32...</td>\n",
       "      <td>[19, 34, 95, 51, 56]</td>\n",
       "    </tr>\n",
       "    <tr>\n",
       "      <th>975</th>\n",
       "      <td>[[167756, 168484], [1704719, 1704831], [174070...</td>\n",
       "      <td>[[28292, 29071], [33145, 33259], [33687, 33769...</td>\n",
       "      <td>[Edward Dramin]</td>\n",
       "      <td>[19980101]</td>\n",
       "      <td>[Area Studies, British Studies, Humanities, La...</td>\n",
       "      <td>10.2307/25058419</td>\n",
       "      <td>51bbf06d-8979-30a1-9220-cf2c371ceeae</td>\n",
       "      <td>[victlitcult]</td>\n",
       "      <td>None</td>\n",
       "      <td>[eng]</td>\n",
       "      <td>...</td>\n",
       "      <td>&lt;cite&gt;Victorian Literature and Culture&lt;/cite&gt;,...</td>\n",
       "      <td>[\"A New Unfolding of Life\": Romanticism in the...</td>\n",
       "      <td>[Passion, Heaven, Misanthropy, Religious trans...</td>\n",
       "      <td>fla</td>\n",
       "      <td>[26]</td>\n",
       "      <td>1998</td>\n",
       "      <td>1990</td>\n",
       "      <td>221</td>\n",
       "      <td>[([167756, 168484], 128), ([1704719, 1704831],...</td>\n",
       "      <td>[158, 24, 16, 66]</td>\n",
       "    </tr>\n",
       "    <tr>\n",
       "      <th>976</th>\n",
       "      <td>[[476673, 476960], [477057, 477360], [477387, ...</td>\n",
       "      <td>[[7401, 7688], [7785, 8081], [8107, 8209]]</td>\n",
       "      <td>[Charles LaPorte]</td>\n",
       "      <td>[20110101, 20110101]</td>\n",
       "      <td>[Language &amp; Literature]</td>\n",
       "      <td>10.2307/j.ctt6wrk4h.9</td>\n",
       "      <td>086dd387-177f-3791-ad47-198f82830e77</td>\n",
       "      <td>None</td>\n",
       "      <td>None</td>\n",
       "      <td>[eng]</td>\n",
       "      <td>...</td>\n",
       "      <td>None</td>\n",
       "      <td>[Victorian Poets and the Changing Bible, GEORG...</td>\n",
       "      <td>[Poetic meter, Prophecy, Heaven, Innocence, Sa...</td>\n",
       "      <td>mis</td>\n",
       "      <td>None</td>\n",
       "      <td>2011</td>\n",
       "      <td>2010</td>\n",
       "      <td>127</td>\n",
       "      <td>[([476673, 476960], 52), ([477057, 477360], 58...</td>\n",
       "      <td>[63, 78, 21]</td>\n",
       "    </tr>\n",
       "    <tr>\n",
       "      <th>977</th>\n",
       "      <td>[]</td>\n",
       "      <td>[]</td>\n",
       "      <td>[Erik Gray]</td>\n",
       "      <td>[20090101, 20090101]</td>\n",
       "      <td>[Language &amp; Literature]</td>\n",
       "      <td>10.7591/j.ctt7zjtb.2</td>\n",
       "      <td>9b8e23cc-72b0-34b0-b426-078445b820aa</td>\n",
       "      <td>None</td>\n",
       "      <td>None</td>\n",
       "      <td>[eng]</td>\n",
       "      <td>...</td>\n",
       "      <td>None</td>\n",
       "      <td>[Milton and the Victorians, Table of Contents]</td>\n",
       "      <td>None</td>\n",
       "      <td>mis</td>\n",
       "      <td>None</td>\n",
       "      <td>2009</td>\n",
       "      <td>2000</td>\n",
       "      <td>0</td>\n",
       "      <td>[]</td>\n",
       "      <td>[]</td>\n",
       "    </tr>\n",
       "    <tr>\n",
       "      <th>978</th>\n",
       "      <td>[]</td>\n",
       "      <td>[]</td>\n",
       "      <td>[Stephen Innes]</td>\n",
       "      <td>[19830101, 19830101]</td>\n",
       "      <td>[Economics]</td>\n",
       "      <td>10.2307/j.ctt7zv1mf.5</td>\n",
       "      <td>4249681e-8b40-3901-b6cd-27d776b935e6</td>\n",
       "      <td>None</td>\n",
       "      <td>None</td>\n",
       "      <td>[eng]</td>\n",
       "      <td>...</td>\n",
       "      <td>None</td>\n",
       "      <td>[Labor in a New Land, Economy and Society in S...</td>\n",
       "      <td>None</td>\n",
       "      <td>mis</td>\n",
       "      <td>None</td>\n",
       "      <td>1983</td>\n",
       "      <td>1980</td>\n",
       "      <td>0</td>\n",
       "      <td>[]</td>\n",
       "      <td>[]</td>\n",
       "    </tr>\n",
       "    <tr>\n",
       "      <th>979</th>\n",
       "      <td>[]</td>\n",
       "      <td>[]</td>\n",
       "      <td>None</td>\n",
       "      <td>[18730401]</td>\n",
       "      <td>[Humanities, Language &amp; Literature]</td>\n",
       "      <td>10.2307/25109744</td>\n",
       "      <td>69adddaf-4afa-30de-9f49-4b08def73da1</td>\n",
       "      <td>[nortamerrev]</td>\n",
       "      <td>None</td>\n",
       "      <td>[eng]</td>\n",
       "      <td>...</td>\n",
       "      <td>&lt;cite&gt;The North American Review&lt;/cite&gt;, Vol. 1...</td>\n",
       "      <td>[Front Matter]</td>\n",
       "      <td>None</td>\n",
       "      <td>mis</td>\n",
       "      <td>[116]</td>\n",
       "      <td>1873</td>\n",
       "      <td>1870</td>\n",
       "      <td>0</td>\n",
       "      <td>[]</td>\n",
       "      <td>[]</td>\n",
       "    </tr>\n",
       "    <tr>\n",
       "      <th>98</th>\n",
       "      <td>[[344503, 344850], [345111, 346047], [449670, ...</td>\n",
       "      <td>[[13206, 13552], [13563, 14497], [28196, 28768...</td>\n",
       "      <td>[Rosemary D. Ashton]</td>\n",
       "      <td>[19790501]</td>\n",
       "      <td>[Language &amp; Literature, Humanities]</td>\n",
       "      <td>10.2307/514392</td>\n",
       "      <td>a792361f-aecb-331e-b37f-2197571970ab</td>\n",
       "      <td>[revienglstud]</td>\n",
       "      <td>The Review of English Studies</td>\n",
       "      <td>[eng]</td>\n",
       "      <td>...</td>\n",
       "      <td>&lt;cite&gt;The Review of English Studies&lt;/cite&gt;, Ne...</td>\n",
       "      <td>[The Intellectual 'Medium' of Middlemarch]</td>\n",
       "      <td>[Egoism, Passion, Positivism, Sympathy, Baptis...</td>\n",
       "      <td>fla</td>\n",
       "      <td>[30]</td>\n",
       "      <td>1979</td>\n",
       "      <td>1970</td>\n",
       "      <td>491</td>\n",
       "      <td>[([344503, 344850], 55), ([345111, 346047], 14...</td>\n",
       "      <td>[64, 176, 120, 138, 26, 58]</td>\n",
       "    </tr>\n",
       "    <tr>\n",
       "      <th>980</th>\n",
       "      <td>[]</td>\n",
       "      <td>[]</td>\n",
       "      <td>[KARL KROEBER]</td>\n",
       "      <td>[19710101, 19710101]</td>\n",
       "      <td>[Language &amp; Literature]</td>\n",
       "      <td>10.2307/j.ctt13x19c2.2</td>\n",
       "      <td>2dd5e6f1-21db-37c0-8338-8b69a0ff8d82</td>\n",
       "      <td>None</td>\n",
       "      <td>None</td>\n",
       "      <td>[eng]</td>\n",
       "      <td>...</td>\n",
       "      <td>None</td>\n",
       "      <td>[Styles in Fictional Structure: Studies in the...</td>\n",
       "      <td>None</td>\n",
       "      <td>mis</td>\n",
       "      <td>None</td>\n",
       "      <td>1971</td>\n",
       "      <td>1970</td>\n",
       "      <td>0</td>\n",
       "      <td>[]</td>\n",
       "      <td>[]</td>\n",
       "    </tr>\n",
       "    <tr>\n",
       "      <th>981</th>\n",
       "      <td>[[4703, 5069], [399648, 400002], [400607, 4009...</td>\n",
       "      <td>[[54713, 55079], [57019, 57373], [57528, 57912]]</td>\n",
       "      <td>[Suzanne Keen]</td>\n",
       "      <td>[20020101]</td>\n",
       "      <td>[Area Studies, British Studies, Humanities, La...</td>\n",
       "      <td>10.2307/25058582</td>\n",
       "      <td>9ba1486f-92e1-3a4b-8283-a1746a5019b9</td>\n",
       "      <td>[victlitcult]</td>\n",
       "      <td>None</td>\n",
       "      <td>[eng]</td>\n",
       "      <td>...</td>\n",
       "      <td>&lt;cite&gt;Victorian Literature and Culture&lt;/cite&gt;,...</td>\n",
       "      <td>[Quaker Dress, Sexuality, and the Domesticatio...</td>\n",
       "      <td>[Dresses, Flattery, Masquerades, Abolitionism,...</td>\n",
       "      <td>fla</td>\n",
       "      <td>[30]</td>\n",
       "      <td>2002</td>\n",
       "      <td>2000</td>\n",
       "      <td>188</td>\n",
       "      <td>[([4703, 5069], 61), ([399648, 400002], 59), (...</td>\n",
       "      <td>[78, 74, 87]</td>\n",
       "    </tr>\n",
       "    <tr>\n",
       "      <th>982</th>\n",
       "      <td>[]</td>\n",
       "      <td>[]</td>\n",
       "      <td>[Felicia Bonaparte]</td>\n",
       "      <td>[20020401]</td>\n",
       "      <td>[Classical Studies, Humanities]</td>\n",
       "      <td>10.2307/30224254</td>\n",
       "      <td>069efce4-0942-3b76-a91d-679b10a15551</td>\n",
       "      <td>[intjclasstrad]</td>\n",
       "      <td>None</td>\n",
       "      <td>[eng]</td>\n",
       "      <td>...</td>\n",
       "      <td>&lt;cite&gt;International Journal of the Classical T...</td>\n",
       "      <td>[Ancient Paradigms, Modern Texts: Classical Ke...</td>\n",
       "      <td>[Deities, Idealism, Resurrection, Aristocracy,...</td>\n",
       "      <td>brv</td>\n",
       "      <td>[8]</td>\n",
       "      <td>2002</td>\n",
       "      <td>2000</td>\n",
       "      <td>0</td>\n",
       "      <td>[]</td>\n",
       "      <td>[]</td>\n",
       "    </tr>\n",
       "    <tr>\n",
       "      <th>983</th>\n",
       "      <td>[]</td>\n",
       "      <td>[]</td>\n",
       "      <td>[Imogen Dickie]</td>\n",
       "      <td>[20100701]</td>\n",
       "      <td>[Philosophy, Humanities]</td>\n",
       "      <td>10.2307/40660451</td>\n",
       "      <td>6157bff1-ed41-3941-9177-d638f2b2478f</td>\n",
       "      <td>[philquar]</td>\n",
       "      <td>The Philosophical Quarterly (1950-)</td>\n",
       "      <td>[eng]</td>\n",
       "      <td>...</td>\n",
       "      <td>&lt;cite&gt;The Philosophical Quarterly (1950-)&lt;/cit...</td>\n",
       "      <td>[THE GENERALITY OF PARTICULAR THOUGHT]</td>\n",
       "      <td>[Ascriptions, Intuition, Causation, Instantiat...</td>\n",
       "      <td>fla</td>\n",
       "      <td>[60]</td>\n",
       "      <td>2010</td>\n",
       "      <td>2010</td>\n",
       "      <td>0</td>\n",
       "      <td>[]</td>\n",
       "      <td>[]</td>\n",
       "    </tr>\n",
       "    <tr>\n",
       "      <th>984</th>\n",
       "      <td>[]</td>\n",
       "      <td>[]</td>\n",
       "      <td>[Mathilde Parlett]</td>\n",
       "      <td>[19330101]</td>\n",
       "      <td>[Language &amp; Literature, Humanities]</td>\n",
       "      <td>10.2307/4172196</td>\n",
       "      <td>17466465-a3fe-3ad1-ac30-8bedbc136e38</td>\n",
       "      <td>[studphil]</td>\n",
       "      <td>Studies in Philology</td>\n",
       "      <td>[eng]</td>\n",
       "      <td>...</td>\n",
       "      <td>&lt;cite&gt;Studies in Philology&lt;/cite&gt;, Vol. 30, No...</td>\n",
       "      <td>[The Influence of Contemporary Criticism on Ge...</td>\n",
       "      <td>[Literary criticism, Magazines, Virtuosos, Mel...</td>\n",
       "      <td>fla</td>\n",
       "      <td>[30]</td>\n",
       "      <td>1933</td>\n",
       "      <td>1930</td>\n",
       "      <td>0</td>\n",
       "      <td>[]</td>\n",
       "      <td>[]</td>\n",
       "    </tr>\n",
       "    <tr>\n",
       "      <th>985</th>\n",
       "      <td>[]</td>\n",
       "      <td>[]</td>\n",
       "      <td>[ROBERT MACFARLANE]</td>\n",
       "      <td>[20020901]</td>\n",
       "      <td>[Language &amp; Literature, Humanities]</td>\n",
       "      <td>10.2307/42827746</td>\n",
       "      <td>a098d218-e020-330d-9169-5620bde2b51c</td>\n",
       "      <td>[georelioghlstud]</td>\n",
       "      <td>George Eliot - George Henry Lewes Studies</td>\n",
       "      <td>[eng]</td>\n",
       "      <td>...</td>\n",
       "      <td>&lt;cite&gt;George Eliot - George Henry Lewes Studie...</td>\n",
       "      <td>[A SMALL SQUEALING BLACK PIG: GEORGE ELIOT, OR...</td>\n",
       "      <td>[Originality, Satire, Genius, Anthologies, Hum...</td>\n",
       "      <td>fla</td>\n",
       "      <td>None</td>\n",
       "      <td>2002</td>\n",
       "      <td>2000</td>\n",
       "      <td>0</td>\n",
       "      <td>[]</td>\n",
       "      <td>[]</td>\n",
       "    </tr>\n",
       "    <tr>\n",
       "      <th>986</th>\n",
       "      <td>[[699548, 700007], [700015, 700212], [1251432,...</td>\n",
       "      <td>[[24151, 24609], [24812, 25009], [31305, 31414...</td>\n",
       "      <td>[ROBERT COLES]</td>\n",
       "      <td>[19990101, 19990101]</td>\n",
       "      <td>[Psychology]</td>\n",
       "      <td>10.2307/j.ctt7smvq.5</td>\n",
       "      <td>44f8431a-38aa-3417-a4d6-af5a557f6e5c</td>\n",
       "      <td>None</td>\n",
       "      <td>None</td>\n",
       "      <td>[eng]</td>\n",
       "      <td>...</td>\n",
       "      <td>None</td>\n",
       "      <td>[The Secular Mind, Where We Stood:, 1900]</td>\n",
       "      <td>[Pity, Psychoanalysts, Irony, Snobbery, Clergy...</td>\n",
       "      <td>mis</td>\n",
       "      <td>None</td>\n",
       "      <td>1999</td>\n",
       "      <td>1990</td>\n",
       "      <td>193</td>\n",
       "      <td>[([699548, 700007], 77), ([700015, 700212], 32...</td>\n",
       "      <td>[91, 36, 19, 79]</td>\n",
       "    </tr>\n",
       "    <tr>\n",
       "      <th>987</th>\n",
       "      <td>[]</td>\n",
       "      <td>[]</td>\n",
       "      <td>None</td>\n",
       "      <td>[20150501]</td>\n",
       "      <td>[Language &amp; Literature, Humanities]</td>\n",
       "      <td>10.1525/rep.2015.130.1.toc</td>\n",
       "      <td>5c266378-dec6-36a7-a7bf-8f4dbab15a2b</td>\n",
       "      <td>[representations]</td>\n",
       "      <td>Representations</td>\n",
       "      <td>[en]</td>\n",
       "      <td>...</td>\n",
       "      <td>&lt;cite&gt;Representations&lt;/cite&gt;, Vol. 130, No. 1 ...</td>\n",
       "      <td>[Table of Contents]</td>\n",
       "      <td>None</td>\n",
       "      <td>mis</td>\n",
       "      <td>[130]</td>\n",
       "      <td>2015</td>\n",
       "      <td>2010</td>\n",
       "      <td>0</td>\n",
       "      <td>[]</td>\n",
       "      <td>[]</td>\n",
       "    </tr>\n",
       "    <tr>\n",
       "      <th>988</th>\n",
       "      <td>[]</td>\n",
       "      <td>[]</td>\n",
       "      <td>None</td>\n",
       "      <td>[20150501]</td>\n",
       "      <td>[Language &amp; Literature, Humanities]</td>\n",
       "      <td>10.1525/rep.2015.130.1.cover</td>\n",
       "      <td>b5300c3c-2e77-343c-a817-ffb7a29d6782</td>\n",
       "      <td>[representations]</td>\n",
       "      <td>Representations</td>\n",
       "      <td>[en]</td>\n",
       "      <td>...</td>\n",
       "      <td>&lt;cite&gt;Representations&lt;/cite&gt;, Vol. 130, No. 1 ...</td>\n",
       "      <td>[Cover]</td>\n",
       "      <td>None</td>\n",
       "      <td>mis</td>\n",
       "      <td>[130]</td>\n",
       "      <td>2015</td>\n",
       "      <td>2010</td>\n",
       "      <td>0</td>\n",
       "      <td>[]</td>\n",
       "      <td>[]</td>\n",
       "    </tr>\n",
       "    <tr>\n",
       "      <th>989</th>\n",
       "      <td>[]</td>\n",
       "      <td>[]</td>\n",
       "      <td>None</td>\n",
       "      <td>[19761001]</td>\n",
       "      <td>[Humanities, Language &amp; Literature]</td>\n",
       "      <td>10.2307/27793970</td>\n",
       "      <td>e38aa386-74c8-30e4-81e7-5fd034ec412d</td>\n",
       "      <td>[newvicstuaswc]</td>\n",
       "      <td>None</td>\n",
       "      <td>[eng]</td>\n",
       "      <td>...</td>\n",
       "      <td>&lt;cite&gt;Newsletter of the Victorian Studies Asso...</td>\n",
       "      <td>[Front Matter]</td>\n",
       "      <td>None</td>\n",
       "      <td>mis</td>\n",
       "      <td>[3]</td>\n",
       "      <td>1976</td>\n",
       "      <td>1970</td>\n",
       "      <td>0</td>\n",
       "      <td>[]</td>\n",
       "      <td>[]</td>\n",
       "    </tr>\n",
       "    <tr>\n",
       "      <th>99</th>\n",
       "      <td>[[8751, 9304]]</td>\n",
       "      <td>[[21405, 21958]]</td>\n",
       "      <td>[Kathleen McCormick]</td>\n",
       "      <td>[19860701]</td>\n",
       "      <td>[Language &amp; Literature, British Studies, Area ...</td>\n",
       "      <td>10.2307/20082202</td>\n",
       "      <td>0be326f2-8bd3-3482-84aa-9b24253defad</td>\n",
       "      <td>[victperiodrev]</td>\n",
       "      <td>Victorian Periodicals Review</td>\n",
       "      <td>[eng]</td>\n",
       "      <td>...</td>\n",
       "      <td>&lt;cite&gt;Victorian Periodicals Review&lt;/cite&gt;, Vol...</td>\n",
       "      <td>[George Eliot's Earliest Prose: The Coventry \"...</td>\n",
       "      <td>[Testimonials, Mesmerism, Novelists, Princesse...</td>\n",
       "      <td>fla</td>\n",
       "      <td>[19]</td>\n",
       "      <td>1986</td>\n",
       "      <td>1980</td>\n",
       "      <td>99</td>\n",
       "      <td>[([8751, 9304], 99)]</td>\n",
       "      <td>[116]</td>\n",
       "    </tr>\n",
       "    <tr>\n",
       "      <th>990</th>\n",
       "      <td>[]</td>\n",
       "      <td>[]</td>\n",
       "      <td>[JEROME MECKIER]</td>\n",
       "      <td>[19870101, 19870101]</td>\n",
       "      <td>[Language &amp; Literature]</td>\n",
       "      <td>10.2307/j.ctt130hv1q.2</td>\n",
       "      <td>2549ba6b-d67a-34c5-b357-58e325f38457</td>\n",
       "      <td>None</td>\n",
       "      <td>None</td>\n",
       "      <td>[eng]</td>\n",
       "      <td>...</td>\n",
       "      <td>None</td>\n",
       "      <td>[Hidden Rivalries in Victorian Fiction, Dicken...</td>\n",
       "      <td>None</td>\n",
       "      <td>mis</td>\n",
       "      <td>None</td>\n",
       "      <td>1987</td>\n",
       "      <td>1980</td>\n",
       "      <td>0</td>\n",
       "      <td>[]</td>\n",
       "      <td>[]</td>\n",
       "    </tr>\n",
       "    <tr>\n",
       "      <th>991</th>\n",
       "      <td>[]</td>\n",
       "      <td>[]</td>\n",
       "      <td>[Michael John DiSanto]</td>\n",
       "      <td>[20090101, 20090101]</td>\n",
       "      <td>[Language &amp; Literature]</td>\n",
       "      <td>10.2307/j.ctt8142m.2</td>\n",
       "      <td>630755e5-e908-3bc4-bfa4-c50387d756b8</td>\n",
       "      <td>None</td>\n",
       "      <td>None</td>\n",
       "      <td>[eng]</td>\n",
       "      <td>...</td>\n",
       "      <td>None</td>\n",
       "      <td>[Under Conrad's Eyes, The Novel as Criticism, ...</td>\n",
       "      <td>None</td>\n",
       "      <td>mis</td>\n",
       "      <td>None</td>\n",
       "      <td>2009</td>\n",
       "      <td>2000</td>\n",
       "      <td>0</td>\n",
       "      <td>[]</td>\n",
       "      <td>[]</td>\n",
       "    </tr>\n",
       "    <tr>\n",
       "      <th>992</th>\n",
       "      <td>[]</td>\n",
       "      <td>[]</td>\n",
       "      <td>[PATRICIA McKEE]</td>\n",
       "      <td>[19860101, 19860101]</td>\n",
       "      <td>[Language &amp; Literature]</td>\n",
       "      <td>10.2307/j.ctt7zvvkq.2</td>\n",
       "      <td>f7741fc0-7a09-3db0-a204-7a8463c3670a</td>\n",
       "      <td>None</td>\n",
       "      <td>None</td>\n",
       "      <td>[eng]</td>\n",
       "      <td>...</td>\n",
       "      <td>None</td>\n",
       "      <td>[Heroic Commitment in Richardson, Eliot, and J...</td>\n",
       "      <td>None</td>\n",
       "      <td>mis</td>\n",
       "      <td>None</td>\n",
       "      <td>1986</td>\n",
       "      <td>1980</td>\n",
       "      <td>0</td>\n",
       "      <td>[]</td>\n",
       "      <td>[]</td>\n",
       "    </tr>\n",
       "    <tr>\n",
       "      <th>993</th>\n",
       "      <td>[]</td>\n",
       "      <td>[]</td>\n",
       "      <td>[Peggy Fitzhugh Johnstone]</td>\n",
       "      <td>[19940101, 19940101]</td>\n",
       "      <td>[Language &amp; Literature]</td>\n",
       "      <td>10.2307/j.ctt9qgbpx.2</td>\n",
       "      <td>d21953ab-3bd2-3f03-8c38-fbc9ba446b59</td>\n",
       "      <td>None</td>\n",
       "      <td>None</td>\n",
       "      <td>[eng]</td>\n",
       "      <td>...</td>\n",
       "      <td>None</td>\n",
       "      <td>[Transformation of Rage, Mourning and Creativi...</td>\n",
       "      <td>None</td>\n",
       "      <td>mis</td>\n",
       "      <td>None</td>\n",
       "      <td>1994</td>\n",
       "      <td>1990</td>\n",
       "      <td>0</td>\n",
       "      <td>[]</td>\n",
       "      <td>[]</td>\n",
       "    </tr>\n",
       "    <tr>\n",
       "      <th>994</th>\n",
       "      <td>[]</td>\n",
       "      <td>[]</td>\n",
       "      <td>[Lawrence Rothfield]</td>\n",
       "      <td>[19920101, 19920101]</td>\n",
       "      <td>[Language &amp; Literature]</td>\n",
       "      <td>10.2307/j.ctt7t2kw.2</td>\n",
       "      <td>4a98427f-8e30-3746-81e9-2a08a3ca3b05</td>\n",
       "      <td>None</td>\n",
       "      <td>None</td>\n",
       "      <td>[eng]</td>\n",
       "      <td>...</td>\n",
       "      <td>None</td>\n",
       "      <td>[Vital Signs, Medical Realism in Nineteenth-Ce...</td>\n",
       "      <td>None</td>\n",
       "      <td>mis</td>\n",
       "      <td>None</td>\n",
       "      <td>1992</td>\n",
       "      <td>1990</td>\n",
       "      <td>0</td>\n",
       "      <td>[]</td>\n",
       "      <td>[]</td>\n",
       "    </tr>\n",
       "    <tr>\n",
       "      <th>995</th>\n",
       "      <td>[]</td>\n",
       "      <td>[]</td>\n",
       "      <td>[MARJORIE GARSON]</td>\n",
       "      <td>[20070101, 20070101]</td>\n",
       "      <td>[Language &amp; Literature]</td>\n",
       "      <td>10.3138/9781442684621.2</td>\n",
       "      <td>324e5766-8b19-3b7a-bc38-aa316b362c1e</td>\n",
       "      <td>None</td>\n",
       "      <td>None</td>\n",
       "      <td>[eng]</td>\n",
       "      <td>...</td>\n",
       "      <td>None</td>\n",
       "      <td>[Moral Taste, Aesthetics, Subjectivity, and So...</td>\n",
       "      <td>None</td>\n",
       "      <td>mis</td>\n",
       "      <td>None</td>\n",
       "      <td>2007</td>\n",
       "      <td>2000</td>\n",
       "      <td>0</td>\n",
       "      <td>[]</td>\n",
       "      <td>[]</td>\n",
       "    </tr>\n",
       "    <tr>\n",
       "      <th>996</th>\n",
       "      <td>[[56, 466], [544, 776], [926, 1819], [1831, 25...</td>\n",
       "      <td>[[65593, 66002], [66112, 66336], [66360, 67247...</td>\n",
       "      <td>[Richard C. Allen]</td>\n",
       "      <td>[19930401]</td>\n",
       "      <td>[Religion, Philosophy, Humanities]</td>\n",
       "      <td>10.2307/40018143</td>\n",
       "      <td>75daf1de-7f73-37a4-a8e1-14a444c757d8</td>\n",
       "      <td>[jreliethi]</td>\n",
       "      <td>The Journal of Religious Ethics</td>\n",
       "      <td>[eng]</td>\n",
       "      <td>...</td>\n",
       "      <td>&lt;cite&gt;The Journal of Religious Ethics&lt;/cite&gt;, ...</td>\n",
       "      <td>[When Narrative Fails]</td>\n",
       "      <td>[Pity, Love, Spiritual love, Labyrinths, Idola...</td>\n",
       "      <td>fla</td>\n",
       "      <td>[21]</td>\n",
       "      <td>1993</td>\n",
       "      <td>1990</td>\n",
       "      <td>1629</td>\n",
       "      <td>[([56, 466], 72), ([544, 776], 37), ([926, 181...</td>\n",
       "      <td>[90, 50, 178, 143, 42, 34, 93, 56, 30, 71, 49,...</td>\n",
       "    </tr>\n",
       "    <tr>\n",
       "      <th>997</th>\n",
       "      <td>[]</td>\n",
       "      <td>[]</td>\n",
       "      <td>[JEROME MECKIER]</td>\n",
       "      <td>[19870101, 19870101]</td>\n",
       "      <td>[Language &amp; Literature]</td>\n",
       "      <td>10.2307/j.ctt130hv1q.11</td>\n",
       "      <td>8d21a143-db63-3b4f-9e70-02c4d480a763</td>\n",
       "      <td>None</td>\n",
       "      <td>None</td>\n",
       "      <td>[eng]</td>\n",
       "      <td>...</td>\n",
       "      <td>None</td>\n",
       "      <td>[Hidden Rivalries in Victorian Fiction, Dicken...</td>\n",
       "      <td>[Riots, Satire, Adultery, Sensationalism, Paro...</td>\n",
       "      <td>mis</td>\n",
       "      <td>None</td>\n",
       "      <td>1987</td>\n",
       "      <td>1980</td>\n",
       "      <td>0</td>\n",
       "      <td>[]</td>\n",
       "      <td>[]</td>\n",
       "    </tr>\n",
       "    <tr>\n",
       "      <th>998</th>\n",
       "      <td>[[309151, 309249], [345201, 346047], [1073151,...</td>\n",
       "      <td>[[77466, 77565], [78014, 78859], [80141, 80499...</td>\n",
       "      <td>[Michael S. Kearns]</td>\n",
       "      <td>[19870101, 19870101]</td>\n",
       "      <td>[Language &amp; Literature, Psychology]</td>\n",
       "      <td>10.2307/j.ctt130hmz9.9</td>\n",
       "      <td>5c6ffc20-0fe3-3ea6-a6d7-10c7e87df3f7</td>\n",
       "      <td>None</td>\n",
       "      <td>None</td>\n",
       "      <td>[eng]</td>\n",
       "      <td>...</td>\n",
       "      <td>None</td>\n",
       "      <td>[Metaphors of Mind in Fiction and Psychology, ...</td>\n",
       "      <td>[Similes, Love, Maids, Literary epigraphs, Mod...</td>\n",
       "      <td>mis</td>\n",
       "      <td>None</td>\n",
       "      <td>1987</td>\n",
       "      <td>1980</td>\n",
       "      <td>504</td>\n",
       "      <td>[([309151, 309249], 15), ([345201, 346047], 13...</td>\n",
       "      <td>[18, 160, 78, 26, 35, 18, 39, 36, 30, 56, 40, ...</td>\n",
       "    </tr>\n",
       "    <tr>\n",
       "      <th>999</th>\n",
       "      <td>[[33978, 34098], [149255, 149447], [432620, 43...</td>\n",
       "      <td>[[64781, 64901], [65427, 65623], [66340, 66433]]</td>\n",
       "      <td>[SUZY ANGER]</td>\n",
       "      <td>[20050101, 20050101]</td>\n",
       "      <td>[Language &amp; Literature]</td>\n",
       "      <td>10.7591/j.ctt7zdwk.9</td>\n",
       "      <td>afc56aa5-c168-320a-9cd3-e39a52e4019f</td>\n",
       "      <td>None</td>\n",
       "      <td>None</td>\n",
       "      <td>[eng]</td>\n",
       "      <td>...</td>\n",
       "      <td>None</td>\n",
       "      <td>[Victorian Interpretation, George Eliot’s Herm...</td>\n",
       "      <td>[Sympathy, Masochism, Antirealism, Subjectivis...</td>\n",
       "      <td>mis</td>\n",
       "      <td>None</td>\n",
       "      <td>2005</td>\n",
       "      <td>2000</td>\n",
       "      <td>61</td>\n",
       "      <td>[([33978, 34098], 18), ([149255, 149447], 29),...</td>\n",
       "      <td>[19, 34, 16]</td>\n",
       "    </tr>\n",
       "  </tbody>\n",
       "</table>\n",
       "<p>6069 rows × 25 columns</p>\n",
       "</div>"
      ],
      "text/plain": [
       "                                         Locations in A  \\\n",
       "0     [[5809, 6218], [8751, 9046], [57013, 57100], [...   \n",
       "1                                                    []   \n",
       "10    [[3790, 4078], [4098, 4481], [4703, 4850], [48...   \n",
       "100   [[196544, 196618], [723896, 724025], [1192663,...   \n",
       "1000               [[889570, 889643], [913852, 914721]]   \n",
       "1001                                                 []   \n",
       "1002                                                 []   \n",
       "1003                                                 []   \n",
       "1004                                                 []   \n",
       "1005                                                 []   \n",
       "1006                                                 []   \n",
       "1007                                                 []   \n",
       "1008                       [[8450, 8912], [8932, 9540]]   \n",
       "1009                                                 []   \n",
       "101                [[398100, 398621], [453721, 453952]]   \n",
       "1010                                                 []   \n",
       "1011                                                 []   \n",
       "1012  [[87217, 87450], [125587, 125846], [126848, 12...   \n",
       "1013                                                 []   \n",
       "1014                                                 []   \n",
       "1015                                                 []   \n",
       "1016  [[129117, 129300], [131047, 131215], [212301, ...   \n",
       "1017                                                 []   \n",
       "1018                                 [[299392, 299515]]   \n",
       "1019           [[1327580, 1327704], [1689907, 1690043]]   \n",
       "102   [[880, 1123], [2834, 3048], [84024, 84113], [1...   \n",
       "1020                                                 []   \n",
       "1021                                 [[908844, 909620]]   \n",
       "1022                                                 []   \n",
       "1023                                                 []   \n",
       "...                                                 ...   \n",
       "972                                                  []   \n",
       "973                                  [[485698, 485803]]   \n",
       "974   [[591198, 591288], [593775, 593957], [596318, ...   \n",
       "975   [[167756, 168484], [1704719, 1704831], [174070...   \n",
       "976   [[476673, 476960], [477057, 477360], [477387, ...   \n",
       "977                                                  []   \n",
       "978                                                  []   \n",
       "979                                                  []   \n",
       "98    [[344503, 344850], [345111, 346047], [449670, ...   \n",
       "980                                                  []   \n",
       "981   [[4703, 5069], [399648, 400002], [400607, 4009...   \n",
       "982                                                  []   \n",
       "983                                                  []   \n",
       "984                                                  []   \n",
       "985                                                  []   \n",
       "986   [[699548, 700007], [700015, 700212], [1251432,...   \n",
       "987                                                  []   \n",
       "988                                                  []   \n",
       "989                                                  []   \n",
       "99                                       [[8751, 9304]]   \n",
       "990                                                  []   \n",
       "991                                                  []   \n",
       "992                                                  []   \n",
       "993                                                  []   \n",
       "994                                                  []   \n",
       "995                                                  []   \n",
       "996   [[56, 466], [544, 776], [926, 1819], [1831, 25...   \n",
       "997                                                  []   \n",
       "998   [[309151, 309249], [345201, 346047], [1073151,...   \n",
       "999   [[33978, 34098], [149255, 149447], [432620, 43...   \n",
       "\n",
       "                                         Locations in B  \\\n",
       "0     [[10456, 10865], [10994, 11737], [12404, 12491...   \n",
       "1                                                    []   \n",
       "10    [[13743, 14039], [14059, 14446], [14454, 14606...   \n",
       "100      [[5478, 5552], [12393, 12522], [13904, 14104]]   \n",
       "1000                   [[19202, 19271], [19411, 20275]]   \n",
       "1001                                                 []   \n",
       "1002                                                 []   \n",
       "1003                                                 []   \n",
       "1004                                                 []   \n",
       "1005                                                 []   \n",
       "1006                                                 []   \n",
       "1007                                                 []   \n",
       "1008                   [[17523, 17992], [18036, 18653]]   \n",
       "1009                                                 []   \n",
       "101                    [[10683, 11202], [20465, 20696]]   \n",
       "1010                                                 []   \n",
       "1011                                                 []   \n",
       "1012  [[7516, 7752], [20714, 20973], [20993, 21197],...   \n",
       "1013                                                 []   \n",
       "1014                                                 []   \n",
       "1015                                                 []   \n",
       "1016  [[11906, 12086], [15681, 15849], [18255, 18368...   \n",
       "1017                                                 []   \n",
       "1018                                   [[18090, 18212]]   \n",
       "1019                   [[33153, 33277], [33782, 33918]]   \n",
       "102   [[37436, 37679], [38421, 38636], [40147, 40235...   \n",
       "1020                                                 []   \n",
       "1021                                   [[26283, 27058]]   \n",
       "1022                                                 []   \n",
       "1023                                                 []   \n",
       "...                                                 ...   \n",
       "972                                                  []   \n",
       "973                                      [[9291, 9396]]   \n",
       "974   [[13195, 13284], [16232, 16414], [17399, 17848...   \n",
       "975   [[28292, 29071], [33145, 33259], [33687, 33769...   \n",
       "976          [[7401, 7688], [7785, 8081], [8107, 8209]]   \n",
       "977                                                  []   \n",
       "978                                                  []   \n",
       "979                                                  []   \n",
       "98    [[13206, 13552], [13563, 14497], [28196, 28768...   \n",
       "980                                                  []   \n",
       "981    [[54713, 55079], [57019, 57373], [57528, 57912]]   \n",
       "982                                                  []   \n",
       "983                                                  []   \n",
       "984                                                  []   \n",
       "985                                                  []   \n",
       "986   [[24151, 24609], [24812, 25009], [31305, 31414...   \n",
       "987                                                  []   \n",
       "988                                                  []   \n",
       "989                                                  []   \n",
       "99                                     [[21405, 21958]]   \n",
       "990                                                  []   \n",
       "991                                                  []   \n",
       "992                                                  []   \n",
       "993                                                  []   \n",
       "994                                                  []   \n",
       "995                                                  []   \n",
       "996   [[65593, 66002], [66112, 66336], [66360, 67247...   \n",
       "997                                                  []   \n",
       "998   [[77466, 77565], [78014, 78859], [80141, 80499...   \n",
       "999    [[64781, 64901], [65427, 65623], [66340, 66433]]   \n",
       "\n",
       "                                                 author             coverdate  \\\n",
       "0                               [Harriet Farwell Adams]            [19840601]   \n",
       "1                                      [HUGH WITEMEYER]            [19910901]   \n",
       "10                                        [Alan Palmer]            [20051201]   \n",
       "100                                  [Richard S. Lyons]            [19660601]   \n",
       "1000                                     [Carol Christ]            [19760101]   \n",
       "1001  [Anthony Haynes, Samantha Nicholls, Lisa Sulli...            [19931201]   \n",
       "1002                                    [Gary K. Wolfe]            [20020101]   \n",
       "1003                                      [Susan Walsh]            [19980101]   \n",
       "1004                                      [Leona Toker]            [20040101]   \n",
       "1005                               [Geoffrey Tillotson]  [19561001, 19561001]   \n",
       "1006                                  [Stephen J. Burn]            [20080701]   \n",
       "1007                                [Elizabeth Ermarth]            [19741201]   \n",
       "1008                                [Wendell V. Harris]            [19900701]   \n",
       "1009                               [ELIZABETH LANGLAND]            [19871001]   \n",
       "101                                    [Hugh Witemeyer]            [19741201]   \n",
       "1010                                   [HUGH WITEMEYER]            [19830401]   \n",
       "1011                                 [Judith L. Fisher]            [19980101]   \n",
       "1012                                        [R. Fowler]  [19830401, 19830401]   \n",
       "1013                                       [Roger Sale]  [19731201, 19731201]   \n",
       "1014             [DARREL MANSELL, <suffix>JR.</suffix>]            [19650701]   \n",
       "1015                                [M. MELISSA ELSTON]            [20120901]   \n",
       "1016                                      [D. J. Smith]            [19630701]   \n",
       "1017                              [Hannelore Schlaffer]            [20050101]   \n",
       "1018                                     [Carol Peirce]            [19871201]   \n",
       "1019                                     [T. R. Wright]            [19820201]   \n",
       "102                                    [Michael Tondre]            [20120901]   \n",
       "1020                               [Edgar W. Hirshberg]            [19670901]   \n",
       "1021                                     [KARL KROEBER]  [19710101, 19710101]   \n",
       "1022                              [Susanna De Schepper]  [20090101, 20090101]   \n",
       "1023                                  [Royce Mahawatte]  [20130101, 20130101]   \n",
       "...                                                 ...                   ...   \n",
       "972                                      [SIMON CALDER]  [20120101, 20120101]   \n",
       "973                                     [Daniel Cottom]  [19870101, 19870101]   \n",
       "974                                     [W. DAVID SHAW]  [20090101, 20090101]   \n",
       "975                                     [Edward Dramin]            [19980101]   \n",
       "976                                   [Charles LaPorte]  [20110101, 20110101]   \n",
       "977                                         [Erik Gray]  [20090101, 20090101]   \n",
       "978                                     [Stephen Innes]  [19830101, 19830101]   \n",
       "979                                                None            [18730401]   \n",
       "98                                 [Rosemary D. Ashton]            [19790501]   \n",
       "980                                      [KARL KROEBER]  [19710101, 19710101]   \n",
       "981                                      [Suzanne Keen]            [20020101]   \n",
       "982                                 [Felicia Bonaparte]            [20020401]   \n",
       "983                                     [Imogen Dickie]            [20100701]   \n",
       "984                                  [Mathilde Parlett]            [19330101]   \n",
       "985                                 [ROBERT MACFARLANE]            [20020901]   \n",
       "986                                      [ROBERT COLES]  [19990101, 19990101]   \n",
       "987                                                None            [20150501]   \n",
       "988                                                None            [20150501]   \n",
       "989                                                None            [19761001]   \n",
       "99                                 [Kathleen McCormick]            [19860701]   \n",
       "990                                    [JEROME MECKIER]  [19870101, 19870101]   \n",
       "991                              [Michael John DiSanto]  [20090101, 20090101]   \n",
       "992                                    [PATRICIA McKEE]  [19860101, 19860101]   \n",
       "993                          [Peggy Fitzhugh Johnstone]  [19940101, 19940101]   \n",
       "994                                [Lawrence Rothfield]  [19920101, 19920101]   \n",
       "995                                   [MARJORIE GARSON]  [20070101, 20070101]   \n",
       "996                                  [Richard C. Allen]            [19930401]   \n",
       "997                                    [JEROME MECKIER]  [19870101, 19870101]   \n",
       "998                                 [Michael S. Kearns]  [19870101, 19870101]   \n",
       "999                                        [SUZY ANGER]  [20050101, 20050101]   \n",
       "\n",
       "                                              disc_name  \\\n",
       "0                   [Language & Literature, Humanities]   \n",
       "1                   [Language & Literature, Humanities]   \n",
       "10                  [Language & Literature, Humanities]   \n",
       "100                 [Language & Literature, Humanities]   \n",
       "1000                [Language & Literature, Humanities]   \n",
       "1001                       [Education, Social Sciences]   \n",
       "1002                [Language & Literature, Humanities]   \n",
       "1003  [Area Studies, British Studies, Humanities, La...   \n",
       "1004  [Area Studies, British Studies, Humanities, La...   \n",
       "1005                [Language & Literature, Humanities]   \n",
       "1006                [Language & Literature, Humanities]   \n",
       "1007                [Language & Literature, Humanities]   \n",
       "1008                [Language & Literature, Humanities]   \n",
       "1009                [Language & Literature, Humanities]   \n",
       "101   [Language & Literature, History, British Studi...   \n",
       "1010                [Language & Literature, Humanities]   \n",
       "1011  [Language & Literature, Bibliography, Humanities]   \n",
       "1012                    [Classical Studies, Humanities]   \n",
       "1013                [Language & Literature, Humanities]   \n",
       "1014                [Humanities, Language & Literature]   \n",
       "1015                [Language & Literature, Humanities]   \n",
       "1016                [Humanities, Language & Literature]   \n",
       "1017                [Language & Literature, Humanities]   \n",
       "1018                [Language & Literature, Humanities]   \n",
       "1019                [Language & Literature, Humanities]   \n",
       "102                 [Language & Literature, Humanities]   \n",
       "1020  [Education, Humanities, Language & Literature,...   \n",
       "1021                            [Language & Literature]   \n",
       "1022                            [Language & Literature]   \n",
       "1023                            [Language & Literature]   \n",
       "...                                                 ...   \n",
       "972                                        [Philosophy]   \n",
       "973                             [Language & Literature]   \n",
       "974                             [Language & Literature]   \n",
       "975   [Area Studies, British Studies, Humanities, La...   \n",
       "976                             [Language & Literature]   \n",
       "977                             [Language & Literature]   \n",
       "978                                         [Economics]   \n",
       "979                 [Humanities, Language & Literature]   \n",
       "98                  [Language & Literature, Humanities]   \n",
       "980                             [Language & Literature]   \n",
       "981   [Area Studies, British Studies, Humanities, La...   \n",
       "982                     [Classical Studies, Humanities]   \n",
       "983                            [Philosophy, Humanities]   \n",
       "984                 [Language & Literature, Humanities]   \n",
       "985                 [Language & Literature, Humanities]   \n",
       "986                                        [Psychology]   \n",
       "987                 [Language & Literature, Humanities]   \n",
       "988                 [Language & Literature, Humanities]   \n",
       "989                 [Humanities, Language & Literature]   \n",
       "99    [Language & Literature, British Studies, Area ...   \n",
       "990                             [Language & Literature]   \n",
       "991                             [Language & Literature]   \n",
       "992                             [Language & Literature]   \n",
       "993                             [Language & Literature]   \n",
       "994                             [Language & Literature]   \n",
       "995                             [Language & Literature]   \n",
       "996                  [Religion, Philosophy, Humanities]   \n",
       "997                             [Language & Literature]   \n",
       "998                 [Language & Literature, Psychology]   \n",
       "999                             [Language & Literature]   \n",
       "\n",
       "                                           doi  \\\n",
       "0                              10.2307/3044822   \n",
       "1                             10.2307/43470798   \n",
       "10    10.5555/preflight/10.5325/style.39.4.427   \n",
       "100                            10.2307/2932697   \n",
       "1000                           10.2307/1345369   \n",
       "1001                          10.2307/40172817   \n",
       "1002                          10.2307/24516169   \n",
       "1003                          10.2307/25058409   \n",
       "1004                          10.2307/25058686   \n",
       "1005                          10.2307/27538588   \n",
       "1006                          10.2307/27563789   \n",
       "1007                           10.2307/2933170   \n",
       "1008                           10.2307/2873079   \n",
       "1009                          10.2307/29532516   \n",
       "101                            10.2307/3826361   \n",
       "1010                          10.2307/29532204   \n",
       "1011                          10.2307/30227745   \n",
       "1012                           10.2307/3296774   \n",
       "1013                           10.2307/3850694   \n",
       "1014                          10.2307/41938400   \n",
       "1015                          10.2307/42827901   \n",
       "1016                           10.2307/4334358   \n",
       "1017                          10.2307/43028392   \n",
       "1018                            10.2307/441162   \n",
       "1019                            10.2307/513914   \n",
       "102                  10.1525/ncl.2012.67.2.204   \n",
       "1020                            10.2307/812444   \n",
       "1021                   10.2307/j.ctt13x19c2.14   \n",
       "1022                     10.2307/j.ctt9qf1td.8   \n",
       "1023                    10.2307/j.ctt9qhbnv.16   \n",
       "...                                        ...   \n",
       "972                     10.3366/j.ctt3fgqs6.15   \n",
       "973                       10.5749/j.ctttt3h8.9   \n",
       "974                   10.3138/9781442685307.17   \n",
       "975                           10.2307/25058419   \n",
       "976                      10.2307/j.ctt6wrk4h.9   \n",
       "977                       10.7591/j.ctt7zjtb.2   \n",
       "978                      10.2307/j.ctt7zv1mf.5   \n",
       "979                           10.2307/25109744   \n",
       "98                              10.2307/514392   \n",
       "980                     10.2307/j.ctt13x19c2.2   \n",
       "981                           10.2307/25058582   \n",
       "982                           10.2307/30224254   \n",
       "983                           10.2307/40660451   \n",
       "984                            10.2307/4172196   \n",
       "985                           10.2307/42827746   \n",
       "986                       10.2307/j.ctt7smvq.5   \n",
       "987                 10.1525/rep.2015.130.1.toc   \n",
       "988               10.1525/rep.2015.130.1.cover   \n",
       "989                           10.2307/27793970   \n",
       "99                            10.2307/20082202   \n",
       "990                     10.2307/j.ctt130hv1q.2   \n",
       "991                       10.2307/j.ctt8142m.2   \n",
       "992                      10.2307/j.ctt7zvvkq.2   \n",
       "993                      10.2307/j.ctt9qgbpx.2   \n",
       "994                       10.2307/j.ctt7t2kw.2   \n",
       "995                    10.3138/9781442684621.2   \n",
       "996                           10.2307/40018143   \n",
       "997                    10.2307/j.ctt130hv1q.11   \n",
       "998                     10.2307/j.ctt130hmz9.9   \n",
       "999                       10.7591/j.ctt7zdwk.9   \n",
       "\n",
       "                                        id               jcode  \\\n",
       "0     c6e6ce20-79c4-3c59-af91-b06c3208b37b      [ninecentfict]   \n",
       "1     0d7eb58a-e4c1-326b-a195-012da1a4eb11   [georelioghlnews]   \n",
       "10    db849df0-b417-374a-9c15-f6598a29af5a             [style]   \n",
       "100   bc9047a4-dc2a-32a4-ae60-decd1534f45c      [ninecentfict]   \n",
       "1000  a7933616-fe8e-3847-8c8d-f00878f6f724      [noveforufict]   \n",
       "1001  b3dd0df1-f576-37e8-935d-6dafec4461d8        [englishedu]   \n",
       "1002  3b1879f0-a014-3bf0-a2a6-a395e8a60add      [conjunctions]   \n",
       "1003  61bb4a9f-273b-38ad-aeb1-6642de3b45b6       [victlitcult]   \n",
       "1004  393a8431-7f54-3a83-84d2-c93ab6adad0b       [victlitcult]   \n",
       "1005  eb7283d5-b614-3570-89f1-504cacc92638        [sewaneerev]   \n",
       "1006  3ec77992-28ee-3156-9584-45a9727776c1          [contlite]   \n",
       "1007  c5b9c6df-4671-3836-acd8-b57125b4bd22      [ninecentfict]   \n",
       "1008  260e180d-e932-3291-b7f0-ca9ba8a26bf6               [elh]   \n",
       "1009  27628733-c47f-3574-bd98-648d19d38871      [studiesnovel]   \n",
       "101   d742556e-759f-33ce-bed3-786d5f19263d  [victorianstudies]   \n",
       "1010  31086ed2-0665-3c05-b995-c88bba5f34a4      [studiesnovel]   \n",
       "1011  40051158-7a90-384d-9a48-71d37994e0c6              [text]   \n",
       "1012  47050086-b512-3c85-945c-a87251e73d5f        [classicalj]   \n",
       "1013  558baab9-0eb7-394d-88bc-057652c6929f      [hudsonreview]   \n",
       "1014  26db3ac5-10c2-3cde-bcb7-7ad68ff99f5e         [criticism]   \n",
       "1015  d624b4b1-0b45-3ac7-a930-6dc1ca0b895a   [georelioghlstud]   \n",
       "1016  a663d519-d0c6-315e-8918-c16a60e1737a          [kenyrevi]   \n",
       "1017  908d7180-042f-3415-a05b-985f5a3c4c51           [poetica]   \n",
       "1018  a38cce39-641b-3cb8-a0bb-f883086948c8      [twencentlite]   \n",
       "1019  38e21b37-d2bb-3b1e-9813-b0e510820a41      [revienglstud]   \n",
       "102   9835cc43-fbb0-3f29-8296-5d38675ba9cb      [ninecentlite]   \n",
       "1020  1555f9aa-551f-3e5e-9382-c664600bfbdb          [englishj]   \n",
       "1021  61acebba-787d-3ad9-afe8-51d02598347e                None   \n",
       "1022  28fbde9e-0697-3c89-911e-613a2993caf4                None   \n",
       "1023  c4a8f86d-30ad-3b5d-9b65-404cb5c6e626                None   \n",
       "...                                    ...                 ...   \n",
       "972   e5f25660-7fb2-301f-a544-c3bac9065b37                None   \n",
       "973   ea5f9e47-c1a5-39c4-abe5-cc167124c7f3                None   \n",
       "974   22818d55-e380-3640-b912-ff530a8ce72d                None   \n",
       "975   51bbf06d-8979-30a1-9220-cf2c371ceeae       [victlitcult]   \n",
       "976   086dd387-177f-3791-ad47-198f82830e77                None   \n",
       "977   9b8e23cc-72b0-34b0-b426-078445b820aa                None   \n",
       "978   4249681e-8b40-3901-b6cd-27d776b935e6                None   \n",
       "979   69adddaf-4afa-30de-9f49-4b08def73da1       [nortamerrev]   \n",
       "98    a792361f-aecb-331e-b37f-2197571970ab      [revienglstud]   \n",
       "980   2dd5e6f1-21db-37c0-8338-8b69a0ff8d82                None   \n",
       "981   9ba1486f-92e1-3a4b-8283-a1746a5019b9       [victlitcult]   \n",
       "982   069efce4-0942-3b76-a91d-679b10a15551     [intjclasstrad]   \n",
       "983   6157bff1-ed41-3941-9177-d638f2b2478f          [philquar]   \n",
       "984   17466465-a3fe-3ad1-ac30-8bedbc136e38          [studphil]   \n",
       "985   a098d218-e020-330d-9169-5620bde2b51c   [georelioghlstud]   \n",
       "986   44f8431a-38aa-3417-a4d6-af5a557f6e5c                None   \n",
       "987   5c266378-dec6-36a7-a7bf-8f4dbab15a2b   [representations]   \n",
       "988   b5300c3c-2e77-343c-a817-ffb7a29d6782   [representations]   \n",
       "989   e38aa386-74c8-30e4-81e7-5fd034ec412d     [newvicstuaswc]   \n",
       "99    0be326f2-8bd3-3482-84aa-9b24253defad     [victperiodrev]   \n",
       "990   2549ba6b-d67a-34c5-b357-58e325f38457                None   \n",
       "991   630755e5-e908-3bc4-bfa4-c50387d756b8                None   \n",
       "992   f7741fc0-7a09-3db0-a204-7a8463c3670a                None   \n",
       "993   d21953ab-3bd2-3f03-8c38-fbc9ba446b59                None   \n",
       "994   4a98427f-8e30-3746-81e9-2a08a3ca3b05                None   \n",
       "995   324e5766-8b19-3b7a-bc38-aa316b362c1e                None   \n",
       "996   75daf1de-7f73-37a4-a8e1-14a444c757d8         [jreliethi]   \n",
       "997   8d21a143-db63-3b4f-9e70-02c4d480a763                None   \n",
       "998   5c6ffc20-0fe3-3ea6-a6d7-10c7e87df3f7                None   \n",
       "999   afc56aa5-c168-320a-9cd3-e39a52e4019f                None   \n",
       "\n",
       "                                              journal     la  \\\n",
       "0                          Nineteenth-Century Fiction  [eng]   \n",
       "1     The George Eliot, George Henry Lewes Newsletter  [eng]   \n",
       "10                                              Style   [en]   \n",
       "100                        Nineteenth-Century Fiction  [eng]   \n",
       "1000                        NOVEL: A Forum on Fiction  [eng]   \n",
       "1001                                             None  [eng]   \n",
       "1002                                     Conjunctions  [eng]   \n",
       "1003                                             None  [eng]   \n",
       "1004                                             None  [eng]   \n",
       "1005                               The Sewanee Review  [eng]   \n",
       "1006                          Contemporary Literature  [eng]   \n",
       "1007                       Nineteenth-Century Fiction  [eng]   \n",
       "1008                                              ELH  [eng]   \n",
       "1009                             Studies in the Novel  [eng]   \n",
       "101                                 Victorian Studies  [eng]   \n",
       "1010                             Studies in the Novel  [eng]   \n",
       "1011                                             Text  [eng]   \n",
       "1012                                             None  [eng]   \n",
       "1013                                The Hudson Review  [eng]   \n",
       "1014                                             None  [eng]   \n",
       "1015        George Eliot - George Henry Lewes Studies  [eng]   \n",
       "1016                                             None  [eng]   \n",
       "1017                                          Poetica  [ger]   \n",
       "1018                     Twentieth Century Literature  [eng]   \n",
       "1019                    The Review of English Studies  [eng]   \n",
       "102                     Nineteenth-Century Literature  [eng]   \n",
       "1020                                             None  [eng]   \n",
       "1021                                             None  [eng]   \n",
       "1022                                             None  [eng]   \n",
       "1023                                             None  [eng]   \n",
       "...                                               ...    ...   \n",
       "972                                              None  [eng]   \n",
       "973                                              None  [eng]   \n",
       "974                                              None  [eng]   \n",
       "975                                              None  [eng]   \n",
       "976                                              None  [eng]   \n",
       "977                                              None  [eng]   \n",
       "978                                              None  [eng]   \n",
       "979                                              None  [eng]   \n",
       "98                      The Review of English Studies  [eng]   \n",
       "980                                              None  [eng]   \n",
       "981                                              None  [eng]   \n",
       "982                                              None  [eng]   \n",
       "983               The Philosophical Quarterly (1950-)  [eng]   \n",
       "984                              Studies in Philology  [eng]   \n",
       "985         George Eliot - George Henry Lewes Studies  [eng]   \n",
       "986                                              None  [eng]   \n",
       "987                                   Representations   [en]   \n",
       "988                                   Representations   [en]   \n",
       "989                                              None  [eng]   \n",
       "99                       Victorian Periodicals Review  [eng]   \n",
       "990                                              None  [eng]   \n",
       "991                                              None  [eng]   \n",
       "992                                              None  [eng]   \n",
       "993                                              None  [eng]   \n",
       "994                                              None  [eng]   \n",
       "995                                              None  [eng]   \n",
       "996                   The Journal of Religious Ethics  [eng]   \n",
       "997                                              None  [eng]   \n",
       "998                                              None  [eng]   \n",
       "999                                              None  [eng]   \n",
       "\n",
       "                            ...                          \\\n",
       "0                           ...                           \n",
       "1                           ...                           \n",
       "10                          ...                           \n",
       "100                         ...                           \n",
       "1000                        ...                           \n",
       "1001                        ...                           \n",
       "1002                        ...                           \n",
       "1003                        ...                           \n",
       "1004                        ...                           \n",
       "1005                        ...                           \n",
       "1006                        ...                           \n",
       "1007                        ...                           \n",
       "1008                        ...                           \n",
       "1009                        ...                           \n",
       "101                         ...                           \n",
       "1010                        ...                           \n",
       "1011                        ...                           \n",
       "1012                        ...                           \n",
       "1013                        ...                           \n",
       "1014                        ...                           \n",
       "1015                        ...                           \n",
       "1016                        ...                           \n",
       "1017                        ...                           \n",
       "1018                        ...                           \n",
       "1019                        ...                           \n",
       "102                         ...                           \n",
       "1020                        ...                           \n",
       "1021                        ...                           \n",
       "1022                        ...                           \n",
       "1023                        ...                           \n",
       "...                         ...                           \n",
       "972                         ...                           \n",
       "973                         ...                           \n",
       "974                         ...                           \n",
       "975                         ...                           \n",
       "976                         ...                           \n",
       "977                         ...                           \n",
       "978                         ...                           \n",
       "979                         ...                           \n",
       "98                          ...                           \n",
       "980                         ...                           \n",
       "981                         ...                           \n",
       "982                         ...                           \n",
       "983                         ...                           \n",
       "984                         ...                           \n",
       "985                         ...                           \n",
       "986                         ...                           \n",
       "987                         ...                           \n",
       "988                         ...                           \n",
       "989                         ...                           \n",
       "99                          ...                           \n",
       "990                         ...                           \n",
       "991                         ...                           \n",
       "992                         ...                           \n",
       "993                         ...                           \n",
       "994                         ...                           \n",
       "995                         ...                           \n",
       "996                         ...                           \n",
       "997                         ...                           \n",
       "998                         ...                           \n",
       "999                         ...                           \n",
       "\n",
       "                                                srcHtml  \\\n",
       "0     <cite>Nineteenth-Century Fiction</cite>, Vol. ...   \n",
       "1     <cite>The George Eliot, George Henry Lewes New...   \n",
       "10    <cite>Style</cite>, Vol. 39, No. 4, General Is...   \n",
       "100   <cite>Nineteenth-Century Fiction</cite>, Vol. ...   \n",
       "1000  <cite>NOVEL: A Forum on Fiction</cite>, Vol. 9...   \n",
       "1001  <cite>English Education</cite>, Vol. 25, No. 4...   \n",
       "1002  <cite>Conjunctions</cite>, No. 39, THE NEW WAV...   \n",
       "1003  <cite>Victorian Literature and Culture</cite>,...   \n",
       "1004  <cite>Victorian Literature and Culture</cite>,...   \n",
       "1005  <cite>The Sewanee Review</cite>, Vol. 64, No. ...   \n",
       "1006  <cite>Contemporary Literature</cite>, Vol. 49,...   \n",
       "1007  <cite>Nineteenth-Century Fiction</cite>, Vol. ...   \n",
       "1008  <cite>ELH</cite>, Vol. 57, No. 2 (Summer, 1990...   \n",
       "1009  <cite>Studies in the Novel</cite>, Vol. 19, No...   \n",
       "101   <cite>Victorian Studies</cite>, Vol. 18, No. 2...   \n",
       "1010  <cite>Studies in the Novel</cite>, Vol. 15, No...   \n",
       "1011     <cite>Text</cite>, Vol. 11 (1998), pp. 365-377   \n",
       "1012  <cite>The Classical Journal</cite>, Vol. 78, N...   \n",
       "1013  <cite>The Hudson Review</cite>, Vol. 26, No. 4...   \n",
       "1014  <cite>Criticism</cite>, Vol. 7, No. 3 (Summer ...   \n",
       "1015  <cite>George Eliot - George Henry Lewes Studie...   \n",
       "1016  <cite>The Kenyon Review</cite>, Vol. 25, No. 3...   \n",
       "1017  <cite>Poetica</cite>, Vol. 37, No. 3/4 (2005),...   \n",
       "1018  <cite>Twentieth Century Literature</cite>, Vol...   \n",
       "1019  <cite>The Review of English Studies</cite>, Ne...   \n",
       "102   <cite>Nineteenth-Century Literature</cite>, Vo...   \n",
       "1020  <cite>The English Journal</cite>, Vol. 56, No....   \n",
       "1021                                               None   \n",
       "1022                                               None   \n",
       "1023                                               None   \n",
       "...                                                 ...   \n",
       "972                                                None   \n",
       "973                                                None   \n",
       "974                                                None   \n",
       "975   <cite>Victorian Literature and Culture</cite>,...   \n",
       "976                                                None   \n",
       "977                                                None   \n",
       "978                                                None   \n",
       "979   <cite>The North American Review</cite>, Vol. 1...   \n",
       "98    <cite>The Review of English Studies</cite>, Ne...   \n",
       "980                                                None   \n",
       "981   <cite>Victorian Literature and Culture</cite>,...   \n",
       "982   <cite>International Journal of the Classical T...   \n",
       "983   <cite>The Philosophical Quarterly (1950-)</cit...   \n",
       "984   <cite>Studies in Philology</cite>, Vol. 30, No...   \n",
       "985   <cite>George Eliot - George Henry Lewes Studie...   \n",
       "986                                                None   \n",
       "987   <cite>Representations</cite>, Vol. 130, No. 1 ...   \n",
       "988   <cite>Representations</cite>, Vol. 130, No. 1 ...   \n",
       "989   <cite>Newsletter of the Victorian Studies Asso...   \n",
       "99    <cite>Victorian Periodicals Review</cite>, Vol...   \n",
       "990                                                None   \n",
       "991                                                None   \n",
       "992                                                None   \n",
       "993                                                None   \n",
       "994                                                None   \n",
       "995                                                None   \n",
       "996   <cite>The Journal of Religious Ethics</cite>, ...   \n",
       "997                                                None   \n",
       "998                                                None   \n",
       "999                                                None   \n",
       "\n",
       "                                                  title  \\\n",
       "0           [Dorothea and \"Miss Brooke\" in Middlemarch]   \n",
       "1                                                  None   \n",
       "10    [Intermental Thought in the Novel: The Middlem...   \n",
       "100                         [The Method of Middlemarch]   \n",
       "1000  [Aggression and Providential Death in George E...   \n",
       "1001                            [The Next George Eliot]   \n",
       "1002              [Malebolge, Or the Ordnance of Genre]   \n",
       "1003  [Speaking of Illness: Nerves, Narratives, and ...   \n",
       "1004  [Vocation and Sympathy in \"Daniel Deronda\": Th...   \n",
       "1005           [Victorian Novelists and Near-Novelists]   \n",
       "1006                 [An Interview with Richard Powers]   \n",
       "1007  [Incarnations: George Eliot's Conception of \"U...   \n",
       "1008   [Bakhtinian Double Voicing in Dickens and Eliot]   \n",
       "1009  [PATRIARCHAL IDEOLOGY AND MARGINAL MOTHERHOOD ...   \n",
       "101          [George Eliot, Naumann, and the Nazarenes]   \n",
       "1010  [GEORGE ELIOT'S \"ROMOLA\" AND BULWER LYTTON'S \"...   \n",
       "1011          [Authorial Process and Textual Stability]   \n",
       "1012  [\"On Not Knowing Greek:\" The Classics and the ...   \n",
       "1013                          [The States of Criticism]   \n",
       "1014              [Ruskin and George Eliot's \"Realism\"]   \n",
       "1015  ['A WORLD OUTSIDE': GEORGE ELIOT'S EKPHRASTIC ...   \n",
       "1016                     [Music in the Victorian Novel]   \n",
       "1017  [EHESTIFTUNG, EHEBRUCH UND SEXUELLE REVOLUTION...   \n",
       "1018  [\"Wrinkled Deep in Time\": The Alexandria Quart...   \n",
       "1019  [From Bumps to Morals: The Phrenological Backg...   \n",
       "102   [George Eliot's “Fine Excess”: <em>Middlemarch...   \n",
       "1020                     [George Eliot and Her Husband]   \n",
       "1021  [Styles in Fictional Structure: Studies in the...   \n",
       "1022  [Crossing Cultures, Nineteenth-Century Angloph...   \n",
       "1023  [George Eliot and the Gothic Novel, Genres, Ge...   \n",
       "...                                                 ...   \n",
       "972   [Spinoza Beyond Philosophy, George Eliot, Spin...   \n",
       "973   [Social Figures, George Eliot, Social History,...   \n",
       "974   [Secrets of the Oracle, A History of Wisdom fr...   \n",
       "975   [\"A New Unfolding of Life\": Romanticism in the...   \n",
       "976   [Victorian Poets and the Changing Bible, GEORG...   \n",
       "977      [Milton and the Victorians, Table of Contents]   \n",
       "978   [Labor in a New Land, Economy and Society in S...   \n",
       "979                                      [Front Matter]   \n",
       "98           [The Intellectual 'Medium' of Middlemarch]   \n",
       "980   [Styles in Fictional Structure: Studies in the...   \n",
       "981   [Quaker Dress, Sexuality, and the Domesticatio...   \n",
       "982   [Ancient Paradigms, Modern Texts: Classical Ke...   \n",
       "983              [THE GENERALITY OF PARTICULAR THOUGHT]   \n",
       "984   [The Influence of Contemporary Criticism on Ge...   \n",
       "985   [A SMALL SQUEALING BLACK PIG: GEORGE ELIOT, OR...   \n",
       "986           [The Secular Mind, Where We Stood:, 1900]   \n",
       "987                                 [Table of Contents]   \n",
       "988                                             [Cover]   \n",
       "989                                      [Front Matter]   \n",
       "99    [George Eliot's Earliest Prose: The Coventry \"...   \n",
       "990   [Hidden Rivalries in Victorian Fiction, Dicken...   \n",
       "991   [Under Conrad's Eyes, The Novel as Criticism, ...   \n",
       "992   [Heroic Commitment in Richardson, Eliot, and J...   \n",
       "993   [Transformation of Rage, Mourning and Creativi...   \n",
       "994   [Vital Signs, Medical Realism in Nineteenth-Ce...   \n",
       "995   [Moral Taste, Aesthetics, Subjectivity, and So...   \n",
       "996                              [When Narrative Fails]   \n",
       "997   [Hidden Rivalries in Victorian Fiction, Dicken...   \n",
       "998   [Metaphors of Mind in Fiction and Psychology, ...   \n",
       "999   [Victorian Interpretation, George Eliot’s Herm...   \n",
       "\n",
       "                                                 topics   ty     vo  year  \\\n",
       "0     [Sentiment, Fear, Martyrdom, Envy, Vocation, G...  fla   [39]  1984   \n",
       "1     [Lecture methods, Feminism, Pedagogy, Novelist...  brv   None  1991   \n",
       "10    [Narratology, Flower gardens, Skepticism, Exte...  fla   [39]  2005   \n",
       "100   [Sympathy, Irony, Hope, Faith, Tenants, Egoism...  fla   [21]  1966   \n",
       "1000  [Pity, Anger, Forgiveness, Villains, Fear, Gui...  fla    [9]  1976   \n",
       "1001  [Writing, Novelists, Biographers, Course descr...  fla   [25]  1993   \n",
       "1002  [Anthologies, Fantasy fiction, Science fiction...  fla   None  2002   \n",
       "1003  [Mental disorders, Spectacle, Quack doctors, M...  brv   [26]  1998   \n",
       "1004  [Carnivals, Sympathy, Supererogation, Self def...  fla   [32]  2004   \n",
       "1005  [Poetry, Biographers, Novelists, Paradigm case...  brv   [64]  1956   \n",
       "1006  [Narratology, Connectionism, Perspectivism, No...  fla   [49]  2008   \n",
       "1007  [Beneficence, Fate, Teleology, Facticity, Magi...  fla   [29]  1974   \n",
       "1008  [Dialogism, Narratology, Irony, Polyphony, Inq...  fla   [57]  1990   \n",
       "1009  [Women, Obedience, Dialogism, Pity, Heirs, Pat...  fla   [19]  1987   \n",
       "101   [Paints, Symbolism, Mythology, Sympathy, Fresc...  fla   [18]  1974   \n",
       "1010  [Novels, Busts, Unwritten law, Martyrdom, Pseu...  fla   [15]  1983   \n",
       "1011  [Text editing, Punctuation, Trusteeship, Handw...  brv   [11]  1998   \n",
       "1012  [Waiters, Gossip, Aunts, Pity, Odes, Classical...  fla   [78]  1983   \n",
       "1013  [Poetic meter, Pity, Stanzas, Resentment, Moor...  brv   [26]  1973   \n",
       "1014  [Beauty, Novelists, Music criticism, Artistic ...  fla    [7]  1965   \n",
       "1015  [Femininity, Picturesque beauty, Viewers, Aest...  fla   None  2012   \n",
       "1016  [Keyboard music, Choirs, Russian music, Pity, ...  fla   [25]  1963   \n",
       "1017  [Krises, Mathematical notation, Pseudoreligion...  fla   [37]  2005   \n",
       "1018  [Incantations, Demiurge, Asceticism, Occultism...  fla   [33]  1987   \n",
       "1019  [Sympathy, Affection, Passion, Pity, Phrenolog...  fla   [33]  1982   \n",
       "102   [Sympathy, Fear, Frame narratives, Formalist a...  fla   [67]  2012   \n",
       "1020  [Literary criticism, Novelists, Reminiscences,...  fla   [56]  1967   \n",
       "1021  [Narrators, Similes, Modesty, Perfection, Adje...  mis   None  1971   \n",
       "1022  [Publishing industry, Engraving, Lithography, ...  mis   None  2009   \n",
       "1023  [Victorians, Autobiographies, Soap operas, Cla...  mis   None  2013   \n",
       "...                                                 ...  ...    ...   ...   \n",
       "972   [Passion, Envy, Perfection, Lust, Pity, Novell...  mis   None  2012   \n",
       "973   [Transfiguration, Workhouses, Innocence, Arist...  mis   [44]  1987   \n",
       "974   [Pity, Marriage ceremonies, Satire, Aphorisms,...  mis   None  2009   \n",
       "975   [Passion, Heaven, Misanthropy, Religious trans...  fla   [26]  1998   \n",
       "976   [Poetic meter, Prophecy, Heaven, Innocence, Sa...  mis   None  2011   \n",
       "977                                                None  mis   None  2009   \n",
       "978                                                None  mis   None  1983   \n",
       "979                                                None  mis  [116]  1873   \n",
       "98    [Egoism, Passion, Positivism, Sympathy, Baptis...  fla   [30]  1979   \n",
       "980                                                None  mis   None  1971   \n",
       "981   [Dresses, Flattery, Masquerades, Abolitionism,...  fla   [30]  2002   \n",
       "982   [Deities, Idealism, Resurrection, Aristocracy,...  brv    [8]  2002   \n",
       "983   [Ascriptions, Intuition, Causation, Instantiat...  fla   [60]  2010   \n",
       "984   [Literary criticism, Magazines, Virtuosos, Mel...  fla   [30]  1933   \n",
       "985   [Originality, Satire, Genius, Anthologies, Hum...  fla   None  2002   \n",
       "986   [Pity, Psychoanalysts, Irony, Snobbery, Clergy...  mis   None  1999   \n",
       "987                                                None  mis  [130]  2015   \n",
       "988                                                None  mis  [130]  2015   \n",
       "989                                                None  mis    [3]  1976   \n",
       "99    [Testimonials, Mesmerism, Novelists, Princesse...  fla   [19]  1986   \n",
       "990                                                None  mis   None  1987   \n",
       "991                                                None  mis   None  2009   \n",
       "992                                                None  mis   None  1986   \n",
       "993                                                None  mis   None  1994   \n",
       "994                                                None  mis   None  1992   \n",
       "995                                                None  mis   None  2007   \n",
       "996   [Pity, Love, Spiritual love, Labyrinths, Idola...  fla   [21]  1993   \n",
       "997   [Riots, Satire, Adultery, Sensationalism, Paro...  mis   None  1987   \n",
       "998   [Similes, Love, Maids, Literary epigraphs, Mod...  mis   None  1987   \n",
       "999   [Sympathy, Masochism, Antirealism, Subjectivis...  mis   None  2005   \n",
       "\n",
       "     Decade Quoted Words                     Locations in A with Wordcounts  \\\n",
       "0      1980          964  [([5809, 6218], 71), ([8751, 9046], 56), ([570...   \n",
       "1      1990            0                                                 []   \n",
       "10     2000          599  [([3790, 4078], 47), ([4098, 4481], 60), ([470...   \n",
       "100    1960           78  [([196544, 196618], 11), ([723896, 724025], 25...   \n",
       "1000   1970          163  [([889570, 889643], 13), ([913852, 914721], 150)]   \n",
       "1001   1990            0                                                 []   \n",
       "1002   2000            0                                                 []   \n",
       "1003   1990            0                                                 []   \n",
       "1004   2000            0                                                 []   \n",
       "1005   1950            0                                                 []   \n",
       "1006   2000            0                                                 []   \n",
       "1007   1970            0                                                 []   \n",
       "1008   1990          190          [([8450, 8912], 85), ([8932, 9540], 105)]   \n",
       "1009   1980            0                                                 []   \n",
       "101    1970          123   [([398100, 398621], 84), ([453721, 453952], 39)]   \n",
       "1010   1980            0                                                 []   \n",
       "1011   1990            0                                                 []   \n",
       "1012   1980          171  [([87217, 87450], 41), ([125587, 125846], 47),...   \n",
       "1013   1970            0                                                 []   \n",
       "1014   1960            0                                                 []   \n",
       "1015   2010            0                                                 []   \n",
       "1016   1960          142  [([129117, 129300], 33), ([131047, 131215], 33...   \n",
       "1017   2000            0                                                 []   \n",
       "1018   1980           24                           [([299392, 299515], 24)]   \n",
       "1019   1980           45  [([1327580, 1327704], 22), ([1689907, 1690043]...   \n",
       "102    2010          553  [([880, 1123], 35), ([2834, 3048], 32), ([8402...   \n",
       "1020   1960            0                                                 []   \n",
       "1021   1970          134                          [([908844, 909620], 134)]   \n",
       "1022   2000            0                                                 []   \n",
       "1023   2010            0                                                 []   \n",
       "...     ...          ...                                                ...   \n",
       "972    2010            0                                                 []   \n",
       "973    1980           16                           [([485698, 485803], 16)]   \n",
       "974    2000          210  [([591198, 591288], 16), ([593775, 593957], 32...   \n",
       "975    1990          221  [([167756, 168484], 128), ([1704719, 1704831],...   \n",
       "976    2010          127  [([476673, 476960], 52), ([477057, 477360], 58...   \n",
       "977    2000            0                                                 []   \n",
       "978    1980            0                                                 []   \n",
       "979    1870            0                                                 []   \n",
       "98     1970          491  [([344503, 344850], 55), ([345111, 346047], 14...   \n",
       "980    1970            0                                                 []   \n",
       "981    2000          188  [([4703, 5069], 61), ([399648, 400002], 59), (...   \n",
       "982    2000            0                                                 []   \n",
       "983    2010            0                                                 []   \n",
       "984    1930            0                                                 []   \n",
       "985    2000            0                                                 []   \n",
       "986    1990          193  [([699548, 700007], 77), ([700015, 700212], 32...   \n",
       "987    2010            0                                                 []   \n",
       "988    2010            0                                                 []   \n",
       "989    1970            0                                                 []   \n",
       "99     1980           99                               [([8751, 9304], 99)]   \n",
       "990    1980            0                                                 []   \n",
       "991    2000            0                                                 []   \n",
       "992    1980            0                                                 []   \n",
       "993    1990            0                                                 []   \n",
       "994    1990            0                                                 []   \n",
       "995    2000            0                                                 []   \n",
       "996    1990         1629  [([56, 466], 72), ([544, 776], 37), ([926, 181...   \n",
       "997    1980            0                                                 []   \n",
       "998    1980          504  [([309151, 309249], 15), ([345201, 346047], 13...   \n",
       "999    2000           61  [([33978, 34098], 18), ([149255, 149447], 29),...   \n",
       "\n",
       "                                             Wordcounts  \n",
       "0     [83, 64, 18, 29, 139, 27, 101, 21, 102, 140, 1...  \n",
       "1                                                    []  \n",
       "10    [60, 82, 30, 40, 33, 40, 101, 58, 60, 105, 36,...  \n",
       "100                                        [12, 27, 65]  \n",
       "1000                                          [16, 179]  \n",
       "1001                                                 []  \n",
       "1002                                                 []  \n",
       "1003                                                 []  \n",
       "1004                                                 []  \n",
       "1005                                                 []  \n",
       "1006                                                 []  \n",
       "1007                                                 []  \n",
       "1008                                          [98, 129]  \n",
       "1009                                                 []  \n",
       "101                                           [104, 44]  \n",
       "1010                                                 []  \n",
       "1011                                                 []  \n",
       "1012                                   [58, 59, 42, 54]  \n",
       "1013                                                 []  \n",
       "1014                                                 []  \n",
       "1015                                                 []  \n",
       "1016                                   [45, 42, 28, 61]  \n",
       "1017                                                 []  \n",
       "1018                                               [28]  \n",
       "1019                                           [25, 27]  \n",
       "102   [45, 42, 17, 21, 42, 78, 43, 52, 14, 51, 11, 3...  \n",
       "1020                                                 []  \n",
       "1021                                              [164]  \n",
       "1022                                                 []  \n",
       "1023                                                 []  \n",
       "...                                                 ...  \n",
       "972                                                  []  \n",
       "973                                                [18]  \n",
       "974                                [19, 34, 95, 51, 56]  \n",
       "975                                   [158, 24, 16, 66]  \n",
       "976                                        [63, 78, 21]  \n",
       "977                                                  []  \n",
       "978                                                  []  \n",
       "979                                                  []  \n",
       "98                          [64, 176, 120, 138, 26, 58]  \n",
       "980                                                  []  \n",
       "981                                        [78, 74, 87]  \n",
       "982                                                  []  \n",
       "983                                                  []  \n",
       "984                                                  []  \n",
       "985                                                  []  \n",
       "986                                    [91, 36, 19, 79]  \n",
       "987                                                  []  \n",
       "988                                                  []  \n",
       "989                                                  []  \n",
       "99                                                [116]  \n",
       "990                                                  []  \n",
       "991                                                  []  \n",
       "992                                                  []  \n",
       "993                                                  []  \n",
       "994                                                  []  \n",
       "995                                                  []  \n",
       "996   [90, 50, 178, 143, 42, 34, 93, 56, 30, 71, 49,...  \n",
       "997                                                  []  \n",
       "998   [18, 160, 78, 26, 35, 18, 39, 36, 30, 56, 40, ...  \n",
       "999                                        [19, 34, 16]  \n",
       "\n",
       "[6069 rows x 25 columns]"
      ]
     },
     "execution_count": 60,
     "metadata": {},
     "output_type": "execute_result"
    }
   ],
   "source": [
    "df # Print the dataframe"
   ]
  },
  {
   "cell_type": "code",
   "execution_count": 57,
   "metadata": {},
   "outputs": [
    {
     "data": {
      "text/html": [
       "<div>\n",
       "<style scoped>\n",
       "    .dataframe tbody tr th:only-of-type {\n",
       "        vertical-align: middle;\n",
       "    }\n",
       "\n",
       "    .dataframe tbody tr th {\n",
       "        vertical-align: top;\n",
       "    }\n",
       "\n",
       "    .dataframe thead th {\n",
       "        text-align: right;\n",
       "    }\n",
       "</style>\n",
       "<table border=\"1\" class=\"dataframe\">\n",
       "  <thead>\n",
       "    <tr style=\"text-align: right;\">\n",
       "      <th></th>\n",
       "      <th>Locations in A</th>\n",
       "      <th>Locations in B</th>\n",
       "      <th>author</th>\n",
       "      <th>coverdate</th>\n",
       "      <th>disc_name</th>\n",
       "      <th>doi</th>\n",
       "      <th>id</th>\n",
       "      <th>jcode</th>\n",
       "      <th>journal</th>\n",
       "      <th>la</th>\n",
       "      <th>...</th>\n",
       "      <th>srcHtml</th>\n",
       "      <th>title</th>\n",
       "      <th>topics</th>\n",
       "      <th>ty</th>\n",
       "      <th>vo</th>\n",
       "      <th>year</th>\n",
       "      <th>Decade</th>\n",
       "      <th>Quoted Words</th>\n",
       "      <th>Locations in A with Wordcounts</th>\n",
       "      <th>Wordcounts</th>\n",
       "    </tr>\n",
       "  </thead>\n",
       "  <tbody>\n",
       "    <tr>\n",
       "      <th>1024</th>\n",
       "      <td>[]</td>\n",
       "      <td>[]</td>\n",
       "      <td>None</td>\n",
       "      <td>[20050701]</td>\n",
       "      <td>[Language &amp; Literature, British Studies, Area ...</td>\n",
       "      <td>10.2307/20084067</td>\n",
       "      <td>c10e36a2-6938-3f73-bd52-3d5198e56800</td>\n",
       "      <td>[victperiodrev]</td>\n",
       "      <td>Victorian Periodicals Review</td>\n",
       "      <td>[eng]</td>\n",
       "      <td>...</td>\n",
       "      <td>&lt;cite&gt;Victorian Periodicals Review&lt;/cite&gt;, Vol...</td>\n",
       "      <td>[Back Matter]</td>\n",
       "      <td>None</td>\n",
       "      <td>mis</td>\n",
       "      <td>[38]</td>\n",
       "      <td>2005</td>\n",
       "      <td>2000</td>\n",
       "      <td>0</td>\n",
       "      <td>[]</td>\n",
       "      <td>[]</td>\n",
       "    </tr>\n",
       "    <tr>\n",
       "      <th>1027</th>\n",
       "      <td>[]</td>\n",
       "      <td>[]</td>\n",
       "      <td>None</td>\n",
       "      <td>[19991201]</td>\n",
       "      <td>[Classical Studies, Humanities]</td>\n",
       "      <td>10.2307/30222454</td>\n",
       "      <td>f0d56fbb-2872-3098-8d12-04c97f1445da</td>\n",
       "      <td>[intjclasstrad]</td>\n",
       "      <td>None</td>\n",
       "      <td>[eng]</td>\n",
       "      <td>...</td>\n",
       "      <td>&lt;cite&gt;International Journal of the Classical T...</td>\n",
       "      <td>[Front Matter]</td>\n",
       "      <td>None</td>\n",
       "      <td>mis</td>\n",
       "      <td>[5]</td>\n",
       "      <td>1999</td>\n",
       "      <td>1990</td>\n",
       "      <td>0</td>\n",
       "      <td>[]</td>\n",
       "      <td>[]</td>\n",
       "    </tr>\n",
       "    <tr>\n",
       "      <th>1031</th>\n",
       "      <td>[]</td>\n",
       "      <td>[]</td>\n",
       "      <td>[Andrew Bennett]</td>\n",
       "      <td>[20090101, 20090101]</td>\n",
       "      <td>[Language &amp; Literature]</td>\n",
       "      <td>10.2307/j.ctt155j8bf.2</td>\n",
       "      <td>aef77b56-3aad-3c28-9925-09429f06cbb8</td>\n",
       "      <td>None</td>\n",
       "      <td>None</td>\n",
       "      <td>[eng]</td>\n",
       "      <td>...</td>\n",
       "      <td>None</td>\n",
       "      <td>[Ignorance, Literature and agnoiology, Table o...</td>\n",
       "      <td>None</td>\n",
       "      <td>mis</td>\n",
       "      <td>None</td>\n",
       "      <td>2009</td>\n",
       "      <td>2000</td>\n",
       "      <td>0</td>\n",
       "      <td>[]</td>\n",
       "      <td>[]</td>\n",
       "    </tr>\n",
       "    <tr>\n",
       "      <th>1033</th>\n",
       "      <td>[]</td>\n",
       "      <td>[]</td>\n",
       "      <td>[Nancy L. Paxton]</td>\n",
       "      <td>[19910101, 19910101]</td>\n",
       "      <td>[Language &amp; Literature]</td>\n",
       "      <td>10.2307/j.ctt7zvw99.2</td>\n",
       "      <td>bc8c2164-bf6f-3a31-a07c-f4554abe5f1a</td>\n",
       "      <td>None</td>\n",
       "      <td>None</td>\n",
       "      <td>[eng]</td>\n",
       "      <td>...</td>\n",
       "      <td>None</td>\n",
       "      <td>[George Eliot and Herbert Spencer, Feminism, E...</td>\n",
       "      <td>None</td>\n",
       "      <td>mis</td>\n",
       "      <td>None</td>\n",
       "      <td>1991</td>\n",
       "      <td>1990</td>\n",
       "      <td>0</td>\n",
       "      <td>[]</td>\n",
       "      <td>[]</td>\n",
       "    </tr>\n",
       "    <tr>\n",
       "      <th>1034</th>\n",
       "      <td>[]</td>\n",
       "      <td>[]</td>\n",
       "      <td>[Royce Mahawatte]</td>\n",
       "      <td>[20130101, 20130101]</td>\n",
       "      <td>[Language &amp; Literature]</td>\n",
       "      <td>10.2307/j.ctt9qhbnv.2</td>\n",
       "      <td>39f189f5-6a94-3a48-bc59-4dd2aaa8be6a</td>\n",
       "      <td>None</td>\n",
       "      <td>None</td>\n",
       "      <td>[eng]</td>\n",
       "      <td>...</td>\n",
       "      <td>None</td>\n",
       "      <td>[George Eliot and the Gothic Novel, Genres, Ge...</td>\n",
       "      <td>None</td>\n",
       "      <td>mis</td>\n",
       "      <td>None</td>\n",
       "      <td>2013</td>\n",
       "      <td>2010</td>\n",
       "      <td>0</td>\n",
       "      <td>[]</td>\n",
       "      <td>[]</td>\n",
       "    </tr>\n",
       "    <tr>\n",
       "      <th>1039</th>\n",
       "      <td>[]</td>\n",
       "      <td>[]</td>\n",
       "      <td>None</td>\n",
       "      <td>[20120301]</td>\n",
       "      <td>[Language &amp; Literature, Humanities]</td>\n",
       "      <td>10.1525/ncl.2012.66.4.bm</td>\n",
       "      <td>f8ae3a82-1c1f-3aef-9800-b74d50fb088e</td>\n",
       "      <td>[ninecentlite]</td>\n",
       "      <td>Nineteenth-Century Literature</td>\n",
       "      <td>[eng]</td>\n",
       "      <td>...</td>\n",
       "      <td>&lt;cite&gt;Nineteenth-Century Literature&lt;/cite&gt;, Vo...</td>\n",
       "      <td>[Back Matter]</td>\n",
       "      <td>[Essayists, Monographs, Writing for publicatio...</td>\n",
       "      <td>mis</td>\n",
       "      <td>[66]</td>\n",
       "      <td>2012</td>\n",
       "      <td>2010</td>\n",
       "      <td>0</td>\n",
       "      <td>[]</td>\n",
       "      <td>[]</td>\n",
       "    </tr>\n",
       "    <tr>\n",
       "      <th>1049</th>\n",
       "      <td>[]</td>\n",
       "      <td>[]</td>\n",
       "      <td>None</td>\n",
       "      <td>[19710901]</td>\n",
       "      <td>[Slavic Studies, Area Studies]</td>\n",
       "      <td>10.2307/2493538</td>\n",
       "      <td>e8946464-27d2-3788-a992-491911863b95</td>\n",
       "      <td>[slavicreview]</td>\n",
       "      <td>Slavic Review</td>\n",
       "      <td>[eng]</td>\n",
       "      <td>...</td>\n",
       "      <td>&lt;cite&gt;Slavic Review&lt;/cite&gt;, Vol. 30, No. 3 (Se...</td>\n",
       "      <td>[Front Matter]</td>\n",
       "      <td>[Academic journals, Mailings, Russian studies,...</td>\n",
       "      <td>mis</td>\n",
       "      <td>[30]</td>\n",
       "      <td>1971</td>\n",
       "      <td>1970</td>\n",
       "      <td>0</td>\n",
       "      <td>[]</td>\n",
       "      <td>[]</td>\n",
       "    </tr>\n",
       "    <tr>\n",
       "      <th>1051</th>\n",
       "      <td>[]</td>\n",
       "      <td>[]</td>\n",
       "      <td>None</td>\n",
       "      <td>[20020101]</td>\n",
       "      <td>[Area Studies, British Studies, Humanities, La...</td>\n",
       "      <td>10.2307/25058572</td>\n",
       "      <td>f53725f6-6664-39af-998d-ee7653c1e610</td>\n",
       "      <td>[victlitcult]</td>\n",
       "      <td>None</td>\n",
       "      <td>[eng]</td>\n",
       "      <td>...</td>\n",
       "      <td>&lt;cite&gt;Victorian Literature and Culture&lt;/cite&gt;,...</td>\n",
       "      <td>[Front Matter]</td>\n",
       "      <td>[Estate management, Illustration, Art photogra...</td>\n",
       "      <td>mis</td>\n",
       "      <td>[30]</td>\n",
       "      <td>2002</td>\n",
       "      <td>2000</td>\n",
       "      <td>0</td>\n",
       "      <td>[]</td>\n",
       "      <td>[]</td>\n",
       "    </tr>\n",
       "    <tr>\n",
       "      <th>1066</th>\n",
       "      <td>[]</td>\n",
       "      <td>[]</td>\n",
       "      <td>None</td>\n",
       "      <td>[20050701]</td>\n",
       "      <td>[Language &amp; Literature, History, British Studi...</td>\n",
       "      <td>10.2307/3829665</td>\n",
       "      <td>f52cb749-6191-3091-98e9-4881c1bbefe5</td>\n",
       "      <td>[victorianstudies]</td>\n",
       "      <td>Victorian Studies</td>\n",
       "      <td>[eng]</td>\n",
       "      <td>...</td>\n",
       "      <td>&lt;cite&gt;Victorian Studies&lt;/cite&gt;, Vol. 47, No. 4...</td>\n",
       "      <td>[Back Matter]</td>\n",
       "      <td>[Academic conferences, Video editing, Antholog...</td>\n",
       "      <td>mis</td>\n",
       "      <td>[47]</td>\n",
       "      <td>2005</td>\n",
       "      <td>2000</td>\n",
       "      <td>0</td>\n",
       "      <td>[]</td>\n",
       "      <td>[]</td>\n",
       "    </tr>\n",
       "    <tr>\n",
       "      <th>1082</th>\n",
       "      <td>[]</td>\n",
       "      <td>[]</td>\n",
       "      <td>None</td>\n",
       "      <td>[19900401]</td>\n",
       "      <td>[Language &amp; Literature, History, British Studi...</td>\n",
       "      <td>10.2307/3827734</td>\n",
       "      <td>f0d69c63-f96c-3861-85bc-97a587c8e78d</td>\n",
       "      <td>[victorianstudies]</td>\n",
       "      <td>Victorian Studies</td>\n",
       "      <td>[eng]</td>\n",
       "      <td>...</td>\n",
       "      <td>&lt;cite&gt;Victorian Studies&lt;/cite&gt;, Vol. 33, No. 3...</td>\n",
       "      <td>[Back Matter]</td>\n",
       "      <td>[Anthologies, Bibliographies, Literary critici...</td>\n",
       "      <td>mis</td>\n",
       "      <td>[33]</td>\n",
       "      <td>1990</td>\n",
       "      <td>1990</td>\n",
       "      <td>0</td>\n",
       "      <td>[]</td>\n",
       "      <td>[]</td>\n",
       "    </tr>\n",
       "    <tr>\n",
       "      <th>1107</th>\n",
       "      <td>[]</td>\n",
       "      <td>[]</td>\n",
       "      <td>None</td>\n",
       "      <td>[19860801]</td>\n",
       "      <td>[Language &amp; Literature, Humanities]</td>\n",
       "      <td>10.2307/516600</td>\n",
       "      <td>7b42c8c1-122d-3efc-9f1c-08ac2660eb70</td>\n",
       "      <td>[revienglstud]</td>\n",
       "      <td>The Review of English Studies</td>\n",
       "      <td>[eng]</td>\n",
       "      <td>...</td>\n",
       "      <td>&lt;cite&gt;The Review of English Studies&lt;/cite&gt;, Ne...</td>\n",
       "      <td>[Back Matter]</td>\n",
       "      <td>[Literary criticism, Personal computers, Antho...</td>\n",
       "      <td>mis</td>\n",
       "      <td>[37]</td>\n",
       "      <td>1986</td>\n",
       "      <td>1980</td>\n",
       "      <td>0</td>\n",
       "      <td>[]</td>\n",
       "      <td>[]</td>\n",
       "    </tr>\n",
       "    <tr>\n",
       "      <th>1121</th>\n",
       "      <td>[]</td>\n",
       "      <td>[]</td>\n",
       "      <td>None</td>\n",
       "      <td>[20120901]</td>\n",
       "      <td>[Language &amp; Literature, Humanities]</td>\n",
       "      <td>10.1525/ncl.2012.67.2.toc</td>\n",
       "      <td>a7ad3446-1659-3ecd-a23f-47d97054f6b6</td>\n",
       "      <td>[ninecentlite]</td>\n",
       "      <td>Nineteenth-Century Literature</td>\n",
       "      <td>[eng]</td>\n",
       "      <td>...</td>\n",
       "      <td>&lt;cite&gt;Nineteenth-Century Literature&lt;/cite&gt;, Vo...</td>\n",
       "      <td>[Table of Contents]</td>\n",
       "      <td>None</td>\n",
       "      <td>mis</td>\n",
       "      <td>[67]</td>\n",
       "      <td>2012</td>\n",
       "      <td>2010</td>\n",
       "      <td>0</td>\n",
       "      <td>[]</td>\n",
       "      <td>[]</td>\n",
       "    </tr>\n",
       "    <tr>\n",
       "      <th>1122</th>\n",
       "      <td>[]</td>\n",
       "      <td>[]</td>\n",
       "      <td>None</td>\n",
       "      <td>[20111201]</td>\n",
       "      <td>[Language &amp; Literature, Humanities]</td>\n",
       "      <td>10.1525/ncl.2011.66.3.toc</td>\n",
       "      <td>20604a01-9064-3eee-8950-68d7bb1243f5</td>\n",
       "      <td>[ninecentlite]</td>\n",
       "      <td>Nineteenth-Century Literature</td>\n",
       "      <td>[eng]</td>\n",
       "      <td>...</td>\n",
       "      <td>&lt;cite&gt;Nineteenth-Century Literature&lt;/cite&gt;, Vo...</td>\n",
       "      <td>[Table of Contents]</td>\n",
       "      <td>None</td>\n",
       "      <td>mis</td>\n",
       "      <td>[66]</td>\n",
       "      <td>2011</td>\n",
       "      <td>2010</td>\n",
       "      <td>0</td>\n",
       "      <td>[]</td>\n",
       "      <td>[]</td>\n",
       "    </tr>\n",
       "    <tr>\n",
       "      <th>1123</th>\n",
       "      <td>[]</td>\n",
       "      <td>[]</td>\n",
       "      <td>None</td>\n",
       "      <td>[19940101]</td>\n",
       "      <td>[Language &amp; Literature, Humanities]</td>\n",
       "      <td>10.2307/1345831</td>\n",
       "      <td>bce4f5e7-5042-32e9-916d-7429c388e704</td>\n",
       "      <td>[noveforufict]</td>\n",
       "      <td>NOVEL: A Forum on Fiction</td>\n",
       "      <td>[eng]</td>\n",
       "      <td>...</td>\n",
       "      <td>&lt;cite&gt;NOVEL: A Forum on Fiction&lt;/cite&gt;, Vol. 2...</td>\n",
       "      <td>[Back Matter]</td>\n",
       "      <td>None</td>\n",
       "      <td>mis</td>\n",
       "      <td>[27]</td>\n",
       "      <td>1994</td>\n",
       "      <td>1990</td>\n",
       "      <td>0</td>\n",
       "      <td>[]</td>\n",
       "      <td>[]</td>\n",
       "    </tr>\n",
       "    <tr>\n",
       "      <th>1130</th>\n",
       "      <td>[]</td>\n",
       "      <td>[]</td>\n",
       "      <td>None</td>\n",
       "      <td>[19631001]</td>\n",
       "      <td>[Language &amp; Literature, Humanities]</td>\n",
       "      <td>10.2307/449311</td>\n",
       "      <td>023154a7-ea4e-32c3-859f-cea57a1f1f5e</td>\n",
       "      <td>[studengllite1500]</td>\n",
       "      <td>Studies in English Literature, 1500-1900</td>\n",
       "      <td>[eng]</td>\n",
       "      <td>...</td>\n",
       "      <td>&lt;cite&gt;Studies in English Literature, 1500-1900...</td>\n",
       "      <td>[Front Matter]</td>\n",
       "      <td>None</td>\n",
       "      <td>mis</td>\n",
       "      <td>[3]</td>\n",
       "      <td>1963</td>\n",
       "      <td>1960</td>\n",
       "      <td>0</td>\n",
       "      <td>[]</td>\n",
       "      <td>[]</td>\n",
       "    </tr>\n",
       "    <tr>\n",
       "      <th>1131</th>\n",
       "      <td>[]</td>\n",
       "      <td>[]</td>\n",
       "      <td>None</td>\n",
       "      <td>[19820501]</td>\n",
       "      <td>[Language &amp; Literature, Humanities]</td>\n",
       "      <td>10.2307/517238</td>\n",
       "      <td>60995d5c-acd7-31da-9030-562083e6121c</td>\n",
       "      <td>[revienglstud]</td>\n",
       "      <td>The Review of English Studies</td>\n",
       "      <td>[eng]</td>\n",
       "      <td>...</td>\n",
       "      <td>&lt;cite&gt;The Review of English Studies&lt;/cite&gt;, Ne...</td>\n",
       "      <td>[Back Matter]</td>\n",
       "      <td>None</td>\n",
       "      <td>mis</td>\n",
       "      <td>[33]</td>\n",
       "      <td>1982</td>\n",
       "      <td>1980</td>\n",
       "      <td>0</td>\n",
       "      <td>[]</td>\n",
       "      <td>[]</td>\n",
       "    </tr>\n",
       "    <tr>\n",
       "      <th>1132</th>\n",
       "      <td>[]</td>\n",
       "      <td>[]</td>\n",
       "      <td>[Robert R. Desjarlais]</td>\n",
       "      <td>[19920101, 19920101]</td>\n",
       "      <td>[Anthropology]</td>\n",
       "      <td>10.2307/j.ctt3fhzw6.1</td>\n",
       "      <td>dd97f6f7-bc62-32a9-9c29-6d3c20b47ee6</td>\n",
       "      <td>None</td>\n",
       "      <td>None</td>\n",
       "      <td>[eng]</td>\n",
       "      <td>...</td>\n",
       "      <td>None</td>\n",
       "      <td>[Body and Emotion, The Aesthetics of Illness a...</td>\n",
       "      <td>[Earth movements, Sadness, Healing, Pain, Ethn...</td>\n",
       "      <td>mis</td>\n",
       "      <td>None</td>\n",
       "      <td>1992</td>\n",
       "      <td>1990</td>\n",
       "      <td>0</td>\n",
       "      <td>[]</td>\n",
       "      <td>[]</td>\n",
       "    </tr>\n",
       "    <tr>\n",
       "      <th>1134</th>\n",
       "      <td>[]</td>\n",
       "      <td>[]</td>\n",
       "      <td>[David Kurnick]</td>\n",
       "      <td>[20120101, 20120101]</td>\n",
       "      <td>[Language &amp; Literature]</td>\n",
       "      <td>10.2307/j.ctt7rs8s.2</td>\n",
       "      <td>62ca386b-feeb-32ba-bdfe-984e414e5283</td>\n",
       "      <td>None</td>\n",
       "      <td>None</td>\n",
       "      <td>[eng]</td>\n",
       "      <td>...</td>\n",
       "      <td>None</td>\n",
       "      <td>[Empty Houses, Theatrical Failure and the Nove...</td>\n",
       "      <td>None</td>\n",
       "      <td>mis</td>\n",
       "      <td>None</td>\n",
       "      <td>2012</td>\n",
       "      <td>2010</td>\n",
       "      <td>0</td>\n",
       "      <td>[]</td>\n",
       "      <td>[]</td>\n",
       "    </tr>\n",
       "    <tr>\n",
       "      <th>1137</th>\n",
       "      <td>[]</td>\n",
       "      <td>[]</td>\n",
       "      <td>None</td>\n",
       "      <td>[19580101, 19580101]</td>\n",
       "      <td>[Language &amp; Literature]</td>\n",
       "      <td>10.5749/j.ctttswvw.5</td>\n",
       "      <td>76a35ee2-4c0a-312b-9456-7626c8785eef</td>\n",
       "      <td>None</td>\n",
       "      <td>None</td>\n",
       "      <td>[eng]</td>\n",
       "      <td>...</td>\n",
       "      <td>None</td>\n",
       "      <td>[From Jane Austen to Joseph Conrad, Table of C...</td>\n",
       "      <td>None</td>\n",
       "      <td>mis</td>\n",
       "      <td>None</td>\n",
       "      <td>1958</td>\n",
       "      <td>1950</td>\n",
       "      <td>0</td>\n",
       "      <td>[]</td>\n",
       "      <td>[]</td>\n",
       "    </tr>\n",
       "    <tr>\n",
       "      <th>1184</th>\n",
       "      <td>[]</td>\n",
       "      <td>[]</td>\n",
       "      <td>None</td>\n",
       "      <td>[19791001]</td>\n",
       "      <td>[Political Science, Social Sciences]</td>\n",
       "      <td>10.2307/24247678</td>\n",
       "      <td>3aef0919-5e60-3ff6-8180-5610faa0f8c2</td>\n",
       "      <td>[theoria]</td>\n",
       "      <td>None</td>\n",
       "      <td>[eng]</td>\n",
       "      <td>...</td>\n",
       "      <td>&lt;cite&gt;Theoria: A Journal of Social and Politic...</td>\n",
       "      <td>[Front Matter]</td>\n",
       "      <td>None</td>\n",
       "      <td>mis</td>\n",
       "      <td>None</td>\n",
       "      <td>1979</td>\n",
       "      <td>1970</td>\n",
       "      <td>0</td>\n",
       "      <td>[]</td>\n",
       "      <td>[]</td>\n",
       "    </tr>\n",
       "    <tr>\n",
       "      <th>1185</th>\n",
       "      <td>[]</td>\n",
       "      <td>[]</td>\n",
       "      <td>None</td>\n",
       "      <td>[20120301]</td>\n",
       "      <td>[Language &amp; Literature, Humanities]</td>\n",
       "      <td>10.1525/ncl.2012.66.4.toc</td>\n",
       "      <td>9aab5921-835f-3904-bdf5-dc0d156d7ebc</td>\n",
       "      <td>[ninecentlite]</td>\n",
       "      <td>Nineteenth-Century Literature</td>\n",
       "      <td>[eng]</td>\n",
       "      <td>...</td>\n",
       "      <td>&lt;cite&gt;Nineteenth-Century Literature&lt;/cite&gt;, Vo...</td>\n",
       "      <td>[Table of Contents]</td>\n",
       "      <td>None</td>\n",
       "      <td>mis</td>\n",
       "      <td>[66]</td>\n",
       "      <td>2012</td>\n",
       "      <td>2010</td>\n",
       "      <td>0</td>\n",
       "      <td>[]</td>\n",
       "      <td>[]</td>\n",
       "    </tr>\n",
       "    <tr>\n",
       "      <th>1191</th>\n",
       "      <td>[]</td>\n",
       "      <td>[]</td>\n",
       "      <td>None</td>\n",
       "      <td>[19720601]</td>\n",
       "      <td>[Language &amp; Literature, Humanities]</td>\n",
       "      <td>10.2307/2872240</td>\n",
       "      <td>61510d4f-522a-3f9c-9545-c8460a5f8b08</td>\n",
       "      <td>[elh]</td>\n",
       "      <td>ELH</td>\n",
       "      <td>[eng]</td>\n",
       "      <td>...</td>\n",
       "      <td>&lt;cite&gt;ELH&lt;/cite&gt;, Vol. 39, No. 2 (Jun., 1972)</td>\n",
       "      <td>[Front Matter]</td>\n",
       "      <td>None</td>\n",
       "      <td>mis</td>\n",
       "      <td>[39]</td>\n",
       "      <td>1972</td>\n",
       "      <td>1970</td>\n",
       "      <td>0</td>\n",
       "      <td>[]</td>\n",
       "      <td>[]</td>\n",
       "    </tr>\n",
       "    <tr>\n",
       "      <th>1194</th>\n",
       "      <td>[]</td>\n",
       "      <td>[]</td>\n",
       "      <td>None</td>\n",
       "      <td>[19701001]</td>\n",
       "      <td>[Language &amp; Literature, Humanities]</td>\n",
       "      <td>10.2307/449705</td>\n",
       "      <td>806797db-fef0-31e7-acd3-7de555895960</td>\n",
       "      <td>[studengllite1500]</td>\n",
       "      <td>Studies in English Literature, 1500-1900</td>\n",
       "      <td>[eng]</td>\n",
       "      <td>...</td>\n",
       "      <td>&lt;cite&gt;Studies in English Literature, 1500-1900...</td>\n",
       "      <td>[Front Matter]</td>\n",
       "      <td>None</td>\n",
       "      <td>mis</td>\n",
       "      <td>[10]</td>\n",
       "      <td>1970</td>\n",
       "      <td>1970</td>\n",
       "      <td>0</td>\n",
       "      <td>[]</td>\n",
       "      <td>[]</td>\n",
       "    </tr>\n",
       "    <tr>\n",
       "      <th>1212</th>\n",
       "      <td>[]</td>\n",
       "      <td>[]</td>\n",
       "      <td>None</td>\n",
       "      <td>[20150201]</td>\n",
       "      <td>[Language &amp; Literature, Humanities]</td>\n",
       "      <td>10.1525/rep.2015.129.1.bm</td>\n",
       "      <td>d7f64d11-e39a-3ca6-8de7-3d19dfe450b5</td>\n",
       "      <td>[representations]</td>\n",
       "      <td>Representations</td>\n",
       "      <td>[en]</td>\n",
       "      <td>...</td>\n",
       "      <td>&lt;cite&gt;Representations&lt;/cite&gt;, Vol. 129, No. 1 ...</td>\n",
       "      <td>[Back Matter]</td>\n",
       "      <td>[Style guides, Music cognition, Writing for pu...</td>\n",
       "      <td>mis</td>\n",
       "      <td>[129]</td>\n",
       "      <td>2015</td>\n",
       "      <td>2010</td>\n",
       "      <td>0</td>\n",
       "      <td>[]</td>\n",
       "      <td>[]</td>\n",
       "    </tr>\n",
       "    <tr>\n",
       "      <th>1216</th>\n",
       "      <td>[]</td>\n",
       "      <td>[]</td>\n",
       "      <td>None</td>\n",
       "      <td>[19780101]</td>\n",
       "      <td>[Language &amp; Literature, Humanities]</td>\n",
       "      <td>10.2307/1769560</td>\n",
       "      <td>57bbc8f4-f3e2-3fb9-91f1-d2f9fc55a72f</td>\n",
       "      <td>[complite]</td>\n",
       "      <td>Comparative Literature</td>\n",
       "      <td>[eng]</td>\n",
       "      <td>...</td>\n",
       "      <td>&lt;cite&gt;Comparative Literature&lt;/cite&gt;, Vol. 30, ...</td>\n",
       "      <td>[Front Matter]</td>\n",
       "      <td>[Literary criticism, Electronic journals, Meal...</td>\n",
       "      <td>mis</td>\n",
       "      <td>[30]</td>\n",
       "      <td>1978</td>\n",
       "      <td>1970</td>\n",
       "      <td>0</td>\n",
       "      <td>[]</td>\n",
       "      <td>[]</td>\n",
       "    </tr>\n",
       "    <tr>\n",
       "      <th>1219</th>\n",
       "      <td>[]</td>\n",
       "      <td>[]</td>\n",
       "      <td>None</td>\n",
       "      <td>[19680401]</td>\n",
       "      <td>[Humanities, Language &amp; Literature]</td>\n",
       "      <td>10.2307/27705559</td>\n",
       "      <td>47ef2c4c-c224-367d-b332-8ea7c3082d01</td>\n",
       "      <td>[jenglgermphil]</td>\n",
       "      <td>None</td>\n",
       "      <td>[eng]</td>\n",
       "      <td>...</td>\n",
       "      <td>&lt;cite&gt;The Journal of English and Germanic Phil...</td>\n",
       "      <td>[Back Matter]</td>\n",
       "      <td>[Typescripts, Container gardening, Farce, Unit...</td>\n",
       "      <td>mis</td>\n",
       "      <td>[67]</td>\n",
       "      <td>1968</td>\n",
       "      <td>1960</td>\n",
       "      <td>0</td>\n",
       "      <td>[]</td>\n",
       "      <td>[]</td>\n",
       "    </tr>\n",
       "    <tr>\n",
       "      <th>1220</th>\n",
       "      <td>[]</td>\n",
       "      <td>[]</td>\n",
       "      <td>None</td>\n",
       "      <td>[19690401]</td>\n",
       "      <td>[Humanities, Language &amp; Literature]</td>\n",
       "      <td>10.2307/27705725</td>\n",
       "      <td>b3686326-fb32-3c2f-abfe-1b0491ad828d</td>\n",
       "      <td>[jenglgermphil]</td>\n",
       "      <td>None</td>\n",
       "      <td>[eng]</td>\n",
       "      <td>...</td>\n",
       "      <td>&lt;cite&gt;The Journal of English and Germanic Phil...</td>\n",
       "      <td>[Back Matter]</td>\n",
       "      <td>[Typescripts, Container gardening, Farce, Unit...</td>\n",
       "      <td>mis</td>\n",
       "      <td>[68]</td>\n",
       "      <td>1969</td>\n",
       "      <td>1960</td>\n",
       "      <td>0</td>\n",
       "      <td>[]</td>\n",
       "      <td>[]</td>\n",
       "    </tr>\n",
       "    <tr>\n",
       "      <th>1221</th>\n",
       "      <td>[]</td>\n",
       "      <td>[]</td>\n",
       "      <td>None</td>\n",
       "      <td>[19680101]</td>\n",
       "      <td>[Humanities, Language &amp; Literature]</td>\n",
       "      <td>10.2307/27705511</td>\n",
       "      <td>684f7a65-da52-39da-acec-51827064044b</td>\n",
       "      <td>[jenglgermphil]</td>\n",
       "      <td>None</td>\n",
       "      <td>[eng]</td>\n",
       "      <td>...</td>\n",
       "      <td>&lt;cite&gt;The Journal of English and Germanic Phil...</td>\n",
       "      <td>[Back Matter]</td>\n",
       "      <td>[Typescripts, Container gardening, Farce, Unit...</td>\n",
       "      <td>mis</td>\n",
       "      <td>[67]</td>\n",
       "      <td>1968</td>\n",
       "      <td>1960</td>\n",
       "      <td>0</td>\n",
       "      <td>[]</td>\n",
       "      <td>[]</td>\n",
       "    </tr>\n",
       "    <tr>\n",
       "      <th>1222</th>\n",
       "      <td>[]</td>\n",
       "      <td>[]</td>\n",
       "      <td>None</td>\n",
       "      <td>[19691001]</td>\n",
       "      <td>[Humanities, Language &amp; Literature]</td>\n",
       "      <td>10.2307/27705802</td>\n",
       "      <td>cd25e483-b507-3ae7-b896-ebe8ff73555d</td>\n",
       "      <td>[jenglgermphil]</td>\n",
       "      <td>None</td>\n",
       "      <td>[eng]</td>\n",
       "      <td>...</td>\n",
       "      <td>&lt;cite&gt;The Journal of English and Germanic Phil...</td>\n",
       "      <td>[Back Matter]</td>\n",
       "      <td>[Typescripts, Container gardening, Farce, Unit...</td>\n",
       "      <td>mis</td>\n",
       "      <td>[68]</td>\n",
       "      <td>1969</td>\n",
       "      <td>1960</td>\n",
       "      <td>0</td>\n",
       "      <td>[]</td>\n",
       "      <td>[]</td>\n",
       "    </tr>\n",
       "    <tr>\n",
       "      <th>1224</th>\n",
       "      <td>[]</td>\n",
       "      <td>[]</td>\n",
       "      <td>None</td>\n",
       "      <td>[19801001]</td>\n",
       "      <td>[Language &amp; Literature, Humanities]</td>\n",
       "      <td>10.2307/2872788</td>\n",
       "      <td>34b09b13-cade-33ae-8ada-4ad503a8a195</td>\n",
       "      <td>[elh]</td>\n",
       "      <td>ELH</td>\n",
       "      <td>[eng]</td>\n",
       "      <td>...</td>\n",
       "      <td>&lt;cite&gt;ELH&lt;/cite&gt;, Vol. 47, No. 3 (Autumn, 1980)</td>\n",
       "      <td>[Front Matter]</td>\n",
       "      <td>None</td>\n",
       "      <td>mis</td>\n",
       "      <td>[47]</td>\n",
       "      <td>1980</td>\n",
       "      <td>1980</td>\n",
       "      <td>0</td>\n",
       "      <td>[]</td>\n",
       "      <td>[]</td>\n",
       "    </tr>\n",
       "    <tr>\n",
       "      <th>...</th>\n",
       "      <td>...</td>\n",
       "      <td>...</td>\n",
       "      <td>...</td>\n",
       "      <td>...</td>\n",
       "      <td>...</td>\n",
       "      <td>...</td>\n",
       "      <td>...</td>\n",
       "      <td>...</td>\n",
       "      <td>...</td>\n",
       "      <td>...</td>\n",
       "      <td>...</td>\n",
       "      <td>...</td>\n",
       "      <td>...</td>\n",
       "      <td>...</td>\n",
       "      <td>...</td>\n",
       "      <td>...</td>\n",
       "      <td>...</td>\n",
       "      <td>...</td>\n",
       "      <td>...</td>\n",
       "      <td>...</td>\n",
       "      <td>...</td>\n",
       "    </tr>\n",
       "    <tr>\n",
       "      <th>6068</th>\n",
       "      <td>[]</td>\n",
       "      <td>[]</td>\n",
       "      <td>None</td>\n",
       "      <td>[19840901]</td>\n",
       "      <td>[Humanities, Language &amp; Literature]</td>\n",
       "      <td>10.2307/462054</td>\n",
       "      <td>25804775-9427-339d-be01-4ab206334007</td>\n",
       "      <td>[pmla]</td>\n",
       "      <td>None</td>\n",
       "      <td>[eng]</td>\n",
       "      <td>...</td>\n",
       "      <td>&lt;cite&gt;PMLA&lt;/cite&gt;, Vol. 99, No. 4, Directory (...</td>\n",
       "      <td>[Front Matter]</td>\n",
       "      <td>[Executive committees, Mailings, Literary crit...</td>\n",
       "      <td>mis</td>\n",
       "      <td>[99]</td>\n",
       "      <td>1984</td>\n",
       "      <td>1980</td>\n",
       "      <td>0</td>\n",
       "      <td>[]</td>\n",
       "      <td>[]</td>\n",
       "    </tr>\n",
       "    <tr>\n",
       "      <th>607</th>\n",
       "      <td>[]</td>\n",
       "      <td>[]</td>\n",
       "      <td>None</td>\n",
       "      <td>[19920901]</td>\n",
       "      <td>[Language &amp; Literature, Humanities]</td>\n",
       "      <td>10.2307/42910062</td>\n",
       "      <td>73169275-cf69-3f19-8141-f7efb7f04370</td>\n",
       "      <td>[georelioghlstud]</td>\n",
       "      <td>George Eliot - George Henry Lewes Studies</td>\n",
       "      <td>[eng]</td>\n",
       "      <td>...</td>\n",
       "      <td>&lt;cite&gt;George Eliot - George Henry Lewes Studie...</td>\n",
       "      <td>[Front Matter]</td>\n",
       "      <td>[Estate management, Subscriptions, Bank rates,...</td>\n",
       "      <td>mis</td>\n",
       "      <td>None</td>\n",
       "      <td>1992</td>\n",
       "      <td>1990</td>\n",
       "      <td>0</td>\n",
       "      <td>[]</td>\n",
       "      <td>[]</td>\n",
       "    </tr>\n",
       "    <tr>\n",
       "      <th>608</th>\n",
       "      <td>[]</td>\n",
       "      <td>[]</td>\n",
       "      <td>None</td>\n",
       "      <td>[20000901]</td>\n",
       "      <td>[Language &amp; Literature, Humanities]</td>\n",
       "      <td>10.2307/42827930</td>\n",
       "      <td>38713df2-4e82-3d41-8a22-4e8285a9ebd4</td>\n",
       "      <td>[georelioghlstud]</td>\n",
       "      <td>George Eliot - George Henry Lewes Studies</td>\n",
       "      <td>[eng]</td>\n",
       "      <td>...</td>\n",
       "      <td>&lt;cite&gt;George Eliot - George Henry Lewes Studie...</td>\n",
       "      <td>[Front Matter]</td>\n",
       "      <td>[Electronic journals, Subscriptions, Written c...</td>\n",
       "      <td>mis</td>\n",
       "      <td>None</td>\n",
       "      <td>2000</td>\n",
       "      <td>2000</td>\n",
       "      <td>0</td>\n",
       "      <td>[]</td>\n",
       "      <td>[]</td>\n",
       "    </tr>\n",
       "    <tr>\n",
       "      <th>610</th>\n",
       "      <td>[]</td>\n",
       "      <td>[]</td>\n",
       "      <td>None</td>\n",
       "      <td>[20070901]</td>\n",
       "      <td>[Language &amp; Literature, Humanities]</td>\n",
       "      <td>10.2307/42827826</td>\n",
       "      <td>4120350d-eaa3-3c89-9a6a-b2e6df40db35</td>\n",
       "      <td>[georelioghlstud]</td>\n",
       "      <td>George Eliot - George Henry Lewes Studies</td>\n",
       "      <td>[eng]</td>\n",
       "      <td>...</td>\n",
       "      <td>&lt;cite&gt;George Eliot - George Henry Lewes Studie...</td>\n",
       "      <td>[Front Matter]</td>\n",
       "      <td>[Electronic journals, Subscriptions, Estate ma...</td>\n",
       "      <td>mis</td>\n",
       "      <td>None</td>\n",
       "      <td>2007</td>\n",
       "      <td>2000</td>\n",
       "      <td>0</td>\n",
       "      <td>[]</td>\n",
       "      <td>[]</td>\n",
       "    </tr>\n",
       "    <tr>\n",
       "      <th>617</th>\n",
       "      <td>[]</td>\n",
       "      <td>[]</td>\n",
       "      <td>None</td>\n",
       "      <td>[20000101]</td>\n",
       "      <td>[Humanities, Language &amp; Literature]</td>\n",
       "      <td>10.2307/1348116</td>\n",
       "      <td>a2def034-7cef-3222-a110-58da91abe737</td>\n",
       "      <td>[rockmounrevilang]</td>\n",
       "      <td>None</td>\n",
       "      <td>[eng]</td>\n",
       "      <td>...</td>\n",
       "      <td>&lt;cite&gt;Rocky Mountain Review of Language and Li...</td>\n",
       "      <td>[Front Matter]</td>\n",
       "      <td>[Academic conferences, Writing for publication...</td>\n",
       "      <td>mis</td>\n",
       "      <td>[54]</td>\n",
       "      <td>2000</td>\n",
       "      <td>2000</td>\n",
       "      <td>0</td>\n",
       "      <td>[]</td>\n",
       "      <td>[]</td>\n",
       "    </tr>\n",
       "    <tr>\n",
       "      <th>694</th>\n",
       "      <td>[]</td>\n",
       "      <td>[]</td>\n",
       "      <td>None</td>\n",
       "      <td>[19910101]</td>\n",
       "      <td>[Humanities, Language &amp; Literature]</td>\n",
       "      <td>10.2307/27710453</td>\n",
       "      <td>99709926-40e7-3af7-9a56-75f7d724c45d</td>\n",
       "      <td>[jenglgermphil]</td>\n",
       "      <td>None</td>\n",
       "      <td>[eng]</td>\n",
       "      <td>...</td>\n",
       "      <td>&lt;cite&gt;The Journal of English and Germanic Phil...</td>\n",
       "      <td>[Front Matter]</td>\n",
       "      <td>[Fair use, Email, Advertising campaigns, Music...</td>\n",
       "      <td>mis</td>\n",
       "      <td>[90]</td>\n",
       "      <td>1991</td>\n",
       "      <td>1990</td>\n",
       "      <td>0</td>\n",
       "      <td>[]</td>\n",
       "      <td>[]</td>\n",
       "    </tr>\n",
       "    <tr>\n",
       "      <th>695</th>\n",
       "      <td>[]</td>\n",
       "      <td>[]</td>\n",
       "      <td>None</td>\n",
       "      <td>[19880701]</td>\n",
       "      <td>[Language &amp; Literature, Humanities]</td>\n",
       "      <td>10.2307/2928563</td>\n",
       "      <td>4f180246-8e47-30bb-aa78-3a11b2b425f5</td>\n",
       "      <td>[representations]</td>\n",
       "      <td>Representations</td>\n",
       "      <td>[eng]</td>\n",
       "      <td>...</td>\n",
       "      <td>&lt;cite&gt;Representations&lt;/cite&gt;, No. 23 (Summer, ...</td>\n",
       "      <td>[Front Matter]</td>\n",
       "      <td>[Estate management, Mailings, Library collecti...</td>\n",
       "      <td>mis</td>\n",
       "      <td>None</td>\n",
       "      <td>1988</td>\n",
       "      <td>1980</td>\n",
       "      <td>0</td>\n",
       "      <td>[]</td>\n",
       "      <td>[]</td>\n",
       "    </tr>\n",
       "    <tr>\n",
       "      <th>699</th>\n",
       "      <td>[]</td>\n",
       "      <td>[]</td>\n",
       "      <td>None</td>\n",
       "      <td>[19781201]</td>\n",
       "      <td>[Language &amp; Literature, Humanities]</td>\n",
       "      <td>10.2307/2933031</td>\n",
       "      <td>8b3541ae-8a2e-383d-a1a3-642538de524b</td>\n",
       "      <td>[ninecentfict]</td>\n",
       "      <td>Nineteenth-Century Fiction</td>\n",
       "      <td>[eng]</td>\n",
       "      <td>...</td>\n",
       "      <td>&lt;cite&gt;Nineteenth-Century Fiction&lt;/cite&gt;, Vol. ...</td>\n",
       "      <td>[Back Matter]</td>\n",
       "      <td>[Literary criticism, Text editing, Novelists, ...</td>\n",
       "      <td>mis</td>\n",
       "      <td>[33]</td>\n",
       "      <td>1978</td>\n",
       "      <td>1970</td>\n",
       "      <td>0</td>\n",
       "      <td>[]</td>\n",
       "      <td>[]</td>\n",
       "    </tr>\n",
       "    <tr>\n",
       "      <th>710</th>\n",
       "      <td>[]</td>\n",
       "      <td>[]</td>\n",
       "      <td>None</td>\n",
       "      <td>[20010901]</td>\n",
       "      <td>[Language &amp; Literature, Humanities]</td>\n",
       "      <td>10.2307/42827724</td>\n",
       "      <td>679a4667-1222-3382-b490-795924eaeaf1</td>\n",
       "      <td>[georelioghlstud]</td>\n",
       "      <td>George Eliot - George Henry Lewes Studies</td>\n",
       "      <td>[eng]</td>\n",
       "      <td>...</td>\n",
       "      <td>&lt;cite&gt;George Eliot - George Henry Lewes Studie...</td>\n",
       "      <td>[Front Matter]</td>\n",
       "      <td>[Subscriptions, Fair use, Written corresponden...</td>\n",
       "      <td>mis</td>\n",
       "      <td>None</td>\n",
       "      <td>2001</td>\n",
       "      <td>2000</td>\n",
       "      <td>0</td>\n",
       "      <td>[]</td>\n",
       "      <td>[]</td>\n",
       "    </tr>\n",
       "    <tr>\n",
       "      <th>715</th>\n",
       "      <td>[]</td>\n",
       "      <td>[]</td>\n",
       "      <td>None</td>\n",
       "      <td>[19970101]</td>\n",
       "      <td>[Language &amp; Literature, Humanities]</td>\n",
       "      <td>10.2307/42967743</td>\n",
       "      <td>78b67f10-cce1-3a86-9b89-4a44340e2972</td>\n",
       "      <td>[cambquar]</td>\n",
       "      <td>The Cambridge Quarterly</td>\n",
       "      <td>[eng]</td>\n",
       "      <td>...</td>\n",
       "      <td>&lt;cite&gt;The Cambridge Quarterly&lt;/cite&gt;, Vol. 26,...</td>\n",
       "      <td>[Front Matter]</td>\n",
       "      <td>[Subscriptions, Writing for publication, Recor...</td>\n",
       "      <td>mis</td>\n",
       "      <td>[26]</td>\n",
       "      <td>1997</td>\n",
       "      <td>1990</td>\n",
       "      <td>0</td>\n",
       "      <td>[]</td>\n",
       "      <td>[]</td>\n",
       "    </tr>\n",
       "    <tr>\n",
       "      <th>716</th>\n",
       "      <td>[]</td>\n",
       "      <td>[]</td>\n",
       "      <td>None</td>\n",
       "      <td>[20000101]</td>\n",
       "      <td>[Language &amp; Literature, Humanities]</td>\n",
       "      <td>10.2307/43028233</td>\n",
       "      <td>a41fdb87-b01f-307c-98c6-40d0af6d1595</td>\n",
       "      <td>[poetica]</td>\n",
       "      <td>Poetica</td>\n",
       "      <td>[ger]</td>\n",
       "      <td>...</td>\n",
       "      <td>&lt;cite&gt;Poetica&lt;/cite&gt;, Vol. 32, No. 3/4 (2000)</td>\n",
       "      <td>[Front Matter]</td>\n",
       "      <td>None</td>\n",
       "      <td>mis</td>\n",
       "      <td>[32]</td>\n",
       "      <td>2000</td>\n",
       "      <td>2000</td>\n",
       "      <td>0</td>\n",
       "      <td>[]</td>\n",
       "      <td>[]</td>\n",
       "    </tr>\n",
       "    <tr>\n",
       "      <th>740</th>\n",
       "      <td>[]</td>\n",
       "      <td>[]</td>\n",
       "      <td>None</td>\n",
       "      <td>[19800101]</td>\n",
       "      <td>[Humanities, Language &amp; Literature]</td>\n",
       "      <td>10.2307/27708590</td>\n",
       "      <td>909eaa9b-c43f-3892-8d30-6c86924ed346</td>\n",
       "      <td>[jenglgermphil]</td>\n",
       "      <td>None</td>\n",
       "      <td>[eng]</td>\n",
       "      <td>...</td>\n",
       "      <td>&lt;cite&gt;The Journal of English and Germanic Phil...</td>\n",
       "      <td>[Front Matter]</td>\n",
       "      <td>[Resource teachers, Copyrights, Mailings, Copy...</td>\n",
       "      <td>mis</td>\n",
       "      <td>[79]</td>\n",
       "      <td>1980</td>\n",
       "      <td>1980</td>\n",
       "      <td>0</td>\n",
       "      <td>[]</td>\n",
       "      <td>[]</td>\n",
       "    </tr>\n",
       "    <tr>\n",
       "      <th>743</th>\n",
       "      <td>[]</td>\n",
       "      <td>[]</td>\n",
       "      <td>None</td>\n",
       "      <td>[20100101]</td>\n",
       "      <td>[Language &amp; Literature, British Studies, Area ...</td>\n",
       "      <td>10.2307/25733494</td>\n",
       "      <td>2423d639-7ea7-32c8-9aed-e01c92a5f9c5</td>\n",
       "      <td>[victlitcult]</td>\n",
       "      <td>Victorian Literature and Culture</td>\n",
       "      <td>[eng]</td>\n",
       "      <td>...</td>\n",
       "      <td>&lt;cite&gt;Victorian Literature and Culture&lt;/cite&gt;,...</td>\n",
       "      <td>[Back Matter]</td>\n",
       "      <td>None</td>\n",
       "      <td>mis</td>\n",
       "      <td>[38]</td>\n",
       "      <td>2010</td>\n",
       "      <td>2010</td>\n",
       "      <td>0</td>\n",
       "      <td>[]</td>\n",
       "      <td>[]</td>\n",
       "    </tr>\n",
       "    <tr>\n",
       "      <th>855</th>\n",
       "      <td>[]</td>\n",
       "      <td>[]</td>\n",
       "      <td>None</td>\n",
       "      <td>[20100101]</td>\n",
       "      <td>[Language &amp; Literature, British Studies, Area ...</td>\n",
       "      <td>10.2307/25733476</td>\n",
       "      <td>ca3b767d-ab99-37ba-b84d-d77f8c0ed3bb</td>\n",
       "      <td>[victlitcult]</td>\n",
       "      <td>Victorian Literature and Culture</td>\n",
       "      <td>[eng]</td>\n",
       "      <td>...</td>\n",
       "      <td>&lt;cite&gt;Victorian Literature and Culture&lt;/cite&gt;,...</td>\n",
       "      <td>[Front Matter]</td>\n",
       "      <td>[Estate management, Electronic journals, Adver...</td>\n",
       "      <td>mis</td>\n",
       "      <td>[38]</td>\n",
       "      <td>2010</td>\n",
       "      <td>2010</td>\n",
       "      <td>0</td>\n",
       "      <td>[]</td>\n",
       "      <td>[]</td>\n",
       "    </tr>\n",
       "    <tr>\n",
       "      <th>875</th>\n",
       "      <td>[]</td>\n",
       "      <td>[]</td>\n",
       "      <td>None</td>\n",
       "      <td>[19850301]</td>\n",
       "      <td>[Language &amp; Literature, Humanities]</td>\n",
       "      <td>10.2307/3044725</td>\n",
       "      <td>9e4009e7-bd2a-302b-90ce-48dd5a98791b</td>\n",
       "      <td>[ninecentfict]</td>\n",
       "      <td>Nineteenth-Century Fiction</td>\n",
       "      <td>[eng]</td>\n",
       "      <td>...</td>\n",
       "      <td>&lt;cite&gt;Nineteenth-Century Fiction&lt;/cite&gt;, Vol. ...</td>\n",
       "      <td>[Back Matter]</td>\n",
       "      <td>[Novelists, Literary criticism, Text editing, ...</td>\n",
       "      <td>mis</td>\n",
       "      <td>[39]</td>\n",
       "      <td>1985</td>\n",
       "      <td>1980</td>\n",
       "      <td>0</td>\n",
       "      <td>[]</td>\n",
       "      <td>[]</td>\n",
       "    </tr>\n",
       "    <tr>\n",
       "      <th>891</th>\n",
       "      <td>[]</td>\n",
       "      <td>[]</td>\n",
       "      <td>None</td>\n",
       "      <td>[19850401]</td>\n",
       "      <td>[Language &amp; Literature, History, British Studi...</td>\n",
       "      <td>10.2307/3827335</td>\n",
       "      <td>bec9f5c7-9f0c-3580-8e74-d8dbda6619bb</td>\n",
       "      <td>[victorianstudies]</td>\n",
       "      <td>Victorian Studies</td>\n",
       "      <td>[eng]</td>\n",
       "      <td>...</td>\n",
       "      <td>&lt;cite&gt;Victorian Studies&lt;/cite&gt;, Vol. 28, No. 3...</td>\n",
       "      <td>[Back Matter]</td>\n",
       "      <td>[Novelists, Eugenics, Bibliographies, Biograph...</td>\n",
       "      <td>mis</td>\n",
       "      <td>[28]</td>\n",
       "      <td>1985</td>\n",
       "      <td>1980</td>\n",
       "      <td>0</td>\n",
       "      <td>[]</td>\n",
       "      <td>[]</td>\n",
       "    </tr>\n",
       "    <tr>\n",
       "      <th>944</th>\n",
       "      <td>[]</td>\n",
       "      <td>[]</td>\n",
       "      <td>None</td>\n",
       "      <td>[19771201]</td>\n",
       "      <td>[Language &amp; Literature, Humanities]</td>\n",
       "      <td>10.2307/40754516</td>\n",
       "      <td>932ab9f9-93dc-3135-a759-4c2a7b52753c</td>\n",
       "      <td>[texastudlitelang]</td>\n",
       "      <td>Texas Studies in Literature and Language</td>\n",
       "      <td>[eng]</td>\n",
       "      <td>...</td>\n",
       "      <td>&lt;cite&gt;Texas Studies in Literature and Language...</td>\n",
       "      <td>[Back Matter]</td>\n",
       "      <td>[Literary criticism, Electronic journals, Publ...</td>\n",
       "      <td>mis</td>\n",
       "      <td>[19]</td>\n",
       "      <td>1977</td>\n",
       "      <td>1970</td>\n",
       "      <td>0</td>\n",
       "      <td>[]</td>\n",
       "      <td>[]</td>\n",
       "    </tr>\n",
       "    <tr>\n",
       "      <th>977</th>\n",
       "      <td>[]</td>\n",
       "      <td>[]</td>\n",
       "      <td>[Erik Gray]</td>\n",
       "      <td>[20090101, 20090101]</td>\n",
       "      <td>[Language &amp; Literature]</td>\n",
       "      <td>10.7591/j.ctt7zjtb.2</td>\n",
       "      <td>9b8e23cc-72b0-34b0-b426-078445b820aa</td>\n",
       "      <td>None</td>\n",
       "      <td>None</td>\n",
       "      <td>[eng]</td>\n",
       "      <td>...</td>\n",
       "      <td>None</td>\n",
       "      <td>[Milton and the Victorians, Table of Contents]</td>\n",
       "      <td>None</td>\n",
       "      <td>mis</td>\n",
       "      <td>None</td>\n",
       "      <td>2009</td>\n",
       "      <td>2000</td>\n",
       "      <td>0</td>\n",
       "      <td>[]</td>\n",
       "      <td>[]</td>\n",
       "    </tr>\n",
       "    <tr>\n",
       "      <th>979</th>\n",
       "      <td>[]</td>\n",
       "      <td>[]</td>\n",
       "      <td>None</td>\n",
       "      <td>[18730401]</td>\n",
       "      <td>[Humanities, Language &amp; Literature]</td>\n",
       "      <td>10.2307/25109744</td>\n",
       "      <td>69adddaf-4afa-30de-9f49-4b08def73da1</td>\n",
       "      <td>[nortamerrev]</td>\n",
       "      <td>None</td>\n",
       "      <td>[eng]</td>\n",
       "      <td>...</td>\n",
       "      <td>&lt;cite&gt;The North American Review&lt;/cite&gt;, Vol. 1...</td>\n",
       "      <td>[Front Matter]</td>\n",
       "      <td>None</td>\n",
       "      <td>mis</td>\n",
       "      <td>[116]</td>\n",
       "      <td>1873</td>\n",
       "      <td>1870</td>\n",
       "      <td>0</td>\n",
       "      <td>[]</td>\n",
       "      <td>[]</td>\n",
       "    </tr>\n",
       "    <tr>\n",
       "      <th>980</th>\n",
       "      <td>[]</td>\n",
       "      <td>[]</td>\n",
       "      <td>[KARL KROEBER]</td>\n",
       "      <td>[19710101, 19710101]</td>\n",
       "      <td>[Language &amp; Literature]</td>\n",
       "      <td>10.2307/j.ctt13x19c2.2</td>\n",
       "      <td>2dd5e6f1-21db-37c0-8338-8b69a0ff8d82</td>\n",
       "      <td>None</td>\n",
       "      <td>None</td>\n",
       "      <td>[eng]</td>\n",
       "      <td>...</td>\n",
       "      <td>None</td>\n",
       "      <td>[Styles in Fictional Structure: Studies in the...</td>\n",
       "      <td>None</td>\n",
       "      <td>mis</td>\n",
       "      <td>None</td>\n",
       "      <td>1971</td>\n",
       "      <td>1970</td>\n",
       "      <td>0</td>\n",
       "      <td>[]</td>\n",
       "      <td>[]</td>\n",
       "    </tr>\n",
       "    <tr>\n",
       "      <th>987</th>\n",
       "      <td>[]</td>\n",
       "      <td>[]</td>\n",
       "      <td>None</td>\n",
       "      <td>[20150501]</td>\n",
       "      <td>[Language &amp; Literature, Humanities]</td>\n",
       "      <td>10.1525/rep.2015.130.1.toc</td>\n",
       "      <td>5c266378-dec6-36a7-a7bf-8f4dbab15a2b</td>\n",
       "      <td>[representations]</td>\n",
       "      <td>Representations</td>\n",
       "      <td>[en]</td>\n",
       "      <td>...</td>\n",
       "      <td>&lt;cite&gt;Representations&lt;/cite&gt;, Vol. 130, No. 1 ...</td>\n",
       "      <td>[Table of Contents]</td>\n",
       "      <td>None</td>\n",
       "      <td>mis</td>\n",
       "      <td>[130]</td>\n",
       "      <td>2015</td>\n",
       "      <td>2010</td>\n",
       "      <td>0</td>\n",
       "      <td>[]</td>\n",
       "      <td>[]</td>\n",
       "    </tr>\n",
       "    <tr>\n",
       "      <th>988</th>\n",
       "      <td>[]</td>\n",
       "      <td>[]</td>\n",
       "      <td>None</td>\n",
       "      <td>[20150501]</td>\n",
       "      <td>[Language &amp; Literature, Humanities]</td>\n",
       "      <td>10.1525/rep.2015.130.1.cover</td>\n",
       "      <td>b5300c3c-2e77-343c-a817-ffb7a29d6782</td>\n",
       "      <td>[representations]</td>\n",
       "      <td>Representations</td>\n",
       "      <td>[en]</td>\n",
       "      <td>...</td>\n",
       "      <td>&lt;cite&gt;Representations&lt;/cite&gt;, Vol. 130, No. 1 ...</td>\n",
       "      <td>[Cover]</td>\n",
       "      <td>None</td>\n",
       "      <td>mis</td>\n",
       "      <td>[130]</td>\n",
       "      <td>2015</td>\n",
       "      <td>2010</td>\n",
       "      <td>0</td>\n",
       "      <td>[]</td>\n",
       "      <td>[]</td>\n",
       "    </tr>\n",
       "    <tr>\n",
       "      <th>989</th>\n",
       "      <td>[]</td>\n",
       "      <td>[]</td>\n",
       "      <td>None</td>\n",
       "      <td>[19761001]</td>\n",
       "      <td>[Humanities, Language &amp; Literature]</td>\n",
       "      <td>10.2307/27793970</td>\n",
       "      <td>e38aa386-74c8-30e4-81e7-5fd034ec412d</td>\n",
       "      <td>[newvicstuaswc]</td>\n",
       "      <td>None</td>\n",
       "      <td>[eng]</td>\n",
       "      <td>...</td>\n",
       "      <td>&lt;cite&gt;Newsletter of the Victorian Studies Asso...</td>\n",
       "      <td>[Front Matter]</td>\n",
       "      <td>None</td>\n",
       "      <td>mis</td>\n",
       "      <td>[3]</td>\n",
       "      <td>1976</td>\n",
       "      <td>1970</td>\n",
       "      <td>0</td>\n",
       "      <td>[]</td>\n",
       "      <td>[]</td>\n",
       "    </tr>\n",
       "    <tr>\n",
       "      <th>990</th>\n",
       "      <td>[]</td>\n",
       "      <td>[]</td>\n",
       "      <td>[JEROME MECKIER]</td>\n",
       "      <td>[19870101, 19870101]</td>\n",
       "      <td>[Language &amp; Literature]</td>\n",
       "      <td>10.2307/j.ctt130hv1q.2</td>\n",
       "      <td>2549ba6b-d67a-34c5-b357-58e325f38457</td>\n",
       "      <td>None</td>\n",
       "      <td>None</td>\n",
       "      <td>[eng]</td>\n",
       "      <td>...</td>\n",
       "      <td>None</td>\n",
       "      <td>[Hidden Rivalries in Victorian Fiction, Dicken...</td>\n",
       "      <td>None</td>\n",
       "      <td>mis</td>\n",
       "      <td>None</td>\n",
       "      <td>1987</td>\n",
       "      <td>1980</td>\n",
       "      <td>0</td>\n",
       "      <td>[]</td>\n",
       "      <td>[]</td>\n",
       "    </tr>\n",
       "    <tr>\n",
       "      <th>991</th>\n",
       "      <td>[]</td>\n",
       "      <td>[]</td>\n",
       "      <td>[Michael John DiSanto]</td>\n",
       "      <td>[20090101, 20090101]</td>\n",
       "      <td>[Language &amp; Literature]</td>\n",
       "      <td>10.2307/j.ctt8142m.2</td>\n",
       "      <td>630755e5-e908-3bc4-bfa4-c50387d756b8</td>\n",
       "      <td>None</td>\n",
       "      <td>None</td>\n",
       "      <td>[eng]</td>\n",
       "      <td>...</td>\n",
       "      <td>None</td>\n",
       "      <td>[Under Conrad's Eyes, The Novel as Criticism, ...</td>\n",
       "      <td>None</td>\n",
       "      <td>mis</td>\n",
       "      <td>None</td>\n",
       "      <td>2009</td>\n",
       "      <td>2000</td>\n",
       "      <td>0</td>\n",
       "      <td>[]</td>\n",
       "      <td>[]</td>\n",
       "    </tr>\n",
       "    <tr>\n",
       "      <th>992</th>\n",
       "      <td>[]</td>\n",
       "      <td>[]</td>\n",
       "      <td>[PATRICIA McKEE]</td>\n",
       "      <td>[19860101, 19860101]</td>\n",
       "      <td>[Language &amp; Literature]</td>\n",
       "      <td>10.2307/j.ctt7zvvkq.2</td>\n",
       "      <td>f7741fc0-7a09-3db0-a204-7a8463c3670a</td>\n",
       "      <td>None</td>\n",
       "      <td>None</td>\n",
       "      <td>[eng]</td>\n",
       "      <td>...</td>\n",
       "      <td>None</td>\n",
       "      <td>[Heroic Commitment in Richardson, Eliot, and J...</td>\n",
       "      <td>None</td>\n",
       "      <td>mis</td>\n",
       "      <td>None</td>\n",
       "      <td>1986</td>\n",
       "      <td>1980</td>\n",
       "      <td>0</td>\n",
       "      <td>[]</td>\n",
       "      <td>[]</td>\n",
       "    </tr>\n",
       "    <tr>\n",
       "      <th>993</th>\n",
       "      <td>[]</td>\n",
       "      <td>[]</td>\n",
       "      <td>[Peggy Fitzhugh Johnstone]</td>\n",
       "      <td>[19940101, 19940101]</td>\n",
       "      <td>[Language &amp; Literature]</td>\n",
       "      <td>10.2307/j.ctt9qgbpx.2</td>\n",
       "      <td>d21953ab-3bd2-3f03-8c38-fbc9ba446b59</td>\n",
       "      <td>None</td>\n",
       "      <td>None</td>\n",
       "      <td>[eng]</td>\n",
       "      <td>...</td>\n",
       "      <td>None</td>\n",
       "      <td>[Transformation of Rage, Mourning and Creativi...</td>\n",
       "      <td>None</td>\n",
       "      <td>mis</td>\n",
       "      <td>None</td>\n",
       "      <td>1994</td>\n",
       "      <td>1990</td>\n",
       "      <td>0</td>\n",
       "      <td>[]</td>\n",
       "      <td>[]</td>\n",
       "    </tr>\n",
       "    <tr>\n",
       "      <th>994</th>\n",
       "      <td>[]</td>\n",
       "      <td>[]</td>\n",
       "      <td>[Lawrence Rothfield]</td>\n",
       "      <td>[19920101, 19920101]</td>\n",
       "      <td>[Language &amp; Literature]</td>\n",
       "      <td>10.2307/j.ctt7t2kw.2</td>\n",
       "      <td>4a98427f-8e30-3746-81e9-2a08a3ca3b05</td>\n",
       "      <td>None</td>\n",
       "      <td>None</td>\n",
       "      <td>[eng]</td>\n",
       "      <td>...</td>\n",
       "      <td>None</td>\n",
       "      <td>[Vital Signs, Medical Realism in Nineteenth-Ce...</td>\n",
       "      <td>None</td>\n",
       "      <td>mis</td>\n",
       "      <td>None</td>\n",
       "      <td>1992</td>\n",
       "      <td>1990</td>\n",
       "      <td>0</td>\n",
       "      <td>[]</td>\n",
       "      <td>[]</td>\n",
       "    </tr>\n",
       "    <tr>\n",
       "      <th>995</th>\n",
       "      <td>[]</td>\n",
       "      <td>[]</td>\n",
       "      <td>[MARJORIE GARSON]</td>\n",
       "      <td>[20070101, 20070101]</td>\n",
       "      <td>[Language &amp; Literature]</td>\n",
       "      <td>10.3138/9781442684621.2</td>\n",
       "      <td>324e5766-8b19-3b7a-bc38-aa316b362c1e</td>\n",
       "      <td>None</td>\n",
       "      <td>None</td>\n",
       "      <td>[eng]</td>\n",
       "      <td>...</td>\n",
       "      <td>None</td>\n",
       "      <td>[Moral Taste, Aesthetics, Subjectivity, and So...</td>\n",
       "      <td>None</td>\n",
       "      <td>mis</td>\n",
       "      <td>None</td>\n",
       "      <td>2007</td>\n",
       "      <td>2000</td>\n",
       "      <td>0</td>\n",
       "      <td>[]</td>\n",
       "      <td>[]</td>\n",
       "    </tr>\n",
       "    <tr>\n",
       "      <th>998</th>\n",
       "      <td>[[309151, 309249], [345201, 346047], [1073151,...</td>\n",
       "      <td>[[77466, 77565], [78014, 78859], [80141, 80499...</td>\n",
       "      <td>[Michael S. Kearns]</td>\n",
       "      <td>[19870101, 19870101]</td>\n",
       "      <td>[Language &amp; Literature, Psychology]</td>\n",
       "      <td>10.2307/j.ctt130hmz9.9</td>\n",
       "      <td>5c6ffc20-0fe3-3ea6-a6d7-10c7e87df3f7</td>\n",
       "      <td>None</td>\n",
       "      <td>None</td>\n",
       "      <td>[eng]</td>\n",
       "      <td>...</td>\n",
       "      <td>None</td>\n",
       "      <td>[Metaphors of Mind in Fiction and Psychology, ...</td>\n",
       "      <td>[Similes, Love, Maids, Literary epigraphs, Mod...</td>\n",
       "      <td>mis</td>\n",
       "      <td>None</td>\n",
       "      <td>1987</td>\n",
       "      <td>1980</td>\n",
       "      <td>504</td>\n",
       "      <td>[([309151, 309249], 15), ([345201, 346047], 13...</td>\n",
       "      <td>[18, 160, 78, 26, 35, 18, 39, 36, 30, 56, 40, ...</td>\n",
       "    </tr>\n",
       "  </tbody>\n",
       "</table>\n",
       "<p>457 rows × 25 columns</p>\n",
       "</div>"
      ],
      "text/plain": [
       "                                         Locations in A  \\\n",
       "1024                                                 []   \n",
       "1027                                                 []   \n",
       "1031                                                 []   \n",
       "1033                                                 []   \n",
       "1034                                                 []   \n",
       "1039                                                 []   \n",
       "1049                                                 []   \n",
       "1051                                                 []   \n",
       "1066                                                 []   \n",
       "1082                                                 []   \n",
       "1107                                                 []   \n",
       "1121                                                 []   \n",
       "1122                                                 []   \n",
       "1123                                                 []   \n",
       "1130                                                 []   \n",
       "1131                                                 []   \n",
       "1132                                                 []   \n",
       "1134                                                 []   \n",
       "1137                                                 []   \n",
       "1184                                                 []   \n",
       "1185                                                 []   \n",
       "1191                                                 []   \n",
       "1194                                                 []   \n",
       "1212                                                 []   \n",
       "1216                                                 []   \n",
       "1219                                                 []   \n",
       "1220                                                 []   \n",
       "1221                                                 []   \n",
       "1222                                                 []   \n",
       "1224                                                 []   \n",
       "...                                                 ...   \n",
       "6068                                                 []   \n",
       "607                                                  []   \n",
       "608                                                  []   \n",
       "610                                                  []   \n",
       "617                                                  []   \n",
       "694                                                  []   \n",
       "695                                                  []   \n",
       "699                                                  []   \n",
       "710                                                  []   \n",
       "715                                                  []   \n",
       "716                                                  []   \n",
       "740                                                  []   \n",
       "743                                                  []   \n",
       "855                                                  []   \n",
       "875                                                  []   \n",
       "891                                                  []   \n",
       "944                                                  []   \n",
       "977                                                  []   \n",
       "979                                                  []   \n",
       "980                                                  []   \n",
       "987                                                  []   \n",
       "988                                                  []   \n",
       "989                                                  []   \n",
       "990                                                  []   \n",
       "991                                                  []   \n",
       "992                                                  []   \n",
       "993                                                  []   \n",
       "994                                                  []   \n",
       "995                                                  []   \n",
       "998   [[309151, 309249], [345201, 346047], [1073151,...   \n",
       "\n",
       "                                         Locations in B  \\\n",
       "1024                                                 []   \n",
       "1027                                                 []   \n",
       "1031                                                 []   \n",
       "1033                                                 []   \n",
       "1034                                                 []   \n",
       "1039                                                 []   \n",
       "1049                                                 []   \n",
       "1051                                                 []   \n",
       "1066                                                 []   \n",
       "1082                                                 []   \n",
       "1107                                                 []   \n",
       "1121                                                 []   \n",
       "1122                                                 []   \n",
       "1123                                                 []   \n",
       "1130                                                 []   \n",
       "1131                                                 []   \n",
       "1132                                                 []   \n",
       "1134                                                 []   \n",
       "1137                                                 []   \n",
       "1184                                                 []   \n",
       "1185                                                 []   \n",
       "1191                                                 []   \n",
       "1194                                                 []   \n",
       "1212                                                 []   \n",
       "1216                                                 []   \n",
       "1219                                                 []   \n",
       "1220                                                 []   \n",
       "1221                                                 []   \n",
       "1222                                                 []   \n",
       "1224                                                 []   \n",
       "...                                                 ...   \n",
       "6068                                                 []   \n",
       "607                                                  []   \n",
       "608                                                  []   \n",
       "610                                                  []   \n",
       "617                                                  []   \n",
       "694                                                  []   \n",
       "695                                                  []   \n",
       "699                                                  []   \n",
       "710                                                  []   \n",
       "715                                                  []   \n",
       "716                                                  []   \n",
       "740                                                  []   \n",
       "743                                                  []   \n",
       "855                                                  []   \n",
       "875                                                  []   \n",
       "891                                                  []   \n",
       "944                                                  []   \n",
       "977                                                  []   \n",
       "979                                                  []   \n",
       "980                                                  []   \n",
       "987                                                  []   \n",
       "988                                                  []   \n",
       "989                                                  []   \n",
       "990                                                  []   \n",
       "991                                                  []   \n",
       "992                                                  []   \n",
       "993                                                  []   \n",
       "994                                                  []   \n",
       "995                                                  []   \n",
       "998   [[77466, 77565], [78014, 78859], [80141, 80499...   \n",
       "\n",
       "                          author             coverdate  \\\n",
       "1024                        None            [20050701]   \n",
       "1027                        None            [19991201]   \n",
       "1031            [Andrew Bennett]  [20090101, 20090101]   \n",
       "1033           [Nancy L. Paxton]  [19910101, 19910101]   \n",
       "1034           [Royce Mahawatte]  [20130101, 20130101]   \n",
       "1039                        None            [20120301]   \n",
       "1049                        None            [19710901]   \n",
       "1051                        None            [20020101]   \n",
       "1066                        None            [20050701]   \n",
       "1082                        None            [19900401]   \n",
       "1107                        None            [19860801]   \n",
       "1121                        None            [20120901]   \n",
       "1122                        None            [20111201]   \n",
       "1123                        None            [19940101]   \n",
       "1130                        None            [19631001]   \n",
       "1131                        None            [19820501]   \n",
       "1132      [Robert R. Desjarlais]  [19920101, 19920101]   \n",
       "1134             [David Kurnick]  [20120101, 20120101]   \n",
       "1137                        None  [19580101, 19580101]   \n",
       "1184                        None            [19791001]   \n",
       "1185                        None            [20120301]   \n",
       "1191                        None            [19720601]   \n",
       "1194                        None            [19701001]   \n",
       "1212                        None            [20150201]   \n",
       "1216                        None            [19780101]   \n",
       "1219                        None            [19680401]   \n",
       "1220                        None            [19690401]   \n",
       "1221                        None            [19680101]   \n",
       "1222                        None            [19691001]   \n",
       "1224                        None            [19801001]   \n",
       "...                          ...                   ...   \n",
       "6068                        None            [19840901]   \n",
       "607                         None            [19920901]   \n",
       "608                         None            [20000901]   \n",
       "610                         None            [20070901]   \n",
       "617                         None            [20000101]   \n",
       "694                         None            [19910101]   \n",
       "695                         None            [19880701]   \n",
       "699                         None            [19781201]   \n",
       "710                         None            [20010901]   \n",
       "715                         None            [19970101]   \n",
       "716                         None            [20000101]   \n",
       "740                         None            [19800101]   \n",
       "743                         None            [20100101]   \n",
       "855                         None            [20100101]   \n",
       "875                         None            [19850301]   \n",
       "891                         None            [19850401]   \n",
       "944                         None            [19771201]   \n",
       "977                  [Erik Gray]  [20090101, 20090101]   \n",
       "979                         None            [18730401]   \n",
       "980               [KARL KROEBER]  [19710101, 19710101]   \n",
       "987                         None            [20150501]   \n",
       "988                         None            [20150501]   \n",
       "989                         None            [19761001]   \n",
       "990             [JEROME MECKIER]  [19870101, 19870101]   \n",
       "991       [Michael John DiSanto]  [20090101, 20090101]   \n",
       "992             [PATRICIA McKEE]  [19860101, 19860101]   \n",
       "993   [Peggy Fitzhugh Johnstone]  [19940101, 19940101]   \n",
       "994         [Lawrence Rothfield]  [19920101, 19920101]   \n",
       "995            [MARJORIE GARSON]  [20070101, 20070101]   \n",
       "998          [Michael S. Kearns]  [19870101, 19870101]   \n",
       "\n",
       "                                              disc_name  \\\n",
       "1024  [Language & Literature, British Studies, Area ...   \n",
       "1027                    [Classical Studies, Humanities]   \n",
       "1031                            [Language & Literature]   \n",
       "1033                            [Language & Literature]   \n",
       "1034                            [Language & Literature]   \n",
       "1039                [Language & Literature, Humanities]   \n",
       "1049                     [Slavic Studies, Area Studies]   \n",
       "1051  [Area Studies, British Studies, Humanities, La...   \n",
       "1066  [Language & Literature, History, British Studi...   \n",
       "1082  [Language & Literature, History, British Studi...   \n",
       "1107                [Language & Literature, Humanities]   \n",
       "1121                [Language & Literature, Humanities]   \n",
       "1122                [Language & Literature, Humanities]   \n",
       "1123                [Language & Literature, Humanities]   \n",
       "1130                [Language & Literature, Humanities]   \n",
       "1131                [Language & Literature, Humanities]   \n",
       "1132                                     [Anthropology]   \n",
       "1134                            [Language & Literature]   \n",
       "1137                            [Language & Literature]   \n",
       "1184               [Political Science, Social Sciences]   \n",
       "1185                [Language & Literature, Humanities]   \n",
       "1191                [Language & Literature, Humanities]   \n",
       "1194                [Language & Literature, Humanities]   \n",
       "1212                [Language & Literature, Humanities]   \n",
       "1216                [Language & Literature, Humanities]   \n",
       "1219                [Humanities, Language & Literature]   \n",
       "1220                [Humanities, Language & Literature]   \n",
       "1221                [Humanities, Language & Literature]   \n",
       "1222                [Humanities, Language & Literature]   \n",
       "1224                [Language & Literature, Humanities]   \n",
       "...                                                 ...   \n",
       "6068                [Humanities, Language & Literature]   \n",
       "607                 [Language & Literature, Humanities]   \n",
       "608                 [Language & Literature, Humanities]   \n",
       "610                 [Language & Literature, Humanities]   \n",
       "617                 [Humanities, Language & Literature]   \n",
       "694                 [Humanities, Language & Literature]   \n",
       "695                 [Language & Literature, Humanities]   \n",
       "699                 [Language & Literature, Humanities]   \n",
       "710                 [Language & Literature, Humanities]   \n",
       "715                 [Language & Literature, Humanities]   \n",
       "716                 [Language & Literature, Humanities]   \n",
       "740                 [Humanities, Language & Literature]   \n",
       "743   [Language & Literature, British Studies, Area ...   \n",
       "855   [Language & Literature, British Studies, Area ...   \n",
       "875                 [Language & Literature, Humanities]   \n",
       "891   [Language & Literature, History, British Studi...   \n",
       "944                 [Language & Literature, Humanities]   \n",
       "977                             [Language & Literature]   \n",
       "979                 [Humanities, Language & Literature]   \n",
       "980                             [Language & Literature]   \n",
       "987                 [Language & Literature, Humanities]   \n",
       "988                 [Language & Literature, Humanities]   \n",
       "989                 [Humanities, Language & Literature]   \n",
       "990                             [Language & Literature]   \n",
       "991                             [Language & Literature]   \n",
       "992                             [Language & Literature]   \n",
       "993                             [Language & Literature]   \n",
       "994                             [Language & Literature]   \n",
       "995                             [Language & Literature]   \n",
       "998                 [Language & Literature, Psychology]   \n",
       "\n",
       "                               doi                                    id  \\\n",
       "1024              10.2307/20084067  c10e36a2-6938-3f73-bd52-3d5198e56800   \n",
       "1027              10.2307/30222454  f0d56fbb-2872-3098-8d12-04c97f1445da   \n",
       "1031        10.2307/j.ctt155j8bf.2  aef77b56-3aad-3c28-9925-09429f06cbb8   \n",
       "1033         10.2307/j.ctt7zvw99.2  bc8c2164-bf6f-3a31-a07c-f4554abe5f1a   \n",
       "1034         10.2307/j.ctt9qhbnv.2  39f189f5-6a94-3a48-bc59-4dd2aaa8be6a   \n",
       "1039      10.1525/ncl.2012.66.4.bm  f8ae3a82-1c1f-3aef-9800-b74d50fb088e   \n",
       "1049               10.2307/2493538  e8946464-27d2-3788-a992-491911863b95   \n",
       "1051              10.2307/25058572  f53725f6-6664-39af-998d-ee7653c1e610   \n",
       "1066               10.2307/3829665  f52cb749-6191-3091-98e9-4881c1bbefe5   \n",
       "1082               10.2307/3827734  f0d69c63-f96c-3861-85bc-97a587c8e78d   \n",
       "1107                10.2307/516600  7b42c8c1-122d-3efc-9f1c-08ac2660eb70   \n",
       "1121     10.1525/ncl.2012.67.2.toc  a7ad3446-1659-3ecd-a23f-47d97054f6b6   \n",
       "1122     10.1525/ncl.2011.66.3.toc  20604a01-9064-3eee-8950-68d7bb1243f5   \n",
       "1123               10.2307/1345831  bce4f5e7-5042-32e9-916d-7429c388e704   \n",
       "1130                10.2307/449311  023154a7-ea4e-32c3-859f-cea57a1f1f5e   \n",
       "1131                10.2307/517238  60995d5c-acd7-31da-9030-562083e6121c   \n",
       "1132         10.2307/j.ctt3fhzw6.1  dd97f6f7-bc62-32a9-9c29-6d3c20b47ee6   \n",
       "1134          10.2307/j.ctt7rs8s.2  62ca386b-feeb-32ba-bdfe-984e414e5283   \n",
       "1137          10.5749/j.ctttswvw.5  76a35ee2-4c0a-312b-9456-7626c8785eef   \n",
       "1184              10.2307/24247678  3aef0919-5e60-3ff6-8180-5610faa0f8c2   \n",
       "1185     10.1525/ncl.2012.66.4.toc  9aab5921-835f-3904-bdf5-dc0d156d7ebc   \n",
       "1191               10.2307/2872240  61510d4f-522a-3f9c-9545-c8460a5f8b08   \n",
       "1194                10.2307/449705  806797db-fef0-31e7-acd3-7de555895960   \n",
       "1212     10.1525/rep.2015.129.1.bm  d7f64d11-e39a-3ca6-8de7-3d19dfe450b5   \n",
       "1216               10.2307/1769560  57bbc8f4-f3e2-3fb9-91f1-d2f9fc55a72f   \n",
       "1219              10.2307/27705559  47ef2c4c-c224-367d-b332-8ea7c3082d01   \n",
       "1220              10.2307/27705725  b3686326-fb32-3c2f-abfe-1b0491ad828d   \n",
       "1221              10.2307/27705511  684f7a65-da52-39da-acec-51827064044b   \n",
       "1222              10.2307/27705802  cd25e483-b507-3ae7-b896-ebe8ff73555d   \n",
       "1224               10.2307/2872788  34b09b13-cade-33ae-8ada-4ad503a8a195   \n",
       "...                            ...                                   ...   \n",
       "6068                10.2307/462054  25804775-9427-339d-be01-4ab206334007   \n",
       "607               10.2307/42910062  73169275-cf69-3f19-8141-f7efb7f04370   \n",
       "608               10.2307/42827930  38713df2-4e82-3d41-8a22-4e8285a9ebd4   \n",
       "610               10.2307/42827826  4120350d-eaa3-3c89-9a6a-b2e6df40db35   \n",
       "617                10.2307/1348116  a2def034-7cef-3222-a110-58da91abe737   \n",
       "694               10.2307/27710453  99709926-40e7-3af7-9a56-75f7d724c45d   \n",
       "695                10.2307/2928563  4f180246-8e47-30bb-aa78-3a11b2b425f5   \n",
       "699                10.2307/2933031  8b3541ae-8a2e-383d-a1a3-642538de524b   \n",
       "710               10.2307/42827724  679a4667-1222-3382-b490-795924eaeaf1   \n",
       "715               10.2307/42967743  78b67f10-cce1-3a86-9b89-4a44340e2972   \n",
       "716               10.2307/43028233  a41fdb87-b01f-307c-98c6-40d0af6d1595   \n",
       "740               10.2307/27708590  909eaa9b-c43f-3892-8d30-6c86924ed346   \n",
       "743               10.2307/25733494  2423d639-7ea7-32c8-9aed-e01c92a5f9c5   \n",
       "855               10.2307/25733476  ca3b767d-ab99-37ba-b84d-d77f8c0ed3bb   \n",
       "875                10.2307/3044725  9e4009e7-bd2a-302b-90ce-48dd5a98791b   \n",
       "891                10.2307/3827335  bec9f5c7-9f0c-3580-8e74-d8dbda6619bb   \n",
       "944               10.2307/40754516  932ab9f9-93dc-3135-a759-4c2a7b52753c   \n",
       "977           10.7591/j.ctt7zjtb.2  9b8e23cc-72b0-34b0-b426-078445b820aa   \n",
       "979               10.2307/25109744  69adddaf-4afa-30de-9f49-4b08def73da1   \n",
       "980         10.2307/j.ctt13x19c2.2  2dd5e6f1-21db-37c0-8338-8b69a0ff8d82   \n",
       "987     10.1525/rep.2015.130.1.toc  5c266378-dec6-36a7-a7bf-8f4dbab15a2b   \n",
       "988   10.1525/rep.2015.130.1.cover  b5300c3c-2e77-343c-a817-ffb7a29d6782   \n",
       "989               10.2307/27793970  e38aa386-74c8-30e4-81e7-5fd034ec412d   \n",
       "990         10.2307/j.ctt130hv1q.2  2549ba6b-d67a-34c5-b357-58e325f38457   \n",
       "991           10.2307/j.ctt8142m.2  630755e5-e908-3bc4-bfa4-c50387d756b8   \n",
       "992          10.2307/j.ctt7zvvkq.2  f7741fc0-7a09-3db0-a204-7a8463c3670a   \n",
       "993          10.2307/j.ctt9qgbpx.2  d21953ab-3bd2-3f03-8c38-fbc9ba446b59   \n",
       "994           10.2307/j.ctt7t2kw.2  4a98427f-8e30-3746-81e9-2a08a3ca3b05   \n",
       "995        10.3138/9781442684621.2  324e5766-8b19-3b7a-bc38-aa316b362c1e   \n",
       "998         10.2307/j.ctt130hmz9.9  5c6ffc20-0fe3-3ea6-a6d7-10c7e87df3f7   \n",
       "\n",
       "                   jcode                                    journal     la  \\\n",
       "1024     [victperiodrev]               Victorian Periodicals Review  [eng]   \n",
       "1027     [intjclasstrad]                                       None  [eng]   \n",
       "1031                None                                       None  [eng]   \n",
       "1033                None                                       None  [eng]   \n",
       "1034                None                                       None  [eng]   \n",
       "1039      [ninecentlite]              Nineteenth-Century Literature  [eng]   \n",
       "1049      [slavicreview]                              Slavic Review  [eng]   \n",
       "1051       [victlitcult]                                       None  [eng]   \n",
       "1066  [victorianstudies]                          Victorian Studies  [eng]   \n",
       "1082  [victorianstudies]                          Victorian Studies  [eng]   \n",
       "1107      [revienglstud]              The Review of English Studies  [eng]   \n",
       "1121      [ninecentlite]              Nineteenth-Century Literature  [eng]   \n",
       "1122      [ninecentlite]              Nineteenth-Century Literature  [eng]   \n",
       "1123      [noveforufict]                  NOVEL: A Forum on Fiction  [eng]   \n",
       "1130  [studengllite1500]   Studies in English Literature, 1500-1900  [eng]   \n",
       "1131      [revienglstud]              The Review of English Studies  [eng]   \n",
       "1132                None                                       None  [eng]   \n",
       "1134                None                                       None  [eng]   \n",
       "1137                None                                       None  [eng]   \n",
       "1184           [theoria]                                       None  [eng]   \n",
       "1185      [ninecentlite]              Nineteenth-Century Literature  [eng]   \n",
       "1191               [elh]                                        ELH  [eng]   \n",
       "1194  [studengllite1500]   Studies in English Literature, 1500-1900  [eng]   \n",
       "1212   [representations]                            Representations   [en]   \n",
       "1216          [complite]                     Comparative Literature  [eng]   \n",
       "1219     [jenglgermphil]                                       None  [eng]   \n",
       "1220     [jenglgermphil]                                       None  [eng]   \n",
       "1221     [jenglgermphil]                                       None  [eng]   \n",
       "1222     [jenglgermphil]                                       None  [eng]   \n",
       "1224               [elh]                                        ELH  [eng]   \n",
       "...                  ...                                        ...    ...   \n",
       "6068              [pmla]                                       None  [eng]   \n",
       "607    [georelioghlstud]  George Eliot - George Henry Lewes Studies  [eng]   \n",
       "608    [georelioghlstud]  George Eliot - George Henry Lewes Studies  [eng]   \n",
       "610    [georelioghlstud]  George Eliot - George Henry Lewes Studies  [eng]   \n",
       "617   [rockmounrevilang]                                       None  [eng]   \n",
       "694      [jenglgermphil]                                       None  [eng]   \n",
       "695    [representations]                            Representations  [eng]   \n",
       "699       [ninecentfict]                 Nineteenth-Century Fiction  [eng]   \n",
       "710    [georelioghlstud]  George Eliot - George Henry Lewes Studies  [eng]   \n",
       "715           [cambquar]                    The Cambridge Quarterly  [eng]   \n",
       "716            [poetica]                                    Poetica  [ger]   \n",
       "740      [jenglgermphil]                                       None  [eng]   \n",
       "743        [victlitcult]           Victorian Literature and Culture  [eng]   \n",
       "855        [victlitcult]           Victorian Literature and Culture  [eng]   \n",
       "875       [ninecentfict]                 Nineteenth-Century Fiction  [eng]   \n",
       "891   [victorianstudies]                          Victorian Studies  [eng]   \n",
       "944   [texastudlitelang]   Texas Studies in Literature and Language  [eng]   \n",
       "977                 None                                       None  [eng]   \n",
       "979        [nortamerrev]                                       None  [eng]   \n",
       "980                 None                                       None  [eng]   \n",
       "987    [representations]                            Representations   [en]   \n",
       "988    [representations]                            Representations   [en]   \n",
       "989      [newvicstuaswc]                                       None  [eng]   \n",
       "990                 None                                       None  [eng]   \n",
       "991                 None                                       None  [eng]   \n",
       "992                 None                                       None  [eng]   \n",
       "993                 None                                       None  [eng]   \n",
       "994                 None                                       None  [eng]   \n",
       "995                 None                                       None  [eng]   \n",
       "998                 None                                       None  [eng]   \n",
       "\n",
       "                            ...                          \\\n",
       "1024                        ...                           \n",
       "1027                        ...                           \n",
       "1031                        ...                           \n",
       "1033                        ...                           \n",
       "1034                        ...                           \n",
       "1039                        ...                           \n",
       "1049                        ...                           \n",
       "1051                        ...                           \n",
       "1066                        ...                           \n",
       "1082                        ...                           \n",
       "1107                        ...                           \n",
       "1121                        ...                           \n",
       "1122                        ...                           \n",
       "1123                        ...                           \n",
       "1130                        ...                           \n",
       "1131                        ...                           \n",
       "1132                        ...                           \n",
       "1134                        ...                           \n",
       "1137                        ...                           \n",
       "1184                        ...                           \n",
       "1185                        ...                           \n",
       "1191                        ...                           \n",
       "1194                        ...                           \n",
       "1212                        ...                           \n",
       "1216                        ...                           \n",
       "1219                        ...                           \n",
       "1220                        ...                           \n",
       "1221                        ...                           \n",
       "1222                        ...                           \n",
       "1224                        ...                           \n",
       "...                         ...                           \n",
       "6068                        ...                           \n",
       "607                         ...                           \n",
       "608                         ...                           \n",
       "610                         ...                           \n",
       "617                         ...                           \n",
       "694                         ...                           \n",
       "695                         ...                           \n",
       "699                         ...                           \n",
       "710                         ...                           \n",
       "715                         ...                           \n",
       "716                         ...                           \n",
       "740                         ...                           \n",
       "743                         ...                           \n",
       "855                         ...                           \n",
       "875                         ...                           \n",
       "891                         ...                           \n",
       "944                         ...                           \n",
       "977                         ...                           \n",
       "979                         ...                           \n",
       "980                         ...                           \n",
       "987                         ...                           \n",
       "988                         ...                           \n",
       "989                         ...                           \n",
       "990                         ...                           \n",
       "991                         ...                           \n",
       "992                         ...                           \n",
       "993                         ...                           \n",
       "994                         ...                           \n",
       "995                         ...                           \n",
       "998                         ...                           \n",
       "\n",
       "                                                srcHtml  \\\n",
       "1024  <cite>Victorian Periodicals Review</cite>, Vol...   \n",
       "1027  <cite>International Journal of the Classical T...   \n",
       "1031                                               None   \n",
       "1033                                               None   \n",
       "1034                                               None   \n",
       "1039  <cite>Nineteenth-Century Literature</cite>, Vo...   \n",
       "1049  <cite>Slavic Review</cite>, Vol. 30, No. 3 (Se...   \n",
       "1051  <cite>Victorian Literature and Culture</cite>,...   \n",
       "1066  <cite>Victorian Studies</cite>, Vol. 47, No. 4...   \n",
       "1082  <cite>Victorian Studies</cite>, Vol. 33, No. 3...   \n",
       "1107  <cite>The Review of English Studies</cite>, Ne...   \n",
       "1121  <cite>Nineteenth-Century Literature</cite>, Vo...   \n",
       "1122  <cite>Nineteenth-Century Literature</cite>, Vo...   \n",
       "1123  <cite>NOVEL: A Forum on Fiction</cite>, Vol. 2...   \n",
       "1130  <cite>Studies in English Literature, 1500-1900...   \n",
       "1131  <cite>The Review of English Studies</cite>, Ne...   \n",
       "1132                                               None   \n",
       "1134                                               None   \n",
       "1137                                               None   \n",
       "1184  <cite>Theoria: A Journal of Social and Politic...   \n",
       "1185  <cite>Nineteenth-Century Literature</cite>, Vo...   \n",
       "1191      <cite>ELH</cite>, Vol. 39, No. 2 (Jun., 1972)   \n",
       "1194  <cite>Studies in English Literature, 1500-1900...   \n",
       "1212  <cite>Representations</cite>, Vol. 129, No. 1 ...   \n",
       "1216  <cite>Comparative Literature</cite>, Vol. 30, ...   \n",
       "1219  <cite>The Journal of English and Germanic Phil...   \n",
       "1220  <cite>The Journal of English and Germanic Phil...   \n",
       "1221  <cite>The Journal of English and Germanic Phil...   \n",
       "1222  <cite>The Journal of English and Germanic Phil...   \n",
       "1224    <cite>ELH</cite>, Vol. 47, No. 3 (Autumn, 1980)   \n",
       "...                                                 ...   \n",
       "6068  <cite>PMLA</cite>, Vol. 99, No. 4, Directory (...   \n",
       "607   <cite>George Eliot - George Henry Lewes Studie...   \n",
       "608   <cite>George Eliot - George Henry Lewes Studie...   \n",
       "610   <cite>George Eliot - George Henry Lewes Studie...   \n",
       "617   <cite>Rocky Mountain Review of Language and Li...   \n",
       "694   <cite>The Journal of English and Germanic Phil...   \n",
       "695   <cite>Representations</cite>, No. 23 (Summer, ...   \n",
       "699   <cite>Nineteenth-Century Fiction</cite>, Vol. ...   \n",
       "710   <cite>George Eliot - George Henry Lewes Studie...   \n",
       "715   <cite>The Cambridge Quarterly</cite>, Vol. 26,...   \n",
       "716       <cite>Poetica</cite>, Vol. 32, No. 3/4 (2000)   \n",
       "740   <cite>The Journal of English and Germanic Phil...   \n",
       "743   <cite>Victorian Literature and Culture</cite>,...   \n",
       "855   <cite>Victorian Literature and Culture</cite>,...   \n",
       "875   <cite>Nineteenth-Century Fiction</cite>, Vol. ...   \n",
       "891   <cite>Victorian Studies</cite>, Vol. 28, No. 3...   \n",
       "944   <cite>Texas Studies in Literature and Language...   \n",
       "977                                                None   \n",
       "979   <cite>The North American Review</cite>, Vol. 1...   \n",
       "980                                                None   \n",
       "987   <cite>Representations</cite>, Vol. 130, No. 1 ...   \n",
       "988   <cite>Representations</cite>, Vol. 130, No. 1 ...   \n",
       "989   <cite>Newsletter of the Victorian Studies Asso...   \n",
       "990                                                None   \n",
       "991                                                None   \n",
       "992                                                None   \n",
       "993                                                None   \n",
       "994                                                None   \n",
       "995                                                None   \n",
       "998                                                None   \n",
       "\n",
       "                                                  title  \\\n",
       "1024                                      [Back Matter]   \n",
       "1027                                     [Front Matter]   \n",
       "1031  [Ignorance, Literature and agnoiology, Table o...   \n",
       "1033  [George Eliot and Herbert Spencer, Feminism, E...   \n",
       "1034  [George Eliot and the Gothic Novel, Genres, Ge...   \n",
       "1039                                      [Back Matter]   \n",
       "1049                                     [Front Matter]   \n",
       "1051                                     [Front Matter]   \n",
       "1066                                      [Back Matter]   \n",
       "1082                                      [Back Matter]   \n",
       "1107                                      [Back Matter]   \n",
       "1121                                [Table of Contents]   \n",
       "1122                                [Table of Contents]   \n",
       "1123                                      [Back Matter]   \n",
       "1130                                     [Front Matter]   \n",
       "1131                                      [Back Matter]   \n",
       "1132  [Body and Emotion, The Aesthetics of Illness a...   \n",
       "1134  [Empty Houses, Theatrical Failure and the Nove...   \n",
       "1137  [From Jane Austen to Joseph Conrad, Table of C...   \n",
       "1184                                     [Front Matter]   \n",
       "1185                                [Table of Contents]   \n",
       "1191                                     [Front Matter]   \n",
       "1194                                     [Front Matter]   \n",
       "1212                                      [Back Matter]   \n",
       "1216                                     [Front Matter]   \n",
       "1219                                      [Back Matter]   \n",
       "1220                                      [Back Matter]   \n",
       "1221                                      [Back Matter]   \n",
       "1222                                      [Back Matter]   \n",
       "1224                                     [Front Matter]   \n",
       "...                                                 ...   \n",
       "6068                                     [Front Matter]   \n",
       "607                                      [Front Matter]   \n",
       "608                                      [Front Matter]   \n",
       "610                                      [Front Matter]   \n",
       "617                                      [Front Matter]   \n",
       "694                                      [Front Matter]   \n",
       "695                                      [Front Matter]   \n",
       "699                                       [Back Matter]   \n",
       "710                                      [Front Matter]   \n",
       "715                                      [Front Matter]   \n",
       "716                                      [Front Matter]   \n",
       "740                                      [Front Matter]   \n",
       "743                                       [Back Matter]   \n",
       "855                                      [Front Matter]   \n",
       "875                                       [Back Matter]   \n",
       "891                                       [Back Matter]   \n",
       "944                                       [Back Matter]   \n",
       "977      [Milton and the Victorians, Table of Contents]   \n",
       "979                                      [Front Matter]   \n",
       "980   [Styles in Fictional Structure: Studies in the...   \n",
       "987                                 [Table of Contents]   \n",
       "988                                             [Cover]   \n",
       "989                                      [Front Matter]   \n",
       "990   [Hidden Rivalries in Victorian Fiction, Dicken...   \n",
       "991   [Under Conrad's Eyes, The Novel as Criticism, ...   \n",
       "992   [Heroic Commitment in Richardson, Eliot, and J...   \n",
       "993   [Transformation of Rage, Mourning and Creativi...   \n",
       "994   [Vital Signs, Medical Realism in Nineteenth-Ce...   \n",
       "995   [Moral Taste, Aesthetics, Subjectivity, and So...   \n",
       "998   [Metaphors of Mind in Fiction and Psychology, ...   \n",
       "\n",
       "                                                 topics   ty     vo  year  \\\n",
       "1024                                               None  mis   [38]  2005   \n",
       "1027                                               None  mis    [5]  1999   \n",
       "1031                                               None  mis   None  2009   \n",
       "1033                                               None  mis   None  1991   \n",
       "1034                                               None  mis   None  2013   \n",
       "1039  [Essayists, Monographs, Writing for publicatio...  mis   [66]  2012   \n",
       "1049  [Academic journals, Mailings, Russian studies,...  mis   [30]  1971   \n",
       "1051  [Estate management, Illustration, Art photogra...  mis   [30]  2002   \n",
       "1066  [Academic conferences, Video editing, Antholog...  mis   [47]  2005   \n",
       "1082  [Anthologies, Bibliographies, Literary critici...  mis   [33]  1990   \n",
       "1107  [Literary criticism, Personal computers, Antho...  mis   [37]  1986   \n",
       "1121                                               None  mis   [67]  2012   \n",
       "1122                                               None  mis   [66]  2011   \n",
       "1123                                               None  mis   [27]  1994   \n",
       "1130                                               None  mis    [3]  1963   \n",
       "1131                                               None  mis   [33]  1982   \n",
       "1132  [Earth movements, Sadness, Healing, Pain, Ethn...  mis   None  1992   \n",
       "1134                                               None  mis   None  2012   \n",
       "1137                                               None  mis   None  1958   \n",
       "1184                                               None  mis   None  1979   \n",
       "1185                                               None  mis   [66]  2012   \n",
       "1191                                               None  mis   [39]  1972   \n",
       "1194                                               None  mis   [10]  1970   \n",
       "1212  [Style guides, Music cognition, Writing for pu...  mis  [129]  2015   \n",
       "1216  [Literary criticism, Electronic journals, Meal...  mis   [30]  1978   \n",
       "1219  [Typescripts, Container gardening, Farce, Unit...  mis   [67]  1968   \n",
       "1220  [Typescripts, Container gardening, Farce, Unit...  mis   [68]  1969   \n",
       "1221  [Typescripts, Container gardening, Farce, Unit...  mis   [67]  1968   \n",
       "1222  [Typescripts, Container gardening, Farce, Unit...  mis   [68]  1969   \n",
       "1224                                               None  mis   [47]  1980   \n",
       "...                                                 ...  ...    ...   ...   \n",
       "6068  [Executive committees, Mailings, Literary crit...  mis   [99]  1984   \n",
       "607   [Estate management, Subscriptions, Bank rates,...  mis   None  1992   \n",
       "608   [Electronic journals, Subscriptions, Written c...  mis   None  2000   \n",
       "610   [Electronic journals, Subscriptions, Estate ma...  mis   None  2007   \n",
       "617   [Academic conferences, Writing for publication...  mis   [54]  2000   \n",
       "694   [Fair use, Email, Advertising campaigns, Music...  mis   [90]  1991   \n",
       "695   [Estate management, Mailings, Library collecti...  mis   None  1988   \n",
       "699   [Literary criticism, Text editing, Novelists, ...  mis   [33]  1978   \n",
       "710   [Subscriptions, Fair use, Written corresponden...  mis   None  2001   \n",
       "715   [Subscriptions, Writing for publication, Recor...  mis   [26]  1997   \n",
       "716                                                None  mis   [32]  2000   \n",
       "740   [Resource teachers, Copyrights, Mailings, Copy...  mis   [79]  1980   \n",
       "743                                                None  mis   [38]  2010   \n",
       "855   [Estate management, Electronic journals, Adver...  mis   [38]  2010   \n",
       "875   [Novelists, Literary criticism, Text editing, ...  mis   [39]  1985   \n",
       "891   [Novelists, Eugenics, Bibliographies, Biograph...  mis   [28]  1985   \n",
       "944   [Literary criticism, Electronic journals, Publ...  mis   [19]  1977   \n",
       "977                                                None  mis   None  2009   \n",
       "979                                                None  mis  [116]  1873   \n",
       "980                                                None  mis   None  1971   \n",
       "987                                                None  mis  [130]  2015   \n",
       "988                                                None  mis  [130]  2015   \n",
       "989                                                None  mis    [3]  1976   \n",
       "990                                                None  mis   None  1987   \n",
       "991                                                None  mis   None  2009   \n",
       "992                                                None  mis   None  1986   \n",
       "993                                                None  mis   None  1994   \n",
       "994                                                None  mis   None  1992   \n",
       "995                                                None  mis   None  2007   \n",
       "998   [Similes, Love, Maids, Literary epigraphs, Mod...  mis   None  1987   \n",
       "\n",
       "     Decade Quoted Words                     Locations in A with Wordcounts  \\\n",
       "1024   2000            0                                                 []   \n",
       "1027   1990            0                                                 []   \n",
       "1031   2000            0                                                 []   \n",
       "1033   1990            0                                                 []   \n",
       "1034   2010            0                                                 []   \n",
       "1039   2010            0                                                 []   \n",
       "1049   1970            0                                                 []   \n",
       "1051   2000            0                                                 []   \n",
       "1066   2000            0                                                 []   \n",
       "1082   1990            0                                                 []   \n",
       "1107   1980            0                                                 []   \n",
       "1121   2010            0                                                 []   \n",
       "1122   2010            0                                                 []   \n",
       "1123   1990            0                                                 []   \n",
       "1130   1960            0                                                 []   \n",
       "1131   1980            0                                                 []   \n",
       "1132   1990            0                                                 []   \n",
       "1134   2010            0                                                 []   \n",
       "1137   1950            0                                                 []   \n",
       "1184   1970            0                                                 []   \n",
       "1185   2010            0                                                 []   \n",
       "1191   1970            0                                                 []   \n",
       "1194   1970            0                                                 []   \n",
       "1212   2010            0                                                 []   \n",
       "1216   1970            0                                                 []   \n",
       "1219   1960            0                                                 []   \n",
       "1220   1960            0                                                 []   \n",
       "1221   1960            0                                                 []   \n",
       "1222   1960            0                                                 []   \n",
       "1224   1980            0                                                 []   \n",
       "...     ...          ...                                                ...   \n",
       "6068   1980            0                                                 []   \n",
       "607    1990            0                                                 []   \n",
       "608    2000            0                                                 []   \n",
       "610    2000            0                                                 []   \n",
       "617    2000            0                                                 []   \n",
       "694    1990            0                                                 []   \n",
       "695    1980            0                                                 []   \n",
       "699    1970            0                                                 []   \n",
       "710    2000            0                                                 []   \n",
       "715    1990            0                                                 []   \n",
       "716    2000            0                                                 []   \n",
       "740    1980            0                                                 []   \n",
       "743    2010            0                                                 []   \n",
       "855    2010            0                                                 []   \n",
       "875    1980            0                                                 []   \n",
       "891    1980            0                                                 []   \n",
       "944    1970            0                                                 []   \n",
       "977    2000            0                                                 []   \n",
       "979    1870            0                                                 []   \n",
       "980    1970            0                                                 []   \n",
       "987    2010            0                                                 []   \n",
       "988    2010            0                                                 []   \n",
       "989    1970            0                                                 []   \n",
       "990    1980            0                                                 []   \n",
       "991    2000            0                                                 []   \n",
       "992    1980            0                                                 []   \n",
       "993    1990            0                                                 []   \n",
       "994    1990            0                                                 []   \n",
       "995    2000            0                                                 []   \n",
       "998    1980          504  [([309151, 309249], 15), ([345201, 346047], 13...   \n",
       "\n",
       "                                             Wordcounts  \n",
       "1024                                                 []  \n",
       "1027                                                 []  \n",
       "1031                                                 []  \n",
       "1033                                                 []  \n",
       "1034                                                 []  \n",
       "1039                                                 []  \n",
       "1049                                                 []  \n",
       "1051                                                 []  \n",
       "1066                                                 []  \n",
       "1082                                                 []  \n",
       "1107                                                 []  \n",
       "1121                                                 []  \n",
       "1122                                                 []  \n",
       "1123                                                 []  \n",
       "1130                                                 []  \n",
       "1131                                                 []  \n",
       "1132                                                 []  \n",
       "1134                                                 []  \n",
       "1137                                                 []  \n",
       "1184                                                 []  \n",
       "1185                                                 []  \n",
       "1191                                                 []  \n",
       "1194                                                 []  \n",
       "1212                                                 []  \n",
       "1216                                                 []  \n",
       "1219                                                 []  \n",
       "1220                                                 []  \n",
       "1221                                                 []  \n",
       "1222                                                 []  \n",
       "1224                                                 []  \n",
       "...                                                 ...  \n",
       "6068                                                 []  \n",
       "607                                                  []  \n",
       "608                                                  []  \n",
       "610                                                  []  \n",
       "617                                                  []  \n",
       "694                                                  []  \n",
       "695                                                  []  \n",
       "699                                                  []  \n",
       "710                                                  []  \n",
       "715                                                  []  \n",
       "716                                                  []  \n",
       "740                                                  []  \n",
       "743                                                  []  \n",
       "855                                                  []  \n",
       "875                                                  []  \n",
       "891                                                  []  \n",
       "944                                                  []  \n",
       "977                                                  []  \n",
       "979                                                  []  \n",
       "980                                                  []  \n",
       "987                                                  []  \n",
       "988                                                  []  \n",
       "989                                                  []  \n",
       "990                                                  []  \n",
       "991                                                  []  \n",
       "992                                                  []  \n",
       "993                                                  []  \n",
       "994                                                  []  \n",
       "995                                                  []  \n",
       "998   [18, 160, 78, 26, 35, 18, 39, 36, 30, 56, 40, ...  \n",
       "\n",
       "[457 rows x 25 columns]"
      ]
     },
     "execution_count": 57,
     "metadata": {},
     "output_type": "execute_result"
    }
   ],
   "source": [
    "df[df.title.apply(isGarbage)] # How many garbage items? "
   ]
  },
  {
   "cell_type": "code",
   "execution_count": 106,
   "metadata": {},
   "outputs": [],
   "source": [
    "# Try to find out what articles contain no Middlemarch citations\n",
    "articlesWithoutMatches = df[df['Locations in A'].apply(lambda x: len(x) == 0)]\n"
   ]
  },
  {
   "cell_type": "code",
   "execution_count": 107,
   "metadata": {},
   "outputs": [
    {
     "data": {
      "text/plain": [
       "[['Back Matter'],\n",
       " ['Front Matter'],\n",
       " ['Volume Information'],\n",
       " ['Summary of Periodical Literature'],\n",
       " ['Recent Studies in the Nineteenth Century'],\n",
       " ['Books Received'],\n",
       " ['List of Publications Received'],\n",
       " ['Recent Books'],\n",
       " ['Abstracts'],\n",
       " ['Review']]"
      ]
     },
     "execution_count": 107,
     "metadata": {},
     "output_type": "execute_result"
    }
   ],
   "source": [
    "n = 10\n",
    "articlesWithoutMatches['title'].value_counts()[:n].index.tolist()"
   ]
  },
  {
   "cell_type": "code",
   "execution_count": 108,
   "metadata": {},
   "outputs": [
    {
     "data": {
      "text/plain": [
       "count              4427\n",
       "unique             3645\n",
       "top       [Back Matter]\n",
       "freq                208\n",
       "Name: title, dtype: object"
      ]
     },
     "execution_count": 108,
     "metadata": {},
     "output_type": "execute_result"
    }
   ],
   "source": [
    "# What is the most frequent name of articles with no citations?\n",
    "articlesWithoutMatches['title'].describe()"
   ]
  }
 ],
 "metadata": {
  "kernelspec": {
   "display_name": "Python 3",
   "language": "python",
   "name": "python3"
  },
  "language_info": {
   "codemirror_mode": {
    "name": "ipython",
    "version": 3
   },
   "file_extension": ".py",
   "mimetype": "text/x-python",
   "name": "python",
   "nbconvert_exporter": "python",
   "pygments_lexer": "ipython3",
   "version": "3.7.0"
  }
 },
 "nbformat": 4,
 "nbformat_minor": 2
}
