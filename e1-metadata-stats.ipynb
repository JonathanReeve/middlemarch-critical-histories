{
 "cells": [
  {
   "cell_type": "markdown",
   "metadata": {},
   "source": [
    "# Statistics about the Full JSTOR Corpus"
   ]
  },
  {
   "cell_type": "code",
   "execution_count": 202,
   "metadata": {
    "collapsed": false
   },
   "outputs": [],
   "source": [
    "import json\n",
    "from collections import Counter\n",
    "import pandas as pd\n",
    "from nltk.corpus import names\n",
    "%matplotlib inline"
   ]
  },
  {
   "cell_type": "code",
   "execution_count": 67,
   "metadata": {
    "collapsed": false
   },
   "outputs": [],
   "source": [
    "# Load the data. \n",
    "with open('txt/middlemarch.json') as f: \n",
    "    mm = f.readlines()"
   ]
  },
  {
   "cell_type": "code",
   "execution_count": 76,
   "metadata": {
    "collapsed": false
   },
   "outputs": [
    {
     "data": {
      "text/plain": [
       "6069"
      ]
     },
     "execution_count": 76,
     "metadata": {},
     "output_type": "execute_result"
    }
   ],
   "source": [
    "# How many articles are there? \n",
    "len(mm)"
   ]
  },
  {
   "cell_type": "code",
   "execution_count": 78,
   "metadata": {
    "collapsed": false
   },
   "outputs": [],
   "source": [
    "# Parse the data. \n",
    "data = [json.loads(line) for line in mm]"
   ]
  },
  {
   "cell_type": "code",
   "execution_count": 101,
   "metadata": {
    "collapsed": false
   },
   "outputs": [
    {
     "data": {
      "text/plain": [
       "{'author',\n",
       " 'coverdate',\n",
       " 'disc_name',\n",
       " 'doi',\n",
       " 'id',\n",
       " 'jcode',\n",
       " 'la',\n",
       " 'no',\n",
       " 'ocr',\n",
       " 'pages',\n",
       " 'publisher_name',\n",
       " 'sp',\n",
       " 'srcHtml',\n",
       " 'title',\n",
       " 'topics',\n",
       " 'ty',\n",
       " 'vo',\n",
       " 'year'}"
      ]
     },
     "execution_count": 101,
     "metadata": {},
     "output_type": "execute_result"
    }
   ],
   "source": [
    "# What kind of metadata is there for each article? \n",
    "set([key for key in article.keys() for article in data])"
   ]
  },
  {
   "cell_type": "code",
   "execution_count": 118,
   "metadata": {
    "collapsed": false
   },
   "outputs": [
    {
     "name": "stdout",
     "output_type": "stream",
     "text": [
      "['eng']\n",
      "['1']\n",
      "69\n",
      "fla\n",
      "['39']\n"
     ]
    }
   ],
   "source": [
    "# What are those abbreviated fields? \n",
    "\n",
    "for field in ['la', 'no', 'sp', 'ty', 'vo']: \n",
    "    print(data[0][field])"
   ]
  },
  {
   "cell_type": "code",
   "execution_count": 60,
   "metadata": {
    "collapsed": false
   },
   "outputs": [
    {
     "data": {
      "text/plain": [
       "<matplotlib.axes._subplots.AxesSubplot at 0x7f66cba1a320>"
      ]
     },
     "execution_count": 60,
     "metadata": {},
     "output_type": "execute_result"
    },
    {
     "data": {
      "image/png": "[encoded data removed]",
      "text/plain": [
       "<matplotlib.figure.Figure at 0x7f66cbbf2da0>"
      ]
     },
     "metadata": {},
     "output_type": "display_data"
    }
   ],
   "source": [
    "# What years are represented by these articles? \n",
    "years = [item['year'] for item in data]\n",
    "\n",
    "# And what decades? \n",
    "decades = [(year - (year % 10)) for year in years]\n",
    "\n",
    "# Plot the articles by decade. \n",
    "pd.Series(Counter(decades)).plot(kind='bar')"
   ]
  },
  {
   "cell_type": "code",
   "execution_count": 134,
   "metadata": {
    "collapsed": false
   },
   "outputs": [
    {
     "data": {
      "text/plain": [
       "Counter({'EN': 2,\n",
       "         'ara': 2,\n",
       "         'cze': 1,\n",
       "         'en': 263,\n",
       "         'eng': 5747,\n",
       "         'fre': 17,\n",
       "         'ger': 15,\n",
       "         'gle': 1,\n",
       "         'heb': 2,\n",
       "         'ita': 6,\n",
       "         'por': 1,\n",
       "         'spa': 10,\n",
       "         'wel': 2})"
      ]
     },
     "execution_count": 134,
     "metadata": {},
     "output_type": "execute_result"
    }
   ],
   "source": [
    "# What languages are represented? \n",
    "\n",
    "languages = [article['la'] for article in data if 'la' in article]\n",
    "languages = [item[0] for item in languages] # Flatten\n",
    "Counter(languages)"
   ]
  },
  {
   "cell_type": "code",
   "execution_count": 102,
   "metadata": {
    "collapsed": false
   },
   "outputs": [
    {
     "data": {
      "text/plain": [
       "[('Victorian Studies', 424),\n",
       " ('George Eliot - George Henry Lewes Studies', 206),\n",
       " ('Nineteenth-Century Fiction', 192),\n",
       " ('The Modern Language Review', 188),\n",
       " ('The Review of English Studies', 185),\n",
       " ('NOVEL: A Forum on Fiction', 126),\n",
       " ('Nineteenth-Century Literature', 126),\n",
       " ('Studies in the Novel', 120),\n",
       " ('Studies in English Literature, 1500-1900', 85),\n",
       " ('ELH', 77),\n",
       " ('Style', 76),\n",
       " ('Modern Philology', 71),\n",
       " ('College English', 50),\n",
       " ('The George Eliot, George Henry Lewes Newsletter', 47),\n",
       " ('The Yearbook of English Studies', 46),\n",
       " ('Victorian Periodicals Review', 45),\n",
       " ('The Sewanee Review', 45),\n",
       " ('The Hudson Review', 43),\n",
       " ('The Cambridge Quarterly', 33),\n",
       " ('Critical Inquiry', 30)]"
      ]
     },
     "execution_count": 102,
     "metadata": {},
     "output_type": "execute_result"
    }
   ],
   "source": [
    "# What are the most common journals represented here? \n",
    "journals = [article['journal'] for article in data if 'journal' in article]\n",
    "Counter(journals).most_common(20)"
   ]
  },
  {
   "cell_type": "code",
   "execution_count": 103,
   "metadata": {
    "collapsed": true
   },
   "outputs": [],
   "source": [
    "# What are the top journals per decade? \n",
    "\n",
    "# First, make a dictionary of articles by decade. \n",
    "articlesByDecade = {decade: [] for decade in set(decades)}\n",
    "for article in data: \n",
    "    thisDecade = (article['year']//10)*10 \n",
    "    articlesByDecade[thisDecade].append(article)"
   ]
  },
  {
   "cell_type": "code",
   "execution_count": 109,
   "metadata": {
    "collapsed": false
   },
   "outputs": [],
   "source": [
    "# Next, make a dictionary of journal names by decade. \n",
    "journalsByDecade = {decade: [] for decade in set(decades)}\n",
    "for decade, articles in articlesByDecade.items(): \n",
    "    for article in articles: \n",
    "        if 'journal' in article: \n",
    "            journalsByDecade[decade].append(article['journal'])\n",
    "journalsByDecadeStats = {decade: Counter(journals).most_common(5) for decade, journals in journalsByDecade.items()}"
   ]
  },
  {
   "cell_type": "code",
   "execution_count": 110,
   "metadata": {
    "collapsed": false
   },
   "outputs": [
    {
     "data": {
      "text/plain": [
       "{1870: [('Bristol Selected Pamphlets', 1),\n",
       "  ('Jahrbücher für Nationalökonomie und Statistik / Journal of Economics and Statistics',\n",
       "   1)],\n",
       " 1880: [('Bristol Selected Pamphlets', 3),\n",
       "  ('Mind', 2),\n",
       "  ('The Journal of the Royal Asiatic Society of Great Britain and Ireland',\n",
       "   1)],\n",
       " 1890: [('The School Review', 2),\n",
       "  ('Foreign and Commonwealth Office Collection', 1),\n",
       "  ('LSE Selected Pamphlets', 1),\n",
       "  ('International Journal of Ethics', 1),\n",
       "  ('Modern Art', 1)],\n",
       " 1900: [('The Sewanee Review', 1),\n",
       "  ('International Journal of Ethics', 1),\n",
       "  ('Brush and Pencil', 1)],\n",
       " 1910: [('The Sewanee Review', 3),\n",
       "  ('Proceedings of the Aristotelian Society', 2),\n",
       "  ('The Pennsylvania Magazine of History and Biography', 1),\n",
       "  ('International Journal of Ethics', 1),\n",
       "  ('American Journal of Sociology', 1)],\n",
       " 1920: [('The Review of English Studies', 1),\n",
       "  ('The Modern Language Review', 1),\n",
       "  ('The Sewanee Review', 1),\n",
       "  ('Modern Philology', 1),\n",
       "  ('Texas Review', 1)],\n",
       " 1930: [('Studies in Philology', 2),\n",
       "  ('The Sewanee Review', 2),\n",
       "  ('American Literature', 1),\n",
       "  ('Proceedings of the Aristotelian Society', 1),\n",
       "  ('The Mathematical Gazette', 1)],\n",
       " 1940: [('The Modern Language Review', 4),\n",
       "  ('Modern Philology', 4),\n",
       "  ('Modern Language Notes', 3),\n",
       "  ('College English', 3),\n",
       "  ('Publications of the American Jewish Historical Society', 1)],\n",
       " 1950: [('Nineteenth-Century Fiction', 19),\n",
       "  ('College English', 10),\n",
       "  ('Victorian Studies', 9),\n",
       "  ('The Review of English Studies', 8),\n",
       "  ('Modern Philology', 8)],\n",
       " 1960: [('Victorian Studies', 51),\n",
       "  ('Nineteenth-Century Fiction', 40),\n",
       "  ('The Modern Language Review', 34),\n",
       "  ('The Review of English Studies', 23),\n",
       "  ('NOVEL: A Forum on Fiction', 10)],\n",
       " 1970: [('Nineteenth-Century Fiction', 69),\n",
       "  ('Victorian Studies', 60),\n",
       "  ('The Review of English Studies', 47),\n",
       "  ('The Modern Language Review', 31),\n",
       "  ('NOVEL: A Forum on Fiction', 28)],\n",
       " 1980: [('Victorian Studies', 86),\n",
       "  ('Nineteenth-Century Fiction', 63),\n",
       "  ('The Review of English Studies', 60),\n",
       "  ('The Modern Language Review', 48),\n",
       "  ('Studies in the Novel', 40)],\n",
       " 1990: [('Victorian Studies', 82),\n",
       "  ('George Eliot - George Henry Lewes Studies', 80),\n",
       "  ('Nineteenth-Century Literature', 51),\n",
       "  ('NOVEL: A Forum on Fiction', 31),\n",
       "  ('The Modern Language Review', 31)],\n",
       " 2000: [('Victorian Studies', 81),\n",
       "  ('George Eliot - George Henry Lewes Studies', 75),\n",
       "  ('Studies in English Literature, 1500-1900', 29),\n",
       "  ('Studies in the Novel', 25),\n",
       "  ('NOVEL: A Forum on Fiction', 24)],\n",
       " 2010: [('Style', 55),\n",
       "  ('Victorian Studies', 55),\n",
       "  ('George Eliot - George Henry Lewes Studies', 51),\n",
       "  ('Nineteenth-Century Literature', 31),\n",
       "  ('The Modern Language Review', 12)]}"
      ]
     },
     "execution_count": 110,
     "metadata": {},
     "output_type": "execute_result"
    }
   ],
   "source": [
    "journalsByDecadeStats"
   ]
  },
  {
   "cell_type": "code",
   "execution_count": 35,
   "metadata": {
    "collapsed": false
   },
   "outputs": [],
   "source": [
    "# Extract topics. \n",
    "topics = [item['topics'] for item in data if 'topics' in item]"
   ]
  },
  {
   "cell_type": "code",
   "execution_count": 36,
   "metadata": {
    "collapsed": false
   },
   "outputs": [
    {
     "data": {
      "text/plain": [
       "5723"
      ]
     },
     "execution_count": 36,
     "metadata": {},
     "output_type": "execute_result"
    }
   ],
   "source": [
    "# How many articles are there that have assigned topics? \n",
    "len(topics)"
   ]
  },
  {
   "cell_type": "code",
   "execution_count": 50,
   "metadata": {
    "collapsed": false
   },
   "outputs": [
    {
     "data": {
      "text/plain": [
       "14228"
      ]
     },
     "execution_count": 50,
     "metadata": {},
     "output_type": "execute_result"
    }
   ],
   "source": [
    "# How many total topics are there? \n",
    "allTopics = [item for sublist in topics for item in sublist] # Flatten list. \n",
    "countedTopics = Counter(allTopics)\n",
    "len(countedTopics)"
   ]
  },
  {
   "cell_type": "code",
   "execution_count": 72,
   "metadata": {
    "collapsed": false
   },
   "outputs": [
    {
     "data": {
      "text/plain": [
       "[('Novelists', 1337),\n",
       " ('Novels', 874),\n",
       " ('Pity', 672),\n",
       " ('Sympathy', 656),\n",
       " ('Irony', 642),\n",
       " ('Literary criticism', 510),\n",
       " ('Poetry', 468),\n",
       " ('Music criticism', 453),\n",
       " ('Women', 424),\n",
       " ('Anthologies', 406),\n",
       " ('Narratology', 403),\n",
       " ('Bibliographies', 391),\n",
       " ('Biographers', 390),\n",
       " ('Satire', 380),\n",
       " ('Idealism', 378),\n",
       " ('Love', 369),\n",
       " ('Vocation', 361),\n",
       " ('Biography', 353),\n",
       " ('Fear', 349),\n",
       " ('Humor', 346)]"
      ]
     },
     "execution_count": 72,
     "metadata": {},
     "output_type": "execute_result"
    }
   ],
   "source": [
    "# What are the top topics, and how often do they appear? \n",
    "countedTopics.most_common(20)"
   ]
  },
  {
   "cell_type": "code",
   "execution_count": 82,
   "metadata": {
    "collapsed": false
   },
   "outputs": [],
   "source": [
    "# What about the top topics per decade? \n",
    "\n",
    "# Make a dictionary of topics by decade. \n",
    "topicsByDecade = {decade: [] for decade in set(decades)} \n",
    "for decade, articles in articlesByDecade.items(): \n",
    "    for article in articles: \n",
    "        if 'topics' in article: \n",
    "            for topic in article['topics']: \n",
    "                topicsByDecade[decade].append(topic)"
   ]
  },
  {
   "cell_type": "code",
   "execution_count": 94,
   "metadata": {
    "collapsed": false
   },
   "outputs": [],
   "source": [
    "# Get stats about the topics in each decade. \n",
    "topicsByDecadeStats = {decade: Counter(topics).most_common(10) for decade, topics in topicsByDecade.items()} "
   ]
  },
  {
   "cell_type": "code",
   "execution_count": 111,
   "metadata": {
    "collapsed": false
   },
   "outputs": [
    {
     "data": {
      "text/plain": [
       "{1870: [('Pity', 5),\n",
       "  ('Perfection', 4),\n",
       "  ('Satire', 4),\n",
       "  ('Humor', 3),\n",
       "  ('Poetry', 3),\n",
       "  ('Idealism', 3),\n",
       "  ('Tears', 3),\n",
       "  ('Volition', 3),\n",
       "  ('Disgust', 3),\n",
       "  ('Denouement', 3)],\n",
       " 1880: [('Courage', 4),\n",
       "  ('Pity', 3),\n",
       "  ('Novelists', 3),\n",
       "  ('Humanity', 3),\n",
       "  ('Fear', 2),\n",
       "  ('Deities', 2),\n",
       "  ('Perfection', 2),\n",
       "  ('Beauty', 2),\n",
       "  ('Spiritual love', 2),\n",
       "  ('Fables', 2)],\n",
       " 1890: [('Novelists', 6),\n",
       "  ('Vocation', 3),\n",
       "  ('Insanity defenses', 3),\n",
       "  ('Sadness', 3),\n",
       "  ('Herniorrhaphy', 2),\n",
       "  ('Injustice', 2),\n",
       "  ('Heirs', 2),\n",
       "  ('Priests', 2),\n",
       "  ('Bicycles', 2),\n",
       "  ('Financiers', 2)],\n",
       " 1900: [('Humor', 5),\n",
       "  ('Love', 3),\n",
       "  ('Health professions', 3),\n",
       "  ('Courage', 3),\n",
       "  ('Novelists', 3),\n",
       "  ('Surgeons', 3),\n",
       "  ('Road shoulders', 2),\n",
       "  ('Financiers', 2),\n",
       "  ('Heroes', 2),\n",
       "  ('Rapture', 2)],\n",
       " 1910: [('Pity', 6),\n",
       "  ('Novelists', 6),\n",
       "  ('Humor', 5),\n",
       "  ('Pathos', 5),\n",
       "  ('Biographers', 4),\n",
       "  ('Envy', 4),\n",
       "  ('Sweetness', 3),\n",
       "  ('Sadness', 3),\n",
       "  ('Cynicism', 3),\n",
       "  ('Humorists', 3)],\n",
       " 1920: [('Novelists', 5),\n",
       "  ('Beauty', 4),\n",
       "  ('Pity', 3),\n",
       "  ('Honesty', 3),\n",
       "  ('Humanity', 3),\n",
       "  ('Writing instruction', 2),\n",
       "  ('Pronouns', 2),\n",
       "  ('Prepositions', 2),\n",
       "  ('Pulpits', 2),\n",
       "  ('Journalism', 2)],\n",
       " 1930: [('Satire', 6),\n",
       "  ('Sympathy', 6),\n",
       "  ('Novelists', 6),\n",
       "  ('Underwater photography', 4),\n",
       "  ('Biographers', 4),\n",
       "  ('Celebrations', 4),\n",
       "  ('Cynicism', 4),\n",
       "  ('Paradise', 4),\n",
       "  ('Reductio ad absurdum', 4),\n",
       "  ('Pity', 4)],\n",
       " 1940: [('Novelists', 11),\n",
       "  ('Sonnets', 7),\n",
       "  ('Reminiscences', 7),\n",
       "  ('Ballads', 7),\n",
       "  ('Bibliographies', 6),\n",
       "  ('Melodrama', 6),\n",
       "  ('Literary criticism', 6),\n",
       "  ('Eurythmy', 5),\n",
       "  ('Biographers', 5),\n",
       "  ('Epic dramas', 5)],\n",
       " 1950: [('Novelists', 55),\n",
       "  ('Poetry', 25),\n",
       "  ('Pity', 22),\n",
       "  ('Literary criticism', 22),\n",
       "  ('Bibliographies', 21),\n",
       "  ('Biographers', 19),\n",
       "  ('Novels', 17),\n",
       "  ('Sympathy', 16),\n",
       "  ('Music criticism', 16),\n",
       "  ('Humor', 15)],\n",
       " 1960: [('Novelists', 136),\n",
       "  ('Poetry', 71),\n",
       "  ('Literary criticism', 68),\n",
       "  ('Novels', 66),\n",
       "  ('Pity', 56),\n",
       "  ('Irony', 55),\n",
       "  ('Bibliographies', 55),\n",
       "  ('Music criticism', 52),\n",
       "  ('Anthologies', 49),\n",
       "  ('Text editing', 48)],\n",
       " 1970: [('Novelists', 232),\n",
       "  ('Novels', 133),\n",
       "  ('Irony', 112),\n",
       "  ('Pity', 84),\n",
       "  ('Literary criticism', 80),\n",
       "  ('Poetry', 80),\n",
       "  ('Sympathy', 80),\n",
       "  ('Bibliographies', 66),\n",
       "  ('Music criticism', 65),\n",
       "  ('Anthologies', 62)],\n",
       " 1980: [('Novelists', 303),\n",
       "  ('Novels', 214),\n",
       "  ('Sympathy', 150),\n",
       "  ('Irony', 136),\n",
       "  ('Pity', 121),\n",
       "  ('Literary criticism', 105),\n",
       "  ('Music criticism', 104),\n",
       "  ('Poetry', 97),\n",
       "  ('Biography', 90),\n",
       "  ('Narratology', 87)],\n",
       " 1990: [('Novelists', 226),\n",
       "  ('Novels', 153),\n",
       "  ('Women', 110),\n",
       "  ('Pity', 103),\n",
       "  ('Irony', 101),\n",
       "  ('Anthologies', 101),\n",
       "  ('Sympathy', 97),\n",
       "  ('Literary criticism', 95),\n",
       "  ('Music criticism', 91),\n",
       "  ('Narratology', 88)],\n",
       " 2000: [('Novelists', 204),\n",
       "  ('Novels', 160),\n",
       "  ('Sympathy', 156),\n",
       "  ('Pity', 151),\n",
       "  ('Irony', 129),\n",
       "  ('Biographers', 107),\n",
       "  ('Women', 105),\n",
       "  ('Vocation', 96),\n",
       "  ('Narratology', 93),\n",
       "  ('Envy', 84)],\n",
       " 2010: [('Novelists', 140),\n",
       "  ('Novels', 122),\n",
       "  ('Pity', 106),\n",
       "  ('Sympathy', 95),\n",
       "  ('Narratology', 94),\n",
       "  ('Irony', 88),\n",
       "  ('Women', 67),\n",
       "  ('Fear', 64),\n",
       "  ('Literary criticism', 55),\n",
       "  ('Interiority', 55)]}"
      ]
     },
     "execution_count": 111,
     "metadata": {},
     "output_type": "execute_result"
    }
   ],
   "source": [
    "topicsByDecadeStats"
   ]
  },
  {
   "cell_type": "code",
   "execution_count": 148,
   "metadata": {
    "collapsed": false
   },
   "outputs": [
    {
     "name": "stdout",
     "output_type": "stream",
     "text": [
      "Article e74da730-0474-37d5-a8bb-8c2fdd073bfe\n",
      "\ttitle: ???\n",
      "\tjournal: ???\n",
      "\tyear: 1937\n",
      "Article 495c2689-66be-33da-9c09-254f6962bd22\n",
      "\ttitle: ???\n",
      "\tjournal: ???\n",
      "\tyear: 1937\n",
      "Article a079e6e7-6f21-3284-9a0b-e05d860855ba\n",
      "\ttitle: ???\n",
      "\tjournal: ???\n",
      "\tyear: 1937\n",
      "Article 416ddbbd-a6be-3df9-a3de-acaa2f97dd25\n",
      "\ttitle: ???\n",
      "\tjournal: ???\n",
      "\tyear: 1937\n",
      "Article f8231693-237d-352f-b5b6-e00cbc426290\n",
      "\ttitle: ['Some Sources for the History of the School Manager, 1800-1902']\n",
      "\tjournal: British Journal of Educational Studies\n",
      "\tyear: 1973\n",
      "Article 73aa7323-adc9-360a-8dae-7b26402b2903\n",
      "\ttitle: ['Health Policies, Health Politics', 'The British and American Experience, 1911-1965', 'NOTE ON SOURCES']\n",
      "\tjournal: ???\n",
      "\tyear: 1986\n"
     ]
    }
   ],
   "source": [
    "# What are these underwater photography articles?!\n",
    "underwaterPhotographyArticles = [article for article in data if 'topics' in article and 'Underwater photography' in article['topics']]\n",
    "for article in underwaterPhotographyArticles: \n",
    "    print('Article %s' % article['id'])\n",
    "    for key in ['title', 'journal', 'year']: \n",
    "            if key in article: \n",
    "                print('\\t%s: %s' % (key, article[key]))\n",
    "            else: \n",
    "                print('\\t%s: ???' % (key))"
   ]
  },
  {
   "cell_type": "code",
   "execution_count": 177,
   "metadata": {
    "collapsed": false
   },
   "outputs": [],
   "source": [
    "# Make a list of authors. \n",
    "authors = [article['author'] for article in data if 'author' in article]"
   ]
  },
  {
   "cell_type": "code",
   "execution_count": 178,
   "metadata": {
    "collapsed": false,
    "scrolled": true
   },
   "outputs": [],
   "source": [
    "authors = [item for sublist in authors for item in sublist]"
   ]
  },
  {
   "cell_type": "code",
   "execution_count": 180,
   "metadata": {
    "collapsed": false
   },
   "outputs": [
    {
     "data": {
      "text/plain": [
       "[('U. C. Knoepflmacher', 26),\n",
       " ('DONALD HAWES', 24),\n",
       " ('George Levine', 24),\n",
       " ('J. Hillis Miller', 20),\n",
       " ('JEROME MECKIER', 16),\n",
       " ('Rosemary Ashton', 15),\n",
       " ('Edward H. Cohen', 15),\n",
       " ('Daniel Cottom', 15),\n",
       " ('FELICIA BONAPARTE', 14),\n",
       " ('G. B. Tennyson', 14)]"
      ]
     },
     "execution_count": 180,
     "metadata": {},
     "output_type": "execute_result"
    }
   ],
   "source": [
    "# Who are the rockstar Eliot scholars? \n",
    "Counter(authors).most_common(10)"
   ]
  },
  {
   "cell_type": "code",
   "execution_count": 182,
   "metadata": {
    "collapsed": false
   },
   "outputs": [],
   "source": [
    "uniqueAuthors = set(authors)"
   ]
  },
  {
   "cell_type": "code",
   "execution_count": 183,
   "metadata": {
    "collapsed": false
   },
   "outputs": [],
   "source": [
    "# This is a bit iffy, but we might be able to guess the gender of authors by looking at their first names. \n",
    "maleNames = names.words('male.txt')\n",
    "femaleNames = names.words('female.txt')\n",
    "\n",
    "# Lowercase the names so we can look them up easier. \n",
    "maleNames = [name.lower() for name in maleNames]\n",
    "femaleNames = [name.lower() for name in femaleNames]"
   ]
  },
  {
   "cell_type": "code",
   "execution_count": 190,
   "metadata": {
    "collapsed": false
   },
   "outputs": [],
   "source": [
    "genderCategories = ['Male', 'Female', 'Ambiguous', 'Unknown']\n",
    "genderGuesses = {category: 0 for category in genderCategories}\n",
    "genderGuessedNames = {category: [] for category in genderCategories}\n",
    "\n",
    "for author in uniqueAuthors: \n",
    "    firstName = author.split(' ')[0].lower()\n",
    "    if firstName in maleNames and firstName in femaleNames: \n",
    "        genderGuesses['Ambiguous'] += 1\n",
    "        genderGuessedNames['Ambiguous'].append(firstName)\n",
    "    elif firstName in maleNames: \n",
    "        genderGuesses['Male'] += 1 \n",
    "        genderGuessedNames['Male'].append(firstName)\n",
    "    elif firstName in femaleNames: \n",
    "        genderGuesses['Female'] += 1\n",
    "        genderGuessedNames['Female'].append(firstName)\n",
    "    else: \n",
    "        genderGuesses['Unknown'] += 1   \n",
    "        genderGuessedNames['Unknown'].append(firstName)"
   ]
  },
  {
   "cell_type": "code",
   "execution_count": 195,
   "metadata": {
    "collapsed": false
   },
   "outputs": [
    {
     "data": {
      "text/plain": [
       "<matplotlib.axes._subplots.AxesSubplot at 0x7f66d8e125f8>"
      ]
     },
     "execution_count": 195,
     "metadata": {},
     "output_type": "execute_result"
    },
    {
     "data": {
      "image/png": "[encoded data removed]",
      "text/plain": [
       "<matplotlib.figure.Figure at 0x7f66d8e27240>"
      ]
     },
     "metadata": {},
     "output_type": "display_data"
    }
   ],
   "source": [
    "pd.Series(genderGuesses).plot(kind='pie', label=\"Guessed Gender\")"
   ]
  },
  {
   "cell_type": "code",
   "execution_count": 200,
   "metadata": {
    "collapsed": true
   },
   "outputs": [],
   "source": [
    "# Are there any articles with the exact same title (possible duplicates)? \n",
    "titles = [article['title'] for article in data if 'title' in article]\n",
    "titles = [item for sublist in titles for item in sublist] # Flatten"
   ]
  },
  {
   "cell_type": "code",
   "execution_count": 201,
   "metadata": {
    "collapsed": false
   },
   "outputs": [
    {
     "data": {
      "text/plain": [
       "[('Front Matter', 212),\n",
       " ('Back Matter', 209),\n",
       " ('Index', 166),\n",
       " ('Volume Information', 125),\n",
       " ('Notes', 89),\n",
       " ('INDEX', 70),\n",
       " ('Bibliography', 47),\n",
       " ('Summary of Periodical Literature', 42),\n",
       " ('NOTES', 31),\n",
       " ('Recent Studies in the Nineteenth Century', 30),\n",
       " ('Introduction', 27),\n",
       " ('Works Cited', 26),\n",
       " ('Table of Contents', 21),\n",
       " ('Books Received', 19),\n",
       " ('List of Publications Received', 17),\n",
       " ('The Making of Nineteenth-Century English Fiction', 14),\n",
       " ('The Poetics of Poesis', 14),\n",
       " ('Recent Books', 13),\n",
       " ('Abstracts', 13),\n",
       " ('Social Figures', 12)]"
      ]
     },
     "execution_count": 201,
     "metadata": {},
     "output_type": "execute_result"
    }
   ],
   "source": [
    "Counter(titles).most_common(20)"
   ]
  }
 ],
 "metadata": {
  "kernelspec": {
   "display_name": "Python 3",
   "language": "python",
   "name": "python3"
  },
  "language_info": {
   "codemirror_mode": {
    "name": "ipython",
    "version": 3
   },
   "file_extension": ".py",
   "mimetype": "text/x-python",
   "name": "python",
   "nbconvert_exporter": "python",
   "pygments_lexer": "ipython3",
   "version": "3.5.2"
  }
 },
 "nbformat": 4,
 "nbformat_minor": 1
}
