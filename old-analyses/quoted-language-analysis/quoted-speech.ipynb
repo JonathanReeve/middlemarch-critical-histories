{
 "cells": [
  {
   "cell_type": "markdown",
   "metadata": {},
   "source": [
    "# Exploratory analysis of quoted speech"
   ]
  },
  {
   "cell_type": "code",
   "execution_count": 3,
   "metadata": {
    "collapsed": false
   },
   "outputs": [],
   "source": [
    "from collections import Counter\n",
    "import pandas as pd\n",
    "%matplotlib inline\n",
    "from pylab import rcParams\n",
    "from bs4 import BeautifulSoup\n",
    "import textacy\n",
    "rcParams['figure.figsize'] = 10, 4\n",
    "import matplotlib.pyplot as plt\n",
    "plt.style.use('ggplot')"
   ]
  },
  {
   "cell_type": "code",
   "execution_count": 4,
   "metadata": {
    "collapsed": true
   },
   "outputs": [],
   "source": [
    "import spacy\n",
    "nlp = spacy.load('en')"
   ]
  },
  {
   "cell_type": "code",
   "execution_count": 7,
   "metadata": {
    "collapsed": true
   },
   "outputs": [],
   "source": [
    "def proportionWithTag(doc, tag):\n",
    "    \"\"\" Returns the proportion of words in the document that have a certain POS tag. \n",
    "    If given a list instead of a tag, returns the proportions of words in the document \n",
    "    that have those tags.\"\"\"\n",
    "    totalWords = len(doc)\n",
    "    if type(tag) == list: \n",
    "        wordsWithTag = [word for word in doc if word.tag_ in tag]\n",
    "    else: \n",
    "        wordsWithTag = [word for word in doc if word.tag_ == tag]\n",
    "    return len(wordsWithTag)/totalWords\n",
    "\n",
    "def proportionWithLemma(doc, lemma): \n",
    "    totalWords = len(doc)\n",
    "    wordsWithLemma = [word for word in doc if word.lemma_ == lemma]\n",
    "    return len(wordsWithLemma)/totalWords"
   ]
  },
  {
   "cell_type": "code",
   "execution_count": 8,
   "metadata": {
    "collapsed": true
   },
   "outputs": [],
   "source": [
    "def beProportion(doc): \n",
    "    totalWords = len(doc)\n",
    "    bes = [word for word in doc if word.lemma_ == 'be' and word.tag_ in verbtags] # 488 is \"be\" \n",
    "    return len(bes)/totalWords"
   ]
  },
  {
   "cell_type": "markdown",
   "metadata": {},
   "source": [
    "\n",
    "From the Penn Treebank table: \n",
    "https://www.ling.upenn.edu/courses/Fall_2003/ling001/penn_treebank_pos.html\n",
    "\n",
    "27. \tVB \tVerb, base form\n",
    "28. \tVBD \tVerb, past tense\n",
    "29. \tVBG \tVerb, gerund or present participle\n",
    "30. \tVBN \tVerb, past participle\n",
    "31. \tVBP \tVerb, non-3rd person singular present\n",
    "32. \tVBZ \tVerb, 3rd person singular present "
   ]
  },
  {
   "cell_type": "code",
   "execution_count": 9,
   "metadata": {
    "collapsed": true
   },
   "outputs": [],
   "source": [
    "presentVerbTags = ['VB', 'VBG', 'VBP', 'VBZ']\n",
    "verbtags = ['VB', 'VBD', 'VBG', 'VBN', 'VBP', 'VBZ']"
   ]
  },
  {
   "cell_type": "code",
   "execution_count": 13,
   "metadata": {
    "collapsed": true
   },
   "outputs": [],
   "source": [
    "tagDict = {\"CC\": \"Coordinating conjunction\",\n",
    "\"DT\": \"Determiner\",\n",
    "\"EX\": \"Existential there\",\n",
    "\"IN\": \"Preposition or subordinating conjunction\",\n",
    "\"JJ\": \"Adjective\",\n",
    "\"JJR\": \"Adjective, comparative\",\n",
    "\"JJS\": \"Adjective, superlative\",\n",
    "\"MD\": \"Modal\",\n",
    "\"NN\": \"Noun, singular or mass\",\n",
    "\"NNS\": \"Noun, plural\",\n",
    "\"NNP\": \"Proper noun, singular\",\n",
    "\"NNPS\": \"Proper noun, plural\",\n",
    "\"PDT\": \"Predeterminer\",\n",
    "\"POS\": \"Possessive ending\",\n",
    "\"PRP\": \"Personal pronoun\",\n",
    "\"PRP$\": \"Possessive pronoun\",\n",
    "\"RB\": \"Adverb\",\n",
    "\"RBR\": \"Adverb, comparative\",\n",
    "\"RBS\": \"Adverb, superlative\",\n",
    "\"RP\": \"Particle\",\n",
    "\"TO\": \"to\",\n",
    "\"UH\": \"Interjection\",\n",
    "\"VB\": \"Verb, base form\",\n",
    "\"VBD\": \"Verb, past tense\",\n",
    "\"VBG\": \"Verb, gerund or present participle\",\n",
    "\"VBN\": \"Verb, past participle\",\n",
    "\"VBP\": \"Verb, non-3rd person singular present\",\n",
    "\"VBZ\": \"Verb, 3rd person singular present\",\n",
    "\"WDT\": \"Wh-determiner\",\n",
    "\"WP\": \"Wh-pronoun\",\n",
    "\"WP$\": \"Possessive wh-pronoun\",\n",
    "\"WRB\": \"Wh-adverb\"}"
   ]
  },
  {
   "cell_type": "code",
   "execution_count": 14,
   "metadata": {
    "collapsed": true
   },
   "outputs": [],
   "source": [
    "tagset = list(tagDict.keys())"
   ]
  },
  {
   "cell_type": "code",
   "execution_count": 15,
   "metadata": {
    "collapsed": false
   },
   "outputs": [],
   "source": [
    "def compareTags(a, b, tagset):\n",
    "    proportionsDict = {}\n",
    "    for tag in tagset: \n",
    "        proportionsDict[tag] = [proportionWithTag(x, tag) for x in [a, b]]\n",
    "    df = pd.DataFrame(proportionsDict).T\n",
    "    df['factor'] = (df[1]/df[0])-1\n",
    "    return df['factor']"
   ]
  },
  {
   "cell_type": "code",
   "execution_count": 17,
   "metadata": {
    "collapsed": false
   },
   "outputs": [],
   "source": [
    "def compareLemmas(a, b, lemmas):\n",
    "    proportionsDict = {}\n",
    "    for lemma in lemmas: \n",
    "        proportionsDict[lemma] = [proportionWithLemma(x, lemma) for x in [a, b]]\n",
    "    df = pd.DataFrame(proportionsDict).T\n",
    "    df['factor'] = df[1]/df[0]\n",
    "    df['factor'].plot(kind=\"bar\")"
   ]
  },
  {
   "cell_type": "code",
   "execution_count": 19,
   "metadata": {
    "collapsed": true
   },
   "outputs": [],
   "source": [
    "# Read annotated edition of Middlemarch\n",
    "with open('e2/annotated.html') as f: \n",
    "    annotated = f.read()"
   ]
  },
  {
   "cell_type": "code",
   "execution_count": 20,
   "metadata": {
    "collapsed": false
   },
   "outputs": [],
   "source": [
    "# Parse \n",
    "soup = BeautifulSoup(annotated, 'lxml')\n",
    "\n",
    "levels = [soup.find_all('span', 'c-'+str(level)) for level in range(17)]\n",
    "\n",
    "# Remove HTML tags. \n",
    "cleanLevels = []\n",
    "for level in levels: \n",
    "    cleanLevel = [quote.get_text() for quote in level]\n",
    "    cleanLevels.append(cleanLevel)"
   ]
  },
  {
   "cell_type": "code",
   "execution_count": 21,
   "metadata": {
    "collapsed": false
   },
   "outputs": [],
   "source": [
    "def getQuotes(cleanLevels, n): \n",
    "    \"\"\" Get quotes from list, according to n times they are quoted. \"\"\"\n",
    "    quotedGroups = cleanLevels[n:]\n",
    "    quoted = []\n",
    "    for group in quotedGroups: \n",
    "        quoted.extend(group)\n",
    "    quoted = ' '.join(quoted)\n",
    "    return quoted"
   ]
  },
  {
   "cell_type": "code",
   "execution_count": 22,
   "metadata": {
    "collapsed": true
   },
   "outputs": [],
   "source": [
    "tagset.remove('WP$')"
   ]
  },
  {
   "cell_type": "code",
   "execution_count": 23,
   "metadata": {
    "collapsed": false
   },
   "outputs": [],
   "source": [
    "unquoted = cleanLevels[0]\n",
    "quotedGroups = cleanLevels[1:]\n",
    "quoted = []\n",
    "for group in quotedGroups: \n",
    "    quoted.extend(group)\n",
    "quotes = ' '.join(quoted)\n",
    "nonquotes = ' '.join(unquoted)"
   ]
  },
  {
   "cell_type": "code",
   "execution_count": 24,
   "metadata": {
    "collapsed": false,
    "scrolled": true
   },
   "outputs": [],
   "source": [
    "quotes5 = getQuotes(cleanLevels, 5)\n",
    "quotes8 = getQuotes(cleanLevels, 8)"
   ]
  },
  {
   "cell_type": "code",
   "execution_count": null,
   "metadata": {
    "collapsed": true
   },
   "outputs": [],
   "source": [
    "nonquotesS, quotesS, quotes5S, quotes8S = nlp(nonquotes), nlp(quotes), nlp(quotes5), nlp(quotes8)"
   ]
  },
  {
   "cell_type": "code",
   "execution_count": null,
   "metadata": {
    "collapsed": false
   },
   "outputs": [],
   "source": [
    "factor_all = compareTags(nonquotesS, quotesS, tagset)\n",
    "factor_mid = compareTags(nonquotesS, quotes5S, tagset)\n",
    "factor_high = compareTags(nonquotesS, quotes8S, tagset)"
   ]
  },
  {
   "cell_type": "code",
   "execution_count": null,
   "metadata": {
    "collapsed": false
   },
   "outputs": [],
   "source": [
    "rcParams['figure.figsize'] = 8, 5\n",
    "df = pd.DataFrame([factor_all, factor_high], index=['', ''])\n",
    "ax = df.T.plot(subplots=True, kind='bar')\n",
    "ax[0].set_title('(a)')\n",
    "ax[1].set_title('(b)')\n",
    "# ax[2].set_title('(c)')"
   ]
  },
  {
   "cell_type": "code",
   "execution_count": null,
   "metadata": {
    "collapsed": false
   },
   "outputs": [],
   "source": [
    "tagDict['UH']"
   ]
  },
  {
   "cell_type": "code",
   "execution_count": null,
   "metadata": {
    "collapsed": false,
    "scrolled": true
   },
   "outputs": [],
   "source": [
    "# A list of plural nouns from highly quoted text. \n",
    "[w for w in quotes8S if w.tag_ == 'NNS']"
   ]
  },
  {
   "cell_type": "code",
   "execution_count": 288,
   "metadata": {
    "collapsed": false
   },
   "outputs": [
    {
     "data": {
      "text/plain": [
       "[Sages,\n",
       " Mythologies,\n",
       " Girls,\n",
       " Physicians,\n",
       " Middlemarchers,\n",
       " Israelites,\n",
       " Saints,\n",
       " devour-,\n",
       " Elizabethans,\n",
       " Mythologies,\n",
       " Hobbes,\n",
       " Raffles,\n",
       " Rights,\n",
       " Christians,\n",
       " Lords,\n",
       " Stars,\n",
       " Heavens,\n",
       " Stoics,\n",
       " Alexandrians,\n",
       " Garths,\n",
       " Apostles,\n",
       " Lords,\n",
       " Characters,\n",
       " Apostles,\n",
       " Moors,\n",
       " Germans]"
      ]
     },
     "execution_count": 288,
     "metadata": {},
     "output_type": "execute_result"
    }
   ],
   "source": [
    "[w for w in quotesS if w.tag_ == \"NNPS\"]"
   ]
  },
  {
   "cell_type": "code",
   "execution_count": 291,
   "metadata": {
    "collapsed": false,
    "scrolled": true
   },
   "outputs": [
    {
     "data": {
      "text/plain": [
       "[Sages,\n",
       " Mythologies,\n",
       " Girls,\n",
       " Physicians,\n",
       " Middlemarchers,\n",
       " Israelites,\n",
       " Saints,\n",
       " devour-,\n",
       " Elizabethans,\n",
       " Mythologies,\n",
       " Hobbes,\n",
       " Raffles,\n",
       " Rights,\n",
       " Christians,\n",
       " Lords,\n",
       " Stars,\n",
       " Heavens,\n",
       " Stoics,\n",
       " Alexandrians,\n",
       " Garths,\n",
       " Apostles,\n",
       " Lords,\n",
       " Characters,\n",
       " Apostles,\n",
       " Moors,\n",
       " Germans]"
      ]
     },
     "execution_count": 291,
     "metadata": {},
     "output_type": "execute_result"
    }
   ],
   "source": [
    "[w for w in quotesS if w.tag_ == \"NNPS\"]"
   ]
  },
  {
   "cell_type": "code",
   "execution_count": 89,
   "metadata": {
    "collapsed": false,
    "scrolled": true
   },
   "outputs": [],
   "source": [
    "def compareAllLemmas(a, b): \n",
    "    lemmasA = pd.Series(Counter([word.lemma_ for word in a]))\n",
    "    lemmasB = pd.Series(Counter([word.lemma_ for word in b]))\n",
    "#     df = pd.concat([lemmasA, lemmasB], axis=1).fillna(0)\n",
    "    return lemmasA, lemmasB"
   ]
  },
  {
   "cell_type": "code",
   "execution_count": 91,
   "metadata": {
    "collapsed": false,
    "scrolled": true
   },
   "outputs": [],
   "source": [
    "sa, sb = compareAllLemmas(nonquotes, quotes8)"
   ]
  },
  {
   "cell_type": "code",
   "execution_count": 100,
   "metadata": {
    "collapsed": false
   },
   "outputs": [],
   "source": [
    "df = pd.concat([sa, sb], axis=1).fillna(0)"
   ]
  },
  {
   "cell_type": "code",
   "execution_count": 123,
   "metadata": {
    "collapsed": false
   },
   "outputs": [],
   "source": [
    "# quotesBag = quotes8.to_bag_of_terms(lemmatize=True, weighting='freq', as_strings=True)\n",
    "\n",
    "def bagOfTerms(doc): \n",
    "    bag = doc.to_bag_of_terms(lemmatize=True, weighting='freq', as_strings=True)\n",
    "    return pd.Series(bag)"
   ]
  },
  {
   "cell_type": "code",
   "execution_count": 152,
   "metadata": {
    "collapsed": false,
    "scrolled": true
   },
   "outputs": [],
   "source": [
    "nonquotesDoc = textacy.Doc(nonquotes)\n",
    "quotesDoc = textacy.Doc(quotes)\n",
    "quotes5Doc = textacy.Doc(quotes5)\n",
    "quotes8Doc = textacy.Doc(quotes8)"
   ]
  },
  {
   "cell_type": "code",
   "execution_count": 153,
   "metadata": {
    "collapsed": false,
    "scrolled": true
   },
   "outputs": [],
   "source": [
    "nonquotesBag = bagOfTerms(nonquotesDoc)\n",
    "quotesBag = bagOfTerms(quotesDoc)\n",
    "quotes5Bag = bagOfTerms(quotes5Doc)\n",
    "quotes8Bag = bagOfTerms(quotes8Doc)"
   ]
  },
  {
   "cell_type": "code",
   "execution_count": 167,
   "metadata": {
    "collapsed": false
   },
   "outputs": [],
   "source": [
    "def compareAllLemmas(a, b): \n",
    "    \"\"\" Compares two bags of terms. \"\"\"\n",
    "    df = pd.concat([a, b], axis=1).fillna(0)\n",
    "    delta = df[0] - df[1]\n",
    "    return delta.sort_values()"
   ]
  },
  {
   "cell_type": "code",
   "execution_count": 172,
   "metadata": {
    "collapsed": false,
    "scrolled": true
   },
   "outputs": [],
   "source": [
    "df = compareAllLemmas(quotesBag, nonquotesBag)"
   ]
  },
  {
   "cell_type": "code",
   "execution_count": 173,
   "metadata": {
    "collapsed": false
   },
   "outputs": [
    {
     "data": {
      "text/plain": [
       "say             -0.003908\n",
       "mr.             -0.002463\n",
       "lydgate         -0.002194\n",
       "fred            -0.001954\n",
       "bulstrode       -0.001712\n",
       "mary            -0.001311\n",
       "rosamond        -0.001070\n",
       "mrs.            -0.001058\n",
       "celia           -0.001023\n",
       "not             -0.000978\n",
       "garth           -0.000973\n",
       "farebrother     -0.000968\n",
       "'s              -0.000907\n",
       "james           -0.000898\n",
       "brooke          -0.000878\n",
       "vincy           -0.000618\n",
       "'               -0.000607\n",
       "ladislaw        -0.000601\n",
       "casaubon        -0.000560\n",
       "raffles         -0.000553\n",
       "middlemarch     -0.000552\n",
       "sir             -0.000537\n",
       "wish            -0.000512\n",
       "speak           -0.000475\n",
       "come            -0.000474\n",
       "go              -0.000473\n",
       "featherstone    -0.000470\n",
       "shall           -0.000469\n",
       "caleb           -0.000446\n",
       "tell            -0.000437\n",
       "                   ...   \n",
       "marriage         0.000245\n",
       "large            0.000263\n",
       "deep             0.000265\n",
       "little           0.000266\n",
       "heart            0.000268\n",
       "mind             0.000268\n",
       "self             0.000269\n",
       "struggle         0.000279\n",
       "inward           0.000287\n",
       "small            0.000294\n",
       "people           0.000296\n",
       "young            0.000304\n",
       "lot              0.000308\n",
       "human            0.000324\n",
       "english          0.000336\n",
       "sort             0.000337\n",
       "history          0.000337\n",
       "live             0.000369\n",
       "new              0.000374\n",
       "man              0.000375\n",
       "nature           0.000377\n",
       "light            0.000384\n",
       "great            0.000391\n",
       "soul             0.000397\n",
       "consciousness    0.000479\n",
       "world            0.000611\n",
       "love             0.000640\n",
       "like             0.000742\n",
       "woman            0.000817\n",
       "life             0.001291\n",
       "dtype: float64"
      ]
     },
     "execution_count": 173,
     "metadata": {},
     "output_type": "execute_result"
    }
   ],
   "source": [
    "df"
   ]
  },
  {
   "cell_type": "code",
   "execution_count": null,
   "metadata": {
    "collapsed": true
   },
   "outputs": [],
   "source": []
  }
 ],
 "metadata": {
  "kernelspec": {
   "display_name": "Python 3",
   "language": "python",
   "name": "python3"
  },
  "language_info": {
   "codemirror_mode": {
    "name": "ipython",
    "version": 3
   },
   "file_extension": ".py",
   "mimetype": "text/x-python",
   "name": "python",
   "nbconvert_exporter": "python",
   "pygments_lexer": "ipython3",
   "version": "3.6.0"
  }
 },
 "nbformat": 4,
 "nbformat_minor": 1
}
