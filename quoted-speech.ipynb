{
 "cells": [
  {
   "cell_type": "markdown",
   "metadata": {},
   "source": [
    "# Exploratory analysis of quoted speech"
   ]
  },
  {
   "cell_type": "code",
   "execution_count": 172,
   "metadata": {
    "collapsed": false
   },
   "outputs": [],
   "source": [
    "from collections import Counter\n",
    "import pandas as pd\n",
    "%matplotlib inline\n",
    "from pylab import rcParams\n",
    "from bs4 import BeautifulSoup\n",
    "rcParams['figure.figsize'] = 10, 4"
   ]
  },
  {
   "cell_type": "code",
   "execution_count": 1,
   "metadata": {
    "collapsed": true
   },
   "outputs": [],
   "source": [
    "import spacy\n",
    "nlp = spacy.load('en')"
   ]
  },
  {
   "cell_type": "code",
   "execution_count": 7,
   "metadata": {
    "collapsed": false
   },
   "outputs": [],
   "source": [
    "with open('pride.txt') as f: \n",
    "    pride = f.read()"
   ]
  },
  {
   "cell_type": "code",
   "execution_count": 9,
   "metadata": {
    "collapsed": false,
    "scrolled": false
   },
   "outputs": [],
   "source": [
    "doc = nlp(pride)"
   ]
  },
  {
   "cell_type": "code",
   "execution_count": 14,
   "metadata": {
    "collapsed": false
   },
   "outputs": [],
   "source": [
    "sent0 = next(doc.sents)"
   ]
  },
  {
   "cell_type": "code",
   "execution_count": 15,
   "metadata": {
    "collapsed": false
   },
   "outputs": [
    {
     "data": {
      "text/plain": [
       "It is a truth universally acknowledged, that a single man in possession\n",
       "of a good fortune, must be in want of a wife.\n"
      ]
     },
     "execution_count": 15,
     "metadata": {},
     "output_type": "execute_result"
    }
   ],
   "source": [
    "sent0"
   ]
  },
  {
   "cell_type": "code",
   "execution_count": 74,
   "metadata": {
    "collapsed": false
   },
   "outputs": [
    {
     "name": "stdout",
     "output_type": "stream",
     "text": [
      "It PRP PRON nsubj is it\n",
      "is VBZ VERB ROOT is be\n",
      "a DT DET det truth a\n",
      "truth NN NOUN attr is truth\n",
      "universally RB ADV advmod acknowledged universally\n",
      "acknowledged VBD VERB conj is acknowledge\n",
      ", , PUNCT punct acknowledged ,\n",
      "that IN ADP mark be that\n",
      "a DT DET det man a\n",
      "single JJ ADJ amod man single\n",
      "man NN NOUN nsubj be man\n",
      "in IN ADP prep man in\n",
      "possession NN NOUN pobj in possession\n",
      "\n",
      " SP SPACE  possession \n",
      "\n",
      "of IN ADP prep possession of\n",
      "a DT DET det fortune a\n",
      "good JJ ADJ amod fortune good\n",
      "fortune NN NOUN pobj of fortune\n",
      ", , PUNCT punct be ,\n",
      "must MD VERB aux be must\n",
      "be VB VERB ccomp acknowledged be\n",
      "in IN ADP prep be in\n",
      "want NN NOUN pobj in want\n",
      "of IN ADP prep want of\n",
      "a DT DET det wife a\n",
      "wife NN NOUN pobj of wife\n",
      ". . PUNCT punct is .\n",
      "\n",
      "\n",
      " SP SPACE  . \n",
      "\n",
      "\n"
     ]
    }
   ],
   "source": [
    "for word in sent0: \n",
    "    print(word.text, word.tag_, word.pos_, word.dep_, word.head, word.lemma_)"
   ]
  },
  {
   "cell_type": "code",
   "execution_count": 79,
   "metadata": {
    "collapsed": true
   },
   "outputs": [],
   "source": [
    "def proportionWithTag(doc, tag):\n",
    "    \"\"\" Returns the proportion of words in the document that have a certain POS tag. \n",
    "    If given a list instead of a tag, returns the proportions of words in the document \n",
    "    that have those tags.\"\"\"\n",
    "    totalWords = len(doc)\n",
    "    if type(tag) == list: \n",
    "        wordsWithTag = [word for word in doc if word.tag_ in tag]\n",
    "    else: \n",
    "        wordsWithTag = [word for word in doc if word.tag_ == tag]\n",
    "    return len(wordsWithTag)/totalWords\n",
    "\n",
    "def proportionWithLemma(doc, lemma): \n",
    "    totalWords = len(doc)\n",
    "    wordsWithLemma = [word for word in doc if word.lemma_ == lemma]\n",
    "    return len(wordsWithLemma)/totalWords"
   ]
  },
  {
   "cell_type": "code",
   "execution_count": 150,
   "metadata": {
    "collapsed": true
   },
   "outputs": [],
   "source": [
    "def beProportion(doc): \n",
    "    totalWords = len(doc)\n",
    "    bes = [word for word in doc if word.lemma_ == 'be' and word.tag_ in verbtags] # 488 is \"be\" \n",
    "    return len(bes)/totalWords"
   ]
  },
  {
   "cell_type": "code",
   "execution_count": 151,
   "metadata": {
    "collapsed": false
   },
   "outputs": [
    {
     "data": {
      "text/plain": [
       "[0.037851251449712, 0.04291845493562232]"
      ]
     },
     "execution_count": 151,
     "metadata": {},
     "output_type": "execute_result"
    }
   ],
   "source": [
    "[beProportion(x) for x in [doc, quoted]] "
   ]
  },
  {
   "cell_type": "code",
   "execution_count": 80,
   "metadata": {
    "collapsed": false
   },
   "outputs": [
    {
     "data": {
      "text/plain": [
       "[0.037851251449712, 0.04291845493562232]"
      ]
     },
     "execution_count": 80,
     "metadata": {},
     "output_type": "execute_result"
    }
   ],
   "source": [
    "[proportionWithLemma(x, 'be') for x in [doc, quoted]]"
   ]
  },
  {
   "cell_type": "code",
   "execution_count": 81,
   "metadata": {
    "collapsed": false
   },
   "outputs": [
    {
     "data": {
      "text/plain": [
       "[0.009692823034708859, 0.02575107296137339]"
      ]
     },
     "execution_count": 81,
     "metadata": {},
     "output_type": "execute_result"
    }
   ],
   "source": [
    "[proportionWithTag(x, 'VBZ') for x in [doc, quoted]]"
   ]
  },
  {
   "cell_type": "code",
   "execution_count": 81,
   "metadata": {
    "collapsed": false
   },
   "outputs": [
    {
     "data": {
      "text/plain": [
       "[0.009692823034708859, 0.02575107296137339]"
      ]
     },
     "execution_count": 81,
     "metadata": {},
     "output_type": "execute_result"
    }
   ],
   "source": [
    "[proportionWithTag(x, 'VBZ') for x in [doc, quoted]]"
   ]
  },
  {
   "cell_type": "markdown",
   "metadata": {},
   "source": [
    "\n",
    "From the Penn Treebank table: \n",
    "https://www.ling.upenn.edu/courses/Fall_2003/ling001/penn_treebank_pos.html\n",
    "\n",
    "27. \tVB \tVerb, base form\n",
    "28. \tVBD \tVerb, past tense\n",
    "29. \tVBG \tVerb, gerund or present participle\n",
    "30. \tVBN \tVerb, past participle\n",
    "31. \tVBP \tVerb, non-3rd person singular present\n",
    "32. \tVBZ \tVerb, 3rd person singular present "
   ]
  },
  {
   "cell_type": "code",
   "execution_count": 149,
   "metadata": {
    "collapsed": true
   },
   "outputs": [],
   "source": [
    "presentVerbTags = ['VB', 'VBG', 'VBP', 'VBZ']\n",
    "verbtags = ['VB', 'VBD', 'VBG', 'VBN', 'VBP', 'VBZ']"
   ]
  },
  {
   "cell_type": "code",
   "execution_count": 83,
   "metadata": {
    "collapsed": false
   },
   "outputs": [
    {
     "data": {
      "text/plain": [
       "[0.07910406178526769, 0.12875536480686695]"
      ]
     },
     "execution_count": 83,
     "metadata": {},
     "output_type": "execute_result"
    }
   ],
   "source": [
    "[proportionWithTag(x, presentVerbTags) for x in [doc, quoted]]"
   ]
  },
  {
   "cell_type": "code",
   "execution_count": 59,
   "metadata": {
    "collapsed": false,
    "scrolled": true
   },
   "outputs": [
    {
     "data": {
      "text/plain": [
       "0.009692823034708859"
      ]
     },
     "execution_count": 59,
     "metadata": {},
     "output_type": "execute_result"
    }
   ],
   "source": [
    "VBZproportion(doc)"
   ]
  },
  {
   "cell_type": "code",
   "execution_count": 60,
   "metadata": {
    "collapsed": false
   },
   "outputs": [
    {
     "data": {
      "text/plain": [
       "0.03571428571428571"
      ]
     },
     "execution_count": 60,
     "metadata": {},
     "output_type": "execute_result"
    }
   ],
   "source": [
    "VBZproportion(sent0)"
   ]
  },
  {
   "cell_type": "markdown",
   "metadata": {},
   "source": [
    "Scraped from: https://kindle.amazon.com/work/pride-prejudice-jane-austen-ebook/B00K1K87SQ/B008476HBM\n",
    "and from: https://web.archive.org/web/20140821065046/https://kindle.amazon.com/work/pride-prejudice-jane-austen-ebook/B000AGXUCE/B000JMLFLW\n",
    "\n",
    ">It is a truth universally acknowledged, that a single man in possession of a good fortune, must be in want of a wife.\n",
    "\n",
    "11996 Highlighters\n",
    "\n",
    ">Pride relates more to our opinion of ourselves, vanity to what we would have others think of us.\"\n",
    "\n",
    "11799 Highlighters\n",
    "\n",
    ">In vain I have struggled. It will not do. My feelings will not be repressed. You must allow me to tell you how ardently I admire and love you.\n",
    "\n",
    "5841 Highlighters\n",
    "\n",
    ">Happiness in marriage is entirely a matter of chance. If the dispositions of the parties are ever so well known to each other or ever so similar beforehand, it does not advance their felicity in the least. They always continue to grow sufficiently unlike afterwards to have their share of vexation; and it is better to know as little as possible of the defects of the person with whom you are to pass your life.\"\n",
    "\n",
    "5788 Highlighters\n",
    "\n",
    ">There are few people whom I really love, and still fewer of whom I think well. The more I see of the world, the more am I dissatisfied with it; and every day confirms my belief of the inconsistency of all human characters, and of the little dependence that can be placed on the appearance of merit or sense.\n",
    "\n",
    "5290 Highlighters\n",
    "\n",
    "Popular Highlights\n",
    "\n",
    ">there are very few of us who have heart enough to be really in love without encouragement.\n",
    "\n",
    "8300 Highlighters\n",
    "\n",
    ">Vanity and pride are different things, though the words are often used synonymously. A person may be proud without being vain. Pride relates more to our opinion of ourselves, vanity to what we would have others think of us.\"\n",
    "\n",
    "7627 Highlighters\n",
    "\n",
    ">\"Pride,\" observed Mary, who piqued herself upon the solidity of her reflections, \"is a very common failing,\n",
    "\n",
    "5494 Highlighters\n"
   ]
  },
  {
   "cell_type": "code",
   "execution_count": 158,
   "metadata": {
    "collapsed": false
   },
   "outputs": [],
   "source": [
    "quoted_passages = [\"\"\"It is a truth universally acknowledged, \n",
    " that a single man in possession of a good fortune, must be in want of a wife.\"\"\",\n",
    "\"\"\"In vain I have struggled. It will not do. My feelings will not be repressed. \n",
    "You must allow me to tell you how ardently I admire and love you.\"\"\",\n",
    "\"\"\"Happiness in marriage is entirely a matter of chance. If the dispositions of the parties are ever \n",
    "so well known to each other or ever so similar beforehand, \n",
    "it does not advance their felicity in the least. \n",
    "They always continue to grow sufficiently unlike afterwards to have their share of vexation; \n",
    "and it is better to know as little as possible of the defects of the person with whom you are to pass your life.\"\"\",\n",
    "\"\"\"There are few people whom I really love, and still fewer of whom I think well. \n",
    "The more I see of the world, the more am I dissatisfied with it; \n",
    "and every day confirms my belief of the inconsistency of all human characters, \n",
    "and of the little dependence that can be placed on the appearance of merit or sense.\"\"\",\n",
    "\"\"\"\"Pride,\" observed Mary, who piqued herself upon the solidity of her reflections, \"is a very common failing,\"\"\",\n",
    "\"\"\"Vanity and pride are different things, though the words are often used synonymously. \n",
    "A person may be proud without being vain. Pride relates more to our opinion of ourselves, \n",
    "vanity to what we would have others think of us.\"\"\"\n",
    "]"
   ]
  },
  {
   "cell_type": "code",
   "execution_count": 159,
   "metadata": {
    "collapsed": true
   },
   "outputs": [],
   "source": [
    "joined = ' '.join(quoted_passages)"
   ]
  },
  {
   "cell_type": "code",
   "execution_count": 160,
   "metadata": {
    "collapsed": true
   },
   "outputs": [],
   "source": [
    "quoted = nlp(joined)"
   ]
  },
  {
   "cell_type": "code",
   "execution_count": 161,
   "metadata": {
    "collapsed": true
   },
   "outputs": [],
   "source": [
    "tagDict = {\"CC\": \"Coordinating conjunction\",\n",
    "\"DT\": \"Determiner\",\n",
    "\"EX\": \"Existential there\",\n",
    "\"IN\": \"Preposition or subordinating conjunction\",\n",
    "\"JJ\": \"Adjective\",\n",
    "\"JJR\": \"Adjective, comparative\",\n",
    "\"JJS\": \"Adjective, superlative\",\n",
    "\"MD\": \"Modal\",\n",
    "\"NN\": \"Noun, singular or mass\",\n",
    "\"NNS\": \"Noun, plural\",\n",
    "\"NNP\": \"Proper noun, singular\",\n",
    "\"NNPS\": \"Proper noun, plural\",\n",
    "\"PDT\": \"Predeterminer\",\n",
    "\"POS\": \"Possessive ending\",\n",
    "\"PRP\": \"Personal pronoun\",\n",
    "\"PRP$\": \"Possessive pronoun\",\n",
    "\"RB\": \"Adverb\",\n",
    "\"RBR\": \"Adverb, comparative\",\n",
    "\"RBS\": \"Adverb, superlative\",\n",
    "\"RP\": \"Particle\",\n",
    "\"TO\": \"to\",\n",
    "\"UH\": \"Interjection\",\n",
    "\"VB\": \"Verb, base form\",\n",
    "\"VBD\": \"Verb, past tense\",\n",
    "\"VBG\": \"Verb, gerund or present participle\",\n",
    "\"VBN\": \"Verb, past participle\",\n",
    "\"VBP\": \"Verb, non-3rd person singular present\",\n",
    "\"VBZ\": \"Verb, 3rd person singular present\",\n",
    "\"WDT\": \"Wh-determiner\",\n",
    "\"WP\": \"Wh-pronoun\",\n",
    "\"WP$\": \"Possessive wh-pronoun\",\n",
    "\"WRB\": \"Wh-adverb\"}"
   ]
  },
  {
   "cell_type": "code",
   "execution_count": 162,
   "metadata": {
    "collapsed": true
   },
   "outputs": [],
   "source": [
    "tagset = list(tagDict.keys())"
   ]
  },
  {
   "cell_type": "code",
   "execution_count": 163,
   "metadata": {
    "collapsed": false
   },
   "outputs": [],
   "source": [
    "def compareTags(a, b, tagset):\n",
    "    proportionsDict = {}\n",
    "    for tag in tagset: \n",
    "        proportionsDict[tag] = [proportionWithTag(x, tag) for x in [a, b]]\n",
    "    df = pd.DataFrame(proportionsDict).T\n",
    "    df['factor'] = df[1]/df[0]\n",
    "    df['factor'].plot(kind=\"bar\")"
   ]
  },
  {
   "cell_type": "code",
   "execution_count": 164,
   "metadata": {
    "collapsed": false
   },
   "outputs": [
    {
     "data": {
      "image/png": "[encoded data removed]",
      "text/plain": [
       "<matplotlib.figure.Figure at 0x7f2af3b1c160>"
      ]
     },
     "metadata": {},
     "output_type": "display_data"
    }
   ],
   "source": [
    "compareTags(doc, quoted, tagset)"
   ]
  },
  {
   "cell_type": "code",
   "execution_count": 165,
   "metadata": {
    "collapsed": false
   },
   "outputs": [],
   "source": [
    "def compareLemmas(a, b, lemmas):\n",
    "    proportionsDict = {}\n",
    "    for lemma in lemmas: \n",
    "        proportionsDict[lemma] = [proportionWithLemma(x, lemma) for x in [a, b]]\n",
    "    df = pd.DataFrame(proportionsDict).T\n",
    "    df['factor'] = df[1]/df[0]\n",
    "    df['factor'].plot(kind=\"bar\")"
   ]
  },
  {
   "cell_type": "code",
   "execution_count": 166,
   "metadata": {
    "collapsed": false
   },
   "outputs": [
    {
     "data": {
      "image/png": "[encoded data removed]",
      "text/plain": [
       "<matplotlib.figure.Figure at 0x7f2af39a9e48>"
      ]
     },
     "metadata": {},
     "output_type": "display_data"
    }
   ],
   "source": [
    "compareLemmas(doc, quoted, ['be', 'have', 'do'])"
   ]
  },
  {
   "cell_type": "code",
   "execution_count": 167,
   "metadata": {
    "collapsed": true
   },
   "outputs": [],
   "source": [
    "# Read annotated edition of Middlemarch\n",
    "with open('annotated.html') as f: \n",
    "    annotated = f.read()"
   ]
  },
  {
   "cell_type": "code",
   "execution_count": 208,
   "metadata": {
    "collapsed": false
   },
   "outputs": [],
   "source": [
    "# Parse \n",
    "soup = BeautifulSoup(annotated, 'lxml')\n",
    "\n",
    "levels = [soup.find_all('span', 'c-'+str(level)) for level in range(17)]\n",
    "\n",
    "# Remove HTML tags. \n",
    "cleanLevels = []\n",
    "for level in levels: \n",
    "    cleanLevel = [quote.get_text() for quote in level]\n",
    "    cleanLevels.append(cleanLevel)"
   ]
  },
  {
   "cell_type": "code",
   "execution_count": 220,
   "metadata": {
    "collapsed": false
   },
   "outputs": [],
   "source": [
    "unquoted = cleanLevels[0]\n",
    "quotedGroups = cleanLevels[1:]"
   ]
  },
  {
   "cell_type": "code",
   "execution_count": 221,
   "metadata": {
    "collapsed": false
   },
   "outputs": [],
   "source": [
    "quoted = []\n",
    "for group in quotedGroups: \n",
    "    quoted.extend(group)"
   ]
  },
  {
   "cell_type": "code",
   "execution_count": 222,
   "metadata": {
    "collapsed": false
   },
   "outputs": [],
   "source": [
    "quoted = ' '.join(quoted)\n",
    "unquoted = ' '.join(unquoted)"
   ]
  },
  {
   "cell_type": "code",
   "execution_count": 223,
   "metadata": {
    "collapsed": false
   },
   "outputs": [
    {
     "data": {
      "text/plain": [
       "301396"
      ]
     },
     "execution_count": 223,
     "metadata": {},
     "output_type": "execute_result"
    }
   ],
   "source": [
    "len(quoted)"
   ]
  },
  {
   "cell_type": "code",
   "execution_count": 226,
   "metadata": {
    "collapsed": false
   },
   "outputs": [],
   "source": [
    "quotes = nlp(quoted)\n",
    "nonquotes = nlp(unquoted)"
   ]
  },
  {
   "cell_type": "code",
   "execution_count": 228,
   "metadata": {
    "collapsed": false
   },
   "outputs": [
    {
     "data": {
      "image/png": "[encoded data removed]",
      "text/plain": [
       "<matplotlib.figure.Figure at 0x7f2aec5b15f8>"
      ]
     },
     "metadata": {},
     "output_type": "display_data"
    }
   ],
   "source": [
    "compareTags(nonquotes, quotes, tagset)"
   ]
  },
  {
   "cell_type": "code",
   "execution_count": 245,
   "metadata": {
    "collapsed": false
   },
   "outputs": [
    {
     "data": {
      "text/plain": [
       "'Wh-determiner'"
      ]
     },
     "execution_count": 245,
     "metadata": {},
     "output_type": "execute_result"
    }
   ],
   "source": [
    "tagDict['WDT']"
   ]
  },
  {
   "cell_type": "code",
   "execution_count": 243,
   "metadata": {
    "collapsed": false
   },
   "outputs": [
    {
     "data": {
      "image/png": "[encoded data removed]",
      "text/plain": [
       "<matplotlib.figure.Figure at 0x7f2aec2cb048>"
      ]
     },
     "metadata": {},
     "output_type": "display_data"
    }
   ],
   "source": [
    "compareLemmas(nonquotes, quotes, ['be', 'have','do',\n",
    "                                  'must', 'most', 'least', 'important',\n",
    "                                 'beautiful', 'beauty', 'big', 'small'])"
   ]
  },
  {
   "cell_type": "code",
   "execution_count": 264,
   "metadata": {
    "collapsed": false,
    "scrolled": true
   },
   "outputs": [
    {
     "data": {
      "text/plain": [
       "spacy.tokens.doc.Doc"
      ]
     },
     "execution_count": 264,
     "metadata": {},
     "output_type": "execute_result"
    }
   ],
   "source": [
    "quotes"
   ]
  },
  {
   "cell_type": "code",
   "execution_count": null,
   "metadata": {
    "collapsed": true
   },
   "outputs": [],
   "source": []
  }
 ],
 "metadata": {
  "kernelspec": {
   "display_name": "Python 3",
   "language": "python",
   "name": "python3"
  },
  "language_info": {
   "codemirror_mode": {
    "name": "ipython",
    "version": 3
   },
   "file_extension": ".py",
   "mimetype": "text/x-python",
   "name": "python",
   "nbconvert_exporter": "python",
   "pygments_lexer": "ipython3",
   "version": "3.5.2"
  }
 },
 "nbformat": 4,
 "nbformat_minor": 1
}
