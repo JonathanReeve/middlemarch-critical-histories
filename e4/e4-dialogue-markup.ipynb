{
 "cells": [
  {
   "cell_type": "markdown",
   "metadata": {},
   "source": [
    "# Dialogue Markup\n",
    "\n",
    "An attempt to extract the dialogue from _Middlemarch_, to check how many quotations were of dialogue. Props to Franco Moretti for the idea. "
   ]
  },
  {
   "cell_type": "code",
   "execution_count": 13,
   "metadata": {
    "collapsed": true
   },
   "outputs": [],
   "source": [
    "import spacy\n",
    "import textacy\n",
    "import pandas as pd\n",
    "from collections import Counter"
   ]
  },
  {
   "cell_type": "code",
   "execution_count": 14,
   "metadata": {
    "collapsed": true
   },
   "outputs": [],
   "source": [
    "with open('../middlemarch.txt') as f: \n",
    "    mm = f.read()"
   ]
  },
  {
   "cell_type": "code",
   "execution_count": 15,
   "metadata": {
    "collapsed": false
   },
   "outputs": [],
   "source": [
    "doc = textacy.Doc(mm)"
   ]
  },
  {
   "cell_type": "code",
   "execution_count": 16,
   "metadata": {
    "collapsed": false
   },
   "outputs": [],
   "source": [
    "dialogueObjs = list(textacy.extract.direct_quotations(doc))"
   ]
  },
  {
   "cell_type": "code",
   "execution_count": 17,
   "metadata": {
    "collapsed": false
   },
   "outputs": [],
   "source": [
    "dialogue = [obj[2] for obj in dialogueObjs]"
   ]
  },
  {
   "cell_type": "code",
   "execution_count": 18,
   "metadata": {
    "collapsed": false
   },
   "outputs": [],
   "source": [
    "dialogueLocs = [(dia.start_char, dia.end_char) for dia in dialogue]"
   ]
  },
  {
   "cell_type": "code",
   "execution_count": 19,
   "metadata": {
    "collapsed": false
   },
   "outputs": [],
   "source": [
    "rawData = open('../txt/e4.json').read()\n",
    "df = pd.read_json(rawData)"
   ]
  },
  {
   "cell_type": "code",
   "execution_count": 20,
   "metadata": {
    "collapsed": false
   },
   "outputs": [],
   "source": [
    "allLocs = df['Locations in A'].values"
   ]
  },
  {
   "cell_type": "code",
   "execution_count": 21,
   "metadata": {
    "collapsed": false
   },
   "outputs": [],
   "source": [
    "# Make a big list of all possible character offsets in which dialogue occurs.  \n",
    "dialogueListList = [list(range(loc[0], loc[1])) for loc in dialogueLocs]\n",
    "dialogueList = []\n",
    "for item in dialogueListList: \n",
    "    dialogueList += item"
   ]
  },
  {
   "cell_type": "code",
   "execution_count": 22,
   "metadata": {
    "collapsed": false
   },
   "outputs": [],
   "source": [
    "# Check to see whether the start or the end of a critical quotation appears in our big list.  \n",
    "inDialogue = []\n",
    "dialogueQuotes = []\n",
    "for locSet in allLocs: \n",
    "    for loc in locSet: \n",
    "        if loc[0] in dialogueList or loc[1] in dialogueList: \n",
    "            inDialogue.append(1)\n",
    "            dialogueQuotes.append(mm[loc[0]:loc[1]])\n",
    "        else: \n",
    "            inDialogue.append(0)"
   ]
  },
  {
   "cell_type": "code",
   "execution_count": 23,
   "metadata": {
    "collapsed": false
   },
   "outputs": [
    {
     "data": {
      "text/plain": [
       "Counter({0: 291, 1: 9})"
      ]
     },
     "execution_count": 23,
     "metadata": {},
     "output_type": "execute_result"
    }
   ],
   "source": [
    "Counter(inDialogue)"
   ]
  },
  {
   "cell_type": "code",
   "execution_count": 26,
   "metadata": {
    "collapsed": false
   },
   "outputs": [
    {
     "data": {
      "text/plain": [
       "0.03"
      ]
     },
     "execution_count": 26,
     "metadata": {},
     "output_type": "execute_result"
    }
   ],
   "source": [
    "9/300"
   ]
  },
  {
   "cell_type": "markdown",
   "metadata": {},
   "source": [
    "Of 300 critical quotations, only 9 of them contain dialogue. 3%"
   ]
  },
  {
   "cell_type": "code",
   "execution_count": 25,
   "metadata": {
    "collapsed": false,
    "scrolled": true
   },
   "outputs": [
    {
     "name": "stdout",
     "output_type": "stream",
     "text": [
      "--- 1 The living, suffering man\n",
      "was no longer before her to awaken her pity: there remained only the\n",
      "retrospect of painful subjection to a husband whose thoughts had been\n",
      "lower than she had believed, whose exorbitant claims for himself had\n",
      "even blinded his scrupulous care for his own character, and made him\n",
      "defeat his own pride by shocking men of ordinary honor.  As for the\n",
      "property which was the sign of that broken tie, she would have been\n",
      "glad to be free from it and have nothing more than her original fortune\n",
      "which had been settled on her, if there had not been duties attached to\n",
      "ownership, which she ought not to fl \n",
      "\n",
      "--- 2 I like at the last?\n",
      "I made two wills on purpose.  Take the key, I say.\"\n",
      "\n",
      "\"No, sir, I will not,\" said Mary, more resolutely still.  Her repulsion\n",
      "was getting stronger.\n",
      "\n",
      "\"I tell you, there's no time to lose.\"\n",
      "\n",
      "\"I cannot help that, sir.  I will not let the close of your life soil\n",
      "the beginning of mine.  I will not touch your iron chest or your will.\"\n",
      "She moved to a little distance from the bedside.\n",
      "\n",
      "The old man paused with a blank stare for a little while, holding the\n",
      "one key erect on the ring; then with an agitated jerk he began to work\n",
      "with his bony left hand at emptying the t \n",
      "\n",
      "--- 3 is so angry and impatient if I say anything,\" said Rosamond,\n",
      "imagining that he had been complaining of her to Dorothea.  \"He \n",
      "\n",
      "--- 4 exclaimed Celia, looking after her in surprise.  \"I never heard\n",
      "you make such a comparison before.\"\n",
      "\n",
      "\"Why should I make it before the occasion came?  It is a good\n",
      "comparison: the match is perfect.\"\n",
      "\n",
      "Miss Brooke was clearly forgetting herself, and Celia thought so.\n",
      "\n",
      "\"I wonder you show temper \n",
      "\n",
      "--- 5 ome gentlemen have made an amazing figure in literature by general\n",
      "discontent with the universe as a trap of dulness into which their\n",
      "great souls have fallen by mistake; but the sense of a stupendous self\n",
      "and an insignificant world may have its consolations.  Lydgate's\n",
      "discontent was much harder to bear: it was the sense that there was a\n",
      "grand existence in thought and effective action lying around him, while\n",
      "his self was being narrowed into the miserable isolation of egoistic\n",
      "fears, and vulgar anxieties for events that might a \n",
      "\n",
      "--- 6 \" said Lydgate, in a groan of horror.  \"And you planned to\n",
      "murder him?\"\n",
      "\n",
      "\"I did not plan: it came to me in the play--_I meant to do it._\"\n",
      "\n",
      "Lydgate stood mute, and unconsciously pressed his hat on while he\n",
      "looked at her.  He saw this woman--the first to whom he had given his\n",
      "young adoration--amid the throng of stupid criminals.\n",
      "\n",
      "\"You are a good you \n",
      "\n",
      "--- 7 s silence for a few moments, while Dorothea sat as if she had\n",
      "been turned to marble, though the life within her was so intense that\n",
      "her mind had never before swept in brief time over an equal range of\n",
      "scenes and motives.\n",
      "\n",
      "\"Help me, pray,\" she said, at last, in the same low voice as before.\n",
      "\"Tell me what I can do.\"\n",
      "\n",
      "\"What do you think of foreign travel?  You have been lately in Rome, I\n",
      "think.\"\n",
      "\n",
      "The memories which made this resource utterly hopeless were a new\n",
      "current that shook Dorothea out of her pallid immobility.\n",
      "\n",
      "\"Oh, that would not do--that would be worse than anything,\" she said\n",
      "with a more childlike despondency, while the tears rolled down.\n",
      "\"Nothing will be of any u \n",
      "\n",
      "--- 8 She speaks in such plain words, and a voice\n",
      "like music.  Bless me! it reminds me of  \n",
      "\n",
      "--- 9 Brooke was clearly forgetting herself, and Celia thought so.\n",
      "\n",
      "\"I wonder you show temper \n",
      "\n"
     ]
    }
   ],
   "source": [
    "for i, quote in enumerate(dialogueQuotes): \n",
    "    print('---', i+1, quote, '\\n')"
   ]
  },
  {
   "cell_type": "markdown",
   "metadata": {},
   "source": [
    "Only 7 out of 9 of these are actual dialogue. Four of the seven are interactions: \n",
    "\n",
    "1. Not a quote. \n",
    "2. Mr. Featherstone and Mary\n",
    "3. Rosamond\n",
    "4. Celia and Dorothea\n",
    "5. Not a quote. \n",
    "6. Lydgate, Laure\n",
    "7. Dorothea, Lydgate\n",
    "8. Caleb\n",
    "9. Celia"
   ]
  },
  {
   "cell_type": "code",
   "execution_count": 29,
   "metadata": {
    "collapsed": false
   },
   "outputs": [
    {
     "data": {
      "text/plain": [
       "2.3333333333333335"
      ]
     },
     "execution_count": 29,
     "metadata": {},
     "output_type": "execute_result"
    }
   ],
   "source": [
    "# Percentage of quotations that overlap with dialogue,\n",
    "# adjusted. \n",
    "(7/300)*100"
   ]
  },
  {
   "cell_type": "code",
   "execution_count": null,
   "metadata": {
    "collapsed": true
   },
   "outputs": [],
   "source": []
  }
 ],
 "metadata": {
  "kernelspec": {
   "display_name": "Python 3",
   "language": "python",
   "name": "python3"
  },
  "language_info": {
   "codemirror_mode": {
    "name": "ipython",
    "version": 3
   },
   "file_extension": ".py",
   "mimetype": "text/x-python",
   "name": "python",
   "nbconvert_exporter": "python",
   "pygments_lexer": "ipython3",
   "version": "3.6.0"
  }
 },
 "nbformat": 4,
 "nbformat_minor": 2
}
