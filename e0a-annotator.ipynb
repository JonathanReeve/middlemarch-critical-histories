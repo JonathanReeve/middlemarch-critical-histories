{
 "cells": [
  {
   "cell_type": "markdown",
   "metadata": {},
   "source": [
    "# Experiment 0 Annotator\n",
    "\n",
    "This annotates the text with the number of times that passage has been quoted. "
   ]
  },
  {
   "cell_type": "code",
   "execution_count": 1,
   "metadata": {
    "collapsed": true
   },
   "outputs": [],
   "source": [
    "import pandas as pd\n",
    "import nltk\n",
    "%matplotlib inline\n",
    "from ast import literal_eval\n",
    "import numpy as np\n",
    "import re\n",
    "from matplotlib import pyplot as plt\n",
    "from colour import Color\n",
    "from IPython.core.display import HTML\n",
    "plt.rcParams[\"figure.figsize\"] = [16, 6]"
   ]
  },
  {
   "cell_type": "code",
   "execution_count": 2,
   "metadata": {
    "collapsed": false
   },
   "outputs": [],
   "source": [
    "df = pd.read_csv('e0a/log.txt')"
   ]
  },
  {
   "cell_type": "code",
   "execution_count": 3,
   "metadata": {
    "collapsed": true
   },
   "outputs": [],
   "source": [
    "# Adapted from text-matcher\n",
    "class Text: \n",
    "    def __init__(self, filename): \n",
    "        self.filename = filename\n",
    "        \n",
    "    @property\n",
    "    def text(self):\n",
    "        \"\"\" Reads the file in memory. \"\"\"\n",
    "        f = open(self.filename, encoding='utf-8', errors='ignore')\n",
    "        return f.read() \n",
    "\n",
    "    @property\n",
    "    def tokens(self, removeStopwords=True): \n",
    "        \"\"\" Tokenizes the text, breaking it up into words, removing punctuation. \"\"\"\n",
    "        tokenizer = nltk.RegexpTokenizer('[a-zA-Z]\\w+\\'?\\w*') # A custom regex tokenizer. \n",
    "        spans = list(tokenizer.span_tokenize(self.text))\n",
    "        # Take note of how many spans there are in the text\n",
    "        self.length = spans[-1][-1] \n",
    "        tokens = tokenizer.tokenize(self.text)\n",
    "        tokens = [ token.lower() for token in tokens ] # make them lowercase\n",
    "        if not removeStopwords: \n",
    "            self.spans = spans\n",
    "            return tokens\n",
    "        tokenSpans = list(zip(tokens, spans)) # zip it up\n",
    "        stopwords = nltk.corpus.stopwords.words('english') # get stopwords\n",
    "        tokenSpans = [ token for token in tokenSpans if token[0] not in stopwords ] # remove stopwords from zip\n",
    "        self.spans = [ x[1] for x in tokenSpans ] # unzip; get spans\n",
    "        return [ x[0] for x in tokenSpans ] # unzip; get tokens"
   ]
  },
  {
   "cell_type": "code",
   "execution_count": 4,
   "metadata": {
    "collapsed": false
   },
   "outputs": [],
   "source": [
    "mm = Text('middlemarch.txt')"
   ]
  },
  {
   "cell_type": "code",
   "execution_count": 5,
   "metadata": {
    "collapsed": false
   },
   "outputs": [],
   "source": [
    "# Get the size of the text. \n",
    "textALength = df['Text A Length'][0]\n",
    "\n",
    "# Make an empty array the size of the text. \n",
    "tally = np.zeros(textALength, dtype=np.int)"
   ]
  },
  {
   "cell_type": "code",
   "execution_count": 6,
   "metadata": {
    "collapsed": false
   },
   "outputs": [],
   "source": [
    "# Read the locations from the CSV file, and literally evaluate them into lists. \n",
    "locations = df['Locations in A']\n",
    "locations = locations.apply(literal_eval)"
   ]
  },
  {
   "cell_type": "code",
   "execution_count": 7,
   "metadata": {
    "collapsed": true
   },
   "outputs": [],
   "source": [
    "# Tally up every time a letter in the novel is quoted. \n",
    "for article in locations: \n",
    "    for locRange in article: \n",
    "         for i in range(locRange[0], locRange[1]+1):\n",
    "                tally[i] += 1"
   ]
  },
  {
   "cell_type": "code",
   "execution_count": 8,
   "metadata": {
    "collapsed": false
   },
   "outputs": [],
   "source": [
    "# Make a color list in hex for all the values in the tally. \n",
    "# Let's hope there aren't too many. \n",
    "colors = list(Color(\"blue\").range_to(Color(\"red\"),tally.max()+1))\n",
    "colorList = [color.get_hex() for color in colors]"
   ]
  },
  {
   "cell_type": "code",
   "execution_count": 9,
   "metadata": {
    "collapsed": false
   },
   "outputs": [],
   "source": [
    "# Create a CSS Stylesheet for each color value in the map. \n",
    "colorCSS = \"\"\n",
    "for i, color in zip(range(0, tally.max()+1), colorList): \n",
    "    colorCSS += \".c-%s { color: %s; }\\n\" % (i, color)"
   ]
  },
  {
   "cell_type": "code",
   "execution_count": 10,
   "metadata": {
    "collapsed": false
   },
   "outputs": [],
   "source": [
    "n = 20\n",
    "\n",
    "checkpoints = np.linspace(0, textALength, n).round()\n",
    "checkpoints = [int(point) for point in checkpoints]"
   ]
  },
  {
   "cell_type": "code",
   "execution_count": 11,
   "metadata": {
    "collapsed": false
   },
   "outputs": [],
   "source": [
    "def span(val): \n",
    "    return '<span class=\"c-%s\">' % val\n",
    "\n",
    "previousVal = None\n",
    "for i, valChar in enumerate(zip(tally, mm.text)):\n",
    "    val, char = valChar[0], valChar[1]\n",
    "    if previousVal == None: \n",
    "        # First character. \n",
    "        out = '<span class=\"c-%s\">' % val\n",
    "    elif val != previousVal: \n",
    "        out += '</span><span class=\"c-%s\">' % val\n",
    "    if i in checkpoints: \n",
    "        out += '<a name=\"b-%s\"></a>' % checkpoints.index(i)\n",
    "    out += char\n",
    "    previousVal = val"
   ]
  },
  {
   "cell_type": "code",
   "execution_count": 12,
   "metadata": {
    "collapsed": false
   },
   "outputs": [],
   "source": [
    "# Get dates\n",
    "def getDate(filename): \n",
    "    \"\"\"\n",
    "    Extract dates from filenames. \n",
    "    \"\"\"\n",
    "    m = re.search('_(\\d{4})_', filename)\n",
    "    if m is not None: \n",
    "        return int(m.group(1))\n",
    "    else:\n",
    "        return None\n",
    "\n",
    "df['Date'] = df['Text B'].apply(getDate)\n",
    "df['Decade'] = df['Date'] - (df['Date'] % 10)\n",
    "\n",
    "# Make a list of valid decades. \n",
    "decades = np.arange(1930, 2020, 10)\n",
    "\n",
    "# Make a dictionary of decades. \n",
    "# Values are a list of locations.  \n",
    "decadeDict = {}\n",
    "for i, row in df.iterrows():\n",
    "    decade = row['Decade']\n",
    "    locations = literal_eval(row['Locations in A'])\n",
    "    if decade not in decadeDict: \n",
    "        decadeDict[decade] = locations\n",
    "    else: \n",
    "        decadeDict[decade] += locations \n",
    "        \n",
    "# Grab the beginnings of quotes. \n",
    "decadeStarts = {decade: [item[0] for item in loc] for decade, loc in decadeDict.items()}\n",
    "\n",
    "decadesBinned = {decade: \n",
    "                 np.histogram(locations, bins=n, range=(0, textALength))[0]\n",
    "                 for decade, locations in decadeStarts.items() if decade in decades}\n",
    "\n",
    "decadesDF = pd.DataFrame(decadesBinned).T"
   ]
  },
  {
   "cell_type": "code",
   "execution_count": 13,
   "metadata": {
    "collapsed": false
   },
   "outputs": [],
   "source": [
    "# Normalize the totals for each section. \n",
    "normalizedBlocks = decadesDF.sum() / decadesDF.sum().max()\n",
    "\n",
    "# Now use the scale that we're already using for the CSS. \n",
    "normalizedBlocks = round(normalizedBlocks * tally.max())"
   ]
  },
  {
   "cell_type": "code",
   "execution_count": 14,
   "metadata": {
    "collapsed": false
   },
   "outputs": [],
   "source": [
    "blockHTML = '<section id=\"blocks\">'\n",
    "for i, block in enumerate(normalizedBlocks): \n",
    "    blockHTML += '<a href=\"#b-%s\"><div class=\"block b-%s\"></div></a>' % (i, int(block))\n",
    "blockHTML = blockHTML + \"</section>\""
   ]
  },
  {
   "cell_type": "code",
   "execution_count": 15,
   "metadata": {
    "collapsed": true
   },
   "outputs": [],
   "source": [
    "blockCSS = \"\"\"\n",
    "#blocks { position: fixed; right: 1em; }\n",
    ".block { width: 30px; height: 30px; }\n",
    "\"\"\"\n",
    "\n",
    "for i, color in zip(range(0, tally.max()+1), colorList): \n",
    "    blockCSS += '.b-%s { background-color: %s; }\\n' % (i, color)\n",
    "colorCSS += blockCSS"
   ]
  },
  {
   "cell_type": "code",
   "execution_count": 18,
   "metadata": {
    "collapsed": true
   },
   "outputs": [],
   "source": [
    "html = \"\"\"<!DOCTYPE html>\n",
    "<html>\n",
    "<head>\n",
    "  <link href=\"https://fonts.googleapis.com/css?family=Raleway\" rel=\"stylesheet\"> \n",
    "  <style>\n",
    "  pre { \n",
    "      font-family: Raleway, serif; \n",
    "      font-size: 18px; \n",
    "    }\n",
    "  main { \n",
    "      width: 40em; \n",
    "      margin: 2em auto; \n",
    "  }\n",
    "  %s\n",
    "  </style>\n",
    "</head>\n",
    "<body>%s<main><pre>%s</pre></main></body></html>\n",
    "\"\"\" % (colorCSS, blockHTML, out)"
   ]
  },
  {
   "cell_type": "code",
   "execution_count": 19,
   "metadata": {
    "collapsed": false
   },
   "outputs": [],
   "source": [
    "with open('annotated.html', 'w') as f: \n",
    "    f.write(html)\n",
    "    f.close()"
   ]
  }
 ],
 "metadata": {
  "kernelspec": {
   "display_name": "Python 3",
   "language": "python",
   "name": "python3"
  },
  "language_info": {
   "codemirror_mode": {
    "name": "ipython",
    "version": 3
   },
   "file_extension": ".py",
   "mimetype": "text/x-python",
   "name": "python",
   "nbconvert_exporter": "python",
   "pygments_lexer": "ipython3",
   "version": "3.5.2"
  }
 },
 "nbformat": 4,
 "nbformat_minor": 0
}
