{
 "cells": [
  {
   "cell_type": "markdown",
   "metadata": {},
   "source": [
    "# Statistics about the Full JSTOR Corpus"
   ]
  },
  {
   "cell_type": "code",
   "execution_count": 48,
   "metadata": {
    "collapsed": false
   },
   "outputs": [],
   "source": [
    "import json\n",
    "from collections import Counter\n",
    "import pandas as pd\n",
    "from nltk.corpus import names\n",
    "%matplotlib inline\n",
    "from matplotlib import pyplot as plt\n",
    "plt.rcParams[\"figure.figsize\"] = [16, 6]"
   ]
  },
  {
   "cell_type": "code",
   "execution_count": 2,
   "metadata": {
    "collapsed": false
   },
   "outputs": [],
   "source": [
    "# Load the data. \n",
    "with open('txt/middlemarch.json') as f: \n",
    "    mm = f.readlines()"
   ]
  },
  {
   "cell_type": "code",
   "execution_count": 3,
   "metadata": {
    "collapsed": false
   },
   "outputs": [
    {
     "data": {
      "text/plain": [
       "6069"
      ]
     },
     "execution_count": 3,
     "metadata": {},
     "output_type": "execute_result"
    }
   ],
   "source": [
    "# How many articles are there? \n",
    "len(mm)"
   ]
  },
  {
   "cell_type": "code",
   "execution_count": 4,
   "metadata": {
    "collapsed": false
   },
   "outputs": [],
   "source": [
    "# Parse the data. \n",
    "data = [json.loads(line) for line in mm]"
   ]
  },
  {
   "cell_type": "code",
   "execution_count": 6,
   "metadata": {
    "collapsed": false
   },
   "outputs": [
    {
     "ename": "NameError",
     "evalue": "name 'article' is not defined",
     "output_type": "error",
     "traceback": [
      "\u001b[0;31m---------------------------------------------------------------------------\u001b[0m",
      "\u001b[0;31mNameError\u001b[0m                                 Traceback (most recent call last)",
      "\u001b[0;32m<ipython-input-6-8d0dd7d5cf4e>\u001b[0m in \u001b[0;36m<module>\u001b[0;34m()\u001b[0m\n\u001b[1;32m      1\u001b[0m \u001b[0;31m# What kind of metadata is there for each article?\u001b[0m\u001b[0;34m\u001b[0m\u001b[0;34m\u001b[0m\u001b[0m\n\u001b[0;32m----> 2\u001b[0;31m \u001b[0mset\u001b[0m\u001b[0;34m(\u001b[0m\u001b[0;34m[\u001b[0m\u001b[0mkey\u001b[0m \u001b[0;32mfor\u001b[0m \u001b[0mkey\u001b[0m \u001b[0;32min\u001b[0m \u001b[0marticle\u001b[0m\u001b[0;34m.\u001b[0m\u001b[0mkeys\u001b[0m\u001b[0;34m(\u001b[0m\u001b[0;34m)\u001b[0m \u001b[0;32mfor\u001b[0m \u001b[0marticle\u001b[0m \u001b[0;32min\u001b[0m \u001b[0mdata\u001b[0m\u001b[0;34m]\u001b[0m\u001b[0;34m)\u001b[0m\u001b[0;34m\u001b[0m\u001b[0m\n\u001b[0m",
      "\u001b[0;31mNameError\u001b[0m: name 'article' is not defined"
     ]
    }
   ],
   "source": [
    "# What kind of metadata is there for each article? \n",
    "set([key for key in article.keys() for article in data])"
   ]
  },
  {
   "cell_type": "code",
   "execution_count": 7,
   "metadata": {
    "collapsed": false
   },
   "outputs": [
    {
     "name": "stdout",
     "output_type": "stream",
     "text": [
      "['eng']\n",
      "['1']\n",
      "69\n",
      "fla\n",
      "['39']\n"
     ]
    }
   ],
   "source": [
    "# What are those abbreviated fields? \n",
    "\n",
    "for field in ['la', 'no', 'sp', 'ty', 'vo']: \n",
    "    print(data[0][field])"
   ]
  },
  {
   "cell_type": "code",
   "execution_count": 8,
   "metadata": {
    "collapsed": false
   },
   "outputs": [
    {
     "data": {
      "text/plain": [
       "<matplotlib.axes._subplots.AxesSubplot at 0x7ffb340fb128>"
      ]
     },
     "execution_count": 8,
     "metadata": {},
     "output_type": "execute_result"
    },
    {
     "data": {
      "image/png": "[encoded data removed]",
      "text/plain": [
       "<matplotlib.figure.Figure at 0x7ffb30fa07b8>"
      ]
     },
     "metadata": {},
     "output_type": "display_data"
    }
   ],
   "source": [
    "# What years are represented by these articles? \n",
    "years = [item['year'] for item in data]\n",
    "\n",
    "# And what decades? \n",
    "decades = [(year - (year % 10)) for year in years]\n",
    "\n",
    "# Plot the articles by decade. \n",
    "pd.Series(Counter(decades)).plot(kind='bar')"
   ]
  },
  {
   "cell_type": "code",
   "execution_count": 9,
   "metadata": {
    "collapsed": false
   },
   "outputs": [
    {
     "data": {
      "text/plain": [
       "Counter({'EN': 2,\n",
       "         'ara': 2,\n",
       "         'cze': 1,\n",
       "         'en': 263,\n",
       "         'eng': 5747,\n",
       "         'fre': 17,\n",
       "         'ger': 15,\n",
       "         'gle': 1,\n",
       "         'heb': 2,\n",
       "         'ita': 6,\n",
       "         'por': 1,\n",
       "         'spa': 10,\n",
       "         'wel': 2})"
      ]
     },
     "execution_count": 9,
     "metadata": {},
     "output_type": "execute_result"
    }
   ],
   "source": [
    "# What languages are represented? \n",
    "\n",
    "languages = [article['la'] for article in data if 'la' in article]\n",
    "languages = [item[0] for item in languages] # Flatten\n",
    "Counter(languages)"
   ]
  },
  {
   "cell_type": "code",
   "execution_count": 10,
   "metadata": {
    "collapsed": false
   },
   "outputs": [
    {
     "data": {
      "text/plain": [
       "[('Victorian Studies', 424),\n",
       " ('George Eliot - George Henry Lewes Studies', 206),\n",
       " ('Nineteenth-Century Fiction', 192),\n",
       " ('The Modern Language Review', 188),\n",
       " ('The Review of English Studies', 185),\n",
       " ('Nineteenth-Century Literature', 126),\n",
       " ('NOVEL: A Forum on Fiction', 126),\n",
       " ('Studies in the Novel', 120),\n",
       " ('Studies in English Literature, 1500-1900', 85),\n",
       " ('ELH', 77),\n",
       " ('Style', 76),\n",
       " ('Modern Philology', 71),\n",
       " ('College English', 50),\n",
       " ('The George Eliot, George Henry Lewes Newsletter', 47),\n",
       " ('The Yearbook of English Studies', 46),\n",
       " ('The Sewanee Review', 45),\n",
       " ('Victorian Periodicals Review', 45),\n",
       " ('The Hudson Review', 43),\n",
       " ('The Cambridge Quarterly', 33),\n",
       " ('Critical Inquiry', 30)]"
      ]
     },
     "execution_count": 10,
     "metadata": {},
     "output_type": "execute_result"
    }
   ],
   "source": [
    "# What are the most common journals represented here? \n",
    "journals = [article['journal'] for article in data if 'journal' in article]\n",
    "Counter(journals).most_common(20)"
   ]
  },
  {
   "cell_type": "code",
   "execution_count": 11,
   "metadata": {
    "collapsed": true
   },
   "outputs": [],
   "source": [
    "# What are the top journals per decade? \n",
    "\n",
    "# First, make a dictionary of articles by decade. \n",
    "articlesByDecade = {decade: [] for decade in set(decades)}\n",
    "for article in data: \n",
    "    thisDecade = (article['year']//10)*10 \n",
    "    articlesByDecade[thisDecade].append(article)"
   ]
  },
  {
   "cell_type": "code",
   "execution_count": 12,
   "metadata": {
    "collapsed": false
   },
   "outputs": [],
   "source": [
    "# Next, make a dictionary of journal names by decade. \n",
    "journalsByDecade = {decade: [] for decade in set(decades)}\n",
    "for decade, articles in articlesByDecade.items(): \n",
    "    for article in articles: \n",
    "        if 'journal' in article: \n",
    "            journalsByDecade[decade].append(article['journal'])\n",
    "journalsByDecadeStats = {decade: Counter(journals).most_common(5) for decade, journals in journalsByDecade.items()}"
   ]
  },
  {
   "cell_type": "code",
   "execution_count": 13,
   "metadata": {
    "collapsed": false
   },
   "outputs": [
    {
     "data": {
      "text/plain": [
       "{1870: [('Bristol Selected Pamphlets', 1),\n",
       "  ('Jahrbücher für Nationalökonomie und Statistik / Journal of Economics and Statistics',\n",
       "   1)],\n",
       " 1880: [('Bristol Selected Pamphlets', 3),\n",
       "  ('Mind', 2),\n",
       "  ('The Journal of the Royal Asiatic Society of Great Britain and Ireland',\n",
       "   1)],\n",
       " 1890: [('The School Review', 2),\n",
       "  ('The English Historical Review', 1),\n",
       "  ('The Monist', 1),\n",
       "  ('Foreign and Commonwealth Office Collection', 1),\n",
       "  ('International Journal of Ethics', 1)],\n",
       " 1900: [('The Sewanee Review', 1),\n",
       "  ('International Journal of Ethics', 1),\n",
       "  ('Brush and Pencil', 1)],\n",
       " 1910: [('The Sewanee Review', 3),\n",
       "  ('Proceedings of the Aristotelian Society', 2),\n",
       "  ('The Pennsylvania Magazine of History and Biography', 1),\n",
       "  ('International Journal of Ethics', 1),\n",
       "  ('American Journal of Sociology', 1)],\n",
       " 1920: [('The English Historical Review', 1),\n",
       "  ('The Sewanee Review', 1),\n",
       "  ('Modern Philology', 1),\n",
       "  ('The Review of English Studies', 1),\n",
       "  ('Texas Review', 1)],\n",
       " 1930: [('The Sewanee Review', 2),\n",
       "  ('Studies in Philology', 2),\n",
       "  ('The Mathematical Gazette', 1),\n",
       "  ('Proceedings of the Aristotelian Society', 1),\n",
       "  ('Language', 1)],\n",
       " 1940: [('Modern Philology', 4),\n",
       "  ('The Modern Language Review', 4),\n",
       "  ('College English', 3),\n",
       "  ('Modern Language Notes', 3),\n",
       "  ('Proceedings of the Aristotelian Society, Supplementary Volumes', 1)],\n",
       " 1950: [('Nineteenth-Century Fiction', 19),\n",
       "  ('College English', 10),\n",
       "  ('Victorian Studies', 9),\n",
       "  ('Modern Philology', 8),\n",
       "  ('The Review of English Studies', 8)],\n",
       " 1960: [('Victorian Studies', 51),\n",
       "  ('Nineteenth-Century Fiction', 40),\n",
       "  ('The Modern Language Review', 34),\n",
       "  ('The Review of English Studies', 23),\n",
       "  ('Studies in English Literature, 1500-1900', 10)],\n",
       " 1970: [('Nineteenth-Century Fiction', 69),\n",
       "  ('Victorian Studies', 60),\n",
       "  ('The Review of English Studies', 47),\n",
       "  ('The Modern Language Review', 31),\n",
       "  ('NOVEL: A Forum on Fiction', 28)],\n",
       " 1980: [('Victorian Studies', 86),\n",
       "  ('Nineteenth-Century Fiction', 63),\n",
       "  ('The Review of English Studies', 60),\n",
       "  ('The Modern Language Review', 48),\n",
       "  ('Studies in the Novel', 40)],\n",
       " 1990: [('Victorian Studies', 82),\n",
       "  ('George Eliot - George Henry Lewes Studies', 80),\n",
       "  ('Nineteenth-Century Literature', 51),\n",
       "  ('NOVEL: A Forum on Fiction', 31),\n",
       "  ('The Modern Language Review', 31)],\n",
       " 2000: [('Victorian Studies', 81),\n",
       "  ('George Eliot - George Henry Lewes Studies', 75),\n",
       "  ('Studies in English Literature, 1500-1900', 29),\n",
       "  ('Studies in the Novel', 25),\n",
       "  ('NOVEL: A Forum on Fiction', 24)],\n",
       " 2010: [('Victorian Studies', 55),\n",
       "  ('Style', 55),\n",
       "  ('George Eliot - George Henry Lewes Studies', 51),\n",
       "  ('Nineteenth-Century Literature', 31),\n",
       "  ('The Modern Language Review', 12)]}"
      ]
     },
     "execution_count": 13,
     "metadata": {},
     "output_type": "execute_result"
    }
   ],
   "source": [
    "journalsByDecadeStats"
   ]
  },
  {
   "cell_type": "code",
   "execution_count": 14,
   "metadata": {
    "collapsed": false
   },
   "outputs": [],
   "source": [
    "# Extract topics. \n",
    "topics = [item['topics'] for item in data if 'topics' in item]"
   ]
  },
  {
   "cell_type": "code",
   "execution_count": 15,
   "metadata": {
    "collapsed": false
   },
   "outputs": [
    {
     "data": {
      "text/plain": [
       "5723"
      ]
     },
     "execution_count": 15,
     "metadata": {},
     "output_type": "execute_result"
    }
   ],
   "source": [
    "# How many articles are there that have assigned topics? \n",
    "len(topics)"
   ]
  },
  {
   "cell_type": "code",
   "execution_count": 16,
   "metadata": {
    "collapsed": false
   },
   "outputs": [
    {
     "data": {
      "text/plain": [
       "14228"
      ]
     },
     "execution_count": 16,
     "metadata": {},
     "output_type": "execute_result"
    }
   ],
   "source": [
    "# How many total topics are there? \n",
    "allTopics = [item for sublist in topics for item in sublist] # Flatten list. \n",
    "countedTopics = Counter(allTopics)\n",
    "len(countedTopics)"
   ]
  },
  {
   "cell_type": "code",
   "execution_count": 17,
   "metadata": {
    "collapsed": false
   },
   "outputs": [
    {
     "data": {
      "text/plain": [
       "[('Novelists', 1337),\n",
       " ('Novels', 874),\n",
       " ('Pity', 672),\n",
       " ('Sympathy', 656),\n",
       " ('Irony', 642),\n",
       " ('Literary criticism', 510),\n",
       " ('Poetry', 468),\n",
       " ('Music criticism', 453),\n",
       " ('Women', 424),\n",
       " ('Anthologies', 406),\n",
       " ('Narratology', 403),\n",
       " ('Bibliographies', 391),\n",
       " ('Biographers', 390),\n",
       " ('Satire', 380),\n",
       " ('Idealism', 378),\n",
       " ('Love', 369),\n",
       " ('Vocation', 361),\n",
       " ('Biography', 353),\n",
       " ('Fear', 349),\n",
       " ('Humor', 346)]"
      ]
     },
     "execution_count": 17,
     "metadata": {},
     "output_type": "execute_result"
    }
   ],
   "source": [
    "# What are the top topics, and how often do they appear? \n",
    "countedTopics.most_common(20)"
   ]
  },
  {
   "cell_type": "code",
   "execution_count": 20,
   "metadata": {
    "collapsed": false
   },
   "outputs": [],
   "source": [
    "# What about the top topics per decade? \n",
    "\n",
    "# Make a dictionary of topics by decade. \n",
    "topicsByDecade = {decade: [] for decade in set(decades)} \n",
    "numArticlesByDecade = {decade: 0 for decade in set(decades)}\n",
    "for decade, articles in articlesByDecade.items(): \n",
    "    for article in articles: \n",
    "        if 'topics' in article: \n",
    "            numArticlesByDecade[decade] += 1\n",
    "            for topic in article['topics']: \n",
    "                topicsByDecade[decade].append(topic)"
   ]
  },
  {
   "cell_type": "code",
   "execution_count": 21,
   "metadata": {
    "collapsed": false
   },
   "outputs": [],
   "source": [
    "# Get stats about the topics in each decade. \n",
    "topicsByDecadeStats = {decade: Counter(topics).most_common(10) for decade, topics in topicsByDecade.items()} "
   ]
  },
  {
   "cell_type": "code",
   "execution_count": 30,
   "metadata": {
    "collapsed": false
   },
   "outputs": [],
   "source": [
    "normTopicsbyDecadeStats = {decade: [] for decade in set(decades)}\n",
    "for decade in topicsByDecadeStats: \n",
    "    for topic in topicsByDecadeStats[decade]: \n",
    "        normTopicsbyDecadeStats[decade].append((topic[0], topic[1]/numArticlesByDecade[decade]))"
   ]
  },
  {
   "cell_type": "code",
   "execution_count": 37,
   "metadata": {
    "collapsed": false
   },
   "outputs": [],
   "source": [
    "normTopicsByDecadeDict = {decade: {item[0]: item[1] for item in topics} for decade, topics in normTopicsbyDecadeStats.items()}\n"
   ]
  },
  {
   "cell_type": "code",
   "execution_count": 40,
   "metadata": {
    "collapsed": false
   },
   "outputs": [],
   "source": [
    "topicsDecadesDF = pd.DataFrame(normTopicsByDecadeDict).fillna(0)"
   ]
  },
  {
   "cell_type": "code",
   "execution_count": 41,
   "metadata": {
    "collapsed": false
   },
   "outputs": [
    {
     "data": {
      "text/html": [
       "<div>\n",
       "<table border=\"1\" class=\"dataframe\">\n",
       "  <thead>\n",
       "    <tr style=\"text-align: right;\">\n",
       "      <th></th>\n",
       "      <th>1870</th>\n",
       "      <th>1880</th>\n",
       "      <th>1890</th>\n",
       "      <th>1900</th>\n",
       "      <th>1910</th>\n",
       "      <th>1920</th>\n",
       "      <th>1930</th>\n",
       "      <th>1940</th>\n",
       "      <th>1950</th>\n",
       "      <th>1960</th>\n",
       "      <th>1970</th>\n",
       "      <th>1980</th>\n",
       "      <th>1990</th>\n",
       "      <th>2000</th>\n",
       "      <th>2010</th>\n",
       "    </tr>\n",
       "  </thead>\n",
       "  <tbody>\n",
       "    <tr>\n",
       "      <th>Anthologies</th>\n",
       "      <td>0.0</td>\n",
       "      <td>0.0</td>\n",
       "      <td>0.000000</td>\n",
       "      <td>0.0</td>\n",
       "      <td>0.0</td>\n",
       "      <td>0.000000</td>\n",
       "      <td>0.0</td>\n",
       "      <td>0.125</td>\n",
       "      <td>0.000000</td>\n",
       "      <td>0.125000</td>\n",
       "      <td>0.089855</td>\n",
       "      <td>0.0</td>\n",
       "      <td>0.093346</td>\n",
       "      <td>0.0</td>\n",
       "      <td>0.0</td>\n",
       "    </tr>\n",
       "    <tr>\n",
       "      <th>Authorship attribution</th>\n",
       "      <td>0.0</td>\n",
       "      <td>0.2</td>\n",
       "      <td>0.095238</td>\n",
       "      <td>0.0</td>\n",
       "      <td>0.0</td>\n",
       "      <td>0.000000</td>\n",
       "      <td>0.0</td>\n",
       "      <td>0.000</td>\n",
       "      <td>0.000000</td>\n",
       "      <td>0.000000</td>\n",
       "      <td>0.000000</td>\n",
       "      <td>0.0</td>\n",
       "      <td>0.000000</td>\n",
       "      <td>0.0</td>\n",
       "      <td>0.0</td>\n",
       "    </tr>\n",
       "    <tr>\n",
       "      <th>Ballads</th>\n",
       "      <td>0.0</td>\n",
       "      <td>0.0</td>\n",
       "      <td>0.000000</td>\n",
       "      <td>0.0</td>\n",
       "      <td>0.0</td>\n",
       "      <td>0.000000</td>\n",
       "      <td>0.0</td>\n",
       "      <td>0.175</td>\n",
       "      <td>0.000000</td>\n",
       "      <td>0.000000</td>\n",
       "      <td>0.000000</td>\n",
       "      <td>0.0</td>\n",
       "      <td>0.000000</td>\n",
       "      <td>0.0</td>\n",
       "      <td>0.0</td>\n",
       "    </tr>\n",
       "    <tr>\n",
       "      <th>Beauty</th>\n",
       "      <td>0.0</td>\n",
       "      <td>0.2</td>\n",
       "      <td>0.000000</td>\n",
       "      <td>0.0</td>\n",
       "      <td>0.0</td>\n",
       "      <td>0.235294</td>\n",
       "      <td>0.0</td>\n",
       "      <td>0.000</td>\n",
       "      <td>0.000000</td>\n",
       "      <td>0.000000</td>\n",
       "      <td>0.000000</td>\n",
       "      <td>0.0</td>\n",
       "      <td>0.000000</td>\n",
       "      <td>0.0</td>\n",
       "      <td>0.0</td>\n",
       "    </tr>\n",
       "    <tr>\n",
       "      <th>Bibliographies</th>\n",
       "      <td>0.0</td>\n",
       "      <td>0.0</td>\n",
       "      <td>0.000000</td>\n",
       "      <td>0.0</td>\n",
       "      <td>0.0</td>\n",
       "      <td>0.000000</td>\n",
       "      <td>0.0</td>\n",
       "      <td>0.150</td>\n",
       "      <td>0.153285</td>\n",
       "      <td>0.140306</td>\n",
       "      <td>0.095652</td>\n",
       "      <td>0.0</td>\n",
       "      <td>0.000000</td>\n",
       "      <td>0.0</td>\n",
       "      <td>0.0</td>\n",
       "    </tr>\n",
       "  </tbody>\n",
       "</table>\n",
       "</div>"
      ],
      "text/plain": [
       "                        1870  1880      1890  1900  1910      1920  1930  \\\n",
       "Anthologies              0.0   0.0  0.000000   0.0   0.0  0.000000   0.0   \n",
       "Authorship attribution   0.0   0.2  0.095238   0.0   0.0  0.000000   0.0   \n",
       "Ballads                  0.0   0.0  0.000000   0.0   0.0  0.000000   0.0   \n",
       "Beauty                   0.0   0.2  0.000000   0.0   0.0  0.235294   0.0   \n",
       "Bibliographies           0.0   0.0  0.000000   0.0   0.0  0.000000   0.0   \n",
       "\n",
       "                         1940      1950      1960      1970  1980      1990  \\\n",
       "Anthologies             0.125  0.000000  0.125000  0.089855   0.0  0.093346   \n",
       "Authorship attribution  0.000  0.000000  0.000000  0.000000   0.0  0.000000   \n",
       "Ballads                 0.175  0.000000  0.000000  0.000000   0.0  0.000000   \n",
       "Beauty                  0.000  0.000000  0.000000  0.000000   0.0  0.000000   \n",
       "Bibliographies          0.150  0.153285  0.140306  0.095652   0.0  0.000000   \n",
       "\n",
       "                        2000  2010  \n",
       "Anthologies              0.0   0.0  \n",
       "Authorship attribution   0.0   0.0  \n",
       "Ballads                  0.0   0.0  \n",
       "Beauty                   0.0   0.0  \n",
       "Bibliographies           0.0   0.0  "
      ]
     },
     "execution_count": 41,
     "metadata": {},
     "output_type": "execute_result"
    }
   ],
   "source": [
    "topicsDecadesDF.head()"
   ]
  },
  {
   "cell_type": "code",
   "execution_count": 52,
   "metadata": {
    "collapsed": false
   },
   "outputs": [
    {
     "data": {
      "text/plain": [
       "<matplotlib.axes._subplots.AxesSubplot at 0x7ffb2ac80be0>"
      ]
     },
     "execution_count": 52,
     "metadata": {},
     "output_type": "execute_result"
    },
    {
     "data": {
      "image/png": "[encoded data removed]",
      "text/plain": [
       "<matplotlib.figure.Figure at 0x7ffb30035ba8>"
      ]
     },
     "metadata": {},
     "output_type": "display_data"
    }
   ],
   "source": [
    "topicsDecadesDF.T[['Pity', 'Irony', 'Fear', 'Women']].plot()"
   ]
  },
  {
   "cell_type": "code",
   "execution_count": 148,
   "metadata": {
    "collapsed": false
   },
   "outputs": [
    {
     "name": "stdout",
     "output_type": "stream",
     "text": [
      "Article e74da730-0474-37d5-a8bb-8c2fdd073bfe\n",
      "\ttitle: ???\n",
      "\tjournal: ???\n",
      "\tyear: 1937\n",
      "Article 495c2689-66be-33da-9c09-254f6962bd22\n",
      "\ttitle: ???\n",
      "\tjournal: ???\n",
      "\tyear: 1937\n",
      "Article a079e6e7-6f21-3284-9a0b-e05d860855ba\n",
      "\ttitle: ???\n",
      "\tjournal: ???\n",
      "\tyear: 1937\n",
      "Article 416ddbbd-a6be-3df9-a3de-acaa2f97dd25\n",
      "\ttitle: ???\n",
      "\tjournal: ???\n",
      "\tyear: 1937\n",
      "Article f8231693-237d-352f-b5b6-e00cbc426290\n",
      "\ttitle: ['Some Sources for the History of the School Manager, 1800-1902']\n",
      "\tjournal: British Journal of Educational Studies\n",
      "\tyear: 1973\n",
      "Article 73aa7323-adc9-360a-8dae-7b26402b2903\n",
      "\ttitle: ['Health Policies, Health Politics', 'The British and American Experience, 1911-1965', 'NOTE ON SOURCES']\n",
      "\tjournal: ???\n",
      "\tyear: 1986\n"
     ]
    }
   ],
   "source": [
    "# What are these underwater photography articles?!\n",
    "underwaterPhotographyArticles = [article for article in data if 'topics' in article and 'Underwater photography' in article['topics']]\n",
    "for article in underwaterPhotographyArticles: \n",
    "    print('Article %s' % article['id'])\n",
    "    for key in ['title', 'journal', 'year']: \n",
    "            if key in article: \n",
    "                print('\\t%s: %s' % (key, article[key]))\n",
    "            else: \n",
    "                print('\\t%s: ???' % (key))"
   ]
  },
  {
   "cell_type": "code",
   "execution_count": 177,
   "metadata": {
    "collapsed": false
   },
   "outputs": [],
   "source": [
    "# Make a list of authors. \n",
    "authors = [article['author'] for article in data if 'author' in article]"
   ]
  },
  {
   "cell_type": "code",
   "execution_count": 178,
   "metadata": {
    "collapsed": false,
    "scrolled": true
   },
   "outputs": [],
   "source": [
    "authors = [item for sublist in authors for item in sublist]"
   ]
  },
  {
   "cell_type": "code",
   "execution_count": 180,
   "metadata": {
    "collapsed": false
   },
   "outputs": [
    {
     "data": {
      "text/plain": [
       "[('U. C. Knoepflmacher', 26),\n",
       " ('DONALD HAWES', 24),\n",
       " ('George Levine', 24),\n",
       " ('J. Hillis Miller', 20),\n",
       " ('JEROME MECKIER', 16),\n",
       " ('Rosemary Ashton', 15),\n",
       " ('Edward H. Cohen', 15),\n",
       " ('Daniel Cottom', 15),\n",
       " ('FELICIA BONAPARTE', 14),\n",
       " ('G. B. Tennyson', 14)]"
      ]
     },
     "execution_count": 180,
     "metadata": {},
     "output_type": "execute_result"
    }
   ],
   "source": [
    "# Who are the rockstar Eliot scholars? \n",
    "Counter(authors).most_common(10)"
   ]
  },
  {
   "cell_type": "code",
   "execution_count": 182,
   "metadata": {
    "collapsed": false
   },
   "outputs": [],
   "source": [
    "uniqueAuthors = set(authors)"
   ]
  },
  {
   "cell_type": "code",
   "execution_count": 183,
   "metadata": {
    "collapsed": false
   },
   "outputs": [],
   "source": [
    "# This is a bit iffy, but we might be able to guess the gender of authors by looking at their first names. \n",
    "maleNames = names.words('male.txt')\n",
    "femaleNames = names.words('female.txt')\n",
    "\n",
    "# Lowercase the names so we can look them up easier. \n",
    "maleNames = [name.lower() for name in maleNames]\n",
    "femaleNames = [name.lower() for name in femaleNames]"
   ]
  },
  {
   "cell_type": "code",
   "execution_count": 190,
   "metadata": {
    "collapsed": false
   },
   "outputs": [],
   "source": [
    "genderCategories = ['Male', 'Female', 'Ambiguous', 'Unknown']\n",
    "genderGuesses = {category: 0 for category in genderCategories}\n",
    "genderGuessedNames = {category: [] for category in genderCategories}\n",
    "\n",
    "for author in uniqueAuthors: \n",
    "    firstName = author.split(' ')[0].lower()\n",
    "    if firstName in maleNames and firstName in femaleNames: \n",
    "        genderGuesses['Ambiguous'] += 1\n",
    "        genderGuessedNames['Ambiguous'].append(firstName)\n",
    "    elif firstName in maleNames: \n",
    "        genderGuesses['Male'] += 1 \n",
    "        genderGuessedNames['Male'].append(firstName)\n",
    "    elif firstName in femaleNames: \n",
    "        genderGuesses['Female'] += 1\n",
    "        genderGuessedNames['Female'].append(firstName)\n",
    "    else: \n",
    "        genderGuesses['Unknown'] += 1   \n",
    "        genderGuessedNames['Unknown'].append(firstName)"
   ]
  },
  {
   "cell_type": "code",
   "execution_count": 195,
   "metadata": {
    "collapsed": false
   },
   "outputs": [
    {
     "data": {
      "text/plain": [
       "<matplotlib.axes._subplots.AxesSubplot at 0x7f66d8e125f8>"
      ]
     },
     "execution_count": 195,
     "metadata": {},
     "output_type": "execute_result"
    },
    {
     "data": {
      "image/png": "[encoded data removed]",
      "text/plain": [
       "<matplotlib.figure.Figure at 0x7f66d8e27240>"
      ]
     },
     "metadata": {},
     "output_type": "display_data"
    }
   ],
   "source": [
    "pd.Series(genderGuesses).plot(kind='pie', label=\"Guessed Gender\")"
   ]
  },
  {
   "cell_type": "code",
   "execution_count": 200,
   "metadata": {
    "collapsed": true
   },
   "outputs": [],
   "source": [
    "# Are there any articles with the exact same title (possible duplicates)? \n",
    "titles = [article['title'] for article in data if 'title' in article]\n",
    "titles = [item for sublist in titles for item in sublist] # Flatten"
   ]
  },
  {
   "cell_type": "code",
   "execution_count": 201,
   "metadata": {
    "collapsed": false
   },
   "outputs": [
    {
     "data": {
      "text/plain": [
       "[('Front Matter', 212),\n",
       " ('Back Matter', 209),\n",
       " ('Index', 166),\n",
       " ('Volume Information', 125),\n",
       " ('Notes', 89),\n",
       " ('INDEX', 70),\n",
       " ('Bibliography', 47),\n",
       " ('Summary of Periodical Literature', 42),\n",
       " ('NOTES', 31),\n",
       " ('Recent Studies in the Nineteenth Century', 30),\n",
       " ('Introduction', 27),\n",
       " ('Works Cited', 26),\n",
       " ('Table of Contents', 21),\n",
       " ('Books Received', 19),\n",
       " ('List of Publications Received', 17),\n",
       " ('The Making of Nineteenth-Century English Fiction', 14),\n",
       " ('The Poetics of Poesis', 14),\n",
       " ('Recent Books', 13),\n",
       " ('Abstracts', 13),\n",
       " ('Social Figures', 12)]"
      ]
     },
     "execution_count": 201,
     "metadata": {},
     "output_type": "execute_result"
    }
   ],
   "source": [
    "Counter(titles).most_common(20)"
   ]
  }
 ],
 "metadata": {
  "kernelspec": {
   "display_name": "Python 3",
   "language": "python",
   "name": "python3"
  },
  "language_info": {
   "codemirror_mode": {
    "name": "ipython",
    "version": 3
   },
   "file_extension": ".py",
   "mimetype": "text/x-python",
   "name": "python",
   "nbconvert_exporter": "python",
   "pygments_lexer": "ipython3",
   "version": "3.5.2"
  }
 },
 "nbformat": 4,
 "nbformat_minor": 1
}
