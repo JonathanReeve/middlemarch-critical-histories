{
 "cells": [
  {
   "cell_type": "markdown",
   "metadata": {},
   "source": [
    "# Exploratory analysis of quoted speech"
   ]
  },
  {
   "cell_type": "code",
   "execution_count": 103,
   "metadata": {
    "collapsed": false
   },
   "outputs": [],
   "source": [
    "from collections import Counter\n",
    "import pandas as pd\n",
    "%matplotlib inline\n",
    "from pylab import rcParams\n",
    "from bs4 import BeautifulSoup\n",
    "import textacy\n",
    "rcParams['figure.figsize'] = 10, 4"
   ]
  },
  {
   "cell_type": "code",
   "execution_count": 1,
   "metadata": {
    "collapsed": true
   },
   "outputs": [],
   "source": [
    "import spacy\n",
    "nlp = spacy.load('en')"
   ]
  },
  {
   "cell_type": "code",
   "execution_count": 7,
   "metadata": {
    "collapsed": false
   },
   "outputs": [],
   "source": [
    "with open('pride.txt') as f: \n",
    "    pride = f.read()"
   ]
  },
  {
   "cell_type": "code",
   "execution_count": 9,
   "metadata": {
    "collapsed": false,
    "scrolled": false
   },
   "outputs": [],
   "source": [
    "doc = nlp(pride)"
   ]
  },
  {
   "cell_type": "code",
   "execution_count": 7,
   "metadata": {
    "collapsed": true
   },
   "outputs": [],
   "source": [
    "def proportionWithTag(doc, tag):\n",
    "    \"\"\" Returns the proportion of words in the document that have a certain POS tag. \n",
    "    If given a list instead of a tag, returns the proportions of words in the document \n",
    "    that have those tags.\"\"\"\n",
    "    totalWords = len(doc)\n",
    "    if type(tag) == list: \n",
    "        wordsWithTag = [word for word in doc if word.tag_ in tag]\n",
    "    else: \n",
    "        wordsWithTag = [word for word in doc if word.tag_ == tag]\n",
    "    return len(wordsWithTag)/totalWords\n",
    "\n",
    "def proportionWithLemma(doc, lemma): \n",
    "    totalWords = len(doc)\n",
    "    wordsWithLemma = [word for word in doc if word.lemma_ == lemma]\n",
    "    return len(wordsWithLemma)/totalWords"
   ]
  },
  {
   "cell_type": "code",
   "execution_count": 8,
   "metadata": {
    "collapsed": true
   },
   "outputs": [],
   "source": [
    "def beProportion(doc): \n",
    "    totalWords = len(doc)\n",
    "    bes = [word for word in doc if word.lemma_ == 'be' and word.tag_ in verbtags] # 488 is \"be\" \n",
    "    return len(bes)/totalWords"
   ]
  },
  {
   "cell_type": "markdown",
   "metadata": {},
   "source": [
    "\n",
    "From the Penn Treebank table: \n",
    "https://www.ling.upenn.edu/courses/Fall_2003/ling001/penn_treebank_pos.html\n",
    "\n",
    "27. \tVB \tVerb, base form\n",
    "28. \tVBD \tVerb, past tense\n",
    "29. \tVBG \tVerb, gerund or present participle\n",
    "30. \tVBN \tVerb, past participle\n",
    "31. \tVBP \tVerb, non-3rd person singular present\n",
    "32. \tVBZ \tVerb, 3rd person singular present "
   ]
  },
  {
   "cell_type": "code",
   "execution_count": 149,
   "metadata": {
    "collapsed": true
   },
   "outputs": [],
   "source": [
    "presentVerbTags = ['VB', 'VBG', 'VBP', 'VBZ']\n",
    "verbtags = ['VB', 'VBD', 'VBG', 'VBN', 'VBP', 'VBZ']"
   ]
  },
  {
   "cell_type": "code",
   "execution_count": 83,
   "metadata": {
    "collapsed": false
   },
   "outputs": [
    {
     "data": {
      "text/plain": [
       "[0.07910406178526769, 0.12875536480686695]"
      ]
     },
     "execution_count": 83,
     "metadata": {},
     "output_type": "execute_result"
    }
   ],
   "source": [
    "[proportionWithTag(x, presentVerbTags) for x in [doc, quoted]]"
   ]
  },
  {
   "cell_type": "code",
   "execution_count": 59,
   "metadata": {
    "collapsed": false,
    "scrolled": true
   },
   "outputs": [
    {
     "data": {
      "text/plain": [
       "0.009692823034708859"
      ]
     },
     "execution_count": 59,
     "metadata": {},
     "output_type": "execute_result"
    }
   ],
   "source": [
    "VBZproportion(doc)"
   ]
  },
  {
   "cell_type": "code",
   "execution_count": 60,
   "metadata": {
    "collapsed": false
   },
   "outputs": [
    {
     "data": {
      "text/plain": [
       "0.03571428571428571"
      ]
     },
     "execution_count": 60,
     "metadata": {},
     "output_type": "execute_result"
    }
   ],
   "source": [
    "VBZproportion(sent0)"
   ]
  },
  {
   "cell_type": "markdown",
   "metadata": {},
   "source": [
    "# Pride and Prejudice Highlights\n",
    "\n",
    "Scraped from: https://kindle.amazon.com/work/pride-prejudice-jane-austen-ebook/B00K1K87SQ/B008476HBM\n",
    "and from: https://web.archive.org/web/20140821065046/https://kindle.amazon.com/work/pride-prejudice-jane-austen-ebook/B000AGXUCE/B000JMLFLW\n",
    "\n",
    ">It is a truth universally acknowledged, that a single man in possession of a good fortune, must be in want of a wife.\n",
    "\n",
    "11996 Highlighters\n",
    "\n",
    ">Pride relates more to our opinion of ourselves, vanity to what we would have others think of us.\"\n",
    "\n",
    "11799 Highlighters\n",
    "\n",
    ">In vain I have struggled. It will not do. My feelings will not be repressed. You must allow me to tell you how ardently I admire and love you.\n",
    "\n",
    "5841 Highlighters\n",
    "\n",
    ">Happiness in marriage is entirely a matter of chance. If the dispositions of the parties are ever so well known to each other or ever so similar beforehand, it does not advance their felicity in the least. They always continue to grow sufficiently unlike afterwards to have their share of vexation; and it is better to know as little as possible of the defects of the person with whom you are to pass your life.\"\n",
    "\n",
    "5788 Highlighters\n",
    "\n",
    ">There are few people whom I really love, and still fewer of whom I think well. The more I see of the world, the more am I dissatisfied with it; and every day confirms my belief of the inconsistency of all human characters, and of the little dependence that can be placed on the appearance of merit or sense.\n",
    "\n",
    "5290 Highlighters\n",
    "\n",
    "Popular Highlights\n",
    "\n",
    ">there are very few of us who have heart enough to be really in love without encouragement.\n",
    "\n",
    "8300 Highlighters\n",
    "\n",
    ">Vanity and pride are different things, though the words are often used synonymously. A person may be proud without being vain. Pride relates more to our opinion of ourselves, vanity to what we would have others think of us.\"\n",
    "\n",
    "7627 Highlighters\n",
    "\n",
    ">\"Pride,\" observed Mary, who piqued herself upon the solidity of her reflections, \"is a very common failing,\n",
    "\n",
    "5494 Highlighters\n"
   ]
  },
  {
   "cell_type": "code",
   "execution_count": 12,
   "metadata": {
    "collapsed": false
   },
   "outputs": [],
   "source": [
    "quoted_passages = [\"\"\"It is a truth universally acknowledged, \n",
    " that a single man in possession of a good fortune, must be in want of a wife.\"\"\",\n",
    "\"\"\"In vain I have struggled. It will not do. My feelings will not be repressed. \n",
    "You must allow me to tell you how ardently I admire and love you.\"\"\",\n",
    "\"\"\"Happiness in marriage is entirely a matter of chance. If the dispositions of the parties are ever \n",
    "so well known to each other or ever so similar beforehand, \n",
    "it does not advance their felicity in the least. \n",
    "They always continue to grow sufficiently unlike afterwards to have their share of vexation; \n",
    "and it is better to know as little as possible of the defects of the person with whom you are to pass your life.\"\"\",\n",
    "\"\"\"There are few people whom I really love, and still fewer of whom I think well. \n",
    "The more I see of the world, the more am I dissatisfied with it; \n",
    "and every day confirms my belief of the inconsistency of all human characters, \n",
    "and of the little dependence that can be placed on the appearance of merit or sense.\"\"\",\n",
    "\"\"\"\"Pride,\" observed Mary, who piqued herself upon the solidity of her reflections, \"is a very common failing,\"\"\",\n",
    "\"\"\"Vanity and pride are different things, though the words are often used synonymously. \n",
    "A person may be proud without being vain. Pride relates more to our opinion of ourselves, \n",
    "vanity to what we would have others think of us.\"\"\"\n",
    "]"
   ]
  },
  {
   "cell_type": "code",
   "execution_count": 13,
   "metadata": {
    "collapsed": true
   },
   "outputs": [],
   "source": [
    "joined = ' '.join(quoted_passages)"
   ]
  },
  {
   "cell_type": "code",
   "execution_count": 14,
   "metadata": {
    "collapsed": true
   },
   "outputs": [],
   "source": [
    "quoted = nlp(joined)"
   ]
  },
  {
   "cell_type": "code",
   "execution_count": 15,
   "metadata": {
    "collapsed": true
   },
   "outputs": [],
   "source": [
    "tagDict = {\"CC\": \"Coordinating conjunction\",\n",
    "\"DT\": \"Determiner\",\n",
    "\"EX\": \"Existential there\",\n",
    "\"IN\": \"Preposition or subordinating conjunction\",\n",
    "\"JJ\": \"Adjective\",\n",
    "\"JJR\": \"Adjective, comparative\",\n",
    "\"JJS\": \"Adjective, superlative\",\n",
    "\"MD\": \"Modal\",\n",
    "\"NN\": \"Noun, singular or mass\",\n",
    "\"NNS\": \"Noun, plural\",\n",
    "\"NNP\": \"Proper noun, singular\",\n",
    "\"NNPS\": \"Proper noun, plural\",\n",
    "\"PDT\": \"Predeterminer\",\n",
    "\"POS\": \"Possessive ending\",\n",
    "\"PRP\": \"Personal pronoun\",\n",
    "\"PRP$\": \"Possessive pronoun\",\n",
    "\"RB\": \"Adverb\",\n",
    "\"RBR\": \"Adverb, comparative\",\n",
    "\"RBS\": \"Adverb, superlative\",\n",
    "\"RP\": \"Particle\",\n",
    "\"TO\": \"to\",\n",
    "\"UH\": \"Interjection\",\n",
    "\"VB\": \"Verb, base form\",\n",
    "\"VBD\": \"Verb, past tense\",\n",
    "\"VBG\": \"Verb, gerund or present participle\",\n",
    "\"VBN\": \"Verb, past participle\",\n",
    "\"VBP\": \"Verb, non-3rd person singular present\",\n",
    "\"VBZ\": \"Verb, 3rd person singular present\",\n",
    "\"WDT\": \"Wh-determiner\",\n",
    "\"WP\": \"Wh-pronoun\",\n",
    "\"WP$\": \"Possessive wh-pronoun\",\n",
    "\"WRB\": \"Wh-adverb\"}"
   ]
  },
  {
   "cell_type": "code",
   "execution_count": 16,
   "metadata": {
    "collapsed": true
   },
   "outputs": [],
   "source": [
    "tagset = list(tagDict.keys())"
   ]
  },
  {
   "cell_type": "code",
   "execution_count": 17,
   "metadata": {
    "collapsed": false
   },
   "outputs": [],
   "source": [
    "def compareTags(a, b, tagset):\n",
    "    proportionsDict = {}\n",
    "    for tag in tagset: \n",
    "        proportionsDict[tag] = [proportionWithTag(x, tag) for x in [a, b]]\n",
    "    df = pd.DataFrame(proportionsDict).T\n",
    "    df['factor'] = df[1]/df[0]\n",
    "    df['factor'].plot(kind=\"bar\")"
   ]
  },
  {
   "cell_type": "code",
   "execution_count": 18,
   "metadata": {
    "collapsed": false
   },
   "outputs": [
    {
     "data": {
      "image/png": "[encoded data removed]",
      "text/plain": [
       "<matplotlib.figure.Figure at 0x7f4d05c44828>"
      ]
     },
     "metadata": {},
     "output_type": "display_data"
    }
   ],
   "source": [
    "compareTags(doc, quoted, tagset)"
   ]
  },
  {
   "cell_type": "code",
   "execution_count": 19,
   "metadata": {
    "collapsed": false
   },
   "outputs": [],
   "source": [
    "def compareLemmas(a, b, lemmas):\n",
    "    proportionsDict = {}\n",
    "    for lemma in lemmas: \n",
    "        proportionsDict[lemma] = [proportionWithLemma(x, lemma) for x in [a, b]]\n",
    "    df = pd.DataFrame(proportionsDict).T\n",
    "    df['factor'] = df[1]/df[0]\n",
    "    df['factor'].plot(kind=\"bar\")"
   ]
  },
  {
   "cell_type": "code",
   "execution_count": 20,
   "metadata": {
    "collapsed": false
   },
   "outputs": [
    {
     "data": {
      "image/png": "[encoded data removed]",
      "text/plain": [
       "<matplotlib.figure.Figure at 0x7f4d02e7be80>"
      ]
     },
     "metadata": {},
     "output_type": "display_data"
    }
   ],
   "source": [
    "compareLemmas(doc, quoted, ['be', 'have', 'do'])"
   ]
  },
  {
   "cell_type": "code",
   "execution_count": 21,
   "metadata": {
    "collapsed": true
   },
   "outputs": [],
   "source": [
    "# Read annotated edition of Middlemarch\n",
    "with open('annotated.html') as f: \n",
    "    annotated = f.read()"
   ]
  },
  {
   "cell_type": "code",
   "execution_count": 22,
   "metadata": {
    "collapsed": false
   },
   "outputs": [],
   "source": [
    "# Parse \n",
    "soup = BeautifulSoup(annotated, 'lxml')\n",
    "\n",
    "levels = [soup.find_all('span', 'c-'+str(level)) for level in range(17)]\n",
    "\n",
    "# Remove HTML tags. \n",
    "cleanLevels = []\n",
    "for level in levels: \n",
    "    cleanLevel = [quote.get_text() for quote in level]\n",
    "    cleanLevels.append(cleanLevel)"
   ]
  },
  {
   "cell_type": "code",
   "execution_count": 131,
   "metadata": {
    "collapsed": false
   },
   "outputs": [],
   "source": [
    "def getQuotes(cleanLevels, n): \n",
    "    \"\"\" Get quotes from list, according to n times they are quoted. \"\"\"\n",
    "    quotedGroups = cleanLevels[n:]\n",
    "    quoted = []\n",
    "    for group in quotedGroups: \n",
    "        quoted.extend(group)\n",
    "    quoted = ' '.join(quoted)\n",
    "    return quoted"
   ]
  },
  {
   "cell_type": "code",
   "execution_count": 150,
   "metadata": {
    "collapsed": false
   },
   "outputs": [],
   "source": [
    "unquoted = cleanLevels[0]\n",
    "quotedGroups = cleanLevels[1:]\n",
    "quoted = []\n",
    "for group in quotedGroups: \n",
    "    quoted.extend(group)\n",
    "quotes = ' '.join(quoted)\n",
    "nonquotes = ' '.join(unquoted)"
   ]
  },
  {
   "cell_type": "code",
   "execution_count": 151,
   "metadata": {
    "collapsed": false,
    "scrolled": true
   },
   "outputs": [],
   "source": [
    "quotes5 = getQuotes(cleanLevels, 5)\n",
    "quotes8 = getQuotes(cleanLevels, 8)"
   ]
  },
  {
   "cell_type": "code",
   "execution_count": 29,
   "metadata": {
    "collapsed": false
   },
   "outputs": [
    {
     "data": {
      "image/png": "[encoded data removed]",
      "text/plain": [
       "<matplotlib.figure.Figure at 0x7f4d02e7feb8>"
      ]
     },
     "metadata": {},
     "output_type": "display_data"
    }
   ],
   "source": [
    "compareTags(nonquotes, quotes, tagset)"
   ]
  },
  {
   "cell_type": "code",
   "execution_count": 47,
   "metadata": {
    "collapsed": false
   },
   "outputs": [
    {
     "data": {
      "image/png": "[encoded data removed]",
      "text/plain": [
       "<matplotlib.figure.Figure at 0x7f4cf991a710>"
      ]
     },
     "metadata": {},
     "output_type": "display_data"
    }
   ],
   "source": [
    "compareTags(nonquotes, quotes5, tagset)"
   ]
  },
  {
   "cell_type": "code",
   "execution_count": 50,
   "metadata": {
    "collapsed": false
   },
   "outputs": [
    {
     "data": {
      "image/png": "[encoded data removed]",
      "text/plain": [
       "<matplotlib.figure.Figure at 0x7f4cf87458d0>"
      ]
     },
     "metadata": {},
     "output_type": "display_data"
    }
   ],
   "source": [
    "compareTags(nonquotes, quotes8, tagset)"
   ]
  },
  {
   "cell_type": "code",
   "execution_count": 245,
   "metadata": {
    "collapsed": false
   },
   "outputs": [
    {
     "data": {
      "text/plain": [
       "'Wh-determiner'"
      ]
     },
     "execution_count": 245,
     "metadata": {},
     "output_type": "execute_result"
    }
   ],
   "source": [
    "tagDict['WDT']"
   ]
  },
  {
   "cell_type": "code",
   "execution_count": 51,
   "metadata": {
    "collapsed": false,
    "scrolled": true
   },
   "outputs": [
    {
     "data": {
      "image/png": "[encoded data removed]",
      "text/plain": [
       "<matplotlib.figure.Figure at 0x7f4cd66eb550>"
      ]
     },
     "metadata": {},
     "output_type": "display_data"
    }
   ],
   "source": [
    "compareLemmas(nonquotes, quotes, ['be', 'have','do',\n",
    "                                  'must', 'most', 'least', 'important',\n",
    "                                 'beautiful', 'beauty', 'big', 'small'])"
   ]
  },
  {
   "cell_type": "code",
   "execution_count": 89,
   "metadata": {
    "collapsed": false,
    "scrolled": true
   },
   "outputs": [],
   "source": [
    "def compareAllLemmas(a, b): \n",
    "    lemmasA = pd.Series(Counter([word.lemma_ for word in a]))\n",
    "    lemmasB = pd.Series(Counter([word.lemma_ for word in b]))\n",
    "#     df = pd.concat([lemmasA, lemmasB], axis=1).fillna(0)\n",
    "    return lemmasA, lemmasB"
   ]
  },
  {
   "cell_type": "code",
   "execution_count": 91,
   "metadata": {
    "collapsed": false,
    "scrolled": true
   },
   "outputs": [],
   "source": [
    "sa, sb = compareAllLemmas(nonquotes, quotes8)"
   ]
  },
  {
   "cell_type": "code",
   "execution_count": 100,
   "metadata": {
    "collapsed": false
   },
   "outputs": [],
   "source": [
    "df = pd.concat([sa, sb], axis=1).fillna(0)"
   ]
  },
  {
   "cell_type": "code",
   "execution_count": 123,
   "metadata": {
    "collapsed": false
   },
   "outputs": [],
   "source": [
    "# quotesBag = quotes8.to_bag_of_terms(lemmatize=True, weighting='freq', as_strings=True)\n",
    "\n",
    "def bagOfTerms(doc): \n",
    "    bag = doc.to_bag_of_terms(lemmatize=True, weighting='freq', as_strings=True)\n",
    "    return pd.Series(bag)"
   ]
  },
  {
   "cell_type": "code",
   "execution_count": 152,
   "metadata": {
    "collapsed": false,
    "scrolled": true
   },
   "outputs": [],
   "source": [
    "nonquotesDoc = textacy.Doc(nonquotes)\n",
    "quotesDoc = textacy.Doc(quotes)\n",
    "quotes5Doc = textacy.Doc(quotes5)\n",
    "quotes8Doc = textacy.Doc(quotes8)"
   ]
  },
  {
   "cell_type": "code",
   "execution_count": 153,
   "metadata": {
    "collapsed": false,
    "scrolled": true
   },
   "outputs": [],
   "source": [
    "nonquotesBag = bagOfTerms(nonquotesDoc)\n",
    "quotesBag = bagOfTerms(quotesDoc)\n",
    "quotes5Bag = bagOfTerms(quotes5Doc)\n",
    "quotes8Bag = bagOfTerms(quotes8Doc)"
   ]
  },
  {
   "cell_type": "code",
   "execution_count": 167,
   "metadata": {
    "collapsed": false
   },
   "outputs": [],
   "source": [
    "def compareAllLemmas(a, b): \n",
    "    \"\"\" Compares two bags of terms. \"\"\"\n",
    "    df = pd.concat([a, b], axis=1).fillna(0)\n",
    "    delta = df[0] - df[1]\n",
    "    return delta.sort_values()"
   ]
  },
  {
   "cell_type": "code",
   "execution_count": 172,
   "metadata": {
    "collapsed": false,
    "scrolled": true
   },
   "outputs": [],
   "source": [
    "df = compareAllLemmas(quotesBag, nonquotesBag)"
   ]
  },
  {
   "cell_type": "code",
   "execution_count": 173,
   "metadata": {
    "collapsed": false
   },
   "outputs": [
    {
     "data": {
      "text/plain": [
       "say             -0.003908\n",
       "mr.             -0.002463\n",
       "lydgate         -0.002194\n",
       "fred            -0.001954\n",
       "bulstrode       -0.001712\n",
       "mary            -0.001311\n",
       "rosamond        -0.001070\n",
       "mrs.            -0.001058\n",
       "celia           -0.001023\n",
       "not             -0.000978\n",
       "garth           -0.000973\n",
       "farebrother     -0.000968\n",
       "'s              -0.000907\n",
       "james           -0.000898\n",
       "brooke          -0.000878\n",
       "vincy           -0.000618\n",
       "'               -0.000607\n",
       "ladislaw        -0.000601\n",
       "casaubon        -0.000560\n",
       "raffles         -0.000553\n",
       "middlemarch     -0.000552\n",
       "sir             -0.000537\n",
       "wish            -0.000512\n",
       "speak           -0.000475\n",
       "come            -0.000474\n",
       "go              -0.000473\n",
       "featherstone    -0.000470\n",
       "shall           -0.000469\n",
       "caleb           -0.000446\n",
       "tell            -0.000437\n",
       "                   ...   \n",
       "marriage         0.000245\n",
       "large            0.000263\n",
       "deep             0.000265\n",
       "little           0.000266\n",
       "heart            0.000268\n",
       "mind             0.000268\n",
       "self             0.000269\n",
       "struggle         0.000279\n",
       "inward           0.000287\n",
       "small            0.000294\n",
       "people           0.000296\n",
       "young            0.000304\n",
       "lot              0.000308\n",
       "human            0.000324\n",
       "english          0.000336\n",
       "sort             0.000337\n",
       "history          0.000337\n",
       "live             0.000369\n",
       "new              0.000374\n",
       "man              0.000375\n",
       "nature           0.000377\n",
       "light            0.000384\n",
       "great            0.000391\n",
       "soul             0.000397\n",
       "consciousness    0.000479\n",
       "world            0.000611\n",
       "love             0.000640\n",
       "like             0.000742\n",
       "woman            0.000817\n",
       "life             0.001291\n",
       "dtype: float64"
      ]
     },
     "execution_count": 173,
     "metadata": {},
     "output_type": "execute_result"
    }
   ],
   "source": [
    "df"
   ]
  },
  {
   "cell_type": "code",
   "execution_count": null,
   "metadata": {
    "collapsed": true
   },
   "outputs": [],
   "source": []
  }
 ],
 "metadata": {
  "kernelspec": {
   "display_name": "Python 3",
   "language": "python",
   "name": "python3"
  },
  "language_info": {
   "codemirror_mode": {
    "name": "ipython",
    "version": 3
   },
   "file_extension": ".py",
   "mimetype": "text/x-python",
   "name": "python",
   "nbconvert_exporter": "python",
   "pygments_lexer": "ipython3",
   "version": "3.5.2"
  }
 },
 "nbformat": 4,
 "nbformat_minor": 1
}
