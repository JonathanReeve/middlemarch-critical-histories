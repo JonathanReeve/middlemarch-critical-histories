{
 "cells": [
  {
   "cell_type": "markdown",
   "metadata": {},
   "source": [
    "# Experiment 0 Annotator\n",
    "\n",
    "This annotates the text with the number of times that passage has been quoted. "
   ]
  },
  {
   "cell_type": "code",
   "execution_count": 1,
   "metadata": {
    "collapsed": true
   },
   "outputs": [],
   "source": [
    "import pandas as pd\n",
    "import nltk\n",
    "%matplotlib inline\n",
    "import math\n",
    "from ast import literal_eval\n",
    "import numpy as np\n",
    "import re\n",
    "from matplotlib import pyplot as plt\n",
    "from colour import Color\n",
    "from IPython.core.display import HTML\n",
    "from matplotlib import cm\n",
    "from matplotlib.colors import rgb2hex\n",
    "plt.rcParams[\"figure.figsize\"] = [16, 6]"
   ]
  },
  {
   "cell_type": "code",
   "execution_count": 2,
   "metadata": {
    "collapsed": false
   },
   "outputs": [
    {
     "data": {
      "text/html": [
       "<div>\n",
       "<table border=\"1\" class=\"dataframe\">\n",
       "  <thead>\n",
       "    <tr style=\"text-align: right;\">\n",
       "      <th></th>\n",
       "      <th>Text A</th>\n",
       "      <th>Text B</th>\n",
       "      <th>Threshold</th>\n",
       "      <th>N-Grams</th>\n",
       "      <th>Num Matches</th>\n",
       "      <th>Text A Length</th>\n",
       "      <th>Text B Length</th>\n",
       "      <th>Locations in A</th>\n",
       "      <th>Locations in B</th>\n",
       "    </tr>\n",
       "  </thead>\n",
       "  <tbody>\n",
       "    <tr>\n",
       "      <th>0</th>\n",
       "      <td>middlemarch.txt</td>\n",
       "      <td>e0b/e0b-txt/WOLFE_2002_IRIS MURDOCH APPLIED TO...</td>\n",
       "      <td>6</td>\n",
       "      <td>3</td>\n",
       "      <td>17</td>\n",
       "      <td>1793446</td>\n",
       "      <td>43119</td>\n",
       "      <td>[(539109, 539353), (539391, 539432), (539504, ...</td>\n",
       "      <td>[(26234, 26478), (26481, 26521), (26567, 26802...</td>\n",
       "    </tr>\n",
       "    <tr>\n",
       "      <th>1</th>\n",
       "      <td>middlemarch.txt</td>\n",
       "      <td>e0b/e0b-txt/Hardy_1954_The Moment of Disenchan...</td>\n",
       "      <td>6</td>\n",
       "      <td>3</td>\n",
       "      <td>3</td>\n",
       "      <td>1793446</td>\n",
       "      <td>20226</td>\n",
       "      <td>[(580711, 580936), (580948, 581020), (1691325,...</td>\n",
       "      <td>[(9662, 9886), (9897, 9969), (19879, 20002)]</td>\n",
       "    </tr>\n",
       "    <tr>\n",
       "      <th>2</th>\n",
       "      <td>middlemarch.txt</td>\n",
       "      <td>e0b/e0b-txt/MORRIS_1990_THE DIALOGIC UNIVERSE ...</td>\n",
       "      <td>6</td>\n",
       "      <td>3</td>\n",
       "      <td>21</td>\n",
       "      <td>1793446</td>\n",
       "      <td>47530</td>\n",
       "      <td>[(1615, 1964), (29948, 30025), (40132, 40256),...</td>\n",
       "      <td>[(4254, 4605), (5612, 5690), (6239, 6364), (75...</td>\n",
       "    </tr>\n",
       "    <tr>\n",
       "      <th>3</th>\n",
       "      <td>middlemarch.txt</td>\n",
       "      <td>e0b/e0b-txt/Guth_1999_George Eliot and Schille...</td>\n",
       "      <td>6</td>\n",
       "      <td>3</td>\n",
       "      <td>5</td>\n",
       "      <td>1793446</td>\n",
       "      <td>46745</td>\n",
       "      <td>[(8798, 8850), (8870, 8930), (83611, 83687), (...</td>\n",
       "      <td>[(18049, 18101), (18127, 18188), (19244, 19319...</td>\n",
       "    </tr>\n",
       "    <tr>\n",
       "      <th>4</th>\n",
       "      <td>middlemarch.txt</td>\n",
       "      <td>e0b/e0b-txt/Payne_1999_The Serialist Vanishes.txt</td>\n",
       "      <td>6</td>\n",
       "      <td>3</td>\n",
       "      <td>4</td>\n",
       "      <td>1793446</td>\n",
       "      <td>60072</td>\n",
       "      <td>[(345200, 345488), (1608886, 1609417), (161169...</td>\n",
       "      <td>[(4009, 4298), (25511, 26041), (26698, 26767),...</td>\n",
       "    </tr>\n",
       "  </tbody>\n",
       "</table>\n",
       "</div>"
      ],
      "text/plain": [
       "            Text A                                             Text B  \\\n",
       "0  middlemarch.txt  e0b/e0b-txt/WOLFE_2002_IRIS MURDOCH APPLIED TO...   \n",
       "1  middlemarch.txt  e0b/e0b-txt/Hardy_1954_The Moment of Disenchan...   \n",
       "2  middlemarch.txt  e0b/e0b-txt/MORRIS_1990_THE DIALOGIC UNIVERSE ...   \n",
       "3  middlemarch.txt  e0b/e0b-txt/Guth_1999_George Eliot and Schille...   \n",
       "4  middlemarch.txt  e0b/e0b-txt/Payne_1999_The Serialist Vanishes.txt   \n",
       "\n",
       "   Threshold  N-Grams  Num Matches  Text A Length  Text B Length  \\\n",
       "0          6        3           17        1793446          43119   \n",
       "1          6        3            3        1793446          20226   \n",
       "2          6        3           21        1793446          47530   \n",
       "3          6        3            5        1793446          46745   \n",
       "4          6        3            4        1793446          60072   \n",
       "\n",
       "                                      Locations in A  \\\n",
       "0  [(539109, 539353), (539391, 539432), (539504, ...   \n",
       "1  [(580711, 580936), (580948, 581020), (1691325,...   \n",
       "2  [(1615, 1964), (29948, 30025), (40132, 40256),...   \n",
       "3  [(8798, 8850), (8870, 8930), (83611, 83687), (...   \n",
       "4  [(345200, 345488), (1608886, 1609417), (161169...   \n",
       "\n",
       "                                      Locations in B  \n",
       "0  [(26234, 26478), (26481, 26521), (26567, 26802...  \n",
       "1       [(9662, 9886), (9897, 9969), (19879, 20002)]  \n",
       "2  [(4254, 4605), (5612, 5690), (6239, 6364), (75...  \n",
       "3  [(18049, 18101), (18127, 18188), (19244, 19319...  \n",
       "4  [(4009, 4298), (25511, 26041), (26698, 26767),...  "
      ]
     },
     "execution_count": 2,
     "metadata": {},
     "output_type": "execute_result"
    }
   ],
   "source": [
    "df = pd.read_csv('e0d/log.txt')\n",
    "df.head()"
   ]
  },
  {
   "cell_type": "code",
   "execution_count": 3,
   "metadata": {
    "collapsed": true
   },
   "outputs": [],
   "source": [
    "# Adapted from text-matcher\n",
    "class Text: \n",
    "    def __init__(self, filename): \n",
    "        self.filename = filename\n",
    "        \n",
    "    @property\n",
    "    def text(self):\n",
    "        \"\"\" Reads the file in memory. \"\"\"\n",
    "        f = open(self.filename, encoding='utf-8', errors='ignore')\n",
    "        return f.read() \n",
    "\n",
    "    @property\n",
    "    def tokens(self, removeStopwords=True): \n",
    "        \"\"\" Tokenizes the text, breaking it up into words, removing punctuation. \"\"\"\n",
    "        tokenizer = nltk.RegexpTokenizer('[a-zA-Z]\\w+\\'?\\w*') # A custom regex tokenizer. \n",
    "        spans = list(tokenizer.span_tokenize(self.text))\n",
    "        # Take note of how many spans there are in the text\n",
    "        self.length = spans[-1][-1] \n",
    "        tokens = tokenizer.tokenize(self.text)\n",
    "        tokens = [ token.lower() for token in tokens ] # make them lowercase\n",
    "        if not removeStopwords: \n",
    "            self.spans = spans\n",
    "            return tokens\n",
    "        tokenSpans = list(zip(tokens, spans)) # zip it up\n",
    "        stopwords = nltk.corpus.stopwords.words('english') # get stopwords\n",
    "        tokenSpans = [ token for token in tokenSpans if token[0] not in stopwords ] # remove stopwords from zip\n",
    "        self.spans = [ x[1] for x in tokenSpans ] # unzip; get spans\n",
    "        return [ x[0] for x in tokenSpans ] # unzip; get tokens"
   ]
  },
  {
   "cell_type": "code",
   "execution_count": 4,
   "metadata": {
    "collapsed": false
   },
   "outputs": [],
   "source": [
    "mm = Text('middlemarch.txt')"
   ]
  },
  {
   "cell_type": "code",
   "execution_count": 5,
   "metadata": {
    "collapsed": false
   },
   "outputs": [],
   "source": [
    "# Get the size of the text. \n",
    "textALength = df['Text A Length'][0]\n",
    "\n",
    "# I don't know why, but without the offset the novel ends too soon,\n",
    "# with \"unvisited tomb.\" This fixes it. \n",
    "offset = 2\n",
    "textALength += offset\n",
    "\n",
    "# Make an empty array the size of the text. \n",
    "tally = np.zeros(textALength, dtype=np.int)"
   ]
  },
  {
   "cell_type": "code",
   "execution_count": 6,
   "metadata": {
    "collapsed": false
   },
   "outputs": [
    {
     "data": {
      "text/plain": [
       "1793448"
      ]
     },
     "execution_count": 6,
     "metadata": {},
     "output_type": "execute_result"
    }
   ],
   "source": [
    "len(tally)"
   ]
  },
  {
   "cell_type": "code",
   "execution_count": 7,
   "metadata": {
    "collapsed": false
   },
   "outputs": [
    {
     "data": {
      "text/plain": [
       "1"
      ]
     },
     "execution_count": 7,
     "metadata": {},
     "output_type": "execute_result"
    }
   ],
   "source": [
    "min(1,2)"
   ]
  },
  {
   "cell_type": "code",
   "execution_count": 8,
   "metadata": {
    "collapsed": false
   },
   "outputs": [],
   "source": [
    "# Read the locations from the CSV file, and literally evaluate them into lists. \n",
    "locations = df['Locations in A']\n",
    "locations = locations.apply(literal_eval)"
   ]
  },
  {
   "cell_type": "code",
   "execution_count": 9,
   "metadata": {
    "collapsed": false
   },
   "outputs": [],
   "source": [
    "# Tally up every time a letter in the novel is quoted. \n",
    "for article in locations: \n",
    "    for locRange in article: \n",
    "         for i in range(locRange[0], min(locRange[1]+1, len(tally))):\n",
    "                tally[i] += 1"
   ]
  },
  {
   "cell_type": "code",
   "execution_count": 10,
   "metadata": {
    "collapsed": false
   },
   "outputs": [],
   "source": [
    "# Make a color list in hex for all the values in the tally. \n",
    "# Let's hope there aren't too many. \n",
    "colors = list(Color(\"blue\").range_to(Color(\"red\"),tally.max()+1))\n",
    "for color in colors: \n",
    "    color.set_luminance(0.42)\n",
    "colorList = [color.get_hex() for color in colors]\n",
    "colorList = ['#000'] + colorList[:-1]"
   ]
  },
  {
   "cell_type": "code",
   "execution_count": 11,
   "metadata": {
    "collapsed": false,
    "scrolled": true
   },
   "outputs": [
    {
     "name": "stdout",
     "output_type": "stream",
     "text": [
      "[0, 16, 32, 48, 64, 80, 96, 112, 128, 143, 159, 175, 191, 207, 223, 239]\n"
     ]
    },
    {
     "data": {
      "text/plain": [
       "['#000000',\n",
       " '#400062',\n",
       " '#5a01b5',\n",
       " '#6f02ec',\n",
       " '#8004ff',\n",
       " '#8f08eb',\n",
       " '#9c0eb3',\n",
       " '#a9165f',\n",
       " '#b52000',\n",
       " '#bf2d00',\n",
       " '#c93e00',\n",
       " '#d35200',\n",
       " '#dd6b00',\n",
       " '#e68800',\n",
       " '#eeab00',\n",
       " '#f7d200']"
      ]
     },
     "execution_count": 11,
     "metadata": {},
     "output_type": "execute_result"
    }
   ],
   "source": [
    "\n",
    "cmax = 16\n",
    "normalized = [round((i/cmax) * 255) for i in range(cmax)]\n",
    "print(normalized)\n",
    "hexes = [rgb2hex(x) for x in cm.gnuplot(normalized)]\n",
    "colorList = hexes\n",
    "colorList"
   ]
  },
  {
   "cell_type": "code",
   "execution_count": 12,
   "metadata": {
    "collapsed": false
   },
   "outputs": [],
   "source": [
    "# Create a CSS Stylesheet for each color value in the map. \n",
    "colorCSS = \"\"\n",
    "for i, color in zip(range(0, tally.max()+1), colorList): \n",
    "    colorCSS += \".c-%s { color: %s; }\\n\" % (i, color)"
   ]
  },
  {
   "cell_type": "code",
   "execution_count": 13,
   "metadata": {
    "collapsed": false
   },
   "outputs": [],
   "source": [
    "n = 50\n",
    "\n",
    "checkpoints = np.linspace(0, textALength, n).round()\n",
    "checkpoints = [int(point) for point in checkpoints]"
   ]
  },
  {
   "cell_type": "code",
   "execution_count": 14,
   "metadata": {
    "collapsed": false
   },
   "outputs": [],
   "source": [
    "def span(val): \n",
    "    return '<span class=\"c-%s\">' % val\n",
    "\n",
    "previousVal = None\n",
    "for i, valChar in enumerate(zip(tally, mm.text)):\n",
    "    val, char = valChar[0], valChar[1]\n",
    "    if previousVal == None: \n",
    "        # First character. \n",
    "        out = '<span class=\"c-%s\">' % val\n",
    "    elif val != previousVal: \n",
    "        out += '</span><span class=\"c-%s\">' % val\n",
    "    if i in checkpoints: \n",
    "        out += '<a name=\"b-%s\"></a>' % checkpoints.index(i)\n",
    "    out += char\n",
    "    previousVal = val"
   ]
  },
  {
   "cell_type": "code",
   "execution_count": 15,
   "metadata": {
    "collapsed": false
   },
   "outputs": [],
   "source": [
    "# Get dates\n",
    "def getDate(filename): \n",
    "    \"\"\"\n",
    "    Extract dates from filenames. \n",
    "    \"\"\"\n",
    "    m = re.search('_(\\d{4})_', filename)\n",
    "    if m is not None: \n",
    "        return int(m.group(1))\n",
    "    else:\n",
    "        return None\n",
    "\n",
    "df['Date'] = df['Text B'].apply(getDate)\n",
    "df['Decade'] = df['Date'] - (df['Date'] % 10)\n",
    "\n",
    "# Make a list of valid decades. \n",
    "decades = np.arange(1930, 2020, 10)\n",
    "\n",
    "# Make a dictionary of decades. \n",
    "# Values are a list of locations.  \n",
    "decadeDict = {}\n",
    "for i, row in df.iterrows():\n",
    "    decade = row['Decade']\n",
    "    locations = literal_eval(row['Locations in A'])\n",
    "    if decade not in decadeDict: \n",
    "        decadeDict[decade] = locations\n",
    "    else: \n",
    "        decadeDict[decade] += locations \n",
    "        \n",
    "# Grab the beginnings of quotes. \n",
    "decadeStarts = {decade: [item[0] for item in loc] for decade, loc in decadeDict.items()}\n",
    "\n",
    "decadesBinned = {decade: \n",
    "                 np.histogram(locations, bins=n, range=(0, textALength))[0]\n",
    "                 for decade, locations in decadeStarts.items() if decade in decades}\n",
    "\n",
    "decadesDF = pd.DataFrame(decadesBinned).T"
   ]
  },
  {
   "cell_type": "code",
   "execution_count": 16,
   "metadata": {
    "collapsed": false
   },
   "outputs": [],
   "source": [
    "# Normalize the totals for each section. \n",
    "normalizedBlocks = decadesDF.sum() / decadesDF.sum().max()\n",
    "\n",
    "# Now use the scale that we're already using for the CSS. \n",
    "normalizedBlocks = round(normalizedBlocks * tally.max())"
   ]
  },
  {
   "cell_type": "code",
   "execution_count": 17,
   "metadata": {
    "collapsed": false
   },
   "outputs": [],
   "source": [
    "blockHTML = '<section id=\"blocks\">'\n",
    "for i, block in enumerate(normalizedBlocks): \n",
    "    blockHTML += '<div class=\"block b-%s\"><a class=\"block\" href=\"#b-%s\">%s</a></div>' % (int(block), i, i)\n",
    "blockHTML = blockHTML + \"</section>\""
   ]
  },
  {
   "cell_type": "code",
   "execution_count": 18,
   "metadata": {
    "collapsed": true
   },
   "outputs": [],
   "source": [
    "blockCSS = \"\"\"\n",
    "#blocks {  }\n",
    ".block, .block { \n",
    "  width: 30px; \n",
    "  height: 30px; \n",
    "  display: inline-block;\n",
    "  color: white; \n",
    "  text-align: center;\n",
    "  text-decoration: none;\n",
    "  margin-top: 3px; \n",
    "}\n",
    "\"\"\"\n",
    "\n",
    "for i, color in zip(range(0, tally.max()+1), colorList): \n",
    "    blockCSS += '.b-%s { background-color: %s; }\\n' % (i, color)\n",
    "colorCSS += blockCSS"
   ]
  },
  {
   "cell_type": "code",
   "execution_count": 19,
   "metadata": {
    "collapsed": true
   },
   "outputs": [],
   "source": [
    "html = \"\"\"<!DOCTYPE html>\n",
    "<html>\n",
    "<head>\n",
    "  <link href=\"https://fonts.googleapis.com/css?family=Raleway\" rel=\"stylesheet\"> \n",
    "  <style>\n",
    "  pre { \n",
    "      font-family: Raleway, serif; \n",
    "      font-size: 18px; \n",
    "    }\n",
    "  main { \n",
    "      width: 40em; \n",
    "      margin: 2em auto; \n",
    "  }\n",
    "  %s\n",
    "  </style>\n",
    "</head>\n",
    "<body>%s<main><pre>%s</pre></main></body></html>\n",
    "\"\"\" % (colorCSS, blockHTML, out)"
   ]
  },
  {
   "cell_type": "code",
   "execution_count": 20,
   "metadata": {
    "collapsed": false
   },
   "outputs": [],
   "source": [
    "with open('annotated.html', 'w') as f: \n",
    "    f.write(html)\n",
    "    f.close()"
   ]
  }
 ],
 "metadata": {
  "kernelspec": {
   "display_name": "Python 3",
   "language": "python",
   "name": "python3"
  },
  "language_info": {
   "codemirror_mode": {
    "name": "ipython",
    "version": 3
   },
   "file_extension": ".py",
   "mimetype": "text/x-python",
   "name": "python",
   "nbconvert_exporter": "python",
   "pygments_lexer": "ipython3",
   "version": "3.5.2"
  }
 },
 "nbformat": 4,
 "nbformat_minor": 0
}
