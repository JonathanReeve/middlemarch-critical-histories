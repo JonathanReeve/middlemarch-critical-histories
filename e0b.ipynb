{
 "cells": [
  {
   "cell_type": "markdown",
   "metadata": {},
   "source": [
    "# Experiment 0-B\n",
    "\n",
    "This experiment used 483 texts scraped from JSTOR, which have 280 files with text matches. In an effort to make the corpus more diachronic, some of these texts were scraped from decade-based searches, i.e. a search for the keyword \"Middlemarch\" in articles from 1930 to 1939. "
   ]
  },
  {
   "cell_type": "code",
   "execution_count": 1,
   "metadata": {
    "collapsed": true
   },
   "outputs": [],
   "source": [
    "import pandas as pd\n",
    "%matplotlib inline\n",
    "from ast import literal_eval\n",
    "import numpy as np\n",
    "import re\n",
    "from matplotlib import pyplot as plt\n",
    "plt.rcParams[\"figure.figsize\"] = [16, 6]"
   ]
  },
  {
   "cell_type": "code",
   "execution_count": 2,
   "metadata": {
    "collapsed": false
   },
   "outputs": [],
   "source": [
    "# Read in the experiment results from the text-matcher log file. \n",
    "df = pd.read_csv('e0b/log.txt')"
   ]
  },
  {
   "cell_type": "code",
   "execution_count": 3,
   "metadata": {
    "collapsed": false
   },
   "outputs": [],
   "source": [
    "def getDate(filename): \n",
    "    \"\"\"\n",
    "    Extract dates from filenames. \n",
    "    \"\"\"\n",
    "    m = re.search('_(\\d{4})_', filename)\n",
    "    if m is not None: \n",
    "        return int(m.group(1))\n",
    "    else:\n",
    "        return None\n",
    "\n",
    "df['Date'] = df['Text B'].apply(getDate)\n",
    "df['Decade'] = df['Date'] - (df['Date'] % 10)"
   ]
  },
  {
   "cell_type": "code",
   "execution_count": 4,
   "metadata": {
    "collapsed": false
   },
   "outputs": [
    {
     "data": {
      "text/html": [
       "<div>\n",
       "<table border=\"1\" class=\"dataframe\">\n",
       "  <thead>\n",
       "    <tr style=\"text-align: right;\">\n",
       "      <th></th>\n",
       "      <th>Text A</th>\n",
       "      <th>Text B</th>\n",
       "      <th>Threshold</th>\n",
       "      <th>N-Grams</th>\n",
       "      <th>Num Matches</th>\n",
       "      <th>Text A Length</th>\n",
       "      <th>Text B Length</th>\n",
       "      <th>Locations in A</th>\n",
       "      <th>Locations in B</th>\n",
       "      <th>Date</th>\n",
       "      <th>Decade</th>\n",
       "    </tr>\n",
       "  </thead>\n",
       "  <tbody>\n",
       "    <tr>\n",
       "      <th>0</th>\n",
       "      <td>middlemarch.txt</td>\n",
       "      <td>e0b-txt/WOLFE_2002_IRIS MURDOCH APPLIED TO GEO...</td>\n",
       "      <td>2</td>\n",
       "      <td>3</td>\n",
       "      <td>15</td>\n",
       "      <td>1793446</td>\n",
       "      <td>43119</td>\n",
       "      <td>[(539115, 539335), (539512, 539731), (1210547,...</td>\n",
       "      <td>[(26240, 26460), (26575, 26793), (27942, 28243...</td>\n",
       "      <td>2002.0</td>\n",
       "      <td>2000.0</td>\n",
       "    </tr>\n",
       "    <tr>\n",
       "      <th>1</th>\n",
       "      <td>middlemarch.txt</td>\n",
       "      <td>e0b-txt/Hardy_1954_The Moment of Disenchantmen...</td>\n",
       "      <td>2</td>\n",
       "      <td>3</td>\n",
       "      <td>4</td>\n",
       "      <td>1793446</td>\n",
       "      <td>20226</td>\n",
       "      <td>[(580715, 580913), (580948, 581003), (581021, ...</td>\n",
       "      <td>[(9666, 9863), (9897, 9952), (10132, 10161), (...</td>\n",
       "      <td>1954.0</td>\n",
       "      <td>1950.0</td>\n",
       "    </tr>\n",
       "    <tr>\n",
       "      <th>2</th>\n",
       "      <td>middlemarch.txt</td>\n",
       "      <td>e0b-txt/MORRIS_1990_THE DIALOGIC UNIVERSE OF M...</td>\n",
       "      <td>2</td>\n",
       "      <td>3</td>\n",
       "      <td>18</td>\n",
       "      <td>1793446</td>\n",
       "      <td>47530</td>\n",
       "      <td>[(1620, 1951), (40145, 40236), (308564, 308874...</td>\n",
       "      <td>[(4259, 4591), (6252, 6343), (7558, 7868), (10...</td>\n",
       "      <td>1990.0</td>\n",
       "      <td>1990.0</td>\n",
       "    </tr>\n",
       "    <tr>\n",
       "      <th>3</th>\n",
       "      <td>middlemarch.txt</td>\n",
       "      <td>e0b-txt/Guth_1999_George Eliot and Schiller.txt</td>\n",
       "      <td>2</td>\n",
       "      <td>3</td>\n",
       "      <td>3</td>\n",
       "      <td>1793446</td>\n",
       "      <td>46745</td>\n",
       "      <td>[(8798, 8828), (83611, 83653), (1786635, 17866...</td>\n",
       "      <td>[(18049, 18079), (19244, 19285), (27895, 27934)]</td>\n",
       "      <td>1999.0</td>\n",
       "      <td>1990.0</td>\n",
       "    </tr>\n",
       "    <tr>\n",
       "      <th>4</th>\n",
       "      <td>middlemarch.txt</td>\n",
       "      <td>e0b-txt/Payne_1999_The Serialist Vanishes.txt</td>\n",
       "      <td>2</td>\n",
       "      <td>3</td>\n",
       "      <td>3</td>\n",
       "      <td>1793446</td>\n",
       "      <td>60072</td>\n",
       "      <td>[(345200, 345470), (1608890, 1609386), (161169...</td>\n",
       "      <td>[(4009, 4280), (25515, 26010), (26702, 26740)]</td>\n",
       "      <td>1999.0</td>\n",
       "      <td>1990.0</td>\n",
       "    </tr>\n",
       "  </tbody>\n",
       "</table>\n",
       "</div>"
      ],
      "text/plain": [
       "            Text A                                             Text B  \\\n",
       "0  middlemarch.txt  e0b-txt/WOLFE_2002_IRIS MURDOCH APPLIED TO GEO...   \n",
       "1  middlemarch.txt  e0b-txt/Hardy_1954_The Moment of Disenchantmen...   \n",
       "2  middlemarch.txt  e0b-txt/MORRIS_1990_THE DIALOGIC UNIVERSE OF M...   \n",
       "3  middlemarch.txt    e0b-txt/Guth_1999_George Eliot and Schiller.txt   \n",
       "4  middlemarch.txt      e0b-txt/Payne_1999_The Serialist Vanishes.txt   \n",
       "\n",
       "   Threshold  N-Grams  Num Matches  Text A Length  Text B Length  \\\n",
       "0          2        3           15        1793446          43119   \n",
       "1          2        3            4        1793446          20226   \n",
       "2          2        3           18        1793446          47530   \n",
       "3          2        3            3        1793446          46745   \n",
       "4          2        3            3        1793446          60072   \n",
       "\n",
       "                                      Locations in A  \\\n",
       "0  [(539115, 539335), (539512, 539731), (1210547,...   \n",
       "1  [(580715, 580913), (580948, 581003), (581021, ...   \n",
       "2  [(1620, 1951), (40145, 40236), (308564, 308874...   \n",
       "3  [(8798, 8828), (83611, 83653), (1786635, 17866...   \n",
       "4  [(345200, 345470), (1608890, 1609386), (161169...   \n",
       "\n",
       "                                      Locations in B    Date  Decade  \n",
       "0  [(26240, 26460), (26575, 26793), (27942, 28243...  2002.0  2000.0  \n",
       "1  [(9666, 9863), (9897, 9952), (10132, 10161), (...  1954.0  1950.0  \n",
       "2  [(4259, 4591), (6252, 6343), (7558, 7868), (10...  1990.0  1990.0  \n",
       "3   [(18049, 18079), (19244, 19285), (27895, 27934)]  1999.0  1990.0  \n",
       "4     [(4009, 4280), (25515, 26010), (26702, 26740)]  1999.0  1990.0  "
      ]
     },
     "execution_count": 4,
     "metadata": {},
     "output_type": "execute_result"
    }
   ],
   "source": [
    "df.head()"
   ]
  },
  {
   "cell_type": "code",
   "execution_count": 5,
   "metadata": {
    "collapsed": false
   },
   "outputs": [
    {
     "data": {
      "text/plain": [
       "<matplotlib.axes._subplots.AxesSubplot at 0x7fcdbc651a90>"
      ]
     },
     "execution_count": 5,
     "metadata": {},
     "output_type": "execute_result"
    },
    {
     "data": {
      "image/png": "[encoded data removed]",
      "text/plain": [
       "<matplotlib.figure.Figure at 0x7fcd998fc128>"
      ]
     },
     "metadata": {},
     "output_type": "display_data"
    }
   ],
   "source": [
    "df['Date'].hist()"
   ]
  },
  {
   "cell_type": "code",
   "execution_count": 6,
   "metadata": {
    "collapsed": false
   },
   "outputs": [
    {
     "data": {
      "text/plain": [
       "1793446"
      ]
     },
     "execution_count": 6,
     "metadata": {},
     "output_type": "execute_result"
    }
   ],
   "source": [
    "textALength = df['Text A Length'][0]\n",
    "textALength"
   ]
  },
  {
   "cell_type": "code",
   "execution_count": 17,
   "metadata": {
    "collapsed": false
   },
   "outputs": [],
   "source": [
    "decades = np.arange(1950, 2020, 10)"
   ]
  },
  {
   "cell_type": "code",
   "execution_count": 18,
   "metadata": {
    "collapsed": false,
    "scrolled": true
   },
   "outputs": [],
   "source": [
    "# Make a dictionary of decades. \n",
    "# Values are a list of locations.  \n",
    "decadeDict = {}\n",
    "for i, row in df.iterrows():\n",
    "    decade = row['Decade']\n",
    "    locations = literal_eval(row['Locations in A'])\n",
    "    if decade not in decadeDict: \n",
    "        decadeDict[decade] = locations\n",
    "    else: \n",
    "        decadeDict[decade] += locations "
   ]
  },
  {
   "cell_type": "code",
   "execution_count": 19,
   "metadata": {
    "collapsed": false,
    "scrolled": true
   },
   "outputs": [],
   "source": [
    "# Grab the beginnings of quotes. \n",
    "decadeStarts = {decade: [item[0] for item in loc] for decade, loc in decadeDict.items()}"
   ]
  },
  {
   "cell_type": "code",
   "execution_count": 20,
   "metadata": {
    "collapsed": false
   },
   "outputs": [],
   "source": [
    "decadesBinned = {decade: \n",
    "                 np.histogram(locations, bins=50, range=(0, textALength))[0]\n",
    "                 for decade, locations in decadeStarts.items() if decade in decades}"
   ]
  },
  {
   "cell_type": "code",
   "execution_count": 21,
   "metadata": {
    "collapsed": false,
    "scrolled": true
   },
   "outputs": [],
   "source": [
    "decadesDF = pd.DataFrame(decadesBinned).T"
   ]
  },
  {
   "cell_type": "code",
   "execution_count": 22,
   "metadata": {
    "collapsed": false
   },
   "outputs": [
    {
     "data": {
      "text/html": [
       "<div>\n",
       "<table border=\"1\" class=\"dataframe\">\n",
       "  <thead>\n",
       "    <tr style=\"text-align: right;\">\n",
       "      <th></th>\n",
       "      <th>0</th>\n",
       "      <th>1</th>\n",
       "      <th>2</th>\n",
       "      <th>3</th>\n",
       "      <th>4</th>\n",
       "      <th>5</th>\n",
       "      <th>6</th>\n",
       "      <th>7</th>\n",
       "      <th>8</th>\n",
       "      <th>9</th>\n",
       "      <th>...</th>\n",
       "      <th>40</th>\n",
       "      <th>41</th>\n",
       "      <th>42</th>\n",
       "      <th>43</th>\n",
       "      <th>44</th>\n",
       "      <th>45</th>\n",
       "      <th>46</th>\n",
       "      <th>47</th>\n",
       "      <th>48</th>\n",
       "      <th>49</th>\n",
       "    </tr>\n",
       "  </thead>\n",
       "  <tbody>\n",
       "    <tr>\n",
       "      <th>1950.0</th>\n",
       "      <td>6</td>\n",
       "      <td>4</td>\n",
       "      <td>0</td>\n",
       "      <td>2</td>\n",
       "      <td>0</td>\n",
       "      <td>2</td>\n",
       "      <td>0</td>\n",
       "      <td>0</td>\n",
       "      <td>0</td>\n",
       "      <td>0</td>\n",
       "      <td>...</td>\n",
       "      <td>0</td>\n",
       "      <td>0</td>\n",
       "      <td>4</td>\n",
       "      <td>7</td>\n",
       "      <td>3</td>\n",
       "      <td>1</td>\n",
       "      <td>0</td>\n",
       "      <td>45</td>\n",
       "      <td>4</td>\n",
       "      <td>3</td>\n",
       "    </tr>\n",
       "    <tr>\n",
       "      <th>1960.0</th>\n",
       "      <td>9</td>\n",
       "      <td>2</td>\n",
       "      <td>1</td>\n",
       "      <td>4</td>\n",
       "      <td>2</td>\n",
       "      <td>4</td>\n",
       "      <td>0</td>\n",
       "      <td>0</td>\n",
       "      <td>12</td>\n",
       "      <td>4</td>\n",
       "      <td>...</td>\n",
       "      <td>2</td>\n",
       "      <td>0</td>\n",
       "      <td>0</td>\n",
       "      <td>6</td>\n",
       "      <td>0</td>\n",
       "      <td>5</td>\n",
       "      <td>3</td>\n",
       "      <td>20</td>\n",
       "      <td>2</td>\n",
       "      <td>9</td>\n",
       "    </tr>\n",
       "    <tr>\n",
       "      <th>1970.0</th>\n",
       "      <td>41</td>\n",
       "      <td>14</td>\n",
       "      <td>2</td>\n",
       "      <td>19</td>\n",
       "      <td>5</td>\n",
       "      <td>4</td>\n",
       "      <td>3</td>\n",
       "      <td>0</td>\n",
       "      <td>9</td>\n",
       "      <td>18</td>\n",
       "      <td>...</td>\n",
       "      <td>0</td>\n",
       "      <td>0</td>\n",
       "      <td>1</td>\n",
       "      <td>2</td>\n",
       "      <td>11</td>\n",
       "      <td>1</td>\n",
       "      <td>1</td>\n",
       "      <td>15</td>\n",
       "      <td>1</td>\n",
       "      <td>15</td>\n",
       "    </tr>\n",
       "    <tr>\n",
       "      <th>1980.0</th>\n",
       "      <td>31</td>\n",
       "      <td>18</td>\n",
       "      <td>7</td>\n",
       "      <td>5</td>\n",
       "      <td>3</td>\n",
       "      <td>6</td>\n",
       "      <td>6</td>\n",
       "      <td>9</td>\n",
       "      <td>33</td>\n",
       "      <td>12</td>\n",
       "      <td>...</td>\n",
       "      <td>0</td>\n",
       "      <td>0</td>\n",
       "      <td>0</td>\n",
       "      <td>9</td>\n",
       "      <td>10</td>\n",
       "      <td>10</td>\n",
       "      <td>1</td>\n",
       "      <td>17</td>\n",
       "      <td>3</td>\n",
       "      <td>24</td>\n",
       "    </tr>\n",
       "    <tr>\n",
       "      <th>1990.0</th>\n",
       "      <td>36</td>\n",
       "      <td>12</td>\n",
       "      <td>10</td>\n",
       "      <td>14</td>\n",
       "      <td>2</td>\n",
       "      <td>15</td>\n",
       "      <td>2</td>\n",
       "      <td>10</td>\n",
       "      <td>37</td>\n",
       "      <td>9</td>\n",
       "      <td>...</td>\n",
       "      <td>0</td>\n",
       "      <td>2</td>\n",
       "      <td>8</td>\n",
       "      <td>1</td>\n",
       "      <td>8</td>\n",
       "      <td>2</td>\n",
       "      <td>15</td>\n",
       "      <td>27</td>\n",
       "      <td>6</td>\n",
       "      <td>15</td>\n",
       "    </tr>\n",
       "    <tr>\n",
       "      <th>2000.0</th>\n",
       "      <td>46</td>\n",
       "      <td>16</td>\n",
       "      <td>10</td>\n",
       "      <td>1</td>\n",
       "      <td>18</td>\n",
       "      <td>9</td>\n",
       "      <td>0</td>\n",
       "      <td>7</td>\n",
       "      <td>6</td>\n",
       "      <td>9</td>\n",
       "      <td>...</td>\n",
       "      <td>0</td>\n",
       "      <td>5</td>\n",
       "      <td>6</td>\n",
       "      <td>3</td>\n",
       "      <td>3</td>\n",
       "      <td>3</td>\n",
       "      <td>7</td>\n",
       "      <td>7</td>\n",
       "      <td>4</td>\n",
       "      <td>7</td>\n",
       "    </tr>\n",
       "    <tr>\n",
       "      <th>2010.0</th>\n",
       "      <td>45</td>\n",
       "      <td>5</td>\n",
       "      <td>4</td>\n",
       "      <td>1</td>\n",
       "      <td>11</td>\n",
       "      <td>0</td>\n",
       "      <td>2</td>\n",
       "      <td>1</td>\n",
       "      <td>9</td>\n",
       "      <td>5</td>\n",
       "      <td>...</td>\n",
       "      <td>2</td>\n",
       "      <td>0</td>\n",
       "      <td>1</td>\n",
       "      <td>4</td>\n",
       "      <td>6</td>\n",
       "      <td>3</td>\n",
       "      <td>7</td>\n",
       "      <td>5</td>\n",
       "      <td>1</td>\n",
       "      <td>21</td>\n",
       "    </tr>\n",
       "  </tbody>\n",
       "</table>\n",
       "<p>7 rows × 50 columns</p>\n",
       "</div>"
      ],
      "text/plain": [
       "        0   1   2   3   4   5   6   7   8   9  ...  40  41  42  43  44  45  \\\n",
       "1950.0   6   4   0   2   0   2   0   0   0   0 ...   0   0   4   7   3   1   \n",
       "1960.0   9   2   1   4   2   4   0   0  12   4 ...   2   0   0   6   0   5   \n",
       "1970.0  41  14   2  19   5   4   3   0   9  18 ...   0   0   1   2  11   1   \n",
       "1980.0  31  18   7   5   3   6   6   9  33  12 ...   0   0   0   9  10  10   \n",
       "1990.0  36  12  10  14   2  15   2  10  37   9 ...   0   2   8   1   8   2   \n",
       "2000.0  46  16  10   1  18   9   0   7   6   9 ...   0   5   6   3   3   3   \n",
       "2010.0  45   5   4   1  11   0   2   1   9   5 ...   2   0   1   4   6   3   \n",
       "\n",
       "        46  47  48  49  \n",
       "1950.0   0  45   4   3  \n",
       "1960.0   3  20   2   9  \n",
       "1970.0   1  15   1  15  \n",
       "1980.0   1  17   3  24  \n",
       "1990.0  15  27   6  15  \n",
       "2000.0   7   7   4   7  \n",
       "2010.0   7   5   1  21  \n",
       "\n",
       "[7 rows x 50 columns]"
      ]
     },
     "execution_count": 22,
     "metadata": {},
     "output_type": "execute_result"
    }
   ],
   "source": [
    "decadesDF"
   ]
  },
  {
   "cell_type": "code",
   "execution_count": 23,
   "metadata": {
    "collapsed": false
   },
   "outputs": [],
   "source": [
    "#Normalize\n",
    "decadesDF = decadesDF.div(decadesDF.max(axis=1), axis=0)"
   ]
  },
  {
   "cell_type": "code",
   "execution_count": 24,
   "metadata": {
    "collapsed": false
   },
   "outputs": [],
   "source": [
    "ylabels = [str(int(decade)) for decade in decadesDF.index] + ['2020']"
   ]
  },
  {
   "cell_type": "code",
   "execution_count": 25,
   "metadata": {
    "collapsed": false
   },
   "outputs": [
    {
     "data": {
      "image/png": "[encoded data removed]",
      "text/plain": [
       "<matplotlib.figure.Figure at 0x7fcd992d5ef0>"
      ]
     },
     "metadata": {},
     "output_type": "display_data"
    }
   ],
   "source": [
    "plt.pcolor(decadesDF)\n",
    "plt.yticks(np.arange(len(decadesDF.index)+1), ylabels)\n",
    "plt.gca().invert_yaxis()\n",
    "plt.ylabel('Decade')\n",
    "plt.xlabel('Quotes Per Novel Segment')\n",
    "plt.title(\"Number of Critical Quotations from George Eliot's Middlemarch, By Decade\")\n",
    "#plt.xticks(np.arange(len(decadesDF.columns)), decadesDF.columns)\n",
    "plt.show()"
   ]
  },
  {
   "cell_type": "code",
   "execution_count": 16,
   "metadata": {
    "collapsed": false,
    "scrolled": false
   },
   "outputs": [
    {
     "data": {
      "text/plain": [
       "<matplotlib.axes._subplots.AxesSubplot at 0x7fcd994cdac8>"
      ]
     },
     "execution_count": 16,
     "metadata": {},
     "output_type": "execute_result"
    },
    {
     "data": {
      "image/png": "[encoded data removed]",
      "text/plain": [
       "<matplotlib.figure.Figure at 0x7fcd994beeb8>"
      ]
     },
     "metadata": {},
     "output_type": "display_data"
    }
   ],
   "source": [
    "decadesDF.sum().plot(kind='bar')"
   ]
  }
 ],
 "metadata": {
  "kernelspec": {
   "display_name": "Python 3",
   "language": "python",
   "name": "python3"
  },
  "language_info": {
   "codemirror_mode": {
    "name": "ipython",
    "version": 3
   },
   "file_extension": ".py",
   "mimetype": "text/x-python",
   "name": "python",
   "nbconvert_exporter": "python",
   "pygments_lexer": "ipython3",
   "version": "3.5.2"
  }
 },
 "nbformat": 4,
 "nbformat_minor": 0
}
