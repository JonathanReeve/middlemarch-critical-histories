{
 "cells": [
  {
   "cell_type": "markdown",
   "metadata": {},
   "source": [
    "# Experiment 3: Count Words Per Quotation\n"
   ]
  },
  {
   "cell_type": "code",
   "execution_count": 20,
   "metadata": {
    "collapsed": false
   },
   "outputs": [],
   "source": [
    "import pandas as pd\n",
    "import nltk\n",
    "%matplotlib inline\n",
    "import math\n",
    "from ast import literal_eval\n",
    "import numpy as np\n",
    "import re\n",
    "from matplotlib import pyplot as plt\n",
    "from colour import Color\n",
    "from IPython.core.display import HTML\n",
    "from matplotlib import cm\n",
    "from matplotlib.colors import rgb2hex\n",
    "plt.rcParams[\"figure.figsize\"] = [16, 6]"
   ]
  },
  {
   "cell_type": "code",
   "execution_count": 2,
   "metadata": {
    "collapsed": false
   },
   "outputs": [],
   "source": [
    "df = pd.read_json('../txt/e2a.json')"
   ]
  },
  {
   "cell_type": "code",
   "execution_count": 3,
   "metadata": {
    "collapsed": false
   },
   "outputs": [],
   "source": [
    "# df['Locations in A'] = df['matches'].apply(lambda x: x[1])\n",
    "df['Decade'] = df['year'] - (df['year'] % 10)"
   ]
  },
  {
   "cell_type": "code",
   "execution_count": 22,
   "metadata": {
    "collapsed": true
   },
   "outputs": [],
   "source": [
    "# Adapted from text-matcher\n",
    "class Text: \n",
    "    def __init__(self, text): \n",
    "        self.text = text\n",
    "        \n",
    "    @property\n",
    "    def tokens(self, removeStopwords=True): \n",
    "        \"\"\" Tokenizes the text, breaking it up into words, removing punctuation. \"\"\"\n",
    "        tokenizer = nltk.RegexpTokenizer('[a-zA-Z]\\w+\\'?\\w*') # A custom regex tokenizer. \n",
    "        spans = list(tokenizer.span_tokenize(self.text))\n",
    "        # Take note of how many spans there are in the text\n",
    "        self.length = spans[-1][-1] \n",
    "        tokens = tokenizer.tokenize(self.text)\n",
    "        tokens = [ token.lower() for token in tokens ] # make them lowercase\n",
    "        if not removeStopwords: \n",
    "            self.spans = spans\n",
    "            return tokens\n",
    "        tokenSpans = list(zip(tokens, spans)) # zip it up\n",
    "        stopwords = nltk.corpus.stopwords.words('english') # get stopwords\n",
    "        tokenSpans = [ token for token in tokenSpans if token[0] not in stopwords ] # remove stopwords from zip\n",
    "        self.spans = [ x[1] for x in tokenSpans ] # unzip; get spans\n",
    "        return [ x[0] for x in tokenSpans ] # unzip; get tokens"
   ]
  },
  {
   "cell_type": "code",
   "execution_count": 24,
   "metadata": {
    "collapsed": false
   },
   "outputs": [],
   "source": [
    "mm = Text(open('../middlemarch.txt').read())"
   ]
  },
  {
   "cell_type": "code",
   "execution_count": 25,
   "metadata": {
    "collapsed": false
   },
   "outputs": [],
   "source": [
    "# Get the size of the text. \n",
    "textALength = 1793449\n",
    "\n",
    "# I don't know why, but without the offset the novel ends too soon,\n",
    "# with \"unvisited tomb.\" This fixes it. \n",
    "offset = 2\n",
    "textALength += offset\n",
    "\n",
    "# Make an empty array the size of the text. \n",
    "tally = np.zeros(textALength, dtype=np.int)"
   ]
  },
  {
   "cell_type": "code",
   "execution_count": 26,
   "metadata": {
    "collapsed": false
   },
   "outputs": [
    {
     "data": {
      "text/plain": [
       "1793451"
      ]
     },
     "execution_count": 26,
     "metadata": {},
     "output_type": "execute_result"
    }
   ],
   "source": [
    "len(tally)"
   ]
  },
  {
   "cell_type": "code",
   "execution_count": 27,
   "metadata": {
    "collapsed": false
   },
   "outputs": [],
   "source": [
    "# Read the locations from the CSV file, and literally evaluate them into lists. \n",
    "locations = df['Locations in A']\n",
    "# locations = locations.apply(literal_eval)"
   ]
  },
  {
   "cell_type": "code",
   "execution_count": 28,
   "metadata": {
    "collapsed": false
   },
   "outputs": [
    {
     "data": {
      "text/plain": [
       "list"
      ]
     },
     "execution_count": 28,
     "metadata": {},
     "output_type": "execute_result"
    }
   ],
   "source": [
    "type(locations[0])"
   ]
  },
  {
   "cell_type": "code",
   "execution_count": 48,
   "metadata": {
    "collapsed": false
   },
   "outputs": [],
   "source": [
    "starts = [loc[0][0] for loc in locDict]\n",
    "weights = [loc[1] for loc in locDict]\n",
    "hist = np.histogram(starts, bins=50, range=(0, textALength), weights=weights)[0]"
   ]
  },
  {
   "cell_type": "code",
   "execution_count": 49,
   "metadata": {
    "collapsed": false
   },
   "outputs": [
    {
     "data": {
      "text/plain": [
       "<matplotlib.axes._subplots.AxesSubplot at 0x7efe5321fd68>"
      ]
     },
     "execution_count": 49,
     "metadata": {},
     "output_type": "execute_result"
    },
    {
     "data": {
      "image/png": "[encoded data removed]",
      "text/plain": [
       "<matplotlib.figure.Figure at 0x7efe5305c828>"
      ]
     },
     "metadata": {},
     "output_type": "display_data"
    }
   ],
   "source": [
    "pd.Series(hist).plot(kind='bar')"
   ]
  },
  {
   "cell_type": "code",
   "execution_count": null,
   "metadata": {
    "collapsed": true
   },
   "outputs": [],
   "source": []
  }
 ],
 "metadata": {
  "kernelspec": {
   "display_name": "Python 3",
   "language": "python",
   "name": "python3"
  },
  "language_info": {
   "codemirror_mode": {
    "name": "ipython",
    "version": 3
   },
   "file_extension": ".py",
   "mimetype": "text/x-python",
   "name": "python",
   "nbconvert_exporter": "python",
   "pygments_lexer": "ipython3",
   "version": "3.6.0"
  }
 },
 "nbformat": 4,
 "nbformat_minor": 0
}
