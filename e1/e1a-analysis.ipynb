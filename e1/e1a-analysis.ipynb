{
 "cells": [
  {
   "cell_type": "markdown",
   "metadata": {},
   "source": [
    "# Experiment 1-A\n",
    "\n",
    "This experiment used the full corpus of 6K+ texts scraped from JSTOR."
   ]
  },
  {
   "cell_type": "code",
   "execution_count": 36,
   "metadata": {
    "collapsed": true
   },
   "outputs": [],
   "source": [
    "import pandas as pd\n",
    "%matplotlib inline\n",
    "from ast import literal_eval\n",
    "import numpy as np\n",
    "import re\n",
    "import json\n",
    "from nltk.corpus import names\n",
    "from collections import Counter\n",
    "from matplotlib import pyplot as plt\n",
    "plt.rcParams[\"figure.figsize\"] = [16, 6]"
   ]
  },
  {
   "cell_type": "code",
   "execution_count": 2,
   "metadata": {
    "collapsed": false
   },
   "outputs": [],
   "source": [
    "with open('txt/e1a.json') as f: \n",
    "    rawData = f.read()"
   ]
  },
  {
   "cell_type": "code",
   "execution_count": 3,
   "metadata": {
    "collapsed": false
   },
   "outputs": [],
   "source": [
    "df = pd.read_json(rawData)"
   ]
  },
  {
   "cell_type": "code",
   "execution_count": 4,
   "metadata": {
    "collapsed": false
   },
   "outputs": [],
   "source": [
    "df['Decade'] = df['year'] - (df['year'] % 10)"
   ]
  },
  {
   "cell_type": "code",
   "execution_count": 5,
   "metadata": {
    "collapsed": false
   },
   "outputs": [
    {
     "data": {
      "text/html": [
       "<div>\n",
       "<table border=\"1\" class=\"dataframe\">\n",
       "  <thead>\n",
       "    <tr style=\"text-align: right;\">\n",
       "      <th></th>\n",
       "      <th>author</th>\n",
       "      <th>coverdate</th>\n",
       "      <th>disc_name</th>\n",
       "      <th>doi</th>\n",
       "      <th>id</th>\n",
       "      <th>jcode</th>\n",
       "      <th>journal</th>\n",
       "      <th>la</th>\n",
       "      <th>matches</th>\n",
       "      <th>no</th>\n",
       "      <th>...</th>\n",
       "      <th>pages</th>\n",
       "      <th>publisher_name</th>\n",
       "      <th>sp</th>\n",
       "      <th>srcHtml</th>\n",
       "      <th>title</th>\n",
       "      <th>topics</th>\n",
       "      <th>ty</th>\n",
       "      <th>vo</th>\n",
       "      <th>year</th>\n",
       "      <th>Decade</th>\n",
       "    </tr>\n",
       "  </thead>\n",
       "  <tbody>\n",
       "    <tr>\n",
       "      <th>0</th>\n",
       "      <td>[Harriet Farwell Adams]</td>\n",
       "      <td>[19840601]</td>\n",
       "      <td>[Language &amp; Literature, Humanities]</td>\n",
       "      <td>10.2307/3044822</td>\n",
       "      <td>c6e6ce20-79c4-3c59-af91-b06c3208b37b</td>\n",
       "      <td>[ninecentfict]</td>\n",
       "      <td>Nineteenth-Century Fiction</td>\n",
       "      <td>[eng]</td>\n",
       "      <td>[23, [[5809, 6218], [8751, 8851], [8890, 9046]...</td>\n",
       "      <td>[1]</td>\n",
       "      <td>...</td>\n",
       "      <td>69-90</td>\n",
       "      <td>[University of California Press]</td>\n",
       "      <td>69</td>\n",
       "      <td>&lt;cite&gt;Nineteenth-Century Fiction&lt;/cite&gt;, Vol. ...</td>\n",
       "      <td>[Dorothea and \"Miss Brooke\" in Middlemarch]</td>\n",
       "      <td>[Sentiment, Fear, Martyrdom, Envy, Vocation, G...</td>\n",
       "      <td>fla</td>\n",
       "      <td>[39]</td>\n",
       "      <td>1984</td>\n",
       "      <td>1980</td>\n",
       "    </tr>\n",
       "    <tr>\n",
       "      <th>1</th>\n",
       "      <td>[HUGH WITEMEYER]</td>\n",
       "      <td>[19910901]</td>\n",
       "      <td>[Language &amp; Literature, Humanities]</td>\n",
       "      <td>10.2307/43470798</td>\n",
       "      <td>0d7eb58a-e4c1-326b-a195-012da1a4eb11</td>\n",
       "      <td>[georelioghlnews]</td>\n",
       "      <td>The George Eliot, George Henry Lewes Newsletter</td>\n",
       "      <td>[eng]</td>\n",
       "      <td>[0, [], []]</td>\n",
       "      <td>[18/19]</td>\n",
       "      <td>...</td>\n",
       "      <td>73-78</td>\n",
       "      <td>[Penn State University Press]</td>\n",
       "      <td>73</td>\n",
       "      <td>&lt;cite&gt;The George Eliot, George Henry Lewes New...</td>\n",
       "      <td>NaN</td>\n",
       "      <td>[Lecture methods, Feminism, Pedagogy, Novelist...</td>\n",
       "      <td>brv</td>\n",
       "      <td>NaN</td>\n",
       "      <td>1991</td>\n",
       "      <td>1990</td>\n",
       "    </tr>\n",
       "    <tr>\n",
       "      <th>2</th>\n",
       "      <td>[Alison Cree, Louis J. Guillette, &lt;suffix&gt;Jr.&lt;...</td>\n",
       "      <td>[19950601]</td>\n",
       "      <td>[Biological Sciences, Science and Mathematics,...</td>\n",
       "      <td>10.2307/1564553</td>\n",
       "      <td>f7384b7a-36be-3f0f-ac0b-b66455da0d36</td>\n",
       "      <td>[jherpetology]</td>\n",
       "      <td>NaN</td>\n",
       "      <td>[eng]</td>\n",
       "      <td>[0, [], []]</td>\n",
       "      <td>[2]</td>\n",
       "      <td>...</td>\n",
       "      <td>163-173</td>\n",
       "      <td>[Society for the Study of Amphibians and Repti...</td>\n",
       "      <td>163</td>\n",
       "      <td>&lt;cite&gt;Journal of Herpetology&lt;/cite&gt;, Vol. 29, ...</td>\n",
       "      <td>[Biennial Reproduction with a Fourteen-Month P...</td>\n",
       "      <td>[Animal vivipary, Parturition, Fat body, Skink...</td>\n",
       "      <td>fla</td>\n",
       "      <td>[29]</td>\n",
       "      <td>1995</td>\n",
       "      <td>1990</td>\n",
       "    </tr>\n",
       "    <tr>\n",
       "      <th>3</th>\n",
       "      <td>[Calvin Bedient]</td>\n",
       "      <td>[19690401]</td>\n",
       "      <td>[Language &amp; Literature, Humanities]</td>\n",
       "      <td>10.2307/3849222</td>\n",
       "      <td>ba20b1ad-b273-3608-bc9b-17b13f6d4e68</td>\n",
       "      <td>[hudsonreview]</td>\n",
       "      <td>The Hudson Review</td>\n",
       "      <td>[eng]</td>\n",
       "      <td>[2, [[1820, 1922], [1787715, 1787883]], [[2324...</td>\n",
       "      <td>[1]</td>\n",
       "      <td>...</td>\n",
       "      <td>70-84</td>\n",
       "      <td>[Hudson Review, Inc]</td>\n",
       "      <td>70</td>\n",
       "      <td>&lt;cite&gt;The Hudson Review&lt;/cite&gt;, Vol. 22, No. 1...</td>\n",
       "      <td>[Middlemarch: Touching Down]</td>\n",
       "      <td>[Immortality, Asceticism, Sentimentality, Mete...</td>\n",
       "      <td>fla</td>\n",
       "      <td>[22]</td>\n",
       "      <td>1969</td>\n",
       "      <td>1960</td>\n",
       "    </tr>\n",
       "    <tr>\n",
       "      <th>4</th>\n",
       "      <td>[Jane S. Smith]</td>\n",
       "      <td>[19770701]</td>\n",
       "      <td>[Language &amp; Literature, Humanities]</td>\n",
       "      <td>10.2307/40754482</td>\n",
       "      <td>ef12c01b-c42d-39b8-84dd-d00e6538143c</td>\n",
       "      <td>[texastudlitelang]</td>\n",
       "      <td>Texas Studies in Literature and Language</td>\n",
       "      <td>[eng]</td>\n",
       "      <td>[5, [[397716, 398239], [1588815, 1589172], [15...</td>\n",
       "      <td>[2]</td>\n",
       "      <td>...</td>\n",
       "      <td>188-203</td>\n",
       "      <td>[University of Texas Press]</td>\n",
       "      <td>188</td>\n",
       "      <td>&lt;cite&gt;Texas Studies in Literature and Language...</td>\n",
       "      <td>[The Reader as Part of the Fiction: Middlemarch]</td>\n",
       "      <td>[Novels, Flattery, Humor, Vanity, Meditation, ...</td>\n",
       "      <td>fla</td>\n",
       "      <td>[19]</td>\n",
       "      <td>1977</td>\n",
       "      <td>1970</td>\n",
       "    </tr>\n",
       "  </tbody>\n",
       "</table>\n",
       "<p>5 rows × 21 columns</p>\n",
       "</div>"
      ],
      "text/plain": [
       "                                              author   coverdate  \\\n",
       "0                            [Harriet Farwell Adams]  [19840601]   \n",
       "1                                   [HUGH WITEMEYER]  [19910901]   \n",
       "2  [Alison Cree, Louis J. Guillette, <suffix>Jr.<...  [19950601]   \n",
       "3                                   [Calvin Bedient]  [19690401]   \n",
       "4                                    [Jane S. Smith]  [19770701]   \n",
       "\n",
       "                                           disc_name               doi  \\\n",
       "0                [Language & Literature, Humanities]   10.2307/3044822   \n",
       "1                [Language & Literature, Humanities]  10.2307/43470798   \n",
       "2  [Biological Sciences, Science and Mathematics,...   10.2307/1564553   \n",
       "3                [Language & Literature, Humanities]   10.2307/3849222   \n",
       "4                [Language & Literature, Humanities]  10.2307/40754482   \n",
       "\n",
       "                                     id               jcode  \\\n",
       "0  c6e6ce20-79c4-3c59-af91-b06c3208b37b      [ninecentfict]   \n",
       "1  0d7eb58a-e4c1-326b-a195-012da1a4eb11   [georelioghlnews]   \n",
       "2  f7384b7a-36be-3f0f-ac0b-b66455da0d36      [jherpetology]   \n",
       "3  ba20b1ad-b273-3608-bc9b-17b13f6d4e68      [hudsonreview]   \n",
       "4  ef12c01b-c42d-39b8-84dd-d00e6538143c  [texastudlitelang]   \n",
       "\n",
       "                                           journal     la  \\\n",
       "0                       Nineteenth-Century Fiction  [eng]   \n",
       "1  The George Eliot, George Henry Lewes Newsletter  [eng]   \n",
       "2                                              NaN  [eng]   \n",
       "3                                The Hudson Review  [eng]   \n",
       "4         Texas Studies in Literature and Language  [eng]   \n",
       "\n",
       "                                             matches       no   ...    \\\n",
       "0  [23, [[5809, 6218], [8751, 8851], [8890, 9046]...      [1]   ...     \n",
       "1                                        [0, [], []]  [18/19]   ...     \n",
       "2                                        [0, [], []]      [2]   ...     \n",
       "3  [2, [[1820, 1922], [1787715, 1787883]], [[2324...      [1]   ...     \n",
       "4  [5, [[397716, 398239], [1588815, 1589172], [15...      [2]   ...     \n",
       "\n",
       "     pages                                     publisher_name   sp  \\\n",
       "0    69-90                   [University of California Press]   69   \n",
       "1    73-78                      [Penn State University Press]   73   \n",
       "2  163-173  [Society for the Study of Amphibians and Repti...  163   \n",
       "3    70-84                               [Hudson Review, Inc]   70   \n",
       "4  188-203                        [University of Texas Press]  188   \n",
       "\n",
       "                                             srcHtml  \\\n",
       "0  <cite>Nineteenth-Century Fiction</cite>, Vol. ...   \n",
       "1  <cite>The George Eliot, George Henry Lewes New...   \n",
       "2  <cite>Journal of Herpetology</cite>, Vol. 29, ...   \n",
       "3  <cite>The Hudson Review</cite>, Vol. 22, No. 1...   \n",
       "4  <cite>Texas Studies in Literature and Language...   \n",
       "\n",
       "                                               title  \\\n",
       "0        [Dorothea and \"Miss Brooke\" in Middlemarch]   \n",
       "1                                                NaN   \n",
       "2  [Biennial Reproduction with a Fourteen-Month P...   \n",
       "3                       [Middlemarch: Touching Down]   \n",
       "4   [The Reader as Part of the Fiction: Middlemarch]   \n",
       "\n",
       "                                              topics   ty    vo  year  Decade  \n",
       "0  [Sentiment, Fear, Martyrdom, Envy, Vocation, G...  fla  [39]  1984    1980  \n",
       "1  [Lecture methods, Feminism, Pedagogy, Novelist...  brv   NaN  1991    1990  \n",
       "2  [Animal vivipary, Parturition, Fat body, Skink...  fla  [29]  1995    1990  \n",
       "3  [Immortality, Asceticism, Sentimentality, Mete...  fla  [22]  1969    1960  \n",
       "4  [Novels, Flattery, Humor, Vanity, Meditation, ...  fla  [19]  1977    1970  \n",
       "\n",
       "[5 rows x 21 columns]"
      ]
     },
     "execution_count": 5,
     "metadata": {},
     "output_type": "execute_result"
    }
   ],
   "source": [
    "df.head()"
   ]
  },
  {
   "cell_type": "code",
   "execution_count": 6,
   "metadata": {
    "collapsed": false
   },
   "outputs": [
    {
     "data": {
      "text/plain": [
       "<matplotlib.axes._subplots.AxesSubplot at 0x7fd3d8c4af28>"
      ]
     },
     "execution_count": 6,
     "metadata": {},
     "output_type": "execute_result"
    },
    {
     "data": {
      "image/png": "[encoded data removed]",
      "text/plain": [
       "<matplotlib.figure.Figure at 0x7fd3d8c489e8>"
      ]
     },
     "metadata": {},
     "output_type": "display_data"
    }
   ],
   "source": [
    "df['year'].hist()"
   ]
  },
  {
   "cell_type": "code",
   "execution_count": 7,
   "metadata": {
    "collapsed": false
   },
   "outputs": [],
   "source": [
    "textALength = 1793449"
   ]
  },
  {
   "cell_type": "code",
   "execution_count": 8,
   "metadata": {
    "collapsed": false
   },
   "outputs": [],
   "source": [
    "df['Locations in A'] = df['matches'].apply(lambda x: x[1])"
   ]
  },
  {
   "cell_type": "code",
   "execution_count": 227,
   "metadata": {
    "collapsed": false
   },
   "outputs": [],
   "source": [
    "def diachronicAnalysis(df, decades=(1950, 2020)): \n",
    "    decades = np.arange(decades[0], decades[1], 10)\n",
    "    # Make a dictionary of decades. \n",
    "    # Values are a list of locations.  \n",
    "    decadeDict = {}\n",
    "    for i, row in df.iterrows():\n",
    "        decade = row['Decade']\n",
    "        locations = row['Locations in A']\n",
    "        if decade not in decadeDict: \n",
    "            decadeDict[decade] = locations\n",
    "        else: \n",
    "            decadeDict[decade] += locations \n",
    "    # Grab the beginnings of quotes. \n",
    "    decadeStarts = {decade: [item[0] for item in loc] for decade, loc in decadeDict.items()}\n",
    "    decadesBinned = {decade: \n",
    "                 np.histogram(locations, bins=50, range=(0, textALength))[0]\n",
    "                 for decade, locations in decadeStarts.items() if decade in decades}\n",
    "    decadesDF = pd.DataFrame(decadesBinned).T\n",
    "    #Normalize\n",
    "    decadesDF = decadesDF.div(decadesDF.max(axis=1), axis=0)\n",
    "    return decadesDF\n",
    "\n",
    "def plotDiachronicAnalysis(decadesDF): \n",
    "    ylabels = [str(int(decade)) for decade in decadesDF.index] + ['2020']\n",
    "    plt.pcolor(decadesDF, cmap='gnuplot')\n",
    "    plt.yticks(np.arange(len(decadesDF.index)+1), ylabels)\n",
    "    plt.gca().invert_yaxis()\n",
    "    plt.ylabel('Decade')\n",
    "    plt.xlabel('Novel Segment')\n",
    "    plt.title(\"Frequency of Quotations from George Eliot's Middlemarch in Criticism, By Decade\")\n",
    "    plt.colorbar(ticks=[])\n",
    "    plt.show()\n",
    "    \n",
    "def plotSynchronicAnalysis(decadesDF): \n",
    "    ax = decadesDF.sum().plot(kind='bar')"
   ]
  },
  {
   "cell_type": "code",
   "execution_count": 91,
   "metadata": {
    "collapsed": false
   },
   "outputs": [
    {
     "data": {
      "image/png": "[encoded data removed]",
      "text/plain": [
       "<matplotlib.figure.Figure at 0x7fd3473e2668>"
      ]
     },
     "metadata": {},
     "output_type": "display_data"
    }
   ],
   "source": [
    "decadesDF = diachronicAnalysis(df)\n",
    "plotDiachronicAnalysis(decadesDF)"
   ]
  },
  {
   "cell_type": "markdown",
   "metadata": {},
   "source": [
    "# By (Guessed) Gender of Author"
   ]
  },
  {
   "cell_type": "code",
   "execution_count": 27,
   "metadata": {
    "collapsed": false
   },
   "outputs": [],
   "source": [
    "maleNames, femaleNames = names.words('male.txt'), names.words('female.txt')\n",
    "maleNames = [name.lower() for name in maleNames]\n",
    "femaleNames = [name.lower() for name in femaleNames]"
   ]
  },
  {
   "cell_type": "code",
   "execution_count": 81,
   "metadata": {
    "collapsed": false
   },
   "outputs": [],
   "source": [
    "def guessGender(name): \n",
    "    name = name.split()[0].lower() # Grab the first name. \n",
    "    if name in maleNames and name in femaleNames: \n",
    "        return 'A' #Ambiguous\n",
    "    elif name in maleNames: \n",
    "        return 'M'\n",
    "    elif name in femaleNames: \n",
    "        return 'F'\n",
    "    else: \n",
    "        return 'U'\n",
    "\n",
    "def averageGender(names): \n",
    "    if type(names) != list: \n",
    "        return 'U'\n",
    "    genderGuesses = [guessGender(name) for name in names]\n",
    "    stats = Counter(genderGuesses).most_common()\n",
    "    if len(stats) == 1: \n",
    "        # Only one author. We can just use that's author's gender guess. \n",
    "        return stats[0][0]\n",
    "    elif stats[0][1] == stats[1][1]: # There's a tie. \n",
    "        return 'A' # Ambiguous. \n",
    "    else: \n",
    "        return stats[0][0] # Return the most common gender. \n",
    "        "
   ]
  },
  {
   "cell_type": "code",
   "execution_count": 82,
   "metadata": {
    "collapsed": false,
    "scrolled": true
   },
   "outputs": [],
   "source": [
    "df['gender'] = df['author'].apply(averageGender)\n",
    "dfF = df.loc[df['gender'] == 'F']\n",
    "dfM = df.loc[df['gender'] == 'M']"
   ]
  },
  {
   "cell_type": "code",
   "execution_count": 100,
   "metadata": {
    "collapsed": false,
    "scrolled": false
   },
   "outputs": [],
   "source": [
    "decadesDFM, decadesDFF = diachronicAnalysis(dfM), diachronicAnalysis(dfF)"
   ]
  },
  {
   "cell_type": "code",
   "execution_count": 110,
   "metadata": {
    "collapsed": false
   },
   "outputs": [
    {
     "data": {
      "image/png": "[encoded data removed]",
      "text/plain": [
       "<matplotlib.figure.Figure at 0x7fd346f12550>"
      ]
     },
     "metadata": {},
     "output_type": "display_data"
    }
   ],
   "source": [
    "# Differences in citations between genders. \n",
    "decadesGenderDiff = decadesDFM - decadesDFF\n",
    "plotSynchronicAnalysis(decadesGenderDiff)"
   ]
  },
  {
   "cell_type": "markdown",
   "metadata": {},
   "source": [
    "# By (Guessed) Country of Publication"
   ]
  },
  {
   "cell_type": "code",
   "execution_count": 128,
   "metadata": {
    "collapsed": false
   },
   "outputs": [],
   "source": [
    "def getFirst(row): \n",
    "    if type(row) == list: \n",
    "        return row[0]\n",
    "    else: \n",
    "        return row\n",
    "\n",
    "topPublishers = df['publisher_name'].apply(getFirst).value_counts()"
   ]
  },
  {
   "cell_type": "code",
   "execution_count": 158,
   "metadata": {
    "collapsed": false
   },
   "outputs": [],
   "source": [
    "publishers = topPublishers[:80].index"
   ]
  },
  {
   "cell_type": "code",
   "execution_count": 159,
   "metadata": {
    "collapsed": false
   },
   "outputs": [],
   "source": [
    "publishers = publishers.tolist()"
   ]
  },
  {
   "cell_type": "code",
   "execution_count": 190,
   "metadata": {
    "collapsed": false
   },
   "outputs": [],
   "source": [
    "def getCountry(publisher): \n",
    "    brits = ['Oxford University Press', 'Cambridge University Press', 'Modern Humanities Research Association', \\\n",
    "             'BMJ', 'Taylor & Francis, Ltd.', 'Edinburgh University Press', \\\n",
    "             'Royal Society for the Encouragement of Arts, Manufactures and Commerce']\n",
    "    canadians = ['Victorian Studies Association of Western Canada'] \n",
    "    if type(publisher) != list: \n",
    "        return 'Unknown'\n",
    "    publisher = publisher[0]\n",
    "    if publisher in brits: \n",
    "        return 'Britain' \n",
    "    elif publisher in canadians or 'Canada' in publisher: \n",
    "        return 'Canada' \n",
    "    elif 'GmbH' in publisher: \n",
    "        return 'Germany'\n",
    "    elif 'estudios' in publisher: \n",
    "        return 'Spain'\n",
    "    elif 'France' in publisher: \n",
    "        return 'France' \n",
    "    elif 'Ireland' in publisher: \n",
    "        return 'Ireland'\n",
    "    else: \n",
    "        return 'US'"
   ]
  },
  {
   "cell_type": "code",
   "execution_count": 193,
   "metadata": {
    "collapsed": false,
    "scrolled": true
   },
   "outputs": [],
   "source": [
    "df['country'] = df['publisher_name'].apply(getCountry)"
   ]
  },
  {
   "cell_type": "code",
   "execution_count": 195,
   "metadata": {
    "collapsed": false
   },
   "outputs": [
    {
     "data": {
      "text/plain": [
       "US         3901\n",
       "Unknown    1247\n",
       "Britain     825\n",
       "Canada       59\n",
       "Germany      15\n",
       "Ireland       8\n",
       "Spain         8\n",
       "France        6\n",
       "Name: country, dtype: int64"
      ]
     },
     "execution_count": 195,
     "metadata": {},
     "output_type": "execute_result"
    }
   ],
   "source": [
    "df['country'].value_counts()"
   ]
  },
  {
   "cell_type": "code",
   "execution_count": 200,
   "metadata": {
    "collapsed": false
   },
   "outputs": [],
   "source": [
    "dfBrits = df.loc[df['country'] == 'Britain']\n",
    "dfYanks = df.loc[df['country'] == 'US']\n",
    "dfCanadians = df.loc[df['country'] == 'Canada']"
   ]
  },
  {
   "cell_type": "code",
   "execution_count": 201,
   "metadata": {
    "collapsed": false
   },
   "outputs": [],
   "source": [
    "decadesDFBrits, decadesDFYanks = diachronicAnalysis(dfBrits), diachronicAnalysis(dfYanks)"
   ]
  },
  {
   "cell_type": "code",
   "execution_count": 204,
   "metadata": {
    "collapsed": false
   },
   "outputs": [
    {
     "data": {
      "image/png": "[encoded data removed]",
      "text/plain": [
       "<matplotlib.figure.Figure at 0x7fd3a1b8f278>"
      ]
     },
     "metadata": {},
     "output_type": "display_data"
    }
   ],
   "source": [
    "plotSynchronicAnalysis(decadesDFYanks-decadesDFBrits)"
   ]
  },
  {
   "cell_type": "markdown",
   "metadata": {},
   "source": [
    "# By Journal"
   ]
  },
  {
   "cell_type": "code",
   "execution_count": 213,
   "metadata": {
    "collapsed": false
   },
   "outputs": [
    {
     "data": {
      "text/plain": [
       "Victorian Studies                            424\n",
       "George Eliot - George Henry Lewes Studies    206\n",
       "Nineteenth-Century Fiction                   192\n",
       "The Modern Language Review                   188\n",
       "The Review of English Studies                185\n",
       "NOVEL: A Forum on Fiction                    126\n",
       "Nineteenth-Century Literature                126\n",
       "Studies in the Novel                         120\n",
       "Studies in English Literature, 1500-1900      85\n",
       "ELH                                           77\n",
       "Name: journal, dtype: int64"
      ]
     },
     "execution_count": 213,
     "metadata": {},
     "output_type": "execute_result"
    }
   ],
   "source": [
    "# Look at the top journals. \n",
    "df['journal'].value_counts()[:10]"
   ]
  },
  {
   "cell_type": "markdown",
   "metadata": {},
   "source": [
    "Compare the specialist journal, \"George Eliot - George Henry Lewes Studies,\" with all other journals. "
   ]
  },
  {
   "cell_type": "code",
   "execution_count": 211,
   "metadata": {
    "collapsed": false
   },
   "outputs": [],
   "source": [
    "geJournals = df.loc[df['journal'] == 'George Eliot - George Henry Lewes Studies']\n",
    "otherJournals = df.loc[df['journal'] != 'George Eliot - George Henry Lewes Studies']"
   ]
  },
  {
   "cell_type": "code",
   "execution_count": 228,
   "metadata": {
    "collapsed": false
   },
   "outputs": [
    {
     "data": {
      "image/png": "[encoded data removed]",
      "text/plain": [
       "<matplotlib.figure.Figure at 0x7fd346dcada0>"
      ]
     },
     "metadata": {},
     "output_type": "display_data"
    }
   ],
   "source": [
    "ax = plotSynchronicAnalysis(diachronicAnalysis(geJournals) - diachronicAnalysis(otherJournals))"
   ]
  },
  {
   "cell_type": "code",
   "execution_count": null,
   "metadata": {
    "collapsed": true
   },
   "outputs": [],
   "source": []
  }
 ],
 "metadata": {
  "kernelspec": {
   "display_name": "Python 3",
   "language": "python",
   "name": "python3"
  },
  "language_info": {
   "codemirror_mode": {
    "name": "ipython",
    "version": 3
   },
   "file_extension": ".py",
   "mimetype": "text/x-python",
   "name": "python",
   "nbconvert_exporter": "python",
   "pygments_lexer": "ipython3",
   "version": "3.5.2"
  }
 },
 "nbformat": 4,
 "nbformat_minor": 0
}
