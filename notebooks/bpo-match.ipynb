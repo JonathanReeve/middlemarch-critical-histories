{
 "cells": [
  {
   "cell_type": "markdown",
   "metadata": {},
   "source": [
    "# Experiment 4\n",
    "\n",
    "An analysis of book reviews containing the word \"Middlemarch.\" Uses material from the British Periodicals Online corpus. Thanks to the Stanford Literary Lab for help with this. "
   ]
  },
  {
   "cell_type": "code",
   "execution_count": 12,
   "metadata": {
    "collapsed": false
   },
   "outputs": [],
   "source": [
    "# The matcher module is provided by the text_matcher package. \n",
    "# This one uses the latest version from the submodule, \n",
    "# installed with `pip install --editable .`. \n",
    "from text_matcher.matcher import Text, Matcher\n",
    "import json\n",
    "from glob import glob\n",
    "import pandas as pd\n",
    "from IPython.display import clear_output\n",
    "%matplotlib inline\n",
    "import matplotlib.pyplot as plt\n",
    "import spacy\n",
    "plt.rcParams[\"figure.figsize\"] = [16, 6]"
   ]
  },
  {
   "cell_type": "code",
   "execution_count": 13,
   "metadata": {
    "collapsed": true
   },
   "outputs": [],
   "source": [
    "nlp = spacy.load('en')"
   ]
  },
  {
   "cell_type": "code",
   "execution_count": 14,
   "metadata": {
    "collapsed": false
   },
   "outputs": [],
   "source": [
    "# Load the data. \n",
    "\n",
    "glob = glob('../txt/bpo/*.json')\n",
    "\n",
    "jsonContents = [open(f).read() for f in glob]\n",
    "\n",
    "# Parse the data. \n",
    "\n",
    "data = [json.loads(line) for line in jsonContents]\n",
    "\n",
    "# Load Middlemarch\n",
    "with open('../middlemarch.txt') as f: \n",
    "    rawMM = f.read()\n",
    "\n",
    "mm = Text(rawMM, 'Middlemarch', nlp)"
   ]
  },
  {
   "cell_type": "code",
   "execution_count": null,
   "metadata": {
    "collapsed": false,
    "scrolled": false
   },
   "outputs": [],
   "source": [
    "for i, article in enumerate(data): \n",
    "#     clear_output()\n",
    "    print('\\r', 'Matching article %s of %s' % (i, len(data)), end='')\n",
    "    if 'numMatches' not in article: \n",
    "        articleText = Text(article['text'], article['record_title'], nlp)\n",
    "        article['numMatches'], article['Locations in A'], article['Locations in B'] = \\\n",
    "        Matcher(mm, articleText).match()"
   ]
  },
  {
   "cell_type": "code",
   "execution_count": 18,
   "metadata": {
    "collapsed": true
   },
   "outputs": [],
   "source": [
    "# Write output somewhere. \n",
    "with open('../txt/e4.json', 'w') as outfile: \n",
    "    json.dump(data, outfile)"
   ]
  }
 ],
 "metadata": {
  "kernelspec": {
   "display_name": "Python 3",
   "language": "python",
   "name": "python3"
  },
  "language_info": {
   "codemirror_mode": {
    "name": "ipython",
    "version": 3
   },
   "file_extension": ".py",
   "mimetype": "text/x-python",
   "name": "python",
   "nbconvert_exporter": "python",
   "pygments_lexer": "ipython3",
   "version": "3.6.0"
  }
 },
 "nbformat": 4,
 "nbformat_minor": 1
}
