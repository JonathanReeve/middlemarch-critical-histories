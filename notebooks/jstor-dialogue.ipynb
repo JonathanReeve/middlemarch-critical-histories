{
 "cells": [
  {
   "cell_type": "markdown",
   "metadata": {},
   "source": [
    "# Dialogue Markup\n",
    "\n",
    "An attempt to extract the dialogue from _Middlemarch_, to check how many quotations were of dialogue. Props to Franco Moretti for the idea. "
   ]
  },
  {
   "cell_type": "code",
   "execution_count": 51,
   "metadata": {
    "collapsed": true
   },
   "outputs": [],
   "source": [
    "import spacy\n",
    "import textacy\n",
    "import pandas as pd\n",
    "from collections import Counter"
   ]
  },
  {
   "cell_type": "code",
   "execution_count": 3,
   "metadata": {
    "collapsed": true
   },
   "outputs": [],
   "source": [
    "with open('../middlemarch.txt') as f: \n",
    "    mm = f.read()"
   ]
  },
  {
   "cell_type": "code",
   "execution_count": 6,
   "metadata": {
    "collapsed": false
   },
   "outputs": [],
   "source": [
    "doc = textacy.Doc(mm)"
   ]
  },
  {
   "cell_type": "code",
   "execution_count": 22,
   "metadata": {
    "collapsed": false
   },
   "outputs": [],
   "source": [
    "dialogueObjs = list(textacy.extract.direct_quotations(doc))"
   ]
  },
  {
   "cell_type": "code",
   "execution_count": 23,
   "metadata": {
    "collapsed": false
   },
   "outputs": [],
   "source": [
    "dialogue = [obj[2] for obj in dialogueObjs]"
   ]
  },
  {
   "cell_type": "code",
   "execution_count": 29,
   "metadata": {
    "collapsed": false
   },
   "outputs": [],
   "source": [
    "dialogueLocs = [(dia.start_char, dia.end_char) for dia in dialogue]"
   ]
  },
  {
   "cell_type": "code",
   "execution_count": 35,
   "metadata": {
    "collapsed": false
   },
   "outputs": [],
   "source": [
    "rawData = open('../txt/e2a.json').read()\n",
    "df = pd.read_json(rawData)"
   ]
  },
  {
   "cell_type": "code",
   "execution_count": 64,
   "metadata": {
    "collapsed": false
   },
   "outputs": [],
   "source": [
    "allLocs = df['Locations in A'].values"
   ]
  },
  {
   "cell_type": "code",
   "execution_count": 65,
   "metadata": {
    "collapsed": false
   },
   "outputs": [],
   "source": [
    "# Make a big list of all possible character offsets in which dialogue occurs.  \n",
    "dialogueListList = [list(range(loc[0], loc[1])) for loc in dialogueLocs]\n",
    "dialogueList = []\n",
    "for item in dialogueListList: \n",
    "    dialogueList += item"
   ]
  },
  {
   "cell_type": "code",
   "execution_count": 55,
   "metadata": {
    "collapsed": false
   },
   "outputs": [],
   "source": [
    "# Check to see whether the start or the end of a critical quotation appears in our big list.  \n",
    "inDialogue = []\n",
    "dialogueQuotes = []\n",
    "for locSet in allLocs: \n",
    "    for loc in locSet: \n",
    "        if loc[0] in dialogueList or loc[1] in dialogueList: \n",
    "            inDialogue.append(1)\n",
    "            dialogueQuotes.append(mm[loc[0]:loc[1]])\n",
    "        else: \n",
    "            inDialogue.append(0)"
   ]
  },
  {
   "cell_type": "code",
   "execution_count": 52,
   "metadata": {
    "collapsed": false
   },
   "outputs": [
    {
     "data": {
      "text/plain": [
       "Counter({0: 1754, 1: 40})"
      ]
     },
     "execution_count": 52,
     "metadata": {},
     "output_type": "execute_result"
    }
   ],
   "source": [
    "Counter(inDialogue)"
   ]
  },
  {
   "cell_type": "code",
   "execution_count": 3,
   "metadata": {
    "collapsed": false
   },
   "outputs": [
    {
     "data": {
      "text/plain": [
       "2.229654403567447"
      ]
     },
     "execution_count": 3,
     "metadata": {},
     "output_type": "execute_result"
    }
   ],
   "source": [
    "# Percentage of dialogue. Unadjusted for non-quotes. \n",
    "(40/1794)*100"
   ]
  },
  {
   "cell_type": "markdown",
   "metadata": {},
   "source": [
    "Of 1790 critical quotations, only 40 of them contain dialogue. "
   ]
  },
  {
   "cell_type": "code",
   "execution_count": 63,
   "metadata": {
    "collapsed": false
   },
   "outputs": [
    {
     "name": "stdout",
     "output_type": "stream",
     "text": [
      "--- 1 People glorify all sorts of bravery\n",
      "except the bravery they might show on behalf of their nearest \n",
      "\n",
      "--- 2 little speech of four words, like so many others in all\n",
      "languages, is capable by varied vocal inflections of expressing all\n",
      "states of mind from helpless dimness to exhaustive argumentative\n",
      "perception, from the completest self-devoting fellowship to the most\n",
      "neutral aloofness.  Rosamond's thin utterance threw into the words\n",
      "\"What can--I--do!\" as much neutrality \n",
      "\n",
      "--- 3 neutrality as they could hold.  They fell\n",
      "like a mortal chill on Lydgate's roused tenderness.  He did not storm\n",
      "in indignation--he felt too sad a sinking of the heart \n",
      "\n",
      "--- 4 Mrs. Bulstrode, paying a morning visit to Mrs. Plymdale, happened to\n",
      "say that she could not stay longer, because she was going to see poor\n",
      "Rosamond.\n",
      "\n",
      "\"Why do you say 'poor Rosamond'?\" said Mrs. Plymdale, a round-eyed\n",
      "sharp little woman, like a tamed falcon.\n",
      "\n",
      "\"She is so pretty, and has been brought up in such thoughtlessness.\n",
      "The mother, you know, had always that levity about her, which makes me\n",
      "anxious \n",
      "\n",
      "--- 5 might have thought that a Christian young lady of fortune should find\n",
      "her ideal of life in village charities, patronage of the humbler\n",
      "clergy, the perusal of \"Female Scripture Characters \n",
      "\n",
      "--- 6 beautiful these gems are!\" said Dorothea, under a new current\n",
      "of feeling, as sudden as the gleam.  \"It is strange how deeply colors\n",
      "seem to penetrate one, like scent.  I suppose that is the reason why\n",
      "gems are used as spiritual emblems in the Revelation of St. John.  They\n",
      "look like fragments of heaven.  I think that emerald is more beautiful \n",
      "\n",
      "--- 7 said Mary, more resolutely still.  Her repulsion\n",
      "was getting stronger.\n",
      "\n",
      "\"I tell you, there's no time to lose.\"\n",
      "\n",
      "\"I cannot help that, sir.  I will not let the close of your life soil\n",
      "the beginning of mine.  I will not touch your iron chest or your will.\"\n",
      "She moved to a little distance from the bedside.\n",
      "\n",
      "The old man paused with a blank stare \n",
      "\n",
      "--- 8 while, holding the\n",
      "one key erect on the ring; then with an agitated jerk he began to work\n",
      "with his bony left hand at emptying the tin box before him.\n",
      "\n",
      "\"Missy,\" he began to say, hurriedly, \"look here! take the money \n",
      "\n",
      "--- 9 odious things\n",
      "in a girl's life, that there must always be some supposition of falling\n",
      "in love coming between her and any man who is kind \n",
      "\n",
      "--- 10 will not let the close of your life soil\n",
      "the beginning of mine.  I will not touch your iron chest or your will \n",
      "\n",
      "--- 11 cannot fright\n",
      "                  The coming pest with border fortresses,\n",
      "                  Or catch your carp with subtle argument.\n",
      "                  All force is twain in one: cause is not cause\n",
      "                  Unless effect be there; and action's self\n",
      "                  Must needs contain a passive \n",
      "\n",
      "--- 12 medical man has true\n",
      "religious views--there is too much pride \n",
      "\n",
      "--- 13 delightful young person is Miss Garth,\" said Mrs. Farebrother, who\n",
      "had been watching her son's movements.\n",
      "\n",
      "\"Yes,\" said Mrs. Vincy, obliged to reply, as the old lady turned to her\n",
      "expectantly.  \"It is a pity she is not better-looking.\"\n",
      "\n",
      "\"I cannot say that,\" said Mrs. Farebrother, decisively.  \"I like her\n",
      "countenance.  We must not always ask for beauty, when a good God has\n",
      "seen fit to make an excellent young woman without it.  I put good\n",
      "manners first, and Miss Garth will know how to conduct herself in any\n",
      "station \n",
      "\n",
      "--- 14 watered-silk\n",
      "publication which marked modern progress at that time; and he\n",
      "considered himself very fortunate that he could be the first to look\n",
      "over it with her, dwelling on the ladies and gentlemen with shiny\n",
      "copper-plate cheeks and copper-plate smiles, and pointing to comic\n",
      "verses as capital and sentimental stories as interesting.  Rosamond was\n",
      "gracious, and Mr. Ned was satisfied that he had the very best thing in\n",
      "art and literature as a medium for \"paying addresses\"--the very thing\n",
      "to please a nice girl \n",
      "\n",
      "--- 15 imagine his sickly aspect to have been of the yellow, black-haired\n",
      "sort \n",
      "\n",
      "--- 16 concluded that he would tell the whole\n",
      "affair as simply as possible to his father, who might perhaps take \n",
      "\n",
      "--- 17 are a good young man,\" she said.  \"But I do not like husbands.  I\n",
      "will never have another \n",
      "\n",
      "--- 18 gray eyes rather near together, a delicate\n",
      "irregular nose with a little ripple in it, and hair falling backward;\n",
      "but there was a mouth and chin of a more prominent, threatening aspect\n",
      "than belonged to the type of the grandmother's miniature \n",
      "\n",
      "--- 19 man perhaps about two or three and thirty,\n",
      "whose prominent eyes, thin-lipped, downward-curved mouth, and hair\n",
      "sleekly brushed away from a forehead that sank suddenly above the ridge\n",
      "of the eyebrows, certainly gave his face a batrachian unchangeableness\n",
      "of expression \n",
      "\n",
      "--- 20 Mrs. Garth, half suspecting that Mrs.\n",
      "Casaubon might not hold the true principle of subordination \n",
      "\n",
      "--- 21 uncle says that Mr. Tyke is spoken of as an apostolic man,\" said\n",
      "Dorothea, meditatively.  She was wishing it were possible to restore\n",
      "the times of primitive zeal \n",
      "\n",
      "--- 22 have come all the way from Paris to find me?\" she said to him the\n",
      "next day, sitting before him with folded arms, and looking at him with\n",
      "eyes that seemed to wonder as an untamed ruminating animal wonders.\n",
      "\"Are all Englishmen like that?\"\n",
      "\n",
      "\"I came because I could not live without trying to see you.  You are\n",
      "lonely; I love you; I want you to consent to be my wife; I will wait,\n",
      "but I want you to promise that you will marry me--no one else.\"\n",
      "\n",
      "Laure looked at him in silence with a melancholy radiance from under\n",
      "her grand eyelids, until he was full of rapturous certainty, and knelt\n",
      "close to her knees.\n",
      "\n",
      "\"I will tell you something,\" she said, in her cooing way, keeping her\n",
      "arms folded.  \"My foot really slipped.\"\n",
      "\n",
      "\"I know, I know,\" said Lydgate, deprecatingly.  \"It was a fatal\n",
      "accident--a dreadful stroke of calamity that bound me to you the more.\"\n",
      "\n",
      "Again Laure paused a little and then said, slowly, \"_I meant \n",
      "\n",
      "--- 23 will oblige me, my dear,\" he said, seating himself, \"if instead of\n",
      "other reading this evening, you will go through this aloud, pencil in\n",
      "hand, and at each point where I say 'mark,' will make a cross with your\n",
      "pencil.  This is the first step in a sifting process which I have long\n",
      "had in view, and as we go on I shall be able to indicate to you certain\n",
      "principles of selection whereby you will, I trust, have an intelligent\n",
      "participation in my purpose \n",
      "\n",
      "--- 24 afraid of asking Mr. Lydgate to tell me the truth, that I might help\n",
      "him.  Why should I be afraid \n",
      "\n",
      "--- 25 satisfied\n",
      "by a girlish instruction comparable to the nibblings and judgments of a\n",
      "discursive mouse.  With some endowment of stupidity and conceit, she\n",
      "might have thought that a Christian young lady of fortune should find\n",
      "her ideal of life in village charities, patronage of the humbler\n",
      "clergy, the perusal of \"Female Scripture Characters \n",
      "\n",
      "--- 26 cousin was so close now, that, when he lifted his hat, Dorothea\n",
      "could see a pair of gray eyes rather near together, a delicate\n",
      "irregular nose with a little ripple in it, and hair falling backward;\n",
      "but there was a mouth and chin of a more prominent, threatening aspect\n",
      "than belonged to the type of the grandmother's miniature \n",
      "\n",
      "--- 27 there must be a systole\n",
      "and diastole in all inquiry,\" and that \"a man's mind must be\n",
      "continually expanding and shrinking between the whole human horizon and\n",
      "the horizon of an object-glass \n",
      "\n",
      "--- 28 Some one highly\n",
      "susceptible to the contemplation of a fine act has said, that it\n",
      "produces a sort of regenerating shudder through the frame, and makes\n",
      "one feel ready to begin a new life.  A good degree of that effect was\n",
      "just then present in Fred Vincy \n",
      "\n",
      "--- 29 piteous!\" said Dorothea.  \"This funeral seems to me the most\n",
      "dismal thing I ever saw.  It is a blot on the morning I cannot bear to\n",
      "think that any one should die and leave no love behind.\"\n",
      "\n",
      "She was going to say more, but she saw her husband enter and seat\n",
      "himself a little in the background.  The difference his presence made\n",
      "to her was not always a happy one: she felt that he often inwardly\n",
      "objected to her speech.\n",
      "\n",
      "\"Positively,\" exclaimed Mrs. Cadwallader, \"there is a new face come out\n",
      "from behind that broad man queerer than any of them: a little round\n",
      "head with bulging eyes--a sort of frog-face--do look.  He must be of\n",
      "another blood, I think.\"\n",
      "\n",
      "\"Let me see!\" said Celia, with awakened curiosity, standing behind Mrs.\n",
      "Cadwallader and leaning forward over her head.  \"Oh, what an odd face!\"\n",
      "Then with a quick change to another sort of surprised expression, she\n",
      "added, \"Why, Dodo, you never told me that Mr. Ladislaw was come again!\"\n",
      "\n",
      "Dorothea felt a shock of alarm \n",
      "\n",
      "--- 30 foot really slipped.\"\n",
      "\n",
      "\"I know, I know,\" said Lydgate, deprecatingly.  \"It was a fatal\n",
      "accident--a dreadful stroke of calamity that bound me to you the more.\"\n",
      "\n",
      "Again Laure paused a little and then said, slowly, \"_I meant to do it._\"\n",
      "\n",
      "Lydgate, strong man as he was, turned pale and trembled: moments seemed\n",
      "to pass before he rose and stood at a distance from her.\n",
      "\n",
      "\"There was a secret, then,\" he said at last, even vehemently.  \"He was\n",
      "brutal to you: you hated him.\"\n",
      "\n",
      "\"No! he wearied me; he was too fond: he would live in Paris, and not in\n",
      "my country; that was not agreeable to me.\"\n",
      "\n",
      "\"Great God!\" said Lydgate, in a groan of horror.  \"And you planned to\n",
      "murder him?\"\n",
      "\n",
      "\"I did not plan: it came to me in the play--_I meant to do it._\"\n",
      "\n",
      "Lydgate stood mute, and unconsciously pressed his hat on while he\n",
      "looked at her.  He saw this woman--the first to whom he had given his\n",
      "young adoration--amid the throng of stupid criminals.\n",
      "\n",
      "\"You are a good young man,\" she said.  \"But I do not like husbands.  I\n",
      "will never have another \n",
      "\n",
      "--- 31 easily go after Mrs. Casaubon and explain your preference.\"\n",
      "\n",
      "\"Go after \n",
      "\n",
      "--- 32 Caleb was very fond of music, and when he could afford it went to hear\n",
      "an oratorio that came within his reach, returning from it with a\n",
      "profound reverence for this mighty structure of tones, which made him\n",
      "sit meditatively, looking on the floor and throwing much unutterable\n",
      "language into his outstretched hands \n",
      "\n",
      "--- 33 beautiful these gems are!\" said Dorothea, under a new current\n",
      "of feeling, as sudden as the gleam.  \"It is strange how deeply colors\n",
      "seem to penetrate one, like scent.  I suppose that is the reason why\n",
      "gems are used as spiritual emblems in the Revelation of St. John.  They\n",
      "look like fragments \n",
      "\n",
      "--- 34 bending\n",
      "his head to the table and lifting with his fourth finger her delicate\n",
      "handkerchief which lay at the mouth of her reticule, as if to enjoy its\n",
      "scent, while he looked at her with a smile \n",
      "\n",
      "--- 35 afraid of asking Mr. Lydgate to tell me the truth, that I might help \n",
      "\n",
      "--- 36 There is the best opportunity in the world for me to\n",
      "ask for his confidence; and he would be able to tell me things which\n",
      "might make all the circumstances clear.  Then we would all stand by him\n",
      "and bring him out of his trouble.  People glorify all sorts of bravery\n",
      "except the bravery they might show on behalf of their nearest\n",
      "neighbors \n",
      "\n",
      "--- 37 life.\n",
      "\n",
      "The grasp had slipped away.  Bound by a pledge given from the depths of\n",
      "her pity, she would have been capable of undertaking a toil which her\n",
      "judgment whispered was vain for all uses except that consecration of\n",
      "faithfulness which is a supreme use.  But now her judgment, instead of\n",
      "being controlled by duteous devotion, was made active by the\n",
      "imbittering discovery that in her past union there had lurked the\n",
      "hidden alienation of secrecy and suspicion.  The living, suffering man\n",
      "was no longer before her to awaken her pity \n",
      "\n",
      "--- 38 there remained only the\n",
      "retrospect of painful subjection to a husband whose thoughts had been\n",
      "lower than she had believed, whose exorbitant claims for himself had\n",
      "even blinded his scrupulous care for his own character, and made him\n",
      "defeat his own pride by shocking men of ordinary \n",
      "\n",
      "--- 39 have hurt you for the\n",
      "world, Mary,\" he said at last.  \"You can never forgive me.\"\n",
      "\n",
      "\"What does it matter whether I forgive you?\" said Mary, passionately.\n",
      "\"Would that make it any better for my mother to lose the money she has\n",
      "been earning by lessons for four years, that she might send Alfred to\n",
      "Mr. Hanmer's? Should you think all that pleasant enough if I forgave\n",
      "you?\"\n",
      "\n",
      "\"Say what you like, Mary.  I deserve it all \n",
      "\n",
      "--- 40 Certainly you differ,\" she said, rather proudly.  \"I did not think of\n",
      "comparing you: such power of persevering devoted labor as Mr.\n",
      "Casaubon's \n",
      "\n"
     ]
    }
   ],
   "source": [
    "for i, quote in enumerate(dialogueQuotes): \n",
    "    print('---', i+1, quote, '\\n')"
   ]
  },
  {
   "cell_type": "markdown",
   "metadata": {},
   "source": [
    "Here's the breakdown: \n",
    "\n",
    "1. Dorothea\n",
    "2. Rosamond\n",
    "3. Rosamond (roughly the same quote)\n",
    "4. Mrs. Plymdale\n",
    "5. Not really dialogue, but a title: \"Female Scripture Characters\" \n",
    "6. Dorothea\n",
    "7. Mary\n",
    "8. Mr. Featherstone\n",
    "9. Mary\n",
    "10. Mary\n",
    "11. Epigraph of Chapter LXI. \n",
    "12. Mrs. Bulstrode\n",
    "13. Mrs. Farebrother, Mrs. Vincy\n",
    "14. Not a quotation\n",
    "15. Not a quotation\n",
    "16. Not a quotation\n",
    "17. Laure\n",
    "18. Dorothea\n",
    "19. Not a quotation\n",
    "20. Only borders a quotation\n",
    "21. Dorothea\n",
    "22. Laure, Lydgate\n",
    "23. Casaubon\n",
    "24. Dorothea\n",
    "25. again \"Female Scripture Characters\" \n",
    "26. Not a quotation\n",
    "27. Lydgate\n",
    "28. Not a quotation\n",
    "29. Dorothea, Mrs. Cadwallader, Celia\n",
    "30. Laure, Lydgate\n",
    "31. Rosamond\n",
    "32. Not a quotation\n",
    "33. Dorothea\n",
    "34. Lydgate\n",
    "35. Dorothea\n",
    "36. Dorothea\n",
    "37. Not a quotation. \n",
    "38. Not a quotation. \n",
    "39. Fred, Mary\n",
    "40. Dorothea\n",
    "\n",
    "Stats: Dorothea, 10; Rosamond: 2; Fred, 1; Mary: 4; Lydgate: 4\n",
    "13 Non-quotations. "
   ]
  },
  {
   "cell_type": "code",
   "execution_count": 5,
   "metadata": {
    "collapsed": false
   },
   "outputs": [
    {
     "data": {
      "text/plain": [
       "1.5050167224080269"
      ]
     },
     "execution_count": 5,
     "metadata": {},
     "output_type": "execute_result"
    }
   ],
   "source": [
    "# Adjusted for non-quotations, this is the percentage of quotations \n",
    "# that overlap with dialogue: \n",
    "((40-13)/1794)*100"
   ]
  },
  {
   "cell_type": "code",
   "execution_count": null,
   "metadata": {
    "collapsed": true
   },
   "outputs": [],
   "source": []
  }
 ],
 "metadata": {
  "kernelspec": {
   "display_name": "Python 3",
   "language": "python",
   "name": "python3"
  },
  "language_info": {
   "codemirror_mode": {
    "name": "ipython",
    "version": 3
   },
   "file_extension": ".py",
   "mimetype": "text/x-python",
   "name": "python",
   "nbconvert_exporter": "python",
   "pygments_lexer": "ipython3",
   "version": "3.6.0"
  }
 },
 "nbformat": 4,
 "nbformat_minor": 2
}
