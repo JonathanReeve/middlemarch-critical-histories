{
 "cells": [
  {
   "cell_type": "markdown",
   "metadata": {},
   "source": [
    "# Experiment 0 Annotator\n",
    "\n",
    "This annotates the text with the number of times that passage has been quoted. "
   ]
  },
  {
   "cell_type": "code",
   "execution_count": 1,
   "metadata": {
    "collapsed": true
   },
   "outputs": [],
   "source": [
    "import pandas as pd\n",
    "import nltk\n",
    "%matplotlib inline\n",
    "from ast import literal_eval\n",
    "import numpy as np\n",
    "import re\n",
    "from matplotlib import pyplot as plt\n",
    "from colour import Color\n",
    "from IPython.core.display import HTML\n",
    "plt.rcParams[\"figure.figsize\"] = [16, 6]"
   ]
  },
  {
   "cell_type": "code",
   "execution_count": 2,
   "metadata": {
    "collapsed": false
   },
   "outputs": [],
   "source": [
    "df = pd.read_csv('e0a/log.txt')"
   ]
  },
  {
   "cell_type": "code",
   "execution_count": 3,
   "metadata": {
    "collapsed": true
   },
   "outputs": [],
   "source": [
    "# Adapted from text-matcher\n",
    "class Text: \n",
    "    def __init__(self, filename): \n",
    "        self.filename = filename\n",
    "        \n",
    "    @property\n",
    "    def text(self):\n",
    "        \"\"\" Reads the file in memory. \"\"\"\n",
    "        f = open(self.filename, encoding='utf-8', errors='ignore')\n",
    "        return f.read() \n",
    "\n",
    "    @property\n",
    "    def tokens(self, removeStopwords=True): \n",
    "        \"\"\" Tokenizes the text, breaking it up into words, removing punctuation. \"\"\"\n",
    "        tokenizer = nltk.RegexpTokenizer('[a-zA-Z]\\w+\\'?\\w*') # A custom regex tokenizer. \n",
    "        spans = list(tokenizer.span_tokenize(self.text))\n",
    "        # Take note of how many spans there are in the text\n",
    "        self.length = spans[-1][-1] \n",
    "        tokens = tokenizer.tokenize(self.text)\n",
    "        tokens = [ token.lower() for token in tokens ] # make them lowercase\n",
    "        if not removeStopwords: \n",
    "            self.spans = spans\n",
    "            return tokens\n",
    "        tokenSpans = list(zip(tokens, spans)) # zip it up\n",
    "        stopwords = nltk.corpus.stopwords.words('english') # get stopwords\n",
    "        tokenSpans = [ token for token in tokenSpans if token[0] not in stopwords ] # remove stopwords from zip\n",
    "        self.spans = [ x[1] for x in tokenSpans ] # unzip; get spans\n",
    "        return [ x[0] for x in tokenSpans ] # unzip; get tokens"
   ]
  },
  {
   "cell_type": "code",
   "execution_count": 4,
   "metadata": {
    "collapsed": false
   },
   "outputs": [],
   "source": [
    "mm = Text('middlemarch.txt')"
   ]
  },
  {
   "cell_type": "code",
   "execution_count": 5,
   "metadata": {
    "collapsed": false
   },
   "outputs": [],
   "source": [
    "# Get the size of the text. \n",
    "textALength = df['Text A Length'][0]\n",
    "\n",
    "# Make an empty array the size of the text. \n",
    "tally = np.zeros(textALength, dtype=np.int)"
   ]
  },
  {
   "cell_type": "code",
   "execution_count": 6,
   "metadata": {
    "collapsed": false
   },
   "outputs": [],
   "source": [
    "# Read the locations from the CSV file, and literally evaluate them into lists. \n",
    "locations = df['Locations in A']\n",
    "locations = locations.apply(literal_eval)"
   ]
  },
  {
   "cell_type": "code",
   "execution_count": 7,
   "metadata": {
    "collapsed": true
   },
   "outputs": [],
   "source": [
    "# Tally up every time a letter in the novel is quoted. \n",
    "for article in locations: \n",
    "    for locRange in article: \n",
    "         for i in range(locRange[0], locRange[1]+1):\n",
    "                tally[i] += 1"
   ]
  },
  {
   "cell_type": "code",
   "execution_count": 8,
   "metadata": {
    "collapsed": false
   },
   "outputs": [
    {
     "data": {
      "text/plain": [
       "15"
      ]
     },
     "execution_count": 8,
     "metadata": {},
     "output_type": "execute_result"
    }
   ],
   "source": [
    "# Make a color list in hex for all the values in the tally. \n",
    "# Let's hope there aren't too many. \n",
    "colors = list(Color(\"blue\").range_to(Color(\"red\"),tally.max()+1))\n",
    "colorList = [color.get_hex() for color in colors]\n",
    "len(colorList)"
   ]
  },
  {
   "cell_type": "code",
   "execution_count": 9,
   "metadata": {
    "collapsed": false
   },
   "outputs": [
    {
     "data": {
      "text/plain": [
       "'.c-0 { color: #00f; }\\n.c-1 { color: #0049ff; }\\n.c-2 { color: #0092ff; }\\n.c-3 { color: #00dbff; }\\n.c-4 { color: #00ffdb; }\\n.c-5 { color: #00ff92; }\\n.c-6 { color: #00ff49; }\\n.c-7 { color: #0f0; }\\n.c-8 { color: #49ff00; }\\n.c-9 { color: #92ff00; }\\n.c-10 { color: #dbff00; }\\n.c-11 { color: #ffdb00; }\\n.c-12 { color: #ff9200; }\\n.c-13 { color: #ff4900; }\\n.c-14 { color: #f00; }\\n'"
      ]
     },
     "execution_count": 9,
     "metadata": {},
     "output_type": "execute_result"
    }
   ],
   "source": [
    "# Create a CSS Stylesheet for each color value in the map. \n",
    "colorCSS = \"\"\n",
    "for i, color in zip(range(0, tally.max()+1), colorList): \n",
    "    colorCSS += \".c-%s { color: %s; }\\n\" % (i, color)\n",
    "colorCSS"
   ]
  },
  {
   "cell_type": "code",
   "execution_count": 10,
   "metadata": {
    "collapsed": false
   },
   "outputs": [],
   "source": [
    "n = 20\n",
    "\n",
    "checkpoints = np.linspace(0, textALength, n).round()\n",
    "checkpoints = [int(point) for point in checkpoints]"
   ]
  },
  {
   "cell_type": "code",
   "execution_count": 11,
   "metadata": {
    "collapsed": false
   },
   "outputs": [],
   "source": [
    "def span(val): \n",
    "    return '<span class=\"c-%s\">' % val\n",
    "\n",
    "previousVal = None\n",
    "for i, valChar in enumerate(zip(tally, mm.text)):\n",
    "    val, char = valChar[0], valChar[1]\n",
    "    if previousVal == None: \n",
    "        # First character. \n",
    "        out = '<span class=\"c-%s\">' % val\n",
    "    elif val != previousVal: \n",
    "        out += '</span><span class=\"c-%s\">' % val\n",
    "    if i in checkpoints: \n",
    "        out += '<a name=\"b-%s\"></a>' % checkpoints.index(i)\n",
    "    out += char\n",
    "    previousVal = val"
   ]
  },
  {
   "cell_type": "code",
   "execution_count": 12,
   "metadata": {
    "collapsed": false
   },
   "outputs": [
    {
     "data": {
      "text/plain": [
       "'<span class=\"c-0\"><a name=\"b-0\"></a>\\ufeff\\nMiddlemarch\\n\\n\\nBy\\n\\nGeorge Eliot\\n\\n\\n\\nPRELUDE\\n\\n\\nWho that </span><span class=\"c-4\">cares much to know </span><span class=\"c-3\">the history of man, and how the mysterious\\nmixture behaves under the varying experiments of Time, has not dwelt,\\nat least briefly, on the life </span><span class=\"c-1\">of Saint Theresa, has not smiled with\\nsome gentleness at the thought of the little girl walking forth one\\nmorning hand-in-hand with her still smaller brother, to go and seek\\nmartyrdom in the country of the Moors?  Out they </span><span class=\"c-2\">toddled </span><span class=\"c-1\">from rugged\\nAvila, wide-eyed and </span><span class=\"c-2\">helpless-looking as two fawns, but with human\\n</span><span class=\"c-1\">hearts, already </span><span class=\"c-2\">beating to a national idea; until </span><span class=\"c-3\">domestic reality met\\nthem in the shape of uncles, and turned them back </span><span class=\"c-1\">from their great\\nresolve.  That child-pilgrimage was a fit beginning.  </span><span class=\"c-2\">Theresa\\'s\\n</span><span class=\"c-5\">passionate, ideal nature </span><span class=\"c-6\">demanded </span><span class=\"c-2\">an epic life: what were many-volumed\\n</span><span class=\"c-3\">romances of chivalry </span><span class=\"c-2\">and the social conquests of a brilliant girl to\\nher?  Her </span><span class=\"c-3\">flame quickly burned up that light fuel; and, </span><span class=\"c-4\">fed from\\nwithin, </span><span class=\"c-5\">soared after some illimitable satisfaction, some </span><span class=\"c-6\">object which\\nwould never justify weariness, which </span><span class=\"c-7\">would reconcile </span><span class=\"c-6\">self-despair </span><span class=\"c-5\">with\\nthe </span><span class=\"c-6\">rapturous consciousness of life </span><span class=\"c-2\">beyond self.  She found her epos in\\nthe reform </span><span class=\"c-1\">of a religious order.\\n\\nThat Spanish woman who lived three hundred years ago, was certainly not\\nthe last of her kind.  </span><span class=\"c-4\">Many Theresas'"
      ]
     },
     "execution_count": 12,
     "metadata": {},
     "output_type": "execute_result"
    }
   ],
   "source": [
    "out[:2000]"
   ]
  },
  {
   "cell_type": "code",
   "execution_count": 13,
   "metadata": {
    "collapsed": false
   },
   "outputs": [
    {
     "data": {
      "text/html": [
       "<div>\n",
       "<table border=\"1\" class=\"dataframe\">\n",
       "  <thead>\n",
       "    <tr style=\"text-align: right;\">\n",
       "      <th></th>\n",
       "      <th>0</th>\n",
       "      <th>1</th>\n",
       "      <th>2</th>\n",
       "      <th>3</th>\n",
       "      <th>4</th>\n",
       "      <th>5</th>\n",
       "      <th>6</th>\n",
       "      <th>7</th>\n",
       "      <th>8</th>\n",
       "      <th>9</th>\n",
       "      <th>10</th>\n",
       "      <th>11</th>\n",
       "      <th>12</th>\n",
       "      <th>13</th>\n",
       "      <th>14</th>\n",
       "      <th>15</th>\n",
       "      <th>16</th>\n",
       "      <th>17</th>\n",
       "      <th>18</th>\n",
       "      <th>19</th>\n",
       "    </tr>\n",
       "  </thead>\n",
       "  <tbody>\n",
       "    <tr>\n",
       "      <th>1950.0</th>\n",
       "      <td>8</td>\n",
       "      <td>2</td>\n",
       "      <td>0</td>\n",
       "      <td>0</td>\n",
       "      <td>5</td>\n",
       "      <td>4</td>\n",
       "      <td>6</td>\n",
       "      <td>1</td>\n",
       "      <td>3</td>\n",
       "      <td>0</td>\n",
       "      <td>3</td>\n",
       "      <td>7</td>\n",
       "      <td>0</td>\n",
       "      <td>0</td>\n",
       "      <td>5</td>\n",
       "      <td>0</td>\n",
       "      <td>0</td>\n",
       "      <td>5</td>\n",
       "      <td>24</td>\n",
       "      <td>27</td>\n",
       "    </tr>\n",
       "    <tr>\n",
       "      <th>1960.0</th>\n",
       "      <td>7</td>\n",
       "      <td>2</td>\n",
       "      <td>1</td>\n",
       "      <td>10</td>\n",
       "      <td>11</td>\n",
       "      <td>9</td>\n",
       "      <td>6</td>\n",
       "      <td>1</td>\n",
       "      <td>2</td>\n",
       "      <td>0</td>\n",
       "      <td>1</td>\n",
       "      <td>7</td>\n",
       "      <td>0</td>\n",
       "      <td>1</td>\n",
       "      <td>0</td>\n",
       "      <td>2</td>\n",
       "      <td>4</td>\n",
       "      <td>6</td>\n",
       "      <td>23</td>\n",
       "      <td>21</td>\n",
       "    </tr>\n",
       "    <tr>\n",
       "      <th>1970.0</th>\n",
       "      <td>54</td>\n",
       "      <td>20</td>\n",
       "      <td>3</td>\n",
       "      <td>18</td>\n",
       "      <td>16</td>\n",
       "      <td>11</td>\n",
       "      <td>20</td>\n",
       "      <td>1</td>\n",
       "      <td>9</td>\n",
       "      <td>4</td>\n",
       "      <td>7</td>\n",
       "      <td>6</td>\n",
       "      <td>5</td>\n",
       "      <td>5</td>\n",
       "      <td>5</td>\n",
       "      <td>2</td>\n",
       "      <td>1</td>\n",
       "      <td>9</td>\n",
       "      <td>12</td>\n",
       "      <td>20</td>\n",
       "    </tr>\n",
       "    <tr>\n",
       "      <th>1980.0</th>\n",
       "      <td>50</td>\n",
       "      <td>13</td>\n",
       "      <td>17</td>\n",
       "      <td>38</td>\n",
       "      <td>27</td>\n",
       "      <td>10</td>\n",
       "      <td>18</td>\n",
       "      <td>5</td>\n",
       "      <td>11</td>\n",
       "      <td>14</td>\n",
       "      <td>8</td>\n",
       "      <td>6</td>\n",
       "      <td>7</td>\n",
       "      <td>7</td>\n",
       "      <td>3</td>\n",
       "      <td>4</td>\n",
       "      <td>0</td>\n",
       "      <td>11</td>\n",
       "      <td>23</td>\n",
       "      <td>21</td>\n",
       "    </tr>\n",
       "    <tr>\n",
       "      <th>1990.0</th>\n",
       "      <td>51</td>\n",
       "      <td>20</td>\n",
       "      <td>23</td>\n",
       "      <td>50</td>\n",
       "      <td>49</td>\n",
       "      <td>7</td>\n",
       "      <td>13</td>\n",
       "      <td>12</td>\n",
       "      <td>19</td>\n",
       "      <td>11</td>\n",
       "      <td>28</td>\n",
       "      <td>12</td>\n",
       "      <td>6</td>\n",
       "      <td>5</td>\n",
       "      <td>9</td>\n",
       "      <td>8</td>\n",
       "      <td>2</td>\n",
       "      <td>12</td>\n",
       "      <td>28</td>\n",
       "      <td>37</td>\n",
       "    </tr>\n",
       "    <tr>\n",
       "      <th>2000.0</th>\n",
       "      <td>59</td>\n",
       "      <td>21</td>\n",
       "      <td>13</td>\n",
       "      <td>17</td>\n",
       "      <td>19</td>\n",
       "      <td>26</td>\n",
       "      <td>18</td>\n",
       "      <td>27</td>\n",
       "      <td>9</td>\n",
       "      <td>8</td>\n",
       "      <td>12</td>\n",
       "      <td>13</td>\n",
       "      <td>11</td>\n",
       "      <td>6</td>\n",
       "      <td>8</td>\n",
       "      <td>3</td>\n",
       "      <td>8</td>\n",
       "      <td>9</td>\n",
       "      <td>12</td>\n",
       "      <td>16</td>\n",
       "    </tr>\n",
       "    <tr>\n",
       "      <th>2010.0</th>\n",
       "      <td>53</td>\n",
       "      <td>13</td>\n",
       "      <td>3</td>\n",
       "      <td>12</td>\n",
       "      <td>15</td>\n",
       "      <td>15</td>\n",
       "      <td>10</td>\n",
       "      <td>6</td>\n",
       "      <td>7</td>\n",
       "      <td>3</td>\n",
       "      <td>4</td>\n",
       "      <td>2</td>\n",
       "      <td>5</td>\n",
       "      <td>11</td>\n",
       "      <td>3</td>\n",
       "      <td>11</td>\n",
       "      <td>2</td>\n",
       "      <td>11</td>\n",
       "      <td>13</td>\n",
       "      <td>23</td>\n",
       "    </tr>\n",
       "  </tbody>\n",
       "</table>\n",
       "</div>"
      ],
      "text/plain": [
       "        0   1   2   3   4   5   6   7   8   9   10  11  12  13  14  15  16  \\\n",
       "1950.0   8   2   0   0   5   4   6   1   3   0   3   7   0   0   5   0   0   \n",
       "1960.0   7   2   1  10  11   9   6   1   2   0   1   7   0   1   0   2   4   \n",
       "1970.0  54  20   3  18  16  11  20   1   9   4   7   6   5   5   5   2   1   \n",
       "1980.0  50  13  17  38  27  10  18   5  11  14   8   6   7   7   3   4   0   \n",
       "1990.0  51  20  23  50  49   7  13  12  19  11  28  12   6   5   9   8   2   \n",
       "2000.0  59  21  13  17  19  26  18  27   9   8  12  13  11   6   8   3   8   \n",
       "2010.0  53  13   3  12  15  15  10   6   7   3   4   2   5  11   3  11   2   \n",
       "\n",
       "        17  18  19  \n",
       "1950.0   5  24  27  \n",
       "1960.0   6  23  21  \n",
       "1970.0   9  12  20  \n",
       "1980.0  11  23  21  \n",
       "1990.0  12  28  37  \n",
       "2000.0   9  12  16  \n",
       "2010.0  11  13  23  "
      ]
     },
     "execution_count": 13,
     "metadata": {},
     "output_type": "execute_result"
    }
   ],
   "source": [
    "# Get dates\n",
    "def getDate(filename): \n",
    "    \"\"\"\n",
    "    Extract dates from filenames. \n",
    "    \"\"\"\n",
    "    m = re.search('_(\\d{4})_', filename)\n",
    "    if m is not None: \n",
    "        return int(m.group(1))\n",
    "    else:\n",
    "        return None\n",
    "\n",
    "df['Date'] = df['Text B'].apply(getDate)\n",
    "df['Decade'] = df['Date'] - (df['Date'] % 10)\n",
    "\n",
    "# Make a list of valid decades. \n",
    "decades = np.arange(1930, 2020, 10)\n",
    "\n",
    "# Make a dictionary of decades. \n",
    "# Values are a list of locations.  \n",
    "decadeDict = {}\n",
    "for i, row in df.iterrows():\n",
    "    decade = row['Decade']\n",
    "    locations = literal_eval(row['Locations in A'])\n",
    "    if decade not in decadeDict: \n",
    "        decadeDict[decade] = locations\n",
    "    else: \n",
    "        decadeDict[decade] += locations \n",
    "        \n",
    "# Grab the beginnings of quotes. \n",
    "decadeStarts = {decade: [item[0] for item in loc] for decade, loc in decadeDict.items()}\n",
    "\n",
    "decadesBinned = {decade: \n",
    "                 np.histogram(locations, bins=n, range=(0, textALength))[0]\n",
    "                 for decade, locations in decadeStarts.items() if decade in decades}\n",
    "\n",
    "decadesDF = pd.DataFrame(decadesBinned).T\n",
    "decadesDF\n"
   ]
  },
  {
   "cell_type": "code",
   "execution_count": 14,
   "metadata": {
    "collapsed": false
   },
   "outputs": [
    {
     "data": {
      "text/plain": [
       "0     14.0\n",
       "1      5.0\n",
       "2      3.0\n",
       "3      7.0\n",
       "4      7.0\n",
       "5      4.0\n",
       "6      5.0\n",
       "7      3.0\n",
       "8      3.0\n",
       "9      2.0\n",
       "10     3.0\n",
       "11     3.0\n",
       "12     2.0\n",
       "13     2.0\n",
       "14     2.0\n",
       "15     1.0\n",
       "16     1.0\n",
       "17     3.0\n",
       "18     7.0\n",
       "19     8.0\n",
       "dtype: float64"
      ]
     },
     "execution_count": 14,
     "metadata": {},
     "output_type": "execute_result"
    }
   ],
   "source": [
    "# Normalize the totals for each section. \n",
    "normalizedBlocks = decadesDF.sum() / decadesDF.sum().max()\n",
    "\n",
    "# Now use the scale that we're already using for the CSS. \n",
    "normalizedBlocks = round(normalizedBlocks * tally.max())\n",
    "normalizedBlocks"
   ]
  },
  {
   "cell_type": "code",
   "execution_count": 15,
   "metadata": {
    "collapsed": false
   },
   "outputs": [
    {
     "data": {
      "text/plain": [
       "'<section id=\"blocks\"><a href=\"#b-0\"><div class=\"block b-14\"></div></a><a href=\"#b-1\"><div class=\"block b-5\"></div></a><a href=\"#b-2\"><div class=\"block b-3\"></div></a><a href=\"#b-3\"><div class=\"block b-7\"></div></a><a href=\"#b-4\"><div class=\"block b-7\"></div></a><a href=\"#b-5\"><div class=\"block b-4\"></div></a><a href=\"#b-6\"><div class=\"block b-5\"></div></a><a href=\"#b-7\"><div class=\"block b-3\"></div></a><a href=\"#b-8\"><div class=\"block b-3\"></div></a><a href=\"#b-9\"><div class=\"block b-2\"></div></a><a href=\"#b-10\"><div class=\"block b-3\"></div></a><a href=\"#b-11\"><div class=\"block b-3\"></div></a><a href=\"#b-12\"><div class=\"block b-2\"></div></a><a href=\"#b-13\"><div class=\"block b-2\"></div></a><a href=\"#b-14\"><div class=\"block b-2\"></div></a><a href=\"#b-15\"><div class=\"block b-1\"></div></a><a href=\"#b-16\"><div class=\"block b-1\"></div></a><a href=\"#b-17\"><div class=\"block b-3\"></div></a><a href=\"#b-18\"><div class=\"block b-7\"></div></a><a href=\"#b-19\"><div class=\"block b-8\"></div></a></section>'"
      ]
     },
     "execution_count": 15,
     "metadata": {},
     "output_type": "execute_result"
    }
   ],
   "source": [
    "blockHTML = '<section id=\"blocks\">'\n",
    "for i, block in enumerate(normalizedBlocks): \n",
    "    blockHTML += '<a href=\"#b-%s\"><div class=\"block b-%s\"></div></a>' % (i, int(block))\n",
    "blockHTML = blockHTML + \"</section>\"\n",
    "blockHTML"
   ]
  },
  {
   "cell_type": "code",
   "execution_count": 16,
   "metadata": {
    "collapsed": true
   },
   "outputs": [],
   "source": [
    "blockCSS = \"\"\"\n",
    "#blocks { position: fixed; right: 1em; }\n",
    ".block { width: 30px; height: 30px; }\n",
    "\"\"\"\n",
    "\n",
    "for i, color in zip(range(0, tally.max()+1), colorList): \n",
    "    blockCSS += '.b-%s { background-color: %s; }\\n' % (i, color)\n",
    "colorCSS += blockCSS"
   ]
  },
  {
   "cell_type": "code",
   "execution_count": 17,
   "metadata": {
    "collapsed": false
   },
   "outputs": [
    {
     "data": {
      "text/plain": [
       "'.c-0 { color: #00f; }\\n.c-1 { color: #0049ff; }\\n.c-2 { color: #0092ff; }\\n.c-3 { color: #00dbff; }\\n.c-4 { color: #00ffdb; }\\n.c-5 { color: #00ff92; }\\n.c-6 { color: #00ff49; }\\n.c-7 { color: #0f0; }\\n.c-8 { color: #49ff00; }\\n.c-9 { color: #92ff00; }\\n.c-10 { color: #dbff00; }\\n.c-11 { color: #ffdb00; }\\n.c-12 { color: #ff9200; }\\n.c-13 { color: #ff4900; }\\n.c-14 { color: #f00; }\\n\\n#blocks { position: fixed; right: 1em; }\\n.block { width: 30px; height: 30px; }\\n.b-0 { background-color: #00f; }\\n.b-1 { background-color: #0049ff; }\\n.b-2 { background-color: #0092ff; }\\n.b-3 { background-color: #00dbff; }\\n.b-4 { background-color: #00ffdb; }\\n.b-5 { background-color: #00ff92; }\\n.b-6 { background-color: #00ff49; }\\n.b-7 { background-color: #0f0; }\\n.b-8 { background-color: #49ff00; }\\n.b-9 { background-color: #92ff00; }\\n.b-10 { background-color: #dbff00; }\\n.b-11 { background-color: #ffdb00; }\\n.b-12 { background-color: #ff9200; }\\n.b-13 { background-color: #ff4900; }\\n.b-14 { background-color: #f00; }\\n'"
      ]
     },
     "execution_count": 17,
     "metadata": {},
     "output_type": "execute_result"
    }
   ],
   "source": [
    "colorCSS"
   ]
  },
  {
   "cell_type": "code",
   "execution_count": 18,
   "metadata": {
    "collapsed": true
   },
   "outputs": [],
   "source": [
    "html = \"\"\"<!DOCTYPE html><html><head><style>%s</style></head>\n",
    "<body>%s<pre>%s</pre></body></html>\n",
    "\"\"\" % (colorCSS, blockHTML, out)"
   ]
  },
  {
   "cell_type": "code",
   "execution_count": 19,
   "metadata": {
    "collapsed": false
   },
   "outputs": [
    {
     "data": {
      "text/plain": [
       "'<!DOCTYPE html><html><head><style>.c-0 { color: #00f; }\\n.c-1 { color: #0049ff; }\\n.c-2 { color: #0092ff; }\\n.c-3 { color: #00dbff; }\\n.c-4 { color: #00ffdb; }\\n.c-5 { color: #00ff92; }\\n.c-6 { color: #00ff49; }\\n.c-7 { color: #0f0; }\\n.c-8 { color: #49ff00; }\\n.c-9 { color: #92ff00; }\\n.c-10 { color: #dbff00; }\\n.c-11 { color: #ffdb00; }\\n.c-12 { color: #ff9200; }\\n.c-13 { color: #ff4900; }\\n.c-14 { color: #f00; }\\n\\n#blocks { position: fixed; right: 1em; }\\n.block { width: 30px; height: 30px; }\\n.b-0 { background-color: #00f; }\\n.b-1 { background-color: #0049ff; }\\n.b-2 { background-color: #0092ff; }\\n.b-3 { background-color: #00dbff; }\\n.b-4 { background-color: #00ffdb; }\\n.b-5 { background-color: #00ff92; }\\n.b-6 { background-color: #00ff49; }\\n.b-7 { background-color: #0f0; }\\n.b-8 { background-color: #49ff00; }\\n.b-9 { background-color: #92ff00; }\\n.b-10 { background-color: #dbff00; }\\n.b-11 { background-color: #ffdb00; }\\n.b-12 { background-color: #ff9200; }\\n.b-13 { background-color: #ff4900; }\\n.b-14 { backg'"
      ]
     },
     "execution_count": 19,
     "metadata": {},
     "output_type": "execute_result"
    }
   ],
   "source": [
    "html[:1000]"
   ]
  },
  {
   "cell_type": "code",
   "execution_count": 20,
   "metadata": {
    "collapsed": false
   },
   "outputs": [],
   "source": [
    "with open('annotated.html', 'w') as f: \n",
    "    f.write(html)\n",
    "    f.close()"
   ]
  }
 ],
 "metadata": {
  "kernelspec": {
   "display_name": "Python 3",
   "language": "python",
   "name": "python3"
  },
  "language_info": {
   "codemirror_mode": {
    "name": "ipython",
    "version": 3
   },
   "file_extension": ".py",
   "mimetype": "text/x-python",
   "name": "python",
   "nbconvert_exporter": "python",
   "pygments_lexer": "ipython3",
   "version": "3.5.2"
  }
 },
 "nbformat": 4,
 "nbformat_minor": 0
}
