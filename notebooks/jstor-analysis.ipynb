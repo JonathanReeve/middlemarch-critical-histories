{
 "cells": [
  {
   "cell_type": "markdown",
   "metadata": {},
   "source": [
    "# Analysis of Text Matching Data Generated from JSTOR Dataset "
   ]
  },
  {
   "cell_type": "code",
   "execution_count": 3,
   "metadata": {},
   "outputs": [
    {
     "ename": "ModuleNotFoundError",
     "evalue": "No module named 'altair'",
     "output_type": "error",
     "traceback": [
      "\u001b[0;31m---------------------------------------------------------------------------\u001b[0m",
      "\u001b[0;31mModuleNotFoundError\u001b[0m                       Traceback (most recent call last)",
      "\u001b[0;32m<ipython-input-3-3f1a51beabfb>\u001b[0m in \u001b[0;36m<module>\u001b[0;34m()\u001b[0m\n\u001b[1;32m      4\u001b[0m \u001b[0;32mimport\u001b[0m \u001b[0mre\u001b[0m\u001b[0;34m\u001b[0m\u001b[0m\n\u001b[1;32m      5\u001b[0m \u001b[0;32mimport\u001b[0m \u001b[0mjson\u001b[0m\u001b[0;34m\u001b[0m\u001b[0m\n\u001b[0;32m----> 6\u001b[0;31m \u001b[0;32mimport\u001b[0m \u001b[0maltair\u001b[0m \u001b[0;32mas\u001b[0m \u001b[0malt\u001b[0m\u001b[0;34m\u001b[0m\u001b[0m\n\u001b[0m\u001b[1;32m      7\u001b[0m \u001b[0;31m#from nltk.corpus import names\u001b[0m\u001b[0;34m\u001b[0m\u001b[0;34m\u001b[0m\u001b[0m\n\u001b[1;32m      8\u001b[0m \u001b[0;32mfrom\u001b[0m \u001b[0mcollections\u001b[0m \u001b[0;32mimport\u001b[0m \u001b[0mCounter\u001b[0m\u001b[0;34m\u001b[0m\u001b[0m\n",
      "\u001b[0;31mModuleNotFoundError\u001b[0m: No module named 'altair'"
     ]
    }
   ],
   "source": [
    "import pandas as pd\n",
    "import numpy as np\n",
    "#import spacy\n",
    "import re\n",
    "import json\n",
    "import altair as alt\n",
    "#from nltk.corpus import names\n",
    "from collections import Counter\n",
    "from matplotlib import pyplot as plt\n",
    "%matplotlib inline\n",
    "plt.rcParams[\"figure.figsize\"] = [16, 6]\n",
    "plt.style.use('ggplot')"
   ]
  },
  {
   "cell_type": "code",
   "execution_count": null,
   "metadata": {},
   "outputs": [],
   "source": [
    "with open('../middlemarch.txt') as f: \n",
    "    mm = f.read()"
   ]
  },
  {
   "cell_type": "code",
   "execution_count": null,
   "metadata": {},
   "outputs": [],
   "source": [
    "textALength = len(mm) "
   ]
  },
  {
   "cell_type": "code",
   "execution_count": null,
   "metadata": {},
   "outputs": [],
   "source": [
    "# Get chapter locations\n",
    "chapterMatches = re.finditer('PRELUDE|CHAPTER|FINALE', mm)\n",
    "chapterLocations = [match.start() for match in chapterMatches]\n",
    "chapterLocations.append(textALength) # Add one to account for last chunk. \n",
    "len(chapterLocations)"
   ]
  },
  {
   "cell_type": "code",
   "execution_count": null,
   "metadata": {},
   "outputs": [],
   "source": [
    "# Get book locations\n",
    "bookLocations = [match.start() for match in re.finditer('\\nBOOK', mm)]\n",
    "bookLocations = [0] + bookLocations + [textALength] # Add one to account for last chunk.\n",
    "bookLocations"
   ]
  },
  {
   "cell_type": "code",
   "execution_count": 4,
   "metadata": {},
   "outputs": [],
   "source": [
    "def getChapters(text): \n",
    "    chapters = []\n",
    "    for i, loc in enumerate(chapterLocations): \n",
    "        if i != len(chapterLocations)-1: \n",
    "            chapter = mm[loc:chapterLocations[i+1]]\n",
    "            chapters.append(chapter)\n",
    "    return chapters"
   ]
  },
  {
   "cell_type": "code",
   "execution_count": 5,
   "metadata": {},
   "outputs": [
    {
     "ename": "NameError",
     "evalue": "name 'mm' is not defined",
     "output_type": "error",
     "traceback": [
      "\u001b[0;31m---------------------------------------------------------------------------\u001b[0m",
      "\u001b[0;31mNameError\u001b[0m                                 Traceback (most recent call last)",
      "\u001b[0;32m<ipython-input-5-560a218e09a9>\u001b[0m in \u001b[0;36m<module>\u001b[0;34m()\u001b[0m\n\u001b[0;32m----> 1\u001b[0;31m \u001b[0mchapters\u001b[0m \u001b[0;34m=\u001b[0m \u001b[0mgetChapters\u001b[0m\u001b[0;34m(\u001b[0m\u001b[0mmm\u001b[0m\u001b[0;34m)\u001b[0m\u001b[0;34m\u001b[0m\u001b[0m\n\u001b[0m\u001b[1;32m      2\u001b[0m \u001b[0mchapterLengths\u001b[0m \u001b[0;34m=\u001b[0m \u001b[0;34m[\u001b[0m\u001b[0mlen\u001b[0m\u001b[0;34m(\u001b[0m\u001b[0mchapter\u001b[0m\u001b[0;34m.\u001b[0m\u001b[0msplit\u001b[0m\u001b[0;34m(\u001b[0m\u001b[0;34m)\u001b[0m\u001b[0;34m)\u001b[0m \u001b[0;32mfor\u001b[0m \u001b[0mchapter\u001b[0m \u001b[0;32min\u001b[0m \u001b[0mchapters\u001b[0m\u001b[0;34m]\u001b[0m\u001b[0;34m\u001b[0m\u001b[0m\n\u001b[1;32m      3\u001b[0m \u001b[0mchapterLengthsSeries\u001b[0m \u001b[0;34m=\u001b[0m \u001b[0mpd\u001b[0m\u001b[0;34m.\u001b[0m\u001b[0mSeries\u001b[0m\u001b[0;34m(\u001b[0m\u001b[0mchapterLengths\u001b[0m\u001b[0;34m)\u001b[0m\u001b[0;34m\u001b[0m\u001b[0m\n\u001b[1;32m      4\u001b[0m \u001b[0mchapterLengthsSeries\u001b[0m\u001b[0;34m.\u001b[0m\u001b[0mplot\u001b[0m\u001b[0;34m(\u001b[0m\u001b[0mkind\u001b[0m\u001b[0;34m=\u001b[0m\u001b[0;34m'bar'\u001b[0m\u001b[0;34m,\u001b[0m \u001b[0mtitle\u001b[0m\u001b[0;34m=\u001b[0m\u001b[0;34m'Chapter Lengths'\u001b[0m\u001b[0;34m)\u001b[0m\u001b[0;34m\u001b[0m\u001b[0m\n",
      "\u001b[0;31mNameError\u001b[0m: name 'mm' is not defined"
     ]
    }
   ],
   "source": [
    "chapters = getChapters(mm)\n",
    "chapterLengths = [len(chapter.split()) for chapter in chapters]\n",
    "chapterLengthsSeries = pd.Series(chapterLengths)\n",
    "chapterLengthsSeries.plot(kind='bar', title='Chapter Lengths')"
   ]
  },
  {
   "cell_type": "code",
   "execution_count": 6,
   "metadata": {},
   "outputs": [],
   "source": [
    "df = pd.read_json('../data/e3.json')"
   ]
  },
  {
   "cell_type": "code",
   "execution_count": 7,
   "metadata": {},
   "outputs": [],
   "source": [
    "df['Decade'] = df['year'] - (df['year'] % 10)\n",
    "# df['Locations in A'] = df['matches'].apply(lambda x: x[1])\n",
    "# df['NumMatches'] = df['matches'].apply(lambda x: x[0])"
   ]
  },
  {
   "cell_type": "code",
   "execution_count": 8,
   "metadata": {},
   "outputs": [
    {
     "data": {
      "text/plain": [
       "1794"
      ]
     },
     "execution_count": 8,
     "metadata": {},
     "output_type": "execute_result"
    }
   ],
   "source": [
    "sum([len(item) for item in df['Locations in A'].values])"
   ]
  },
  {
   "cell_type": "markdown",
   "metadata": {},
   "source": [
    "# How many articles do we have? "
   ]
  },
  {
   "cell_type": "code",
   "execution_count": 9,
   "metadata": {},
   "outputs": [
    {
     "data": {
      "text/plain": [
       "6069"
      ]
     },
     "execution_count": 9,
     "metadata": {},
     "output_type": "execute_result"
    }
   ],
   "source": [
    "len(df) # Total articles with \"Middlemarch\" mentioned somewhere"
   ]
  },
  {
   "cell_type": "markdown",
   "metadata": {},
   "source": [
    "Find only those with non-trivial quotations from Middlemarch: "
   ]
  },
  {
   "cell_type": "code",
   "execution_count": 10,
   "metadata": {},
   "outputs": [
    {
     "data": {
      "text/plain": [
       "count     489.000000\n",
       "mean     1991.871166\n",
       "std        18.477106\n",
       "min      1873.000000\n",
       "25%      1980.000000\n",
       "50%      1995.000000\n",
       "75%      2007.000000\n",
       "max      2016.000000\n",
       "Name: year, dtype: float64"
      ]
     },
     "execution_count": 10,
     "metadata": {},
     "output_type": "execute_result"
    }
   ],
   "source": [
    "articlesWithMatches = df[df['Locations in A'].apply(lambda x: len(x) > 0)]\n",
    "articlesWithMatches.year.describe()"
   ]
  },
  {
   "cell_type": "code",
   "execution_count": 11,
   "metadata": {},
   "outputs": [
    {
     "data": {
      "text/plain": [
       "0       17\n",
       "10      12\n",
       "100      3\n",
       "1000     2\n",
       "1008     2\n",
       "Name: Wordcounts, dtype: int64"
      ]
     },
     "execution_count": 11,
     "metadata": {},
     "output_type": "execute_result"
    }
   ],
   "source": [
    "articlesWithMatches.Wordcounts.apply(len).head()"
   ]
  },
  {
   "cell_type": "code",
   "execution_count": 12,
   "metadata": {},
   "outputs": [],
   "source": [
    "# articlesWithMatches.to_json('../data/cleaned-matches.json')"
   ]
  },
  {
   "cell_type": "markdown",
   "metadata": {},
   "source": [
    "## How many articles do we have published in each year? "
   ]
  },
  {
   "cell_type": "code",
   "execution_count": 13,
   "metadata": {},
   "outputs": [
    {
     "ename": "NameError",
     "evalue": "name 'alt' is not defined",
     "output_type": "error",
     "traceback": [
      "\u001b[0;31m---------------------------------------------------------------------------\u001b[0m",
      "\u001b[0;31mNameError\u001b[0m                                 Traceback (most recent call last)",
      "\u001b[0;32m<ipython-input-13-9c65a1333e48>\u001b[0m in \u001b[0;36m<module>\u001b[0;34m()\u001b[0m\n\u001b[0;32m----> 1\u001b[0;31m \u001b[0malt\u001b[0m\u001b[0;34m.\u001b[0m\u001b[0mChart\u001b[0m\u001b[0;34m(\u001b[0m\u001b[0marticlesWithMatches\u001b[0m\u001b[0;34m)\u001b[0m\u001b[0;34m.\u001b[0m\u001b[0mmark_bar\u001b[0m\u001b[0;34m(\u001b[0m\u001b[0;34m)\u001b[0m\u001b[0;34m.\u001b[0m\u001b[0mencode\u001b[0m\u001b[0;34m(\u001b[0m\u001b[0mx\u001b[0m\u001b[0;34m=\u001b[0m\u001b[0;34m'year:O'\u001b[0m\u001b[0;34m,\u001b[0m \u001b[0my\u001b[0m\u001b[0;34m=\u001b[0m\u001b[0;34m'count()'\u001b[0m\u001b[0;34m)\u001b[0m\u001b[0;34m.\u001b[0m\u001b[0mproperties\u001b[0m\u001b[0;34m(\u001b[0m\u001b[0mwidth\u001b[0m\u001b[0;34m=\u001b[0m\u001b[0;36m1000\u001b[0m\u001b[0;34m)\u001b[0m\u001b[0;34m\u001b[0m\u001b[0m\n\u001b[0m",
      "\u001b[0;31mNameError\u001b[0m: name 'alt' is not defined"
     ]
    }
   ],
   "source": [
    "alt.Chart(articlesWithMatches).mark_bar().encode(x='year:O', y='count()').properties(width=1000)"
   ]
  },
  {
   "cell_type": "code",
   "execution_count": 14,
   "metadata": {},
   "outputs": [
    {
     "data": {
      "text/plain": [
       "Index(['Locations in A', 'Locations in B', 'author', 'coverdate', 'disc_name',\n",
       "       'doi', 'id', 'jcode', 'journal', 'la', 'no', 'numMatches', 'pages',\n",
       "       'publisher_name', 'sp', 'srcHtml', 'title', 'topics', 'ty', 'vo',\n",
       "       'year', 'Decade', 'Quoted Words', 'Locations in A with Wordcounts',\n",
       "       'Wordcounts'],\n",
       "      dtype='object')"
      ]
     },
     "execution_count": 14,
     "metadata": {},
     "output_type": "execute_result"
    }
   ],
   "source": [
    "df.columns"
   ]
  },
  {
   "cell_type": "code",
   "execution_count": 15,
   "metadata": {},
   "outputs": [
    {
     "data": {
      "text/plain": [
       "[Language & Literature, Humanities]                                                     201\n",
       "[Language & Literature]                                                                  72\n",
       "[Humanities, Language & Literature]                                                      59\n",
       "[Language & Literature, History, British Studies, History, Area Studies, Humanities]     15\n",
       "[Area Studies, British Studies, Humanities, Language & Literature]                        9\n",
       "Name: disc_name, dtype: int64"
      ]
     },
     "execution_count": 15,
     "metadata": {},
     "output_type": "execute_result"
    }
   ],
   "source": [
    "df[df['Quoted Words'] > 0]['disc_name'].value_counts().head()"
   ]
  },
  {
   "cell_type": "markdown",
   "metadata": {},
   "source": [
    "## Find Number of Garbage Articles\n",
    "I.e., articles that just contain front matter, contents, etc. "
   ]
  },
  {
   "cell_type": "code",
   "execution_count": 16,
   "metadata": {},
   "outputs": [],
   "source": [
    "def isGarbage(itemTitle): \n",
    "    badTitles = ['front matter', 'back matter', 'table of contents', 'cover']\n",
    "    if itemTitle == None: \n",
    "        return False\n",
    "    for title in itemTitle: \n",
    "        for badTitle in badTitles: \n",
    "            if badTitle in title.lower(): \n",
    "                return True\n",
    "    return False"
   ]
  },
  {
   "cell_type": "code",
   "execution_count": 17,
   "metadata": {},
   "outputs": [
    {
     "data": {
      "text/plain": [
       "457"
      ]
     },
     "execution_count": 17,
     "metadata": {},
     "output_type": "execute_result"
    }
   ],
   "source": [
    "len(df[df.title.apply(isGarbage)]) # How many garbage items? "
   ]
  },
  {
   "cell_type": "markdown",
   "metadata": {},
   "source": [
    "# Average Numbers of Quoted Words Per Item"
   ]
  },
  {
   "cell_type": "code",
   "execution_count": 18,
   "metadata": {},
   "outputs": [
    {
     "data": {
      "text/plain": [
       "count    6069.000000\n",
       "mean       19.240896\n",
       "std       105.153455\n",
       "min         0.000000\n",
       "25%         0.000000\n",
       "50%         0.000000\n",
       "75%         0.000000\n",
       "max      2498.000000\n",
       "Name: Quoted Words, dtype: float64"
      ]
     },
     "execution_count": 18,
     "metadata": {},
     "output_type": "execute_result"
    }
   ],
   "source": [
    "df['Quoted Words'].describe()"
   ]
  },
  {
   "cell_type": "code",
   "execution_count": 19,
   "metadata": {},
   "outputs": [
    {
     "data": {
      "text/plain": [
       "count     489.000000\n",
       "mean      238.799591\n",
       "std       291.466263\n",
       "min        13.000000\n",
       "25%        68.000000\n",
       "50%       141.000000\n",
       "75%       281.000000\n",
       "max      2498.000000\n",
       "Name: Quoted Words, dtype: float64"
      ]
     },
     "execution_count": 19,
     "metadata": {},
     "output_type": "execute_result"
    }
   ],
   "source": [
    "articlesWithMatches['Quoted Words'].describe()"
   ]
  },
  {
   "cell_type": "code",
   "execution_count": 20,
   "metadata": {},
   "outputs": [
    {
     "data": {
      "text/plain": [
       "489"
      ]
     },
     "execution_count": 20,
     "metadata": {},
     "output_type": "execute_result"
    }
   ],
   "source": [
    "len(df[df['Quoted Words'] > 0])"
   ]
  },
  {
   "cell_type": "code",
   "execution_count": 21,
   "metadata": {},
   "outputs": [
    {
     "ename": "ModuleNotFoundError",
     "evalue": "No module named 'matplotlib'",
     "output_type": "error",
     "traceback": [
      "\u001b[0;31m---------------------------------------------------------------------------\u001b[0m",
      "\u001b[0;31mModuleNotFoundError\u001b[0m                       Traceback (most recent call last)",
      "\u001b[0;32m<ipython-input-21-606aed2e52f7>\u001b[0m in \u001b[0;36m<module>\u001b[0;34m()\u001b[0m\n\u001b[0;32m----> 1\u001b[0;31m \u001b[0marticlesWithMatches\u001b[0m\u001b[0;34m[\u001b[0m\u001b[0;34m'Quoted Words'\u001b[0m\u001b[0;34m]\u001b[0m\u001b[0;34m.\u001b[0m\u001b[0mhist\u001b[0m\u001b[0;34m(\u001b[0m\u001b[0;34m)\u001b[0m\u001b[0;34m\u001b[0m\u001b[0m\n\u001b[0m",
      "\u001b[0;32m/usr/local/lib/python3.7/site-packages/pandas/plotting/_core.py\u001b[0m in \u001b[0;36mhist_series\u001b[0;34m(self, by, ax, grid, xlabelsize, xrot, ylabelsize, yrot, figsize, bins, **kwds)\u001b[0m\n\u001b[1;32m   2461\u001b[0m \u001b[0;34m\u001b[0m\u001b[0m\n\u001b[1;32m   2462\u001b[0m     \"\"\"\n\u001b[0;32m-> 2463\u001b[0;31m     \u001b[0;32mimport\u001b[0m \u001b[0mmatplotlib\u001b[0m\u001b[0;34m.\u001b[0m\u001b[0mpyplot\u001b[0m \u001b[0;32mas\u001b[0m \u001b[0mplt\u001b[0m\u001b[0;34m\u001b[0m\u001b[0m\n\u001b[0m\u001b[1;32m   2464\u001b[0m \u001b[0;34m\u001b[0m\u001b[0m\n\u001b[1;32m   2465\u001b[0m     \u001b[0;32mif\u001b[0m \u001b[0mby\u001b[0m \u001b[0;32mis\u001b[0m \u001b[0;32mNone\u001b[0m\u001b[0;34m:\u001b[0m\u001b[0;34m\u001b[0m\u001b[0m\n",
      "\u001b[0;31mModuleNotFoundError\u001b[0m: No module named 'matplotlib'"
     ]
    }
   ],
   "source": [
    "articlesWithMatches['Quoted Words'].hist()"
   ]
  },
  {
   "cell_type": "markdown",
   "metadata": {},
   "source": [
    "## Stats about Wordcounts\n",
    "\n",
    "Average number of words per match, per item: "
   ]
  },
  {
   "cell_type": "code",
   "execution_count": 22,
   "metadata": {},
   "outputs": [
    {
     "data": {
      "text/plain": [
       "0        67.235294\n",
       "10       62.416667\n",
       "100      34.666667\n",
       "1000     97.500000\n",
       "1008    113.500000\n",
       "Name: Wordcounts, dtype: float64"
      ]
     },
     "execution_count": 22,
     "metadata": {},
     "output_type": "execute_result"
    }
   ],
   "source": [
    "articlesWithMatches['Wordcounts'].apply(np.mean).head()"
   ]
  },
  {
   "cell_type": "code",
   "execution_count": 23,
   "metadata": {},
   "outputs": [
    {
     "data": {
      "text/plain": [
       "count    489.000000\n",
       "mean      69.712270\n",
       "std       50.153803\n",
       "min       13.000000\n",
       "25%       37.000000\n",
       "50%       58.500000\n",
       "75%       86.000000\n",
       "max      435.333333\n",
       "Name: Wordcounts, dtype: float64"
      ]
     },
     "execution_count": 23,
     "metadata": {},
     "output_type": "execute_result"
    }
   ],
   "source": [
    "articlesWithMatches['Wordcounts'].apply(np.mean).describe()"
   ]
  },
  {
   "cell_type": "code",
   "execution_count": 24,
   "metadata": {},
   "outputs": [
    {
     "ename": "NameError",
     "evalue": "name 'chapterLocations' is not defined",
     "output_type": "error",
     "traceback": [
      "\u001b[0;31m---------------------------------------------------------------------------\u001b[0m",
      "\u001b[0;31mNameError\u001b[0m                                 Traceback (most recent call last)",
      "\u001b[0;32m<ipython-input-24-a3c2130ae7cd>\u001b[0m in \u001b[0;36m<module>\u001b[0;34m()\u001b[0m\n\u001b[0;32m----> 1\u001b[0;31m \u001b[0;32mdef\u001b[0m \u001b[0mdiachronicAnalysis\u001b[0m\u001b[0;34m(\u001b[0m\u001b[0mdf\u001b[0m\u001b[0;34m,\u001b[0m \u001b[0mdecades\u001b[0m\u001b[0;34m=\u001b[0m\u001b[0;34m(\u001b[0m\u001b[0;36m1950\u001b[0m\u001b[0;34m,\u001b[0m \u001b[0;36m2020\u001b[0m\u001b[0;34m)\u001b[0m\u001b[0;34m,\u001b[0m \u001b[0mbins\u001b[0m\u001b[0;34m=\u001b[0m\u001b[0mchapterLocations\u001b[0m\u001b[0;34m,\u001b[0m \u001b[0museWordcounts\u001b[0m\u001b[0;34m=\u001b[0m\u001b[0;32mTrue\u001b[0m\u001b[0;34m,\u001b[0m \u001b[0mnormalize\u001b[0m\u001b[0;34m=\u001b[0m\u001b[0;32mTrue\u001b[0m\u001b[0;34m)\u001b[0m\u001b[0;34m:\u001b[0m\u001b[0;34m\u001b[0m\u001b[0m\n\u001b[0m\u001b[1;32m      2\u001b[0m     \"\"\" Turning on useWordcounts makes it so that it's weighted by wordcount. \n\u001b[1;32m      3\u001b[0m     Turning it off uses raw numbers of quotations. \"\"\"\n\u001b[1;32m      4\u001b[0m     \u001b[0mdecades\u001b[0m \u001b[0;34m=\u001b[0m \u001b[0mnp\u001b[0m\u001b[0;34m.\u001b[0m\u001b[0marange\u001b[0m\u001b[0;34m(\u001b[0m\u001b[0mdecades\u001b[0m\u001b[0;34m[\u001b[0m\u001b[0;36m0\u001b[0m\u001b[0;34m]\u001b[0m\u001b[0;34m,\u001b[0m \u001b[0mdecades\u001b[0m\u001b[0;34m[\u001b[0m\u001b[0;36m1\u001b[0m\u001b[0;34m]\u001b[0m\u001b[0;34m,\u001b[0m \u001b[0;36m10\u001b[0m\u001b[0;34m)\u001b[0m\u001b[0;34m\u001b[0m\u001b[0m\n\u001b[1;32m      5\u001b[0m     \u001b[0;31m# Make a dictionary of decades.\u001b[0m\u001b[0;34m\u001b[0m\u001b[0;34m\u001b[0m\u001b[0m\n",
      "\u001b[0;31mNameError\u001b[0m: name 'chapterLocations' is not defined"
     ]
    }
   ],
   "source": [
    "def diachronicAnalysis(df, decades=(1950, 2020), bins=chapterLocations, useWordcounts=True, normalize=True):\n",
    "    \"\"\" Turning on useWordcounts makes it so that it's weighted by wordcount. \n",
    "    Turning it off uses raw numbers of quotations. \"\"\"\n",
    "    decades = np.arange(decades[0], decades[1], 10)\n",
    "    # Make a dictionary of decades. \n",
    "    # Values are a list of locations.  \n",
    "    decadeDict = {}\n",
    "    for i, row in df.iterrows():\n",
    "        decade = row['Decade']\n",
    "        locationsAndWordcounts = row['Locations in A with Wordcounts']\n",
    "        if decade not in decadeDict: \n",
    "            decadeDict[decade] = locationsAndWordcounts.copy()\n",
    "        else: \n",
    "            decadeDict[decade] += locationsAndWordcounts.copy()\n",
    "    # Grab the beginnings of quotes. \n",
    "    decadeStartsWeights = {decade: [(item[0][0], item[1]) \n",
    "                                    for item in loc] \n",
    "                    for decade, loc in decadeDict.items()}\n",
    "    if useWordcounts: \n",
    "        decadesBinned = {decade: \n",
    "                     np.histogram([loc[0] for loc in locations], \n",
    "                                  bins=bins,\n",
    "                                  weights=[loc[1] for loc in locations],\n",
    "                                  range=(0, textALength))[0]\n",
    "                     for decade, locations in decadeStartsWeights.items() \n",
    "                         if decade in decades}\n",
    "    else: \n",
    "        decadesBinned = {decade: \n",
    "                     np.histogram([loc[0] for loc in locations], \n",
    "                                  bins=bins,\n",
    "                                  range=(0, textALength))[0]\n",
    "                     for decade, locations in decadeStartsWeights.items() \n",
    "                         if decade in decades}\n",
    "    decadesDF = pd.DataFrame(decadesBinned).T\n",
    "    #Normalize\n",
    "    if normalize: \n",
    "        decadesDF = decadesDF.div(decadesDF.max(axis=1), axis=0)\n",
    "    return decadesDF\n",
    "\n",
    "def countWords(locRange): \n",
    "    \"\"\" Counts words in middlemarch, given character ranges. \"\"\"\n",
    "    chunk = mm[locRange[0]:locRange[1]]\n",
    "    return len(chunk.split())\n",
    "\n",
    "def totalWords(locRangeSet): \n",
    "    \"\"\" Counts total words in a list of location ranges. \"\"\"\n",
    "    return sum([countWords(locRange) for locRange in locRangeSet])    \n",
    "    \n",
    "def countsPerSet(locRangeSet): \n",
    "    \"\"\" Returns an augmented location range set that includes word counts. \"\"\"\n",
    "    return [(locRange, countWords(locRange))\n",
    "             for locRange in locRangeSet]\n",
    "    \n",
    "def extractWordcounts(locsAndWordcounts): \n",
    "    \"\"\" \n",
    "    Takes pairs of location ranges and wordcounts, \n",
    "    and returns just the wordcounts. \n",
    "    \"\"\"\n",
    "    return [item[1] for item in locsAndWordcounts \n",
    "            if len(locsAndWordcounts) > 0]\n",
    "\n",
    "def synchronicAnalysis(df, bins=chapterLocations, useWordcounts=True): \n",
    "    locs = df['Locations in A'].values\n",
    "    locCounts = [(loc, countWords(loc)) for locSet in locs\n",
    "              for loc in locSet]\n",
    "    starts = [loc[0][0] for loc in locCounts]\n",
    "    counts = [loc[1] for loc in locCounts]\n",
    "    if useWordcounts: \n",
    "        binned = np.histogram(starts, bins=bins, \n",
    "                              weights=counts, range=(0, textALength))\n",
    "    else: \n",
    "        binned = np.histogram(starts, bins=bins, \n",
    "                              range=(0, textALength))\n",
    "    binnedDF = pd.Series(binned[0])\n",
    "    return binnedDF\n",
    "\n",
    "def plotDiachronicAnalysis(df, save=False, reverse=False): \n",
    "    ylabels = [str(int(decade)) for decade in df.index] + ['2020']\n",
    "    plt.pcolor(df, cmap='gnuplot')\n",
    "    plt.yticks(np.arange(len(df.index)+1), ylabels)\n",
    "    plt.gca().invert_yaxis()\n",
    "    plt.ylabel('Decade')\n",
    "    plt.xlabel('Chapter')\n",
    "    plt.gca().set_xlim((0, len(df.T)))\n",
    "    plt.colorbar(ticks=[])\n",
    "    if save: \n",
    "        plt.savefig('diachronic.png', bboxinches='tight', dpi=300, transparent=True)\n",
    "    plt.show()\n",
    "    \n",
    "def plotSynchronicAnalysis(s, useWordcounts=True): \n",
    "    ax = s.plot(kind='bar')\n",
    "    ax.set_xlabel('Chapter')\n",
    "    if useWordcounts: \n",
    "        ax.set_ylabel('Number of Words Quoted')\n",
    "    else: \n",
    "        ax.set_ylabel('Number of Quotations')"
   ]
  },
  {
   "cell_type": "code",
   "execution_count": 25,
   "metadata": {},
   "outputs": [
    {
     "ename": "NameError",
     "evalue": "name 'totalWords' is not defined",
     "output_type": "error",
     "traceback": [
      "\u001b[0;31m---------------------------------------------------------------------------\u001b[0m",
      "\u001b[0;31mNameError\u001b[0m                                 Traceback (most recent call last)",
      "\u001b[0;32m<ipython-input-25-d7d587d01874>\u001b[0m in \u001b[0;36m<module>\u001b[0;34m()\u001b[0m\n\u001b[0;32m----> 1\u001b[0;31m \u001b[0mdf\u001b[0m\u001b[0;34m[\u001b[0m\u001b[0;34m'Quoted Words'\u001b[0m\u001b[0;34m]\u001b[0m \u001b[0;34m=\u001b[0m \u001b[0mdf\u001b[0m\u001b[0;34m[\u001b[0m\u001b[0;34m'Locations in A'\u001b[0m\u001b[0;34m]\u001b[0m\u001b[0;34m.\u001b[0m\u001b[0mapply\u001b[0m\u001b[0;34m(\u001b[0m\u001b[0mtotalWords\u001b[0m\u001b[0;34m)\u001b[0m\u001b[0;34m\u001b[0m\u001b[0m\n\u001b[0m",
      "\u001b[0;31mNameError\u001b[0m: name 'totalWords' is not defined"
     ]
    }
   ],
   "source": [
    "df['Quoted Words'] = df['Locations in A'].apply(totalWords)"
   ]
  },
  {
   "cell_type": "code",
   "execution_count": 24,
   "metadata": {
    "collapsed": true
   },
   "outputs": [],
   "source": [
    "df['Locations in A with Wordcounts'] = df['Locations in A'].apply(countsPerSet)"
   ]
  },
  {
   "cell_type": "code",
   "execution_count": 25,
   "metadata": {},
   "outputs": [
    {
     "data": {
      "text/plain": [
       "95120.0"
      ]
     },
     "execution_count": 25,
     "metadata": {},
     "output_type": "execute_result"
    }
   ],
   "source": [
    "# Verify that the diachronic wordcounts are the same as the synchronic wordcounts\n",
    "decadeSums = diachronicAnalysis(df, decades=(1700, 2020), useWordcounts=True, normalize=False).sum(axis=1)\n",
    "decadeSums.sum()"
   ]
  },
  {
   "cell_type": "code",
   "execution_count": 26,
   "metadata": {},
   "outputs": [
    {
     "data": {
      "text/plain": [
       "95120"
      ]
     },
     "execution_count": 26,
     "metadata": {},
     "output_type": "execute_result"
    }
   ],
   "source": [
    "chapterSums = synchronicAnalysis(df)\n",
    "chapterSums.sum()"
   ]
  },
  {
   "cell_type": "markdown",
   "metadata": {},
   "source": [
    "# Quotation Length Statistics"
   ]
  },
  {
   "cell_type": "code",
   "execution_count": 27,
   "metadata": {
    "collapsed": true
   },
   "outputs": [],
   "source": [
    "df['Wordcounts'] = df['Locations in A with Wordcounts'].apply(extractWordcounts)"
   ]
  },
  {
   "cell_type": "code",
   "execution_count": 28,
   "metadata": {
    "collapsed": true
   },
   "outputs": [],
   "source": [
    "wordcounts = []\n",
    "for countSet in df['Wordcounts'].values: \n",
    "    for count in countSet: \n",
    "        wordcounts.append(count)"
   ]
  },
  {
   "cell_type": "code",
   "execution_count": 29,
   "metadata": {},
   "outputs": [
    {
     "data": {
      "text/plain": [
       "<matplotlib.axes._subplots.AxesSubplot at 0x7f04e57d5908>"
      ]
     },
     "execution_count": 29,
     "metadata": {},
     "output_type": "execute_result"
    },
    {
     "data": {
      "image/png": "[encoded data removed]",
      "text/plain": [
       "<Figure size 1152x432 with 1 Axes>"
      ]
     },
     "metadata": {},
     "output_type": "display_data"
    }
   ],
   "source": [
    "pd.Series(wordcounts).hist()"
   ]
  },
  {
   "cell_type": "markdown",
   "metadata": {},
   "source": [
    "# Number of Quotes (and words Quoted) by Chapter"
   ]
  },
  {
   "cell_type": "code",
   "execution_count": 30,
   "metadata": {},
   "outputs": [
    {
     "data": {
      "image/png": "[encoded data removed]",
      "text/plain": [
       "<Figure size 1152x432 with 1 Axes>"
      ]
     },
     "metadata": {},
     "output_type": "display_data"
    }
   ],
   "source": [
    "plotSynchronicAnalysis(synchronicAnalysis(df))"
   ]
  },
  {
   "cell_type": "code",
   "execution_count": 122,
   "metadata": {
    "collapsed": true
   },
   "outputs": [
    {
     "name": "stderr",
     "output_type": "stream",
     "text": [
      "/usr/lib/python3.7/site-packages/ipykernel_launcher.py:1: FutureWarning: The signature of `Series.to_csv` was aligned to that of `DataFrame.to_csv`, and argument 'header' will change its default value from False to True: please pass an explicit value to suppress this warning.\n",
      "  \"\"\"Entry point for launching an IPython kernel.\n"
     ]
    }
   ],
   "source": [
    "synchronicAnalysis(df, useWordcounts=True).to_csv('../papers/spring2017-middlemarch-paper/data/num-words-quoted-per-chapter.csv')"
   ]
  },
  {
   "cell_type": "code",
   "execution_count": 126,
   "metadata": {
    "collapsed": true
   },
   "outputs": [],
   "source": [
    "allMatches = []\n",
    "for group in df['Locations in A'].values: \n",
    "    for pair in group: \n",
    "        allMatches.append(pair)"
   ]
  },
  {
   "cell_type": "code",
   "execution_count": 127,
   "metadata": {},
   "outputs": [
    {
     "data": {
      "text/plain": [
       "1794"
      ]
     },
     "execution_count": 127,
     "metadata": {},
     "output_type": "execute_result"
    }
   ],
   "source": [
    "len(allMatches)"
   ]
  },
  {
   "cell_type": "code",
   "execution_count": 21,
   "metadata": {},
   "outputs": [
    {
     "ename": "NameError",
     "evalue": "name 'plotSynchronicAnalysis' is not defined",
     "output_type": "error",
     "traceback": [
      "\u001b[0;31m---------------------------------------------------------------------------\u001b[0m",
      "\u001b[0;31mNameError\u001b[0m                                 Traceback (most recent call last)",
      "\u001b[0;32m<ipython-input-21-862f46ad7453>\u001b[0m in \u001b[0;36m<module>\u001b[0;34m\u001b[0m\n\u001b[0;32m----> 1\u001b[0;31m \u001b[0mplotSynchronicAnalysis\u001b[0m\u001b[0;34m(\u001b[0m\u001b[0msynchronicAnalysis\u001b[0m\u001b[0;34m(\u001b[0m\u001b[0mdf\u001b[0m\u001b[0;34m,\u001b[0m \u001b[0museWordcounts\u001b[0m\u001b[0;34m=\u001b[0m\u001b[0;32mFalse\u001b[0m\u001b[0;34m)\u001b[0m\u001b[0;34m,\u001b[0m \u001b[0museWordcounts\u001b[0m\u001b[0;34m=\u001b[0m\u001b[0;32mFalse\u001b[0m\u001b[0;34m)\u001b[0m\u001b[0;34m\u001b[0m\u001b[0;34m\u001b[0m\u001b[0m\n\u001b[0m",
      "\u001b[0;31mNameError\u001b[0m: name 'plotSynchronicAnalysis' is not defined"
     ]
    }
   ],
   "source": [
    "plotSynchronicAnalysis(synchronicAnalysis(df, useWordcounts=False), useWordcounts=False)"
   ]
  },
  {
   "cell_type": "markdown",
   "metadata": {},
   "source": [
    "## Quotations Per Book"
   ]
  },
  {
   "cell_type": "code",
   "execution_count": 82,
   "metadata": {},
   "outputs": [
    {
     "data": {
      "text/plain": [
       "0     70\n",
       "1    405\n",
       "2    460\n",
       "3    164\n",
       "4    171\n",
       "5    111\n",
       "6    104\n",
       "7     49\n",
       "8    260\n",
       "dtype: int64"
      ]
     },
     "execution_count": 82,
     "metadata": {},
     "output_type": "execute_result"
    }
   ],
   "source": [
    "quotationsPerBook = synchronicAnalysis(df, bins=bookLocations, useWordcounts=False)\n",
    "quotationsPerBook"
   ]
  },
  {
   "cell_type": "code",
   "execution_count": 100,
   "metadata": {},
   "outputs": [
    {
     "data": {
      "text/html": [
       "<div>\n",
       "<style scoped>\n",
       "    .dataframe tbody tr th:only-of-type {\n",
       "        vertical-align: middle;\n",
       "    }\n",
       "\n",
       "    .dataframe tbody tr th {\n",
       "        vertical-align: top;\n",
       "    }\n",
       "\n",
       "    .dataframe thead th {\n",
       "        text-align: right;\n",
       "    }\n",
       "</style>\n",
       "<table border=\"1\" class=\"dataframe\">\n",
       "  <thead>\n",
       "    <tr style=\"text-align: right;\">\n",
       "      <th></th>\n",
       "      <th># Quotations</th>\n",
       "      <th>Book</th>\n",
       "    </tr>\n",
       "  </thead>\n",
       "  <tbody>\n",
       "    <tr>\n",
       "      <th>0</th>\n",
       "      <td>70</td>\n",
       "      <td>0</td>\n",
       "    </tr>\n",
       "    <tr>\n",
       "      <th>1</th>\n",
       "      <td>405</td>\n",
       "      <td>1</td>\n",
       "    </tr>\n",
       "    <tr>\n",
       "      <th>2</th>\n",
       "      <td>460</td>\n",
       "      <td>2</td>\n",
       "    </tr>\n",
       "    <tr>\n",
       "      <th>3</th>\n",
       "      <td>164</td>\n",
       "      <td>3</td>\n",
       "    </tr>\n",
       "    <tr>\n",
       "      <th>4</th>\n",
       "      <td>171</td>\n",
       "      <td>4</td>\n",
       "    </tr>\n",
       "    <tr>\n",
       "      <th>5</th>\n",
       "      <td>111</td>\n",
       "      <td>5</td>\n",
       "    </tr>\n",
       "    <tr>\n",
       "      <th>6</th>\n",
       "      <td>104</td>\n",
       "      <td>6</td>\n",
       "    </tr>\n",
       "    <tr>\n",
       "      <th>7</th>\n",
       "      <td>49</td>\n",
       "      <td>7</td>\n",
       "    </tr>\n",
       "    <tr>\n",
       "      <th>8</th>\n",
       "      <td>260</td>\n",
       "      <td>8</td>\n",
       "    </tr>\n",
       "  </tbody>\n",
       "</table>\n",
       "</div>"
      ],
      "text/plain": [
       "   # Quotations  Book\n",
       "0            70     0\n",
       "1           405     1\n",
       "2           460     2\n",
       "3           164     3\n",
       "4           171     4\n",
       "5           111     5\n",
       "6           104     6\n",
       "7            49     7\n",
       "8           260     8"
      ]
     },
     "execution_count": 100,
     "metadata": {},
     "output_type": "execute_result"
    }
   ],
   "source": [
    "quotationsPerBook = pd.DataFrame(quotationsPerBook, index=range(0,9), columns=['# Quotations'])\n",
    "quotationsPerBook['Book'] = range(0, 9)\n",
    "quotationsPerBook"
   ]
  },
  {
   "cell_type": "code",
   "execution_count": 102,
   "metadata": {},
   "outputs": [
    {
     "data": {
      "application/vnd.vegalite.v2+json": {
       "$schema": "https://vega.github.io/schema/vega-lite/v2.6.0.json",
       "config": {
        "view": {
         "height": 300,
         "width": 400
        }
       },
       "data": {
        "name": "data-7a489f9776e5c651505a84a5ef051e90"
       },
       "datasets": {
        "data-7a489f9776e5c651505a84a5ef051e90": [
         {
          "# Quotations": 70,
          "Book": 0
         },
         {
          "# Quotations": 405,
          "Book": 1
         },
         {
          "# Quotations": 460,
          "Book": 2
         },
         {
          "# Quotations": 164,
          "Book": 3
         },
         {
          "# Quotations": 171,
          "Book": 4
         },
         {
          "# Quotations": 111,
          "Book": 5
         },
         {
          "# Quotations": 104,
          "Book": 6
         },
         {
          "# Quotations": 49,
          "Book": 7
         },
         {
          "# Quotations": 260,
          "Book": 8
         }
        ]
       },
       "encoding": {
        "x": {
         "field": "Book",
         "type": "ordinal"
        },
        "y": {
         "field": "# Quotations",
         "type": "quantitative"
        }
       },
       "mark": "bar",
       "width": 500
      },
      "image/png": "[encoded data removed]",
      "text/plain": [
       "<VegaLite 2 object>\n",
       "\n",
       "If you see this message, it means the renderer has not been properly enabled\n",
       "for the frontend that you are using. For more information, see\n",
       "https://altair-viz.github.io/user_guide/troubleshooting.html\n"
      ]
     },
     "execution_count": 102,
     "metadata": {},
     "output_type": "execute_result"
    }
   ],
   "source": [
    "alt.Chart(quotationsPerBook).mark_bar().encode(x='Book:O', y='# Quotations:Q').properties(width=500)"
   ]
  },
  {
   "cell_type": "markdown",
   "metadata": {},
   "source": [
    "## Raw Number of Quotations Per Chapter"
   ]
  },
  {
   "cell_type": "code",
   "execution_count": 114,
   "metadata": {},
   "outputs": [],
   "source": [
    "# Get the raw number of quotations per chapter\n",
    "# synchronicAnalysis(df, useWordcounts=False).to_csv('../papers/spring2017-middlemarch-paper/data/num-quotations-per-chapter.csv')"
   ]
  },
  {
   "cell_type": "code",
   "execution_count": 113,
   "metadata": {},
   "outputs": [
    {
     "data": {
      "text/plain": [
       "Text(0, 0.5, 'Words Quoted, Normalized')"
      ]
     },
     "execution_count": 113,
     "metadata": {},
     "output_type": "execute_result"
    },
    {
     "data": {
      "image/png": "[encoded data removed]",
      "text/plain": [
       "<Figure size 1152x432 with 1 Axes>"
      ]
     },
     "metadata": {},
     "output_type": "display_data"
    }
   ],
   "source": [
    "# Adjusted for the number of words in each chapter\n",
    "ax = (synchronicAnalysis(df) / chapterLengthsSeries).plot(kind='bar')\n",
    "ax.set_xlabel('Chapter')\n",
    "ax.set_ylabel('Words Quoted, Normalized')"
   ]
  },
  {
   "cell_type": "code",
   "execution_count": 107,
   "metadata": {},
   "outputs": [
    {
     "data": {
      "image/png": "[encoded data removed]",
      "text/plain": [
       "<Figure size 1152x432 with 2 Axes>"
      ]
     },
     "metadata": {},
     "output_type": "display_data"
    }
   ],
   "source": [
    "plotDiachronicAnalysis(diachronicAnalysis(df, decades=(1950, 2020), bins=chapterLocations).sort_index())"
   ]
  },
  {
   "cell_type": "code",
   "execution_count": 115,
   "metadata": {},
   "outputs": [
    {
     "data": {
      "image/png": "[encoded data removed]",
      "text/plain": [
       "<Figure size 1152x432 with 2 Axes>"
      ]
     },
     "metadata": {},
     "output_type": "display_data"
    }
   ],
   "source": [
    "plotDiachronicAnalysis(diachronicAnalysis(df, decades=(1960, 2020), bins=chapterLocations).sort_index())"
   ]
  },
  {
   "cell_type": "code",
   "execution_count": 148,
   "metadata": {},
   "outputs": [],
   "source": [
    "diaDF = diachronicAnalysis(df, decades=(1960, 2020), bins=chapterLocations).sort_index()"
   ]
  },
  {
   "cell_type": "markdown",
   "metadata": {},
   "source": [
    "## Redo chart in Altair"
   ]
  },
  {
   "cell_type": "code",
   "execution_count": 149,
   "metadata": {},
   "outputs": [],
   "source": [
    "diaDF.columns.name = 'chapter'\n",
    "diaDF.index.name = 'decade'"
   ]
  },
  {
   "cell_type": "code",
   "execution_count": 156,
   "metadata": {},
   "outputs": [
    {
     "data": {
      "text/html": [
       "<div>\n",
       "<style scoped>\n",
       "    .dataframe tbody tr th:only-of-type {\n",
       "        vertical-align: middle;\n",
       "    }\n",
       "\n",
       "    .dataframe tbody tr th {\n",
       "        vertical-align: top;\n",
       "    }\n",
       "\n",
       "    .dataframe thead th {\n",
       "        text-align: right;\n",
       "    }\n",
       "</style>\n",
       "<table border=\"1\" class=\"dataframe\">\n",
       "  <thead>\n",
       "    <tr style=\"text-align: right;\">\n",
       "      <th>chapter</th>\n",
       "      <th>0</th>\n",
       "      <th>1</th>\n",
       "      <th>2</th>\n",
       "      <th>3</th>\n",
       "      <th>4</th>\n",
       "      <th>5</th>\n",
       "      <th>6</th>\n",
       "      <th>7</th>\n",
       "      <th>8</th>\n",
       "      <th>9</th>\n",
       "      <th>...</th>\n",
       "      <th>78</th>\n",
       "      <th>79</th>\n",
       "      <th>80</th>\n",
       "      <th>81</th>\n",
       "      <th>82</th>\n",
       "      <th>83</th>\n",
       "      <th>84</th>\n",
       "      <th>85</th>\n",
       "      <th>86</th>\n",
       "      <th>87</th>\n",
       "    </tr>\n",
       "    <tr>\n",
       "      <th>decade</th>\n",
       "      <th></th>\n",
       "      <th></th>\n",
       "      <th></th>\n",
       "      <th></th>\n",
       "      <th></th>\n",
       "      <th></th>\n",
       "      <th></th>\n",
       "      <th></th>\n",
       "      <th></th>\n",
       "      <th></th>\n",
       "      <th></th>\n",
       "      <th></th>\n",
       "      <th></th>\n",
       "      <th></th>\n",
       "      <th></th>\n",
       "      <th></th>\n",
       "      <th></th>\n",
       "      <th></th>\n",
       "      <th></th>\n",
       "      <th></th>\n",
       "      <th></th>\n",
       "    </tr>\n",
       "  </thead>\n",
       "  <tbody>\n",
       "    <tr>\n",
       "      <th>1960</th>\n",
       "      <td>0.054234</td>\n",
       "      <td>0.098953</td>\n",
       "      <td>0.197907</td>\n",
       "      <td>0.064700</td>\n",
       "      <td>0.000000</td>\n",
       "      <td>0.000000</td>\n",
       "      <td>0.000000</td>\n",
       "      <td>0.081827</td>\n",
       "      <td>0.000000</td>\n",
       "      <td>0.254995</td>\n",
       "      <td>...</td>\n",
       "      <td>0.142721</td>\n",
       "      <td>0.039962</td>\n",
       "      <td>0.166508</td>\n",
       "      <td>0.134158</td>\n",
       "      <td>0.000000</td>\n",
       "      <td>0.000000</td>\n",
       "      <td>0.0</td>\n",
       "      <td>0.0</td>\n",
       "      <td>0.000000</td>\n",
       "      <td>0.093245</td>\n",
       "    </tr>\n",
       "    <tr>\n",
       "      <th>1970</th>\n",
       "      <td>0.138408</td>\n",
       "      <td>0.346021</td>\n",
       "      <td>0.611592</td>\n",
       "      <td>0.252595</td>\n",
       "      <td>0.096886</td>\n",
       "      <td>0.074394</td>\n",
       "      <td>0.417820</td>\n",
       "      <td>0.085640</td>\n",
       "      <td>0.137543</td>\n",
       "      <td>0.080450</td>\n",
       "      <td>...</td>\n",
       "      <td>0.000000</td>\n",
       "      <td>0.000000</td>\n",
       "      <td>0.312284</td>\n",
       "      <td>0.087370</td>\n",
       "      <td>0.000000</td>\n",
       "      <td>0.026817</td>\n",
       "      <td>0.0</td>\n",
       "      <td>0.0</td>\n",
       "      <td>0.000000</td>\n",
       "      <td>0.071799</td>\n",
       "    </tr>\n",
       "    <tr>\n",
       "      <th>1980</th>\n",
       "      <td>0.368069</td>\n",
       "      <td>0.884321</td>\n",
       "      <td>0.121415</td>\n",
       "      <td>0.503824</td>\n",
       "      <td>0.038241</td>\n",
       "      <td>0.334608</td>\n",
       "      <td>0.219885</td>\n",
       "      <td>0.212237</td>\n",
       "      <td>0.000000</td>\n",
       "      <td>0.051625</td>\n",
       "      <td>...</td>\n",
       "      <td>0.000000</td>\n",
       "      <td>0.000000</td>\n",
       "      <td>0.531549</td>\n",
       "      <td>0.176864</td>\n",
       "      <td>0.021989</td>\n",
       "      <td>0.014340</td>\n",
       "      <td>0.0</td>\n",
       "      <td>1.0</td>\n",
       "      <td>0.000000</td>\n",
       "      <td>0.403442</td>\n",
       "    </tr>\n",
       "    <tr>\n",
       "      <th>1990</th>\n",
       "      <td>0.513269</td>\n",
       "      <td>0.335404</td>\n",
       "      <td>0.099379</td>\n",
       "      <td>0.197064</td>\n",
       "      <td>0.013552</td>\n",
       "      <td>0.169396</td>\n",
       "      <td>0.219085</td>\n",
       "      <td>0.051948</td>\n",
       "      <td>0.013552</td>\n",
       "      <td>0.040655</td>\n",
       "      <td>...</td>\n",
       "      <td>0.188594</td>\n",
       "      <td>0.058159</td>\n",
       "      <td>0.364201</td>\n",
       "      <td>0.214003</td>\n",
       "      <td>0.000000</td>\n",
       "      <td>0.236589</td>\n",
       "      <td>0.0</td>\n",
       "      <td>0.0</td>\n",
       "      <td>0.000000</td>\n",
       "      <td>0.253529</td>\n",
       "    </tr>\n",
       "    <tr>\n",
       "      <th>2000</th>\n",
       "      <td>0.316197</td>\n",
       "      <td>0.733849</td>\n",
       "      <td>0.103276</td>\n",
       "      <td>0.340764</td>\n",
       "      <td>0.004550</td>\n",
       "      <td>0.195177</td>\n",
       "      <td>0.106460</td>\n",
       "      <td>0.016379</td>\n",
       "      <td>0.000000</td>\n",
       "      <td>0.182439</td>\n",
       "      <td>...</td>\n",
       "      <td>0.008189</td>\n",
       "      <td>0.000000</td>\n",
       "      <td>0.266606</td>\n",
       "      <td>0.082803</td>\n",
       "      <td>0.000000</td>\n",
       "      <td>0.179709</td>\n",
       "      <td>0.0</td>\n",
       "      <td>0.0</td>\n",
       "      <td>0.018198</td>\n",
       "      <td>0.237489</td>\n",
       "    </tr>\n",
       "    <tr>\n",
       "      <th>2010</th>\n",
       "      <td>0.131466</td>\n",
       "      <td>1.000000</td>\n",
       "      <td>0.196839</td>\n",
       "      <td>0.046695</td>\n",
       "      <td>0.008621</td>\n",
       "      <td>0.173132</td>\n",
       "      <td>0.000000</td>\n",
       "      <td>0.909483</td>\n",
       "      <td>0.000000</td>\n",
       "      <td>0.044540</td>\n",
       "      <td>...</td>\n",
       "      <td>0.010776</td>\n",
       "      <td>0.000000</td>\n",
       "      <td>0.554598</td>\n",
       "      <td>0.054598</td>\n",
       "      <td>0.043103</td>\n",
       "      <td>0.100575</td>\n",
       "      <td>0.0</td>\n",
       "      <td>0.0</td>\n",
       "      <td>0.000000</td>\n",
       "      <td>0.754310</td>\n",
       "    </tr>\n",
       "  </tbody>\n",
       "</table>\n",
       "<p>6 rows × 88 columns</p>\n",
       "</div>"
      ],
      "text/plain": [
       "chapter        0         1         2         3         4         5         6   \\\n",
       "decade                                                                          \n",
       "1960     0.054234  0.098953  0.197907  0.064700  0.000000  0.000000  0.000000   \n",
       "1970     0.138408  0.346021  0.611592  0.252595  0.096886  0.074394  0.417820   \n",
       "1980     0.368069  0.884321  0.121415  0.503824  0.038241  0.334608  0.219885   \n",
       "1990     0.513269  0.335404  0.099379  0.197064  0.013552  0.169396  0.219085   \n",
       "2000     0.316197  0.733849  0.103276  0.340764  0.004550  0.195177  0.106460   \n",
       "2010     0.131466  1.000000  0.196839  0.046695  0.008621  0.173132  0.000000   \n",
       "\n",
       "chapter        7         8         9   ...        78        79        80  \\\n",
       "decade                                 ...                                 \n",
       "1960     0.081827  0.000000  0.254995  ...  0.142721  0.039962  0.166508   \n",
       "1970     0.085640  0.137543  0.080450  ...  0.000000  0.000000  0.312284   \n",
       "1980     0.212237  0.000000  0.051625  ...  0.000000  0.000000  0.531549   \n",
       "1990     0.051948  0.013552  0.040655  ...  0.188594  0.058159  0.364201   \n",
       "2000     0.016379  0.000000  0.182439  ...  0.008189  0.000000  0.266606   \n",
       "2010     0.909483  0.000000  0.044540  ...  0.010776  0.000000  0.554598   \n",
       "\n",
       "chapter        81        82        83   84   85        86        87  \n",
       "decade                                                               \n",
       "1960     0.134158  0.000000  0.000000  0.0  0.0  0.000000  0.093245  \n",
       "1970     0.087370  0.000000  0.026817  0.0  0.0  0.000000  0.071799  \n",
       "1980     0.176864  0.021989  0.014340  0.0  1.0  0.000000  0.403442  \n",
       "1990     0.214003  0.000000  0.236589  0.0  0.0  0.000000  0.253529  \n",
       "2000     0.082803  0.000000  0.179709  0.0  0.0  0.018198  0.237489  \n",
       "2010     0.054598  0.043103  0.100575  0.0  0.0  0.000000  0.754310  \n",
       "\n",
       "[6 rows x 88 columns]"
      ]
     },
     "execution_count": 156,
     "metadata": {},
     "output_type": "execute_result"
    }
   ],
   "source": [
    "diaDF"
   ]
  },
  {
   "cell_type": "code",
   "execution_count": 163,
   "metadata": {},
   "outputs": [
    {
     "data": {
      "text/plain": [
       "RangeIndex(start=0, stop=88, step=1, name='chapter')"
      ]
     },
     "execution_count": 163,
     "metadata": {},
     "output_type": "execute_result"
    }
   ],
   "source": [
    "diaDF.columns"
   ]
  },
  {
   "cell_type": "code",
   "execution_count": 190,
   "metadata": {},
   "outputs": [],
   "source": [
    "diaDF['decade'] = diaDF.index"
   ]
  },
  {
   "cell_type": "code",
   "execution_count": 193,
   "metadata": {},
   "outputs": [],
   "source": [
    "diaMelted = diaDF.melt(id_vars='decade')"
   ]
  },
  {
   "cell_type": "code",
   "execution_count": 200,
   "metadata": {},
   "outputs": [
    {
     "data": {
      "application/vnd.vegalite.v2+json": {
       "$schema": "https://vega.github.io/schema/vega-lite/v2.6.0.json",
       "config": {
        "view": {
         "height": 300,
         "width": 400
        }
       },
       "data": {
        "name": "data-44eb5f36cecea844c8c52cbe31cff713"
       },
       "datasets": {
        "data-44eb5f36cecea844c8c52cbe31cff713": [
         {
          "chapter": 0,
          "decade": 1960,
          "value": 0.05423406279733587
         },
         {
          "chapter": 0,
          "decade": 1970,
          "value": 0.1384083044982699
         },
         {
          "chapter": 0,
          "decade": 1980,
          "value": 0.36806883365200765
         },
         {
          "chapter": 0,
          "decade": 1990,
          "value": 0.5132693393562959
         },
         {
          "chapter": 0,
          "decade": 2000,
          "value": 0.316196542311192
         },
         {
          "chapter": 0,
          "decade": 2010,
          "value": 0.1314655172413793
         },
         {
          "chapter": 1,
          "decade": 1960,
          "value": 0.09895337773549001
         },
         {
          "chapter": 1,
          "decade": 1970,
          "value": 0.3460207612456747
         },
         {
          "chapter": 1,
          "decade": 1980,
          "value": 0.884321223709369
         },
         {
          "chapter": 1,
          "decade": 1990,
          "value": 0.33540372670807456
         },
         {
          "chapter": 1,
          "decade": 2000,
          "value": 0.7338489535941766
         },
         {
          "chapter": 1,
          "decade": 2010,
          "value": 1
         },
         {
          "chapter": 2,
          "decade": 1960,
          "value": 0.19790675547098002
         },
         {
          "chapter": 2,
          "decade": 1970,
          "value": 0.6115916955017301
         },
         {
          "chapter": 2,
          "decade": 1980,
          "value": 0.121414913957935
         },
         {
          "chapter": 2,
          "decade": 1990,
          "value": 0.09937888198757763
         },
         {
          "chapter": 2,
          "decade": 2000,
          "value": 0.10327570518653321
         },
         {
          "chapter": 2,
          "decade": 2010,
          "value": 0.1968390804597701
         },
         {
          "chapter": 3,
          "decade": 1960,
          "value": 0.06470028544243578
         },
         {
          "chapter": 3,
          "decade": 1970,
          "value": 0.25259515570934254
         },
         {
          "chapter": 3,
          "decade": 1980,
          "value": 0.5038240917782026
         },
         {
          "chapter": 3,
          "decade": 1990,
          "value": 0.19706380575945792
         },
         {
          "chapter": 3,
          "decade": 2000,
          "value": 0.34076433121019106
         },
         {
          "chapter": 3,
          "decade": 2010,
          "value": 0.04669540229885057
         },
         {
          "chapter": 4,
          "decade": 1960,
          "value": 0
         },
         {
          "chapter": 4,
          "decade": 1970,
          "value": 0.09688581314878893
         },
         {
          "chapter": 4,
          "decade": 1980,
          "value": 0.03824091778202677
         },
         {
          "chapter": 4,
          "decade": 1990,
          "value": 0.01355166572557877
         },
         {
          "chapter": 4,
          "decade": 2000,
          "value": 0.004549590536851683
         },
         {
          "chapter": 4,
          "decade": 2010,
          "value": 0.008620689655172414
         },
         {
          "chapter": 5,
          "decade": 1960,
          "value": 0
         },
         {
          "chapter": 5,
          "decade": 1970,
          "value": 0.07439446366782007
         },
         {
          "chapter": 5,
          "decade": 1980,
          "value": 0.33460803059273425
         },
         {
          "chapter": 5,
          "decade": 1990,
          "value": 0.16939582156973462
         },
         {
          "chapter": 5,
          "decade": 2000,
          "value": 0.1951774340309372
         },
         {
          "chapter": 5,
          "decade": 2010,
          "value": 0.17313218390804597
         },
         {
          "chapter": 6,
          "decade": 1960,
          "value": 0
         },
         {
          "chapter": 6,
          "decade": 1970,
          "value": 0.41782006920415227
         },
         {
          "chapter": 6,
          "decade": 1980,
          "value": 0.2198852772466539
         },
         {
          "chapter": 6,
          "decade": 1990,
          "value": 0.21908526256352343
         },
         {
          "chapter": 6,
          "decade": 2000,
          "value": 0.10646041856232939
         },
         {
          "chapter": 6,
          "decade": 2010,
          "value": 0
         },
         {
          "chapter": 7,
          "decade": 1960,
          "value": 0.0818268315889629
         },
         {
          "chapter": 7,
          "decade": 1970,
          "value": 0.08564013840830449
         },
         {
          "chapter": 7,
          "decade": 1980,
          "value": 0.21223709369024857
         },
         {
          "chapter": 7,
          "decade": 1990,
          "value": 0.05194805194805195
         },
         {
          "chapter": 7,
          "decade": 2000,
          "value": 0.01637852593266606
         },
         {
          "chapter": 7,
          "decade": 2010,
          "value": 0.9094827586206896
         },
         {
          "chapter": 8,
          "decade": 1960,
          "value": 0
         },
         {
          "chapter": 8,
          "decade": 1970,
          "value": 0.1375432525951557
         },
         {
          "chapter": 8,
          "decade": 1980,
          "value": 0
         },
         {
          "chapter": 8,
          "decade": 1990,
          "value": 0.01355166572557877
         },
         {
          "chapter": 8,
          "decade": 2000,
          "value": 0
         },
         {
          "chapter": 8,
          "decade": 2010,
          "value": 0
         },
         {
          "chapter": 9,
          "decade": 1960,
          "value": 0.25499524262607043
         },
         {
          "chapter": 9,
          "decade": 1970,
          "value": 0.08044982698961937
         },
         {
          "chapter": 9,
          "decade": 1980,
          "value": 0.05162523900573614
         },
         {
          "chapter": 9,
          "decade": 1990,
          "value": 0.040654997176736304
         },
         {
          "chapter": 9,
          "decade": 2000,
          "value": 0.1824385805277525
         },
         {
          "chapter": 9,
          "decade": 2010,
          "value": 0.04454022988505747
         },
         {
          "chapter": 10,
          "decade": 1960,
          "value": 0.23786869647954328
         },
         {
          "chapter": 10,
          "decade": 1970,
          "value": 0.026816608996539794
         },
         {
          "chapter": 10,
          "decade": 1980,
          "value": 0.13479923518164436
         },
         {
          "chapter": 10,
          "decade": 1990,
          "value": 0.22077922077922077
         },
         {
          "chapter": 10,
          "decade": 2000,
          "value": 0.25659690627843496
         },
         {
          "chapter": 10,
          "decade": 2010,
          "value": 0.2629310344827586
         },
         {
          "chapter": 11,
          "decade": 1960,
          "value": 0.03235014272121789
         },
         {
          "chapter": 11,
          "decade": 1970,
          "value": 0.2664359861591695
         },
         {
          "chapter": 11,
          "decade": 1980,
          "value": 0.12906309751434034
         },
         {
          "chapter": 11,
          "decade": 1990,
          "value": 0.2868435911914173
         },
         {
          "chapter": 11,
          "decade": 2000,
          "value": 0.19335759781619655
         },
         {
          "chapter": 11,
          "decade": 2010,
          "value": 0.24568965517241378
         },
         {
          "chapter": 12,
          "decade": 1960,
          "value": 0.07611798287345385
         },
         {
          "chapter": 12,
          "decade": 1970,
          "value": 0.08044982698961937
         },
         {
          "chapter": 12,
          "decade": 1980,
          "value": 0.07170172084130019
         },
         {
          "chapter": 12,
          "decade": 1990,
          "value": 0.2478825522303783
         },
         {
          "chapter": 12,
          "decade": 2000,
          "value": 0.025477707006369428
         },
         {
          "chapter": 12,
          "decade": 2010,
          "value": 0.027298850574712645
         },
         {
          "chapter": 13,
          "decade": 1960,
          "value": 0
         },
         {
          "chapter": 13,
          "decade": 1970,
          "value": 0
         },
         {
          "chapter": 13,
          "decade": 1980,
          "value": 0.03824091778202677
         },
         {
          "chapter": 13,
          "decade": 1990,
          "value": 0.08074534161490683
         },
         {
          "chapter": 13,
          "decade": 2000,
          "value": 0
         },
         {
          "chapter": 13,
          "decade": 2010,
          "value": 0.008620689655172414
         },
         {
          "chapter": 14,
          "decade": 1960,
          "value": 0
         },
         {
          "chapter": 14,
          "decade": 1970,
          "value": 0
         },
         {
          "chapter": 14,
          "decade": 1980,
          "value": 0.04684512428298279
         },
         {
          "chapter": 14,
          "decade": 1990,
          "value": 0.04178430265386787
         },
         {
          "chapter": 14,
          "decade": 2000,
          "value": 0
         },
         {
          "chapter": 14,
          "decade": 2010,
          "value": 0
         },
         {
          "chapter": 15,
          "decade": 1960,
          "value": 0.6184586108468125
         },
         {
          "chapter": 15,
          "decade": 1970,
          "value": 0.5389273356401384
         },
         {
          "chapter": 15,
          "decade": 1980,
          "value": 0.9282982791586998
         },
         {
          "chapter": 15,
          "decade": 1990,
          "value": 1
         },
         {
          "chapter": 15,
          "decade": 2000,
          "value": 0.21383075523202913
         },
         {
          "chapter": 15,
          "decade": 2010,
          "value": 0.8326149425287356
         },
         {
          "chapter": 16,
          "decade": 1960,
          "value": 0.27783063748810655
         },
         {
          "chapter": 16,
          "decade": 1970,
          "value": 0.3209342560553633
         },
         {
          "chapter": 16,
          "decade": 1980,
          "value": 0.5334608030592735
         },
         {
          "chapter": 16,
          "decade": 1990,
          "value": 0.20666290231507622
         },
         {
          "chapter": 16,
          "decade": 2000,
          "value": 0.18198362147406733
         },
         {
          "chapter": 16,
          "decade": 2010,
          "value": 0.15660919540229884
         },
         {
          "chapter": 17,
          "decade": 1960,
          "value": 0
         },
         {
          "chapter": 17,
          "decade": 1970,
          "value": 0
         },
         {
          "chapter": 17,
          "decade": 1980,
          "value": 0.043021032504780114
         },
         {
          "chapter": 17,
          "decade": 1990,
          "value": 0.11857707509881422
         },
         {
          "chapter": 17,
          "decade": 2000,
          "value": 0
         },
         {
          "chapter": 17,
          "decade": 2010,
          "value": 0
         },
         {
          "chapter": 18,
          "decade": 1960,
          "value": 0
         },
         {
          "chapter": 18,
          "decade": 1970,
          "value": 0
         },
         {
          "chapter": 18,
          "decade": 1980,
          "value": 0.12619502868068833
         },
         {
          "chapter": 18,
          "decade": 1990,
          "value": 0.12140033879164314
         },
         {
          "chapter": 18,
          "decade": 2000,
          "value": 0.1091901728844404
         },
         {
          "chapter": 18,
          "decade": 2010,
          "value": 0
         },
         {
          "chapter": 19,
          "decade": 1960,
          "value": 0
         },
         {
          "chapter": 19,
          "decade": 1970,
          "value": 0.23529411764705882
         },
         {
          "chapter": 19,
          "decade": 1980,
          "value": 0.3986615678776291
         },
         {
          "chapter": 19,
          "decade": 1990,
          "value": 0.4522868435911914
         },
         {
          "chapter": 19,
          "decade": 2000,
          "value": 0.44767970882620567
         },
         {
          "chapter": 19,
          "decade": 2010,
          "value": 0.21767241379310345
         },
         {
          "chapter": 20,
          "decade": 1960,
          "value": 1
         },
         {
          "chapter": 20,
          "decade": 1970,
          "value": 1
         },
         {
          "chapter": 20,
          "decade": 1980,
          "value": 0.8671128107074569
         },
         {
          "chapter": 20,
          "decade": 1990,
          "value": 0.6945228684359119
         },
         {
          "chapter": 20,
          "decade": 2000,
          "value": 1
         },
         {
          "chapter": 20,
          "decade": 2010,
          "value": 0.7449712643678161
         },
         {
          "chapter": 21,
          "decade": 1960,
          "value": 0.3301617507136061
         },
         {
          "chapter": 21,
          "decade": 1970,
          "value": 0.14013840830449828
         },
         {
          "chapter": 21,
          "decade": 1980,
          "value": 0.37476099426386233
         },
         {
          "chapter": 21,
          "decade": 1990,
          "value": 0.31394692264257484
         },
         {
          "chapter": 21,
          "decade": 2000,
          "value": 0.062329390354868064
         },
         {
          "chapter": 21,
          "decade": 2010,
          "value": 0.28304597701149425
         },
         {
          "chapter": 22,
          "decade": 1960,
          "value": 0.04186489058039962
         },
         {
          "chapter": 22,
          "decade": 1970,
          "value": 0.07698961937716263
         },
         {
          "chapter": 22,
          "decade": 1980,
          "value": 0.22179732313575526
         },
         {
          "chapter": 22,
          "decade": 1990,
          "value": 0.03557312252964427
         },
         {
          "chapter": 22,
          "decade": 2000,
          "value": 0.41173794358507737
         },
         {
          "chapter": 22,
          "decade": 2010,
          "value": 0.23922413793103448
         },
         {
          "chapter": 23,
          "decade": 1960,
          "value": 0
         },
         {
          "chapter": 23,
          "decade": 1970,
          "value": 0
         },
         {
          "chapter": 23,
          "decade": 1980,
          "value": 0.24760994263862332
         },
         {
          "chapter": 23,
          "decade": 1990,
          "value": 0
         },
         {
          "chapter": 23,
          "decade": 2000,
          "value": 0.16196542311191992
         },
         {
          "chapter": 23,
          "decade": 2010,
          "value": 0.06896551724137931
         },
         {
          "chapter": 24,
          "decade": 1960,
          "value": 0.013320647002854425
         },
         {
          "chapter": 24,
          "decade": 1970,
          "value": 0.061418685121107264
         },
         {
          "chapter": 24,
          "decade": 1980,
          "value": 0
         },
         {
          "chapter": 24,
          "decade": 1990,
          "value": 0.08752117447769622
         },
         {
          "chapter": 24,
          "decade": 2000,
          "value": 0.18562329390354868
         },
         {
          "chapter": 24,
          "decade": 2010,
          "value": 0.673132183908046
         },
         {
          "chapter": 25,
          "decade": 1960,
          "value": 0
         },
         {
          "chapter": 25,
          "decade": 1970,
          "value": 0
         },
         {
          "chapter": 25,
          "decade": 1980,
          "value": 0
         },
         {
          "chapter": 25,
          "decade": 1990,
          "value": 0.07679277244494635
         },
         {
          "chapter": 25,
          "decade": 2000,
          "value": 0.08826205641492266
         },
         {
          "chapter": 25,
          "decade": 2010,
          "value": 0.05459770114942529
         },
         {
          "chapter": 26,
          "decade": 1960,
          "value": 0
         },
         {
          "chapter": 26,
          "decade": 1970,
          "value": 0
         },
         {
          "chapter": 26,
          "decade": 1980,
          "value": 0
         },
         {
          "chapter": 26,
          "decade": 1990,
          "value": 0.06662902315076229
         },
         {
          "chapter": 26,
          "decade": 2000,
          "value": 0
         },
         {
          "chapter": 26,
          "decade": 2010,
          "value": 0
         },
         {
          "chapter": 27,
          "decade": 1960,
          "value": 0
         },
         {
          "chapter": 27,
          "decade": 1970,
          "value": 0.5501730103806228
         },
         {
          "chapter": 27,
          "decade": 1980,
          "value": 0.17782026768642448
         },
         {
          "chapter": 27,
          "decade": 1990,
          "value": 0.19649915302089216
         },
         {
          "chapter": 27,
          "decade": 2000,
          "value": 0.11010009099181074
         },
         {
          "chapter": 27,
          "decade": 2010,
          "value": 0.2995689655172414
         },
         {
          "chapter": 28,
          "decade": 1960,
          "value": 0.192197906755471
         },
         {
          "chapter": 28,
          "decade": 1970,
          "value": 0.24048442906574394
         },
         {
          "chapter": 28,
          "decade": 1980,
          "value": 0.10133843212237094
         },
         {
          "chapter": 28,
          "decade": 1990,
          "value": 0.1507622811970638
         },
         {
          "chapter": 28,
          "decade": 2000,
          "value": 0.21428571428571427
         },
         {
          "chapter": 28,
          "decade": 2010,
          "value": 0.06609195402298851
         },
         {
          "chapter": 29,
          "decade": 1960,
          "value": 0
         },
         {
          "chapter": 29,
          "decade": 1970,
          "value": 0.09775086505190311
         },
         {
          "chapter": 29,
          "decade": 1980,
          "value": 0.3326959847036329
         },
         {
          "chapter": 29,
          "decade": 1990,
          "value": 0.03500846979107849
         },
         {
          "chapter": 29,
          "decade": 2000,
          "value": 0.2911737943585077
         },
         {
          "chapter": 29,
          "decade": 2010,
          "value": 0.41163793103448276
         },
         {
          "chapter": 30,
          "decade": 1960,
          "value": 0.21408182683158897
         },
         {
          "chapter": 30,
          "decade": 1970,
          "value": 0
         },
         {
          "chapter": 30,
          "decade": 1980,
          "value": 0.05066921606118547
         },
         {
          "chapter": 30,
          "decade": 1990,
          "value": 0
         },
         {
          "chapter": 30,
          "decade": 2000,
          "value": 0.04367606915377616
         },
         {
          "chapter": 30,
          "decade": 2010,
          "value": 0
         },
         {
          "chapter": 31,
          "decade": 1960,
          "value": 0
         },
         {
          "chapter": 31,
          "decade": 1970,
          "value": 0.05536332179930796
         },
         {
          "chapter": 31,
          "decade": 1980,
          "value": 0.009560229445506692
         },
         {
          "chapter": 31,
          "decade": 1990,
          "value": 0.02710333145115754
         },
         {
          "chapter": 31,
          "decade": 2000,
          "value": 0.14422202001819837
         },
         {
          "chapter": 31,
          "decade": 2010,
          "value": 0.14798850574712644
         },
         {
          "chapter": 32,
          "decade": 1960,
          "value": 0
         },
         {
          "chapter": 32,
          "decade": 1970,
          "value": 0
         },
         {
          "chapter": 32,
          "decade": 1980,
          "value": 0
         },
         {
          "chapter": 32,
          "decade": 1990,
          "value": 0
         },
         {
          "chapter": 32,
          "decade": 2000,
          "value": 0.07006369426751592
         },
         {
          "chapter": 32,
          "decade": 2010,
          "value": 0
         },
         {
          "chapter": 33,
          "decade": 1960,
          "value": 0
         },
         {
          "chapter": 33,
          "decade": 1970,
          "value": 0
         },
         {
          "chapter": 33,
          "decade": 1980,
          "value": 0
         },
         {
          "chapter": 33,
          "decade": 1990,
          "value": 0.03670242800677583
         },
         {
          "chapter": 33,
          "decade": 2000,
          "value": 0.3616924476797088
         },
         {
          "chapter": 33,
          "decade": 2010,
          "value": 0
         },
         {
          "chapter": 34,
          "decade": 1960,
          "value": 0
         },
         {
          "chapter": 34,
          "decade": 1970,
          "value": 0.0328719723183391
         },
         {
          "chapter": 34,
          "decade": 1980,
          "value": 0.06596558317399617
         },
         {
          "chapter": 34,
          "decade": 1990,
          "value": 0.251270468661773
         },
         {
          "chapter": 34,
          "decade": 2000,
          "value": 0.055505004549590536
         },
         {
          "chapter": 34,
          "decade": 2010,
          "value": 0.035919540229885055
         },
         {
          "chapter": 35,
          "decade": 1960,
          "value": 0.09990485252140818
         },
         {
          "chapter": 35,
          "decade": 1970,
          "value": 0
         },
         {
          "chapter": 35,
          "decade": 1980,
          "value": 0
         },
         {
          "chapter": 35,
          "decade": 1990,
          "value": 0.30039525691699603
         },
         {
          "chapter": 35,
          "decade": 2000,
          "value": 0.015013648771610554
         },
         {
          "chapter": 35,
          "decade": 2010,
          "value": 0.12140804597701149
         },
         {
          "chapter": 36,
          "decade": 1960,
          "value": 0.046622264509990484
         },
         {
          "chapter": 36,
          "decade": 1970,
          "value": 0.0726643598615917
         },
         {
          "chapter": 36,
          "decade": 1980,
          "value": 0
         },
         {
          "chapter": 36,
          "decade": 1990,
          "value": 0.18012422360248448
         },
         {
          "chapter": 36,
          "decade": 2000,
          "value": 0.004549590536851683
         },
         {
          "chapter": 36,
          "decade": 2010,
          "value": 0.0653735632183908
         },
         {
          "chapter": 37,
          "decade": 1960,
          "value": 0.15413891531874405
         },
         {
          "chapter": 37,
          "decade": 1970,
          "value": 0.2050173010380623
         },
         {
          "chapter": 37,
          "decade": 1980,
          "value": 0.34608030592734224
         },
         {
          "chapter": 37,
          "decade": 1990,
          "value": 0.16939582156973462
         },
         {
          "chapter": 37,
          "decade": 2000,
          "value": 0.2083712465878071
         },
         {
          "chapter": 37,
          "decade": 2010,
          "value": 0.11135057471264367
         },
         {
          "chapter": 38,
          "decade": 1960,
          "value": 0
         },
         {
          "chapter": 38,
          "decade": 1970,
          "value": 0
         },
         {
          "chapter": 38,
          "decade": 1980,
          "value": 0
         },
         {
          "chapter": 38,
          "decade": 1990,
          "value": 0
         },
         {
          "chapter": 38,
          "decade": 2000,
          "value": 0.013193812556869881
         },
         {
          "chapter": 38,
          "decade": 2010,
          "value": 0.03089080459770115
         },
         {
          "chapter": 39,
          "decade": 1960,
          "value": 0
         },
         {
          "chapter": 39,
          "decade": 1970,
          "value": 0
         },
         {
          "chapter": 39,
          "decade": 1980,
          "value": 0.4397705544933078
         },
         {
          "chapter": 39,
          "decade": 1990,
          "value": 0.07284020327498589
         },
         {
          "chapter": 39,
          "decade": 2000,
          "value": 0.10828025477707007
         },
         {
          "chapter": 39,
          "decade": 2010,
          "value": 0.1961206896551724
         },
         {
          "chapter": 40,
          "decade": 1960,
          "value": 0.019980970504281638
         },
         {
          "chapter": 40,
          "decade": 1970,
          "value": 0
         },
         {
          "chapter": 40,
          "decade": 1980,
          "value": 0
         },
         {
          "chapter": 40,
          "decade": 1990,
          "value": 0
         },
         {
          "chapter": 40,
          "decade": 2000,
          "value": 0.10737033666969972
         },
         {
          "chapter": 40,
          "decade": 2010,
          "value": 0.027298850574712645
         },
         {
          "chapter": 41,
          "decade": 1960,
          "value": 0.25689819219790677
         },
         {
          "chapter": 41,
          "decade": 1970,
          "value": 0.04930795847750865
         },
         {
          "chapter": 41,
          "decade": 1980,
          "value": 0
         },
         {
          "chapter": 41,
          "decade": 1990,
          "value": 0.33258046301524563
         },
         {
          "chapter": 41,
          "decade": 2000,
          "value": 0.10327570518653321
         },
         {
          "chapter": 41,
          "decade": 2010,
          "value": 0.21551724137931033
         },
         {
          "chapter": 42,
          "decade": 1960,
          "value": 0.12559467174119887
         },
         {
          "chapter": 42,
          "decade": 1970,
          "value": 0.5181660899653979
         },
         {
          "chapter": 42,
          "decade": 1980,
          "value": 0.16730401529636713
         },
         {
          "chapter": 42,
          "decade": 1990,
          "value": 0.3190287972896669
         },
         {
          "chapter": 42,
          "decade": 2000,
          "value": 0.22975432211101002
         },
         {
          "chapter": 42,
          "decade": 2010,
          "value": 0.12284482758620689
         },
         {
          "chapter": 43,
          "decade": 1960,
          "value": 0
         },
         {
          "chapter": 43,
          "decade": 1970,
          "value": 0.21366782006920415
         },
         {
          "chapter": 43,
          "decade": 1980,
          "value": 0.02581261950286807
         },
         {
          "chapter": 43,
          "decade": 1990,
          "value": 0.009599096555618294
         },
         {
          "chapter": 43,
          "decade": 2000,
          "value": 0.2070063694267516
         },
         {
          "chapter": 43,
          "decade": 2010,
          "value": 0
         },
         {
          "chapter": 44,
          "decade": 1960,
          "value": 0
         },
         {
          "chapter": 44,
          "decade": 1970,
          "value": 0
         },
         {
          "chapter": 44,
          "decade": 1980,
          "value": 0
         },
         {
          "chapter": 44,
          "decade": 1990,
          "value": 0
         },
         {
          "chapter": 44,
          "decade": 2000,
          "value": 0
         },
         {
          "chapter": 44,
          "decade": 2010,
          "value": 0
         },
         {
          "chapter": 45,
          "decade": 1960,
          "value": 0
         },
         {
          "chapter": 45,
          "decade": 1970,
          "value": 0.02249134948096886
         },
         {
          "chapter": 45,
          "decade": 1980,
          "value": 0
         },
         {
          "chapter": 45,
          "decade": 1990,
          "value": 0.09486166007905138
         },
         {
          "chapter": 45,
          "decade": 2000,
          "value": 0.08007279344858963
         },
         {
          "chapter": 45,
          "decade": 2010,
          "value": 0.05387931034482758
         },
         {
          "chapter": 46,
          "decade": 1960,
          "value": 0.3120837297811608
         },
         {
          "chapter": 46,
          "decade": 1970,
          "value": 0.07698961937716263
         },
         {
          "chapter": 46,
          "decade": 1980,
          "value": 0
         },
         {
          "chapter": 46,
          "decade": 1990,
          "value": 0
         },
         {
          "chapter": 46,
          "decade": 2000,
          "value": 0.023657870791628753
         },
         {
          "chapter": 46,
          "decade": 2010,
          "value": 0.041666666666666664
         },
         {
          "chapter": 47,
          "decade": 1960,
          "value": 0.03615604186489058
         },
         {
          "chapter": 47,
          "decade": 1970,
          "value": 0.01643598615916955
         },
         {
          "chapter": 47,
          "decade": 1980,
          "value": 0.045889101338432124
         },
         {
          "chapter": 47,
          "decade": 1990,
          "value": 0.01129305477131564
         },
         {
          "chapter": 47,
          "decade": 2000,
          "value": 0
         },
         {
          "chapter": 47,
          "decade": 2010,
          "value": 0
         },
         {
          "chapter": 48,
          "decade": 1960,
          "value": 0.02664129400570885
         },
         {
          "chapter": 48,
          "decade": 1970,
          "value": 0.06314878892733564
         },
         {
          "chapter": 48,
          "decade": 1980,
          "value": 0
         },
         {
          "chapter": 48,
          "decade": 1990,
          "value": 0.10728402032749859
         },
         {
          "chapter": 48,
          "decade": 2000,
          "value": 0.1637852593266606
         },
         {
          "chapter": 48,
          "decade": 2010,
          "value": 0.04310344827586207
         },
         {
          "chapter": 49,
          "decade": 1960,
          "value": 0
         },
         {
          "chapter": 49,
          "decade": 1970,
          "value": 0
         },
         {
          "chapter": 49,
          "decade": 1980,
          "value": 0
         },
         {
          "chapter": 49,
          "decade": 1990,
          "value": 0
         },
         {
          "chapter": 49,
          "decade": 2000,
          "value": 0.03867151956323931
         },
         {
          "chapter": 49,
          "decade": 2010,
          "value": 0
         },
         {
          "chapter": 50,
          "decade": 1960,
          "value": 0.47954329210275926
         },
         {
          "chapter": 50,
          "decade": 1970,
          "value": 0.01903114186851211
         },
         {
          "chapter": 50,
          "decade": 1980,
          "value": 0.1338432122370937
         },
         {
          "chapter": 50,
          "decade": 1990,
          "value": 0.12365894974590627
         },
         {
          "chapter": 50,
          "decade": 2000,
          "value": 0.07688808007279345
         },
         {
          "chapter": 50,
          "decade": 2010,
          "value": 0.42887931034482757
         },
         {
          "chapter": 51,
          "decade": 1960,
          "value": 0
         },
         {
          "chapter": 51,
          "decade": 1970,
          "value": 0
         },
         {
          "chapter": 51,
          "decade": 1980,
          "value": 0.10133843212237094
         },
         {
          "chapter": 51,
          "decade": 1990,
          "value": 0
         },
         {
          "chapter": 51,
          "decade": 2000,
          "value": 0
         },
         {
          "chapter": 51,
          "decade": 2010,
          "value": 0.08620689655172414
         },
         {
          "chapter": 52,
          "decade": 1960,
          "value": 0.05423406279733587
         },
         {
          "chapter": 52,
          "decade": 1970,
          "value": 0
         },
         {
          "chapter": 52,
          "decade": 1980,
          "value": 0
         },
         {
          "chapter": 52,
          "decade": 1990,
          "value": 0
         },
         {
          "chapter": 52,
          "decade": 2000,
          "value": 0.054140127388535034
         },
         {
          "chapter": 52,
          "decade": 2010,
          "value": 0
         },
         {
          "chapter": 53,
          "decade": 1960,
          "value": 0.2844909609895338
         },
         {
          "chapter": 53,
          "decade": 1970,
          "value": 0
         },
         {
          "chapter": 53,
          "decade": 1980,
          "value": 0
         },
         {
          "chapter": 53,
          "decade": 1990,
          "value": 0.01355166572557877
         },
         {
          "chapter": 53,
          "decade": 2000,
          "value": 0.3293903548680619
         },
         {
          "chapter": 53,
          "decade": 2010,
          "value": 0.031609195402298854
         },
         {
          "chapter": 54,
          "decade": 1960,
          "value": 0
         },
         {
          "chapter": 54,
          "decade": 1970,
          "value": 0.10640138408304499
         },
         {
          "chapter": 54,
          "decade": 1980,
          "value": 0.1615678776290631
         },
         {
          "chapter": 54,
          "decade": 1990,
          "value": 0.023715415019762844
         },
         {
          "chapter": 54,
          "decade": 2000,
          "value": 0.12602365787079162
         },
         {
          "chapter": 54,
          "decade": 2010,
          "value": 0.04669540229885057
         },
         {
          "chapter": 55,
          "decade": 1960,
          "value": 0
         },
         {
          "chapter": 55,
          "decade": 1970,
          "value": 0.07093425605536333
         },
         {
          "chapter": 55,
          "decade": 1980,
          "value": 0.16921606118546845
         },
         {
          "chapter": 55,
          "decade": 1990,
          "value": 0.018633540372670808
         },
         {
          "chapter": 55,
          "decade": 2000,
          "value": 0.14695177434030937
         },
         {
          "chapter": 55,
          "decade": 2010,
          "value": 0.14367816091954022
         },
         {
          "chapter": 56,
          "decade": 1960,
          "value": 0.09039010466222645
         },
         {
          "chapter": 56,
          "decade": 1970,
          "value": 0.07612456747404844
         },
         {
          "chapter": 56,
          "decade": 1980,
          "value": 0.11854684512428298
         },
         {
          "chapter": 56,
          "decade": 1990,
          "value": 0
         },
         {
          "chapter": 56,
          "decade": 2000,
          "value": 0.1078252957233849
         },
         {
          "chapter": 56,
          "decade": 2010,
          "value": 0.014367816091954023
         },
         {
          "chapter": 57,
          "decade": 1960,
          "value": 0
         },
         {
          "chapter": 57,
          "decade": 1970,
          "value": 0.09083044982698962
         },
         {
          "chapter": 57,
          "decade": 1980,
          "value": 0
         },
         {
          "chapter": 57,
          "decade": 1990,
          "value": 0
         },
         {
          "chapter": 57,
          "decade": 2000,
          "value": 0.05232029117379436
         },
         {
          "chapter": 57,
          "decade": 2010,
          "value": 0
         },
         {
          "chapter": 58,
          "decade": 1960,
          "value": 0
         },
         {
          "chapter": 58,
          "decade": 1970,
          "value": 0.10034602076124567
         },
         {
          "chapter": 58,
          "decade": 1980,
          "value": 0.25908221797323133
         },
         {
          "chapter": 58,
          "decade": 1990,
          "value": 0.08526256352343309
         },
         {
          "chapter": 58,
          "decade": 2000,
          "value": 0.05959963603275705
         },
         {
          "chapter": 58,
          "decade": 2010,
          "value": 0.11350574712643678
         },
         {
          "chapter": 59,
          "decade": 1960,
          "value": 0
         },
         {
          "chapter": 59,
          "decade": 1970,
          "value": 0
         },
         {
          "chapter": 59,
          "decade": 1980,
          "value": 0
         },
         {
          "chapter": 59,
          "decade": 1990,
          "value": 0
         },
         {
          "chapter": 59,
          "decade": 2000,
          "value": 0.01364877161055505
         },
         {
          "chapter": 59,
          "decade": 2010,
          "value": 0
         },
         {
          "chapter": 60,
          "decade": 1960,
          "value": 0
         },
         {
          "chapter": 60,
          "decade": 1970,
          "value": 0
         },
         {
          "chapter": 60,
          "decade": 1980,
          "value": 0
         },
         {
          "chapter": 60,
          "decade": 1990,
          "value": 0.028232636928289104
         },
         {
          "chapter": 60,
          "decade": 2000,
          "value": 0
         },
         {
          "chapter": 60,
          "decade": 2010,
          "value": 0.0668103448275862
         },
         {
          "chapter": 61,
          "decade": 1960,
          "value": 0.010466222645099905
         },
         {
          "chapter": 61,
          "decade": 1970,
          "value": 0.06833910034602077
         },
         {
          "chapter": 61,
          "decade": 1980,
          "value": 0.39579349904397704
         },
         {
          "chapter": 61,
          "decade": 1990,
          "value": 0.08639186900056466
         },
         {
          "chapter": 61,
          "decade": 2000,
          "value": 0.3562329390354868
         },
         {
          "chapter": 61,
          "decade": 2010,
          "value": 0.014367816091954023
         },
         {
          "chapter": 62,
          "decade": 1960,
          "value": 0
         },
         {
          "chapter": 62,
          "decade": 1970,
          "value": 0
         },
         {
          "chapter": 62,
          "decade": 1980,
          "value": 0
         },
         {
          "chapter": 62,
          "decade": 1990,
          "value": 0.009599096555618294
         },
         {
          "chapter": 62,
          "decade": 2000,
          "value": 0.07006369426751592
         },
         {
          "chapter": 62,
          "decade": 2010,
          "value": 0.05747126436781609
         },
         {
          "chapter": 63,
          "decade": 1960,
          "value": 0.02093244529019981
         },
         {
          "chapter": 63,
          "decade": 1970,
          "value": 0.01124567474048443
         },
         {
          "chapter": 63,
          "decade": 1980,
          "value": 0
         },
         {
          "chapter": 63,
          "decade": 1990,
          "value": 0
         },
         {
          "chapter": 63,
          "decade": 2000,
          "value": 0.014558689717925387
         },
         {
          "chapter": 63,
          "decade": 2010,
          "value": 0.11637931034482758
         },
         {
          "chapter": 64,
          "decade": 1960,
          "value": 0.01807802093244529
         },
         {
          "chapter": 64,
          "decade": 1970,
          "value": 0
         },
         {
          "chapter": 64,
          "decade": 1980,
          "value": 0.03537284894837476
         },
         {
          "chapter": 64,
          "decade": 1990,
          "value": 0
         },
         {
          "chapter": 64,
          "decade": 2000,
          "value": 0
         },
         {
          "chapter": 64,
          "decade": 2010,
          "value": 0.11997126436781609
         },
         {
          "chapter": 65,
          "decade": 1960,
          "value": 0
         },
         {
          "chapter": 65,
          "decade": 1970,
          "value": 0
         },
         {
          "chapter": 65,
          "decade": 1980,
          "value": 0.02198852772466539
         },
         {
          "chapter": 65,
          "decade": 1990,
          "value": 0.029361942405420668
         },
         {
          "chapter": 65,
          "decade": 2000,
          "value": 0
         },
         {
          "chapter": 65,
          "decade": 2010,
          "value": 0
         },
         {
          "chapter": 66,
          "decade": 1960,
          "value": 0.071360608943863
         },
         {
          "chapter": 66,
          "decade": 1970,
          "value": 0
         },
         {
          "chapter": 66,
          "decade": 1980,
          "value": 0
         },
         {
          "chapter": 66,
          "decade": 1990,
          "value": 0
         },
         {
          "chapter": 66,
          "decade": 2000,
          "value": 0
         },
         {
          "chapter": 66,
          "decade": 2010,
          "value": 0.007183908045977011
         },
         {
          "chapter": 67,
          "decade": 1960,
          "value": 0
         },
         {
          "chapter": 67,
          "decade": 1970,
          "value": 0
         },
         {
          "chapter": 67,
          "decade": 1980,
          "value": 0
         },
         {
          "chapter": 67,
          "decade": 1990,
          "value": 0
         },
         {
          "chapter": 67,
          "decade": 2000,
          "value": 0
         },
         {
          "chapter": 67,
          "decade": 2010,
          "value": 0.020833333333333332
         },
         {
          "chapter": 68,
          "decade": 1960,
          "value": 0
         },
         {
          "chapter": 68,
          "decade": 1970,
          "value": 0
         },
         {
          "chapter": 68,
          "decade": 1980,
          "value": 0
         },
         {
          "chapter": 68,
          "decade": 1990,
          "value": 0
         },
         {
          "chapter": 68,
          "decade": 2000,
          "value": 0.05141037306642402
         },
         {
          "chapter": 68,
          "decade": 2010,
          "value": 0.017959770114942528
         },
         {
          "chapter": 69,
          "decade": 1960,
          "value": 0
         },
         {
          "chapter": 69,
          "decade": 1970,
          "value": 0
         },
         {
          "chapter": 69,
          "decade": 1980,
          "value": 0
         },
         {
          "chapter": 69,
          "decade": 1990,
          "value": 0
         },
         {
          "chapter": 69,
          "decade": 2000,
          "value": 0.026387625113739762
         },
         {
          "chapter": 69,
          "decade": 2010,
          "value": 0
         },
         {
          "chapter": 70,
          "decade": 1960,
          "value": 0
         },
         {
          "chapter": 70,
          "decade": 1970,
          "value": 0.012110726643598616
         },
         {
          "chapter": 70,
          "decade": 1980,
          "value": 0.08795411089866156
         },
         {
          "chapter": 70,
          "decade": 1990,
          "value": 0.10954263128176171
         },
         {
          "chapter": 70,
          "decade": 2000,
          "value": 0.030937215650591446
         },
         {
          "chapter": 70,
          "decade": 2010,
          "value": 0.017959770114942528
         },
         {
          "chapter": 71,
          "decade": 1960,
          "value": 0.16841103710751665
         },
         {
          "chapter": 71,
          "decade": 1970,
          "value": 0.012975778546712802
         },
         {
          "chapter": 71,
          "decade": 1980,
          "value": 0.18546845124282982
         },
         {
          "chapter": 71,
          "decade": 1990,
          "value": 0.07396950875211744
         },
         {
          "chapter": 71,
          "decade": 2000,
          "value": 0.01910828025477707
         },
         {
          "chapter": 71,
          "decade": 2010,
          "value": 0.04310344827586207
         },
         {
          "chapter": 72,
          "decade": 1960,
          "value": 0
         },
         {
          "chapter": 72,
          "decade": 1970,
          "value": 0
         },
         {
          "chapter": 72,
          "decade": 1980,
          "value": 0.13288718929254303
         },
         {
          "chapter": 72,
          "decade": 1990,
          "value": 0.059853190287972896
         },
         {
          "chapter": 72,
          "decade": 2000,
          "value": 0.011373976342129208
         },
         {
          "chapter": 72,
          "decade": 2010,
          "value": 0.014367816091954023
         },
         {
          "chapter": 73,
          "decade": 1960,
          "value": 0.2987630827783064
         },
         {
          "chapter": 73,
          "decade": 1970,
          "value": 0
         },
         {
          "chapter": 73,
          "decade": 1980,
          "value": 0.3489483747609943
         },
         {
          "chapter": 73,
          "decade": 1990,
          "value": 0
         },
         {
          "chapter": 73,
          "decade": 2000,
          "value": 0
         },
         {
          "chapter": 73,
          "decade": 2010,
          "value": 0.034482758620689655
         },
         {
          "chapter": 74,
          "decade": 1960,
          "value": 0
         },
         {
          "chapter": 74,
          "decade": 1970,
          "value": 0.5778546712802768
         },
         {
          "chapter": 74,
          "decade": 1980,
          "value": 0.0372848948374761
         },
         {
          "chapter": 74,
          "decade": 1990,
          "value": 0.01693958215697346
         },
         {
          "chapter": 74,
          "decade": 2000,
          "value": 0
         },
         {
          "chapter": 74,
          "decade": 2010,
          "value": 0.3311781609195402
         },
         {
          "chapter": 75,
          "decade": 1960,
          "value": 0
         },
         {
          "chapter": 75,
          "decade": 1970,
          "value": 0
         },
         {
          "chapter": 75,
          "decade": 1980,
          "value": 0
         },
         {
          "chapter": 75,
          "decade": 1990,
          "value": 0.08243929983060418
         },
         {
          "chapter": 75,
          "decade": 2000,
          "value": 0.02183803457688808
         },
         {
          "chapter": 75,
          "decade": 2010,
          "value": 0
         },
         {
          "chapter": 76,
          "decade": 1960,
          "value": 0.3139866793529971
         },
         {
          "chapter": 76,
          "decade": 1970,
          "value": 0.12629757785467127
         },
         {
          "chapter": 76,
          "decade": 1980,
          "value": 0.3154875717017208
         },
         {
          "chapter": 76,
          "decade": 1990,
          "value": 0.1287408243929983
         },
         {
          "chapter": 76,
          "decade": 2000,
          "value": 0.26478616924476794
         },
         {
          "chapter": 76,
          "decade": 2010,
          "value": 0.11709770114942529
         },
         {
          "chapter": 77,
          "decade": 1960,
          "value": 0
         },
         {
          "chapter": 77,
          "decade": 1970,
          "value": 0.04411764705882353
         },
         {
          "chapter": 77,
          "decade": 1980,
          "value": 0.12045889101338432
         },
         {
          "chapter": 77,
          "decade": 1990,
          "value": 0.04743083003952569
         },
         {
          "chapter": 77,
          "decade": 2000,
          "value": 0.033212010919017286
         },
         {
          "chapter": 77,
          "decade": 2010,
          "value": 0.04741379310344827
         },
         {
          "chapter": 78,
          "decade": 1960,
          "value": 0.142721217887726
         },
         {
          "chapter": 78,
          "decade": 1970,
          "value": 0
         },
         {
          "chapter": 78,
          "decade": 1980,
          "value": 0
         },
         {
          "chapter": 78,
          "decade": 1990,
          "value": 0.1885940146809712
         },
         {
          "chapter": 78,
          "decade": 2000,
          "value": 0.00818926296633303
         },
         {
          "chapter": 78,
          "decade": 2010,
          "value": 0.010775862068965518
         },
         {
          "chapter": 79,
          "decade": 1960,
          "value": 0.039961941008563276
         },
         {
          "chapter": 79,
          "decade": 1970,
          "value": 0
         },
         {
          "chapter": 79,
          "decade": 1980,
          "value": 0
         },
         {
          "chapter": 79,
          "decade": 1990,
          "value": 0.05815923207227555
         },
         {
          "chapter": 79,
          "decade": 2000,
          "value": 0
         },
         {
          "chapter": 79,
          "decade": 2010,
          "value": 0
         },
         {
          "chapter": 80,
          "decade": 1960,
          "value": 0.1665080875356803
         },
         {
          "chapter": 80,
          "decade": 1970,
          "value": 0.31228373702422146
         },
         {
          "chapter": 80,
          "decade": 1980,
          "value": 0.5315487571701721
         },
         {
          "chapter": 80,
          "decade": 1990,
          "value": 0.3642010163749294
         },
         {
          "chapter": 80,
          "decade": 2000,
          "value": 0.26660600545950863
         },
         {
          "chapter": 80,
          "decade": 2010,
          "value": 0.5545977011494253
         },
         {
          "chapter": 81,
          "decade": 1960,
          "value": 0.13415794481446242
         },
         {
          "chapter": 81,
          "decade": 1970,
          "value": 0.08737024221453288
         },
         {
          "chapter": 81,
          "decade": 1980,
          "value": 0.17686424474187382
         },
         {
          "chapter": 81,
          "decade": 1990,
          "value": 0.2140033879164314
         },
         {
          "chapter": 81,
          "decade": 2000,
          "value": 0.08280254777070063
         },
         {
          "chapter": 81,
          "decade": 2010,
          "value": 0.05459770114942529
         },
         {
          "chapter": 82,
          "decade": 1960,
          "value": 0
         },
         {
          "chapter": 82,
          "decade": 1970,
          "value": 0
         },
         {
          "chapter": 82,
          "decade": 1980,
          "value": 0.02198852772466539
         },
         {
          "chapter": 82,
          "decade": 1990,
          "value": 0
         },
         {
          "chapter": 82,
          "decade": 2000,
          "value": 0
         },
         {
          "chapter": 82,
          "decade": 2010,
          "value": 0.04310344827586207
         },
         {
          "chapter": 83,
          "decade": 1960,
          "value": 0
         },
         {
          "chapter": 83,
          "decade": 1970,
          "value": 0.026816608996539794
         },
         {
          "chapter": 83,
          "decade": 1980,
          "value": 0.014340344168260038
         },
         {
          "chapter": 83,
          "decade": 1990,
          "value": 0.2365894974590627
         },
         {
          "chapter": 83,
          "decade": 2000,
          "value": 0.1797088262056415
         },
         {
          "chapter": 83,
          "decade": 2010,
          "value": 0.10057471264367816
         },
         {
          "chapter": 84,
          "decade": 1960,
          "value": 0
         },
         {
          "chapter": 84,
          "decade": 1970,
          "value": 0
         },
         {
          "chapter": 84,
          "decade": 1980,
          "value": 0
         },
         {
          "chapter": 84,
          "decade": 1990,
          "value": 0
         },
         {
          "chapter": 84,
          "decade": 2000,
          "value": 0
         },
         {
          "chapter": 84,
          "decade": 2010,
          "value": 0
         },
         {
          "chapter": 85,
          "decade": 1960,
          "value": 0
         },
         {
          "chapter": 85,
          "decade": 1970,
          "value": 0
         },
         {
          "chapter": 85,
          "decade": 1980,
          "value": 1
         },
         {
          "chapter": 85,
          "decade": 1990,
          "value": 0
         },
         {
          "chapter": 85,
          "decade": 2000,
          "value": 0
         },
         {
          "chapter": 85,
          "decade": 2010,
          "value": 0
         },
         {
          "chapter": 86,
          "decade": 1960,
          "value": 0
         },
         {
          "chapter": 86,
          "decade": 1970,
          "value": 0
         },
         {
          "chapter": 86,
          "decade": 1980,
          "value": 0
         },
         {
          "chapter": 86,
          "decade": 1990,
          "value": 0
         },
         {
          "chapter": 86,
          "decade": 2000,
          "value": 0.018198362147406732
         },
         {
          "chapter": 86,
          "decade": 2010,
          "value": 0
         },
         {
          "chapter": 87,
          "decade": 1960,
          "value": 0.09324452901998097
         },
         {
          "chapter": 87,
          "decade": 1970,
          "value": 0.07179930795847751
         },
         {
          "chapter": 87,
          "decade": 1980,
          "value": 0.40344168260038243
         },
         {
          "chapter": 87,
          "decade": 1990,
          "value": 0.25352907961603616
         },
         {
          "chapter": 87,
          "decade": 2000,
          "value": 0.23748862602365786
         },
         {
          "chapter": 87,
          "decade": 2010,
          "value": 0.7543103448275862
         }
        ]
       },
       "encoding": {
        "color": {
         "field": "value",
         "type": "quantitative"
        },
        "x": {
         "field": "chapter",
         "type": "ordinal"
        },
        "y": {
         "field": "decade",
         "type": "ordinal"
        }
       },
       "height": 300,
       "mark": "rect",
       "width": 1000
      },
      "image/png": "[encoded data removed]",
      "text/plain": [
       "<VegaLite 2 object>\n",
       "\n",
       "If you see this message, it means the renderer has not been properly enabled\n",
       "for the frontend that you are using. For more information, see\n",
       "https://altair-viz.github.io/user_guide/troubleshooting.html\n"
      ]
     },
     "execution_count": 200,
     "metadata": {},
     "output_type": "execute_result"
    }
   ],
   "source": [
    "alt.Chart(diaMelted).mark_rect().encode(x='chapter:O', y='decade:O', color='value').properties(width=1000, height=300)"
   ]
  },
  {
   "cell_type": "code",
   "execution_count": 202,
   "metadata": {},
   "outputs": [
    {
     "data": {
      "text/html": [
       "<div>\n",
       "<style scoped>\n",
       "    .dataframe tbody tr th:only-of-type {\n",
       "        vertical-align: middle;\n",
       "    }\n",
       "\n",
       "    .dataframe tbody tr th {\n",
       "        vertical-align: top;\n",
       "    }\n",
       "\n",
       "    .dataframe thead th {\n",
       "        text-align: right;\n",
       "    }\n",
       "</style>\n",
       "<table border=\"1\" class=\"dataframe\">\n",
       "  <thead>\n",
       "    <tr style=\"text-align: right;\">\n",
       "      <th></th>\n",
       "      <th>0</th>\n",
       "      <th>1</th>\n",
       "      <th>2</th>\n",
       "      <th>3</th>\n",
       "      <th>4</th>\n",
       "      <th>5</th>\n",
       "      <th>6</th>\n",
       "      <th>7</th>\n",
       "      <th>8</th>\n",
       "    </tr>\n",
       "  </thead>\n",
       "  <tbody>\n",
       "    <tr>\n",
       "      <th>1960</th>\n",
       "      <td>0.023909</td>\n",
       "      <td>0.460570</td>\n",
       "      <td>1.000000</td>\n",
       "      <td>0.184983</td>\n",
       "      <td>0.309983</td>\n",
       "      <td>0.526007</td>\n",
       "      <td>0.044463</td>\n",
       "      <td>0.122903</td>\n",
       "      <td>0.524329</td>\n",
       "    </tr>\n",
       "    <tr>\n",
       "      <th>1970</th>\n",
       "      <td>0.055885</td>\n",
       "      <td>1.000000</td>\n",
       "      <td>0.933636</td>\n",
       "      <td>0.405868</td>\n",
       "      <td>0.354523</td>\n",
       "      <td>0.166259</td>\n",
       "      <td>0.207125</td>\n",
       "      <td>0.014670</td>\n",
       "      <td>0.503318</td>\n",
       "    </tr>\n",
       "    <tr>\n",
       "      <th>1980</th>\n",
       "      <td>0.102859</td>\n",
       "      <td>0.755009</td>\n",
       "      <td>1.000000</td>\n",
       "      <td>0.257013</td>\n",
       "      <td>0.284798</td>\n",
       "      <td>0.085760</td>\n",
       "      <td>0.308576</td>\n",
       "      <td>0.092439</td>\n",
       "      <td>0.867219</td>\n",
       "    </tr>\n",
       "    <tr>\n",
       "      <th>1990</th>\n",
       "      <td>0.167434</td>\n",
       "      <td>0.618346</td>\n",
       "      <td>1.000000</td>\n",
       "      <td>0.220851</td>\n",
       "      <td>0.530300</td>\n",
       "      <td>0.117517</td>\n",
       "      <td>0.082151</td>\n",
       "      <td>0.069442</td>\n",
       "      <td>0.538405</td>\n",
       "    </tr>\n",
       "    <tr>\n",
       "      <th>2000</th>\n",
       "      <td>0.130296</td>\n",
       "      <td>0.889389</td>\n",
       "      <td>1.000000</td>\n",
       "      <td>0.688601</td>\n",
       "      <td>0.348331</td>\n",
       "      <td>0.401200</td>\n",
       "      <td>0.384327</td>\n",
       "      <td>0.058680</td>\n",
       "      <td>0.463255</td>\n",
       "    </tr>\n",
       "    <tr>\n",
       "      <th>2010</th>\n",
       "      <td>0.045096</td>\n",
       "      <td>1.000000</td>\n",
       "      <td>0.851651</td>\n",
       "      <td>0.590685</td>\n",
       "      <td>0.317891</td>\n",
       "      <td>0.235091</td>\n",
       "      <td>0.156727</td>\n",
       "      <td>0.117792</td>\n",
       "      <td>0.707491</td>\n",
       "    </tr>\n",
       "  </tbody>\n",
       "</table>\n",
       "</div>"
      ],
      "text/plain": [
       "             0         1         2         3         4         5         6  \\\n",
       "1960  0.023909  0.460570  1.000000  0.184983  0.309983  0.526007  0.044463   \n",
       "1970  0.055885  1.000000  0.933636  0.405868  0.354523  0.166259  0.207125   \n",
       "1980  0.102859  0.755009  1.000000  0.257013  0.284798  0.085760  0.308576   \n",
       "1990  0.167434  0.618346  1.000000  0.220851  0.530300  0.117517  0.082151   \n",
       "2000  0.130296  0.889389  1.000000  0.688601  0.348331  0.401200  0.384327   \n",
       "2010  0.045096  1.000000  0.851651  0.590685  0.317891  0.235091  0.156727   \n",
       "\n",
       "             7         8  \n",
       "1960  0.122903  0.524329  \n",
       "1970  0.014670  0.503318  \n",
       "1980  0.092439  0.867219  \n",
       "1990  0.069442  0.538405  \n",
       "2000  0.058680  0.463255  \n",
       "2010  0.117792  0.707491  "
      ]
     },
     "execution_count": 202,
     "metadata": {},
     "output_type": "execute_result"
    }
   ],
   "source": [
    "booksDiaDF = diachronicAnalysis(df, decades=(1960, 2020), bins=bookLocations).sort_index()\n",
    "booksDiaDF"
   ]
  },
  {
   "cell_type": "code",
   "execution_count": 204,
   "metadata": {},
   "outputs": [],
   "source": [
    "booksDiaDF['decade'] = booksDiaDF.index"
   ]
  },
  {
   "cell_type": "code",
   "execution_count": 211,
   "metadata": {},
   "outputs": [],
   "source": [
    "booksMelted = booksDiaDF.melt(id_vars='decade', var_name='book')"
   ]
  },
  {
   "cell_type": "code",
   "execution_count": 212,
   "metadata": {},
   "outputs": [
    {
     "data": {
      "text/html": [
       "<div>\n",
       "<style scoped>\n",
       "    .dataframe tbody tr th:only-of-type {\n",
       "        vertical-align: middle;\n",
       "    }\n",
       "\n",
       "    .dataframe tbody tr th {\n",
       "        vertical-align: top;\n",
       "    }\n",
       "\n",
       "    .dataframe thead th {\n",
       "        text-align: right;\n",
       "    }\n",
       "</style>\n",
       "<table border=\"1\" class=\"dataframe\">\n",
       "  <thead>\n",
       "    <tr style=\"text-align: right;\">\n",
       "      <th></th>\n",
       "      <th>decade</th>\n",
       "      <th>book</th>\n",
       "      <th>value</th>\n",
       "    </tr>\n",
       "  </thead>\n",
       "  <tbody>\n",
       "    <tr>\n",
       "      <th>0</th>\n",
       "      <td>1960</td>\n",
       "      <td>0</td>\n",
       "      <td>0.023909</td>\n",
       "    </tr>\n",
       "    <tr>\n",
       "      <th>1</th>\n",
       "      <td>1970</td>\n",
       "      <td>0</td>\n",
       "      <td>0.055885</td>\n",
       "    </tr>\n",
       "    <tr>\n",
       "      <th>2</th>\n",
       "      <td>1980</td>\n",
       "      <td>0</td>\n",
       "      <td>0.102859</td>\n",
       "    </tr>\n",
       "    <tr>\n",
       "      <th>3</th>\n",
       "      <td>1990</td>\n",
       "      <td>0</td>\n",
       "      <td>0.167434</td>\n",
       "    </tr>\n",
       "    <tr>\n",
       "      <th>4</th>\n",
       "      <td>2000</td>\n",
       "      <td>0</td>\n",
       "      <td>0.130296</td>\n",
       "    </tr>\n",
       "  </tbody>\n",
       "</table>\n",
       "</div>"
      ],
      "text/plain": [
       "   decade book     value\n",
       "0    1960    0  0.023909\n",
       "1    1970    0  0.055885\n",
       "2    1980    0  0.102859\n",
       "3    1990    0  0.167434\n",
       "4    2000    0  0.130296"
      ]
     },
     "execution_count": 212,
     "metadata": {},
     "output_type": "execute_result"
    }
   ],
   "source": [
    "booksMelted.head()"
   ]
  },
  {
   "cell_type": "code",
   "execution_count": 218,
   "metadata": {},
   "outputs": [
    {
     "data": {
      "application/vnd.vegalite.v2+json": {
       "$schema": "https://vega.github.io/schema/vega-lite/v2.6.0.json",
       "config": {
        "view": {
         "height": 300,
         "width": 400
        }
       },
       "data": {
        "name": "data-83caf4fd0b9ad2bc09d6e4dfee1f1c50"
       },
       "datasets": {
        "data-83caf4fd0b9ad2bc09d6e4dfee1f1c50": [
         {
          "book": 0,
          "decade": 1960,
          "value": 0.023909395973154363
         },
         {
          "book": 0,
          "decade": 1970,
          "value": 0.055885434858539994
         },
         {
          "book": 0,
          "decade": 1980,
          "value": 0.10285866951643068
         },
         {
          "book": 0,
          "decade": 1990,
          "value": 0.1674341499355314
         },
         {
          "book": 0,
          "decade": 2000,
          "value": 0.13029621297337832
         },
         {
          "book": 0,
          "decade": 2010,
          "value": 0.045096106456382457
         },
         {
          "book": 1,
          "decade": 1960,
          "value": 0.46057046979865773
         },
         {
          "book": 1,
          "decade": 1970,
          "value": 1
         },
         {
          "book": 1,
          "decade": 1980,
          "value": 0.7550093507881379
         },
         {
          "book": 1,
          "decade": 1990,
          "value": 0.6183459200589427
         },
         {
          "book": 1,
          "decade": 2000,
          "value": 0.8893888263967004
         },
         {
          "book": 1,
          "decade": 2010,
          "value": 1
         },
         {
          "book": 2,
          "decade": 1960,
          "value": 1
         },
         {
          "book": 2,
          "decade": 1970,
          "value": 0.9336360461054838
         },
         {
          "book": 2,
          "decade": 1980,
          "value": 1
         },
         {
          "book": 2,
          "decade": 1990,
          "value": 1
         },
         {
          "book": 2,
          "decade": 2000,
          "value": 1
         },
         {
          "book": 2,
          "decade": 2010,
          "value": 0.8516510596352883
         },
         {
          "book": 3,
          "decade": 1960,
          "value": 0.18498322147651006
         },
         {
          "book": 3,
          "decade": 1970,
          "value": 0.4058679706601467
         },
         {
          "book": 3,
          "decade": 1980,
          "value": 0.257013091103393
         },
         {
          "book": 3,
          "decade": 1990,
          "value": 0.22085098544851722
         },
         {
          "book": 3,
          "decade": 2000,
          "value": 0.6886014248218972
         },
         {
          "book": 3,
          "decade": 2010,
          "value": 0.590685066535239
         },
         {
          "book": 4,
          "decade": 1960,
          "value": 0.3099832214765101
         },
         {
          "book": 4,
          "decade": 1970,
          "value": 0.3545232273838631
         },
         {
          "book": 4,
          "decade": 1980,
          "value": 0.28479829014159763
         },
         {
          "book": 4,
          "decade": 1990,
          "value": 0.5303002394547799
         },
         {
          "book": 4,
          "decade": 2000,
          "value": 0.34833145856767905
         },
         {
          "book": 4,
          "decade": 2010,
          "value": 0.31789058649581076
         },
         {
          "book": 5,
          "decade": 1960,
          "value": 0.5260067114093959
         },
         {
          "book": 5,
          "decade": 1970,
          "value": 0.16625916870415647
         },
         {
          "book": 5,
          "decade": 1980,
          "value": 0.08576008549292012
         },
         {
          "book": 5,
          "decade": 1990,
          "value": 0.1175170381285688
         },
         {
          "book": 5,
          "decade": 2000,
          "value": 0.40119985001874764
         },
         {
          "book": 5,
          "decade": 2010,
          "value": 0.2350911779201577
         },
         {
          "book": 6,
          "decade": 1960,
          "value": 0.044463087248322146
         },
         {
          "book": 6,
          "decade": 1970,
          "value": 0.20712539294446386
         },
         {
          "book": 6,
          "decade": 1980,
          "value": 0.308576008549292
         },
         {
          "book": 6,
          "decade": 1990,
          "value": 0.08215140909928163
         },
         {
          "book": 6,
          "decade": 2000,
          "value": 0.3843269591301087
         },
         {
          "book": 6,
          "decade": 2010,
          "value": 0.15672745194677182
         },
         {
          "book": 7,
          "decade": 1960,
          "value": 0.12290268456375839
         },
         {
          "book": 7,
          "decade": 1970,
          "value": 0.014669926650366748
         },
         {
          "book": 7,
          "decade": 1980,
          "value": 0.09243921987710393
         },
         {
          "book": 7,
          "decade": 1990,
          "value": 0.06944188616688156
         },
         {
          "book": 7,
          "decade": 2000,
          "value": 0.05868016497937758
         },
         {
          "book": 7,
          "decade": 2010,
          "value": 0.11779201577131591
         },
         {
          "book": 8,
          "decade": 1960,
          "value": 0.5243288590604027
         },
         {
          "book": 8,
          "decade": 1970,
          "value": 0.5033181976947259
         },
         {
          "book": 8,
          "decade": 1980,
          "value": 0.8672188084424258
         },
         {
          "book": 8,
          "decade": 1990,
          "value": 0.5384048627739916
         },
         {
          "book": 8,
          "decade": 2000,
          "value": 0.463254593175853
         },
         {
          "book": 8,
          "decade": 2010,
          "value": 0.7074913750616068
         }
        ]
       },
       "encoding": {
        "color": {
         "field": "value",
         "type": "quantitative"
        },
        "x": {
         "field": "book",
         "type": "ordinal"
        },
        "y": {
         "field": "decade",
         "type": "ordinal"
        }
       },
       "height": 300,
       "mark": "rect",
       "width": 500
      },
      "image/png": "[encoded data removed]",
      "text/plain": [
       "<VegaLite 2 object>\n",
       "\n",
       "If you see this message, it means the renderer has not been properly enabled\n",
       "for the frontend that you are using. For more information, see\n",
       "https://altair-viz.github.io/user_guide/troubleshooting.html\n"
      ]
     },
     "execution_count": 218,
     "metadata": {},
     "output_type": "execute_result"
    }
   ],
   "source": [
    "alt.Chart(booksMelted).mark_rect().encode(x='book:O', y='decade:O', color='value').properties(width=500, height=300)"
   ]
  },
  {
   "cell_type": "code",
   "execution_count": 112,
   "metadata": {},
   "outputs": [
    {
     "data": {
      "image/png": "[encoded data removed]",
      "text/plain": [
       "<Figure size 1152x432 with 2 Axes>"
      ]
     },
     "metadata": {},
     "output_type": "display_data"
    }
   ],
   "source": [
    "def plotDiachronicAnalysisBooks(df, save=False, reverse=False): \n",
    "    ylabels = [str(int(decade)) for decade in df.index] + ['2020']\n",
    "    plt.pcolor(df, cmap='gnuplot')\n",
    "    plt.yticks(np.arange(len(df.index)+1), ylabels)\n",
    "    plt.gca().invert_yaxis()\n",
    "    plt.ylabel('Decade')\n",
    "    plt.xlabel('Book')\n",
    "    plt.gca().set_xlim((0, len(df.T)))\n",
    "    plt.colorbar(ticks=[])\n",
    "    if save: \n",
    "        plt.savefig('diachronic.png', bboxinches='tight', dpi=300, transparent=True)\n",
    "    plt.show()\n",
    "\n",
    "plotDiachronicAnalysisBooks(diachronicAnalysis(df, decades=(1950, 2020), bins=bookLocations).sort_index())"
   ]
  },
  {
   "cell_type": "code",
   "execution_count": 44,
   "metadata": {
    "collapsed": true
   },
   "outputs": [],
   "source": [
    "# Export image for publication\n",
    "# plotDiachronicAnalysis(diachronicAnalysis(df, decades=(1950, 2020), bins=chapterLocations), save=True)"
   ]
  },
  {
   "cell_type": "code",
   "execution_count": 45,
   "metadata": {},
   "outputs": [
    {
     "data": {
      "text/plain": [
       "0.736392742796158"
      ]
     },
     "execution_count": 45,
     "metadata": {},
     "output_type": "execute_result"
    }
   ],
   "source": [
    "# Get the normalized proportion of, say, Chapter 20 in 1950: \n",
    "diachronicAnalysis(df)[20][1950]"
   ]
  },
  {
   "cell_type": "markdown",
   "metadata": {},
   "source": [
    "# By (Guessed) Gender of Author"
   ]
  },
  {
   "cell_type": "code",
   "execution_count": 46,
   "metadata": {
    "collapsed": true
   },
   "outputs": [
    {
     "ename": "NameError",
     "evalue": "name 'names' is not defined",
     "output_type": "error",
     "traceback": [
      "\u001b[0;31m---------------------------------------------------------------------------\u001b[0m",
      "\u001b[0;31mNameError\u001b[0m                                 Traceback (most recent call last)",
      "\u001b[0;32m<ipython-input-46-e29df6d60f8d>\u001b[0m in \u001b[0;36m<module>\u001b[0;34m\u001b[0m\n\u001b[0;32m----> 1\u001b[0;31m \u001b[0mmaleNames\u001b[0m\u001b[0;34m,\u001b[0m \u001b[0mfemaleNames\u001b[0m \u001b[0;34m=\u001b[0m \u001b[0mnames\u001b[0m\u001b[0;34m.\u001b[0m\u001b[0mwords\u001b[0m\u001b[0;34m(\u001b[0m\u001b[0;34m'male.txt'\u001b[0m\u001b[0;34m)\u001b[0m\u001b[0;34m,\u001b[0m \u001b[0mnames\u001b[0m\u001b[0;34m.\u001b[0m\u001b[0mwords\u001b[0m\u001b[0;34m(\u001b[0m\u001b[0;34m'female.txt'\u001b[0m\u001b[0;34m)\u001b[0m\u001b[0;34m\u001b[0m\u001b[0;34m\u001b[0m\u001b[0m\n\u001b[0m\u001b[1;32m      2\u001b[0m \u001b[0mmaleNames\u001b[0m \u001b[0;34m=\u001b[0m \u001b[0;34m[\u001b[0m\u001b[0mname\u001b[0m\u001b[0;34m.\u001b[0m\u001b[0mlower\u001b[0m\u001b[0;34m(\u001b[0m\u001b[0;34m)\u001b[0m \u001b[0;32mfor\u001b[0m \u001b[0mname\u001b[0m \u001b[0;32min\u001b[0m \u001b[0mmaleNames\u001b[0m\u001b[0;34m]\u001b[0m\u001b[0;34m\u001b[0m\u001b[0;34m\u001b[0m\u001b[0m\n\u001b[1;32m      3\u001b[0m \u001b[0mfemaleNames\u001b[0m \u001b[0;34m=\u001b[0m \u001b[0;34m[\u001b[0m\u001b[0mname\u001b[0m\u001b[0;34m.\u001b[0m\u001b[0mlower\u001b[0m\u001b[0;34m(\u001b[0m\u001b[0;34m)\u001b[0m \u001b[0;32mfor\u001b[0m \u001b[0mname\u001b[0m \u001b[0;32min\u001b[0m \u001b[0mfemaleNames\u001b[0m\u001b[0;34m]\u001b[0m\u001b[0;34m\u001b[0m\u001b[0;34m\u001b[0m\u001b[0m\n",
      "\u001b[0;31mNameError\u001b[0m: name 'names' is not defined"
     ]
    }
   ],
   "source": [
    "maleNames, femaleNames = names.words('male.txt'), names.words('female.txt')\n",
    "maleNames = [name.lower() for name in maleNames]\n",
    "femaleNames = [name.lower() for name in femaleNames]"
   ]
  },
  {
   "cell_type": "code",
   "execution_count": 47,
   "metadata": {
    "collapsed": true
   },
   "outputs": [],
   "source": [
    "def guessGender(name): \n",
    "    name = name.split()[0].lower() # Grab the first name. \n",
    "    if name in maleNames and name in femaleNames: \n",
    "        return 'A' #Ambiguous\n",
    "    elif name in maleNames: \n",
    "        return 'M'\n",
    "    elif name in femaleNames: \n",
    "        return 'F'\n",
    "    else: \n",
    "        return 'U'\n",
    "\n",
    "def averageGender(names): \n",
    "    if type(names) != list: \n",
    "        return 'U'\n",
    "    genderGuesses = [guessGender(name) for name in names]\n",
    "    stats = Counter(genderGuesses).most_common()\n",
    "    if len(stats) == 1: \n",
    "        # Only one author. We can just use that's author's gender guess. \n",
    "        return stats[0][0]\n",
    "    elif stats[0][1] == stats[1][1]: # There's a tie. \n",
    "        return 'A' # Ambiguous. \n",
    "    else: \n",
    "        return stats[0][0] # Return the most common gender. \n",
    "        "
   ]
  },
  {
   "cell_type": "code",
   "execution_count": 48,
   "metadata": {
    "collapsed": true,
    "scrolled": true
   },
   "outputs": [
    {
     "ename": "NameError",
     "evalue": "name 'maleNames' is not defined",
     "output_type": "error",
     "traceback": [
      "\u001b[0;31m---------------------------------------------------------------------------\u001b[0m",
      "\u001b[0;31mNameError\u001b[0m                                 Traceback (most recent call last)",
      "\u001b[0;32m<ipython-input-48-31ef052ab8a3>\u001b[0m in \u001b[0;36m<module>\u001b[0;34m\u001b[0m\n\u001b[0;32m----> 1\u001b[0;31m \u001b[0mdf\u001b[0m\u001b[0;34m[\u001b[0m\u001b[0;34m'gender'\u001b[0m\u001b[0;34m]\u001b[0m \u001b[0;34m=\u001b[0m \u001b[0mdf\u001b[0m\u001b[0;34m[\u001b[0m\u001b[0;34m'author'\u001b[0m\u001b[0;34m]\u001b[0m\u001b[0;34m.\u001b[0m\u001b[0mapply\u001b[0m\u001b[0;34m(\u001b[0m\u001b[0maverageGender\u001b[0m\u001b[0;34m)\u001b[0m\u001b[0;34m\u001b[0m\u001b[0;34m\u001b[0m\u001b[0m\n\u001b[0m\u001b[1;32m      2\u001b[0m \u001b[0mdfF\u001b[0m \u001b[0;34m=\u001b[0m \u001b[0mdf\u001b[0m\u001b[0;34m.\u001b[0m\u001b[0mloc\u001b[0m\u001b[0;34m[\u001b[0m\u001b[0mdf\u001b[0m\u001b[0;34m[\u001b[0m\u001b[0;34m'gender'\u001b[0m\u001b[0;34m]\u001b[0m \u001b[0;34m==\u001b[0m \u001b[0;34m'F'\u001b[0m\u001b[0;34m]\u001b[0m\u001b[0;34m\u001b[0m\u001b[0;34m\u001b[0m\u001b[0m\n\u001b[1;32m      3\u001b[0m \u001b[0mdfM\u001b[0m \u001b[0;34m=\u001b[0m \u001b[0mdf\u001b[0m\u001b[0;34m.\u001b[0m\u001b[0mloc\u001b[0m\u001b[0;34m[\u001b[0m\u001b[0mdf\u001b[0m\u001b[0;34m[\u001b[0m\u001b[0;34m'gender'\u001b[0m\u001b[0;34m]\u001b[0m \u001b[0;34m==\u001b[0m \u001b[0;34m'M'\u001b[0m\u001b[0;34m]\u001b[0m\u001b[0;34m\u001b[0m\u001b[0;34m\u001b[0m\u001b[0m\n",
      "\u001b[0;32m/usr/lib/python3.7/site-packages/pandas/core/series.py\u001b[0m in \u001b[0;36mapply\u001b[0;34m(self, func, convert_dtype, args, **kwds)\u001b[0m\n\u001b[1;32m   3589\u001b[0m             \u001b[0;32melse\u001b[0m\u001b[0;34m:\u001b[0m\u001b[0;34m\u001b[0m\u001b[0;34m\u001b[0m\u001b[0m\n\u001b[1;32m   3590\u001b[0m                 \u001b[0mvalues\u001b[0m \u001b[0;34m=\u001b[0m \u001b[0mself\u001b[0m\u001b[0;34m.\u001b[0m\u001b[0mastype\u001b[0m\u001b[0;34m(\u001b[0m\u001b[0mobject\u001b[0m\u001b[0;34m)\u001b[0m\u001b[0;34m.\u001b[0m\u001b[0mvalues\u001b[0m\u001b[0;34m\u001b[0m\u001b[0;34m\u001b[0m\u001b[0m\n\u001b[0;32m-> 3591\u001b[0;31m                 \u001b[0mmapped\u001b[0m \u001b[0;34m=\u001b[0m \u001b[0mlib\u001b[0m\u001b[0;34m.\u001b[0m\u001b[0mmap_infer\u001b[0m\u001b[0;34m(\u001b[0m\u001b[0mvalues\u001b[0m\u001b[0;34m,\u001b[0m \u001b[0mf\u001b[0m\u001b[0;34m,\u001b[0m \u001b[0mconvert\u001b[0m\u001b[0;34m=\u001b[0m\u001b[0mconvert_dtype\u001b[0m\u001b[0;34m)\u001b[0m\u001b[0;34m\u001b[0m\u001b[0;34m\u001b[0m\u001b[0m\n\u001b[0m\u001b[1;32m   3592\u001b[0m \u001b[0;34m\u001b[0m\u001b[0m\n\u001b[1;32m   3593\u001b[0m         \u001b[0;32mif\u001b[0m \u001b[0mlen\u001b[0m\u001b[0;34m(\u001b[0m\u001b[0mmapped\u001b[0m\u001b[0;34m)\u001b[0m \u001b[0;32mand\u001b[0m \u001b[0misinstance\u001b[0m\u001b[0;34m(\u001b[0m\u001b[0mmapped\u001b[0m\u001b[0;34m[\u001b[0m\u001b[0;36m0\u001b[0m\u001b[0;34m]\u001b[0m\u001b[0;34m,\u001b[0m \u001b[0mSeries\u001b[0m\u001b[0;34m)\u001b[0m\u001b[0;34m:\u001b[0m\u001b[0;34m\u001b[0m\u001b[0;34m\u001b[0m\u001b[0m\n",
      "\u001b[0;32mpandas/_libs/lib.pyx\u001b[0m in \u001b[0;36mpandas._libs.lib.map_infer\u001b[0;34m()\u001b[0m\n",
      "\u001b[0;32m<ipython-input-47-0dc0c39b77c1>\u001b[0m in \u001b[0;36maverageGender\u001b[0;34m(names)\u001b[0m\n\u001b[1;32m     13\u001b[0m     \u001b[0;32mif\u001b[0m \u001b[0mtype\u001b[0m\u001b[0;34m(\u001b[0m\u001b[0mnames\u001b[0m\u001b[0;34m)\u001b[0m \u001b[0;34m!=\u001b[0m \u001b[0mlist\u001b[0m\u001b[0;34m:\u001b[0m\u001b[0;34m\u001b[0m\u001b[0;34m\u001b[0m\u001b[0m\n\u001b[1;32m     14\u001b[0m         \u001b[0;32mreturn\u001b[0m \u001b[0;34m'U'\u001b[0m\u001b[0;34m\u001b[0m\u001b[0;34m\u001b[0m\u001b[0m\n\u001b[0;32m---> 15\u001b[0;31m     \u001b[0mgenderGuesses\u001b[0m \u001b[0;34m=\u001b[0m \u001b[0;34m[\u001b[0m\u001b[0mguessGender\u001b[0m\u001b[0;34m(\u001b[0m\u001b[0mname\u001b[0m\u001b[0;34m)\u001b[0m \u001b[0;32mfor\u001b[0m \u001b[0mname\u001b[0m \u001b[0;32min\u001b[0m \u001b[0mnames\u001b[0m\u001b[0;34m]\u001b[0m\u001b[0;34m\u001b[0m\u001b[0;34m\u001b[0m\u001b[0m\n\u001b[0m\u001b[1;32m     16\u001b[0m     \u001b[0mstats\u001b[0m \u001b[0;34m=\u001b[0m \u001b[0mCounter\u001b[0m\u001b[0;34m(\u001b[0m\u001b[0mgenderGuesses\u001b[0m\u001b[0;34m)\u001b[0m\u001b[0;34m.\u001b[0m\u001b[0mmost_common\u001b[0m\u001b[0;34m(\u001b[0m\u001b[0;34m)\u001b[0m\u001b[0;34m\u001b[0m\u001b[0;34m\u001b[0m\u001b[0m\n\u001b[1;32m     17\u001b[0m     \u001b[0;32mif\u001b[0m \u001b[0mlen\u001b[0m\u001b[0;34m(\u001b[0m\u001b[0mstats\u001b[0m\u001b[0;34m)\u001b[0m \u001b[0;34m==\u001b[0m \u001b[0;36m1\u001b[0m\u001b[0;34m:\u001b[0m\u001b[0;34m\u001b[0m\u001b[0;34m\u001b[0m\u001b[0m\n",
      "\u001b[0;32m<ipython-input-47-0dc0c39b77c1>\u001b[0m in \u001b[0;36m<listcomp>\u001b[0;34m(.0)\u001b[0m\n\u001b[1;32m     13\u001b[0m     \u001b[0;32mif\u001b[0m \u001b[0mtype\u001b[0m\u001b[0;34m(\u001b[0m\u001b[0mnames\u001b[0m\u001b[0;34m)\u001b[0m \u001b[0;34m!=\u001b[0m \u001b[0mlist\u001b[0m\u001b[0;34m:\u001b[0m\u001b[0;34m\u001b[0m\u001b[0;34m\u001b[0m\u001b[0m\n\u001b[1;32m     14\u001b[0m         \u001b[0;32mreturn\u001b[0m \u001b[0;34m'U'\u001b[0m\u001b[0;34m\u001b[0m\u001b[0;34m\u001b[0m\u001b[0m\n\u001b[0;32m---> 15\u001b[0;31m     \u001b[0mgenderGuesses\u001b[0m \u001b[0;34m=\u001b[0m \u001b[0;34m[\u001b[0m\u001b[0mguessGender\u001b[0m\u001b[0;34m(\u001b[0m\u001b[0mname\u001b[0m\u001b[0;34m)\u001b[0m \u001b[0;32mfor\u001b[0m \u001b[0mname\u001b[0m \u001b[0;32min\u001b[0m \u001b[0mnames\u001b[0m\u001b[0;34m]\u001b[0m\u001b[0;34m\u001b[0m\u001b[0;34m\u001b[0m\u001b[0m\n\u001b[0m\u001b[1;32m     16\u001b[0m     \u001b[0mstats\u001b[0m \u001b[0;34m=\u001b[0m \u001b[0mCounter\u001b[0m\u001b[0;34m(\u001b[0m\u001b[0mgenderGuesses\u001b[0m\u001b[0;34m)\u001b[0m\u001b[0;34m.\u001b[0m\u001b[0mmost_common\u001b[0m\u001b[0;34m(\u001b[0m\u001b[0;34m)\u001b[0m\u001b[0;34m\u001b[0m\u001b[0;34m\u001b[0m\u001b[0m\n\u001b[1;32m     17\u001b[0m     \u001b[0;32mif\u001b[0m \u001b[0mlen\u001b[0m\u001b[0;34m(\u001b[0m\u001b[0mstats\u001b[0m\u001b[0;34m)\u001b[0m \u001b[0;34m==\u001b[0m \u001b[0;36m1\u001b[0m\u001b[0;34m:\u001b[0m\u001b[0;34m\u001b[0m\u001b[0;34m\u001b[0m\u001b[0m\n",
      "\u001b[0;32m<ipython-input-47-0dc0c39b77c1>\u001b[0m in \u001b[0;36mguessGender\u001b[0;34m(name)\u001b[0m\n\u001b[1;32m      1\u001b[0m \u001b[0;32mdef\u001b[0m \u001b[0mguessGender\u001b[0m\u001b[0;34m(\u001b[0m\u001b[0mname\u001b[0m\u001b[0;34m)\u001b[0m\u001b[0;34m:\u001b[0m\u001b[0;34m\u001b[0m\u001b[0;34m\u001b[0m\u001b[0m\n\u001b[1;32m      2\u001b[0m     \u001b[0mname\u001b[0m \u001b[0;34m=\u001b[0m \u001b[0mname\u001b[0m\u001b[0;34m.\u001b[0m\u001b[0msplit\u001b[0m\u001b[0;34m(\u001b[0m\u001b[0;34m)\u001b[0m\u001b[0;34m[\u001b[0m\u001b[0;36m0\u001b[0m\u001b[0;34m]\u001b[0m\u001b[0;34m.\u001b[0m\u001b[0mlower\u001b[0m\u001b[0;34m(\u001b[0m\u001b[0;34m)\u001b[0m \u001b[0;31m# Grab the first name.\u001b[0m\u001b[0;34m\u001b[0m\u001b[0;34m\u001b[0m\u001b[0m\n\u001b[0;32m----> 3\u001b[0;31m     \u001b[0;32mif\u001b[0m \u001b[0mname\u001b[0m \u001b[0;32min\u001b[0m \u001b[0mmaleNames\u001b[0m \u001b[0;32mand\u001b[0m \u001b[0mname\u001b[0m \u001b[0;32min\u001b[0m \u001b[0mfemaleNames\u001b[0m\u001b[0;34m:\u001b[0m\u001b[0;34m\u001b[0m\u001b[0;34m\u001b[0m\u001b[0m\n\u001b[0m\u001b[1;32m      4\u001b[0m         \u001b[0;32mreturn\u001b[0m \u001b[0;34m'A'\u001b[0m \u001b[0;31m#Ambiguous\u001b[0m\u001b[0;34m\u001b[0m\u001b[0;34m\u001b[0m\u001b[0m\n\u001b[1;32m      5\u001b[0m     \u001b[0;32melif\u001b[0m \u001b[0mname\u001b[0m \u001b[0;32min\u001b[0m \u001b[0mmaleNames\u001b[0m\u001b[0;34m:\u001b[0m\u001b[0;34m\u001b[0m\u001b[0;34m\u001b[0m\u001b[0m\n",
      "\u001b[0;31mNameError\u001b[0m: name 'maleNames' is not defined"
     ]
    }
   ],
   "source": [
    "df['gender'] = df['author'].apply(averageGender)\n",
    "dfF = df.loc[df['gender'] == 'F']\n",
    "dfM = df.loc[df['gender'] == 'M']"
   ]
  },
  {
   "cell_type": "code",
   "execution_count": 49,
   "metadata": {},
   "outputs": [
    {
     "ename": "NameError",
     "evalue": "name 'dfM' is not defined",
     "output_type": "error",
     "traceback": [
      "\u001b[0;31m---------------------------------------------------------------------------\u001b[0m",
      "\u001b[0;31mNameError\u001b[0m                                 Traceback (most recent call last)",
      "\u001b[0;32m<ipython-input-49-96c2a130d76b>\u001b[0m in \u001b[0;36m<module>\u001b[0;34m\u001b[0m\n\u001b[1;32m      1\u001b[0m \u001b[0;31m# Differences in citations between genders.\u001b[0m\u001b[0;34m\u001b[0m\u001b[0;34m\u001b[0m\u001b[0;34m\u001b[0m\u001b[0m\n\u001b[0;32m----> 2\u001b[0;31m \u001b[0mplotSynchronicAnalysis\u001b[0m\u001b[0;34m(\u001b[0m\u001b[0msynchronicAnalysis\u001b[0m\u001b[0;34m(\u001b[0m\u001b[0mdfM\u001b[0m\u001b[0;34m)\u001b[0m \u001b[0;34m-\u001b[0m \u001b[0msynchronicAnalysis\u001b[0m\u001b[0;34m(\u001b[0m\u001b[0mdfF\u001b[0m\u001b[0;34m)\u001b[0m\u001b[0;34m)\u001b[0m\u001b[0;34m\u001b[0m\u001b[0;34m\u001b[0m\u001b[0m\n\u001b[0m",
      "\u001b[0;31mNameError\u001b[0m: name 'dfM' is not defined"
     ]
    }
   ],
   "source": [
    "# Differences in citations between genders. \n",
    "plotSynchronicAnalysis(synchronicAnalysis(dfM) - synchronicAnalysis(dfF))"
   ]
  },
  {
   "cell_type": "markdown",
   "metadata": {},
   "source": [
    "# By (Guessed) Country of Publication"
   ]
  },
  {
   "cell_type": "code",
   "execution_count": 35,
   "metadata": {
    "collapsed": true
   },
   "outputs": [],
   "source": [
    "def getFirst(row): \n",
    "    if type(row) == list: \n",
    "        return row[0]\n",
    "    else: \n",
    "        return row\n",
    "\n",
    "topPublishers = df['publisher_name'].apply(getFirst).value_counts()"
   ]
  },
  {
   "cell_type": "code",
   "execution_count": 36,
   "metadata": {
    "collapsed": true
   },
   "outputs": [],
   "source": [
    "publishers = topPublishers[:80].index"
   ]
  },
  {
   "cell_type": "code",
   "execution_count": 37,
   "metadata": {
    "collapsed": true
   },
   "outputs": [],
   "source": [
    "publishers = publishers.tolist()"
   ]
  },
  {
   "cell_type": "code",
   "execution_count": 38,
   "metadata": {
    "collapsed": true
   },
   "outputs": [],
   "source": [
    "def getCountry(publisher): \n",
    "    brits = ['Oxford University Press', 'Cambridge University Press', 'Modern Humanities Research Association', \\\n",
    "             'BMJ', 'Taylor & Francis, Ltd.', 'Edinburgh University Press', \\\n",
    "             'Royal Society for the Encouragement of Arts, Manufactures and Commerce']\n",
    "    canadians = ['Victorian Studies Association of Western Canada'] \n",
    "    if type(publisher) != list: \n",
    "        return 'Unknown'\n",
    "    publisher = publisher[0]\n",
    "    if publisher in brits: \n",
    "        return 'Britain' \n",
    "    elif publisher in canadians or 'Canada' in publisher: \n",
    "        return 'Canada' \n",
    "    elif 'GmbH' in publisher: \n",
    "        return 'Germany'\n",
    "    elif 'estudios' in publisher: \n",
    "        return 'Spain'\n",
    "    elif 'France' in publisher: \n",
    "        return 'France' \n",
    "    elif 'Ireland' in publisher: \n",
    "        return 'Ireland'\n",
    "    else: \n",
    "        return 'US'"
   ]
  },
  {
   "cell_type": "code",
   "execution_count": 39,
   "metadata": {
    "collapsed": true,
    "scrolled": true
   },
   "outputs": [],
   "source": [
    "df['country'] = df['publisher_name'].apply(getCountry)"
   ]
  },
  {
   "cell_type": "code",
   "execution_count": 40,
   "metadata": {},
   "outputs": [
    {
     "data": {
      "text/plain": [
       "US         3901\n",
       "Unknown    1247\n",
       "Britain     825\n",
       "Canada       59\n",
       "Germany      15\n",
       "Spain         8\n",
       "Ireland       8\n",
       "France        6\n",
       "Name: country, dtype: int64"
      ]
     },
     "execution_count": 40,
     "metadata": {},
     "output_type": "execute_result"
    }
   ],
   "source": [
    "df['country'].value_counts()"
   ]
  },
  {
   "cell_type": "code",
   "execution_count": 41,
   "metadata": {
    "collapsed": true
   },
   "outputs": [],
   "source": [
    "dfBrits = df.loc[df['country'] == 'Britain']\n",
    "dfYanks = df.loc[df['country'] == 'US']\n",
    "dfCanadians = df.loc[df['country'] == 'Canada']"
   ]
  },
  {
   "cell_type": "code",
   "execution_count": 42,
   "metadata": {
    "collapsed": true
   },
   "outputs": [],
   "source": [
    "# Since British authors are greatly outnumbered in this corpus, we should normalize the data. \n",
    "britsHist = synchronicAnalysis(dfBrits) \n",
    "normBrits = britsHist.div(britsHist.max())\n",
    "yanksHist = synchronicAnalysis(dfYanks)\n",
    "normYanks = yanksHist.div(yanksHist.max())"
   ]
  },
  {
   "cell_type": "code",
   "execution_count": 43,
   "metadata": {},
   "outputs": [
    {
     "data": {
      "image/png": "[encoded data removed]",
      "text/plain": [
       "<matplotlib.figure.Figure at 0x7f077cc9e2b0>"
      ]
     },
     "metadata": {},
     "output_type": "display_data"
    }
   ],
   "source": [
    "plotSynchronicAnalysis(normYanks - normBrits)"
   ]
  },
  {
   "cell_type": "markdown",
   "metadata": {},
   "source": [
    "# By Journal"
   ]
  },
  {
   "cell_type": "code",
   "execution_count": 44,
   "metadata": {},
   "outputs": [
    {
     "data": {
      "text/plain": [
       "Victorian Studies                            424\n",
       "George Eliot - George Henry Lewes Studies    206\n",
       "Nineteenth-Century Fiction                   192\n",
       "The Modern Language Review                   188\n",
       "The Review of English Studies                185\n",
       "NOVEL: A Forum on Fiction                    126\n",
       "Nineteenth-Century Literature                126\n",
       "Studies in the Novel                         120\n",
       "Studies in English Literature, 1500-1900      85\n",
       "ELH                                           77\n",
       "Name: journal, dtype: int64"
      ]
     },
     "execution_count": 44,
     "metadata": {},
     "output_type": "execute_result"
    }
   ],
   "source": [
    "# Look at the top journals. \n",
    "journalStats = df['journal'].value_counts()\n",
    "journalStats[:10]"
   ]
  },
  {
   "cell_type": "code",
   "execution_count": 45,
   "metadata": {
    "collapsed": true
   },
   "outputs": [],
   "source": [
    "journalList = journalStats.index"
   ]
  },
  {
   "cell_type": "markdown",
   "metadata": {},
   "source": [
    "Compare the specialist journal, \"George Eliot - George Henry Lewes Studies,\" with all other journals. "
   ]
  },
  {
   "cell_type": "code",
   "execution_count": 46,
   "metadata": {
    "collapsed": true
   },
   "outputs": [],
   "source": [
    "geJournals = df.loc[df['journal'] == 'George Eliot - George Henry Lewes Studies']\n",
    "otherJournals = df.loc[df['journal'] != 'George Eliot - George Henry Lewes Studies']"
   ]
  },
  {
   "cell_type": "code",
   "execution_count": 47,
   "metadata": {
    "collapsed": true
   },
   "outputs": [],
   "source": [
    "# Normalize\n",
    "geDF = synchronicAnalysis(geJournals)\n",
    "otherDF = synchronicAnalysis(otherJournals)\n",
    "normGE = geDF.div(geDF.max())\n",
    "normOther = otherDF.div(otherDF.max())"
   ]
  },
  {
   "cell_type": "code",
   "execution_count": 64,
   "metadata": {},
   "outputs": [
    {
     "data": {
      "image/png": "[encoded data removed]",
      "text/plain": [
       "<matplotlib.figure.Figure at 0x7f077a47a780>"
      ]
     },
     "metadata": {},
     "output_type": "display_data"
    }
   ],
   "source": [
    "fig = plt.figure()\n",
    "ax = (normGE - normOther).plot(kind='bar')\n",
    "fig.add_subplot(ax)\n",
    "ax.set_xlabel('Chapter')\n",
    "ax.set_ylabel('Specialization Index')\n",
    "# Save a big version for publication. \n",
    "fig.savefig('specialization.png', bboxinches='tight', dpi=300)"
   ]
  },
  {
   "cell_type": "code",
   "execution_count": 56,
   "metadata": {
    "collapsed": true
   },
   "outputs": [],
   "source": [
    "journals = pd.DataFrame({title: synchronicAnalysis(df.loc[df['journal'] == title]) for title in journalList }).T"
   ]
  },
  {
   "cell_type": "code",
   "execution_count": 57,
   "metadata": {},
   "outputs": [
    {
     "name": "stderr",
     "output_type": "stream",
     "text": [
      "/home/jon/.local/lib/python3.6/site-packages/ipykernel_launcher.py:4: SettingWithCopyWarning: \n",
      "A value is trying to be set on a copy of a slice from a DataFrame\n",
      "\n",
      "See the caveats in the documentation: http://pandas.pydata.org/pandas-docs/stable/indexing.html#indexing-view-versus-copy\n",
      "  after removing the cwd from sys.path.\n"
     ]
    }
   ],
   "source": [
    "cutoff = 1500\n",
    "topJournals = journals.loc[journals.sum(axis=1) > cutoff]\n",
    "otherJournals = journals.loc[journals.sum(axis=1) < cutoff]\n",
    "topJournals.loc['Other'] = otherJournals.sum()"
   ]
  },
  {
   "cell_type": "code",
   "execution_count": 58,
   "metadata": {},
   "outputs": [
    {
     "data": {
      "text/plain": [
       "<matplotlib.axes._subplots.AxesSubplot at 0x7f077d2b1630>"
      ]
     },
     "execution_count": 58,
     "metadata": {},
     "output_type": "execute_result"
    },
    {
     "data": {
      "image/png": "[encoded data removed]",
      "text/plain": [
       "<matplotlib.figure.Figure at 0x7f077f068908>"
      ]
     },
     "metadata": {},
     "output_type": "display_data"
    }
   ],
   "source": [
    "topJournals.T.plot(kind='bar', stacked=True, colormap='nipy_spectral')"
   ]
  },
  {
   "cell_type": "code",
   "execution_count": 63,
   "metadata": {},
   "outputs": [
    {
     "data": {
      "image/png": "[encoded data removed]",
      "text/plain": [
       "<matplotlib.figure.Figure at 0x7f077783b588>"
      ]
     },
     "metadata": {},
     "output_type": "display_data"
    }
   ],
   "source": [
    "ax = topJournals.T.plot(kind='bar', stacked=True, colormap='nipy_spectral')\n",
    "fig = ax.get_figure()\n",
    "fig.savefig('synchronic-journals.png', bboxinches='tight', dpi=300)"
   ]
  },
  {
   "cell_type": "markdown",
   "metadata": {},
   "source": [
    "# Detour: Ch. 15"
   ]
  },
  {
   "cell_type": "code",
   "execution_count": 49,
   "metadata": {
    "collapsed": true
   },
   "outputs": [],
   "source": [
    "# Try to find out why Ch. 15 was so big in the 80s and 90s. \n",
    "chap15s = []\n",
    "ids = []\n",
    "for i, row in df.iterrows(): \n",
    "    locations = row['Locations in A']\n",
    "    starts = [item[0] for item in locations]\n",
    "    if row['Decade'] in [1980, 1990]: \n",
    "        for start in starts: \n",
    "            if start > 290371 and start < 322051: # Does it cite Chapter XV? \n",
    "                if row.id not in ids: \n",
    "                    chap15s.append(row)\n",
    "                    ids.append(row.id)"
   ]
  },
  {
   "cell_type": "code",
   "execution_count": 50,
   "metadata": {
    "scrolled": true
   },
   "outputs": [
    {
     "data": {
      "text/plain": [
       "[['\"Wrinkled Deep in Time\": The Alexandria Quartet as Many-Layered Palimpsest'],\n",
       " [\"The Victorian Discourse of Gambling: Speculations on Middlemarch and the Duke's Children\"],\n",
       " ['George Eliot\\'s Scrupulous Research: The Facts behind Eliot\\'s Use of the \"Keepsake in Middlemarch\"'],\n",
       " ['ERZÄHLERISCHE OBJEKTIVITÄT, ,AUTHORIAL INTRUSIONS‘ UND ENGLISCHER REALISMUS'],\n",
       " ['The Union of \"Miss Brooke\" and \"Middlemarch\": A Study of the Manuscript'],\n",
       " [\"The Turn of George Eliot's Realism\"],\n",
       " ['Transformation of Rage',\n",
       "  \"Mourning and Creativity in George Eliot's Fiction\",\n",
       "  'The Vast Wreck of Ambitious Ideals in Middlemarch'],\n",
       " ['SILENCE, GESTURE, AND MEANING IN \"MIDDLEMARCH\"'],\n",
       " ['Steamboat Surfacing: Scott and the English Novelists'],\n",
       " ['Heroic Commitment in Richardson, Eliot, and James',\n",
       "  'POWER AS PARTIALITY IN MIDDLEMARCH'],\n",
       " ['AN END TO CONVERTING PATIENTS\\' STOMACHS INTO DRUG-SHOPS: LYDGATE\\'S NEW METHOD OF CHARGING HIS PATIENTS IN \"MIDDLEMARCH\"'],\n",
       " ['Dangerous Crossings: Dickens, Digression, and Montage'],\n",
       " ['Professional Judgment and the Rationing of Medical Care'],\n",
       " ['Illuminating the Vision of Ordinary Life: A Tribute to \"Middlemarch\"'],\n",
       " ['NARRATIVE VOICE AND THE \"FEMININE\" NOVELIST: DINAH MULOCK AND GEORGE ELIOT'],\n",
       " ['Versions of Narrative: Overt and Covert Narrators in Nineteenth Century Historiography'],\n",
       " ['\"Middlemarch\" and George Eliot\\'s Female (Re) Vision of Shakespeare'],\n",
       " ['Vital Signs',\n",
       "  'Medical Realism in Nineteenth-Century Fiction',\n",
       "  '“A NEW ORGAN OF KNOWLEDGE”:',\n",
       "  'MEDICAL ORGANICISM AND THE LIMITS OF REALISM IN MIDDLEMARCH'],\n",
       " ['Heroism and Organicism in the Case of Lydgate'],\n",
       " ['The Language of Discovery: William Whewell and George Eliot'],\n",
       " ['THE DIALOGIC UNIVERSE OF \"MIDDLEMARCH\"'],\n",
       " ['Lamarque and Olsen on Literature and Truth'],\n",
       " ['Middlemarch, Realism and the Birth of the Clinic'],\n",
       " ['Microscopy and Semiotic in Middlemarch'],\n",
       " [\"George Eliot's Reflexive Text: Three Tonalities in the Narrative Voice of Middlemarch\"],\n",
       " ['The Strange Case of Monomania: Patriarchy in Literature, Murder in Middlemarch, Drowning in Daniel Deronda'],\n",
       " ['George Eliot and the Eighteenth-Century Novel'],\n",
       " ['Metaphors of Mind in Fiction and Psychology',\n",
       "  'TOWARD THE LIFE OF THE MIND:',\n",
       "  'JAMES AND ELIOT DISCOVER SENTIENCE']]"
      ]
     },
     "execution_count": 50,
     "metadata": {},
     "output_type": "execute_result"
    }
   ],
   "source": [
    "# Get the titles of those articles. \n",
    "[item.title for item in chap15s]"
   ]
  },
  {
   "cell_type": "code",
   "execution_count": 51,
   "metadata": {
    "scrolled": false
   },
   "outputs": [
    {
     "data": {
      "text/plain": [
       "[('Love', 8),\n",
       " ('Vocation', 8),\n",
       " ('Novelists', 8),\n",
       " ('Pity', 8),\n",
       " ('Gossip', 6),\n",
       " ('Sympathy', 6),\n",
       " ('Irony', 6),\n",
       " ('Narratology', 5),\n",
       " ('Novels', 5),\n",
       " ('Gambling', 4),\n",
       " ('Marriage ceremonies', 4),\n",
       " ('Vanity', 4),\n",
       " ('Antitheses', 4),\n",
       " ('Heroism', 4),\n",
       " ('Pathos', 4),\n",
       " ('Melodrama', 4),\n",
       " ('Humor', 4),\n",
       " ('Asceticism', 3),\n",
       " ('Aristocracy', 3),\n",
       " ('Pickles', 3)]"
      ]
     },
     "execution_count": 51,
     "metadata": {},
     "output_type": "execute_result"
    }
   ],
   "source": [
    "ch15Topics =  [item.topics for item in chap15s]\n",
    "chap15TopicsFlat = [item for sublist in ch15Topics for item in sublist]\n",
    "Counter(chap15TopicsFlat).most_common(20)"
   ]
  },
  {
   "cell_type": "markdown",
   "metadata": {},
   "source": [
    "# Chapter 20"
   ]
  },
  {
   "cell_type": "code",
   "execution_count": null,
   "metadata": {},
   "outputs": [],
   "source": [
    "Chapter 20 Detour\n"
   ]
  },
  {
   "cell_type": "code",
   "execution_count": 26,
   "metadata": {},
   "outputs": [],
   "source": [
    "# Try to find out what articles cited chapter 20 \n",
    "chap20s = []\n",
    "ids = []\n",
    "for i, row in df.iterrows(): \n",
    "    locations = row['Locations in A']\n",
    "    starts = [item[0] for item in locations]\n",
    "    if row['Decade'] in [1870, 1900, 1910, 1920, 1930, 1940, 1950, 1960, 1970, 1980, 1990, 2000, 2010]: \n",
    "        for start in starts: \n",
    "            if start > 406324 and start < 432778: # Does it cite Chapter XX? \n",
    "                if row.id not in ids: \n",
    "                    chap20s.append(row)\n",
    "                    ids.append(row.id)\n"
   ]
  },
  {
   "cell_type": "code",
   "execution_count": 27,
   "metadata": {},
   "outputs": [
    {
     "data": {
      "text/plain": [
       "[['Dorothea and \"Miss Brooke\" in Middlemarch'],\n",
       " ['\"Myriad-Headed, Myriad-Handed\": Labor in \"Middlemarch\"'],\n",
       " [\"The Squirrel's Heartbeat: Some Thoughts on the Later Style of Henry James\"],\n",
       " ['This Side of Silence',\n",
       "  'Human Rights, Torture, and the Recognition of Cruelty',\n",
       "  'Front Matter'],\n",
       " ['DOROTHEA BROOKE UND EROTISCHE KUNST IN GEORGE ELIOTS \"MIDDLEMARCH\"'],\n",
       " ['Social Figures',\n",
       "  'George Eliot, Social History, and Literary Representation',\n",
       "  'Imperfection and Compensation'],\n",
       " ['George Eliot and Greek Tragedy'],\n",
       " ['Marriage in Literature'],\n",
       " ['Women and the Art of Fiction'],\n",
       " ['Little Dorrit and Dorothea Brooke: Interpreting the Heroines of History'],\n",
       " ['Women, Energy, and \"Middlemarch\"'],\n",
       " ['Inherited Emotions: George Eliot and the Politics of Heirlooms'],\n",
       " ['Transformation of Rage',\n",
       "  \"Mourning and Creativity in George Eliot's Fiction\",\n",
       "  'The Vast Wreck of Ambitious Ideals in Middlemarch'],\n",
       " ['Error and the Academic Self',\n",
       "  'The Scholarly Imagination, Medieval to Modern',\n",
       "  'MY CASAUBON:',\n",
       "  'THE NOVEL OF SCHOLARSHIP AND VICTORIAN PHILOLOGY'],\n",
       " [\"Dorothea's 'Resartus' and the Palingenetic Impulse of Middlemarch\"],\n",
       " ['THE ECONOMIC PROBLEM OF SYMPATHY: PARABASIS, INTEREST, AND REALIST FORM IN \"MIDDLEMARCH\"'],\n",
       " ['Isabel, Gwendolen, and Dorothea'],\n",
       " ['Beside the Reclining Statue: Ekphrasis, Narrative, and Desire in Middlemarch'],\n",
       " ['The Metaphorical Imagination of George Eliot'],\n",
       " [\"'The Sensitive Author': George Eliot\"],\n",
       " ['George Eliot and Herbert Spencer',\n",
       "  'Feminism, Evolutionism, and the Reconstruction of Gender',\n",
       "  'Theories of Origin and Knowledge:',\n",
       "  'Middlemarch and The Study of Sociology'],\n",
       " ['Why Read George Eliot? Her novels are just modern enough—and just old-fashioned enough, too'],\n",
       " ['Reading Style',\n",
       "  'A Life in Sentences',\n",
       "  'Lord Leighton, Liberace and the Advantages of Bad Writing:',\n",
       "  'Helen DeWitt, Harry Stephen Keeler, Lionel Shriver, George Eliot'],\n",
       " ['Violette Nozière', 'A Story of Murder in 1930s Paris', 'Introduction'],\n",
       " ['The Greeks, the Germans, and George Eliot'],\n",
       " [\"MARY SOMERVILLE'S INFLUENCE ON GEORGE ELIOT\"],\n",
       " ['Why Ekphrasis?'],\n",
       " [\"Isabel Archer's disease, and Henry James's\"],\n",
       " ['Women, Love, and Power',\n",
       "  'Literary and Psychoanalytic Perspectives',\n",
       "  'The Feminine Bildungsroman:',\n",
       "  'Education through Marriage'],\n",
       " ['Narrative and History'],\n",
       " ['An Image of Disenchantment in the Novels of George Eliot'],\n",
       " ['The Licensed Trespasser: The Omniscient Narrator in \"Middlemarch\"'],\n",
       " ['The Germ and the Picture in Middlemarch'],\n",
       " ['\"Middlemarch,\" Obligation, and Dorothea\\'s Duplicity'],\n",
       " ['Stupendous, Miserable City', 'Pasolini’s Rome', 'Notes'],\n",
       " ['Protocols of Reading', 'Criticism:', 'Rhetoric and Ethics'],\n",
       " [\"Tolstoj's Reading of George Eliot: Visions and Revisions\"],\n",
       " ['An Erotics of Detachment: \"Middlemarch\" and Novel-Reading as Critical Practice'],\n",
       " ['A Note on Literary Indebtedness: Dickens, George Eliot, Henry James'],\n",
       " ['Night Passages', 'Philosophy, Literature, and Film', 'GEORGE ELIOT’S DAWN'],\n",
       " ['The Language of Silence: A Citation'],\n",
       " ['Middlemarch: Narrative Unity in the Story of Dorothea Brooke'],\n",
       " [\"Imagery in George Eliot's Last Novels\"],\n",
       " ['Development and the Learning Organisation: An Introduction'],\n",
       " [\"Eco's Echoes: Ironizing the (Post) Modern\"],\n",
       " ['Torpedoes, tapirs and tortoises: scientific discourse in \"Middlemarch\"'],\n",
       " ['On Eloquence', 'Like Something Almost Being Said'],\n",
       " ['Moving Images',\n",
       "  'Nineteenth-Century Reading and Screen Practices',\n",
       "  'Introduction:',\n",
       "  'Moving Images: Nineteenth-Century Reading and Screen Practices'],\n",
       " ['Acting in the Night',\n",
       "  'Macbeth and the Places of the Civil War',\n",
       "  'Sound and Fury:',\n",
       "  'Nature in Virginia'],\n",
       " ['Metaphor', 'Not Quite against Metaphor'],\n",
       " ['Adventures among Ants',\n",
       "  'A Global Safari with a Cast of Trillions',\n",
       "  'conclusion:',\n",
       "  'four ways of looking at an ant'],\n",
       " ['“The Continuity of Married Companionship”'],\n",
       " ['Victorianized Romans: Images of Rome in Victorian Painting'],\n",
       " ['Religious Humanism and the Victorian Novel: George Eliot, Walter Pater and Samuel Butler',\n",
       "  'Middlemarch:',\n",
       "  'The Balance of Progress'],\n",
       " ['A History of the Lights and Shadows: The Secret Motion of \"Middlemarch\"'],\n",
       " ['The Not-Quite Said'],\n",
       " ['Cutting and the Pedagogy of SelfDisclosure',\n",
       "  'EPILOGUE',\n",
       "  '“I Was Committing a Crime against My Body, against Women”'],\n",
       " ['The Novel as Ethical Paradigm?'],\n",
       " [\"ELIOT'S SPANISH CONNECTION: CASAUBON, THE AVATAR OF QUIXOTE\"],\n",
       " ['Literature as Conduct: Speech Acts in Henry James',\n",
       "  'The Story of a Kiss:',\n",
       "  'Isabel’s Decisions in The Portrait of a Lady'],\n",
       " ['Economic Woman',\n",
       "  'Demand, Gender, and Narrative Closure in Eliot and Hardy',\n",
       "  'Notes'],\n",
       " [\"Under Conrad's Eyes\",\n",
       "  'The Novel as Criticism',\n",
       "  'The Trouble with Sympathy in Middlemarch and Nostromo'],\n",
       " ['\"MIDDLEMARCH\": ELIOT\\'S TENDER SUBVERSION'],\n",
       " ['Dying in Character',\n",
       "  'Memoirs on the End of Life',\n",
       "  '“I Never Saw or Heard the Car Coming”',\n",
       "  'My Close Call with Death'],\n",
       " ['Deep History',\n",
       "  'The Architecture of Past and Present',\n",
       "  'Energy and Ecosystems'],\n",
       " ['Narrative in the Moral Theology of Tom Shaffer'],\n",
       " [\"George Eliot's Vagueness\"],\n",
       " ['Samuel Johnson and the Tragic Sense', 'Johnson’s Tragic Sense of Life'],\n",
       " ['THE REDEMPTIVE PAST IN THE NEO-VICTORIAN NOVEL'],\n",
       " ['Love, Amy',\n",
       "  'The Selected Letters of Amy Clampitt',\n",
       "  'The Letters of Amy Clampitt'],\n",
       " ['Middlemarch, Realism and the Birth of the Clinic'],\n",
       " ['Views from above and below: George Eliot and Fakir Mohan Senapati'],\n",
       " ['Sounds of Modern History',\n",
       "  'Auditory Cultures in 19th- and 20th-Century Europe',\n",
       "  'English Beat:',\n",
       "  'The Stethoscopic Era’s Sonic Traces'],\n",
       " ['ROME IN \"MIDDLEMARCH\": A NEED FOR FOREIGNNESS'],\n",
       " [\"LE IMMAGINI DELL'ACQUA NEL LINGUAGGIO DI GEORGE ELIOT\"],\n",
       " ['George Eliot and the Eighteenth-Century Novel'],\n",
       " ['\"Be Ye Lukewarm!\": The Nineteenth-Century Novel and Social Action'],\n",
       " ['A Note on Middlemarch'],\n",
       " ['The Prison of Womanhood'],\n",
       " ['Victorian Honeymoons: Sexual Reorientations and the \"Sights\" of Europe'],\n",
       " ['When Narrative Fails'],\n",
       " ['Victorian Interpretation', 'George Eliot’s Hermeneutics of Sympathy']]"
      ]
     },
     "execution_count": 27,
     "metadata": {},
     "output_type": "execute_result"
    }
   ],
   "source": [
    "# Get the titles of those articles. \n",
    "[item.title for item in chap20s]"
   ]
  },
  {
   "cell_type": "code",
   "execution_count": 28,
   "metadata": {},
   "outputs": [
    {
     "data": {
      "text/plain": [
       "82"
      ]
     },
     "execution_count": 28,
     "metadata": {},
     "output_type": "execute_result"
    }
   ],
   "source": [
    "len(chap20s)"
   ]
  },
  {
   "cell_type": "code",
   "execution_count": 29,
   "metadata": {},
   "outputs": [],
   "source": [
    "# Try to find out what articles cite paragraph 6 in Chapter 20\n",
    "chap20par6s = []\n",
    "ids = []\n",
    "for i, row in df.iterrows(): \n",
    "    locations = row['Locations in A']\n",
    "    starts = [item[0] for item in locations]\n",
    "    if row['Decade'] in [1870, 1900, 1910, 1920, 1930, 1940, 1950, 1960, 1970, 1980, 1990, 2000, 2010]: \n",
    "        for start in starts: \n",
    "            if start > 411152 and start < 412177: # Does it cite Chapter XX? \n",
    "                if row.id not in ids: \n",
    "                    chap20par6s.append(row)\n",
    "                    ids.append(row.id)\n"
   ]
  },
  {
   "cell_type": "code",
   "execution_count": 30,
   "metadata": {},
   "outputs": [
    {
     "data": {
      "text/plain": [
       "[['Dorothea and \"Miss Brooke\" in Middlemarch'],\n",
       " ['\"Myriad-Headed, Myriad-Handed\": Labor in \"Middlemarch\"'],\n",
       " [\"The Squirrel's Heartbeat: Some Thoughts on the Later Style of Henry James\"],\n",
       " ['This Side of Silence',\n",
       "  'Human Rights, Torture, and the Recognition of Cruelty',\n",
       "  'Front Matter'],\n",
       " ['Social Figures',\n",
       "  'George Eliot, Social History, and Literary Representation',\n",
       "  'Imperfection and Compensation'],\n",
       " ['George Eliot and Greek Tragedy'],\n",
       " ['THE ECONOMIC PROBLEM OF SYMPATHY: PARABASIS, INTEREST, AND REALIST FORM IN \"MIDDLEMARCH\"'],\n",
       " ['Why Read George Eliot? Her novels are just modern enough—and just old-fashioned enough, too'],\n",
       " ['Violette Nozière', 'A Story of Murder in 1930s Paris', 'Introduction'],\n",
       " [\"Tolstoj's Reading of George Eliot: Visions and Revisions\"],\n",
       " ['The Language of Silence: A Citation'],\n",
       " ['Development and the Learning Organisation: An Introduction'],\n",
       " ['Torpedoes, tapirs and tortoises: scientific discourse in \"Middlemarch\"'],\n",
       " ['On Eloquence', 'Like Something Almost Being Said'],\n",
       " ['Acting in the Night',\n",
       "  'Macbeth and the Places of the Civil War',\n",
       "  'Sound and Fury:',\n",
       "  'Nature in Virginia'],\n",
       " ['Metaphor', 'Not Quite against Metaphor'],\n",
       " ['Adventures among Ants',\n",
       "  'A Global Safari with a Cast of Trillions',\n",
       "  'conclusion:',\n",
       "  'four ways of looking at an ant'],\n",
       " ['“The Continuity of Married Companionship”'],\n",
       " ['The Not-Quite Said'],\n",
       " ['Cutting and the Pedagogy of SelfDisclosure',\n",
       "  'EPILOGUE',\n",
       "  '“I Was Committing a Crime against My Body, against Women”'],\n",
       " ['Economic Woman',\n",
       "  'Demand, Gender, and Narrative Closure in Eliot and Hardy',\n",
       "  'Notes'],\n",
       " [\"Under Conrad's Eyes\",\n",
       "  'The Novel as Criticism',\n",
       "  'The Trouble with Sympathy in Middlemarch and Nostromo'],\n",
       " ['Dying in Character',\n",
       "  'Memoirs on the End of Life',\n",
       "  '“I Never Saw or Heard the Car Coming”',\n",
       "  'My Close Call with Death'],\n",
       " ['Deep History',\n",
       "  'The Architecture of Past and Present',\n",
       "  'Energy and Ecosystems'],\n",
       " ['Samuel Johnson and the Tragic Sense', 'Johnson’s Tragic Sense of Life'],\n",
       " ['Love, Amy',\n",
       "  'The Selected Letters of Amy Clampitt',\n",
       "  'The Letters of Amy Clampitt'],\n",
       " ['Views from above and below: George Eliot and Fakir Mohan Senapati'],\n",
       " ['Sounds of Modern History',\n",
       "  'Auditory Cultures in 19th- and 20th-Century Europe',\n",
       "  'English Beat:',\n",
       "  'The Stethoscopic Era’s Sonic Traces'],\n",
       " ['\"Be Ye Lukewarm!\": The Nineteenth-Century Novel and Social Action'],\n",
       " ['A Note on Middlemarch']]"
      ]
     },
     "execution_count": 30,
     "metadata": {},
     "output_type": "execute_result"
    }
   ],
   "source": [
    "# Get the titles of those articles.\n",
    "[item.title for item in chap20par6s]"
   ]
  },
  {
   "cell_type": "code",
   "execution_count": 32,
   "metadata": {},
   "outputs": [
    {
     "data": {
      "text/plain": [
       "30"
      ]
     },
     "execution_count": 32,
     "metadata": {},
     "output_type": "execute_result"
    }
   ],
   "source": [
    "len(chap20par6s) # The number of items citing paragraph 6 in chapter 20"
   ]
  },
  {
   "cell_type": "code",
   "execution_count": 31,
   "metadata": {},
   "outputs": [],
   "source": [
    "xxStart, xxEnd = chapterLocations[20:22] # Chapter 20 Boundaries"
   ]
  },
  {
   "cell_type": "code",
   "execution_count": 32,
   "metadata": {},
   "outputs": [
    {
     "name": "stdout",
     "output_type": "stream",
     "text": [
      "CHAPTER XX.\n",
      "\n",
      "    \"A child forsaken, waking suddenly,\n",
      "     Whose gaze afeard on all things round doth rove,\n",
      "     And seeth only that it cannot see\n",
      "     The meeting eyes of love.\"\n",
      "\n",
      "\n",
      "Two hours later, Dorothea was seated in an inner room or boudoir of a\n",
      "handsome apartment in the Via Sistina.\n",
      "\n",
      "I am sorry to add that she was sobbing bitterly, with such abandonment\n",
      "to this relief of an oppressed heart as a woman habitually controlled\n",
      "by pride on her own account and thoughtfulness for others will\n",
      "sometimes allow herself when she feels securely alone.  And Mr.\n",
      "Casaubon was certain to remain away for some time at the Vatican.\n",
      "\n",
      "Yet Dorothea had no distinctly shapen grievance that she could state\n",
      "even to herself; and in the midst of her confused thought and passion,\n",
      "the mental act that was struggling forth into clearness was a\n",
      "self-accusing cry that her feeling of desolation was the fault of her\n",
      "own spiritual poverty.  She had married the man of her choice, and with\n",
      "the advantage over most girls t\n"
     ]
    }
   ],
   "source": [
    "print(mm[xxStart:xxStart+1000]) # Verify we have Ch. 20"
   ]
  },
  {
   "cell_type": "code",
   "execution_count": 34,
   "metadata": {},
   "outputs": [],
   "source": [
    "xx = mm[xxStart:xxEnd]"
   ]
  },
  {
   "cell_type": "code",
   "execution_count": 39,
   "metadata": {},
   "outputs": [],
   "source": [
    "xxParaLocations = [match.start() for match in re.finditer('\\n\\n+', mm)]\n",
    "xxParaLocations = [x for x in xxParaLocations if (x > xxStart) and (x < xxEnd)] "
   ]
  },
  {
   "cell_type": "code",
   "execution_count": 45,
   "metadata": {},
   "outputs": [
    {
     "data": {
      "text/plain": [
       "'\\n\\nBut this stupendous fragmentariness heightened the dreamlike\\nstrangeness of her bridal life.  Dorothea had now been five weeks in\\nRome, and in the kindly mornings when autumn and winter seemed to go\\nhand in hand like a happy aged couple one of whom would presently\\nsurvive in chiller loneliness, she had driven about at first with Mr.\\nCasaubon, but of late chiefly with Tantripp and their experienced\\ncourier.  She had been led through the best galleries, had been taken\\nto the chief points of view, had been shown the grandest ruins and the\\nmost glorious churches, and she had ended by oftenest choosing to drive\\nout to the Campagna where she could feel alone with the earth and sky,\\naway-from the oppressive masquerade of ages, in which her own life too\\nseemed to become a masque with enigmatical costumes.'"
      ]
     },
     "execution_count": 45,
     "metadata": {},
     "output_type": "execute_result"
    }
   ],
   "source": [
    "mm[xxParaLocations[4]:xxParaLocations[5]]"
   ]
  },
  {
   "cell_type": "code",
   "execution_count": 47,
   "metadata": {},
   "outputs": [
    {
     "data": {
      "text/plain": [
       "[[5809, 6218],\n",
       " [8751, 9046],\n",
       " [57013, 57100],\n",
       " [83868, 83999],\n",
       " [116900, 117594],\n",
       " [192301, 192441],\n",
       " [195148, 195661],\n",
       " [402604, 402726],\n",
       " [411725, 412177],\n",
       " [449403, 450049],\n",
       " [450145, 450244],\n",
       " [1575265, 1575374],\n",
       " [1576340, 1576437],\n",
       " [1648982, 1649704],\n",
       " [1688955, 1689089],\n",
       " [1689907, 1690307],\n",
       " [1708999, 1709342]]"
      ]
     },
     "execution_count": 47,
     "metadata": {},
     "output_type": "execute_result"
    }
   ],
   "source": [
    "articlesWithMatches['Locations in A'].loc[0]"
   ]
  },
  {
   "cell_type": "code",
   "execution_count": 48,
   "metadata": {},
   "outputs": [],
   "source": [
    "def inXX(matches): \n",
    "    \"\"\" Determine if the article has a match in Ch. 20\"\"\"\n",
    "    for match in matches: \n",
    "        if match[0] > xxStart and match[0] < xxEnd:\n",
    "            return True\n",
    "    return False"
   ]
  },
  {
   "cell_type": "code",
   "execution_count": 50,
   "metadata": {},
   "outputs": [
    {
     "data": {
      "text/plain": [
       "0        True\n",
       "10      False\n",
       "100     False\n",
       "1000    False\n",
       "1008    False\n",
       "Name: Locations in A, dtype: bool"
      ]
     },
     "execution_count": 50,
     "metadata": {},
     "output_type": "execute_result"
    }
   ],
   "source": [
    "articlesWithMatches['Locations in A'].apply(inXX).head()"
   ]
  },
  {
   "cell_type": "code",
   "execution_count": 66,
   "metadata": {},
   "outputs": [],
   "source": [
    "def paraIndicesIn20(matches, paraLocations=xxParaLocations): \n",
    "    \"\"\" Determine paragraph number (index) for match in Ch. 20. \"\"\"\n",
    "    paraIndices = []\n",
    "    if inXX(matches): \n",
    "        paraBoundaries = list(zip(paraLocations, paraLocations[1:]))\n",
    "        for match in matches: \n",
    "            for i, paraBoundary in enumerate(paraBoundaries): \n",
    "                if set(range(match[0], match[1])) & set(range(paraBoundary[0], paraBoundary[1])): # find the set intersection of the ranges of pairs\n",
    "                    paraIndices.append(i)\n",
    "                else: \n",
    "                    paraIndices.append(None)\n",
    "    return paraIndices\n",
    "                    \n",
    "                "
   ]
  },
  {
   "cell_type": "code",
   "execution_count": 67,
   "metadata": {},
   "outputs": [
    {
     "data": {
      "text/plain": [
       "1"
      ]
     },
     "execution_count": 67,
     "metadata": {},
     "output_type": "execute_result"
    }
   ],
   "source": [
    "len(set(range(8, 10)) & set(range(1, 9)))"
   ]
  },
  {
   "cell_type": "code",
   "execution_count": 70,
   "metadata": {},
   "outputs": [
    {
     "name": "stderr",
     "output_type": "stream",
     "text": [
      "/usr/lib/python3.7/site-packages/ipykernel_launcher.py:1: SettingWithCopyWarning: \n",
      "A value is trying to be set on a copy of a slice from a DataFrame.\n",
      "Try using .loc[row_indexer,col_indexer] = value instead\n",
      "\n",
      "See the caveats in the documentation: http://pandas.pydata.org/pandas-docs/stable/indexing.html#indexing-view-versus-copy\n",
      "  \"\"\"Entry point for launching an IPython kernel.\n"
     ]
    }
   ],
   "source": [
    "articlesWithMatches['paraIndicesIn20'] = articlesWithMatches['Locations in A'].apply(paraIndicesIn20)"
   ]
  },
  {
   "cell_type": "code",
   "execution_count": 85,
   "metadata": {},
   "outputs": [],
   "source": [
    "counters = list(articlesWithMatches['paraIndicesIn20'].apply(Counter))"
   ]
  },
  {
   "cell_type": "code",
   "execution_count": 88,
   "metadata": {},
   "outputs": [],
   "source": [
    "grandTally = Counter()"
   ]
  },
  {
   "cell_type": "code",
   "execution_count": 89,
   "metadata": {},
   "outputs": [],
   "source": [
    "for counter in counters: \n",
    "    grandTally += counter"
   ]
  },
  {
   "cell_type": "code",
   "execution_count": 93,
   "metadata": {},
   "outputs": [],
   "source": [
    "del grandTally[None]"
   ]
  },
  {
   "cell_type": "code",
   "execution_count": 100,
   "metadata": {},
   "outputs": [
    {
     "data": {
      "text/plain": [
       "{6: 32,\n",
       " 5: 34,\n",
       " 11: 6,\n",
       " 25: 1,\n",
       " 7: 6,\n",
       " 17: 4,\n",
       " 10: 17,\n",
       " 16: 9,\n",
       " 26: 5,\n",
       " 33: 5,\n",
       " 14: 1,\n",
       " 18: 3,\n",
       " 12: 1,\n",
       " 15: 1,\n",
       " 3: 3,\n",
       " 4: 4,\n",
       " 29: 2,\n",
       " 9: 1,\n",
       " 2: 1}"
      ]
     },
     "execution_count": 100,
     "metadata": {},
     "output_type": "execute_result"
    }
   ],
   "source": [
    "dict(grandTally)"
   ]
  },
  {
   "cell_type": "code",
   "execution_count": 103,
   "metadata": {},
   "outputs": [
    {
     "data": {
      "text/plain": [
       "<matplotlib.axes._subplots.AxesSubplot at 0x7f3b1a290a20>"
      ]
     },
     "execution_count": 103,
     "metadata": {},
     "output_type": "execute_result"
    },
    {
     "data": {
      "image/png": "[encoded data removed]",
      "text/plain": [
       "<Figure size 1152x432 with 1 Axes>"
      ]
     },
     "metadata": {},
     "output_type": "display_data"
    }
   ],
   "source": [
    "pd.Series(dict(grandTally)).sort_index().plot(kind='bar')"
   ]
  },
  {
   "cell_type": "code",
   "execution_count": 107,
   "metadata": {},
   "outputs": [
    {
     "name": "stdout",
     "output_type": "stream",
     "text": [
      "\n",
      "\n",
      "To those who have looked at Rome with the quickening power of a\n",
      "knowledge which breathes a growing soul into all historic shapes, and\n",
      "traces out the suppressed transitions which unite all contrasts, Rome\n",
      "may still be the spiritual centre and interpreter of the world.  But\n",
      "let them conceive one more historical contrast: the gigantic broken\n",
      "revelations of that Imperial and Papal city thrust abruptly on the\n",
      "notions of a girl who had been brought up in English and Swiss\n",
      "Puritanism, fed on meagre Protestant histories and on art chiefly of\n",
      "the hand-screen sort; a girl whose ardent nature turned all her small\n",
      "allowance of knowledge into principles, fusing her actions into their\n",
      "mould, and whose quick emotions gave the most abstract things the\n",
      "quality of a pleasure or a pain; a girl who had lately become a wife,\n",
      "and from the enthusiastic acceptance of untried duty found herself\n",
      "plunged in tumultuous preoccupation with her personal lot.  The weight\n",
      "of unintelligible Rome might lie easily on bright nymphs to whom it\n",
      "formed a background for the brilliant picnic of Anglo-foreign society;\n",
      "but Dorothea had no such defence against deep impressions.  Ruins and\n",
      "basilicas, palaces and colossi, set in the midst of a sordid present,\n",
      "where all that was living and warm-blooded seemed sunk in the deep\n",
      "degeneracy of a superstition divorced from reverence; the dimmer but\n",
      "yet eager Titanic life gazing and struggling on walls and ceilings; the\n",
      "long vistas of white forms whose marble eyes seemed to hold the\n",
      "monotonous light of an alien world: all this vast wreck of ambitious\n",
      "ideals, sensuous and spiritual, mixed confusedly with the signs of\n",
      "breathing forgetfulness and degradation, at first jarred her as with an\n",
      "electric shock, and then urged themselves on her with that ache\n",
      "belonging to a glut of confused ideas which check the flow of emotion.\n",
      "Forms both pale and glowing took possession of her young sense, and\n",
      "fixed themselves in her memory even when she was not thinking of them,\n",
      "preparing strange associations which remained through her after-years.\n",
      "Our moods are apt to bring with them images which succeed each other\n",
      "like the magic-lantern pictures of a doze; and in certain states of\n",
      "dull forlornness Dorothea all her life continued to see the vastness of\n",
      "St. Peter's, the huge bronze canopy, the excited intention in the\n",
      "attitudes and garments of the prophets and evangelists in the mosaics\n",
      "above, and the red drapery which was being hung for Christmas spreading\n",
      "itself everywhere like a disease of the retina.\n",
      "\n",
      "Not that this inward amazement of Dorothea's was anything very\n",
      "exceptional: many souls in their young nudity are tumbled out among\n",
      "incongruities and left to \"find their feet\" among them, while their\n",
      "elders go about their business.  Nor can I suppose that when Mrs.\n",
      "Casaubon is discovered in a fit of weeping six weeks after her wedding,\n",
      "the situation will be regarded as tragic.  Some discouragement, some\n",
      "faintness of heart at the new real future which replaces the imaginary,\n",
      "is not unusual, and we do not expect people to be deeply moved by what\n",
      "is not unusual.  That element of tragedy which lies in the very fact of\n",
      "frequency, has not yet wrought itself into the coarse emotion of\n",
      "mankind; and perhaps our frames could hardly bear much of it.  If we\n",
      "had a keen vision and feeling of all ordinary human life, it would be\n",
      "like hearing the grass grow and the squirrel's heart beat, and we\n",
      "should die of that roar which lies on the other side of silence.  As it\n",
      "is, the quickest of us walk about well wadded with stupidity.\n"
     ]
    }
   ],
   "source": [
    "print(mm[xxParaLocations[5]:xxParaLocations[7]]) # What are paragraphs #5 and #6? "
   ]
  },
  {
   "cell_type": "code",
   "execution_count": null,
   "metadata": {},
   "outputs": [],
   "source": []
  }
 ],
 "metadata": {
  "kernelspec": {
   "display_name": "Python 3",
   "language": "python",
   "name": "python3"
  },
  "language_info": {
   "codemirror_mode": {
    "name": "ipython",
    "version": 3
   },
   "file_extension": ".py",
   "mimetype": "text/x-python",
   "name": "python",
   "nbconvert_exporter": "python",
   "pygments_lexer": "ipython3",
   "version": "3.7.0"
  }
 },
 "nbformat": 4,
 "nbformat_minor": 2
}
